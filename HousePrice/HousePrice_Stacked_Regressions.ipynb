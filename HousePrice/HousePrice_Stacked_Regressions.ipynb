{
  "nbformat": 4,
  "nbformat_minor": 0,
  "metadata": {
    "colab": {
      "name": "HousePrice_Stacked Regressions.ipynb",
      "provenance": [],
      "collapsed_sections": []
    },
    "kernelspec": {
      "name": "python3",
      "display_name": "Python 3"
    }
  },
  "cells": [
    {
      "cell_type": "markdown",
      "metadata": {
        "id": "oLqtmbr1VaO9",
        "colab_type": "text"
      },
      "source": [
        "This notebook is from https://www.kaggle.com/serigne/stacked-regressions-top-4-on-leaderboard"
      ]
    },
    {
      "cell_type": "code",
      "metadata": {
        "id": "IeEV4FsfluKy",
        "colab_type": "code",
        "outputId": "8269acde-a4c5-4010-e7d0-c8f0fb9b5e02",
        "colab": {
          "base_uri": "https://localhost:8080/",
          "height": 55
        }
      },
      "source": [
        "from google.colab import drive\n",
        "drive.mount('/content/drive')"
      ],
      "execution_count": 142,
      "outputs": [
        {
          "output_type": "stream",
          "text": [
            "Drive already mounted at /content/drive; to attempt to forcibly remount, call drive.mount(\"/content/drive\", force_remount=True).\n"
          ],
          "name": "stdout"
        }
      ]
    },
    {
      "cell_type": "markdown",
      "metadata": {
        "id": "4CqVWfBzVp-O",
        "colab_type": "text"
      },
      "source": [
        "# Stacked Regressions\n"
      ]
    },
    {
      "cell_type": "code",
      "metadata": {
        "id": "Uns5DIETXgcM",
        "colab_type": "code",
        "colab": {}
      },
      "source": [
        "# 필요한 라이브러리 Import\n",
        "\n",
        "import numpy as np\n",
        "import pandas as pd\n",
        "%matplotlib inline\n",
        "import matplotlib.pyplot as plt\n",
        "import seaborn as sns\n",
        "color = sns.color_palette()\n",
        "sns.set_style('darkgrid')\n",
        "import warnings\n",
        "def ignore_warn(*args,**kwargs):\n",
        "  pass\n",
        "warnings.warn = ignore_warn # 경고 발생시 무시\n",
        "\n",
        "from scipy import stats\n",
        "from scipy.stats import norm, skew # 수치해석 기능(확률분포) 제공"
      ],
      "execution_count": 0,
      "outputs": []
    },
    {
      "cell_type": "code",
      "metadata": {
        "id": "md0oQzPMlLWV",
        "colab_type": "code",
        "colab": {}
      },
      "source": [
        "# Pandas DataFrame 불러오기\n",
        "train = pd.read_csv('/content/drive/My Drive/Colab Notebooks/data/Kaggle_data/home-data-for-ml-course/train.csv')\n",
        "test = pd.read_csv('/content/drive/My Drive/Colab Notebooks/data/Kaggle_data/home-data-for-ml-course/test.csv')"
      ],
      "execution_count": 0,
      "outputs": []
    },
    {
      "cell_type": "code",
      "metadata": {
        "id": "ul1O3nbroANe",
        "colab_type": "code",
        "outputId": "a4974a41-175d-4b85-a584-e9801a0f7796",
        "colab": {
          "base_uri": "https://localhost:8080/",
          "height": 243
        }
      },
      "source": [
        "train.head(5)"
      ],
      "execution_count": 145,
      "outputs": [
        {
          "output_type": "execute_result",
          "data": {
            "text/html": [
              "<div>\n",
              "<style scoped>\n",
              "    .dataframe tbody tr th:only-of-type {\n",
              "        vertical-align: middle;\n",
              "    }\n",
              "\n",
              "    .dataframe tbody tr th {\n",
              "        vertical-align: top;\n",
              "    }\n",
              "\n",
              "    .dataframe thead th {\n",
              "        text-align: right;\n",
              "    }\n",
              "</style>\n",
              "<table border=\"1\" class=\"dataframe\">\n",
              "  <thead>\n",
              "    <tr style=\"text-align: right;\">\n",
              "      <th></th>\n",
              "      <th>Id</th>\n",
              "      <th>MSSubClass</th>\n",
              "      <th>MSZoning</th>\n",
              "      <th>LotFrontage</th>\n",
              "      <th>LotArea</th>\n",
              "      <th>Street</th>\n",
              "      <th>Alley</th>\n",
              "      <th>LotShape</th>\n",
              "      <th>LandContour</th>\n",
              "      <th>Utilities</th>\n",
              "      <th>LotConfig</th>\n",
              "      <th>LandSlope</th>\n",
              "      <th>Neighborhood</th>\n",
              "      <th>Condition1</th>\n",
              "      <th>Condition2</th>\n",
              "      <th>BldgType</th>\n",
              "      <th>HouseStyle</th>\n",
              "      <th>OverallQual</th>\n",
              "      <th>OverallCond</th>\n",
              "      <th>YearBuilt</th>\n",
              "      <th>YearRemodAdd</th>\n",
              "      <th>RoofStyle</th>\n",
              "      <th>RoofMatl</th>\n",
              "      <th>Exterior1st</th>\n",
              "      <th>Exterior2nd</th>\n",
              "      <th>MasVnrType</th>\n",
              "      <th>MasVnrArea</th>\n",
              "      <th>ExterQual</th>\n",
              "      <th>ExterCond</th>\n",
              "      <th>Foundation</th>\n",
              "      <th>BsmtQual</th>\n",
              "      <th>BsmtCond</th>\n",
              "      <th>BsmtExposure</th>\n",
              "      <th>BsmtFinType1</th>\n",
              "      <th>BsmtFinSF1</th>\n",
              "      <th>BsmtFinType2</th>\n",
              "      <th>BsmtFinSF2</th>\n",
              "      <th>BsmtUnfSF</th>\n",
              "      <th>TotalBsmtSF</th>\n",
              "      <th>Heating</th>\n",
              "      <th>...</th>\n",
              "      <th>CentralAir</th>\n",
              "      <th>Electrical</th>\n",
              "      <th>1stFlrSF</th>\n",
              "      <th>2ndFlrSF</th>\n",
              "      <th>LowQualFinSF</th>\n",
              "      <th>GrLivArea</th>\n",
              "      <th>BsmtFullBath</th>\n",
              "      <th>BsmtHalfBath</th>\n",
              "      <th>FullBath</th>\n",
              "      <th>HalfBath</th>\n",
              "      <th>BedroomAbvGr</th>\n",
              "      <th>KitchenAbvGr</th>\n",
              "      <th>KitchenQual</th>\n",
              "      <th>TotRmsAbvGrd</th>\n",
              "      <th>Functional</th>\n",
              "      <th>Fireplaces</th>\n",
              "      <th>FireplaceQu</th>\n",
              "      <th>GarageType</th>\n",
              "      <th>GarageYrBlt</th>\n",
              "      <th>GarageFinish</th>\n",
              "      <th>GarageCars</th>\n",
              "      <th>GarageArea</th>\n",
              "      <th>GarageQual</th>\n",
              "      <th>GarageCond</th>\n",
              "      <th>PavedDrive</th>\n",
              "      <th>WoodDeckSF</th>\n",
              "      <th>OpenPorchSF</th>\n",
              "      <th>EnclosedPorch</th>\n",
              "      <th>3SsnPorch</th>\n",
              "      <th>ScreenPorch</th>\n",
              "      <th>PoolArea</th>\n",
              "      <th>PoolQC</th>\n",
              "      <th>Fence</th>\n",
              "      <th>MiscFeature</th>\n",
              "      <th>MiscVal</th>\n",
              "      <th>MoSold</th>\n",
              "      <th>YrSold</th>\n",
              "      <th>SaleType</th>\n",
              "      <th>SaleCondition</th>\n",
              "      <th>SalePrice</th>\n",
              "    </tr>\n",
              "  </thead>\n",
              "  <tbody>\n",
              "    <tr>\n",
              "      <th>0</th>\n",
              "      <td>1</td>\n",
              "      <td>60</td>\n",
              "      <td>RL</td>\n",
              "      <td>65.0</td>\n",
              "      <td>8450</td>\n",
              "      <td>Pave</td>\n",
              "      <td>NaN</td>\n",
              "      <td>Reg</td>\n",
              "      <td>Lvl</td>\n",
              "      <td>AllPub</td>\n",
              "      <td>Inside</td>\n",
              "      <td>Gtl</td>\n",
              "      <td>CollgCr</td>\n",
              "      <td>Norm</td>\n",
              "      <td>Norm</td>\n",
              "      <td>1Fam</td>\n",
              "      <td>2Story</td>\n",
              "      <td>7</td>\n",
              "      <td>5</td>\n",
              "      <td>2003</td>\n",
              "      <td>2003</td>\n",
              "      <td>Gable</td>\n",
              "      <td>CompShg</td>\n",
              "      <td>VinylSd</td>\n",
              "      <td>VinylSd</td>\n",
              "      <td>BrkFace</td>\n",
              "      <td>196.0</td>\n",
              "      <td>Gd</td>\n",
              "      <td>TA</td>\n",
              "      <td>PConc</td>\n",
              "      <td>Gd</td>\n",
              "      <td>TA</td>\n",
              "      <td>No</td>\n",
              "      <td>GLQ</td>\n",
              "      <td>706</td>\n",
              "      <td>Unf</td>\n",
              "      <td>0</td>\n",
              "      <td>150</td>\n",
              "      <td>856</td>\n",
              "      <td>GasA</td>\n",
              "      <td>...</td>\n",
              "      <td>Y</td>\n",
              "      <td>SBrkr</td>\n",
              "      <td>856</td>\n",
              "      <td>854</td>\n",
              "      <td>0</td>\n",
              "      <td>1710</td>\n",
              "      <td>1</td>\n",
              "      <td>0</td>\n",
              "      <td>2</td>\n",
              "      <td>1</td>\n",
              "      <td>3</td>\n",
              "      <td>1</td>\n",
              "      <td>Gd</td>\n",
              "      <td>8</td>\n",
              "      <td>Typ</td>\n",
              "      <td>0</td>\n",
              "      <td>NaN</td>\n",
              "      <td>Attchd</td>\n",
              "      <td>2003.0</td>\n",
              "      <td>RFn</td>\n",
              "      <td>2</td>\n",
              "      <td>548</td>\n",
              "      <td>TA</td>\n",
              "      <td>TA</td>\n",
              "      <td>Y</td>\n",
              "      <td>0</td>\n",
              "      <td>61</td>\n",
              "      <td>0</td>\n",
              "      <td>0</td>\n",
              "      <td>0</td>\n",
              "      <td>0</td>\n",
              "      <td>NaN</td>\n",
              "      <td>NaN</td>\n",
              "      <td>NaN</td>\n",
              "      <td>0</td>\n",
              "      <td>2</td>\n",
              "      <td>2008</td>\n",
              "      <td>WD</td>\n",
              "      <td>Normal</td>\n",
              "      <td>208500</td>\n",
              "    </tr>\n",
              "    <tr>\n",
              "      <th>1</th>\n",
              "      <td>2</td>\n",
              "      <td>20</td>\n",
              "      <td>RL</td>\n",
              "      <td>80.0</td>\n",
              "      <td>9600</td>\n",
              "      <td>Pave</td>\n",
              "      <td>NaN</td>\n",
              "      <td>Reg</td>\n",
              "      <td>Lvl</td>\n",
              "      <td>AllPub</td>\n",
              "      <td>FR2</td>\n",
              "      <td>Gtl</td>\n",
              "      <td>Veenker</td>\n",
              "      <td>Feedr</td>\n",
              "      <td>Norm</td>\n",
              "      <td>1Fam</td>\n",
              "      <td>1Story</td>\n",
              "      <td>6</td>\n",
              "      <td>8</td>\n",
              "      <td>1976</td>\n",
              "      <td>1976</td>\n",
              "      <td>Gable</td>\n",
              "      <td>CompShg</td>\n",
              "      <td>MetalSd</td>\n",
              "      <td>MetalSd</td>\n",
              "      <td>None</td>\n",
              "      <td>0.0</td>\n",
              "      <td>TA</td>\n",
              "      <td>TA</td>\n",
              "      <td>CBlock</td>\n",
              "      <td>Gd</td>\n",
              "      <td>TA</td>\n",
              "      <td>Gd</td>\n",
              "      <td>ALQ</td>\n",
              "      <td>978</td>\n",
              "      <td>Unf</td>\n",
              "      <td>0</td>\n",
              "      <td>284</td>\n",
              "      <td>1262</td>\n",
              "      <td>GasA</td>\n",
              "      <td>...</td>\n",
              "      <td>Y</td>\n",
              "      <td>SBrkr</td>\n",
              "      <td>1262</td>\n",
              "      <td>0</td>\n",
              "      <td>0</td>\n",
              "      <td>1262</td>\n",
              "      <td>0</td>\n",
              "      <td>1</td>\n",
              "      <td>2</td>\n",
              "      <td>0</td>\n",
              "      <td>3</td>\n",
              "      <td>1</td>\n",
              "      <td>TA</td>\n",
              "      <td>6</td>\n",
              "      <td>Typ</td>\n",
              "      <td>1</td>\n",
              "      <td>TA</td>\n",
              "      <td>Attchd</td>\n",
              "      <td>1976.0</td>\n",
              "      <td>RFn</td>\n",
              "      <td>2</td>\n",
              "      <td>460</td>\n",
              "      <td>TA</td>\n",
              "      <td>TA</td>\n",
              "      <td>Y</td>\n",
              "      <td>298</td>\n",
              "      <td>0</td>\n",
              "      <td>0</td>\n",
              "      <td>0</td>\n",
              "      <td>0</td>\n",
              "      <td>0</td>\n",
              "      <td>NaN</td>\n",
              "      <td>NaN</td>\n",
              "      <td>NaN</td>\n",
              "      <td>0</td>\n",
              "      <td>5</td>\n",
              "      <td>2007</td>\n",
              "      <td>WD</td>\n",
              "      <td>Normal</td>\n",
              "      <td>181500</td>\n",
              "    </tr>\n",
              "    <tr>\n",
              "      <th>2</th>\n",
              "      <td>3</td>\n",
              "      <td>60</td>\n",
              "      <td>RL</td>\n",
              "      <td>68.0</td>\n",
              "      <td>11250</td>\n",
              "      <td>Pave</td>\n",
              "      <td>NaN</td>\n",
              "      <td>IR1</td>\n",
              "      <td>Lvl</td>\n",
              "      <td>AllPub</td>\n",
              "      <td>Inside</td>\n",
              "      <td>Gtl</td>\n",
              "      <td>CollgCr</td>\n",
              "      <td>Norm</td>\n",
              "      <td>Norm</td>\n",
              "      <td>1Fam</td>\n",
              "      <td>2Story</td>\n",
              "      <td>7</td>\n",
              "      <td>5</td>\n",
              "      <td>2001</td>\n",
              "      <td>2002</td>\n",
              "      <td>Gable</td>\n",
              "      <td>CompShg</td>\n",
              "      <td>VinylSd</td>\n",
              "      <td>VinylSd</td>\n",
              "      <td>BrkFace</td>\n",
              "      <td>162.0</td>\n",
              "      <td>Gd</td>\n",
              "      <td>TA</td>\n",
              "      <td>PConc</td>\n",
              "      <td>Gd</td>\n",
              "      <td>TA</td>\n",
              "      <td>Mn</td>\n",
              "      <td>GLQ</td>\n",
              "      <td>486</td>\n",
              "      <td>Unf</td>\n",
              "      <td>0</td>\n",
              "      <td>434</td>\n",
              "      <td>920</td>\n",
              "      <td>GasA</td>\n",
              "      <td>...</td>\n",
              "      <td>Y</td>\n",
              "      <td>SBrkr</td>\n",
              "      <td>920</td>\n",
              "      <td>866</td>\n",
              "      <td>0</td>\n",
              "      <td>1786</td>\n",
              "      <td>1</td>\n",
              "      <td>0</td>\n",
              "      <td>2</td>\n",
              "      <td>1</td>\n",
              "      <td>3</td>\n",
              "      <td>1</td>\n",
              "      <td>Gd</td>\n",
              "      <td>6</td>\n",
              "      <td>Typ</td>\n",
              "      <td>1</td>\n",
              "      <td>TA</td>\n",
              "      <td>Attchd</td>\n",
              "      <td>2001.0</td>\n",
              "      <td>RFn</td>\n",
              "      <td>2</td>\n",
              "      <td>608</td>\n",
              "      <td>TA</td>\n",
              "      <td>TA</td>\n",
              "      <td>Y</td>\n",
              "      <td>0</td>\n",
              "      <td>42</td>\n",
              "      <td>0</td>\n",
              "      <td>0</td>\n",
              "      <td>0</td>\n",
              "      <td>0</td>\n",
              "      <td>NaN</td>\n",
              "      <td>NaN</td>\n",
              "      <td>NaN</td>\n",
              "      <td>0</td>\n",
              "      <td>9</td>\n",
              "      <td>2008</td>\n",
              "      <td>WD</td>\n",
              "      <td>Normal</td>\n",
              "      <td>223500</td>\n",
              "    </tr>\n",
              "    <tr>\n",
              "      <th>3</th>\n",
              "      <td>4</td>\n",
              "      <td>70</td>\n",
              "      <td>RL</td>\n",
              "      <td>60.0</td>\n",
              "      <td>9550</td>\n",
              "      <td>Pave</td>\n",
              "      <td>NaN</td>\n",
              "      <td>IR1</td>\n",
              "      <td>Lvl</td>\n",
              "      <td>AllPub</td>\n",
              "      <td>Corner</td>\n",
              "      <td>Gtl</td>\n",
              "      <td>Crawfor</td>\n",
              "      <td>Norm</td>\n",
              "      <td>Norm</td>\n",
              "      <td>1Fam</td>\n",
              "      <td>2Story</td>\n",
              "      <td>7</td>\n",
              "      <td>5</td>\n",
              "      <td>1915</td>\n",
              "      <td>1970</td>\n",
              "      <td>Gable</td>\n",
              "      <td>CompShg</td>\n",
              "      <td>Wd Sdng</td>\n",
              "      <td>Wd Shng</td>\n",
              "      <td>None</td>\n",
              "      <td>0.0</td>\n",
              "      <td>TA</td>\n",
              "      <td>TA</td>\n",
              "      <td>BrkTil</td>\n",
              "      <td>TA</td>\n",
              "      <td>Gd</td>\n",
              "      <td>No</td>\n",
              "      <td>ALQ</td>\n",
              "      <td>216</td>\n",
              "      <td>Unf</td>\n",
              "      <td>0</td>\n",
              "      <td>540</td>\n",
              "      <td>756</td>\n",
              "      <td>GasA</td>\n",
              "      <td>...</td>\n",
              "      <td>Y</td>\n",
              "      <td>SBrkr</td>\n",
              "      <td>961</td>\n",
              "      <td>756</td>\n",
              "      <td>0</td>\n",
              "      <td>1717</td>\n",
              "      <td>1</td>\n",
              "      <td>0</td>\n",
              "      <td>1</td>\n",
              "      <td>0</td>\n",
              "      <td>3</td>\n",
              "      <td>1</td>\n",
              "      <td>Gd</td>\n",
              "      <td>7</td>\n",
              "      <td>Typ</td>\n",
              "      <td>1</td>\n",
              "      <td>Gd</td>\n",
              "      <td>Detchd</td>\n",
              "      <td>1998.0</td>\n",
              "      <td>Unf</td>\n",
              "      <td>3</td>\n",
              "      <td>642</td>\n",
              "      <td>TA</td>\n",
              "      <td>TA</td>\n",
              "      <td>Y</td>\n",
              "      <td>0</td>\n",
              "      <td>35</td>\n",
              "      <td>272</td>\n",
              "      <td>0</td>\n",
              "      <td>0</td>\n",
              "      <td>0</td>\n",
              "      <td>NaN</td>\n",
              "      <td>NaN</td>\n",
              "      <td>NaN</td>\n",
              "      <td>0</td>\n",
              "      <td>2</td>\n",
              "      <td>2006</td>\n",
              "      <td>WD</td>\n",
              "      <td>Abnorml</td>\n",
              "      <td>140000</td>\n",
              "    </tr>\n",
              "    <tr>\n",
              "      <th>4</th>\n",
              "      <td>5</td>\n",
              "      <td>60</td>\n",
              "      <td>RL</td>\n",
              "      <td>84.0</td>\n",
              "      <td>14260</td>\n",
              "      <td>Pave</td>\n",
              "      <td>NaN</td>\n",
              "      <td>IR1</td>\n",
              "      <td>Lvl</td>\n",
              "      <td>AllPub</td>\n",
              "      <td>FR2</td>\n",
              "      <td>Gtl</td>\n",
              "      <td>NoRidge</td>\n",
              "      <td>Norm</td>\n",
              "      <td>Norm</td>\n",
              "      <td>1Fam</td>\n",
              "      <td>2Story</td>\n",
              "      <td>8</td>\n",
              "      <td>5</td>\n",
              "      <td>2000</td>\n",
              "      <td>2000</td>\n",
              "      <td>Gable</td>\n",
              "      <td>CompShg</td>\n",
              "      <td>VinylSd</td>\n",
              "      <td>VinylSd</td>\n",
              "      <td>BrkFace</td>\n",
              "      <td>350.0</td>\n",
              "      <td>Gd</td>\n",
              "      <td>TA</td>\n",
              "      <td>PConc</td>\n",
              "      <td>Gd</td>\n",
              "      <td>TA</td>\n",
              "      <td>Av</td>\n",
              "      <td>GLQ</td>\n",
              "      <td>655</td>\n",
              "      <td>Unf</td>\n",
              "      <td>0</td>\n",
              "      <td>490</td>\n",
              "      <td>1145</td>\n",
              "      <td>GasA</td>\n",
              "      <td>...</td>\n",
              "      <td>Y</td>\n",
              "      <td>SBrkr</td>\n",
              "      <td>1145</td>\n",
              "      <td>1053</td>\n",
              "      <td>0</td>\n",
              "      <td>2198</td>\n",
              "      <td>1</td>\n",
              "      <td>0</td>\n",
              "      <td>2</td>\n",
              "      <td>1</td>\n",
              "      <td>4</td>\n",
              "      <td>1</td>\n",
              "      <td>Gd</td>\n",
              "      <td>9</td>\n",
              "      <td>Typ</td>\n",
              "      <td>1</td>\n",
              "      <td>TA</td>\n",
              "      <td>Attchd</td>\n",
              "      <td>2000.0</td>\n",
              "      <td>RFn</td>\n",
              "      <td>3</td>\n",
              "      <td>836</td>\n",
              "      <td>TA</td>\n",
              "      <td>TA</td>\n",
              "      <td>Y</td>\n",
              "      <td>192</td>\n",
              "      <td>84</td>\n",
              "      <td>0</td>\n",
              "      <td>0</td>\n",
              "      <td>0</td>\n",
              "      <td>0</td>\n",
              "      <td>NaN</td>\n",
              "      <td>NaN</td>\n",
              "      <td>NaN</td>\n",
              "      <td>0</td>\n",
              "      <td>12</td>\n",
              "      <td>2008</td>\n",
              "      <td>WD</td>\n",
              "      <td>Normal</td>\n",
              "      <td>250000</td>\n",
              "    </tr>\n",
              "  </tbody>\n",
              "</table>\n",
              "<p>5 rows × 81 columns</p>\n",
              "</div>"
            ],
            "text/plain": [
              "   Id  MSSubClass MSZoning  ...  SaleType  SaleCondition SalePrice\n",
              "0   1          60       RL  ...        WD         Normal    208500\n",
              "1   2          20       RL  ...        WD         Normal    181500\n",
              "2   3          60       RL  ...        WD         Normal    223500\n",
              "3   4          70       RL  ...        WD        Abnorml    140000\n",
              "4   5          60       RL  ...        WD         Normal    250000\n",
              "\n",
              "[5 rows x 81 columns]"
            ]
          },
          "metadata": {
            "tags": []
          },
          "execution_count": 145
        }
      ]
    },
    {
      "cell_type": "code",
      "metadata": {
        "id": "tisuAyWroBOW",
        "colab_type": "code",
        "outputId": "8370dc5d-fd0c-4d6a-93a3-c7eece88b4fc",
        "colab": {
          "base_uri": "https://localhost:8080/",
          "height": 214
        }
      },
      "source": [
        "test.head(5) # 5x80"
      ],
      "execution_count": 146,
      "outputs": [
        {
          "output_type": "execute_result",
          "data": {
            "text/html": [
              "<div>\n",
              "<style scoped>\n",
              "    .dataframe tbody tr th:only-of-type {\n",
              "        vertical-align: middle;\n",
              "    }\n",
              "\n",
              "    .dataframe tbody tr th {\n",
              "        vertical-align: top;\n",
              "    }\n",
              "\n",
              "    .dataframe thead th {\n",
              "        text-align: right;\n",
              "    }\n",
              "</style>\n",
              "<table border=\"1\" class=\"dataframe\">\n",
              "  <thead>\n",
              "    <tr style=\"text-align: right;\">\n",
              "      <th></th>\n",
              "      <th>Id</th>\n",
              "      <th>MSSubClass</th>\n",
              "      <th>MSZoning</th>\n",
              "      <th>LotFrontage</th>\n",
              "      <th>LotArea</th>\n",
              "      <th>Street</th>\n",
              "      <th>Alley</th>\n",
              "      <th>LotShape</th>\n",
              "      <th>LandContour</th>\n",
              "      <th>Utilities</th>\n",
              "      <th>LotConfig</th>\n",
              "      <th>LandSlope</th>\n",
              "      <th>Neighborhood</th>\n",
              "      <th>Condition1</th>\n",
              "      <th>Condition2</th>\n",
              "      <th>BldgType</th>\n",
              "      <th>HouseStyle</th>\n",
              "      <th>OverallQual</th>\n",
              "      <th>OverallCond</th>\n",
              "      <th>YearBuilt</th>\n",
              "      <th>YearRemodAdd</th>\n",
              "      <th>RoofStyle</th>\n",
              "      <th>RoofMatl</th>\n",
              "      <th>Exterior1st</th>\n",
              "      <th>Exterior2nd</th>\n",
              "      <th>MasVnrType</th>\n",
              "      <th>MasVnrArea</th>\n",
              "      <th>ExterQual</th>\n",
              "      <th>ExterCond</th>\n",
              "      <th>Foundation</th>\n",
              "      <th>BsmtQual</th>\n",
              "      <th>BsmtCond</th>\n",
              "      <th>BsmtExposure</th>\n",
              "      <th>BsmtFinType1</th>\n",
              "      <th>BsmtFinSF1</th>\n",
              "      <th>BsmtFinType2</th>\n",
              "      <th>BsmtFinSF2</th>\n",
              "      <th>BsmtUnfSF</th>\n",
              "      <th>TotalBsmtSF</th>\n",
              "      <th>Heating</th>\n",
              "      <th>HeatingQC</th>\n",
              "      <th>CentralAir</th>\n",
              "      <th>Electrical</th>\n",
              "      <th>1stFlrSF</th>\n",
              "      <th>2ndFlrSF</th>\n",
              "      <th>LowQualFinSF</th>\n",
              "      <th>GrLivArea</th>\n",
              "      <th>BsmtFullBath</th>\n",
              "      <th>BsmtHalfBath</th>\n",
              "      <th>FullBath</th>\n",
              "      <th>HalfBath</th>\n",
              "      <th>BedroomAbvGr</th>\n",
              "      <th>KitchenAbvGr</th>\n",
              "      <th>KitchenQual</th>\n",
              "      <th>TotRmsAbvGrd</th>\n",
              "      <th>Functional</th>\n",
              "      <th>Fireplaces</th>\n",
              "      <th>FireplaceQu</th>\n",
              "      <th>GarageType</th>\n",
              "      <th>GarageYrBlt</th>\n",
              "      <th>GarageFinish</th>\n",
              "      <th>GarageCars</th>\n",
              "      <th>GarageArea</th>\n",
              "      <th>GarageQual</th>\n",
              "      <th>GarageCond</th>\n",
              "      <th>PavedDrive</th>\n",
              "      <th>WoodDeckSF</th>\n",
              "      <th>OpenPorchSF</th>\n",
              "      <th>EnclosedPorch</th>\n",
              "      <th>3SsnPorch</th>\n",
              "      <th>ScreenPorch</th>\n",
              "      <th>PoolArea</th>\n",
              "      <th>PoolQC</th>\n",
              "      <th>Fence</th>\n",
              "      <th>MiscFeature</th>\n",
              "      <th>MiscVal</th>\n",
              "      <th>MoSold</th>\n",
              "      <th>YrSold</th>\n",
              "      <th>SaleType</th>\n",
              "      <th>SaleCondition</th>\n",
              "    </tr>\n",
              "  </thead>\n",
              "  <tbody>\n",
              "    <tr>\n",
              "      <th>0</th>\n",
              "      <td>1461</td>\n",
              "      <td>20</td>\n",
              "      <td>RH</td>\n",
              "      <td>80.0</td>\n",
              "      <td>11622</td>\n",
              "      <td>Pave</td>\n",
              "      <td>NaN</td>\n",
              "      <td>Reg</td>\n",
              "      <td>Lvl</td>\n",
              "      <td>AllPub</td>\n",
              "      <td>Inside</td>\n",
              "      <td>Gtl</td>\n",
              "      <td>NAmes</td>\n",
              "      <td>Feedr</td>\n",
              "      <td>Norm</td>\n",
              "      <td>1Fam</td>\n",
              "      <td>1Story</td>\n",
              "      <td>5</td>\n",
              "      <td>6</td>\n",
              "      <td>1961</td>\n",
              "      <td>1961</td>\n",
              "      <td>Gable</td>\n",
              "      <td>CompShg</td>\n",
              "      <td>VinylSd</td>\n",
              "      <td>VinylSd</td>\n",
              "      <td>None</td>\n",
              "      <td>0.0</td>\n",
              "      <td>TA</td>\n",
              "      <td>TA</td>\n",
              "      <td>CBlock</td>\n",
              "      <td>TA</td>\n",
              "      <td>TA</td>\n",
              "      <td>No</td>\n",
              "      <td>Rec</td>\n",
              "      <td>468.0</td>\n",
              "      <td>LwQ</td>\n",
              "      <td>144.0</td>\n",
              "      <td>270.0</td>\n",
              "      <td>882.0</td>\n",
              "      <td>GasA</td>\n",
              "      <td>TA</td>\n",
              "      <td>Y</td>\n",
              "      <td>SBrkr</td>\n",
              "      <td>896</td>\n",
              "      <td>0</td>\n",
              "      <td>0</td>\n",
              "      <td>896</td>\n",
              "      <td>0.0</td>\n",
              "      <td>0.0</td>\n",
              "      <td>1</td>\n",
              "      <td>0</td>\n",
              "      <td>2</td>\n",
              "      <td>1</td>\n",
              "      <td>TA</td>\n",
              "      <td>5</td>\n",
              "      <td>Typ</td>\n",
              "      <td>0</td>\n",
              "      <td>NaN</td>\n",
              "      <td>Attchd</td>\n",
              "      <td>1961.0</td>\n",
              "      <td>Unf</td>\n",
              "      <td>1.0</td>\n",
              "      <td>730.0</td>\n",
              "      <td>TA</td>\n",
              "      <td>TA</td>\n",
              "      <td>Y</td>\n",
              "      <td>140</td>\n",
              "      <td>0</td>\n",
              "      <td>0</td>\n",
              "      <td>0</td>\n",
              "      <td>120</td>\n",
              "      <td>0</td>\n",
              "      <td>NaN</td>\n",
              "      <td>MnPrv</td>\n",
              "      <td>NaN</td>\n",
              "      <td>0</td>\n",
              "      <td>6</td>\n",
              "      <td>2010</td>\n",
              "      <td>WD</td>\n",
              "      <td>Normal</td>\n",
              "    </tr>\n",
              "    <tr>\n",
              "      <th>1</th>\n",
              "      <td>1462</td>\n",
              "      <td>20</td>\n",
              "      <td>RL</td>\n",
              "      <td>81.0</td>\n",
              "      <td>14267</td>\n",
              "      <td>Pave</td>\n",
              "      <td>NaN</td>\n",
              "      <td>IR1</td>\n",
              "      <td>Lvl</td>\n",
              "      <td>AllPub</td>\n",
              "      <td>Corner</td>\n",
              "      <td>Gtl</td>\n",
              "      <td>NAmes</td>\n",
              "      <td>Norm</td>\n",
              "      <td>Norm</td>\n",
              "      <td>1Fam</td>\n",
              "      <td>1Story</td>\n",
              "      <td>6</td>\n",
              "      <td>6</td>\n",
              "      <td>1958</td>\n",
              "      <td>1958</td>\n",
              "      <td>Hip</td>\n",
              "      <td>CompShg</td>\n",
              "      <td>Wd Sdng</td>\n",
              "      <td>Wd Sdng</td>\n",
              "      <td>BrkFace</td>\n",
              "      <td>108.0</td>\n",
              "      <td>TA</td>\n",
              "      <td>TA</td>\n",
              "      <td>CBlock</td>\n",
              "      <td>TA</td>\n",
              "      <td>TA</td>\n",
              "      <td>No</td>\n",
              "      <td>ALQ</td>\n",
              "      <td>923.0</td>\n",
              "      <td>Unf</td>\n",
              "      <td>0.0</td>\n",
              "      <td>406.0</td>\n",
              "      <td>1329.0</td>\n",
              "      <td>GasA</td>\n",
              "      <td>TA</td>\n",
              "      <td>Y</td>\n",
              "      <td>SBrkr</td>\n",
              "      <td>1329</td>\n",
              "      <td>0</td>\n",
              "      <td>0</td>\n",
              "      <td>1329</td>\n",
              "      <td>0.0</td>\n",
              "      <td>0.0</td>\n",
              "      <td>1</td>\n",
              "      <td>1</td>\n",
              "      <td>3</td>\n",
              "      <td>1</td>\n",
              "      <td>Gd</td>\n",
              "      <td>6</td>\n",
              "      <td>Typ</td>\n",
              "      <td>0</td>\n",
              "      <td>NaN</td>\n",
              "      <td>Attchd</td>\n",
              "      <td>1958.0</td>\n",
              "      <td>Unf</td>\n",
              "      <td>1.0</td>\n",
              "      <td>312.0</td>\n",
              "      <td>TA</td>\n",
              "      <td>TA</td>\n",
              "      <td>Y</td>\n",
              "      <td>393</td>\n",
              "      <td>36</td>\n",
              "      <td>0</td>\n",
              "      <td>0</td>\n",
              "      <td>0</td>\n",
              "      <td>0</td>\n",
              "      <td>NaN</td>\n",
              "      <td>NaN</td>\n",
              "      <td>Gar2</td>\n",
              "      <td>12500</td>\n",
              "      <td>6</td>\n",
              "      <td>2010</td>\n",
              "      <td>WD</td>\n",
              "      <td>Normal</td>\n",
              "    </tr>\n",
              "    <tr>\n",
              "      <th>2</th>\n",
              "      <td>1463</td>\n",
              "      <td>60</td>\n",
              "      <td>RL</td>\n",
              "      <td>74.0</td>\n",
              "      <td>13830</td>\n",
              "      <td>Pave</td>\n",
              "      <td>NaN</td>\n",
              "      <td>IR1</td>\n",
              "      <td>Lvl</td>\n",
              "      <td>AllPub</td>\n",
              "      <td>Inside</td>\n",
              "      <td>Gtl</td>\n",
              "      <td>Gilbert</td>\n",
              "      <td>Norm</td>\n",
              "      <td>Norm</td>\n",
              "      <td>1Fam</td>\n",
              "      <td>2Story</td>\n",
              "      <td>5</td>\n",
              "      <td>5</td>\n",
              "      <td>1997</td>\n",
              "      <td>1998</td>\n",
              "      <td>Gable</td>\n",
              "      <td>CompShg</td>\n",
              "      <td>VinylSd</td>\n",
              "      <td>VinylSd</td>\n",
              "      <td>None</td>\n",
              "      <td>0.0</td>\n",
              "      <td>TA</td>\n",
              "      <td>TA</td>\n",
              "      <td>PConc</td>\n",
              "      <td>Gd</td>\n",
              "      <td>TA</td>\n",
              "      <td>No</td>\n",
              "      <td>GLQ</td>\n",
              "      <td>791.0</td>\n",
              "      <td>Unf</td>\n",
              "      <td>0.0</td>\n",
              "      <td>137.0</td>\n",
              "      <td>928.0</td>\n",
              "      <td>GasA</td>\n",
              "      <td>Gd</td>\n",
              "      <td>Y</td>\n",
              "      <td>SBrkr</td>\n",
              "      <td>928</td>\n",
              "      <td>701</td>\n",
              "      <td>0</td>\n",
              "      <td>1629</td>\n",
              "      <td>0.0</td>\n",
              "      <td>0.0</td>\n",
              "      <td>2</td>\n",
              "      <td>1</td>\n",
              "      <td>3</td>\n",
              "      <td>1</td>\n",
              "      <td>TA</td>\n",
              "      <td>6</td>\n",
              "      <td>Typ</td>\n",
              "      <td>1</td>\n",
              "      <td>TA</td>\n",
              "      <td>Attchd</td>\n",
              "      <td>1997.0</td>\n",
              "      <td>Fin</td>\n",
              "      <td>2.0</td>\n",
              "      <td>482.0</td>\n",
              "      <td>TA</td>\n",
              "      <td>TA</td>\n",
              "      <td>Y</td>\n",
              "      <td>212</td>\n",
              "      <td>34</td>\n",
              "      <td>0</td>\n",
              "      <td>0</td>\n",
              "      <td>0</td>\n",
              "      <td>0</td>\n",
              "      <td>NaN</td>\n",
              "      <td>MnPrv</td>\n",
              "      <td>NaN</td>\n",
              "      <td>0</td>\n",
              "      <td>3</td>\n",
              "      <td>2010</td>\n",
              "      <td>WD</td>\n",
              "      <td>Normal</td>\n",
              "    </tr>\n",
              "    <tr>\n",
              "      <th>3</th>\n",
              "      <td>1464</td>\n",
              "      <td>60</td>\n",
              "      <td>RL</td>\n",
              "      <td>78.0</td>\n",
              "      <td>9978</td>\n",
              "      <td>Pave</td>\n",
              "      <td>NaN</td>\n",
              "      <td>IR1</td>\n",
              "      <td>Lvl</td>\n",
              "      <td>AllPub</td>\n",
              "      <td>Inside</td>\n",
              "      <td>Gtl</td>\n",
              "      <td>Gilbert</td>\n",
              "      <td>Norm</td>\n",
              "      <td>Norm</td>\n",
              "      <td>1Fam</td>\n",
              "      <td>2Story</td>\n",
              "      <td>6</td>\n",
              "      <td>6</td>\n",
              "      <td>1998</td>\n",
              "      <td>1998</td>\n",
              "      <td>Gable</td>\n",
              "      <td>CompShg</td>\n",
              "      <td>VinylSd</td>\n",
              "      <td>VinylSd</td>\n",
              "      <td>BrkFace</td>\n",
              "      <td>20.0</td>\n",
              "      <td>TA</td>\n",
              "      <td>TA</td>\n",
              "      <td>PConc</td>\n",
              "      <td>TA</td>\n",
              "      <td>TA</td>\n",
              "      <td>No</td>\n",
              "      <td>GLQ</td>\n",
              "      <td>602.0</td>\n",
              "      <td>Unf</td>\n",
              "      <td>0.0</td>\n",
              "      <td>324.0</td>\n",
              "      <td>926.0</td>\n",
              "      <td>GasA</td>\n",
              "      <td>Ex</td>\n",
              "      <td>Y</td>\n",
              "      <td>SBrkr</td>\n",
              "      <td>926</td>\n",
              "      <td>678</td>\n",
              "      <td>0</td>\n",
              "      <td>1604</td>\n",
              "      <td>0.0</td>\n",
              "      <td>0.0</td>\n",
              "      <td>2</td>\n",
              "      <td>1</td>\n",
              "      <td>3</td>\n",
              "      <td>1</td>\n",
              "      <td>Gd</td>\n",
              "      <td>7</td>\n",
              "      <td>Typ</td>\n",
              "      <td>1</td>\n",
              "      <td>Gd</td>\n",
              "      <td>Attchd</td>\n",
              "      <td>1998.0</td>\n",
              "      <td>Fin</td>\n",
              "      <td>2.0</td>\n",
              "      <td>470.0</td>\n",
              "      <td>TA</td>\n",
              "      <td>TA</td>\n",
              "      <td>Y</td>\n",
              "      <td>360</td>\n",
              "      <td>36</td>\n",
              "      <td>0</td>\n",
              "      <td>0</td>\n",
              "      <td>0</td>\n",
              "      <td>0</td>\n",
              "      <td>NaN</td>\n",
              "      <td>NaN</td>\n",
              "      <td>NaN</td>\n",
              "      <td>0</td>\n",
              "      <td>6</td>\n",
              "      <td>2010</td>\n",
              "      <td>WD</td>\n",
              "      <td>Normal</td>\n",
              "    </tr>\n",
              "    <tr>\n",
              "      <th>4</th>\n",
              "      <td>1465</td>\n",
              "      <td>120</td>\n",
              "      <td>RL</td>\n",
              "      <td>43.0</td>\n",
              "      <td>5005</td>\n",
              "      <td>Pave</td>\n",
              "      <td>NaN</td>\n",
              "      <td>IR1</td>\n",
              "      <td>HLS</td>\n",
              "      <td>AllPub</td>\n",
              "      <td>Inside</td>\n",
              "      <td>Gtl</td>\n",
              "      <td>StoneBr</td>\n",
              "      <td>Norm</td>\n",
              "      <td>Norm</td>\n",
              "      <td>TwnhsE</td>\n",
              "      <td>1Story</td>\n",
              "      <td>8</td>\n",
              "      <td>5</td>\n",
              "      <td>1992</td>\n",
              "      <td>1992</td>\n",
              "      <td>Gable</td>\n",
              "      <td>CompShg</td>\n",
              "      <td>HdBoard</td>\n",
              "      <td>HdBoard</td>\n",
              "      <td>None</td>\n",
              "      <td>0.0</td>\n",
              "      <td>Gd</td>\n",
              "      <td>TA</td>\n",
              "      <td>PConc</td>\n",
              "      <td>Gd</td>\n",
              "      <td>TA</td>\n",
              "      <td>No</td>\n",
              "      <td>ALQ</td>\n",
              "      <td>263.0</td>\n",
              "      <td>Unf</td>\n",
              "      <td>0.0</td>\n",
              "      <td>1017.0</td>\n",
              "      <td>1280.0</td>\n",
              "      <td>GasA</td>\n",
              "      <td>Ex</td>\n",
              "      <td>Y</td>\n",
              "      <td>SBrkr</td>\n",
              "      <td>1280</td>\n",
              "      <td>0</td>\n",
              "      <td>0</td>\n",
              "      <td>1280</td>\n",
              "      <td>0.0</td>\n",
              "      <td>0.0</td>\n",
              "      <td>2</td>\n",
              "      <td>0</td>\n",
              "      <td>2</td>\n",
              "      <td>1</td>\n",
              "      <td>Gd</td>\n",
              "      <td>5</td>\n",
              "      <td>Typ</td>\n",
              "      <td>0</td>\n",
              "      <td>NaN</td>\n",
              "      <td>Attchd</td>\n",
              "      <td>1992.0</td>\n",
              "      <td>RFn</td>\n",
              "      <td>2.0</td>\n",
              "      <td>506.0</td>\n",
              "      <td>TA</td>\n",
              "      <td>TA</td>\n",
              "      <td>Y</td>\n",
              "      <td>0</td>\n",
              "      <td>82</td>\n",
              "      <td>0</td>\n",
              "      <td>0</td>\n",
              "      <td>144</td>\n",
              "      <td>0</td>\n",
              "      <td>NaN</td>\n",
              "      <td>NaN</td>\n",
              "      <td>NaN</td>\n",
              "      <td>0</td>\n",
              "      <td>1</td>\n",
              "      <td>2010</td>\n",
              "      <td>WD</td>\n",
              "      <td>Normal</td>\n",
              "    </tr>\n",
              "  </tbody>\n",
              "</table>\n",
              "</div>"
            ],
            "text/plain": [
              "     Id  MSSubClass MSZoning  ...  YrSold  SaleType SaleCondition\n",
              "0  1461          20       RH  ...    2010        WD        Normal\n",
              "1  1462          20       RL  ...    2010        WD        Normal\n",
              "2  1463          60       RL  ...    2010        WD        Normal\n",
              "3  1464          60       RL  ...    2010        WD        Normal\n",
              "4  1465         120       RL  ...    2010        WD        Normal\n",
              "\n",
              "[5 rows x 80 columns]"
            ]
          },
          "metadata": {
            "tags": []
          },
          "execution_count": 146
        }
      ]
    },
    {
      "cell_type": "code",
      "metadata": {
        "id": "vhfp9_V8oMY0",
        "colab_type": "code",
        "outputId": "3859b43a-6904-4bc8-e221-d7414bb9a3dd",
        "colab": {
          "base_uri": "https://localhost:8080/",
          "height": 88
        }
      },
      "source": [
        "# 데이터 Shape 확인\n",
        "print(\"The train data size before dropping ID feature is : {} \".format(train.shape))\n",
        "print(\"The test data size before dropping Id feature is : {} \".format(test.shape))\n",
        "\n",
        "# 'Id'컬럼 저장하기\n",
        "train_ID = train['Id']\n",
        "test_ID = test['Id']\n",
        "\n",
        "# 필요없는 Id 컬럼, Drop하자.\n",
        "train.drop('Id',axis=1,inplace=True)\n",
        "test.drop('Id',axis=1,inplace=True)\n",
        "\n",
        "# 'Id'를 제거한 DataFrame의 Shape 확인\n",
        "print(\"The train data size after dropping ID feature is : {} \".format(train.shape))\n",
        "print(\"The test data size after dropping Id feature is : {} \".format(test.shape))"
      ],
      "execution_count": 147,
      "outputs": [
        {
          "output_type": "stream",
          "text": [
            "The train data size before dropping ID feature is : (1460, 81) \n",
            "The test data size before dropping Id feature is : (1459, 80) \n",
            "The train data size after dropping ID feature is : (1460, 80) \n",
            "The test data size after dropping Id feature is : (1459, 79) \n"
          ],
          "name": "stdout"
        }
      ]
    },
    {
      "cell_type": "markdown",
      "metadata": {
        "id": "UuFXcHLgq_Mm",
        "colab_type": "text"
      },
      "source": [
        "## Data Processing"
      ]
    },
    {
      "cell_type": "markdown",
      "metadata": {
        "id": "SxxPP9POtqVh",
        "colab_type": "text"
      },
      "source": [
        "### Outliers"
      ]
    },
    {
      "cell_type": "code",
      "metadata": {
        "id": "czEQmSXBtsds",
        "colab_type": "code",
        "outputId": "e0fca44e-3c94-4c5b-e9ab-910fda4e9da1",
        "colab": {
          "base_uri": "https://localhost:8080/",
          "height": 282
        }
      },
      "source": [
        "fig,ax = plt.subplots()\n",
        "ax.scatter(x=train['GrLivArea'],y=train['SalePrice'])\n",
        "plt.ylabel('SalePrice',fontsize=13)\n",
        "plt.xlabel('GrLivArea',fontsize=13)\n",
        "plt.show()"
      ],
      "execution_count": 148,
      "outputs": [
        {
          "output_type": "display_data",
          "data": {
            "image/png": "[encoded data removed]",
            "text/plain": [
              "<Figure size 432x288 with 1 Axes>"
            ]
          },
          "metadata": {
            "tags": []
          }
        }
      ]
    },
    {
      "cell_type": "markdown",
      "metadata": {
        "id": "1r5PoZ7Iu4ss",
        "colab_type": "text"
      },
      "source": [
        "산포도를 확인해보면 오른쪽 하단 부분에 낮은 SalePrice를 나타내는 두개의 GrLivArea가 있음. \n",
        "\n",
        "**이것들은 상당히 큰 이상치이므로 삭제를 해야한다.**"
      ]
    },
    {
      "cell_type": "code",
      "metadata": {
        "id": "YDkZ6koSv75W",
        "colab_type": "code",
        "outputId": "ce379a00-4409-445b-9d71-2eb3b3878e6c",
        "colab": {
          "base_uri": "https://localhost:8080/",
          "height": 282
        }
      },
      "source": [
        "# 이상치 삭제\n",
        "train = train.drop(train[(train['GrLivArea']>4000)& (train['SalePrice']<300000)].index) # '.index' :'axis=0'\n",
        "\n",
        "# 다시 확인\n",
        "fig,ax = plt.subplots()\n",
        "ax.scatter(x=train['GrLivArea'],y=train['SalePrice'])\n",
        "plt.ylabel('SalePrice',fontsize=13)\n",
        "plt.xlabel('GrLivArea',fontsize=13)\n",
        "plt.show()"
      ],
      "execution_count": 149,
      "outputs": [
        {
          "output_type": "display_data",
          "data": {
            "image/png": "[encoded data removed]",
            "text/plain": [
              "<Figure size 432x288 with 1 Axes>"
            ]
          },
          "metadata": {
            "tags": []
          }
        }
      ]
    },
    {
      "cell_type": "markdown",
      "metadata": {
        "id": "ViGQJRHE0Evm",
        "colab_type": "text"
      },
      "source": [
        "**참고:**\n",
        "\n",
        "이상치 제거는 항상 안전한 것은 아님. 여기서도 상당히 극단적인 두개의 값만 제거함.\n",
        "\n",
        "다른 이상치들도 Train data에 존재한다. 하지만, Test 데이터에도 이상치가 있다면 이상치 모두를 제거하는 것은 모델들에게 상당히 안좋은 영향을 끼친다. 그렇기 때문에, 이상치를 모두 제거하는 대신에 몇몇 모델을 강화할 것이다."
      ]
    },
    {
      "cell_type": "markdown",
      "metadata": {
        "id": "i4gvzQWo5U9i",
        "colab_type": "text"
      },
      "source": [
        "### Target Variable\n",
        "- **SalePrice**는 우리가 예측해야할 종속변수이다."
      ]
    },
    {
      "cell_type": "markdown",
      "metadata": {
        "id": "SS53ufvXcuvg",
        "colab_type": "text"
      },
      "source": [
        "scipy 확률분포 객체\n",
        "- 이산:\tbernoulli\t베르누이 분포\n",
        "- 이산:\tbinom\t이항 분포\n",
        "- 연속:\tuniform\t균일 분포\n",
        "- 연속:\tnorm\t가우시안 정규 분포\n",
        "- 연속:\tbeta\t베타 분포\n",
        "- 연속:\tgamma\t감마 분포\n",
        "- 연속:\tt\t스튜던트 t 분포\n",
        "- 연속:\tchi2\t카이 제곱 분포\n",
        "- 연속:\tf\tF 분포\n",
        "- 연속:\tdirichlet\t디리클리 분포\n",
        "- 연속:\tmultivariate_normal\t다변수 가우시안 정규 분포"
      ]
    },
    {
      "cell_type": "markdown",
      "metadata": {
        "id": "W0QMCAHWcW6R",
        "colab_type": "text"
      },
      "source": [
        "확률분포 메서드\n",
        "- pdf\t확률 밀도 함수 (probability density function)\n",
        "- pmf\t확률 질량 함수 (probability mass function)\n",
        "- cdf\t누적 분포 함수 (cumulative distribution function)\n",
        "- rvs\t랜덤 샘플 생성 (random variable sampling)\n",
        "- stats\t기술 통계 함수 (descriptive statistics)\n",
        "- fit\t모수 추정 (parameter estimation)"
      ]
    },
    {
      "cell_type": "code",
      "metadata": {
        "id": "jJY_cbON7iPZ",
        "colab_type": "code",
        "outputId": "e277da73-198b-4176-ba7b-923343db0ecc",
        "colab": {
          "base_uri": "https://localhost:8080/",
          "height": 627
        }
      },
      "source": [
        "sns.distplot(train['SalePrice'], fit=norm); # fit=norm : 그래프에 정규분포 반환\n",
        "\n",
        "# 함수에 사용될 적합한 매개변수 가져오기 \n",
        "(mu,sigma) = norm.fit(train['SalePrice']) # 모수추정(평균,표준편차)\n",
        "print( '\\n 평균 = {:.2f} and 표준편차 = {:.2f}\\n'.format(mu, sigma))\n",
        "\n",
        "# 분포 구성(plot)\n",
        "plt.legend('Normal dist.($\\mu=${:.2f} and $\\sigma=${:.2f} )'.format(mu,sigma))\n",
        "plt.ylabel('Frequency')\n",
        "plt.title('SalePrice distribution')\n",
        "\n",
        "# QQ-plot\n",
        "# 분석하고자 하는 샘플의 분포와 정규 분포의 분포 형태를 비교하는 시각적 도구\n",
        "# Q-Q 정보만을 반환하고 챠트는 그리지 않는다. plot=plt를 해야함. (2)\n",
        "# 정규 분포를 따르는 데이터 샘플을 Q-Q 플롯으로 그리면 다음과 같이 직선의 형태로 나타난다. (그래프)\n",
        "fig = plt.figure()\n",
        "res = stats.probplot(train['SalePrice'],plot=plt)\n",
        "plt.show()"
      ],
      "execution_count": 150,
      "outputs": [
        {
          "output_type": "stream",
          "text": [
            "\n",
            " 평균 = 180932.92 and 표준편차 = 79467.79\n",
            "\n"
          ],
          "name": "stdout"
        },
        {
          "output_type": "display_data",
          "data": {
            "image/png": "[encoded data removed]",
            "text/plain": [
              "<Figure size 432x288 with 1 Axes>"
            ]
          },
          "metadata": {
            "tags": []
          }
        },
        {
          "output_type": "display_data",
          "data": {
            "image/png": "[encoded data removed]",
            "text/plain": [
              "<Figure size 432x288 with 1 Axes>"
            ]
          },
          "metadata": {
            "tags": []
          }
        }
      ]
    },
    {
      "cell_type": "markdown",
      "metadata": {
        "id": "J2X47PAaf-78",
        "colab_type": "text"
      },
      "source": [
        "종속변수가 오른쪽으로 치우쳐 있음. 선형 모델들에는 정규분포 데이터가 적합하기 때문에 변수를 변환하고, 더 정상적으로 분포되게 만들어야 한다."
      ]
    },
    {
      "cell_type": "markdown",
      "metadata": {
        "id": "g5_JFqGfpWlB",
        "colab_type": "text"
      },
      "source": [
        "***종속 변수의 로그변환***\n",
        "- np.log(x), np.log10(x), np.log2(x), log1p(z)\n",
        "- log함수는 0에 가까워 질수록 마이너스 무한대로 감. (에러발생, 변환x)\n",
        "  - 이를 해결하기 위해 x축에 1을 더하여(그래프를 x축으로 -1 만큼 평행이동) 시작값을 0부터 시작하게 처리함.\n",
        "![대체 텍스트](https://i.stack.imgur.com/ycPOC.png)\n"
      ]
    },
    {
      "cell_type": "code",
      "metadata": {
        "id": "-oEfOxFquCzZ",
        "colab_type": "code",
        "outputId": "6a7f68a4-cacb-4016-d9c8-6a9e41adfa2b",
        "colab": {
          "base_uri": "https://localhost:8080/",
          "height": 572
        }
      },
      "source": [
        "#로그함수 예시\n",
        "x = np.arange(0,10.0,0.01)\n",
        "y= np.log(x)\n",
        "fig1 = plt.figure()\n",
        "plt.plot(x,y)\n",
        "fig2 = plt.figure()\n",
        "y= np.log(x+1)\n",
        "plt.plot(x,y)\n",
        "plt.show()"
      ],
      "execution_count": 151,
      "outputs": [
        {
          "output_type": "stream",
          "text": [
            "/usr/local/lib/python3.6/dist-packages/ipykernel_launcher.py:2: RuntimeWarning: divide by zero encountered in log\n",
            "  \n"
          ],
          "name": "stderr"
        },
        {
          "output_type": "display_data",
          "data": {
            "image/png": "[encoded data removed]",
            "text/plain": [
              "<Figure size 432x288 with 1 Axes>"
            ]
          },
          "metadata": {
            "tags": []
          }
        },
        {
          "output_type": "display_data",
          "data": {
            "image/png": "[encoded data removed]",
            "text/plain": [
              "<Figure size 432x288 with 1 Axes>"
            ]
          },
          "metadata": {
            "tags": []
          }
        }
      ]
    },
    {
      "cell_type": "code",
      "metadata": {
        "id": "E4Ma6stvpdlN",
        "colab_type": "code",
        "outputId": "b153027b-b876-4884-b7b8-5ac4c83ad46a",
        "colab": {
          "base_uri": "https://localhost:8080/",
          "height": 627
        }
      },
      "source": [
        "# numpy의 log1p 적용\n",
        "train['SalePrice'] = np.log1p(train['SalePrice'])\n",
        "\n",
        "# 로그변환한 분포 확인\n",
        "sns.distplot(train['SalePrice'],fit=norm);\n",
        "\n",
        "(mu,sigma) = norm.fit(train['SalePrice']) # 모수추정(평균,표준편차)\n",
        "print( '\\n 평균 = {:.2f} and 표준편차 = {:.2f}\\n'.format(mu, sigma))\n",
        "\n",
        "plt.legend('Normal dist.($\\mu=${:.2f} and $\\sigma=${:.2f} )'.format(mu,sigma))\n",
        "plt.ylabel('Frequency')\n",
        "plt.title('SalePrice distribution')\n",
        "\n",
        "fig = plt.figure()\n",
        "res = stats.probplot(train['SalePrice'],plot=plt)\n",
        "plt.show()"
      ],
      "execution_count": 152,
      "outputs": [
        {
          "output_type": "stream",
          "text": [
            "\n",
            " 평균 = 12.02 and 표준편차 = 0.40\n",
            "\n"
          ],
          "name": "stdout"
        },
        {
          "output_type": "display_data",
          "data": {
            "image/png": "[encoded data removed]",
            "text/plain": [
              "<Figure size 432x288 with 1 Axes>"
            ]
          },
          "metadata": {
            "tags": []
          }
        },
        {
          "output_type": "display_data",
          "data": {
            "image/png": "[encoded data removed]",
            "text/plain": [
              "<Figure size 432x288 with 1 Axes>"
            ]
          },
          "metadata": {
            "tags": []
          }
        }
      ]
    },
    {
      "cell_type": "markdown",
      "metadata": {
        "id": "f_KEE-ulxkj1",
        "colab_type": "text"
      },
      "source": [
        "데이터가 정상적으로 분포하는 것으로 나타남."
      ]
    },
    {
      "cell_type": "markdown",
      "metadata": {
        "id": "yXKpbts4xuDD",
        "colab_type": "text"
      },
      "source": [
        "### Feature Engineering"
      ]
    },
    {
      "cell_type": "markdown",
      "metadata": {
        "id": "UMOShlgYza6O",
        "colab_type": "text"
      },
      "source": [
        "train 데이터와 test데이터를 하나의 데이터프레임으로 합치자.\n",
        "- pd.concat( default: axis=0)\n",
        "- reset_index(default: drop=False) : False: 원래의 인덱스로 반환, True: 새롭게 인덱스 적용"
      ]
    },
    {
      "cell_type": "code",
      "metadata": {
        "id": "0jNVNpzdyCB5",
        "colab_type": "code",
        "outputId": "60bfd025-9d9d-4304-9d7b-43d3ac56cf60",
        "colab": {
          "base_uri": "https://localhost:8080/",
          "height": 35
        }
      },
      "source": [
        "ntrain = train.shape[0] # 행 개수 반환\n",
        "ntest = test.shape[0] # 행 개수 반환\n",
        "y_train = train.SalePrice.values # array로 SalePrice 반환\n",
        "all_data = pd.concat((train,test)).reset_index(drop=True)\n",
        "all_data.drop(['SalePrice'],axis=1,inplace=True)\n",
        "print('all_data의 크키는 : {}'.format(all_data.shape))"
      ],
      "execution_count": 153,
      "outputs": [
        {
          "output_type": "stream",
          "text": [
            "all_data의 크키는 : (2917, 79)\n"
          ],
          "name": "stdout"
        }
      ]
    },
    {
      "cell_type": "markdown",
      "metadata": {
        "id": "VX8pY-Jw3dr7",
        "colab_type": "text"
      },
      "source": [
        "#### Missing Data"
      ]
    },
    {
      "cell_type": "code",
      "metadata": {
        "id": "gKV-003a3gWA",
        "colab_type": "code",
        "outputId": "b6495755-e074-4ec7-b8bd-ea444a28c292",
        "colab": {
          "base_uri": "https://localhost:8080/",
          "height": 634
        }
      },
      "source": [
        "all_data_na = (all_data.isnull().sum()/len(all_data))* 100 # 비율로 표현하기 위해\n",
        "all_data_na = all_data_na.drop(all_data_na[all_data_na==0].index).sort_values(ascending=False)[:30]\n",
        "missing_data = pd.DataFrame({'Missing Ratio':all_data_na})\n",
        "missing_data.head(20)"
      ],
      "execution_count": 154,
      "outputs": [
        {
          "output_type": "execute_result",
          "data": {
            "text/html": [
              "<div>\n",
              "<style scoped>\n",
              "    .dataframe tbody tr th:only-of-type {\n",
              "        vertical-align: middle;\n",
              "    }\n",
              "\n",
              "    .dataframe tbody tr th {\n",
              "        vertical-align: top;\n",
              "    }\n",
              "\n",
              "    .dataframe thead th {\n",
              "        text-align: right;\n",
              "    }\n",
              "</style>\n",
              "<table border=\"1\" class=\"dataframe\">\n",
              "  <thead>\n",
              "    <tr style=\"text-align: right;\">\n",
              "      <th></th>\n",
              "      <th>Missing Ratio</th>\n",
              "    </tr>\n",
              "  </thead>\n",
              "  <tbody>\n",
              "    <tr>\n",
              "      <th>PoolQC</th>\n",
              "      <td>99.691464</td>\n",
              "    </tr>\n",
              "    <tr>\n",
              "      <th>MiscFeature</th>\n",
              "      <td>96.400411</td>\n",
              "    </tr>\n",
              "    <tr>\n",
              "      <th>Alley</th>\n",
              "      <td>93.212204</td>\n",
              "    </tr>\n",
              "    <tr>\n",
              "      <th>Fence</th>\n",
              "      <td>80.425094</td>\n",
              "    </tr>\n",
              "    <tr>\n",
              "      <th>FireplaceQu</th>\n",
              "      <td>48.680151</td>\n",
              "    </tr>\n",
              "    <tr>\n",
              "      <th>LotFrontage</th>\n",
              "      <td>16.660953</td>\n",
              "    </tr>\n",
              "    <tr>\n",
              "      <th>GarageQual</th>\n",
              "      <td>5.450806</td>\n",
              "    </tr>\n",
              "    <tr>\n",
              "      <th>GarageCond</th>\n",
              "      <td>5.450806</td>\n",
              "    </tr>\n",
              "    <tr>\n",
              "      <th>GarageFinish</th>\n",
              "      <td>5.450806</td>\n",
              "    </tr>\n",
              "    <tr>\n",
              "      <th>GarageYrBlt</th>\n",
              "      <td>5.450806</td>\n",
              "    </tr>\n",
              "    <tr>\n",
              "      <th>GarageType</th>\n",
              "      <td>5.382242</td>\n",
              "    </tr>\n",
              "    <tr>\n",
              "      <th>BsmtExposure</th>\n",
              "      <td>2.811107</td>\n",
              "    </tr>\n",
              "    <tr>\n",
              "      <th>BsmtCond</th>\n",
              "      <td>2.811107</td>\n",
              "    </tr>\n",
              "    <tr>\n",
              "      <th>BsmtQual</th>\n",
              "      <td>2.776826</td>\n",
              "    </tr>\n",
              "    <tr>\n",
              "      <th>BsmtFinType2</th>\n",
              "      <td>2.742544</td>\n",
              "    </tr>\n",
              "    <tr>\n",
              "      <th>BsmtFinType1</th>\n",
              "      <td>2.708262</td>\n",
              "    </tr>\n",
              "    <tr>\n",
              "      <th>MasVnrType</th>\n",
              "      <td>0.822763</td>\n",
              "    </tr>\n",
              "    <tr>\n",
              "      <th>MasVnrArea</th>\n",
              "      <td>0.788481</td>\n",
              "    </tr>\n",
              "    <tr>\n",
              "      <th>MSZoning</th>\n",
              "      <td>0.137127</td>\n",
              "    </tr>\n",
              "    <tr>\n",
              "      <th>BsmtFullBath</th>\n",
              "      <td>0.068564</td>\n",
              "    </tr>\n",
              "  </tbody>\n",
              "</table>\n",
              "</div>"
            ],
            "text/plain": [
              "              Missing Ratio\n",
              "PoolQC            99.691464\n",
              "MiscFeature       96.400411\n",
              "Alley             93.212204\n",
              "Fence             80.425094\n",
              "FireplaceQu       48.680151\n",
              "LotFrontage       16.660953\n",
              "GarageQual         5.450806\n",
              "GarageCond         5.450806\n",
              "GarageFinish       5.450806\n",
              "GarageYrBlt        5.450806\n",
              "GarageType         5.382242\n",
              "BsmtExposure       2.811107\n",
              "BsmtCond           2.811107\n",
              "BsmtQual           2.776826\n",
              "BsmtFinType2       2.742544\n",
              "BsmtFinType1       2.708262\n",
              "MasVnrType         0.822763\n",
              "MasVnrArea         0.788481\n",
              "MSZoning           0.137127\n",
              "BsmtFullBath       0.068564"
            ]
          },
          "metadata": {
            "tags": []
          },
          "execution_count": 154
        }
      ]
    },
    {
      "cell_type": "code",
      "metadata": {
        "id": "DcMsEryT7Oi3",
        "colab_type": "code",
        "outputId": "328d9e3a-0b9c-46c3-d2a6-d9e9fe537138",
        "colab": {
          "base_uri": "https://localhost:8080/",
          "height": 832
        }
      },
      "source": [
        "f,ax = plt.subplots(figsize = (15,12))\n",
        "plt.xticks(rotation='60') # 변수 이름끼리 겹치지 않게 글자를 회전시켜줌. \n",
        "sns.barplot(x=all_data_na.index,y=all_data_na)\n",
        "plt.xlabel('Features', fontsize=15)\n",
        "plt.ylabel('Percent of missing values', fontsize=15)\n",
        "plt.title('Percent missing data by feature', fontsize=15)"
      ],
      "execution_count": 155,
      "outputs": [
        {
          "output_type": "execute_result",
          "data": {
            "text/plain": [
              "Text(0.5, 1.0, 'Percent missing data by feature')"
            ]
          },
          "metadata": {
            "tags": []
          },
          "execution_count": 155
        },
        {
          "output_type": "display_data",
          "data": {
            "image/png": "[encoded data removed]",
            "text/plain": [
              "<Figure size 1080x864 with 1 Axes>"
            ]
          },
          "metadata": {
            "tags": []
          }
        }
      ]
    },
    {
      "cell_type": "markdown",
      "metadata": {
        "id": "eZ1u2Upz93Sp",
        "colab_type": "text"
      },
      "source": [
        "##### Data Correlation\n",
        "- sns.heatmap()\n",
        "  - cbar : 오른쪽 막대 표현 여부\n",
        "  - vmax : 색깔 농도의 최대치\n",
        "  - square는 정사각형으로 지정하는 것이며, False로 설정 시 직사각형\n",
        "  - cmap : 색깔 지정"
      ]
    },
    {
      "cell_type": "code",
      "metadata": {
        "id": "E8KGd5ZM-AsH",
        "colab_type": "code",
        "outputId": "a6e65e3f-6d65-4b84-a52e-0be38db3025e",
        "colab": {
          "base_uri": "https://localhost:8080/",
          "height": 642
        }
      },
      "source": [
        "# 독립변수들와 SalePrice의 상관관계\n",
        "corrmat = train.corr()\n",
        "plt.subplots(figsize=(12,9))\n",
        "sns.heatmap(corrmat,cbar=True,vmax=0.9,square=True,cmap='Blues')"
      ],
      "execution_count": 156,
      "outputs": [
        {
          "output_type": "execute_result",
          "data": {
            "text/plain": [
              "<matplotlib.axes._subplots.AxesSubplot at 0x7f816c7123c8>"
            ]
          },
          "metadata": {
            "tags": []
          },
          "execution_count": 156
        },
        {
          "output_type": "display_data",
          "data": {
            "image/png": "[encoded data removed]",
            "text/plain": [
              "<Figure size 864x648 with 2 Axes>"
            ]
          },
          "metadata": {
            "tags": []
          }
        }
      ]
    },
    {
      "cell_type": "markdown",
      "metadata": {
        "id": "7dKWcw74ad1a",
        "colab_type": "text"
      },
      "source": [
        "##### Imputing missing values\n",
        "순차적으로 missing values를 없애자. NA라고 모두 값이 없음(존재하지 않음)으로 받아 들이면 안된다. 단순하게 없는 것일 수도 있음. 의미를 잘 파악해야함.\n",
        "\n",
        "ex) 차고의 개수에서 NA라고 단순히 결측치로 받아 들이는 것보다는 차고가 없는 것을 뜻하는 지도 확인해 봐야한다."
      ]
    },
    {
      "cell_type": "markdown",
      "metadata": {
        "id": "ED_7gwI9ajQD",
        "colab_type": "text"
      },
      "source": [
        "- PoolQC: 데이터 설명서를 보면 NA는 'No Pool'을 의미한다. 즉, 99%의 결측치, 대부분의 집이 Pool이 없다고 여기면 된다."
      ]
    },
    {
      "cell_type": "code",
      "metadata": {
        "id": "LSMZwtfxcHWI",
        "colab_type": "code",
        "colab": {}
      },
      "source": [
        "all_data['PoolQC']= all_data['PoolQC'].fillna('None')"
      ],
      "execution_count": 0,
      "outputs": []
    },
    {
      "cell_type": "markdown",
      "metadata": {
        "id": "FK6XirJ6cjgO",
        "colab_type": "text"
      },
      "source": [
        "- MiscFeature: NA는 No MiscFreature"
      ]
    },
    {
      "cell_type": "code",
      "metadata": {
        "id": "oBP4ZI2ffZwq",
        "colab_type": "code",
        "colab": {}
      },
      "source": [
        "all_data['MiscFeature']= all_data['MiscFeature'].fillna('None')"
      ],
      "execution_count": 0,
      "outputs": []
    },
    {
      "cell_type": "markdown",
      "metadata": {
        "id": "iVSVqVcOfewn",
        "colab_type": "text"
      },
      "source": [
        "- Alley: NAsms 'No alley access'를 의미 "
      ]
    },
    {
      "cell_type": "code",
      "metadata": {
        "id": "KEvjDOndf1Cy",
        "colab_type": "code",
        "colab": {}
      },
      "source": [
        "all_data[\"Alley\"] = all_data[\"Alley\"].fillna(\"None\")"
      ],
      "execution_count": 0,
      "outputs": []
    },
    {
      "cell_type": "markdown",
      "metadata": {
        "id": "-Xk4lQVff6xU",
        "colab_type": "text"
      },
      "source": [
        "- Fence: NA = No Fence"
      ]
    },
    {
      "cell_type": "code",
      "metadata": {
        "id": "gJ-Xt4IigFcJ",
        "colab_type": "code",
        "colab": {}
      },
      "source": [
        "all_data[\"Fence\"] = all_data[\"Fence\"].fillna(\"None\")"
      ],
      "execution_count": 0,
      "outputs": []
    },
    {
      "cell_type": "markdown",
      "metadata": {
        "id": "0Y3BEnfBgHfw",
        "colab_type": "text"
      },
      "source": [
        "- FireplaceQu : NA = No Fireplace"
      ]
    },
    {
      "cell_type": "code",
      "metadata": {
        "id": "d0QkBP7lgXG-",
        "colab_type": "code",
        "colab": {}
      },
      "source": [
        "all_data[\"FireplaceQu\"] = all_data[\"FireplaceQu\"].fillna(\"None\")"
      ],
      "execution_count": 0,
      "outputs": []
    },
    {
      "cell_type": "markdown",
      "metadata": {
        "id": "EEwrt7pXga6t",
        "colab_type": "text"
      },
      "source": [
        "- LotFrontage: 집과 연결된 거리의 넓이는 이웃집과 비슷하게 형성되기 때문에, 이웃집을 기준으로 중앙값으로 NA를 처리하도록 하자.\n",
        " - MSZoning으로 구분지어도 괜찮을 것 같음.\n"
      ]
    },
    {
      "cell_type": "code",
      "metadata": {
        "id": "vxH5IhvVp8u1",
        "colab_type": "code",
        "outputId": "61b7bcf6-2091-4d78-c8b0-9c2011bc25ce",
        "colab": {
          "base_uri": "https://localhost:8080/",
          "height": 554
        }
      },
      "source": [
        "plt.figure(figsize=(20,8),facecolor='w')\n",
        "plt.grid(True)\n",
        "\n",
        "sns.boxplot(x=\"Neighborhood\",y='LotFrontage',data=all_data)\n",
        "#sns.swarmplot(x=\"Neighborhood\",y='LotFrontage',data=all_data,color='.25')\n",
        "plt.xticks(rotation='60')\n",
        "plt.show()"
      ],
      "execution_count": 162,
      "outputs": [
        {
          "output_type": "display_data",
          "data": {
            "image/png": "[encoded data removed]",
            "text/plain": [
              "<Figure size 1440x576 with 1 Axes>"
            ]
          },
          "metadata": {
            "tags": []
          }
        }
      ]
    },
    {
      "cell_type": "code",
      "metadata": {
        "id": "_19RpQ9wr460",
        "colab_type": "code",
        "outputId": "3e7d1c1f-9a87-4ee3-e1c8-030669f8cac1",
        "colab": {
          "base_uri": "https://localhost:8080/",
          "height": 537
        }
      },
      "source": [
        "plt.figure(figsize=(20,8),facecolor='w')\n",
        "plt.grid(True)\n",
        "\n",
        "sns.boxplot(x=\"MSZoning\",y='LotFrontage',data=all_data)\n",
        "#sns.swarmplot(x=\"Neighborhood\",y='LotFrontage',data=all_data,color='.25')\n",
        "plt.xticks(rotation='60')\n",
        "plt.show()"
      ],
      "execution_count": 163,
      "outputs": [
        {
          "output_type": "display_data",
          "data": {
            "image/png": "[encoded data removed]",
            "text/plain": [
              "<Figure size 1440x576 with 1 Axes>"
            ]
          },
          "metadata": {
            "tags": []
          }
        }
      ]
    },
    {
      "cell_type": "code",
      "metadata": {
        "id": "SCjmdh3TnwOE",
        "colab_type": "code",
        "outputId": "1d66ab43-74e6-4495-e729-864633ed4925",
        "colab": {
          "base_uri": "https://localhost:8080/",
          "height": 55
        }
      },
      "source": [
        "all_data['LotFrontage'] = all_data.groupby(\"Neighborhood\")['LotFrontage'].transform(\n",
        "    lambda x: x.fillna(x.median()))\n",
        "\n",
        "'''\n",
        "all_data['LotFrontage'].fillna(\n",
        "    all_data.groupby(\"Neighborhood\")['LotFrontage'].transform('median'),inplace=True)\n",
        "'''\n",
        "\n",
        "# all_data.groupby([\"Neighborhood\",'MSZoning'])['LotFrontage'].median() 로 하면 어떨까"
      ],
      "execution_count": 164,
      "outputs": [
        {
          "output_type": "execute_result",
          "data": {
            "text/plain": [
              "'\\nall_data[\\'LotFrontage\\'].fillna(\\n    all_data.groupby(\"Neighborhood\")[\\'LotFrontage\\'].transform(\\'median\\'),inplace=True)\\n'"
            ]
          },
          "metadata": {
            "tags": []
          },
          "execution_count": 164
        }
      ]
    },
    {
      "cell_type": "markdown",
      "metadata": {
        "id": "NKPjRXK9wJvM",
        "colab_type": "text"
      },
      "source": [
        "- GarageType, GarageFinish, GarageQual and GarageCond : Missing Value를 None으로 바꾸자"
      ]
    },
    {
      "cell_type": "code",
      "metadata": {
        "id": "aafNobVPztYa",
        "colab_type": "code",
        "colab": {}
      },
      "source": [
        "for col in ('GarageType', 'GarageFinish', 'GarageQual','GarageCond'):\n",
        "  all_data[col]= all_data[col].fillna('None')"
      ],
      "execution_count": 0,
      "outputs": []
    },
    {
      "cell_type": "markdown",
      "metadata": {
        "id": "hr12VaC1DjWs",
        "colab_type": "text"
      },
      "source": [
        "- GarageYrBlt, GarageArea and GarageCars: Missing value를 0으로 처리하자."
      ]
    },
    {
      "cell_type": "code",
      "metadata": {
        "id": "4Rw8HiOSDk1d",
        "colab_type": "code",
        "colab": {}
      },
      "source": [
        "for col in ('GarageYrBlt', 'GarageArea', 'GarageCars'):\n",
        "    all_data[col] = all_data[col].fillna(0)"
      ],
      "execution_count": 0,
      "outputs": []
    },
    {
      "cell_type": "markdown",
      "metadata": {
        "id": "hgBPITR60GfW",
        "colab_type": "text"
      },
      "source": [
        "- BsmtFinSF1, BsmtFinSF2, BsmtUnfSF, TotalBsmtSF, BsmtFullBath and BsmtHalfBath : Missing value는 'No basement'에 대한 0을 나타냄"
      ]
    },
    {
      "cell_type": "code",
      "metadata": {
        "id": "EYRnRPIq04nw",
        "colab_type": "code",
        "colab": {}
      },
      "source": [
        "for col in ('BsmtFinSF1', 'BsmtFinSF2', 'BsmtUnfSF','TotalBsmtSF',\n",
        "            'BsmtFullBath', 'BsmtHalfBath'):\n",
        "    all_data[col] = all_data[col].fillna(0)"
      ],
      "execution_count": 0,
      "outputs": []
    },
    {
      "cell_type": "markdown",
      "metadata": {
        "id": "X5b7Eqk808lW",
        "colab_type": "text"
      },
      "source": [
        "- BsmtQual, BsmtCond, BsmtExposure, BsmtFinType1 and BsmtFinType2: Basement와 관련된 범주형 변수들임. NaN의 뜻은 'No Basement'를 뜻함."
      ]
    },
    {
      "cell_type": "code",
      "metadata": {
        "id": "pZs8Y5tb1XT3",
        "colab_type": "code",
        "colab": {}
      },
      "source": [
        "for col in ('BsmtQual', 'BsmtCond', 'BsmtExposure', 'BsmtFinType1', 'BsmtFinType2'):\n",
        "    all_data[col] = all_data[col].fillna('None')"
      ],
      "execution_count": 0,
      "outputs": []
    },
    {
      "cell_type": "markdown",
      "metadata": {
        "id": "BjayqVmS1Yb1",
        "colab_type": "text"
      },
      "source": [
        "- MasVnrArea and MasVnrType: NA 값은 masonry veneer가 없는 것으로 의미 0 과 None으로 채우면 됨."
      ]
    },
    {
      "cell_type": "code",
      "metadata": {
        "id": "qhBt7TB52lJm",
        "colab_type": "code",
        "outputId": "782257cf-b8da-4bc5-df45-e62e3fc5a31d",
        "colab": {
          "base_uri": "https://localhost:8080/",
          "height": 399
        }
      },
      "source": [
        "all_data[all_data['MasVnrArea']==0][['MasVnrArea', 'MasVnrType']]"
      ],
      "execution_count": 169,
      "outputs": [
        {
          "output_type": "execute_result",
          "data": {
            "text/html": [
              "<div>\n",
              "<style scoped>\n",
              "    .dataframe tbody tr th:only-of-type {\n",
              "        vertical-align: middle;\n",
              "    }\n",
              "\n",
              "    .dataframe tbody tr th {\n",
              "        vertical-align: top;\n",
              "    }\n",
              "\n",
              "    .dataframe thead th {\n",
              "        text-align: right;\n",
              "    }\n",
              "</style>\n",
              "<table border=\"1\" class=\"dataframe\">\n",
              "  <thead>\n",
              "    <tr style=\"text-align: right;\">\n",
              "      <th></th>\n",
              "      <th>MasVnrArea</th>\n",
              "      <th>MasVnrType</th>\n",
              "    </tr>\n",
              "  </thead>\n",
              "  <tbody>\n",
              "    <tr>\n",
              "      <th>1</th>\n",
              "      <td>0.0</td>\n",
              "      <td>None</td>\n",
              "    </tr>\n",
              "    <tr>\n",
              "      <th>3</th>\n",
              "      <td>0.0</td>\n",
              "      <td>None</td>\n",
              "    </tr>\n",
              "    <tr>\n",
              "      <th>5</th>\n",
              "      <td>0.0</td>\n",
              "      <td>None</td>\n",
              "    </tr>\n",
              "    <tr>\n",
              "      <th>8</th>\n",
              "      <td>0.0</td>\n",
              "      <td>None</td>\n",
              "    </tr>\n",
              "    <tr>\n",
              "      <th>9</th>\n",
              "      <td>0.0</td>\n",
              "      <td>None</td>\n",
              "    </tr>\n",
              "    <tr>\n",
              "      <th>...</th>\n",
              "      <td>...</td>\n",
              "      <td>...</td>\n",
              "    </tr>\n",
              "    <tr>\n",
              "      <th>2911</th>\n",
              "      <td>0.0</td>\n",
              "      <td>None</td>\n",
              "    </tr>\n",
              "    <tr>\n",
              "      <th>2912</th>\n",
              "      <td>0.0</td>\n",
              "      <td>None</td>\n",
              "    </tr>\n",
              "    <tr>\n",
              "      <th>2913</th>\n",
              "      <td>0.0</td>\n",
              "      <td>None</td>\n",
              "    </tr>\n",
              "    <tr>\n",
              "      <th>2914</th>\n",
              "      <td>0.0</td>\n",
              "      <td>None</td>\n",
              "    </tr>\n",
              "    <tr>\n",
              "      <th>2915</th>\n",
              "      <td>0.0</td>\n",
              "      <td>None</td>\n",
              "    </tr>\n",
              "  </tbody>\n",
              "</table>\n",
              "<p>1738 rows × 2 columns</p>\n",
              "</div>"
            ],
            "text/plain": [
              "      MasVnrArea MasVnrType\n",
              "1            0.0       None\n",
              "3            0.0       None\n",
              "5            0.0       None\n",
              "8            0.0       None\n",
              "9            0.0       None\n",
              "...          ...        ...\n",
              "2911         0.0       None\n",
              "2912         0.0       None\n",
              "2913         0.0       None\n",
              "2914         0.0       None\n",
              "2915         0.0       None\n",
              "\n",
              "[1738 rows x 2 columns]"
            ]
          },
          "metadata": {
            "tags": []
          },
          "execution_count": 169
        }
      ]
    },
    {
      "cell_type": "code",
      "metadata": {
        "id": "lmCANWwu3QhC",
        "colab_type": "code",
        "outputId": "177a177b-4196-4659-cfb1-e68977ca691b",
        "colab": {
          "base_uri": "https://localhost:8080/",
          "height": 722
        }
      },
      "source": [
        "all_data[all_data['MasVnrArea'].isna()==True][['MasVnrArea','MasVnrType']]"
      ],
      "execution_count": 170,
      "outputs": [
        {
          "output_type": "execute_result",
          "data": {
            "text/html": [
              "<div>\n",
              "<style scoped>\n",
              "    .dataframe tbody tr th:only-of-type {\n",
              "        vertical-align: middle;\n",
              "    }\n",
              "\n",
              "    .dataframe tbody tr th {\n",
              "        vertical-align: top;\n",
              "    }\n",
              "\n",
              "    .dataframe thead th {\n",
              "        text-align: right;\n",
              "    }\n",
              "</style>\n",
              "<table border=\"1\" class=\"dataframe\">\n",
              "  <thead>\n",
              "    <tr style=\"text-align: right;\">\n",
              "      <th></th>\n",
              "      <th>MasVnrArea</th>\n",
              "      <th>MasVnrType</th>\n",
              "    </tr>\n",
              "  </thead>\n",
              "  <tbody>\n",
              "    <tr>\n",
              "      <th>234</th>\n",
              "      <td>NaN</td>\n",
              "      <td>NaN</td>\n",
              "    </tr>\n",
              "    <tr>\n",
              "      <th>528</th>\n",
              "      <td>NaN</td>\n",
              "      <td>NaN</td>\n",
              "    </tr>\n",
              "    <tr>\n",
              "      <th>649</th>\n",
              "      <td>NaN</td>\n",
              "      <td>NaN</td>\n",
              "    </tr>\n",
              "    <tr>\n",
              "      <th>935</th>\n",
              "      <td>NaN</td>\n",
              "      <td>NaN</td>\n",
              "    </tr>\n",
              "    <tr>\n",
              "      <th>972</th>\n",
              "      <td>NaN</td>\n",
              "      <td>NaN</td>\n",
              "    </tr>\n",
              "    <tr>\n",
              "      <th>976</th>\n",
              "      <td>NaN</td>\n",
              "      <td>NaN</td>\n",
              "    </tr>\n",
              "    <tr>\n",
              "      <th>1242</th>\n",
              "      <td>NaN</td>\n",
              "      <td>NaN</td>\n",
              "    </tr>\n",
              "    <tr>\n",
              "      <th>1277</th>\n",
              "      <td>NaN</td>\n",
              "      <td>NaN</td>\n",
              "    </tr>\n",
              "    <tr>\n",
              "      <th>1689</th>\n",
              "      <td>NaN</td>\n",
              "      <td>NaN</td>\n",
              "    </tr>\n",
              "    <tr>\n",
              "      <th>1704</th>\n",
              "      <td>NaN</td>\n",
              "      <td>NaN</td>\n",
              "    </tr>\n",
              "    <tr>\n",
              "      <th>1880</th>\n",
              "      <td>NaN</td>\n",
              "      <td>NaN</td>\n",
              "    </tr>\n",
              "    <tr>\n",
              "      <th>1990</th>\n",
              "      <td>NaN</td>\n",
              "      <td>NaN</td>\n",
              "    </tr>\n",
              "    <tr>\n",
              "      <th>2002</th>\n",
              "      <td>NaN</td>\n",
              "      <td>NaN</td>\n",
              "    </tr>\n",
              "    <tr>\n",
              "      <th>2039</th>\n",
              "      <td>NaN</td>\n",
              "      <td>NaN</td>\n",
              "    </tr>\n",
              "    <tr>\n",
              "      <th>2309</th>\n",
              "      <td>NaN</td>\n",
              "      <td>NaN</td>\n",
              "    </tr>\n",
              "    <tr>\n",
              "      <th>2323</th>\n",
              "      <td>NaN</td>\n",
              "      <td>NaN</td>\n",
              "    </tr>\n",
              "    <tr>\n",
              "      <th>2338</th>\n",
              "      <td>NaN</td>\n",
              "      <td>NaN</td>\n",
              "    </tr>\n",
              "    <tr>\n",
              "      <th>2347</th>\n",
              "      <td>NaN</td>\n",
              "      <td>NaN</td>\n",
              "    </tr>\n",
              "    <tr>\n",
              "      <th>2366</th>\n",
              "      <td>NaN</td>\n",
              "      <td>NaN</td>\n",
              "    </tr>\n",
              "    <tr>\n",
              "      <th>2590</th>\n",
              "      <td>NaN</td>\n",
              "      <td>NaN</td>\n",
              "    </tr>\n",
              "    <tr>\n",
              "      <th>2655</th>\n",
              "      <td>NaN</td>\n",
              "      <td>NaN</td>\n",
              "    </tr>\n",
              "    <tr>\n",
              "      <th>2684</th>\n",
              "      <td>NaN</td>\n",
              "      <td>NaN</td>\n",
              "    </tr>\n",
              "    <tr>\n",
              "      <th>2860</th>\n",
              "      <td>NaN</td>\n",
              "      <td>NaN</td>\n",
              "    </tr>\n",
              "  </tbody>\n",
              "</table>\n",
              "</div>"
            ],
            "text/plain": [
              "      MasVnrArea MasVnrType\n",
              "234          NaN        NaN\n",
              "528          NaN        NaN\n",
              "649          NaN        NaN\n",
              "935          NaN        NaN\n",
              "972          NaN        NaN\n",
              "976          NaN        NaN\n",
              "1242         NaN        NaN\n",
              "1277         NaN        NaN\n",
              "1689         NaN        NaN\n",
              "1704         NaN        NaN\n",
              "1880         NaN        NaN\n",
              "1990         NaN        NaN\n",
              "2002         NaN        NaN\n",
              "2039         NaN        NaN\n",
              "2309         NaN        NaN\n",
              "2323         NaN        NaN\n",
              "2338         NaN        NaN\n",
              "2347         NaN        NaN\n",
              "2366         NaN        NaN\n",
              "2590         NaN        NaN\n",
              "2655         NaN        NaN\n",
              "2684         NaN        NaN\n",
              "2860         NaN        NaN"
            ]
          },
          "metadata": {
            "tags": []
          },
          "execution_count": 170
        }
      ]
    },
    {
      "cell_type": "code",
      "metadata": {
        "id": "fZxIve494DqQ",
        "colab_type": "code",
        "colab": {}
      },
      "source": [
        "all_data[\"MasVnrType\"] = all_data[\"MasVnrType\"].fillna(\"None\")\n",
        "all_data[\"MasVnrArea\"] = all_data[\"MasVnrArea\"].fillna(0)"
      ],
      "execution_count": 0,
      "outputs": []
    },
    {
      "cell_type": "markdown",
      "metadata": {
        "id": "0xD8f2-M4IGl",
        "colab_type": "text"
      },
      "source": [
        "- MSZoning (The general zoning classification): RL 값이 제일 많으므로 NA값을 RL로 넣자."
      ]
    },
    {
      "cell_type": "code",
      "metadata": {
        "id": "8LSxH3x15n_O",
        "colab_type": "code",
        "colab": {}
      },
      "source": [
        "all_data['MSZoning'] = all_data['MSZoning'].fillna(all_data['MSZoning'].mode()[0])\n",
        "# all_data['MSZoning'].mode()[0] ='RL'"
      ],
      "execution_count": 0,
      "outputs": []
    },
    {
      "cell_type": "markdown",
      "metadata": {
        "id": "7uGDXG086Qa5",
        "colab_type": "text"
      },
      "source": [
        "- Utilities\n",
        " - 1개의 NoSewa와 2개의 NA\n",
        " - NoSeWa는 traindata에만 있어 이러한 컬럼은 예측모델링에 도움이 되지 않기 때문에 지워주는 것이 나음."
      ]
    },
    {
      "cell_type": "code",
      "metadata": {
        "id": "ZDnPcepr6b1l",
        "colab_type": "code",
        "outputId": "8230de68-9df8-4df8-f6f8-ddbc2907e0c2",
        "colab": {
          "base_uri": "https://localhost:8080/",
          "height": 70
        }
      },
      "source": [
        "all_data['Utilities'].value_counts() "
      ],
      "execution_count": 173,
      "outputs": [
        {
          "output_type": "execute_result",
          "data": {
            "text/plain": [
              "AllPub    2914\n",
              "NoSeWa       1\n",
              "Name: Utilities, dtype: int64"
            ]
          },
          "metadata": {
            "tags": []
          },
          "execution_count": 173
        }
      ]
    },
    {
      "cell_type": "code",
      "metadata": {
        "id": "zq9Pss4p6xh_",
        "colab_type": "code",
        "outputId": "1ef63c03-483c-49c0-8fc6-aa6c65022867",
        "colab": {
          "base_uri": "https://localhost:8080/",
          "height": 35
        }
      },
      "source": [
        "all_data[all_data['Utilities']=='NoSeWa'].index[0]"
      ],
      "execution_count": 174,
      "outputs": [
        {
          "output_type": "execute_result",
          "data": {
            "text/plain": [
              "943"
            ]
          },
          "metadata": {
            "tags": []
          },
          "execution_count": 174
        }
      ]
    },
    {
      "cell_type": "code",
      "metadata": {
        "id": "yHGPVOMd7BRY",
        "colab_type": "code",
        "colab": {}
      },
      "source": [
        "all_data = all_data.drop(['Utilities'],axis=1)"
      ],
      "execution_count": 0,
      "outputs": []
    },
    {
      "cell_type": "markdown",
      "metadata": {
        "id": "qJF-s1SX7T4j",
        "colab_type": "text"
      },
      "source": [
        "- Functional: deductions가 보장되어 있지 않으면 'typical'로 가정하라고 나와 있음."
      ]
    },
    {
      "cell_type": "code",
      "metadata": {
        "id": "7aETJ8L49UXl",
        "colab_type": "code",
        "colab": {}
      },
      "source": [
        "all_data[\"Functional\"] = all_data[\"Functional\"].fillna(\"Typ\")"
      ],
      "execution_count": 0,
      "outputs": []
    },
    {
      "cell_type": "markdown",
      "metadata": {
        "id": "ghqfJnMf9WyR",
        "colab_type": "text"
      },
      "source": [
        "- Electrical\n",
        " - 1개의 Missing value\n",
        " - 제일 많은 것으로 처리"
      ]
    },
    {
      "cell_type": "code",
      "metadata": {
        "id": "aQUJ8JCx9laE",
        "colab_type": "code",
        "colab": {}
      },
      "source": [
        "all_data['Electrical'] = all_data['Electrical'].fillna(\n",
        "    all_data['Electrical'].mode()[0])"
      ],
      "execution_count": 0,
      "outputs": []
    },
    {
      "cell_type": "markdown",
      "metadata": {
        "id": "rIiCplXq9pEp",
        "colab_type": "text"
      },
      "source": [
        "- KitchenQual\n",
        " - 1개의 Missing value\n",
        " - 제일 많은 것으로 처리"
      ]
    },
    {
      "cell_type": "code",
      "metadata": {
        "id": "KTK8FK2o_C-I",
        "colab_type": "code",
        "colab": {}
      },
      "source": [
        "all_data['KitchenQual'] = all_data['KitchenQual'].fillna(\n",
        "    all_data['KitchenQual'].mode()[0])"
      ],
      "execution_count": 0,
      "outputs": []
    },
    {
      "cell_type": "markdown",
      "metadata": {
        "id": "SXdHw0Y4_JpD",
        "colab_type": "text"
      },
      "source": [
        "- Exterior1st and Exterior2nd (옥외덥개)\n",
        " - 각각 1개의 missing value\n",
        " - 제일 많은 것으로 처리"
      ]
    },
    {
      "cell_type": "code",
      "metadata": {
        "id": "CIOpQvll_aXk",
        "colab_type": "code",
        "colab": {}
      },
      "source": [
        "all_data['Exterior1st'] = all_data['Exterior1st'].fillna(\n",
        "    all_data['Exterior1st'].mode()[0])\n",
        "all_data['Exterior2nd'] = all_data['Exterior2nd'].fillna(\n",
        "    all_data['Exterior2nd'].mode()[0])"
      ],
      "execution_count": 0,
      "outputs": []
    },
    {
      "cell_type": "markdown",
      "metadata": {
        "id": "mHzPE_1z_dKH",
        "colab_type": "text"
      },
      "source": [
        "- SaleType : 가장 많은 값으로 처리"
      ]
    },
    {
      "cell_type": "code",
      "metadata": {
        "id": "5etXObuY_9yB",
        "colab_type": "code",
        "colab": {}
      },
      "source": [
        "all_data['SaleType'] = all_data['SaleType'].fillna(\n",
        "    all_data['SaleType'].mode()[0])"
      ],
      "execution_count": 0,
      "outputs": []
    },
    {
      "cell_type": "markdown",
      "metadata": {
        "id": "Bbgv7Z7LAEzu",
        "colab_type": "text"
      },
      "source": [
        "- MSSubClass: 흠.. NA값이 건축 클래스가 지정이 안된 것을 의미한다고 하는데 설명서에는 따로 기재가 되어 있지는 않음."
      ]
    },
    {
      "cell_type": "code",
      "metadata": {
        "id": "Xp7XY7ZFAI3f",
        "colab_type": "code",
        "colab": {}
      },
      "source": [
        "all_data['MSSubClass']= all_data['MSSubClass'].fillna('None')"
      ],
      "execution_count": 0,
      "outputs": []
    },
    {
      "cell_type": "markdown",
      "metadata": {
        "id": "ZQ2uCB_PCQLq",
        "colab_type": "text"
      },
      "source": [
        "Missing Value가 더 있는지 확인해 보자."
      ]
    },
    {
      "cell_type": "code",
      "metadata": {
        "id": "nlHVzZ9oCUcD",
        "colab_type": "code",
        "outputId": "1e88a017-e725-4498-a275-4d10bc481d47",
        "colab": {
          "base_uri": "https://localhost:8080/",
          "height": 47
        }
      },
      "source": [
        "# 남아있는 결측치(Missing Value 확인)\n",
        "all_data_na = (all_data.isnull().sum()/len(all_data)) * 100\n",
        "all_data_na = all_data_na.drop(\n",
        "    all_data_na[all_data_na==0].index).sort_values(ascending=False)\n",
        "missing_data = pd.DataFrame({'Missing Ratio': all_data_na})\n",
        "missing_data.head()"
      ],
      "execution_count": 182,
      "outputs": [
        {
          "output_type": "execute_result",
          "data": {
            "text/html": [
              "<div>\n",
              "<style scoped>\n",
              "    .dataframe tbody tr th:only-of-type {\n",
              "        vertical-align: middle;\n",
              "    }\n",
              "\n",
              "    .dataframe tbody tr th {\n",
              "        vertical-align: top;\n",
              "    }\n",
              "\n",
              "    .dataframe thead th {\n",
              "        text-align: right;\n",
              "    }\n",
              "</style>\n",
              "<table border=\"1\" class=\"dataframe\">\n",
              "  <thead>\n",
              "    <tr style=\"text-align: right;\">\n",
              "      <th></th>\n",
              "      <th>Missing Ratio</th>\n",
              "    </tr>\n",
              "  </thead>\n",
              "  <tbody>\n",
              "  </tbody>\n",
              "</table>\n",
              "</div>"
            ],
            "text/plain": [
              "Empty DataFrame\n",
              "Columns: [Missing Ratio]\n",
              "Index: []"
            ]
          },
          "metadata": {
            "tags": []
          },
          "execution_count": 182
        }
      ]
    },
    {
      "cell_type": "markdown",
      "metadata": {
        "id": "67K3m6MaEAMp",
        "colab_type": "text"
      },
      "source": [
        "결측치 無"
      ]
    },
    {
      "cell_type": "markdown",
      "metadata": {
        "id": "ruSuCQu3E9sH",
        "colab_type": "text"
      },
      "source": [
        "#### More feature engeneering"
      ]
    },
    {
      "cell_type": "markdown",
      "metadata": {
        "id": "TB7-FRgXFDsJ",
        "colab_type": "text"
      },
      "source": [
        "범주형인 숫자의 변수를 처리하자"
      ]
    },
    {
      "cell_type": "code",
      "metadata": {
        "id": "s8V0Jle7FVW-",
        "colab_type": "code",
        "colab": {}
      },
      "source": [
        "#MSSubClass=The building class\n",
        "all_data['MSSubClass'] = all_data['MSSubClass'].apply(str)\n",
        "\n",
        "#OverallCond\n",
        "all_data['OverallCond'] = all_data['OverallCond'].astype(str)\n",
        "\n",
        "#Year and month sold are transformed into categorical features.\n",
        "all_data['YrSold'] = all_data['YrSold'].astype(str)\n",
        "all_data['MoSold'] = all_data['MoSold'].astype(str)"
      ],
      "execution_count": 0,
      "outputs": []
    },
    {
      "cell_type": "markdown",
      "metadata": {
        "id": "_tJ0FB85GiEn",
        "colab_type": "text"
      },
      "source": [
        "순차적 범주형 볌수는 labelencoding을 적용하자"
      ]
    },
    {
      "cell_type": "code",
      "metadata": {
        "id": "0wYAgve7GvMv",
        "colab_type": "code",
        "outputId": "3a41fd25-4130-4676-e30b-8096b0aeaa3e",
        "colab": {
          "base_uri": "https://localhost:8080/",
          "height": 35
        }
      },
      "source": [
        "from sklearn.preprocessing import LabelEncoder\n",
        "cols = ('FireplaceQu', 'BsmtQual', 'BsmtCond', 'GarageQual', 'GarageCond', \n",
        "        'ExterQual', 'ExterCond','HeatingQC', 'PoolQC', 'KitchenQual', 'BsmtFinType1', \n",
        "        'BsmtFinType2', 'Functional', 'Fence', 'BsmtExposure', 'GarageFinish', 'LandSlope',\n",
        "        'LotShape', 'PavedDrive', 'Street', 'Alley', 'CentralAir', 'MSSubClass', 'OverallCond', \n",
        "        'YrSold', 'MoSold')\n",
        "\n",
        "for c in cols:\n",
        "  lbl = LabelEncoder()\n",
        "  lbl.fit(list(all_data[c].values))\n",
        "  all_data[c] = lbl.transform(list(all_data[c].values))\n",
        "\n",
        "# shape        \n",
        "print('Shape all_data: {}'.format(all_data.shape))"
      ],
      "execution_count": 184,
      "outputs": [
        {
          "output_type": "stream",
          "text": [
            "Shape all_data: (2917, 78)\n"
          ],
          "name": "stdout"
        }
      ]
    },
    {
      "cell_type": "markdown",
      "metadata": {
        "id": "hIFOrIBwHJKc",
        "colab_type": "text"
      },
      "source": [
        "집값에 근본적으로 영향을 끼치는 것이 뭘까? 바로 '평수(넓이)'이다. 그렇기 떄문에, 창고, 1층,2층의 넓이를 모두 합치는 것이 좋다."
      ]
    },
    {
      "cell_type": "code",
      "metadata": {
        "id": "pfRE8Gv3ICLC",
        "colab_type": "code",
        "colab": {}
      },
      "source": [
        "all_data['TotalSF'] = all_data['TotalBsmtSF'] + all_data['1stFlrSF'] + all_data['2ndFlrSF']"
      ],
      "execution_count": 0,
      "outputs": []
    },
    {
      "cell_type": "markdown",
      "metadata": {
        "id": "p3M1KCiWISnt",
        "colab_type": "text"
      },
      "source": [
        "#####Skewed features\n",
        "- 연속형 변수들 중에 정규분포를 따르지 않는 것(왜도 확인)\n",
        "- skew()함수 사용"
      ]
    },
    {
      "cell_type": "code",
      "metadata": {
        "id": "NfgfwFUIJc-2",
        "colab_type": "code",
        "outputId": "033be460-746c-4b96-8c04-7f464b5a4c2a",
        "colab": {
          "base_uri": "https://localhost:8080/",
          "height": 607
        }
      },
      "source": [
        "numeric_feats = all_data.dtypes[all_data.dtypes != 'object'].index\n",
        "print(skew(all_data[numeric_feats]))\n",
        "\n",
        "# 숫자형 변수중에 치우침을 확인해 보자.\n",
        "skewed_feats = all_data[numeric_feats].apply(\n",
        "    lambda x: \n",
        "    skew(x.dropna())).sort_values(ascending=False)\n",
        "\n",
        "print(\"\\nSkew in numerical features: \\n\")\n",
        "skewness = pd.DataFrame({'Skew' :skewed_feats})\n",
        "skewness.head(10)"
      ],
      "execution_count": 186,
      "outputs": [
        {
          "output_type": "stream",
          "text": [
            "[  1.25728598   0.86155552  11.37207993  -0.65170527   0.32656827\n",
            "  -2.86127142  -1.11732123   0.98064459   4.14450336   0.08364123\n",
            "  -3.04297932   0.62241476   3.92999597  -0.48836241   0.91968821\n",
            "  -3.45755483   4.00234409  -2.49648923  -1.80006232  -1.99264928\n",
            "   0.33261087   0.72527792   0.16551426  -4.05412621   0.21685689\n",
            "  -0.21929723  -3.59428981  -0.60995323  -3.07278781  -3.90463233\n",
            "   1.06875039   0.69666596   0.4855343    4.30055011  -1.4498143\n",
            "   4.97325361  13.10949469   1.1030386   -0.61856361  12.0845388\n",
            "   0.13970903   2.6217193   21.93967217  -0.64617306   2.5293582\n",
            "   0.56931382   0.18959089  -2.97774105  17.68866449 -21.2175999\n",
            "   3.94510123 -15.49475602   0.74923209   0.6717514    1.84479163\n",
            "  -0.59919436  -0.45013375   0.13199576   1.00915662]\n",
            "\n",
            "Skew in numerical features: \n",
            "\n"
          ],
          "name": "stdout"
        },
        {
          "output_type": "execute_result",
          "data": {
            "text/html": [
              "<div>\n",
              "<style scoped>\n",
              "    .dataframe tbody tr th:only-of-type {\n",
              "        vertical-align: middle;\n",
              "    }\n",
              "\n",
              "    .dataframe tbody tr th {\n",
              "        vertical-align: top;\n",
              "    }\n",
              "\n",
              "    .dataframe thead th {\n",
              "        text-align: right;\n",
              "    }\n",
              "</style>\n",
              "<table border=\"1\" class=\"dataframe\">\n",
              "  <thead>\n",
              "    <tr style=\"text-align: right;\">\n",
              "      <th></th>\n",
              "      <th>Skew</th>\n",
              "    </tr>\n",
              "  </thead>\n",
              "  <tbody>\n",
              "    <tr>\n",
              "      <th>MiscVal</th>\n",
              "      <td>21.939672</td>\n",
              "    </tr>\n",
              "    <tr>\n",
              "      <th>PoolArea</th>\n",
              "      <td>17.688664</td>\n",
              "    </tr>\n",
              "    <tr>\n",
              "      <th>LotArea</th>\n",
              "      <td>13.109495</td>\n",
              "    </tr>\n",
              "    <tr>\n",
              "      <th>LowQualFinSF</th>\n",
              "      <td>12.084539</td>\n",
              "    </tr>\n",
              "    <tr>\n",
              "      <th>3SsnPorch</th>\n",
              "      <td>11.372080</td>\n",
              "    </tr>\n",
              "    <tr>\n",
              "      <th>LandSlope</th>\n",
              "      <td>4.973254</td>\n",
              "    </tr>\n",
              "    <tr>\n",
              "      <th>KitchenAbvGr</th>\n",
              "      <td>4.300550</td>\n",
              "    </tr>\n",
              "    <tr>\n",
              "      <th>BsmtFinSF2</th>\n",
              "      <td>4.144503</td>\n",
              "    </tr>\n",
              "    <tr>\n",
              "      <th>EnclosedPorch</th>\n",
              "      <td>4.002344</td>\n",
              "    </tr>\n",
              "    <tr>\n",
              "      <th>ScreenPorch</th>\n",
              "      <td>3.945101</td>\n",
              "    </tr>\n",
              "  </tbody>\n",
              "</table>\n",
              "</div>"
            ],
            "text/plain": [
              "                    Skew\n",
              "MiscVal        21.939672\n",
              "PoolArea       17.688664\n",
              "LotArea        13.109495\n",
              "LowQualFinSF   12.084539\n",
              "3SsnPorch      11.372080\n",
              "LandSlope       4.973254\n",
              "KitchenAbvGr    4.300550\n",
              "BsmtFinSF2      4.144503\n",
              "EnclosedPorch   4.002344\n",
              "ScreenPorch     3.945101"
            ]
          },
          "metadata": {
            "tags": []
          },
          "execution_count": 186
        }
      ]
    },
    {
      "cell_type": "markdown",
      "metadata": {
        "id": "jJ8feaYCSxt7",
        "colab_type": "text"
      },
      "source": [
        "**Box Cox Tranformation of (highly) skewed freatures**\n",
        "- 비정상 확률 과정을 정상 확률 과정으로 변환하는 방법\n",
        " 1. 차분\n",
        " 2. 백분율(percentage change) 혹은 로그(logarithm) 변환\n",
        " 3. Box-Cox 변환\n",
        "\n",
        "\n",
        "scipy의 1+x의 Box-Cox 변환을 계산하는 boxcox1p를 사용\n",
        "\n",
        "- 위에서 종속변수에 적용한 log1p와 같은 원리이다.\n"
      ]
    },
    {
      "cell_type": "code",
      "metadata": {
        "id": "2izZksTcS244",
        "colab_type": "code",
        "outputId": "74f5155c-827f-4f89-db20-350c3c714e08",
        "colab": {
          "base_uri": "https://localhost:8080/",
          "height": 35
        }
      },
      "source": [
        "skewness = skewness[abs(skewness) > 0.75] #abs:절대값\n",
        "print(\"Box-Cox로 변형해야할 변수들이 {}개 있다. \".format(skewness.shape[0]))"
      ],
      "execution_count": 187,
      "outputs": [
        {
          "output_type": "stream",
          "text": [
            "Box-Cox로 변형해야할 변수들이 59개 있다. \n"
          ],
          "name": "stdout"
        }
      ]
    },
    {
      "cell_type": "code",
      "metadata": {
        "id": "ZJFR4btaVTKm",
        "colab_type": "code",
        "colab": {}
      },
      "source": [
        "from scipy.special import boxcox1p\n",
        "skewed_features = skewness.index\n",
        "lam = 0.15\n",
        "for feat in skewed_features:\n",
        "  #all_data[feat] += 1\n",
        "  all_data[feat] = boxcox1p(all_data[feat],lam)\n",
        "\n",
        "#all_data[skewed_features] = np.log1p(all_data[skewed_features])"
      ],
      "execution_count": 0,
      "outputs": []
    },
    {
      "cell_type": "markdown",
      "metadata": {
        "id": "ZeU9j1j2Bf1A",
        "colab_type": "text"
      },
      "source": [
        "##### Getting dummy categorical features"
      ]
    },
    {
      "cell_type": "code",
      "metadata": {
        "id": "pEc88668J5mJ",
        "colab_type": "code",
        "colab": {
          "base_uri": "https://localhost:8080/",
          "height": 35
        },
        "outputId": "bb69aa79-1ee8-47fe-cdfb-72eab04f4c31"
      },
      "source": [
        "all_data = pd.get_dummies(all_data)\n",
        "print(all_data.shape)"
      ],
      "execution_count": 189,
      "outputs": [
        {
          "output_type": "stream",
          "text": [
            "(2917, 220)\n"
          ],
          "name": "stdout"
        }
      ]
    },
    {
      "cell_type": "markdown",
      "metadata": {
        "id": "PRojO_HMJ7zf",
        "colab_type": "text"
      },
      "source": [
        "## Getting the new train and test sets.\n",
        "\n"
      ]
    },
    {
      "cell_type": "code",
      "metadata": {
        "id": "C5ubm4RPKbCD",
        "colab_type": "code",
        "colab": {}
      },
      "source": [
        "train = all_data[:ntrain]\n",
        "test = all_data[ntrain:]"
      ],
      "execution_count": 0,
      "outputs": []
    },
    {
      "cell_type": "markdown",
      "metadata": {
        "id": "Nt7VbgI5Btak",
        "colab_type": "text"
      },
      "source": [
        "## Modelling"
      ]
    },
    {
      "cell_type": "markdown",
      "metadata": {
        "id": "o3as6ULcBxf2",
        "colab_type": "text"
      },
      "source": [
        "Import libraries"
      ]
    },
    {
      "cell_type": "code",
      "metadata": {
        "id": "QNm6jn01Buqz",
        "colab_type": "code",
        "colab": {}
      },
      "source": [
        "from sklearn.linear_model import ElasticNet, Lasso,  BayesianRidge, LassoLarsIC\n",
        "from sklearn.ensemble import RandomForestRegressor,  GradientBoostingRegressor\n",
        "from sklearn.kernel_ridge import KernelRidge\n",
        "from sklearn.pipeline import make_pipeline\n",
        "from sklearn.preprocessing import RobustScaler\n",
        "from sklearn.base import BaseEstimator, TransformerMixin, RegressorMixin, clone\n",
        "from sklearn.model_selection import KFold, cross_val_score, train_test_split\n",
        "from sklearn.metrics import mean_squared_error\n",
        "import xgboost as xgb\n",
        "import lightgbm as lgb"
      ],
      "execution_count": 0,
      "outputs": []
    },
    {
      "cell_type": "markdown",
      "metadata": {
        "id": "WSBsqENsKcwz",
        "colab_type": "text"
      },
      "source": [
        "Define a cross validation strategy\n",
        "\n",
        "\n",
        "교차검증반복\n",
        "- cross_val_score(\n",
        "  - model=모델,\n",
        "  - x=독립변수,\n",
        "  - y=종속변수,\n",
        "  - scoring=성능 검증에 사용할 함수 이름,\n",
        "  - cv=교차검증 생성기 객체 또는 숫자)\n",
        "- cross_val_score에는 shuffle기능이 없기 때문에 shuffle을 할 수 있는 KFold 코드를 추가\n",
        "\n",
        "참조\n",
        "https://scikit-learn.org/stable/modules/generated/sklearn.model_selection.KFold.html"
      ]
    },
    {
      "cell_type": "code",
      "metadata": {
        "id": "Tq5wIccsKe6S",
        "colab_type": "code",
        "colab": {}
      },
      "source": [
        "# Validation function\n",
        "n_folds =5\n",
        "def rmsle_cv(model):\n",
        "  kf = KFold(n_splits = n_folds,shuffle=True,random_state=42).get_n_splits(train.values)\n",
        "  # kf = 5\n",
        "  rmse = np.sqrt(-cross_val_score(model,train.values,y_train,scoring=\n",
        "                                  'neg_mean_squared_error',cv=kf))\n",
        "  return(rmse)"
      ],
      "execution_count": 0,
      "outputs": []
    },
    {
      "cell_type": "markdown",
      "metadata": {
        "id": "2rMvNq8aPvD6",
        "colab_type": "text"
      },
      "source": [
        "### Base models"
      ]
    },
    {
      "cell_type": "markdown",
      "metadata": {
        "id": "RrLfRba5QIOg",
        "colab_type": "text"
      },
      "source": [
        "- LASSO Regression:\n",
        "\n",
        "이 모델은 아웃라이어에 민감하다. 그렇기 떄문에 아웃라이어에 robust(튼튼)하게 만들어야함. \n",
        "\n",
        "-> 파이프라인에 Robustscaler() 적용\n"
      ]
    },
    {
      "cell_type": "code",
      "metadata": {
        "id": "Qa1gW-SjUfbN",
        "colab_type": "code",
        "colab": {}
      },
      "source": [
        "lasso = make_pipeline(RobustScaler(), Lasso(alpha =0.0005, random_state=1))"
      ],
      "execution_count": 0,
      "outputs": []
    },
    {
      "cell_type": "markdown",
      "metadata": {
        "id": "O4H1AsaqUqDA",
        "colab_type": "text"
      },
      "source": [
        "- Elastic Net Regression\n",
        "\n",
        " For l1_ratio = 0 the penalty is an L2 penalty. For l1_ratio = 1 it is an L1 penalty. For 0 < l1_ratio < 1, the penalty is a combination of L1 and L2.\n",
        "\n",
        "\n",
        " 참조 https://scikit-learn.org/stable/modules/generated/sklearn.linear_model.ElasticNet.html"
      ]
    },
    {
      "cell_type": "code",
      "metadata": {
        "id": "BRFynYtAUtyo",
        "colab_type": "code",
        "colab": {}
      },
      "source": [
        "ENet = make_pipeline(RobustScaler(), ElasticNet(alpha=0.0005,\n",
        "                                                l1_ratio=.9, random_state=3))"
      ],
      "execution_count": 0,
      "outputs": []
    },
    {
      "cell_type": "markdown",
      "metadata": {
        "id": "t9Fe0demUxBF",
        "colab_type": "text"
      },
      "source": [
        "- Kernel Ridge Regression "
      ]
    },
    {
      "cell_type": "code",
      "metadata": {
        "id": "2cLHrURVV3Ix",
        "colab_type": "code",
        "colab": {}
      },
      "source": [
        "KRR = KernelRidge(alpha=0.6, kernel='polynomial', degree=2, coef0=2.5)"
      ],
      "execution_count": 0,
      "outputs": []
    },
    {
      "cell_type": "markdown",
      "metadata": {
        "id": "dq5eXzKnV4lM",
        "colab_type": "text"
      },
      "source": [
        "- Gradient Boosting Regression"
      ]
    },
    {
      "cell_type": "code",
      "metadata": {
        "id": "CwKzu5iUWz_b",
        "colab_type": "code",
        "colab": {}
      },
      "source": [
        "GBoost = GradientBoostingRegressor(n_estimators=3000, learning_rate=0.05,\n",
        "                                   max_depth=4, max_features='sqrt',\n",
        "                                   min_samples_leaf=15, min_samples_split=10, \n",
        "                                   loss='huber', random_state =5)"
      ],
      "execution_count": 0,
      "outputs": []
    },
    {
      "cell_type": "markdown",
      "metadata": {
        "id": "5dE750ydXGIY",
        "colab_type": "text"
      },
      "source": [
        "- XGBoost"
      ]
    },
    {
      "cell_type": "code",
      "metadata": {
        "id": "DBIeAFvfXJHG",
        "colab_type": "code",
        "colab": {}
      },
      "source": [
        "model_xgb = xgb.XGBRegressor(colsample_bytree=0.4603, gamma=0.0468, \n",
        "                             learning_rate=0.05, max_depth=3, \n",
        "                             min_child_weight=1.7817, n_estimators=2200,\n",
        "                             reg_alpha=0.4640, reg_lambda=0.8571,\n",
        "                             subsample=0.5213, silent=1,\n",
        "                             random_state =7, nthread = -1)"
      ],
      "execution_count": 0,
      "outputs": []
    },
    {
      "cell_type": "markdown",
      "metadata": {
        "id": "Z47bzZR9XLD3",
        "colab_type": "text"
      },
      "source": [
        "- LightGBM "
      ]
    },
    {
      "cell_type": "code",
      "metadata": {
        "id": "LldcsFg7XMji",
        "colab_type": "code",
        "colab": {}
      },
      "source": [
        "model_lgb = lgb.LGBMRegressor(objective='regression',num_leaves=5,\n",
        "                              learning_rate=0.05, n_estimators=720,\n",
        "                              max_bin = 55, bagging_fraction = 0.8,\n",
        "                              bagging_freq = 5, feature_fraction = 0.2319,\n",
        "                              feature_fraction_seed=9, bagging_seed=9,\n",
        "                              min_data_in_leaf =6, min_sum_hessian_in_leaf = 11)"
      ],
      "execution_count": 0,
      "outputs": []
    },
    {
      "cell_type": "markdown",
      "metadata": {
        "id": "yBKBJzS0XVaX",
        "colab_type": "text"
      },
      "source": [
        "#### Base models scores"
      ]
    },
    {
      "cell_type": "code",
      "metadata": {
        "id": "ngtVcfKFXcGF",
        "colab_type": "code",
        "colab": {
          "base_uri": "https://localhost:8080/",
          "height": 70
        },
        "outputId": "68451e50-eed6-4183-d788-68158a85990e"
      },
      "source": [
        "score = rmsle_cv(lasso)\n",
        "print(\"\\nLasso score: {:.4f} ({:.4f})\\n\".format(score.mean(), score.std()))"
      ],
      "execution_count": 199,
      "outputs": [
        {
          "output_type": "stream",
          "text": [
            "\n",
            "Lasso score: 0.1115 (0.0074)\n",
            "\n"
          ],
          "name": "stdout"
        }
      ]
    },
    {
      "cell_type": "code",
      "metadata": {
        "id": "joN2AbWmX9xK",
        "colab_type": "code",
        "colab": {
          "base_uri": "https://localhost:8080/",
          "height": 52
        },
        "outputId": "ab46e944-aa21-4982-8340-44749e8e8c26"
      },
      "source": [
        "score = rmsle_cv(ENet)\n",
        "print(\"ElasticNet score: {:.4f} ({:.4f})\\n\".format(score.mean(), score.std()))"
      ],
      "execution_count": 200,
      "outputs": [
        {
          "output_type": "stream",
          "text": [
            "ElasticNet score: 0.1116 (0.0074)\n",
            "\n"
          ],
          "name": "stdout"
        }
      ]
    },
    {
      "cell_type": "code",
      "metadata": {
        "id": "x8C0vapuYH3C",
        "colab_type": "code",
        "colab": {
          "base_uri": "https://localhost:8080/",
          "height": 52
        },
        "outputId": "c60c3275-3e03-4009-aefc-0926837404fb"
      },
      "source": [
        "score = rmsle_cv(KRR)\n",
        "print(\"Kernel Ridge score: {:.4f} ({:.4f})\\n\".format(score.mean(), score.std()))"
      ],
      "execution_count": 201,
      "outputs": [
        {
          "output_type": "stream",
          "text": [
            "Kernel Ridge score: 0.1153 (0.0075)\n",
            "\n"
          ],
          "name": "stdout"
        }
      ]
    },
    {
      "cell_type": "code",
      "metadata": {
        "id": "2KOqpD90YMZg",
        "colab_type": "code",
        "colab": {
          "base_uri": "https://localhost:8080/",
          "height": 52
        },
        "outputId": "1a097aa9-deba-43ff-fd57-f77a860c4554"
      },
      "source": [
        "score = rmsle_cv(GBoost)\n",
        "print(\"Gradient Boosting score: {:.4f} ({:.4f})\\n\".format(score.mean(), score.std()))"
      ],
      "execution_count": 202,
      "outputs": [
        {
          "output_type": "stream",
          "text": [
            "Gradient Boosting score: 0.1177 (0.0080)\n",
            "\n"
          ],
          "name": "stdout"
        }
      ]
    },
    {
      "cell_type": "code",
      "metadata": {
        "id": "jsTWxzdYYNrv",
        "colab_type": "code",
        "colab": {
          "base_uri": "https://localhost:8080/",
          "height": 52
        },
        "outputId": "4ad0e273-f3e6-4c80-aba1-06ac29cb7941"
      },
      "source": [
        "score = rmsle_cv(model_xgb)\n",
        "print(\"Xgboost score: {:.4f} ({:.4f})\\n\".format(score.mean(), score.std()))"
      ],
      "execution_count": 203,
      "outputs": [
        {
          "output_type": "stream",
          "text": [
            "Xgboost score: 0.1168 (0.0058)\n",
            "\n"
          ],
          "name": "stdout"
        }
      ]
    },
    {
      "cell_type": "code",
      "metadata": {
        "id": "FnqmfgHpYP0m",
        "colab_type": "code",
        "colab": {
          "base_uri": "https://localhost:8080/",
          "height": 52
        },
        "outputId": "5fedb9ff-9d19-481b-87ed-8a2b1e4ab2dd"
      },
      "source": [
        "score = rmsle_cv(model_lgb)\n",
        "print(\"LGBM score: {:.4f} ({:.4f})\\n\" .format(score.mean(), score.std()))"
      ],
      "execution_count": 204,
      "outputs": [
        {
          "output_type": "stream",
          "text": [
            "LGBM score: 0.1167 (0.0072)\n",
            "\n"
          ],
          "name": "stdout"
        }
      ]
    },
    {
      "cell_type": "markdown",
      "metadata": {
        "id": "Seo9VaMHYRPD",
        "colab_type": "text"
      },
      "source": [
        "### Stacking models"
      ]
    },
    {
      "cell_type": "markdown",
      "metadata": {
        "id": "QJR-jyXKY4lz",
        "colab_type": "text"
      },
      "source": [
        "#### Simple Stacking approach : Averaging base models"
      ]
    },
    {
      "cell_type": "markdown",
      "metadata": {
        "id": "_tSPPnVme5Nq",
        "colab_type": "text"
      },
      "source": [
        "Averaged base models class"
      ]
    },
    {
      "cell_type": "code",
      "metadata": {
        "id": "ghFgZkT3fw4u",
        "colab_type": "code",
        "colab": {}
      },
      "source": [
        "class AveragingModels(BaseEstimator,RegressorMixin,TransformerMixin):\n",
        "  def __init__(self,models):\n",
        "    self.models = models\n",
        "  \n",
        "  # 데이터에 맞는 원래의 모델의 Clones을 정의\n",
        "  def fit(self,X,y):\n",
        "    self.models_ = [clone(x) for x in self.models]\n",
        "\n",
        "    # Train cloned base models\n",
        "    for model in self.models_:\n",
        "      model.fit(X,y)\n",
        "    \n",
        "    return self\n",
        "\n",
        "  # 복제된 모델들에 대한 예측과 평균을 낸다.\n",
        "  def predict(self, X):\n",
        "    predictions = np.column_stack([model.predict(X) for model in self.models_])\n",
        "    return np.mean(predictions,axis=1)"
      ],
      "execution_count": 0,
      "outputs": []
    },
    {
      "cell_type": "markdown",
      "metadata": {
        "id": "XIji87lsiMZB",
        "colab_type": "text"
      },
      "source": [
        "Averaged base models score\n",
        "\n",
        "- 다른 모델들도 더 추가할 수 있음"
      ]
    },
    {
      "cell_type": "code",
      "metadata": {
        "id": "tR9qBWrbjGdM",
        "colab_type": "code",
        "colab": {
          "base_uri": "https://localhost:8080/",
          "height": 52
        },
        "outputId": "d8668625-8fd8-4dcf-f448-60bef36fd45a"
      },
      "source": [
        "averaged_models = AveragingModels(models=(ENet, GBoost, KRR, lasso))\n",
        "\n",
        "score = rmsle_cv(averaged_models)\n",
        "print(\" Averaged base models score: {:.4f} ({:.4f})\\n\".format(score.mean(), score.std()))"
      ],
      "execution_count": 206,
      "outputs": [
        {
          "output_type": "stream",
          "text": [
            " Averaged base models score: 0.1091 (0.0075)\n",
            "\n"
          ],
          "name": "stdout"
        }
      ]
    },
    {
      "cell_type": "markdown",
      "metadata": {
        "id": "Aht9vlxvkK-Y",
        "colab_type": "text"
      },
      "source": [
        "#### Less simple Stacking : Adding a Meta-mode"
      ]
    },
    {
      "cell_type": "code",
      "metadata": {
        "id": "nJ06cNBHjpuL",
        "colab_type": "code",
        "colab": {}
      },
      "source": [
        "class StackingAveragedModels(BaseEstimator, RegressorMixin, TransformerMixin):\n",
        "    def __init__(self, base_models, meta_model, n_folds=5):\n",
        "        self.base_models = base_models\n",
        "        self.meta_model = meta_model\n",
        "        self.n_folds = n_folds\n",
        "   \n",
        "    # We again fit the data on clones of the original models\n",
        "    def fit(self, X, y):\n",
        "        self.base_models_ = [list() for x in self.base_models]\n",
        "        self.meta_model_ = clone(self.meta_model)\n",
        "        kfold = KFold(n_splits=self.n_folds, shuffle=True, random_state=156)\n",
        "        \n",
        "        # Train cloned base models then create out-of-fold predictions\n",
        "        # that are needed to train the cloned meta-model\n",
        "        out_of_fold_predictions = np.zeros((X.shape[0], len(self.base_models)))\n",
        "        for i, model in enumerate(self.base_models):\n",
        "            for train_index, holdout_index in kfold.split(X, y):\n",
        "                instance = clone(model)\n",
        "                self.base_models_[i].append(instance)\n",
        "                instance.fit(X[train_index], y[train_index])\n",
        "                y_pred = instance.predict(X[holdout_index])\n",
        "                out_of_fold_predictions[holdout_index, i] = y_pred\n",
        "                \n",
        "        # Now train the cloned  meta-model using the out-of-fold predictions as new feature\n",
        "        self.meta_model_.fit(out_of_fold_predictions, y)\n",
        "        return self\n",
        "   \n",
        "    #Do the predictions of all base models on the test data and use the averaged predictions as \n",
        "    #meta-features for the final prediction which is done by the meta-model\n",
        "    def predict(self, X):\n",
        "        meta_features = np.column_stack([\n",
        "            np.column_stack([model.predict(X) for model in base_models]).mean(axis=1)\n",
        "            for base_models in self.base_models_ ])\n",
        "        return self.meta_model_.predict(meta_features)"
      ],
      "execution_count": 0,
      "outputs": []
    },
    {
      "cell_type": "markdown",
      "metadata": {
        "id": "cmSTHChgqkTE",
        "colab_type": "text"
      },
      "source": [
        "Stacking Averaged models Score"
      ]
    },
    {
      "cell_type": "code",
      "metadata": {
        "id": "EHqzXGJCqms_",
        "colab_type": "code",
        "colab": {
          "base_uri": "https://localhost:8080/",
          "height": 35
        },
        "outputId": "090bf41c-5f99-4ac6-968b-13bc4d61eb8d"
      },
      "source": [
        "stacked_averaged_models = StackingAveragedModels(base_models = (ENet, GBoost, KRR),\n",
        "                                                 meta_model = lasso)\n",
        "\n",
        "score = rmsle_cv(stacked_averaged_models)\n",
        "print(\"Stacking Averaged models score: {:.4f} ({:.4f})\".format(score.mean(), score.std()))"
      ],
      "execution_count": 209,
      "outputs": [
        {
          "output_type": "stream",
          "text": [
            "Stacking Averaged models score: 0.1085 (0.0074)\n"
          ],
          "name": "stdout"
        }
      ]
    },
    {
      "cell_type": "markdown",
      "metadata": {
        "id": "37RHHlpqt3Cz",
        "colab_type": "text"
      },
      "source": [
        "Stacking Models을 적용하면 Score가 개선된 것을 볼 수 있음."
      ]
    },
    {
      "cell_type": "markdown",
      "metadata": {
        "id": "fJJ0WBv-reCm",
        "colab_type": "text"
      },
      "source": [
        "---"
      ]
    },
    {
      "cell_type": "markdown",
      "metadata": {
        "id": "N2QTaA2Sq0i6",
        "colab_type": "text"
      },
      "source": [
        "최종적으로 Training을 하고 Prediction을 할때 StackingRegressor와 Xgboost,Lightgbm과 함께 앙상블 예측을 적용하는 것이 좋음.\n",
        "\n",
        "\n",
        "    def rmsle(y, y_pred):\n",
        "       return np.sqrt(mean_squared_error(y, y_pred))"
      ]
    }
  ]
}
