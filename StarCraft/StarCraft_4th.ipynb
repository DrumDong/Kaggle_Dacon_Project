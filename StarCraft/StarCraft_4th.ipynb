{
  "nbformat": 4,
  "nbformat_minor": 0,
  "metadata": {
    "colab": {
      "name": "StarCraft_4th.ipynb",
      "provenance": [],
      "collapsed_sections": [],
      "machine_shape": "hm",
      "authorship_tag": "ABX9TyN2AZpi/yEETkHY6YmTSq7C"
    },
    "kernelspec": {
      "name": "python3",
      "display_name": "Python 3"
    },
    "accelerator": "GPU"
  },
  "cells": [
    {
      "cell_type": "code",
      "metadata": {
        "id": "1035RxzEul7C",
        "colab_type": "code",
        "colab": {}
      },
      "source": [
        "import pandas as pd\n",
        "import numpy as np\n",
        "import matplotlib.pyplot as plt\n",
        "import seaborn as sns"
      ],
      "execution_count": 0,
      "outputs": []
    },
    {
      "cell_type": "code",
      "metadata": {
        "id": "eLipo1Bexrui",
        "colab_type": "code",
        "colab": {}
      },
      "source": [
        "train = pd.read_pickle('/content/drive/My Drive/Colab Notebooks/data/데이콘/스타2/train.pkl')\n",
        "test = pd.read_pickle('/content/drive/My Drive/Colab Notebooks/data/데이콘/스타2/test.pkl')"
      ],
      "execution_count": 0,
      "outputs": []
    },
    {
      "cell_type": "markdown",
      "metadata": {
        "id": "-RppK_Zl6vXZ",
        "colab_type": "text"
      },
      "source": [
        "Camera :0"
      ]
    },
    {
      "cell_type": "code",
      "metadata": {
        "id": "PGm5eod1xsLj",
        "colab_type": "code",
        "colab": {}
      },
      "source": [
        "def make_df(toy_data,id): #toy_data는 내가 넣을 data임. 귀찮아서 안바꿨당 쏘리쏘리\n",
        "  #아이디별 본진 좌표값 저장\n",
        "  st_axis_0=np.array(toy_data[(toy_data['game_id']==id)&\n",
        "           (toy_data['player']==0)&\n",
        "           (toy_data['event']==0)][['x_axis','y_axis']])[0]\n",
        "         \n",
        "  st_axis_1=np.array(toy_data[(toy_data['game_id']==id)&\n",
        "           (toy_data['player']==1)&\n",
        "           (toy_data['event']==0)][['x_axis','y_axis']])[0]\n",
        "  \n",
        "  # 계산\n",
        "  df_abs_0=abs(toy_data[(toy_data['game_id']==id)&\n",
        "           (toy_data['player']==0)&\n",
        "           (toy_data['event']==0)][['x_axis','y_axis']][-200:] - st_axis_0)\n",
        "\n",
        "  df_abs_1=abs(toy_data[(toy_data['game_id']==id)&\n",
        "           (toy_data['player']==1)&\n",
        "           (toy_data['event']==0)][['x_axis','y_axis']][-200:] - st_axis_1)\n",
        "  \n",
        "  df_abs_0['x+y']= df_abs_0['x_axis']+df_abs_0['y_axis']\n",
        "  df_abs_1['x+y']= df_abs_1['x_axis']+df_abs_1['y_axis']\n",
        "\n",
        "  from collections import OrderedDict\n",
        "  data = OrderedDict()\n",
        "\n",
        "  for idx,i in enumerate( np.array(df_abs_0['x+y'])):\n",
        "    data['0_%s'%(idx)]=[i]\n",
        "  for idx,i in enumerate( np.array(df_abs_1['x+y'])):\n",
        "    data['1_%s'%(idx)]=[i]\n",
        "  \n",
        "  final_df = pd.DataFrame(data,columns=data.keys())\n",
        "  \n",
        "  #print(final_df)\n",
        "  return final_df"
      ],
      "execution_count": 0,
      "outputs": []
    },
    {
      "cell_type": "code",
      "metadata": {
        "id": "ZHKC6Lvfzfm5",
        "colab_type": "code",
        "outputId": "49a54e77-564e-4b75-9fbb-fa1dd1d68d97",
        "colab": {
          "base_uri": "https://localhost:8080/",
          "height": 419
        }
      },
      "source": [
        "# event == Camera만 남겨두고 모든 행은 없애도록 하자.\n",
        "train_data = train[train['event']==0]\n",
        "train_data\n",
        "\n",
        "test_data = test[test['event']==0]\n",
        "test_data"
      ],
      "execution_count": 4,
      "outputs": [
        {
          "output_type": "execute_result",
          "data": {
            "text/html": [
              "<div>\n",
              "<style scoped>\n",
              "    .dataframe tbody tr th:only-of-type {\n",
              "        vertical-align: middle;\n",
              "    }\n",
              "\n",
              "    .dataframe tbody tr th {\n",
              "        vertical-align: top;\n",
              "    }\n",
              "\n",
              "    .dataframe thead th {\n",
              "        text-align: right;\n",
              "    }\n",
              "</style>\n",
              "<table border=\"1\" class=\"dataframe\">\n",
              "  <thead>\n",
              "    <tr style=\"text-align: right;\">\n",
              "      <th></th>\n",
              "      <th>game_id</th>\n",
              "      <th>time</th>\n",
              "      <th>player</th>\n",
              "      <th>species</th>\n",
              "      <th>event</th>\n",
              "      <th>event_contents</th>\n",
              "    </tr>\n",
              "  </thead>\n",
              "  <tbody>\n",
              "    <tr>\n",
              "      <th>0</th>\n",
              "      <td>38872.0</td>\n",
              "      <td>0</td>\n",
              "      <td>0.0</td>\n",
              "      <td>1.0</td>\n",
              "      <td>0.0</td>\n",
              "      <td>at (22.25, 81.5078125)</td>\n",
              "    </tr>\n",
              "    <tr>\n",
              "      <th>1</th>\n",
              "      <td>38872.0</td>\n",
              "      <td>0</td>\n",
              "      <td>1.0</td>\n",
              "      <td>1.0</td>\n",
              "      <td>0.0</td>\n",
              "      <td>at (120.25, 153.83984375)</td>\n",
              "    </tr>\n",
              "    <tr>\n",
              "      <th>6</th>\n",
              "      <td>38872.0</td>\n",
              "      <td>0</td>\n",
              "      <td>1.0</td>\n",
              "      <td>1.0</td>\n",
              "      <td>0.0</td>\n",
              "      <td>at (120.25, 153.25390625)</td>\n",
              "    </tr>\n",
              "    <tr>\n",
              "      <th>7</th>\n",
              "      <td>38872.0</td>\n",
              "      <td>0</td>\n",
              "      <td>1.0</td>\n",
              "      <td>1.0</td>\n",
              "      <td>0.0</td>\n",
              "      <td>at (120.25, 152.43359375)</td>\n",
              "    </tr>\n",
              "    <tr>\n",
              "      <th>8</th>\n",
              "      <td>38872.0</td>\n",
              "      <td>0</td>\n",
              "      <td>1.0</td>\n",
              "      <td>1.0</td>\n",
              "      <td>0.0</td>\n",
              "      <td>at (117.96875, 152.765625)</td>\n",
              "    </tr>\n",
              "    <tr>\n",
              "      <th>...</th>\n",
              "      <td>...</td>\n",
              "      <td>...</td>\n",
              "      <td>...</td>\n",
              "      <td>...</td>\n",
              "      <td>...</td>\n",
              "      <td>...</td>\n",
              "    </tr>\n",
              "    <tr>\n",
              "      <th>28714829</th>\n",
              "      <td>55658.0</td>\n",
              "      <td>4</td>\n",
              "      <td>1.0</td>\n",
              "      <td>0.0</td>\n",
              "      <td>0.0</td>\n",
              "      <td>at (128.4921875, 39.67578125)</td>\n",
              "    </tr>\n",
              "    <tr>\n",
              "      <th>28714830</th>\n",
              "      <td>55658.0</td>\n",
              "      <td>4</td>\n",
              "      <td>1.0</td>\n",
              "      <td>0.0</td>\n",
              "      <td>0.0</td>\n",
              "      <td>at (126.65234375, 41.51171875)</td>\n",
              "    </tr>\n",
              "    <tr>\n",
              "      <th>28714831</th>\n",
              "      <td>55658.0</td>\n",
              "      <td>4</td>\n",
              "      <td>1.0</td>\n",
              "      <td>0.0</td>\n",
              "      <td>0.0</td>\n",
              "      <td>at (124.45703125, 43.70703125)</td>\n",
              "    </tr>\n",
              "    <tr>\n",
              "      <th>28714833</th>\n",
              "      <td>55658.0</td>\n",
              "      <td>4</td>\n",
              "      <td>0.0</td>\n",
              "      <td>2.0</td>\n",
              "      <td>0.0</td>\n",
              "      <td>at (126.10546875, 42.29296875)</td>\n",
              "    </tr>\n",
              "    <tr>\n",
              "      <th>28714845</th>\n",
              "      <td>55658.0</td>\n",
              "      <td>4</td>\n",
              "      <td>0.0</td>\n",
              "      <td>2.0</td>\n",
              "      <td>0.0</td>\n",
              "      <td>at (70.9921875, 117.65234375)</td>\n",
              "    </tr>\n",
              "  </tbody>\n",
              "</table>\n",
              "<p>13557866 rows × 6 columns</p>\n",
              "</div>"
            ],
            "text/plain": [
              "          game_id  time  player  species  event                  event_contents\n",
              "0         38872.0     0     0.0      1.0    0.0          at (22.25, 81.5078125)\n",
              "1         38872.0     0     1.0      1.0    0.0       at (120.25, 153.83984375)\n",
              "6         38872.0     0     1.0      1.0    0.0       at (120.25, 153.25390625)\n",
              "7         38872.0     0     1.0      1.0    0.0       at (120.25, 152.43359375)\n",
              "8         38872.0     0     1.0      1.0    0.0      at (117.96875, 152.765625)\n",
              "...           ...   ...     ...      ...    ...                             ...\n",
              "28714829  55658.0     4     1.0      0.0    0.0   at (128.4921875, 39.67578125)\n",
              "28714830  55658.0     4     1.0      0.0    0.0  at (126.65234375, 41.51171875)\n",
              "28714831  55658.0     4     1.0      0.0    0.0  at (124.45703125, 43.70703125)\n",
              "28714833  55658.0     4     0.0      2.0    0.0  at (126.10546875, 42.29296875)\n",
              "28714845  55658.0     4     0.0      2.0    0.0   at (70.9921875, 117.65234375)\n",
              "\n",
              "[13557866 rows x 6 columns]"
            ]
          },
          "metadata": {
            "tags": []
          },
          "execution_count": 4
        }
      ]
    },
    {
      "cell_type": "code",
      "metadata": {
        "id": "QAB5aGO2z_cN",
        "colab_type": "code",
        "outputId": "bb7007c1-8db9-442f-ae92-0b7877494fb0",
        "colab": {
          "base_uri": "https://localhost:8080/",
          "height": 233
        }
      },
      "source": [
        "for data in [train_data,test_data]:\n",
        "  data['new_event']=data.loc[data['event']==0,'event_contents'].apply(lambda x: x.lstrip('at ('))\n",
        "  data['new_event']=data.loc[data['event']==0,'new_event'].apply(lambda x: x.rstrip(')'))"
      ],
      "execution_count": 5,
      "outputs": [
        {
          "output_type": "stream",
          "text": [
            "/usr/local/lib/python3.6/dist-packages/ipykernel_launcher.py:2: SettingWithCopyWarning: \n",
            "A value is trying to be set on a copy of a slice from a DataFrame.\n",
            "Try using .loc[row_indexer,col_indexer] = value instead\n",
            "\n",
            "See the caveats in the documentation: http://pandas.pydata.org/pandas-docs/stable/user_guide/indexing.html#returning-a-view-versus-a-copy\n",
            "  \n",
            "/usr/local/lib/python3.6/dist-packages/ipykernel_launcher.py:3: SettingWithCopyWarning: \n",
            "A value is trying to be set on a copy of a slice from a DataFrame.\n",
            "Try using .loc[row_indexer,col_indexer] = value instead\n",
            "\n",
            "See the caveats in the documentation: http://pandas.pydata.org/pandas-docs/stable/user_guide/indexing.html#returning-a-view-versus-a-copy\n",
            "  This is separate from the ipykernel package so we can avoid doing imports until\n"
          ],
          "name": "stderr"
        }
      ]
    },
    {
      "cell_type": "markdown",
      "metadata": {
        "id": "qY4LdnFBC03M",
        "colab_type": "text"
      },
      "source": [
        "메모리를 위해 train과 test를 지우자"
      ]
    },
    {
      "cell_type": "code",
      "metadata": {
        "id": "nICADMl7AXo1",
        "colab_type": "code",
        "colab": {}
      },
      "source": [
        "del train\n",
        "del test"
      ],
      "execution_count": 0,
      "outputs": []
    },
    {
      "cell_type": "code",
      "metadata": {
        "id": "bvyTTQpzAkHb",
        "colab_type": "code",
        "colab": {
          "base_uri": "https://localhost:8080/",
          "height": 419
        },
        "outputId": "276175f5-0acc-4a1d-e892-966850d4e090"
      },
      "source": [
        "train_data"
      ],
      "execution_count": 8,
      "outputs": [
        {
          "output_type": "execute_result",
          "data": {
            "text/html": [
              "<div>\n",
              "<style scoped>\n",
              "    .dataframe tbody tr th:only-of-type {\n",
              "        vertical-align: middle;\n",
              "    }\n",
              "\n",
              "    .dataframe tbody tr th {\n",
              "        vertical-align: top;\n",
              "    }\n",
              "\n",
              "    .dataframe thead th {\n",
              "        text-align: right;\n",
              "    }\n",
              "</style>\n",
              "<table border=\"1\" class=\"dataframe\">\n",
              "  <thead>\n",
              "    <tr style=\"text-align: right;\">\n",
              "      <th></th>\n",
              "      <th>game_id</th>\n",
              "      <th>winner</th>\n",
              "      <th>time</th>\n",
              "      <th>player</th>\n",
              "      <th>species</th>\n",
              "      <th>event</th>\n",
              "      <th>event_contents</th>\n",
              "      <th>new_event</th>\n",
              "    </tr>\n",
              "  </thead>\n",
              "  <tbody>\n",
              "    <tr>\n",
              "      <th>0</th>\n",
              "      <td>0.0</td>\n",
              "      <td>1.0</td>\n",
              "      <td>0.0</td>\n",
              "      <td>0.0</td>\n",
              "      <td>0.0</td>\n",
              "      <td>0.0</td>\n",
              "      <td>at (145.25, 21.5078125)</td>\n",
              "      <td>145.25, 21.5078125</td>\n",
              "    </tr>\n",
              "    <tr>\n",
              "      <th>1</th>\n",
              "      <td>0.0</td>\n",
              "      <td>1.0</td>\n",
              "      <td>0.0</td>\n",
              "      <td>1.0</td>\n",
              "      <td>0.0</td>\n",
              "      <td>0.0</td>\n",
              "      <td>at (22.75, 147.0078125)</td>\n",
              "      <td>22.75, 147.0078125</td>\n",
              "    </tr>\n",
              "    <tr>\n",
              "      <th>4</th>\n",
              "      <td>0.0</td>\n",
              "      <td>1.0</td>\n",
              "      <td>0.0</td>\n",
              "      <td>0.0</td>\n",
              "      <td>0.0</td>\n",
              "      <td>0.0</td>\n",
              "      <td>at (142.99609375, 24.50390625)</td>\n",
              "      <td>142.99609375, 24.50390625</td>\n",
              "    </tr>\n",
              "    <tr>\n",
              "      <th>5</th>\n",
              "      <td>0.0</td>\n",
              "      <td>1.0</td>\n",
              "      <td>0.0</td>\n",
              "      <td>0.0</td>\n",
              "      <td>0.0</td>\n",
              "      <td>0.0</td>\n",
              "      <td>at (142.5078125, 24.98828125)</td>\n",
              "      <td>142.5078125, 24.98828125</td>\n",
              "    </tr>\n",
              "    <tr>\n",
              "      <th>6</th>\n",
              "      <td>0.0</td>\n",
              "      <td>1.0</td>\n",
              "      <td>0.0</td>\n",
              "      <td>0.0</td>\n",
              "      <td>0.0</td>\n",
              "      <td>0.0</td>\n",
              "      <td>at (139.6171875, 27.8828125)</td>\n",
              "      <td>139.6171875, 27.8828125</td>\n",
              "    </tr>\n",
              "    <tr>\n",
              "      <th>...</th>\n",
              "      <td>...</td>\n",
              "      <td>...</td>\n",
              "      <td>...</td>\n",
              "      <td>...</td>\n",
              "      <td>...</td>\n",
              "      <td>...</td>\n",
              "      <td>...</td>\n",
              "      <td>...</td>\n",
              "    </tr>\n",
              "    <tr>\n",
              "      <th>67091769</th>\n",
              "      <td>38871.0</td>\n",
              "      <td>0.0</td>\n",
              "      <td>8.0</td>\n",
              "      <td>1.0</td>\n",
              "      <td>0.0</td>\n",
              "      <td>0.0</td>\n",
              "      <td>at (51.0390625, 115.51171875)</td>\n",
              "      <td>51.0390625, 115.51171875</td>\n",
              "    </tr>\n",
              "    <tr>\n",
              "      <th>67091770</th>\n",
              "      <td>38871.0</td>\n",
              "      <td>0.0</td>\n",
              "      <td>8.0</td>\n",
              "      <td>1.0</td>\n",
              "      <td>0.0</td>\n",
              "      <td>0.0</td>\n",
              "      <td>at (51.0390625, 116.61328125)</td>\n",
              "      <td>51.0390625, 116.61328125</td>\n",
              "    </tr>\n",
              "    <tr>\n",
              "      <th>67091771</th>\n",
              "      <td>38871.0</td>\n",
              "      <td>0.0</td>\n",
              "      <td>8.0</td>\n",
              "      <td>0.0</td>\n",
              "      <td>2.0</td>\n",
              "      <td>0.0</td>\n",
              "      <td>at (139.578125, 62.58203125)</td>\n",
              "      <td>139.578125, 62.58203125</td>\n",
              "    </tr>\n",
              "    <tr>\n",
              "      <th>67091773</th>\n",
              "      <td>38871.0</td>\n",
              "      <td>0.0</td>\n",
              "      <td>8.0</td>\n",
              "      <td>0.0</td>\n",
              "      <td>2.0</td>\n",
              "      <td>0.0</td>\n",
              "      <td>at (122.42578125, 45.4296875)</td>\n",
              "      <td>122.42578125, 45.4296875</td>\n",
              "    </tr>\n",
              "    <tr>\n",
              "      <th>67091774</th>\n",
              "      <td>38871.0</td>\n",
              "      <td>0.0</td>\n",
              "      <td>8.0</td>\n",
              "      <td>0.0</td>\n",
              "      <td>2.0</td>\n",
              "      <td>0.0</td>\n",
              "      <td>at (122.42578125, 43.25390625)</td>\n",
              "      <td>122.42578125, 43.25390625</td>\n",
              "    </tr>\n",
              "  </tbody>\n",
              "</table>\n",
              "<p>31629407 rows × 8 columns</p>\n",
              "</div>"
            ],
            "text/plain": [
              "          game_id  ...                  new_event\n",
              "0             0.0  ...         145.25, 21.5078125\n",
              "1             0.0  ...         22.75, 147.0078125\n",
              "4             0.0  ...  142.99609375, 24.50390625\n",
              "5             0.0  ...   142.5078125, 24.98828125\n",
              "6             0.0  ...    139.6171875, 27.8828125\n",
              "...           ...  ...                        ...\n",
              "67091769  38871.0  ...   51.0390625, 115.51171875\n",
              "67091770  38871.0  ...   51.0390625, 116.61328125\n",
              "67091771  38871.0  ...    139.578125, 62.58203125\n",
              "67091773  38871.0  ...   122.42578125, 45.4296875\n",
              "67091774  38871.0  ...  122.42578125, 43.25390625\n",
              "\n",
              "[31629407 rows x 8 columns]"
            ]
          },
          "metadata": {
            "tags": []
          },
          "execution_count": 8
        }
      ]
    },
    {
      "cell_type": "code",
      "metadata": {
        "id": "ngiBMOiLzsuZ",
        "colab_type": "code",
        "colab": {
          "base_uri": "https://localhost:8080/",
          "height": 204
        },
        "outputId": "0e67b071-79f2-4627-97a2-0254f4709b84"
      },
      "source": [
        "train_data['new_event']=train_data['new_event'].apply(lambda x: x.split(','))\n",
        "train_data.head()"
      ],
      "execution_count": 9,
      "outputs": [
        {
          "output_type": "execute_result",
          "data": {
            "text/html": [
              "<div>\n",
              "<style scoped>\n",
              "    .dataframe tbody tr th:only-of-type {\n",
              "        vertical-align: middle;\n",
              "    }\n",
              "\n",
              "    .dataframe tbody tr th {\n",
              "        vertical-align: top;\n",
              "    }\n",
              "\n",
              "    .dataframe thead th {\n",
              "        text-align: right;\n",
              "    }\n",
              "</style>\n",
              "<table border=\"1\" class=\"dataframe\">\n",
              "  <thead>\n",
              "    <tr style=\"text-align: right;\">\n",
              "      <th></th>\n",
              "      <th>game_id</th>\n",
              "      <th>winner</th>\n",
              "      <th>time</th>\n",
              "      <th>player</th>\n",
              "      <th>species</th>\n",
              "      <th>event</th>\n",
              "      <th>event_contents</th>\n",
              "      <th>new_event</th>\n",
              "    </tr>\n",
              "  </thead>\n",
              "  <tbody>\n",
              "    <tr>\n",
              "      <th>0</th>\n",
              "      <td>0.0</td>\n",
              "      <td>1.0</td>\n",
              "      <td>0.0</td>\n",
              "      <td>0.0</td>\n",
              "      <td>0.0</td>\n",
              "      <td>0.0</td>\n",
              "      <td>at (145.25, 21.5078125)</td>\n",
              "      <td>[145.25,  21.5078125]</td>\n",
              "    </tr>\n",
              "    <tr>\n",
              "      <th>1</th>\n",
              "      <td>0.0</td>\n",
              "      <td>1.0</td>\n",
              "      <td>0.0</td>\n",
              "      <td>1.0</td>\n",
              "      <td>0.0</td>\n",
              "      <td>0.0</td>\n",
              "      <td>at (22.75, 147.0078125)</td>\n",
              "      <td>[22.75,  147.0078125]</td>\n",
              "    </tr>\n",
              "    <tr>\n",
              "      <th>4</th>\n",
              "      <td>0.0</td>\n",
              "      <td>1.0</td>\n",
              "      <td>0.0</td>\n",
              "      <td>0.0</td>\n",
              "      <td>0.0</td>\n",
              "      <td>0.0</td>\n",
              "      <td>at (142.99609375, 24.50390625)</td>\n",
              "      <td>[142.99609375,  24.50390625]</td>\n",
              "    </tr>\n",
              "    <tr>\n",
              "      <th>5</th>\n",
              "      <td>0.0</td>\n",
              "      <td>1.0</td>\n",
              "      <td>0.0</td>\n",
              "      <td>0.0</td>\n",
              "      <td>0.0</td>\n",
              "      <td>0.0</td>\n",
              "      <td>at (142.5078125, 24.98828125)</td>\n",
              "      <td>[142.5078125,  24.98828125]</td>\n",
              "    </tr>\n",
              "    <tr>\n",
              "      <th>6</th>\n",
              "      <td>0.0</td>\n",
              "      <td>1.0</td>\n",
              "      <td>0.0</td>\n",
              "      <td>0.0</td>\n",
              "      <td>0.0</td>\n",
              "      <td>0.0</td>\n",
              "      <td>at (139.6171875, 27.8828125)</td>\n",
              "      <td>[139.6171875,  27.8828125]</td>\n",
              "    </tr>\n",
              "  </tbody>\n",
              "</table>\n",
              "</div>"
            ],
            "text/plain": [
              "   game_id  ...                     new_event\n",
              "0      0.0  ...         [145.25,  21.5078125]\n",
              "1      0.0  ...         [22.75,  147.0078125]\n",
              "4      0.0  ...  [142.99609375,  24.50390625]\n",
              "5      0.0  ...   [142.5078125,  24.98828125]\n",
              "6      0.0  ...    [139.6171875,  27.8828125]\n",
              "\n",
              "[5 rows x 8 columns]"
            ]
          },
          "metadata": {
            "tags": []
          },
          "execution_count": 9
        }
      ]
    },
    {
      "cell_type": "code",
      "metadata": {
        "id": "2kOs_vLtz1aZ",
        "colab_type": "code",
        "colab": {
          "base_uri": "https://localhost:8080/",
          "height": 204
        },
        "outputId": "b11dcb1f-edf3-4af3-8d19-1fc0a691d242"
      },
      "source": [
        "test_data['new_event']=test_data['new_event'].apply(lambda x: x.split(','))\n",
        "test_data.head()"
      ],
      "execution_count": 10,
      "outputs": [
        {
          "output_type": "execute_result",
          "data": {
            "text/html": [
              "<div>\n",
              "<style scoped>\n",
              "    .dataframe tbody tr th:only-of-type {\n",
              "        vertical-align: middle;\n",
              "    }\n",
              "\n",
              "    .dataframe tbody tr th {\n",
              "        vertical-align: top;\n",
              "    }\n",
              "\n",
              "    .dataframe thead th {\n",
              "        text-align: right;\n",
              "    }\n",
              "</style>\n",
              "<table border=\"1\" class=\"dataframe\">\n",
              "  <thead>\n",
              "    <tr style=\"text-align: right;\">\n",
              "      <th></th>\n",
              "      <th>game_id</th>\n",
              "      <th>time</th>\n",
              "      <th>player</th>\n",
              "      <th>species</th>\n",
              "      <th>event</th>\n",
              "      <th>event_contents</th>\n",
              "      <th>new_event</th>\n",
              "    </tr>\n",
              "  </thead>\n",
              "  <tbody>\n",
              "    <tr>\n",
              "      <th>0</th>\n",
              "      <td>38872.0</td>\n",
              "      <td>0</td>\n",
              "      <td>0.0</td>\n",
              "      <td>1.0</td>\n",
              "      <td>0.0</td>\n",
              "      <td>at (22.25, 81.5078125)</td>\n",
              "      <td>[22.25,  81.5078125]</td>\n",
              "    </tr>\n",
              "    <tr>\n",
              "      <th>1</th>\n",
              "      <td>38872.0</td>\n",
              "      <td>0</td>\n",
              "      <td>1.0</td>\n",
              "      <td>1.0</td>\n",
              "      <td>0.0</td>\n",
              "      <td>at (120.25, 153.83984375)</td>\n",
              "      <td>[120.25,  153.83984375]</td>\n",
              "    </tr>\n",
              "    <tr>\n",
              "      <th>6</th>\n",
              "      <td>38872.0</td>\n",
              "      <td>0</td>\n",
              "      <td>1.0</td>\n",
              "      <td>1.0</td>\n",
              "      <td>0.0</td>\n",
              "      <td>at (120.25, 153.25390625)</td>\n",
              "      <td>[120.25,  153.25390625]</td>\n",
              "    </tr>\n",
              "    <tr>\n",
              "      <th>7</th>\n",
              "      <td>38872.0</td>\n",
              "      <td>0</td>\n",
              "      <td>1.0</td>\n",
              "      <td>1.0</td>\n",
              "      <td>0.0</td>\n",
              "      <td>at (120.25, 152.43359375)</td>\n",
              "      <td>[120.25,  152.43359375]</td>\n",
              "    </tr>\n",
              "    <tr>\n",
              "      <th>8</th>\n",
              "      <td>38872.0</td>\n",
              "      <td>0</td>\n",
              "      <td>1.0</td>\n",
              "      <td>1.0</td>\n",
              "      <td>0.0</td>\n",
              "      <td>at (117.96875, 152.765625)</td>\n",
              "      <td>[117.96875,  152.765625]</td>\n",
              "    </tr>\n",
              "  </tbody>\n",
              "</table>\n",
              "</div>"
            ],
            "text/plain": [
              "   game_id  time  ...              event_contents                 new_event\n",
              "0  38872.0     0  ...      at (22.25, 81.5078125)      [22.25,  81.5078125]\n",
              "1  38872.0     0  ...   at (120.25, 153.83984375)   [120.25,  153.83984375]\n",
              "6  38872.0     0  ...   at (120.25, 153.25390625)   [120.25,  153.25390625]\n",
              "7  38872.0     0  ...   at (120.25, 152.43359375)   [120.25,  152.43359375]\n",
              "8  38872.0     0  ...  at (117.96875, 152.765625)  [117.96875,  152.765625]\n",
              "\n",
              "[5 rows x 7 columns]"
            ]
          },
          "metadata": {
            "tags": []
          },
          "execution_count": 10
        }
      ]
    },
    {
      "cell_type": "code",
      "metadata": {
        "id": "0YeAqHY9BRDn",
        "colab_type": "code",
        "colab": {}
      },
      "source": [
        "train_data['x_axis']=train_data['new_event'].apply(lambda x: float(x[0]))\n",
        "train_data['y_axis']=train_data['new_event'].apply(lambda x: float(x[1]))\n",
        "\n",
        "train_data.drop(['event_contents','new_event'],axis=1,inplace=True)"
      ],
      "execution_count": 0,
      "outputs": []
    },
    {
      "cell_type": "code",
      "metadata": {
        "id": "tzGPesVnByxE",
        "colab_type": "code",
        "colab": {}
      },
      "source": [
        "test_data['x_axis']=test_data['new_event'].apply(lambda x: float(x[0]))\n",
        "test_data['y_axis']=test_data['new_event'].apply(lambda x: float(x[1]))\n",
        "\n",
        "test_data.drop(['event_contents','new_event'],axis=1,inplace=True)"
      ],
      "execution_count": 0,
      "outputs": []
    },
    {
      "cell_type": "markdown",
      "metadata": {
        "id": "okXqC_hdILot",
        "colab_type": "text"
      },
      "source": [
        "---"
      ]
    },
    {
      "cell_type": "markdown",
      "metadata": {
        "id": "nfkMV0g7H0dD",
        "colab_type": "text"
      },
      "source": [
        "아래 loop를 돌리던 도중 오류가 떠서 num: 187에서 멈춘 것을 확인할 수 있다. 상대방 없이 혼자플레이 하고 끝났던데..? 이런거 없애줘야 하는거 아닌가..?"
      ]
    },
    {
      "cell_type": "code",
      "metadata": {
        "id": "W7Lxybb_IRf5",
        "colab_type": "code",
        "colab": {
          "base_uri": "https://localhost:8080/",
          "height": 731
        },
        "outputId": "693df788-3471-4ecb-ba11-a7a67c8062c4"
      },
      "source": [
        "train_data[train_data['game_id']==187]"
      ],
      "execution_count": 32,
      "outputs": [
        {
          "output_type": "execute_result",
          "data": {
            "text/html": [
              "<div>\n",
              "<style scoped>\n",
              "    .dataframe tbody tr th:only-of-type {\n",
              "        vertical-align: middle;\n",
              "    }\n",
              "\n",
              "    .dataframe tbody tr th {\n",
              "        vertical-align: top;\n",
              "    }\n",
              "\n",
              "    .dataframe thead th {\n",
              "        text-align: right;\n",
              "    }\n",
              "</style>\n",
              "<table border=\"1\" class=\"dataframe\">\n",
              "  <thead>\n",
              "    <tr style=\"text-align: right;\">\n",
              "      <th></th>\n",
              "      <th>game_id</th>\n",
              "      <th>winner</th>\n",
              "      <th>time</th>\n",
              "      <th>player</th>\n",
              "      <th>species</th>\n",
              "      <th>event</th>\n",
              "      <th>x_axis</th>\n",
              "      <th>y_axis</th>\n",
              "    </tr>\n",
              "  </thead>\n",
              "  <tbody>\n",
              "    <tr>\n",
              "      <th>301722</th>\n",
              "      <td>187.0</td>\n",
              "      <td>0.0</td>\n",
              "      <td>0.0</td>\n",
              "      <td>0.0</td>\n",
              "      <td>2.0</td>\n",
              "      <td>0.0</td>\n",
              "      <td>22.750000</td>\n",
              "      <td>147.007812</td>\n",
              "    </tr>\n",
              "    <tr>\n",
              "      <th>301750</th>\n",
              "      <td>187.0</td>\n",
              "      <td>0.0</td>\n",
              "      <td>0.0</td>\n",
              "      <td>0.0</td>\n",
              "      <td>2.0</td>\n",
              "      <td>0.0</td>\n",
              "      <td>24.500000</td>\n",
              "      <td>145.757812</td>\n",
              "    </tr>\n",
              "    <tr>\n",
              "      <th>301773</th>\n",
              "      <td>187.0</td>\n",
              "      <td>0.0</td>\n",
              "      <td>0.0</td>\n",
              "      <td>0.0</td>\n",
              "      <td>2.0</td>\n",
              "      <td>0.0</td>\n",
              "      <td>24.500000</td>\n",
              "      <td>135.097656</td>\n",
              "    </tr>\n",
              "    <tr>\n",
              "      <th>301774</th>\n",
              "      <td>187.0</td>\n",
              "      <td>0.0</td>\n",
              "      <td>0.0</td>\n",
              "      <td>0.0</td>\n",
              "      <td>2.0</td>\n",
              "      <td>0.0</td>\n",
              "      <td>24.500000</td>\n",
              "      <td>126.585938</td>\n",
              "    </tr>\n",
              "    <tr>\n",
              "      <th>301775</th>\n",
              "      <td>187.0</td>\n",
              "      <td>0.0</td>\n",
              "      <td>0.0</td>\n",
              "      <td>0.0</td>\n",
              "      <td>2.0</td>\n",
              "      <td>0.0</td>\n",
              "      <td>24.500000</td>\n",
              "      <td>122.445312</td>\n",
              "    </tr>\n",
              "    <tr>\n",
              "      <th>301776</th>\n",
              "      <td>187.0</td>\n",
              "      <td>0.0</td>\n",
              "      <td>0.0</td>\n",
              "      <td>0.0</td>\n",
              "      <td>2.0</td>\n",
              "      <td>0.0</td>\n",
              "      <td>21.613281</td>\n",
              "      <td>122.445312</td>\n",
              "    </tr>\n",
              "    <tr>\n",
              "      <th>301778</th>\n",
              "      <td>187.0</td>\n",
              "      <td>0.0</td>\n",
              "      <td>0.0</td>\n",
              "      <td>0.0</td>\n",
              "      <td>2.0</td>\n",
              "      <td>0.0</td>\n",
              "      <td>20.421875</td>\n",
              "      <td>122.445312</td>\n",
              "    </tr>\n",
              "    <tr>\n",
              "      <th>301780</th>\n",
              "      <td>187.0</td>\n",
              "      <td>0.0</td>\n",
              "      <td>0.0</td>\n",
              "      <td>0.0</td>\n",
              "      <td>2.0</td>\n",
              "      <td>0.0</td>\n",
              "      <td>20.421875</td>\n",
              "      <td>117.617188</td>\n",
              "    </tr>\n",
              "    <tr>\n",
              "      <th>301781</th>\n",
              "      <td>187.0</td>\n",
              "      <td>0.0</td>\n",
              "      <td>0.0</td>\n",
              "      <td>0.0</td>\n",
              "      <td>2.0</td>\n",
              "      <td>0.0</td>\n",
              "      <td>20.421875</td>\n",
              "      <td>116.488281</td>\n",
              "    </tr>\n",
              "    <tr>\n",
              "      <th>301782</th>\n",
              "      <td>187.0</td>\n",
              "      <td>0.0</td>\n",
              "      <td>0.0</td>\n",
              "      <td>0.0</td>\n",
              "      <td>2.0</td>\n",
              "      <td>0.0</td>\n",
              "      <td>24.500000</td>\n",
              "      <td>145.757812</td>\n",
              "    </tr>\n",
              "    <tr>\n",
              "      <th>301783</th>\n",
              "      <td>187.0</td>\n",
              "      <td>0.0</td>\n",
              "      <td>0.0</td>\n",
              "      <td>0.0</td>\n",
              "      <td>2.0</td>\n",
              "      <td>0.0</td>\n",
              "      <td>20.421875</td>\n",
              "      <td>116.488281</td>\n",
              "    </tr>\n",
              "    <tr>\n",
              "      <th>301785</th>\n",
              "      <td>187.0</td>\n",
              "      <td>0.0</td>\n",
              "      <td>0.0</td>\n",
              "      <td>0.0</td>\n",
              "      <td>2.0</td>\n",
              "      <td>0.0</td>\n",
              "      <td>24.500000</td>\n",
              "      <td>145.757812</td>\n",
              "    </tr>\n",
              "    <tr>\n",
              "      <th>301791</th>\n",
              "      <td>187.0</td>\n",
              "      <td>0.0</td>\n",
              "      <td>0.0</td>\n",
              "      <td>0.0</td>\n",
              "      <td>2.0</td>\n",
              "      <td>0.0</td>\n",
              "      <td>20.421875</td>\n",
              "      <td>116.488281</td>\n",
              "    </tr>\n",
              "    <tr>\n",
              "      <th>301792</th>\n",
              "      <td>187.0</td>\n",
              "      <td>0.0</td>\n",
              "      <td>0.0</td>\n",
              "      <td>0.0</td>\n",
              "      <td>2.0</td>\n",
              "      <td>0.0</td>\n",
              "      <td>20.421875</td>\n",
              "      <td>116.488281</td>\n",
              "    </tr>\n",
              "    <tr>\n",
              "      <th>301793</th>\n",
              "      <td>187.0</td>\n",
              "      <td>0.0</td>\n",
              "      <td>0.0</td>\n",
              "      <td>0.0</td>\n",
              "      <td>2.0</td>\n",
              "      <td>0.0</td>\n",
              "      <td>24.500000</td>\n",
              "      <td>145.757812</td>\n",
              "    </tr>\n",
              "    <tr>\n",
              "      <th>301806</th>\n",
              "      <td>187.0</td>\n",
              "      <td>0.0</td>\n",
              "      <td>0.0</td>\n",
              "      <td>0.0</td>\n",
              "      <td>2.0</td>\n",
              "      <td>0.0</td>\n",
              "      <td>20.421875</td>\n",
              "      <td>116.488281</td>\n",
              "    </tr>\n",
              "    <tr>\n",
              "      <th>301807</th>\n",
              "      <td>187.0</td>\n",
              "      <td>0.0</td>\n",
              "      <td>0.0</td>\n",
              "      <td>0.0</td>\n",
              "      <td>2.0</td>\n",
              "      <td>0.0</td>\n",
              "      <td>20.421875</td>\n",
              "      <td>116.488281</td>\n",
              "    </tr>\n",
              "    <tr>\n",
              "      <th>301808</th>\n",
              "      <td>187.0</td>\n",
              "      <td>0.0</td>\n",
              "      <td>0.0</td>\n",
              "      <td>0.0</td>\n",
              "      <td>2.0</td>\n",
              "      <td>0.0</td>\n",
              "      <td>24.500000</td>\n",
              "      <td>145.757812</td>\n",
              "    </tr>\n",
              "    <tr>\n",
              "      <th>301818</th>\n",
              "      <td>187.0</td>\n",
              "      <td>0.0</td>\n",
              "      <td>0.0</td>\n",
              "      <td>0.0</td>\n",
              "      <td>2.0</td>\n",
              "      <td>0.0</td>\n",
              "      <td>20.421875</td>\n",
              "      <td>116.488281</td>\n",
              "    </tr>\n",
              "    <tr>\n",
              "      <th>301819</th>\n",
              "      <td>187.0</td>\n",
              "      <td>0.0</td>\n",
              "      <td>0.0</td>\n",
              "      <td>0.0</td>\n",
              "      <td>2.0</td>\n",
              "      <td>0.0</td>\n",
              "      <td>24.500000</td>\n",
              "      <td>145.757812</td>\n",
              "    </tr>\n",
              "    <tr>\n",
              "      <th>301820</th>\n",
              "      <td>187.0</td>\n",
              "      <td>0.0</td>\n",
              "      <td>0.0</td>\n",
              "      <td>0.0</td>\n",
              "      <td>2.0</td>\n",
              "      <td>0.0</td>\n",
              "      <td>20.421875</td>\n",
              "      <td>116.488281</td>\n",
              "    </tr>\n",
              "    <tr>\n",
              "      <th>301821</th>\n",
              "      <td>187.0</td>\n",
              "      <td>0.0</td>\n",
              "      <td>0.0</td>\n",
              "      <td>0.0</td>\n",
              "      <td>2.0</td>\n",
              "      <td>0.0</td>\n",
              "      <td>24.500000</td>\n",
              "      <td>145.757812</td>\n",
              "    </tr>\n",
              "  </tbody>\n",
              "</table>\n",
              "</div>"
            ],
            "text/plain": [
              "        game_id  winner  time  player  species  event     x_axis      y_axis\n",
              "301722    187.0     0.0   0.0     0.0      2.0    0.0  22.750000  147.007812\n",
              "301750    187.0     0.0   0.0     0.0      2.0    0.0  24.500000  145.757812\n",
              "301773    187.0     0.0   0.0     0.0      2.0    0.0  24.500000  135.097656\n",
              "301774    187.0     0.0   0.0     0.0      2.0    0.0  24.500000  126.585938\n",
              "301775    187.0     0.0   0.0     0.0      2.0    0.0  24.500000  122.445312\n",
              "301776    187.0     0.0   0.0     0.0      2.0    0.0  21.613281  122.445312\n",
              "301778    187.0     0.0   0.0     0.0      2.0    0.0  20.421875  122.445312\n",
              "301780    187.0     0.0   0.0     0.0      2.0    0.0  20.421875  117.617188\n",
              "301781    187.0     0.0   0.0     0.0      2.0    0.0  20.421875  116.488281\n",
              "301782    187.0     0.0   0.0     0.0      2.0    0.0  24.500000  145.757812\n",
              "301783    187.0     0.0   0.0     0.0      2.0    0.0  20.421875  116.488281\n",
              "301785    187.0     0.0   0.0     0.0      2.0    0.0  24.500000  145.757812\n",
              "301791    187.0     0.0   0.0     0.0      2.0    0.0  20.421875  116.488281\n",
              "301792    187.0     0.0   0.0     0.0      2.0    0.0  20.421875  116.488281\n",
              "301793    187.0     0.0   0.0     0.0      2.0    0.0  24.500000  145.757812\n",
              "301806    187.0     0.0   0.0     0.0      2.0    0.0  20.421875  116.488281\n",
              "301807    187.0     0.0   0.0     0.0      2.0    0.0  20.421875  116.488281\n",
              "301808    187.0     0.0   0.0     0.0      2.0    0.0  24.500000  145.757812\n",
              "301818    187.0     0.0   0.0     0.0      2.0    0.0  20.421875  116.488281\n",
              "301819    187.0     0.0   0.0     0.0      2.0    0.0  24.500000  145.757812\n",
              "301820    187.0     0.0   0.0     0.0      2.0    0.0  20.421875  116.488281\n",
              "301821    187.0     0.0   0.0     0.0      2.0    0.0  24.500000  145.757812"
            ]
          },
          "metadata": {
            "tags": []
          },
          "execution_count": 32
        }
      ]
    },
    {
      "cell_type": "code",
      "metadata": {
        "id": "-OXs-OyAJMub",
        "colab_type": "code",
        "colab": {
          "base_uri": "https://localhost:8080/",
          "height": 204
        },
        "outputId": "55015006-dd48-4097-be38-a1d0896045af"
      },
      "source": [
        "del_data=train_data.groupby('game_id')['player'].nunique().reset_index(name='player_count')\n",
        "del_data.head()"
      ],
      "execution_count": 53,
      "outputs": [
        {
          "output_type": "execute_result",
          "data": {
            "text/html": [
              "<div>\n",
              "<style scoped>\n",
              "    .dataframe tbody tr th:only-of-type {\n",
              "        vertical-align: middle;\n",
              "    }\n",
              "\n",
              "    .dataframe tbody tr th {\n",
              "        vertical-align: top;\n",
              "    }\n",
              "\n",
              "    .dataframe thead th {\n",
              "        text-align: right;\n",
              "    }\n",
              "</style>\n",
              "<table border=\"1\" class=\"dataframe\">\n",
              "  <thead>\n",
              "    <tr style=\"text-align: right;\">\n",
              "      <th></th>\n",
              "      <th>game_id</th>\n",
              "      <th>player_count</th>\n",
              "    </tr>\n",
              "  </thead>\n",
              "  <tbody>\n",
              "    <tr>\n",
              "      <th>0</th>\n",
              "      <td>0.0</td>\n",
              "      <td>2</td>\n",
              "    </tr>\n",
              "    <tr>\n",
              "      <th>1</th>\n",
              "      <td>1.0</td>\n",
              "      <td>2</td>\n",
              "    </tr>\n",
              "    <tr>\n",
              "      <th>2</th>\n",
              "      <td>2.0</td>\n",
              "      <td>2</td>\n",
              "    </tr>\n",
              "    <tr>\n",
              "      <th>3</th>\n",
              "      <td>3.0</td>\n",
              "      <td>2</td>\n",
              "    </tr>\n",
              "    <tr>\n",
              "      <th>4</th>\n",
              "      <td>4.0</td>\n",
              "      <td>2</td>\n",
              "    </tr>\n",
              "  </tbody>\n",
              "</table>\n",
              "</div>"
            ],
            "text/plain": [
              "   game_id  player_count\n",
              "0      0.0             2\n",
              "1      1.0             2\n",
              "2      2.0             2\n",
              "3      3.0             2\n",
              "4      4.0             2"
            ]
          },
          "metadata": {
            "tags": []
          },
          "execution_count": 53
        }
      ]
    },
    {
      "cell_type": "code",
      "metadata": {
        "id": "YoGx41pfMRUw",
        "colab_type": "code",
        "colab": {
          "base_uri": "https://localhost:8080/",
          "height": 35
        },
        "outputId": "a7bcc1df-64e0-47c1-8cfc-bfccb36c9350"
      },
      "source": [
        "del_data[del_data['player_count']!=2].shape"
      ],
      "execution_count": 56,
      "outputs": [
        {
          "output_type": "execute_result",
          "data": {
            "text/plain": [
              "(22, 2)"
            ]
          },
          "metadata": {
            "tags": []
          },
          "execution_count": 56
        }
      ]
    },
    {
      "cell_type": "code",
      "metadata": {
        "id": "GJ-QhejVNTGY",
        "colab_type": "code",
        "colab": {
          "base_uri": "https://localhost:8080/",
          "height": 71
        },
        "outputId": "31ec22bf-984c-4a54-9b27-32ca808ee2e2"
      },
      "source": [
        "drop_values=del_data[del_data['player_count']!=2]['game_id'].values\n",
        "drop_values"
      ],
      "execution_count": 61,
      "outputs": [
        {
          "output_type": "execute_result",
          "data": {
            "text/plain": [
              "array([  187., 10246., 12105., 13292., 14675., 17294., 21149., 23337.,\n",
              "       24423., 24855., 24858., 25891., 26243., 26339., 27249., 27818.,\n",
              "       32254., 33101., 34423., 34843., 35288., 37967.])"
            ]
          },
          "metadata": {
            "tags": []
          },
          "execution_count": 61
        }
      ]
    },
    {
      "cell_type": "code",
      "metadata": {
        "id": "js0YB8bpNoTd",
        "colab_type": "code",
        "colab": {}
      },
      "source": [
        "for num in drop_values:\n",
        "  train_data.drop(train_data[train_data['game_id']==num].index,axis=0,inplace=True)"
      ],
      "execution_count": 0,
      "outputs": []
    },
    {
      "cell_type": "code",
      "metadata": {
        "id": "0sqtL1t2PAxS",
        "colab_type": "code",
        "colab": {
          "base_uri": "https://localhost:8080/",
          "height": 35
        },
        "outputId": "be6b9500-6360-4205-ce58-db4b99418253"
      },
      "source": [
        "train_data[train_data['game_id']==10246].index #잘 삭제됐음 (조금 오래걸리네.)"
      ],
      "execution_count": 73,
      "outputs": [
        {
          "output_type": "execute_result",
          "data": {
            "text/plain": [
              "Int64Index([], dtype='int64')"
            ]
          },
          "metadata": {
            "tags": []
          },
          "execution_count": 73
        }
      ]
    },
    {
      "cell_type": "markdown",
      "metadata": {
        "id": "FzG3TOAPQKjI",
        "colab_type": "text"
      },
      "source": [
        "혹시 테스트에도 있을라나..?"
      ]
    },
    {
      "cell_type": "code",
      "metadata": {
        "id": "ZF_-UMCGQSfN",
        "colab_type": "code",
        "colab": {
          "base_uri": "https://localhost:8080/",
          "height": 204
        },
        "outputId": "cc5d9190-a931-4b04-9112-932efa4fe56b"
      },
      "source": [
        "del_test=test_data.groupby('game_id')['player'].nunique().reset_index(name='player_count')\n",
        "del_test.head()"
      ],
      "execution_count": 78,
      "outputs": [
        {
          "output_type": "execute_result",
          "data": {
            "text/html": [
              "<div>\n",
              "<style scoped>\n",
              "    .dataframe tbody tr th:only-of-type {\n",
              "        vertical-align: middle;\n",
              "    }\n",
              "\n",
              "    .dataframe tbody tr th {\n",
              "        vertical-align: top;\n",
              "    }\n",
              "\n",
              "    .dataframe thead th {\n",
              "        text-align: right;\n",
              "    }\n",
              "</style>\n",
              "<table border=\"1\" class=\"dataframe\">\n",
              "  <thead>\n",
              "    <tr style=\"text-align: right;\">\n",
              "      <th></th>\n",
              "      <th>game_id</th>\n",
              "      <th>player_count</th>\n",
              "    </tr>\n",
              "  </thead>\n",
              "  <tbody>\n",
              "    <tr>\n",
              "      <th>0</th>\n",
              "      <td>38872.0</td>\n",
              "      <td>2</td>\n",
              "    </tr>\n",
              "    <tr>\n",
              "      <th>1</th>\n",
              "      <td>38873.0</td>\n",
              "      <td>2</td>\n",
              "    </tr>\n",
              "    <tr>\n",
              "      <th>2</th>\n",
              "      <td>38874.0</td>\n",
              "      <td>2</td>\n",
              "    </tr>\n",
              "    <tr>\n",
              "      <th>3</th>\n",
              "      <td>38875.0</td>\n",
              "      <td>2</td>\n",
              "    </tr>\n",
              "    <tr>\n",
              "      <th>4</th>\n",
              "      <td>38876.0</td>\n",
              "      <td>2</td>\n",
              "    </tr>\n",
              "  </tbody>\n",
              "</table>\n",
              "</div>"
            ],
            "text/plain": [
              "   game_id  player_count\n",
              "0  38872.0             2\n",
              "1  38873.0             2\n",
              "2  38874.0             2\n",
              "3  38875.0             2\n",
              "4  38876.0             2"
            ]
          },
          "metadata": {
            "tags": []
          },
          "execution_count": 78
        }
      ]
    },
    {
      "cell_type": "code",
      "metadata": {
        "id": "vtkXkP9QQ1Xl",
        "colab_type": "code",
        "colab": {
          "base_uri": "https://localhost:8080/",
          "height": 390
        },
        "outputId": "b47e0d28-e4cc-4d7f-c2b8-e9fb5c73e836"
      },
      "source": [
        "del_test[del_test['player_count']==1]"
      ],
      "execution_count": 79,
      "outputs": [
        {
          "output_type": "execute_result",
          "data": {
            "text/html": [
              "<div>\n",
              "<style scoped>\n",
              "    .dataframe tbody tr th:only-of-type {\n",
              "        vertical-align: middle;\n",
              "    }\n",
              "\n",
              "    .dataframe tbody tr th {\n",
              "        vertical-align: top;\n",
              "    }\n",
              "\n",
              "    .dataframe thead th {\n",
              "        text-align: right;\n",
              "    }\n",
              "</style>\n",
              "<table border=\"1\" class=\"dataframe\">\n",
              "  <thead>\n",
              "    <tr style=\"text-align: right;\">\n",
              "      <th></th>\n",
              "      <th>game_id</th>\n",
              "      <th>player_count</th>\n",
              "    </tr>\n",
              "  </thead>\n",
              "  <tbody>\n",
              "    <tr>\n",
              "      <th>1486</th>\n",
              "      <td>40358.0</td>\n",
              "      <td>1</td>\n",
              "    </tr>\n",
              "    <tr>\n",
              "      <th>1844</th>\n",
              "      <td>40716.0</td>\n",
              "      <td>1</td>\n",
              "    </tr>\n",
              "    <tr>\n",
              "      <th>5822</th>\n",
              "      <td>44694.0</td>\n",
              "      <td>1</td>\n",
              "    </tr>\n",
              "    <tr>\n",
              "      <th>7734</th>\n",
              "      <td>46606.0</td>\n",
              "      <td>1</td>\n",
              "    </tr>\n",
              "    <tr>\n",
              "      <th>10424</th>\n",
              "      <td>49296.0</td>\n",
              "      <td>1</td>\n",
              "    </tr>\n",
              "    <tr>\n",
              "      <th>12149</th>\n",
              "      <td>51021.0</td>\n",
              "      <td>1</td>\n",
              "    </tr>\n",
              "    <tr>\n",
              "      <th>12285</th>\n",
              "      <td>51157.0</td>\n",
              "      <td>1</td>\n",
              "    </tr>\n",
              "    <tr>\n",
              "      <th>12773</th>\n",
              "      <td>51645.0</td>\n",
              "      <td>1</td>\n",
              "    </tr>\n",
              "    <tr>\n",
              "      <th>13445</th>\n",
              "      <td>52317.0</td>\n",
              "      <td>1</td>\n",
              "    </tr>\n",
              "    <tr>\n",
              "      <th>15707</th>\n",
              "      <td>54579.0</td>\n",
              "      <td>1</td>\n",
              "    </tr>\n",
              "    <tr>\n",
              "      <th>16380</th>\n",
              "      <td>55252.0</td>\n",
              "      <td>1</td>\n",
              "    </tr>\n",
              "  </tbody>\n",
              "</table>\n",
              "</div>"
            ],
            "text/plain": [
              "       game_id  player_count\n",
              "1486   40358.0             1\n",
              "1844   40716.0             1\n",
              "5822   44694.0             1\n",
              "7734   46606.0             1\n",
              "10424  49296.0             1\n",
              "12149  51021.0             1\n",
              "12285  51157.0             1\n",
              "12773  51645.0             1\n",
              "13445  52317.0             1\n",
              "15707  54579.0             1\n",
              "16380  55252.0             1"
            ]
          },
          "metadata": {
            "tags": []
          },
          "execution_count": 79
        }
      ]
    },
    {
      "cell_type": "markdown",
      "metadata": {
        "id": "uHF-xeWaRKXS",
        "colab_type": "text"
      },
      "source": [
        "큰 일났다.. 이거 어떡하지..?"
      ]
    },
    {
      "cell_type": "markdown",
      "metadata": {
        "id": "8pLpGuQoINFf",
        "colab_type": "text"
      },
      "source": [
        "---"
      ]
    },
    {
      "cell_type": "code",
      "metadata": {
        "id": "0A3uy87pCMUA",
        "colab_type": "code",
        "colab": {
          "base_uri": "https://localhost:8080/",
          "height": 370
        },
        "outputId": "da25bcb4-e0c9-499c-cead-1c5d4e934645"
      },
      "source": [
        "df_train= pd.DataFrame(columns=make_df(train_data,100).columns)\n",
        "df_test= pd.DataFrame(columns=make_df(train_data,100).columns)\n",
        "\n",
        "for num in set(train_data['game_id'].values):\n",
        "  df_train = pd.concat([df_train, make_df(train_data,num)], axis=0,sort=False)\n",
        "\n",
        "for num in set(test_data['game_id'].values):\n",
        "  df_test = pd.concat([df_test, make_df(test_data,num)], axis=0,sort=False)"
      ],
      "execution_count": 17,
      "outputs": [
        {
          "output_type": "error",
          "ename": "IndexError",
          "evalue": "ignored",
          "traceback": [
            "\u001b[0;31m---------------------------------------------------------------------------\u001b[0m",
            "\u001b[0;31mIndexError\u001b[0m                                Traceback (most recent call last)",
            "\u001b[0;32m<ipython-input-17-3e895871343c>\u001b[0m in \u001b[0;36m<module>\u001b[0;34m()\u001b[0m\n\u001b[1;32m      3\u001b[0m \u001b[0;34m\u001b[0m\u001b[0m\n\u001b[1;32m      4\u001b[0m \u001b[0;32mfor\u001b[0m \u001b[0mnum\u001b[0m \u001b[0;32min\u001b[0m \u001b[0mset\u001b[0m\u001b[0;34m(\u001b[0m\u001b[0mtrain_data\u001b[0m\u001b[0;34m[\u001b[0m\u001b[0;34m'game_id'\u001b[0m\u001b[0;34m]\u001b[0m\u001b[0;34m.\u001b[0m\u001b[0mvalues\u001b[0m\u001b[0;34m)\u001b[0m\u001b[0;34m:\u001b[0m\u001b[0;34m\u001b[0m\u001b[0;34m\u001b[0m\u001b[0m\n\u001b[0;32m----> 5\u001b[0;31m   \u001b[0mdf_train\u001b[0m \u001b[0;34m=\u001b[0m \u001b[0mpd\u001b[0m\u001b[0;34m.\u001b[0m\u001b[0mconcat\u001b[0m\u001b[0;34m(\u001b[0m\u001b[0;34m[\u001b[0m\u001b[0mdf_train\u001b[0m\u001b[0;34m,\u001b[0m \u001b[0mmake_df\u001b[0m\u001b[0;34m(\u001b[0m\u001b[0mtrain_data\u001b[0m\u001b[0;34m,\u001b[0m\u001b[0mnum\u001b[0m\u001b[0;34m)\u001b[0m\u001b[0;34m]\u001b[0m\u001b[0;34m,\u001b[0m \u001b[0maxis\u001b[0m\u001b[0;34m=\u001b[0m\u001b[0;36m0\u001b[0m\u001b[0;34m,\u001b[0m\u001b[0msort\u001b[0m\u001b[0;34m=\u001b[0m\u001b[0;32mFalse\u001b[0m\u001b[0;34m)\u001b[0m\u001b[0;34m\u001b[0m\u001b[0;34m\u001b[0m\u001b[0m\n\u001b[0m\u001b[1;32m      6\u001b[0m \u001b[0;34m\u001b[0m\u001b[0m\n\u001b[1;32m      7\u001b[0m \u001b[0;32mfor\u001b[0m \u001b[0mnum\u001b[0m \u001b[0;32min\u001b[0m \u001b[0mset\u001b[0m\u001b[0;34m(\u001b[0m\u001b[0mtest_data\u001b[0m\u001b[0;34m[\u001b[0m\u001b[0;34m'game_id'\u001b[0m\u001b[0;34m]\u001b[0m\u001b[0;34m.\u001b[0m\u001b[0mvalues\u001b[0m\u001b[0;34m)\u001b[0m\u001b[0;34m:\u001b[0m\u001b[0;34m\u001b[0m\u001b[0;34m\u001b[0m\u001b[0m\n",
            "\u001b[0;32m<ipython-input-3-1c588a982ae8>\u001b[0m in \u001b[0;36mmake_df\u001b[0;34m(toy_data, id)\u001b[0m\n\u001b[1;32m      7\u001b[0m   st_axis_1=np.array(toy_data[(toy_data['game_id']==id)&\n\u001b[1;32m      8\u001b[0m            \u001b[0;34m(\u001b[0m\u001b[0mtoy_data\u001b[0m\u001b[0;34m[\u001b[0m\u001b[0;34m'player'\u001b[0m\u001b[0;34m]\u001b[0m\u001b[0;34m==\u001b[0m\u001b[0;36m1\u001b[0m\u001b[0;34m)\u001b[0m\u001b[0;34m&\u001b[0m\u001b[0;34m\u001b[0m\u001b[0;34m\u001b[0m\u001b[0m\n\u001b[0;32m----> 9\u001b[0;31m            (toy_data['event']==0)][['x_axis','y_axis']])[0]\n\u001b[0m\u001b[1;32m     10\u001b[0m \u001b[0;34m\u001b[0m\u001b[0m\n\u001b[1;32m     11\u001b[0m   \u001b[0;31m# 계산\u001b[0m\u001b[0;34m\u001b[0m\u001b[0;34m\u001b[0m\u001b[0;34m\u001b[0m\u001b[0m\n",
            "\u001b[0;31mIndexError\u001b[0m: index 0 is out of bounds for axis 0 with size 0"
          ]
        }
      ]
    }
  ]
}