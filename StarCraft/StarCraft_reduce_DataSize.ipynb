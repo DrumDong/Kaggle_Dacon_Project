{
  "nbformat": 4,
  "nbformat_minor": 0,
  "metadata": {
    "colab": {
      "name": "StarCraft_reduce_DataSize.ipynb",
      "provenance": [],
      "machine_shape": "hm",
      "mount_file_id": "1DJwiKi8pTGIHpyRXv0qYpzW9C3hmrPkm",
      "authorship_tag": "ABX9TyPX1Wnh8v4Ml5EL4o0au9wg"
    },
    "kernelspec": {
      "name": "python3",
      "display_name": "Python 3"
    },
    "accelerator": "GPU"
  },
  "cells": [
    {
      "cell_type": "code",
      "metadata": {
        "id": "Ug-sSiOF1sVp",
        "colab_type": "code",
        "colab": {}
      },
      "source": [
        "import pandas as pd\n",
        "import numpy as np\n",
        "import matplotlib.pyplot as plt\n",
        "import seaborn as sns"
      ],
      "execution_count": 0,
      "outputs": []
    },
    {
      "cell_type": "code",
      "metadata": {
        "id": "hrQJ5l1t26b5",
        "colab_type": "code",
        "colab": {}
      },
      "source": [
        "train = pd.read_csv('/content/drive/My Drive/Colab Notebooks/data/데이콘/스타2/train.csv')\n",
        "test = pd.read_csv('/content/drive/My Drive/Colab Notebooks/data/데이콘/스타2/test.csv')"
      ],
      "execution_count": 0,
      "outputs": []
    },
    {
      "cell_type": "code",
      "metadata": {
        "id": "DR6nQi5y3lyu",
        "colab_type": "code",
        "colab": {
          "base_uri": "https://localhost:8080/",
          "height": 248
        },
        "outputId": "feea3d43-fc99-4f59-c45e-97b2c5b2f5a3"
      },
      "source": [
        "print(train.info())"
      ],
      "execution_count": 5,
      "outputs": [
        {
          "output_type": "stream",
          "text": [
            "<class 'pandas.core.frame.DataFrame'>\n",
            "RangeIndex: 67091776 entries, 0 to 67091775\n",
            "Data columns (total 7 columns):\n",
            "game_id           int64\n",
            "winner            int64\n",
            "time              float64\n",
            "player            int64\n",
            "species           object\n",
            "event             object\n",
            "event_contents    object\n",
            "dtypes: float64(1), int64(3), object(3)\n",
            "memory usage: 3.5+ GB\n",
            "None\n"
          ],
          "name": "stdout"
        }
      ]
    },
    {
      "cell_type": "code",
      "metadata": {
        "id": "yTikvbge3oAO",
        "colab_type": "code",
        "colab": {}
      },
      "source": [
        "def reduce_mem_usage(props):\n",
        "    start_mem_usg = props.memory_usage().sum() / 1024**2 \n",
        "    print(\"Memory usage of properties dataframe is :\",start_mem_usg,\" MB\")\n",
        "    NAlist = [] # Keeps track of columns that have missing values filled in. \n",
        "    for col in props.columns:\n",
        "        if props[col].dtype != object:  # Exclude strings\n",
        "            \n",
        "            # Print current column type\n",
        "            #print(\"******************************\")\n",
        "            #print(\"Column: \",col)\n",
        "            #print(\"dtype before: \",props[col].dtype)\n",
        "            \n",
        "            # make variables for Int, max and min\n",
        "            IsInt = False\n",
        "            mx = props[col].max()\n",
        "            mn = props[col].min()\n",
        "            \n",
        "            # Integer does not support NA, therefore, NA needs to be filled\n",
        "            if not np.isfinite(props[col]).all(): \n",
        "                NAlist.append(col)\n",
        "                props[col].fillna(mn-1,inplace=True)  \n",
        "                   \n",
        "            # test if column can be converted to an integer\n",
        "            asint = props[col].fillna(0).astype(np.int64)\n",
        "            result = (props[col] - asint)\n",
        "            result = result.sum()\n",
        "            if result > 0.01:\n",
        "                IsInt = True\n",
        "\n",
        "            \n",
        "            # Make Integer/unsigned Integer datatypes\n",
        "            if IsInt:\n",
        "                if mn >= 0:\n",
        "                    if mx < 255:\n",
        "                        props[col] = props[col].astype(np.uint8)\n",
        "                    elif mx < 65535:\n",
        "                        props[col] = props[col].astype(np.uint16)\n",
        "                    elif mx < 4294967295:\n",
        "                        props[col] = props[col].astype(np.uint32)\n",
        "                    else:\n",
        "                        props[col] = props[col].astype(np.uint64)\n",
        "                else:\n",
        "                    if mn > np.iinfo(np.int8).max:\n",
        "                        props[col] = props[col].astype(np.int8)\n",
        "                    elif mn > np.iinfo(np.int16).max:\n",
        "                        props[col] = props[col].astype(np.int16)\n",
        "                    elif mn > np.iinfo(np.int32).max:\n",
        "                        props[col] = props[col].astype(np.int32)\n",
        "                    elif mn > np.iinfo(np.int64).max:\n",
        "                        props[col] = props[col].astype(np.int64)    \n",
        "            \n",
        "            # Make float datatypes 32 bit\n",
        "            else:\n",
        "                props[col] = props[col].astype(np.float32)\n",
        "            \n",
        "            # Print new column type\n",
        "            #print(\"dtype after: \",props[col].dtype)\n",
        "            #print(\"******************************\")\n",
        "    \n",
        "    # Print final result\n",
        "    print(\"___MEMORY USAGE AFTER COMPLETION:___\")\n",
        "    mem_usg = props.memory_usage().sum() / 1024**2 \n",
        "    print(\"Memory usage is: \",mem_usg,\" MB\")\n",
        "    print(\"This is \",100*mem_usg/start_mem_usg,\"% of the initial size\")\n",
        "    return props, NAlist"
      ],
      "execution_count": 0,
      "outputs": []
    },
    {
      "cell_type": "code",
      "metadata": {
        "id": "b2-Xwijc3ton",
        "colab_type": "code",
        "colab": {
          "base_uri": "https://localhost:8080/",
          "height": 177
        },
        "outputId": "5b9a2469-e5ab-43ac-cca6-01e99b1acafb"
      },
      "source": [
        "train, NAlist = reduce_mem_usage(train)\n",
        "print(\"_________________\")\n",
        "print(\"Warning: the following columns have missing values filled with 'df['column_name'].min() -1': \")\n",
        "print(\"_________________\")\n",
        "print(\"\")\n",
        "print(NAlist)"
      ],
      "execution_count": 7,
      "outputs": [
        {
          "output_type": "stream",
          "text": [
            "Memory usage of properties dataframe is : 3583.0875244140625  MB\n",
            "___MEMORY USAGE AFTER COMPLETION:___\n",
            "Memory usage is:  2367.3971557617188  MB\n",
            "This is  66.07142972732312 % of the initial size\n",
            "_________________\n",
            "Warning: the following columns have missing values filled with 'df['column_name'].min() -1': \n",
            "_________________\n",
            "\n",
            "[]\n"
          ],
          "name": "stdout"
        }
      ]
    },
    {
      "cell_type": "code",
      "metadata": {
        "id": "QcAbrlh93vMX",
        "colab_type": "code",
        "colab": {
          "base_uri": "https://localhost:8080/",
          "height": 248
        },
        "outputId": "296ff67f-5d40-47d0-80bf-57acea09a9c7"
      },
      "source": [
        "print(train.info())"
      ],
      "execution_count": 8,
      "outputs": [
        {
          "output_type": "stream",
          "text": [
            "<class 'pandas.core.frame.DataFrame'>\n",
            "RangeIndex: 67091776 entries, 0 to 67091775\n",
            "Data columns (total 7 columns):\n",
            "game_id           float32\n",
            "winner            float32\n",
            "time              uint8\n",
            "player            float32\n",
            "species           object\n",
            "event             object\n",
            "event_contents    object\n",
            "dtypes: float32(3), object(3), uint8(1)\n",
            "memory usage: 2.3+ GB\n",
            "None\n"
          ],
          "name": "stdout"
        }
      ]
    },
    {
      "cell_type": "code",
      "metadata": {
        "id": "ztfSGVEz3yqQ",
        "colab_type": "code",
        "colab": {}
      },
      "source": [
        "# 저장\n",
        "\n",
        "#train.to_pickle('train.pkl')\n",
        "#train.to_csv('train.csv', index=False)"
      ],
      "execution_count": 0,
      "outputs": []
    },
    {
      "cell_type": "code",
      "metadata": {
        "id": "jIJ0SOB330dg",
        "colab_type": "code",
        "colab": {}
      },
      "source": [
        "# Load data with Pickle\n",
        "\n",
        "#%%time\n",
        "#train = pd.read_pickle('train.pkl')"
      ],
      "execution_count": 0,
      "outputs": []
    },
    {
      "cell_type": "code",
      "metadata": {
        "id": "FvY1OBXL4tzC",
        "colab_type": "code",
        "colab": {
          "base_uri": "https://localhost:8080/",
          "height": 70
        },
        "outputId": "559c1354-4289-488e-8fc8-047b82f93fb5"
      },
      "source": [
        "print(\"event unique values : {}\".format(train.event.unique()))\n",
        "print(\"species unique values : {}\".format(train.species.unique()))"
      ],
      "execution_count": 9,
      "outputs": [
        {
          "output_type": "stream",
          "text": [
            "event unique values : ['Camera' 'Selection' 'Ability' 'Right Click' 'SetControlGroup'\n",
            " 'GetControlGroup' 'AddToControlGroup' 'ControlGroup']\n",
            "species unique values : ['T' 'P' 'Z']\n"
          ],
          "name": "stdout"
        }
      ]
    },
    {
      "cell_type": "code",
      "metadata": {
        "id": "3j4h02Wo4wlz",
        "colab_type": "code",
        "colab": {
          "base_uri": "https://localhost:8080/",
          "height": 55
        },
        "outputId": "a32713af-8ca4-4c4e-da5e-0648f2d9bbd8"
      },
      "source": [
        "event_dict = {i:j for (i,j) in zip(train.event.unique(), range(train.event.nunique()))}\n",
        "print(event_dict)"
      ],
      "execution_count": 10,
      "outputs": [
        {
          "output_type": "stream",
          "text": [
            "{'Camera': 0, 'Selection': 1, 'Ability': 2, 'Right Click': 3, 'SetControlGroup': 4, 'GetControlGroup': 5, 'AddToControlGroup': 6, 'ControlGroup': 7}\n"
          ],
          "name": "stdout"
        }
      ]
    },
    {
      "cell_type": "code",
      "metadata": {
        "id": "iXNQtjEm4y21",
        "colab_type": "code",
        "colab": {}
      },
      "source": [
        "train['event'] = train['event'].map(event_dict)"
      ],
      "execution_count": 0,
      "outputs": []
    },
    {
      "cell_type": "code",
      "metadata": {
        "id": "EQ-QdDrq47-d",
        "colab_type": "code",
        "colab": {
          "base_uri": "https://localhost:8080/",
          "height": 35
        },
        "outputId": "6e60c77e-7604-41f2-848e-03c2dce444cf"
      },
      "source": [
        "species_dict = {i:j for (i,j) in zip(train.species.unique(), range(train.species.nunique()))}\n",
        "print(species_dict)"
      ],
      "execution_count": 12,
      "outputs": [
        {
          "output_type": "stream",
          "text": [
            "{'T': 0, 'P': 1, 'Z': 2}\n"
          ],
          "name": "stdout"
        }
      ]
    },
    {
      "cell_type": "code",
      "metadata": {
        "id": "WLejtMSR4_Af",
        "colab_type": "code",
        "colab": {}
      },
      "source": [
        "train['species'] = train['species'].map(species_dict)"
      ],
      "execution_count": 0,
      "outputs": []
    },
    {
      "cell_type": "code",
      "metadata": {
        "id": "ZsYCBkiV5Asx",
        "colab_type": "code",
        "colab": {
          "base_uri": "https://localhost:8080/",
          "height": 177
        },
        "outputId": "c4cc5fec-52b4-4cf1-d826-fa8bc73ea999"
      },
      "source": [
        "train, NAlist = reduce_mem_usage(train)\n",
        "print(\"-\"*30)\n",
        "print(\"Warning: the following columns have missing values filled with 'df['column_name'].min() -1': \")\n",
        "print(\"-\"*30)\n",
        "print(\"\")\n",
        "print(NAlist)"
      ],
      "execution_count": 14,
      "outputs": [
        {
          "output_type": "stream",
          "text": [
            "Memory usage of properties dataframe is : 2367.3971557617188  MB\n",
            "___MEMORY USAGE AFTER COMPLETION:___\n",
            "Memory usage is:  2047.4786376953125  MB\n",
            "This is  86.48648718328499 % of the initial size\n",
            "------------------------------\n",
            "Warning: the following columns have missing values filled with 'df['column_name'].min() -1': \n",
            "------------------------------\n",
            "\n",
            "[]\n"
          ],
          "name": "stdout"
        }
      ]
    },
    {
      "cell_type": "code",
      "metadata": {
        "id": "DMcK7sVD5Bq9",
        "colab_type": "code",
        "colab": {
          "base_uri": "https://localhost:8080/",
          "height": 248
        },
        "outputId": "2ea8b809-d164-49ba-a409-9ddfa2110bca"
      },
      "source": [
        "print(train.info())"
      ],
      "execution_count": 15,
      "outputs": [
        {
          "output_type": "stream",
          "text": [
            "<class 'pandas.core.frame.DataFrame'>\n",
            "RangeIndex: 67091776 entries, 0 to 67091775\n",
            "Data columns (total 7 columns):\n",
            "game_id           float32\n",
            "winner            float32\n",
            "time              float32\n",
            "player            float32\n",
            "species           float32\n",
            "event             float32\n",
            "event_contents    object\n",
            "dtypes: float32(6), object(1)\n",
            "memory usage: 2.0+ GB\n",
            "None\n"
          ],
          "name": "stdout"
        }
      ]
    },
    {
      "cell_type": "code",
      "metadata": {
        "id": "iy_x6egO5FnT",
        "colab_type": "code",
        "colab": {
          "base_uri": "https://localhost:8080/",
          "height": 52
        },
        "outputId": "88150c49-5bfc-40f2-84f7-4cd4e570c637"
      },
      "source": [
        "%%time\n",
        "train.to_pickle('/content/drive/My Drive/Colab Notebooks/data/데이콘/스타2/train.pkl')\n",
        "#train.to_csv('train.csv', index=False)"
      ],
      "execution_count": 17,
      "outputs": [
        {
          "output_type": "stream",
          "text": [
            "CPU times: user 20.9 s, sys: 4.05 s, total: 24.9 s\n",
            "Wall time: 1min 23s\n"
          ],
          "name": "stdout"
        }
      ]
    },
    {
      "cell_type": "markdown",
      "metadata": {
        "id": "9ldpWrI65Z6_",
        "colab_type": "text"
      },
      "source": [
        "#Change test dataset"
      ]
    },
    {
      "cell_type": "code",
      "metadata": {
        "id": "573cD66Z5hRk",
        "colab_type": "code",
        "colab": {}
      },
      "source": [
        "del train"
      ],
      "execution_count": 0,
      "outputs": []
    },
    {
      "cell_type": "code",
      "metadata": {
        "id": "buvVaWVT5cVh",
        "colab_type": "code",
        "colab": {
          "base_uri": "https://localhost:8080/",
          "height": 230
        },
        "outputId": "001273cf-8bb8-48bb-a8d0-926f363c01e6"
      },
      "source": [
        "print(test.info())"
      ],
      "execution_count": 19,
      "outputs": [
        {
          "output_type": "stream",
          "text": [
            "<class 'pandas.core.frame.DataFrame'>\n",
            "RangeIndex: 28714849 entries, 0 to 28714848\n",
            "Data columns (total 6 columns):\n",
            "game_id           int64\n",
            "time              float64\n",
            "player            int64\n",
            "species           object\n",
            "event             object\n",
            "event_contents    object\n",
            "dtypes: float64(1), int64(2), object(3)\n",
            "memory usage: 1.3+ GB\n",
            "None\n"
          ],
          "name": "stdout"
        }
      ]
    },
    {
      "cell_type": "code",
      "metadata": {
        "id": "5ERFGxMT5krV",
        "colab_type": "code",
        "colab": {}
      },
      "source": [
        "test['event'] = test['event'].map(event_dict)\n",
        "test['species'] = test['species'].map(species_dict)"
      ],
      "execution_count": 0,
      "outputs": []
    },
    {
      "cell_type": "code",
      "metadata": {
        "id": "RsODDkQo5l4J",
        "colab_type": "code",
        "colab": {
          "base_uri": "https://localhost:8080/",
          "height": 177
        },
        "outputId": "873fa526-eb52-435c-8289-9677c7f1f5e6"
      },
      "source": [
        "test, NAlist = reduce_mem_usage(test)\n",
        "print(\"-\"*30)\n",
        "print(\"Warning: the following columns have missing values filled with 'df['column_name'].min() -1': \")\n",
        "print(\"-\"*30)\n",
        "print(\"\")\n",
        "print(NAlist)"
      ],
      "execution_count": 21,
      "outputs": [
        {
          "output_type": "stream",
          "text": [
            "Memory usage of properties dataframe is : 1314.4615936279297  MB\n",
            "___MEMORY USAGE AFTER COMPLETION:___\n",
            "Memory usage is:  684.6154718399048  MB\n",
            "This is  52.083337783217985 % of the initial size\n",
            "------------------------------\n",
            "Warning: the following columns have missing values filled with 'df['column_name'].min() -1': \n",
            "------------------------------\n",
            "\n",
            "[]\n"
          ],
          "name": "stdout"
        }
      ]
    },
    {
      "cell_type": "code",
      "metadata": {
        "id": "QXlXAduZ5nHo",
        "colab_type": "code",
        "colab": {
          "base_uri": "https://localhost:8080/",
          "height": 230
        },
        "outputId": "6e270be2-4e9e-4fa5-bf20-e9dbd95aa7ff"
      },
      "source": [
        "print(test.info())"
      ],
      "execution_count": 22,
      "outputs": [
        {
          "output_type": "stream",
          "text": [
            "<class 'pandas.core.frame.DataFrame'>\n",
            "RangeIndex: 28714849 entries, 0 to 28714848\n",
            "Data columns (total 6 columns):\n",
            "game_id           float32\n",
            "time              uint8\n",
            "player            float32\n",
            "species           float32\n",
            "event             float32\n",
            "event_contents    object\n",
            "dtypes: float32(4), object(1), uint8(1)\n",
            "memory usage: 684.6+ MB\n",
            "None\n"
          ],
          "name": "stdout"
        }
      ]
    },
    {
      "cell_type": "code",
      "metadata": {
        "id": "i-iZ9ltT5oUj",
        "colab_type": "code",
        "colab": {
          "base_uri": "https://localhost:8080/",
          "height": 52
        },
        "outputId": "ef9d23ac-75ad-4bb9-b68f-7afe81e25bea"
      },
      "source": [
        "%%time\n",
        "test.to_pickle('/content/drive/My Drive/Colab Notebooks/data/데이콘/스타2/test.pkl')\n",
        "#train.to_csv('train.csv', index=False)"
      ],
      "execution_count": 23,
      "outputs": [
        {
          "output_type": "stream",
          "text": [
            "CPU times: user 9.06 s, sys: 2.07 s, total: 11.1 s\n",
            "Wall time: 17.6 s\n"
          ],
          "name": "stdout"
        }
      ]
    }
  ]
}