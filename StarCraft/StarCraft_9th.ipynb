{
  "nbformat": 4,
  "nbformat_minor": 0,
  "metadata": {
    "colab": {
      "name": "StarCraft_10th.ipynb",
      "provenance": [],
      "collapsed_sections": [
        "yfeuYbduGmLv",
        "4-r3RkLEhg3o"
      ],
      "machine_shape": "hm"
    },
    "kernelspec": {
      "name": "python3",
      "display_name": "Python 3"
    },
    "accelerator": "GPU"
  },
  "cells": [
    {
      "cell_type": "markdown",
      "metadata": {
        "id": "2IG8iUApwQAf",
        "colab_type": "text"
      },
      "source": [
        "# 유닛 딕셔너리 만들기"
      ]
    },
    {
      "cell_type": "code",
      "metadata": {
        "id": "8r8mcj6wwY1t",
        "colab_type": "code",
        "colab": {}
      },
      "source": [
        "#units\n",
        "pred_units = {}\n",
        "\n",
        "#Command Center\n",
        "pred_units['SCV'] = ['Command Center']\n",
        "\n",
        "#Barracks\n",
        "pred_units['Marine'] = ['Supply Depot','Barracks']\n",
        "pred_units['Marauder'] = ['Supply Depot','Barracks']\n",
        "pred_units['Reaper'] = ['Supply Depot','Barracks']\n",
        "pred_units['Ghost'] = ['Supply Depot','Barracks','Ghost Academy']\n",
        "\n",
        "#Factory\n",
        "pred_units['Hellion'] = ['Supply Depot','Barracks','Factory']\n",
        "pred_units['Widow Mine'] = ['Supply Depot','Barracks','Factory']\n",
        "pred_units['Siege Tank'] = ['Supply Depot','Barracks','Factory']\n",
        "pred_units['Cyclone'] = ['Supply Depot','Barracks','Factory']\n",
        "pred_units['Hellbat'] = ['Supply Depot','Barracks','Factory','Armory']\n",
        "pred_units['Thor'] = ['Supply Depot','Barracks','Factory','Armory']\n",
        "\n",
        "#Starfort\n",
        "pred_units['Viking'] = ['Supply Depot','Barracks','Factory','Starport']\n",
        "pred_units['Medivac'] = ['Supply Depot','Barracks','Factory','Starport']\n",
        "pred_units['Raven'] = ['Supply Depot','Barracks','Factory','Starport'] #밤까마귀\n",
        "pred_units['Banshee'] = ['Supply Depot','Barracks','Factory','Starport']\n",
        "pred_units['Liberator'] = ['Supply Depot','Barracks','Factory','Starport']\n",
        "pred_units['Battlecruiser'] = ['Supply Depot','Barracks','Factory','Starport','Fusion Core']\n",
        "\n",
        "#Building\n",
        "pred_units['Command Center']=[]\n",
        "pred_units['Supply Depot'] = []\n",
        "pred_units['Refinery']= []\n",
        "\n",
        "pred_units['Barracks'] =['Supply Depot']\n",
        "pred_units['Ghost Academy'] = ['Supply Depot','Barracks']\n",
        "pred_units['Bunker'] = ['Supply Depot','Barracks']\n",
        "pred_units['Orbital Command'] = ['Supply Depot','Barracks']\n",
        "pred_units['Factory'] = ['Supply Depot','Barracks']\n",
        "pred_units['Armory'] = ['Supply Depot','Barracks','Factory']\n",
        "pred_units['Starport'] = ['Supply Depot','Barracks','Factory']\n",
        "pred_units['Fusion Core'] = ['Supply Depot','Barracks','Factory','Starport']\n",
        "\n",
        "pred_units['Engineering Bay'] = ['Command Center']\n",
        "pred_units['Planetary Fortress'] = ['Command Center','Engineering Bay']\n",
        "pred_units['Sensor Tower'] = ['Command Center','Engineering Bay']\n",
        "pred_units['Missile Turret'] = ['Command Center','Engineering Bay']\n",
        "\n",
        "#Upgrade\n",
        "pred_units['Infantry Weapons Level 1'] = ['Command Center','Engineering Bay']\n",
        "pred_units['Infantry Weapons Level 2'] = ['Infantry Weapons Level 1','Command Center','Engineering Bay']\n",
        "pred_units['Infantry Weapons Level 3'] = ['Infantry Weapons Level 2','Command Center','Engineering Bay']\n",
        "pred_units['Infantry Armor Level 1'] = ['Command Center','Engineering Bay']\n",
        "pred_units['Infantry Armor Level 2'] = ['Infantry Armor Level 1','Command Center','Engineering Bay']\n",
        "pred_units['Infantry Armor Level 3'] = ['Infantry Armor Level 2','Command Center','Engineering Bay']\n",
        "pred_units['Hi-Sec Auto Tracking'] = ['Command Center','Engineering Bay']\n",
        "pred_units['Neosteel Armor'] = ['Command Center','Engineering Bay']\n",
        "pred_units['Vehicle Weapons Level 1'] = ['Supply Depot','Barracks','Factory','Armory']\n",
        "pred_units['Vehicle Weapons Level 2'] = ['Vehicle Weapons Level 1','Supply Depot','Barracks','Factory','Armory']\n",
        "pred_units['Vehicle Weapons Level 3'] = ['Vehicle Weapons Level 2','Supply Depot','Barracks','Factory','Armory']\n",
        "pred_units['Ship Weapons Level 1'] = ['Supply Depot','Barracks','Factory','Armory']\n",
        "pred_units['Ship Weapons Level 2'] = ['Ship Weapons Level 1','Supply Depot','Barracks','Factory','Armory']\n",
        "pred_units['Ship Weapons Level 3'] = ['Ship Weapons Level 2','Supply Depot','Barracks','Factory','Armory']\n",
        "pred_units['Vehicle and Ship Plating Level 1'] = ['Supply Depot','Barracks','Factory','Armory']\n",
        "pred_units['Vehicle and Ship Plating Level 2'] = ['Vehicle and Ship Plating Level 1','Supply Depot','Barracks','Factory','Armory']\n",
        "pred_units['Vehicle and Ship Plating Level 3'] = ['Vehicle and Ship Plating Level 2','Supply Depot','Barracks','Factory','Armory']\n",
        "pred_units['Personal Cloaking'] = ['Supply Depot','Barracks','Ghost Academy'] \n",
        "pred_units['Enhanced Shockwaves'] = ['Supply Depot','Barracks','Ghost Academy']\n",
        "pred_units['Arm Silo With Nuke'] = ['Supply Depot','Barracks','Ghost Academy']\n",
        "\n",
        "#Barracks\n",
        "pred_units['Combat Shield'] = ['Supply Depot','Barracks']\n",
        "pred_units['Stimpack'] = ['Supply Depot','Barracks']\n",
        "pred_units['Concussive Shells'] = ['Supply Depot','Barracks']\n",
        "\n",
        "#Factory\n",
        "pred_units['Infernal Pre-Igniter'] = ['Supply Depot','Barracks','Factory']\n",
        "pred_units['Mag-Field Accelerator'] = ['Supply Depot','Barracks','Factory']\n",
        "pred_units['Drilling Claws'] = ['Supply Depot','Barracks','Factory']\n",
        "pred_units['Smart Servos'] = ['Supply Depot','Barracks','Factory']\n",
        "\n",
        "#Starfort\n",
        "pred_units['Corvid Reactor'] = ['Supply Depot','Barracks','Factory','Starport']\n",
        "pred_units['Cloaking Field'] = ['Supply Depot','Barracks','Factory','Starport']\n",
        "pred_units['Hyperflight Rotors'] = ['Supply Depot','Barracks','Factory','Starport']\n",
        "\n",
        "#Fusion Core\n",
        "pred_units['Weapon Refit'] = ['Supply Depot','Barracks','Factory','Starport','Fusion Core']\n",
        "pred_units['Advanced Ballistics'] = ['Supply Depot','Barracks','Factory','Starport','Fusion Core']\n",
        "pred_units['Rapid Reignition System'] = ['Supply Depot','Barracks','Factory','Starport','Fusion Core']"
      ],
      "execution_count": 0,
      "outputs": []
    },
    {
      "cell_type": "markdown",
      "metadata": {
        "id": "R5pIbYzkAQ9B",
        "colab_type": "text"
      },
      "source": [
        "# Right Click"
      ]
    },
    {
      "cell_type": "code",
      "metadata": {
        "id": "NXs_b2BUNPkL",
        "colab_type": "code",
        "colab": {}
      },
      "source": [
        "import pandas as pd\n",
        "import numpy as np\n",
        "import matplotlib.pyplot as plt\n",
        "import seaborn as sns\n",
        "from tqdm import tqdm\n",
        "from sklearn.model_selection import train_test_split\n",
        "\n",
        "train = pd.read_pickle('/content/drive/My Drive/Colab Notebooks/data/데이콘/스타2/train.pkl')\n",
        "test = pd.read_pickle('/content/drive/My Drive/Colab Notebooks/data/데이콘/스타2/test.pkl')"
      ],
      "execution_count": 0,
      "outputs": []
    },
    {
      "cell_type": "markdown",
      "metadata": {
        "id": "Z6VN7EYN1-oJ",
        "colab_type": "text"
      },
      "source": [
        "## 렐리포인트 출력\n",
        "- 미네랄부스트, 가스부스트만 출력"
      ]
    },
    {
      "cell_type": "markdown",
      "metadata": {
        "id": "ROpyPpgZSvzn",
        "colab_type": "text"
      },
      "source": [
        "\n",
        "- DestructibleSignsConstruction(가스 건물) -> 렐리포인트 지정할 때\n",
        "   - 실존하는 유닛이 갈 때는 가스 건물 이름으로 나옴.(ex target: extractor)\n",
        "- DestructibleSignsFunny(가스)\n",
        "- Target: None (미네랄, 가스)\n"
      ]
    },
    {
      "cell_type": "markdown",
      "metadata": {
        "id": "JslafdEGhYqs",
        "colab_type": "text"
      },
      "source": [
        "### 시간이 오래걸리는 방법"
      ]
    },
    {
      "cell_type": "code",
      "metadata": {
        "id": "E5iFw5cypp6n",
        "colab_type": "code",
        "colab": {}
      },
      "source": [
        "find_rely=train[train['event']==3][['game_id','player','event_contents','winner']]"
      ],
      "execution_count": 0,
      "outputs": []
    },
    {
      "cell_type": "code",
      "metadata": {
        "id": "4Ce50Wvg5XsR",
        "colab_type": "code",
        "colab": {}
      },
      "source": [
        "find_rely.head()"
      ],
      "execution_count": 0,
      "outputs": []
    },
    {
      "cell_type": "code",
      "metadata": {
        "id": "esu_YJu55_Ap",
        "colab_type": "code",
        "colab": {}
      },
      "source": [
        "find_rely['event_contents_rp']=find_rely['event_contents'].apply(lambda x: x.split(';')[0])\n",
        "find_rely.head()"
      ],
      "execution_count": 0,
      "outputs": []
    },
    {
      "cell_type": "code",
      "metadata": {
        "id": "0QjHVHWq61hs",
        "colab_type": "code",
        "colab": {}
      },
      "source": [
        "find_rely['find_Target']=find_rely['event_contents_rp'].apply(lambda x: x.split(':')[0])\n",
        "find_rely.head()"
      ],
      "execution_count": 0,
      "outputs": []
    },
    {
      "cell_type": "code",
      "metadata": {
        "id": "ynsLTixO5Yzz",
        "colab_type": "code",
        "colab": {}
      },
      "source": [
        "find_rely=find_rely[find_rely['find_Target']=='Target']"
      ],
      "execution_count": 0,
      "outputs": []
    },
    {
      "cell_type": "code",
      "metadata": {
        "id": "QTpvF61x7_Q_",
        "colab_type": "code",
        "colab": {}
      },
      "source": [
        "find_rely['Target_content']=find_rely['event_contents_rp'].apply(lambda x: x.split(':')[1]).apply(lambda x: x[:-10])"
      ],
      "execution_count": 0,
      "outputs": []
    },
    {
      "cell_type": "code",
      "metadata": {
        "id": "Lt1UZFQJ9P5P",
        "colab_type": "code",
        "colab": {}
      },
      "source": [
        "find_rely.drop(['event_contents','event_contents_rp'],axis=1,inplace=True)"
      ],
      "execution_count": 0,
      "outputs": []
    },
    {
      "cell_type": "code",
      "metadata": {
        "id": "cJkZy9dbjKCI",
        "colab_type": "code",
        "colab": {}
      },
      "source": [
        "find_rely.head()"
      ],
      "execution_count": 0,
      "outputs": []
    },
    {
      "cell_type": "code",
      "metadata": {
        "id": "KdBr0Flth_T9",
        "colab_type": "code",
        "colab": {}
      },
      "source": [
        "find_rely['Target_content'][121] # 공백이 있는 것으로 확인된다. 이것을 없애주어야할 것 같다."
      ],
      "execution_count": 0,
      "outputs": []
    },
    {
      "cell_type": "code",
      "metadata": {
        "id": "2C14p4uRAzvn",
        "colab_type": "code",
        "colab": {}
      },
      "source": [
        "find_rely['Target_content']=find_rely['Target_content'].apply(lambda x: x.strip())\n",
        "find_rely['Target_content'][121]"
      ],
      "execution_count": 0,
      "outputs": []
    },
    {
      "cell_type": "code",
      "metadata": {
        "id": "H8UyUTkXB44I",
        "colab_type": "code",
        "colab": {}
      },
      "source": [
        "find_rely['Target_content'].unique()"
      ],
      "execution_count": 0,
      "outputs": []
    },
    {
      "cell_type": "code",
      "metadata": {
        "id": "8LfamDHnBD8Q",
        "colab_type": "code",
        "colab": {}
      },
      "source": [
        "rely_frame=find_rely[(find_rely['Target_content'] == 'DestructibleSignsConstruction')|\n",
        "          (find_rely['Target_content'] == 'DestructibleSignsFunny')|\n",
        "          (find_rely['Target_content'] == 'None')]\n",
        "rely_frame.head()"
      ],
      "execution_count": 0,
      "outputs": []
    },
    {
      "cell_type": "markdown",
      "metadata": {
        "id": "yfeuYbduGmLv",
        "colab_type": "text"
      },
      "source": [
        "#### Player 0만 추출"
      ]
    },
    {
      "cell_type": "code",
      "metadata": {
        "id": "dCUpkKy2LygT",
        "colab_type": "code",
        "colab": {}
      },
      "source": [
        "rely_frame_0=rely_frame[rely_frame['player']==0]"
      ],
      "execution_count": 0,
      "outputs": []
    },
    {
      "cell_type": "code",
      "metadata": {
        "id": "fpZPx9ypMvDf",
        "colab_type": "code",
        "colab": {}
      },
      "source": [
        "rely_frame_0=rely_frame_0.groupby('game_id')['Target_content'].value_counts().reset_index(name='count')"
      ],
      "execution_count": 0,
      "outputs": []
    },
    {
      "cell_type": "code",
      "metadata": {
        "id": "oFwsNQ_PQTH3",
        "colab_type": "code",
        "colab": {}
      },
      "source": [
        "rely_frame_0.head()"
      ],
      "execution_count": 0,
      "outputs": []
    },
    {
      "cell_type": "code",
      "metadata": {
        "id": "rnKO8ADiN9zF",
        "colab_type": "code",
        "colab": {}
      },
      "source": [
        "# 데이터 프레임을 만들기 위한 빈 딕셔너리 생성\n",
        "player_0_dict ={}\n",
        "player_0_dict['None']=[]\n",
        "player_0_dict['DestructibleSignsConstruction']=[]\n",
        "player_0_dict['DestructibleSignsFunny']=[]\n",
        "\n",
        "None_list=[]\n",
        "Con_list=[]\n",
        "Fun_list=[]"
      ],
      "execution_count": 0,
      "outputs": []
    },
    {
      "cell_type": "code",
      "metadata": {
        "id": "GynusFAnbewE",
        "colab_type": "code",
        "colab": {}
      },
      "source": [
        "rely_frame_0.game_id.unique()"
      ],
      "execution_count": 0,
      "outputs": []
    },
    {
      "cell_type": "code",
      "metadata": {
        "id": "1-Q1tLu6QObX",
        "colab_type": "code",
        "colab": {}
      },
      "source": [
        "# 시간 오래걸리는 방법\n",
        "'''\n",
        "for id in rely_frame_0.game_id.unique():\n",
        "  if id % 10000==0:\n",
        "    print(id)\n",
        "\n",
        "  None_list.append(\n",
        "      rely_frame_0[(rely_frame_0['game_id']==id)&\n",
        "                   (rely_frame_0['Target_content']==\"None\")]['count'].values\n",
        "  )\n",
        "  Con_list.append(\n",
        "      rely_frame_0[(rely_frame_0['game_id']==id)&\n",
        "                   (rely_frame_0['Target_content']==\"DestructibleSignsConstruction\")]['count'].values\n",
        "  )\n",
        "  Fun_list.append(\n",
        "      rely_frame_0[(rely_frame_0['game_id']==id)&\n",
        "                   (rely_frame_0['Target_content']==\"DestructibleSignsFunny\")]['count'].values\n",
        "  )\n",
        "'''"
      ],
      "execution_count": 0,
      "outputs": []
    },
    {
      "cell_type": "markdown",
      "metadata": {
        "id": "T4G6JZ62MRnY",
        "colab_type": "text"
      },
      "source": [
        ""
      ]
    },
    {
      "cell_type": "markdown",
      "metadata": {
        "id": "4-r3RkLEhg3o",
        "colab_type": "text"
      },
      "source": [
        "### 시간 단축 방법"
      ]
    },
    {
      "cell_type": "code",
      "metadata": {
        "id": "PpRvdlpthiwS",
        "colab_type": "code",
        "colab": {}
      },
      "source": [
        "# player별 분리\n",
        "train_0=train[train['player'] == 0]\n",
        "train_1=train[train['player'] == 1]"
      ],
      "execution_count": 0,
      "outputs": []
    },
    {
      "cell_type": "code",
      "metadata": {
        "id": "mSRZIVush08k",
        "colab_type": "code",
        "colab": {}
      },
      "source": [
        "def word_count(df,word):\n",
        "  return (df['event_contents'].str.contains(word)==True).sum()"
      ],
      "execution_count": 0,
      "outputs": []
    },
    {
      "cell_type": "code",
      "metadata": {
        "id": "UuFDtaAQkCqV",
        "colab_type": "code",
        "colab": {}
      },
      "source": [
        "word_1 = 'DestructibleSignsConstruction'\n",
        "word_2 = 'DestructibleSignsFunny'\n",
        "word_3 = 'None'\n",
        "\n",
        "t = train_0.groupby('game_id').apply(lambda x:word_count(x,word_1)).rename('count_{}'.format(word_1))\n",
        "p = train_0.groupby('game_id').apply(lambda x:word_count(x,word_2)).rename('count_{}'.format(word_2))\n",
        "q = train_0.groupby('game_id').apply(lambda x:word_count(x,word_3)).rename('count_{}'.format(word_3))"
      ],
      "execution_count": 0,
      "outputs": []
    },
    {
      "cell_type": "code",
      "metadata": {
        "id": "zZxN5cXxomAg",
        "colab_type": "code",
        "colab": {}
      },
      "source": [
        "t=t.reset_index()\n",
        "p=p.reset_index()\n",
        "q=q.reset_index()"
      ],
      "execution_count": 0,
      "outputs": []
    },
    {
      "cell_type": "code",
      "metadata": {
        "id": "uN8yjLKosdp_",
        "colab_type": "code",
        "colab": {}
      },
      "source": [
        "tpq_0 = t.merge(p,on='game_id').merge(q,on='game_id')\n",
        "\n",
        "#중간 저장\n",
        "tpq_0.to_csv('/content/drive/My Drive/Colab Notebooks/data/데이콘/스타2/tpq_0.csv')"
      ],
      "execution_count": 0,
      "outputs": []
    },
    {
      "cell_type": "code",
      "metadata": {
        "id": "X_lbtV80tRBH",
        "colab_type": "code",
        "colab": {}
      },
      "source": [
        "# player 1도 똑같이 적용\n",
        "\n",
        "word_1 = 'DestructibleSignsConstruction'\n",
        "word_2 = 'DestructibleSignsFunny'\n",
        "word_3 = 'None'\n",
        "\n",
        "t = train_1.groupby('game_id').apply(lambda x:word_count(x,word_1)).rename('count_{}'.format(word_1))\n",
        "p = train_1.groupby('game_id').apply(lambda x:word_count(x,word_2)).rename('count_{}'.format(word_2))\n",
        "q = train_1.groupby('game_id').apply(lambda x:word_count(x,word_3)).rename('count_{}'.format(word_3))\n",
        "\n",
        "t=t.reset_index()\n",
        "p=p.reset_index()\n",
        "q=q.reset_index()\n",
        "\n",
        "tpq_1 = t.merge(p,on='game_id').merge(q,on='game_id')\n",
        "\n",
        "#중간 저장\n",
        "tpq_1.to_csv('/content/drive/My Drive/Colab Notebooks/data/데이콘/스타2/tpq_1.csv')"
      ],
      "execution_count": 0,
      "outputs": []
    },
    {
      "cell_type": "code",
      "metadata": {
        "id": "JT6xXWZotqDU",
        "colab_type": "code",
        "colab": {}
      },
      "source": [
        "tpq_0.head()"
      ],
      "execution_count": 0,
      "outputs": []
    },
    {
      "cell_type": "code",
      "metadata": {
        "id": "pbmH8T60trzP",
        "colab_type": "code",
        "colab": {}
      },
      "source": [
        "tpq_1.head()"
      ],
      "execution_count": 0,
      "outputs": []
    },
    {
      "cell_type": "markdown",
      "metadata": {
        "id": "Ezh4_VBA3zRP",
        "colab_type": "text"
      },
      "source": [
        "# Attack에 대한 EDA(승률이 올라갈 수 있는)\n",
        "- 전반부: 일꾼에 대한 \n",
        "- 중, 후반부: 생산건물(Barracks,Starport 등)"
      ]
    },
    {
      "cell_type": "code",
      "metadata": {
        "id": "iKzftIQ83zvK",
        "colab_type": "code",
        "colab": {}
      },
      "source": [
        "import pandas as pd\n",
        "import numpy as np\n",
        "import matplotlib.pyplot as plt\n",
        "import seaborn as sns\n",
        "from tqdm import tqdm\n",
        "from sklearn.model_selection import train_test_split\n",
        "\n",
        "train = pd.read_pickle('/content/drive/My Drive/Colab Notebooks/data/데이콘/스타2/train.pkl')\n",
        "test = pd.read_pickle('/content/drive/My Drive/Colab Notebooks/data/데이콘/스타2/test.pkl')"
      ],
      "execution_count": 0,
      "outputs": []
    },
    {
      "cell_type": "code",
      "metadata": {
        "id": "qNVT3J4TQ3oh",
        "colab_type": "code",
        "colab": {}
      },
      "source": [
        "# 게임 시간에 대한 분포를 먼저 구해보자.\n",
        "game_time=train.groupby('game_id')['time'].max().reset_index(name='time')"
      ],
      "execution_count": 0,
      "outputs": []
    },
    {
      "cell_type": "code",
      "metadata": {
        "id": "pwnMi80CSGvP",
        "colab_type": "code",
        "outputId": "27e2b097-823e-4e65-ba75-b72a86ca0594",
        "colab": {
          "base_uri": "https://localhost:8080/",
          "height": 228
        }
      },
      "source": [
        "game_time['time'].value_counts()"
      ],
      "execution_count": 3,
      "outputs": [
        {
          "output_type": "execute_result",
          "data": {
            "text/plain": [
              "9.0     13798\n",
              "8.0      3665\n",
              "7.0      3619\n",
              "6.0      3397\n",
              "4.0      3257\n",
              "5.0      3227\n",
              "10.0     2924\n",
              "3.0      2596\n",
              "2.0      1348\n",
              "1.0       636\n",
              "0.0       405\n",
              "Name: time, dtype: int64"
            ]
          },
          "metadata": {
            "tags": []
          },
          "execution_count": 3
        }
      ]
    },
    {
      "cell_type": "code",
      "metadata": {
        "id": "vjJ6toYFTiMW",
        "colab_type": "code",
        "outputId": "688462d1-b8ef-4368-aad8-0ba836ed0115",
        "colab": {
          "base_uri": "https://localhost:8080/",
          "height": 353
        }
      },
      "source": [
        "plt.hist(game_time['time'])"
      ],
      "execution_count": 4,
      "outputs": [
        {
          "output_type": "execute_result",
          "data": {
            "text/plain": [
              "(array([  405.,   636.,  1348.,  2596.,  3257.,  3227.,  3397.,  3619.,\n",
              "         3665., 16722.]),\n",
              " array([ 0.,  1.,  2.,  3.,  4.,  5.,  6.,  7.,  8.,  9., 10.],\n",
              "       dtype=float32),\n",
              " <a list of 10 Patch objects>)"
            ]
          },
          "metadata": {
            "tags": []
          },
          "execution_count": 4
        },
        {
          "output_type": "display_data",
          "data": {
            "image/png": "[encoded data removed]",
            "text/plain": [
              "<Figure size 432x288 with 1 Axes>"
            ]
          },
          "metadata": {
            "tags": []
          }
        }
      ]
    },
    {
      "cell_type": "code",
      "metadata": {
        "id": "NZrsfhC2TU_3",
        "colab_type": "code",
        "colab": {}
      },
      "source": [
        "game_time=test.groupby('game_id')['time'].max().reset_index(name='time')"
      ],
      "execution_count": 0,
      "outputs": []
    },
    {
      "cell_type": "code",
      "metadata": {
        "id": "_cv-llu1TZBD",
        "colab_type": "code",
        "outputId": "6bd395c9-e25b-420a-d3d5-9321d5e66c3a",
        "colab": {
          "base_uri": "https://localhost:8080/",
          "height": 228
        }
      },
      "source": [
        "game_time['time'].value_counts()"
      ],
      "execution_count": 6,
      "outputs": [
        {
          "output_type": "execute_result",
          "data": {
            "text/plain": [
              "9     5857\n",
              "8     1602\n",
              "7     1522\n",
              "6     1513\n",
              "4     1399\n",
              "10    1315\n",
              "5     1312\n",
              "3     1168\n",
              "2      609\n",
              "1      286\n",
              "0      204\n",
              "Name: time, dtype: int64"
            ]
          },
          "metadata": {
            "tags": []
          },
          "execution_count": 6
        }
      ]
    },
    {
      "cell_type": "code",
      "metadata": {
        "id": "dObgvc7iRQhB",
        "colab_type": "code",
        "outputId": "51be2d78-8cab-4ab8-fb2d-dc92e099b855",
        "colab": {
          "base_uri": "https://localhost:8080/",
          "height": 335
        }
      },
      "source": [
        "plt.hist(game_time['time'])"
      ],
      "execution_count": 7,
      "outputs": [
        {
          "output_type": "execute_result",
          "data": {
            "text/plain": [
              "(array([ 204.,  286.,  609., 1168., 1399., 1312., 1513., 1522., 1602.,\n",
              "        7172.]),\n",
              " array([ 0.,  1.,  2.,  3.,  4.,  5.,  6.,  7.,  8.,  9., 10.]),\n",
              " <a list of 10 Patch objects>)"
            ]
          },
          "metadata": {
            "tags": []
          },
          "execution_count": 7
        },
        {
          "output_type": "display_data",
          "data": {
            "image/png": "[encoded data removed]",
            "text/plain": [
              "<Figure size 432x288 with 1 Axes>"
            ]
          },
          "metadata": {
            "tags": []
          }
        }
      ]
    },
    {
      "cell_type": "markdown",
      "metadata": {
        "id": "Z6TMaHaxUE37",
        "colab_type": "text"
      },
      "source": [
        "game_time의 분포를 살벼본 결과, 0분짜리 경기와 1분짜리 경기를 어떻게 해결해야할지 의문이 생긴다."
      ]
    },
    {
      "cell_type": "markdown",
      "metadata": {
        "id": "iioVEX94Uytu",
        "colab_type": "text"
      },
      "source": [
        "---\n",
        "우선 train의 game_time을 기준으로 초반과 후반에 대한 기준을 새우자.\n",
        " - 이상치가 있기 때문에 중앙값을 사용"
      ]
    },
    {
      "cell_type": "code",
      "metadata": {
        "id": "NXi95mq_UzxD",
        "colab_type": "code",
        "outputId": "fbf8689c-89b9-4b6b-c187-1aa1b05e9522",
        "colab": {
          "base_uri": "https://localhost:8080/",
          "height": 34
        }
      },
      "source": [
        "train_game_time=train.groupby('game_id')['time'].max().reset_index(name='time')\n",
        "train_game_time['time'].median()"
      ],
      "execution_count": 8,
      "outputs": [
        {
          "output_type": "execute_result",
          "data": {
            "text/plain": [
              "8.0"
            ]
          },
          "metadata": {
            "tags": []
          },
          "execution_count": 8
        }
      ]
    },
    {
      "cell_type": "markdown",
      "metadata": {
        "id": "NQLyvn7uW14o",
        "colab_type": "text"
      },
      "source": [
        "8분을 기준으로 초반과 후반을 나누어 공격에 대한 기준을 정해보자."
      ]
    },
    {
      "cell_type": "code",
      "metadata": {
        "id": "jiw64eHnY2QT",
        "colab_type": "code",
        "outputId": "9f72b7a6-c52f-41ba-b52e-c941e9213723",
        "colab": {
          "base_uri": "https://localhost:8080/",
          "height": 195
        }
      },
      "source": [
        "train.loc[train['time']<=8,'session'] = 0\n",
        "train.loc[train['time']>8,'session'] = 1\n",
        "train.head()"
      ],
      "execution_count": 9,
      "outputs": [
        {
          "output_type": "execute_result",
          "data": {
            "text/html": [
              "<div>\n",
              "<style scoped>\n",
              "    .dataframe tbody tr th:only-of-type {\n",
              "        vertical-align: middle;\n",
              "    }\n",
              "\n",
              "    .dataframe tbody tr th {\n",
              "        vertical-align: top;\n",
              "    }\n",
              "\n",
              "    .dataframe thead th {\n",
              "        text-align: right;\n",
              "    }\n",
              "</style>\n",
              "<table border=\"1\" class=\"dataframe\">\n",
              "  <thead>\n",
              "    <tr style=\"text-align: right;\">\n",
              "      <th></th>\n",
              "      <th>game_id</th>\n",
              "      <th>winner</th>\n",
              "      <th>time</th>\n",
              "      <th>player</th>\n",
              "      <th>species</th>\n",
              "      <th>event</th>\n",
              "      <th>event_contents</th>\n",
              "      <th>session</th>\n",
              "    </tr>\n",
              "  </thead>\n",
              "  <tbody>\n",
              "    <tr>\n",
              "      <th>0</th>\n",
              "      <td>0.0</td>\n",
              "      <td>1.0</td>\n",
              "      <td>0.0</td>\n",
              "      <td>0.0</td>\n",
              "      <td>0.0</td>\n",
              "      <td>0.0</td>\n",
              "      <td>at (145.25, 21.5078125)</td>\n",
              "      <td>0.0</td>\n",
              "    </tr>\n",
              "    <tr>\n",
              "      <th>1</th>\n",
              "      <td>0.0</td>\n",
              "      <td>1.0</td>\n",
              "      <td>0.0</td>\n",
              "      <td>1.0</td>\n",
              "      <td>0.0</td>\n",
              "      <td>0.0</td>\n",
              "      <td>at (22.75, 147.0078125)</td>\n",
              "      <td>0.0</td>\n",
              "    </tr>\n",
              "    <tr>\n",
              "      <th>2</th>\n",
              "      <td>0.0</td>\n",
              "      <td>1.0</td>\n",
              "      <td>0.0</td>\n",
              "      <td>0.0</td>\n",
              "      <td>0.0</td>\n",
              "      <td>1.0</td>\n",
              "      <td>['OrbitalCommand [3080001]']</td>\n",
              "      <td>0.0</td>\n",
              "    </tr>\n",
              "    <tr>\n",
              "      <th>3</th>\n",
              "      <td>0.0</td>\n",
              "      <td>1.0</td>\n",
              "      <td>0.0</td>\n",
              "      <td>0.0</td>\n",
              "      <td>0.0</td>\n",
              "      <td>2.0</td>\n",
              "      <td>(1360) - TrainSCV</td>\n",
              "      <td>0.0</td>\n",
              "    </tr>\n",
              "    <tr>\n",
              "      <th>4</th>\n",
              "      <td>0.0</td>\n",
              "      <td>1.0</td>\n",
              "      <td>0.0</td>\n",
              "      <td>0.0</td>\n",
              "      <td>0.0</td>\n",
              "      <td>0.0</td>\n",
              "      <td>at (142.99609375, 24.50390625)</td>\n",
              "      <td>0.0</td>\n",
              "    </tr>\n",
              "  </tbody>\n",
              "</table>\n",
              "</div>"
            ],
            "text/plain": [
              "   game_id  winner  time  ...  event                  event_contents  session\n",
              "0      0.0     1.0   0.0  ...    0.0         at (145.25, 21.5078125)      0.0\n",
              "1      0.0     1.0   0.0  ...    0.0         at (22.75, 147.0078125)      0.0\n",
              "2      0.0     1.0   0.0  ...    1.0    ['OrbitalCommand [3080001]']      0.0\n",
              "3      0.0     1.0   0.0  ...    2.0               (1360) - TrainSCV      0.0\n",
              "4      0.0     1.0   0.0  ...    0.0  at (142.99609375, 24.50390625)      0.0\n",
              "\n",
              "[5 rows x 8 columns]"
            ]
          },
          "metadata": {
            "tags": []
          },
          "execution_count": 9
        }
      ]
    },
    {
      "cell_type": "markdown",
      "metadata": {
        "id": "nOI5XUCSFAdC",
        "colab_type": "text"
      },
      "source": [
        "시간 적용 안해도 될 듯\n",
        "\n",
        " "
      ]
    },
    {
      "cell_type": "markdown",
      "metadata": {
        "id": "67AHr_Jt8_aA",
        "colab_type": "text"
      },
      "source": [
        "---"
      ]
    },
    {
      "cell_type": "markdown",
      "metadata": {
        "id": "QtjhDcjPRTbm",
        "colab_type": "text"
      },
      "source": [
        "## Attack 추출\n",
        "- session :0 -> attack 자원 주변 (일단 본진 멀티 나누지 말고, None으로 된 것만 처리)\n",
        "- session :1 -> attack 일꾼\n",
        "- session :2 -> attack 건물\n",
        "- session :3 -> attack 본진\n",
        "- session :4 -> 상대 진영 렐리 추출"
      ]
    },
    {
      "cell_type": "markdown",
      "metadata": {
        "id": "cst6KaZBvts7",
        "colab_type": "text"
      },
      "source": [
        "적 본진을 알려주는 새로운 컬럼을 만들자."
      ]
    },
    {
      "cell_type": "markdown",
      "metadata": {
        "id": "bgYE404W0XV1",
        "colab_type": "text"
      },
      "source": [
        "- train_camera_first=train.query('event==0').groupby(['game_id','player']).first()"
      ]
    },
    {
      "cell_type": "code",
      "metadata": {
        "id": "L0aQM2WR08Zu",
        "colab_type": "code",
        "colab": {}
      },
      "source": [
        "train_camera_first=train.query('event==0')"
      ],
      "execution_count": 0,
      "outputs": []
    },
    {
      "cell_type": "code",
      "metadata": {
        "id": "-u-xYI68BT9Z",
        "colab_type": "code",
        "outputId": "acfd20d9-d2f5-46d9-cc3b-ec80dabd5d1b",
        "colab": {
          "base_uri": "https://localhost:8080/",
          "height": 122
        }
      },
      "source": [
        "# 상대 본진을 merge 시키기 위해 player 변경\n",
        "train_camera_first.loc[train_camera_first['player']==0,\n",
        "                       'player']=2\n",
        "train_camera_first.loc[train_camera_first['player']==1,\n",
        "                       'player']=3\n",
        "\n",
        "train_camera_first.loc[train_camera_first['player']==2,\n",
        "                       'player']=1\n",
        "train_camera_first.loc[train_camera_first['player']==3,\n",
        "                       'player']=0"
      ],
      "execution_count": 11,
      "outputs": [
        {
          "output_type": "stream",
          "text": [
            "/usr/local/lib/python3.6/dist-packages/pandas/core/indexing.py:494: SettingWithCopyWarning: \n",
            "A value is trying to be set on a copy of a slice from a DataFrame.\n",
            "Try using .loc[row_indexer,col_indexer] = value instead\n",
            "\n",
            "See the caveats in the documentation: http://pandas.pydata.org/pandas-docs/stable/user_guide/indexing.html#returning-a-view-versus-a-copy\n",
            "  self.obj[item] = s\n"
          ],
          "name": "stderr"
        }
      ]
    },
    {
      "cell_type": "code",
      "metadata": {
        "id": "1Rku9N5m3_si",
        "colab_type": "code",
        "colab": {}
      },
      "source": [
        "train_camera_first=train_camera_first.groupby(['game_id','player']).first()"
      ],
      "execution_count": 0,
      "outputs": []
    },
    {
      "cell_type": "code",
      "metadata": {
        "id": "qB_NXl6t1G1X",
        "colab_type": "code",
        "outputId": "3103a230-b207-41ae-96d8-03fd2962a649",
        "colab": {
          "base_uri": "https://localhost:8080/",
          "height": 195
        }
      },
      "source": [
        "train=train.merge(train_camera_first['event_contents'],on=['game_id','player'])\n",
        "train.head()"
      ],
      "execution_count": 13,
      "outputs": [
        {
          "output_type": "execute_result",
          "data": {
            "text/html": [
              "<div>\n",
              "<style scoped>\n",
              "    .dataframe tbody tr th:only-of-type {\n",
              "        vertical-align: middle;\n",
              "    }\n",
              "\n",
              "    .dataframe tbody tr th {\n",
              "        vertical-align: top;\n",
              "    }\n",
              "\n",
              "    .dataframe thead th {\n",
              "        text-align: right;\n",
              "    }\n",
              "</style>\n",
              "<table border=\"1\" class=\"dataframe\">\n",
              "  <thead>\n",
              "    <tr style=\"text-align: right;\">\n",
              "      <th></th>\n",
              "      <th>game_id</th>\n",
              "      <th>winner</th>\n",
              "      <th>time</th>\n",
              "      <th>player</th>\n",
              "      <th>species</th>\n",
              "      <th>event</th>\n",
              "      <th>event_contents_x</th>\n",
              "      <th>session</th>\n",
              "      <th>event_contents_y</th>\n",
              "    </tr>\n",
              "  </thead>\n",
              "  <tbody>\n",
              "    <tr>\n",
              "      <th>0</th>\n",
              "      <td>0.0</td>\n",
              "      <td>1.0</td>\n",
              "      <td>0.0</td>\n",
              "      <td>0.0</td>\n",
              "      <td>0.0</td>\n",
              "      <td>0.0</td>\n",
              "      <td>at (145.25, 21.5078125)</td>\n",
              "      <td>0.0</td>\n",
              "      <td>at (22.75, 147.0078125)</td>\n",
              "    </tr>\n",
              "    <tr>\n",
              "      <th>1</th>\n",
              "      <td>0.0</td>\n",
              "      <td>1.0</td>\n",
              "      <td>0.0</td>\n",
              "      <td>0.0</td>\n",
              "      <td>0.0</td>\n",
              "      <td>1.0</td>\n",
              "      <td>['OrbitalCommand [3080001]']</td>\n",
              "      <td>0.0</td>\n",
              "      <td>at (22.75, 147.0078125)</td>\n",
              "    </tr>\n",
              "    <tr>\n",
              "      <th>2</th>\n",
              "      <td>0.0</td>\n",
              "      <td>1.0</td>\n",
              "      <td>0.0</td>\n",
              "      <td>0.0</td>\n",
              "      <td>0.0</td>\n",
              "      <td>2.0</td>\n",
              "      <td>(1360) - TrainSCV</td>\n",
              "      <td>0.0</td>\n",
              "      <td>at (22.75, 147.0078125)</td>\n",
              "    </tr>\n",
              "    <tr>\n",
              "      <th>3</th>\n",
              "      <td>0.0</td>\n",
              "      <td>1.0</td>\n",
              "      <td>0.0</td>\n",
              "      <td>0.0</td>\n",
              "      <td>0.0</td>\n",
              "      <td>0.0</td>\n",
              "      <td>at (142.99609375, 24.50390625)</td>\n",
              "      <td>0.0</td>\n",
              "      <td>at (22.75, 147.0078125)</td>\n",
              "    </tr>\n",
              "    <tr>\n",
              "      <th>4</th>\n",
              "      <td>0.0</td>\n",
              "      <td>1.0</td>\n",
              "      <td>0.0</td>\n",
              "      <td>0.0</td>\n",
              "      <td>0.0</td>\n",
              "      <td>0.0</td>\n",
              "      <td>at (142.5078125, 24.98828125)</td>\n",
              "      <td>0.0</td>\n",
              "      <td>at (22.75, 147.0078125)</td>\n",
              "    </tr>\n",
              "  </tbody>\n",
              "</table>\n",
              "</div>"
            ],
            "text/plain": [
              "   game_id  winner  ...  session         event_contents_y\n",
              "0      0.0     1.0  ...      0.0  at (22.75, 147.0078125)\n",
              "1      0.0     1.0  ...      0.0  at (22.75, 147.0078125)\n",
              "2      0.0     1.0  ...      0.0  at (22.75, 147.0078125)\n",
              "3      0.0     1.0  ...      0.0  at (22.75, 147.0078125)\n",
              "4      0.0     1.0  ...      0.0  at (22.75, 147.0078125)\n",
              "\n",
              "[5 rows x 9 columns]"
            ]
          },
          "metadata": {
            "tags": []
          },
          "execution_count": 13
        }
      ]
    },
    {
      "cell_type": "code",
      "metadata": {
        "id": "lrxHerb2Q2nF",
        "colab_type": "code",
        "outputId": "29db1bce-c842-4700-ef1f-799369263107",
        "colab": {
          "base_uri": "https://localhost:8080/",
          "height": 195
        }
      },
      "source": [
        "# 데이터 합칠 껍데기 생성\n",
        "final_merge=pd.DataFrame(index=train.game_id.unique(),\n",
        "                         data={'game_id':train.game_id.unique()})\n",
        "final_merge.head()"
      ],
      "execution_count": 14,
      "outputs": [
        {
          "output_type": "execute_result",
          "data": {
            "text/html": [
              "<div>\n",
              "<style scoped>\n",
              "    .dataframe tbody tr th:only-of-type {\n",
              "        vertical-align: middle;\n",
              "    }\n",
              "\n",
              "    .dataframe tbody tr th {\n",
              "        vertical-align: top;\n",
              "    }\n",
              "\n",
              "    .dataframe thead th {\n",
              "        text-align: right;\n",
              "    }\n",
              "</style>\n",
              "<table border=\"1\" class=\"dataframe\">\n",
              "  <thead>\n",
              "    <tr style=\"text-align: right;\">\n",
              "      <th></th>\n",
              "      <th>game_id</th>\n",
              "    </tr>\n",
              "  </thead>\n",
              "  <tbody>\n",
              "    <tr>\n",
              "      <th>0.0</th>\n",
              "      <td>0.0</td>\n",
              "    </tr>\n",
              "    <tr>\n",
              "      <th>1.0</th>\n",
              "      <td>1.0</td>\n",
              "    </tr>\n",
              "    <tr>\n",
              "      <th>2.0</th>\n",
              "      <td>2.0</td>\n",
              "    </tr>\n",
              "    <tr>\n",
              "      <th>3.0</th>\n",
              "      <td>3.0</td>\n",
              "    </tr>\n",
              "    <tr>\n",
              "      <th>4.0</th>\n",
              "      <td>4.0</td>\n",
              "    </tr>\n",
              "  </tbody>\n",
              "</table>\n",
              "</div>"
            ],
            "text/plain": [
              "     game_id\n",
              "0.0      0.0\n",
              "1.0      1.0\n",
              "2.0      2.0\n",
              "3.0      3.0\n",
              "4.0      4.0"
            ]
          },
          "metadata": {
            "tags": []
          },
          "execution_count": 14
        }
      ]
    },
    {
      "cell_type": "markdown",
      "metadata": {
        "id": "8YU5nMoctj0p",
        "colab_type": "text"
      },
      "source": [
        "## Session :0\n",
        " - Attack 자원 주변"
      ]
    },
    {
      "cell_type": "code",
      "metadata": {
        "id": "740FfFUDGzaz",
        "colab_type": "code",
        "outputId": "019ccbf4-7003-4bac-d0aa-caa7adc8d03b",
        "colab": {
          "base_uri": "https://localhost:8080/",
          "height": 195
        }
      },
      "source": [
        "attack_0 = train[train['event']==2]\n",
        "attack_0.head()"
      ],
      "execution_count": 15,
      "outputs": [
        {
          "output_type": "execute_result",
          "data": {
            "text/html": [
              "<div>\n",
              "<style scoped>\n",
              "    .dataframe tbody tr th:only-of-type {\n",
              "        vertical-align: middle;\n",
              "    }\n",
              "\n",
              "    .dataframe tbody tr th {\n",
              "        vertical-align: top;\n",
              "    }\n",
              "\n",
              "    .dataframe thead th {\n",
              "        text-align: right;\n",
              "    }\n",
              "</style>\n",
              "<table border=\"1\" class=\"dataframe\">\n",
              "  <thead>\n",
              "    <tr style=\"text-align: right;\">\n",
              "      <th></th>\n",
              "      <th>game_id</th>\n",
              "      <th>winner</th>\n",
              "      <th>time</th>\n",
              "      <th>player</th>\n",
              "      <th>species</th>\n",
              "      <th>event</th>\n",
              "      <th>event_contents_x</th>\n",
              "      <th>session</th>\n",
              "      <th>event_contents_y</th>\n",
              "    </tr>\n",
              "  </thead>\n",
              "  <tbody>\n",
              "    <tr>\n",
              "      <th>2</th>\n",
              "      <td>0.0</td>\n",
              "      <td>1.0</td>\n",
              "      <td>0.0</td>\n",
              "      <td>0.0</td>\n",
              "      <td>0.0</td>\n",
              "      <td>2.0</td>\n",
              "      <td>(1360) - TrainSCV</td>\n",
              "      <td>0.0</td>\n",
              "      <td>at (22.75, 147.0078125)</td>\n",
              "    </tr>\n",
              "    <tr>\n",
              "      <th>18</th>\n",
              "      <td>0.0</td>\n",
              "      <td>1.0</td>\n",
              "      <td>0.0</td>\n",
              "      <td>0.0</td>\n",
              "      <td>0.0</td>\n",
              "      <td>2.0</td>\n",
              "      <td>(1021) - BuildSupplyDepot; Location: (135.0, 4...</td>\n",
              "      <td>0.0</td>\n",
              "      <td>at (22.75, 147.0078125)</td>\n",
              "    </tr>\n",
              "    <tr>\n",
              "      <th>26</th>\n",
              "      <td>0.0</td>\n",
              "      <td>1.0</td>\n",
              "      <td>0.0</td>\n",
              "      <td>0.0</td>\n",
              "      <td>0.0</td>\n",
              "      <td>2.0</td>\n",
              "      <td>(480) - Stop</td>\n",
              "      <td>0.0</td>\n",
              "      <td>at (22.75, 147.0078125)</td>\n",
              "    </tr>\n",
              "    <tr>\n",
              "      <th>29</th>\n",
              "      <td>0.0</td>\n",
              "      <td>1.0</td>\n",
              "      <td>0.0</td>\n",
              "      <td>0.0</td>\n",
              "      <td>0.0</td>\n",
              "      <td>2.0</td>\n",
              "      <td>(1360) - TrainSCV</td>\n",
              "      <td>0.0</td>\n",
              "      <td>at (22.75, 147.0078125)</td>\n",
              "    </tr>\n",
              "    <tr>\n",
              "      <th>55</th>\n",
              "      <td>0.0</td>\n",
              "      <td>1.0</td>\n",
              "      <td>1.0</td>\n",
              "      <td>0.0</td>\n",
              "      <td>0.0</td>\n",
              "      <td>2.0</td>\n",
              "      <td>(1023) - BuildBarracks; Location: (135.5, 39.5...</td>\n",
              "      <td>0.0</td>\n",
              "      <td>at (22.75, 147.0078125)</td>\n",
              "    </tr>\n",
              "  </tbody>\n",
              "</table>\n",
              "</div>"
            ],
            "text/plain": [
              "    game_id  winner  ...  session         event_contents_y\n",
              "2       0.0     1.0  ...      0.0  at (22.75, 147.0078125)\n",
              "18      0.0     1.0  ...      0.0  at (22.75, 147.0078125)\n",
              "26      0.0     1.0  ...      0.0  at (22.75, 147.0078125)\n",
              "29      0.0     1.0  ...      0.0  at (22.75, 147.0078125)\n",
              "55      0.0     1.0  ...      0.0  at (22.75, 147.0078125)\n",
              "\n",
              "[5 rows x 9 columns]"
            ]
          },
          "metadata": {
            "tags": []
          },
          "execution_count": 15
        }
      ]
    },
    {
      "cell_type": "code",
      "metadata": {
        "id": "P5uXxSVCI2-c",
        "colab_type": "code",
        "outputId": "2064ec82-dbea-4581-acf5-50036d32f89d",
        "colab": {
          "base_uri": "https://localhost:8080/",
          "height": 195
        }
      },
      "source": [
        "attack_0=attack_0[attack_0['event_contents_x'].str.contains('Attack; Target: None')]\n",
        "attack_0['event_contents_x']=0\n",
        "attack_0.head()"
      ],
      "execution_count": 16,
      "outputs": [
        {
          "output_type": "execute_result",
          "data": {
            "text/html": [
              "<div>\n",
              "<style scoped>\n",
              "    .dataframe tbody tr th:only-of-type {\n",
              "        vertical-align: middle;\n",
              "    }\n",
              "\n",
              "    .dataframe tbody tr th {\n",
              "        vertical-align: top;\n",
              "    }\n",
              "\n",
              "    .dataframe thead th {\n",
              "        text-align: right;\n",
              "    }\n",
              "</style>\n",
              "<table border=\"1\" class=\"dataframe\">\n",
              "  <thead>\n",
              "    <tr style=\"text-align: right;\">\n",
              "      <th></th>\n",
              "      <th>game_id</th>\n",
              "      <th>winner</th>\n",
              "      <th>time</th>\n",
              "      <th>player</th>\n",
              "      <th>species</th>\n",
              "      <th>event</th>\n",
              "      <th>event_contents_x</th>\n",
              "      <th>session</th>\n",
              "      <th>event_contents_y</th>\n",
              "    </tr>\n",
              "  </thead>\n",
              "  <tbody>\n",
              "    <tr>\n",
              "      <th>4765</th>\n",
              "      <td>2.0</td>\n",
              "      <td>0.0</td>\n",
              "      <td>8.0</td>\n",
              "      <td>1.0</td>\n",
              "      <td>2.0</td>\n",
              "      <td>2.0</td>\n",
              "      <td>0</td>\n",
              "      <td>0.0</td>\n",
              "      <td>at (151.25, 20.5078125)</td>\n",
              "    </tr>\n",
              "    <tr>\n",
              "      <th>6613</th>\n",
              "      <td>3.0</td>\n",
              "      <td>0.0</td>\n",
              "      <td>6.0</td>\n",
              "      <td>0.0</td>\n",
              "      <td>0.0</td>\n",
              "      <td>2.0</td>\n",
              "      <td>0</td>\n",
              "      <td>0.0</td>\n",
              "      <td>at (24.75, 137.0078125)</td>\n",
              "    </tr>\n",
              "    <tr>\n",
              "      <th>8043</th>\n",
              "      <td>3.0</td>\n",
              "      <td>0.0</td>\n",
              "      <td>4.0</td>\n",
              "      <td>1.0</td>\n",
              "      <td>1.0</td>\n",
              "      <td>2.0</td>\n",
              "      <td>0</td>\n",
              "      <td>0.0</td>\n",
              "      <td>at (127.25, 27.5078125)</td>\n",
              "    </tr>\n",
              "    <tr>\n",
              "      <th>10238</th>\n",
              "      <td>4.0</td>\n",
              "      <td>0.0</td>\n",
              "      <td>4.0</td>\n",
              "      <td>0.0</td>\n",
              "      <td>0.0</td>\n",
              "      <td>2.0</td>\n",
              "      <td>0</td>\n",
              "      <td>0.0</td>\n",
              "      <td>at (163.25, 18.5078125)</td>\n",
              "    </tr>\n",
              "    <tr>\n",
              "      <th>11378</th>\n",
              "      <td>5.0</td>\n",
              "      <td>0.0</td>\n",
              "      <td>0.0</td>\n",
              "      <td>0.0</td>\n",
              "      <td>1.0</td>\n",
              "      <td>2.0</td>\n",
              "      <td>0</td>\n",
              "      <td>0.0</td>\n",
              "      <td>at (145.25, 21.5078125)</td>\n",
              "    </tr>\n",
              "  </tbody>\n",
              "</table>\n",
              "</div>"
            ],
            "text/plain": [
              "       game_id  winner  ...  session         event_contents_y\n",
              "4765       2.0     0.0  ...      0.0  at (151.25, 20.5078125)\n",
              "6613       3.0     0.0  ...      0.0  at (24.75, 137.0078125)\n",
              "8043       3.0     0.0  ...      0.0  at (127.25, 27.5078125)\n",
              "10238      4.0     0.0  ...      0.0  at (163.25, 18.5078125)\n",
              "11378      5.0     0.0  ...      0.0  at (145.25, 21.5078125)\n",
              "\n",
              "[5 rows x 9 columns]"
            ]
          },
          "metadata": {
            "tags": []
          },
          "execution_count": 16
        }
      ]
    },
    {
      "cell_type": "code",
      "metadata": {
        "id": "bmYUxB0dNpOY",
        "colab_type": "code",
        "colab": {}
      },
      "source": [
        "attack_0=attack_0.groupby(['game_id','player'])['event_contents_x'].count().reset_index()\n",
        "\n",
        "player_0=attack_0[attack_0['player']==0]\n",
        "player_1=attack_0[attack_0['player']==1]"
      ],
      "execution_count": 0,
      "outputs": []
    },
    {
      "cell_type": "code",
      "metadata": {
        "id": "QKyTovh_L9vd",
        "colab_type": "code",
        "outputId": "a9bbe2b0-5aca-4ed3-c222-e6cdf23b85cb",
        "colab": {
          "base_uri": "https://localhost:8080/",
          "height": 195
        }
      },
      "source": [
        "#player_0\n",
        "final_merge=final_merge.merge(player_0[['game_id','event_contents_x']],on='game_id',how='left').merge(player_1[['game_id','event_contents_x']],on='game_id',how='left')\n",
        "final_merge.head()"
      ],
      "execution_count": 18,
      "outputs": [
        {
          "output_type": "execute_result",
          "data": {
            "text/html": [
              "<div>\n",
              "<style scoped>\n",
              "    .dataframe tbody tr th:only-of-type {\n",
              "        vertical-align: middle;\n",
              "    }\n",
              "\n",
              "    .dataframe tbody tr th {\n",
              "        vertical-align: top;\n",
              "    }\n",
              "\n",
              "    .dataframe thead th {\n",
              "        text-align: right;\n",
              "    }\n",
              "</style>\n",
              "<table border=\"1\" class=\"dataframe\">\n",
              "  <thead>\n",
              "    <tr style=\"text-align: right;\">\n",
              "      <th></th>\n",
              "      <th>game_id</th>\n",
              "      <th>event_contents_x_x</th>\n",
              "      <th>event_contents_x_y</th>\n",
              "    </tr>\n",
              "  </thead>\n",
              "  <tbody>\n",
              "    <tr>\n",
              "      <th>0</th>\n",
              "      <td>0.0</td>\n",
              "      <td>NaN</td>\n",
              "      <td>NaN</td>\n",
              "    </tr>\n",
              "    <tr>\n",
              "      <th>1</th>\n",
              "      <td>1.0</td>\n",
              "      <td>NaN</td>\n",
              "      <td>NaN</td>\n",
              "    </tr>\n",
              "    <tr>\n",
              "      <th>2</th>\n",
              "      <td>2.0</td>\n",
              "      <td>NaN</td>\n",
              "      <td>1.0</td>\n",
              "    </tr>\n",
              "    <tr>\n",
              "      <th>3</th>\n",
              "      <td>3.0</td>\n",
              "      <td>1.0</td>\n",
              "      <td>1.0</td>\n",
              "    </tr>\n",
              "    <tr>\n",
              "      <th>4</th>\n",
              "      <td>4.0</td>\n",
              "      <td>1.0</td>\n",
              "      <td>NaN</td>\n",
              "    </tr>\n",
              "  </tbody>\n",
              "</table>\n",
              "</div>"
            ],
            "text/plain": [
              "   game_id  event_contents_x_x  event_contents_x_y\n",
              "0      0.0                 NaN                 NaN\n",
              "1      1.0                 NaN                 NaN\n",
              "2      2.0                 NaN                 1.0\n",
              "3      3.0                 1.0                 1.0\n",
              "4      4.0                 1.0                 NaN"
            ]
          },
          "metadata": {
            "tags": []
          },
          "execution_count": 18
        }
      ]
    },
    {
      "cell_type": "code",
      "metadata": {
        "id": "j8UNA5fWTWT5",
        "colab_type": "code",
        "outputId": "21f34d1f-d39c-4c53-ae23-8e93428d6e57",
        "colab": {
          "base_uri": "https://localhost:8080/",
          "height": 195
        }
      },
      "source": [
        "final_merge.rename(columns={'event_contents_x_x':'0_자원공격',\n",
        "                    'event_contents_x_y':'1_자원공격'},inplace=True)\n",
        "final_merge.head()"
      ],
      "execution_count": 19,
      "outputs": [
        {
          "output_type": "execute_result",
          "data": {
            "text/html": [
              "<div>\n",
              "<style scoped>\n",
              "    .dataframe tbody tr th:only-of-type {\n",
              "        vertical-align: middle;\n",
              "    }\n",
              "\n",
              "    .dataframe tbody tr th {\n",
              "        vertical-align: top;\n",
              "    }\n",
              "\n",
              "    .dataframe thead th {\n",
              "        text-align: right;\n",
              "    }\n",
              "</style>\n",
              "<table border=\"1\" class=\"dataframe\">\n",
              "  <thead>\n",
              "    <tr style=\"text-align: right;\">\n",
              "      <th></th>\n",
              "      <th>game_id</th>\n",
              "      <th>0_자원공격</th>\n",
              "      <th>1_자원공격</th>\n",
              "    </tr>\n",
              "  </thead>\n",
              "  <tbody>\n",
              "    <tr>\n",
              "      <th>0</th>\n",
              "      <td>0.0</td>\n",
              "      <td>NaN</td>\n",
              "      <td>NaN</td>\n",
              "    </tr>\n",
              "    <tr>\n",
              "      <th>1</th>\n",
              "      <td>1.0</td>\n",
              "      <td>NaN</td>\n",
              "      <td>NaN</td>\n",
              "    </tr>\n",
              "    <tr>\n",
              "      <th>2</th>\n",
              "      <td>2.0</td>\n",
              "      <td>NaN</td>\n",
              "      <td>1.0</td>\n",
              "    </tr>\n",
              "    <tr>\n",
              "      <th>3</th>\n",
              "      <td>3.0</td>\n",
              "      <td>1.0</td>\n",
              "      <td>1.0</td>\n",
              "    </tr>\n",
              "    <tr>\n",
              "      <th>4</th>\n",
              "      <td>4.0</td>\n",
              "      <td>1.0</td>\n",
              "      <td>NaN</td>\n",
              "    </tr>\n",
              "  </tbody>\n",
              "</table>\n",
              "</div>"
            ],
            "text/plain": [
              "   game_id  0_자원공격  1_자원공격\n",
              "0      0.0     NaN     NaN\n",
              "1      1.0     NaN     NaN\n",
              "2      2.0     NaN     1.0\n",
              "3      3.0     1.0     1.0\n",
              "4      4.0     1.0     NaN"
            ]
          },
          "metadata": {
            "tags": []
          },
          "execution_count": 19
        }
      ]
    },
    {
      "cell_type": "markdown",
      "metadata": {
        "id": "dzUf-x3n4mUt",
        "colab_type": "text"
      },
      "source": [
        "---"
      ]
    },
    {
      "cell_type": "markdown",
      "metadata": {
        "id": "LZymDCb-V5nw",
        "colab_type": "text"
      },
      "source": [
        "## Session :1\n",
        "- attack 일꾼"
      ]
    },
    {
      "cell_type": "code",
      "metadata": {
        "id": "N5xANDHKWx7I",
        "colab_type": "code",
        "outputId": "5d41f8d4-ae41-4e1e-a420-4e9d36366180",
        "colab": {
          "base_uri": "https://localhost:8080/",
          "height": 195
        }
      },
      "source": [
        "attack_1 = train[(train['event']==2)|\n",
        "                (train['event']==3)]\n",
        "attack_1.head()"
      ],
      "execution_count": 20,
      "outputs": [
        {
          "output_type": "execute_result",
          "data": {
            "text/html": [
              "<div>\n",
              "<style scoped>\n",
              "    .dataframe tbody tr th:only-of-type {\n",
              "        vertical-align: middle;\n",
              "    }\n",
              "\n",
              "    .dataframe tbody tr th {\n",
              "        vertical-align: top;\n",
              "    }\n",
              "\n",
              "    .dataframe thead th {\n",
              "        text-align: right;\n",
              "    }\n",
              "</style>\n",
              "<table border=\"1\" class=\"dataframe\">\n",
              "  <thead>\n",
              "    <tr style=\"text-align: right;\">\n",
              "      <th></th>\n",
              "      <th>game_id</th>\n",
              "      <th>winner</th>\n",
              "      <th>time</th>\n",
              "      <th>player</th>\n",
              "      <th>species</th>\n",
              "      <th>event</th>\n",
              "      <th>event_contents_x</th>\n",
              "      <th>session</th>\n",
              "      <th>event_contents_y</th>\n",
              "    </tr>\n",
              "  </thead>\n",
              "  <tbody>\n",
              "    <tr>\n",
              "      <th>2</th>\n",
              "      <td>0.0</td>\n",
              "      <td>1.0</td>\n",
              "      <td>0.0</td>\n",
              "      <td>0.0</td>\n",
              "      <td>0.0</td>\n",
              "      <td>2.0</td>\n",
              "      <td>(1360) - TrainSCV</td>\n",
              "      <td>0.0</td>\n",
              "      <td>at (22.75, 147.0078125)</td>\n",
              "    </tr>\n",
              "    <tr>\n",
              "      <th>16</th>\n",
              "      <td>0.0</td>\n",
              "      <td>1.0</td>\n",
              "      <td>0.0</td>\n",
              "      <td>0.0</td>\n",
              "      <td>0.0</td>\n",
              "      <td>3.0</td>\n",
              "      <td>Location: (136.3759765625, 41.11962890625, 49016)</td>\n",
              "      <td>0.0</td>\n",
              "      <td>at (22.75, 147.0078125)</td>\n",
              "    </tr>\n",
              "    <tr>\n",
              "      <th>17</th>\n",
              "      <td>0.0</td>\n",
              "      <td>1.0</td>\n",
              "      <td>0.0</td>\n",
              "      <td>0.0</td>\n",
              "      <td>0.0</td>\n",
              "      <td>3.0</td>\n",
              "      <td>Location: (136.033935546875, 41.735107421875, ...</td>\n",
              "      <td>0.0</td>\n",
              "      <td>at (22.75, 147.0078125)</td>\n",
              "    </tr>\n",
              "    <tr>\n",
              "      <th>18</th>\n",
              "      <td>0.0</td>\n",
              "      <td>1.0</td>\n",
              "      <td>0.0</td>\n",
              "      <td>0.0</td>\n",
              "      <td>0.0</td>\n",
              "      <td>2.0</td>\n",
              "      <td>(1021) - BuildSupplyDepot; Location: (135.0, 4...</td>\n",
              "      <td>0.0</td>\n",
              "      <td>at (22.75, 147.0078125)</td>\n",
              "    </tr>\n",
              "    <tr>\n",
              "      <th>26</th>\n",
              "      <td>0.0</td>\n",
              "      <td>1.0</td>\n",
              "      <td>0.0</td>\n",
              "      <td>0.0</td>\n",
              "      <td>0.0</td>\n",
              "      <td>2.0</td>\n",
              "      <td>(480) - Stop</td>\n",
              "      <td>0.0</td>\n",
              "      <td>at (22.75, 147.0078125)</td>\n",
              "    </tr>\n",
              "  </tbody>\n",
              "</table>\n",
              "</div>"
            ],
            "text/plain": [
              "    game_id  winner  ...  session         event_contents_y\n",
              "2       0.0     1.0  ...      0.0  at (22.75, 147.0078125)\n",
              "16      0.0     1.0  ...      0.0  at (22.75, 147.0078125)\n",
              "17      0.0     1.0  ...      0.0  at (22.75, 147.0078125)\n",
              "18      0.0     1.0  ...      0.0  at (22.75, 147.0078125)\n",
              "26      0.0     1.0  ...      0.0  at (22.75, 147.0078125)\n",
              "\n",
              "[5 rows x 9 columns]"
            ]
          },
          "metadata": {
            "tags": []
          },
          "execution_count": 20
        }
      ]
    },
    {
      "cell_type": "code",
      "metadata": {
        "id": "WGA8HPih_Nv_",
        "colab_type": "code",
        "outputId": "e4a45799-f91f-453d-e878-334c6f5eb912",
        "colab": {
          "base_uri": "https://localhost:8080/",
          "height": 406
        }
      },
      "source": [
        "# 내 일꾼 파생변수 제작\n",
        "attack_1.loc[attack_1['species'] ==0,'My_Unit'] = 'SCV'\n",
        "attack_1.loc[attack_1['species'] ==1,'My_Unit'] = 'Probe'\n",
        "attack_1.loc[attack_1['species'] ==2,'My_Unit'] = 'Drone'\n",
        "\n",
        "attack_1.head()"
      ],
      "execution_count": 21,
      "outputs": [
        {
          "output_type": "stream",
          "text": [
            "/usr/local/lib/python3.6/dist-packages/pandas/core/indexing.py:376: SettingWithCopyWarning: \n",
            "A value is trying to be set on a copy of a slice from a DataFrame.\n",
            "Try using .loc[row_indexer,col_indexer] = value instead\n",
            "\n",
            "See the caveats in the documentation: http://pandas.pydata.org/pandas-docs/stable/user_guide/indexing.html#returning-a-view-versus-a-copy\n",
            "  self.obj[key] = _infer_fill_value(value)\n",
            "/usr/local/lib/python3.6/dist-packages/pandas/core/indexing.py:494: SettingWithCopyWarning: \n",
            "A value is trying to be set on a copy of a slice from a DataFrame.\n",
            "Try using .loc[row_indexer,col_indexer] = value instead\n",
            "\n",
            "See the caveats in the documentation: http://pandas.pydata.org/pandas-docs/stable/user_guide/indexing.html#returning-a-view-versus-a-copy\n",
            "  self.obj[item] = s\n"
          ],
          "name": "stderr"
        },
        {
          "output_type": "execute_result",
          "data": {
            "text/html": [
              "<div>\n",
              "<style scoped>\n",
              "    .dataframe tbody tr th:only-of-type {\n",
              "        vertical-align: middle;\n",
              "    }\n",
              "\n",
              "    .dataframe tbody tr th {\n",
              "        vertical-align: top;\n",
              "    }\n",
              "\n",
              "    .dataframe thead th {\n",
              "        text-align: right;\n",
              "    }\n",
              "</style>\n",
              "<table border=\"1\" class=\"dataframe\">\n",
              "  <thead>\n",
              "    <tr style=\"text-align: right;\">\n",
              "      <th></th>\n",
              "      <th>game_id</th>\n",
              "      <th>winner</th>\n",
              "      <th>time</th>\n",
              "      <th>player</th>\n",
              "      <th>species</th>\n",
              "      <th>event</th>\n",
              "      <th>event_contents_x</th>\n",
              "      <th>session</th>\n",
              "      <th>event_contents_y</th>\n",
              "      <th>My_Unit</th>\n",
              "    </tr>\n",
              "  </thead>\n",
              "  <tbody>\n",
              "    <tr>\n",
              "      <th>2</th>\n",
              "      <td>0.0</td>\n",
              "      <td>1.0</td>\n",
              "      <td>0.0</td>\n",
              "      <td>0.0</td>\n",
              "      <td>0.0</td>\n",
              "      <td>2.0</td>\n",
              "      <td>(1360) - TrainSCV</td>\n",
              "      <td>0.0</td>\n",
              "      <td>at (22.75, 147.0078125)</td>\n",
              "      <td>SCV</td>\n",
              "    </tr>\n",
              "    <tr>\n",
              "      <th>16</th>\n",
              "      <td>0.0</td>\n",
              "      <td>1.0</td>\n",
              "      <td>0.0</td>\n",
              "      <td>0.0</td>\n",
              "      <td>0.0</td>\n",
              "      <td>3.0</td>\n",
              "      <td>Location: (136.3759765625, 41.11962890625, 49016)</td>\n",
              "      <td>0.0</td>\n",
              "      <td>at (22.75, 147.0078125)</td>\n",
              "      <td>SCV</td>\n",
              "    </tr>\n",
              "    <tr>\n",
              "      <th>17</th>\n",
              "      <td>0.0</td>\n",
              "      <td>1.0</td>\n",
              "      <td>0.0</td>\n",
              "      <td>0.0</td>\n",
              "      <td>0.0</td>\n",
              "      <td>3.0</td>\n",
              "      <td>Location: (136.033935546875, 41.735107421875, ...</td>\n",
              "      <td>0.0</td>\n",
              "      <td>at (22.75, 147.0078125)</td>\n",
              "      <td>SCV</td>\n",
              "    </tr>\n",
              "    <tr>\n",
              "      <th>18</th>\n",
              "      <td>0.0</td>\n",
              "      <td>1.0</td>\n",
              "      <td>0.0</td>\n",
              "      <td>0.0</td>\n",
              "      <td>0.0</td>\n",
              "      <td>2.0</td>\n",
              "      <td>(1021) - BuildSupplyDepot; Location: (135.0, 4...</td>\n",
              "      <td>0.0</td>\n",
              "      <td>at (22.75, 147.0078125)</td>\n",
              "      <td>SCV</td>\n",
              "    </tr>\n",
              "    <tr>\n",
              "      <th>26</th>\n",
              "      <td>0.0</td>\n",
              "      <td>1.0</td>\n",
              "      <td>0.0</td>\n",
              "      <td>0.0</td>\n",
              "      <td>0.0</td>\n",
              "      <td>2.0</td>\n",
              "      <td>(480) - Stop</td>\n",
              "      <td>0.0</td>\n",
              "      <td>at (22.75, 147.0078125)</td>\n",
              "      <td>SCV</td>\n",
              "    </tr>\n",
              "  </tbody>\n",
              "</table>\n",
              "</div>"
            ],
            "text/plain": [
              "    game_id  winner  time  ...  session         event_contents_y  My_Unit\n",
              "2       0.0     1.0   0.0  ...      0.0  at (22.75, 147.0078125)      SCV\n",
              "16      0.0     1.0   0.0  ...      0.0  at (22.75, 147.0078125)      SCV\n",
              "17      0.0     1.0   0.0  ...      0.0  at (22.75, 147.0078125)      SCV\n",
              "18      0.0     1.0   0.0  ...      0.0  at (22.75, 147.0078125)      SCV\n",
              "26      0.0     1.0   0.0  ...      0.0  at (22.75, 147.0078125)      SCV\n",
              "\n",
              "[5 rows x 10 columns]"
            ]
          },
          "metadata": {
            "tags": []
          },
          "execution_count": 21
        }
      ]
    },
    {
      "cell_type": "markdown",
      "metadata": {
        "id": "sBsZsDH8u0ft",
        "colab_type": "text"
      },
      "source": [
        "---"
      ]
    },
    {
      "cell_type": "markdown",
      "metadata": {
        "id": "qloVQypVuuTn",
        "colab_type": "text"
      },
      "source": [
        "### event 2"
      ]
    },
    {
      "cell_type": "code",
      "metadata": {
        "id": "y8oCB5F-FCiG",
        "colab_type": "code",
        "colab": {
          "base_uri": "https://localhost:8080/",
          "height": 195
        },
        "outputId": "39ad71c1-aaba-4efa-c6c8-85925f717010"
      },
      "source": [
        "# event_2 만 출력\n",
        "event_2 = attack_1[attack_1['event']==2]\n",
        "event_2 = event_2[(event_2['event_contents_x'].str.contains('Target: SCV'))|\n",
        "                  (event_2['event_contents_x'].str.contains('Target: Probe'))|\n",
        "                  (event_2['event_contents_x'].str.contains('Target: Drone'))]\n",
        "event_2.head()"
      ],
      "execution_count": 22,
      "outputs": [
        {
          "output_type": "execute_result",
          "data": {
            "text/html": [
              "<div>\n",
              "<style scoped>\n",
              "    .dataframe tbody tr th:only-of-type {\n",
              "        vertical-align: middle;\n",
              "    }\n",
              "\n",
              "    .dataframe tbody tr th {\n",
              "        vertical-align: top;\n",
              "    }\n",
              "\n",
              "    .dataframe thead th {\n",
              "        text-align: right;\n",
              "    }\n",
              "</style>\n",
              "<table border=\"1\" class=\"dataframe\">\n",
              "  <thead>\n",
              "    <tr style=\"text-align: right;\">\n",
              "      <th></th>\n",
              "      <th>game_id</th>\n",
              "      <th>winner</th>\n",
              "      <th>time</th>\n",
              "      <th>player</th>\n",
              "      <th>species</th>\n",
              "      <th>event</th>\n",
              "      <th>event_contents_x</th>\n",
              "      <th>session</th>\n",
              "      <th>event_contents_y</th>\n",
              "      <th>My_Unit</th>\n",
              "    </tr>\n",
              "  </thead>\n",
              "  <tbody>\n",
              "    <tr>\n",
              "      <th>15605</th>\n",
              "      <td>7.0</td>\n",
              "      <td>0.0</td>\n",
              "      <td>5.0</td>\n",
              "      <td>1.0</td>\n",
              "      <td>1.0</td>\n",
              "      <td>2.0</td>\n",
              "      <td>(5A0) - Attack; Target: Drone [03900002]; Loca...</td>\n",
              "      <td>0.0</td>\n",
              "      <td>at (24.75, 128.0078125)</td>\n",
              "      <td>Probe</td>\n",
              "    </tr>\n",
              "    <tr>\n",
              "      <th>15608</th>\n",
              "      <td>7.0</td>\n",
              "      <td>0.0</td>\n",
              "      <td>5.0</td>\n",
              "      <td>1.0</td>\n",
              "      <td>1.0</td>\n",
              "      <td>2.0</td>\n",
              "      <td>(5A0) - Attack; Target: Drone [03900002]; Loca...</td>\n",
              "      <td>0.0</td>\n",
              "      <td>at (24.75, 128.0078125)</td>\n",
              "      <td>Probe</td>\n",
              "    </tr>\n",
              "    <tr>\n",
              "      <th>15610</th>\n",
              "      <td>7.0</td>\n",
              "      <td>0.0</td>\n",
              "      <td>5.0</td>\n",
              "      <td>1.0</td>\n",
              "      <td>1.0</td>\n",
              "      <td>2.0</td>\n",
              "      <td>(5A0) - Attack; Target: Drone [03F40001]; Loca...</td>\n",
              "      <td>0.0</td>\n",
              "      <td>at (24.75, 128.0078125)</td>\n",
              "      <td>Probe</td>\n",
              "    </tr>\n",
              "    <tr>\n",
              "      <th>15651</th>\n",
              "      <td>7.0</td>\n",
              "      <td>0.0</td>\n",
              "      <td>5.0</td>\n",
              "      <td>1.0</td>\n",
              "      <td>1.0</td>\n",
              "      <td>2.0</td>\n",
              "      <td>(5A0) - Attack; Target: Drone [03C80001]; Loca...</td>\n",
              "      <td>0.0</td>\n",
              "      <td>at (24.75, 128.0078125)</td>\n",
              "      <td>Probe</td>\n",
              "    </tr>\n",
              "    <tr>\n",
              "      <th>19525</th>\n",
              "      <td>10.0</td>\n",
              "      <td>0.0</td>\n",
              "      <td>2.0</td>\n",
              "      <td>0.0</td>\n",
              "      <td>1.0</td>\n",
              "      <td>2.0</td>\n",
              "      <td>(5A0) - Attack; Target: SCV [03580001]; Locati...</td>\n",
              "      <td>0.0</td>\n",
              "      <td>at (31.75, 22.5078125)</td>\n",
              "      <td>Probe</td>\n",
              "    </tr>\n",
              "  </tbody>\n",
              "</table>\n",
              "</div>"
            ],
            "text/plain": [
              "       game_id  winner  time  ...  session         event_contents_y  My_Unit\n",
              "15605      7.0     0.0   5.0  ...      0.0  at (24.75, 128.0078125)    Probe\n",
              "15608      7.0     0.0   5.0  ...      0.0  at (24.75, 128.0078125)    Probe\n",
              "15610      7.0     0.0   5.0  ...      0.0  at (24.75, 128.0078125)    Probe\n",
              "15651      7.0     0.0   5.0  ...      0.0  at (24.75, 128.0078125)    Probe\n",
              "19525     10.0     0.0   2.0  ...      0.0   at (31.75, 22.5078125)    Probe\n",
              "\n",
              "[5 rows x 10 columns]"
            ]
          },
          "metadata": {
            "tags": []
          },
          "execution_count": 22
        }
      ]
    },
    {
      "cell_type": "markdown",
      "metadata": {
        "id": "iNbYr6rajBD5",
        "colab_type": "text"
      },
      "source": [
        "#### player 0"
      ]
    },
    {
      "cell_type": "code",
      "metadata": {
        "id": "i739AqLcq5kD",
        "colab_type": "code",
        "colab": {}
      },
      "source": [
        "player_0 = event_2[event_2['player']==0]\n",
        "player_0=player_0.groupby('game_id')['My_Unit'].value_counts().reset_index(name='event2_0')"
      ],
      "execution_count": 0,
      "outputs": []
    },
    {
      "cell_type": "markdown",
      "metadata": {
        "id": "Zf0dt68zq4Kp",
        "colab_type": "text"
      },
      "source": [
        "#### player 1"
      ]
    },
    {
      "cell_type": "code",
      "metadata": {
        "id": "ywr5Usryr2Pn",
        "colab_type": "code",
        "colab": {}
      },
      "source": [
        "player_1 = event_2[event_2['player']==1]\n",
        "player_1=player_1.groupby('game_id')['My_Unit'].value_counts().reset_index(name='event2_1')"
      ],
      "execution_count": 0,
      "outputs": []
    },
    {
      "cell_type": "markdown",
      "metadata": {
        "id": "aKhHUNEWr8NQ",
        "colab_type": "text"
      },
      "source": [
        "#### merge"
      ]
    },
    {
      "cell_type": "code",
      "metadata": {
        "id": "fIkXRQamr-V-",
        "colab_type": "code",
        "colab": {
          "base_uri": "https://localhost:8080/",
          "height": 195
        },
        "outputId": "02302f36-3d0e-4ff8-cd63-6f6902d18682"
      },
      "source": [
        "final_merge=final_merge.merge(player_0[['game_id','event2_0']],on='game_id',how='left')\\\n",
        ".merge(player_1[['game_id','event2_1']],on='game_id',how='left')\n",
        "final_merge[['event2_0','event2_1']]=final_merge[['event2_0','event2_1']].fillna(0)\n",
        "final_merge.head()"
      ],
      "execution_count": 25,
      "outputs": [
        {
          "output_type": "execute_result",
          "data": {
            "text/html": [
              "<div>\n",
              "<style scoped>\n",
              "    .dataframe tbody tr th:only-of-type {\n",
              "        vertical-align: middle;\n",
              "    }\n",
              "\n",
              "    .dataframe tbody tr th {\n",
              "        vertical-align: top;\n",
              "    }\n",
              "\n",
              "    .dataframe thead th {\n",
              "        text-align: right;\n",
              "    }\n",
              "</style>\n",
              "<table border=\"1\" class=\"dataframe\">\n",
              "  <thead>\n",
              "    <tr style=\"text-align: right;\">\n",
              "      <th></th>\n",
              "      <th>game_id</th>\n",
              "      <th>0_자원공격</th>\n",
              "      <th>1_자원공격</th>\n",
              "      <th>event2_0</th>\n",
              "      <th>event2_1</th>\n",
              "    </tr>\n",
              "  </thead>\n",
              "  <tbody>\n",
              "    <tr>\n",
              "      <th>0</th>\n",
              "      <td>0.0</td>\n",
              "      <td>NaN</td>\n",
              "      <td>NaN</td>\n",
              "      <td>0.0</td>\n",
              "      <td>0.0</td>\n",
              "    </tr>\n",
              "    <tr>\n",
              "      <th>1</th>\n",
              "      <td>1.0</td>\n",
              "      <td>NaN</td>\n",
              "      <td>NaN</td>\n",
              "      <td>0.0</td>\n",
              "      <td>0.0</td>\n",
              "    </tr>\n",
              "    <tr>\n",
              "      <th>2</th>\n",
              "      <td>2.0</td>\n",
              "      <td>NaN</td>\n",
              "      <td>1.0</td>\n",
              "      <td>0.0</td>\n",
              "      <td>0.0</td>\n",
              "    </tr>\n",
              "    <tr>\n",
              "      <th>3</th>\n",
              "      <td>3.0</td>\n",
              "      <td>1.0</td>\n",
              "      <td>1.0</td>\n",
              "      <td>0.0</td>\n",
              "      <td>0.0</td>\n",
              "    </tr>\n",
              "    <tr>\n",
              "      <th>4</th>\n",
              "      <td>4.0</td>\n",
              "      <td>1.0</td>\n",
              "      <td>NaN</td>\n",
              "      <td>0.0</td>\n",
              "      <td>0.0</td>\n",
              "    </tr>\n",
              "  </tbody>\n",
              "</table>\n",
              "</div>"
            ],
            "text/plain": [
              "   game_id  0_자원공격  1_자원공격  event2_0  event2_1\n",
              "0      0.0     NaN     NaN       0.0       0.0\n",
              "1      1.0     NaN     NaN       0.0       0.0\n",
              "2      2.0     NaN     1.0       0.0       0.0\n",
              "3      3.0     1.0     1.0       0.0       0.0\n",
              "4      4.0     1.0     NaN       0.0       0.0"
            ]
          },
          "metadata": {
            "tags": []
          },
          "execution_count": 25
        }
      ]
    },
    {
      "cell_type": "markdown",
      "metadata": {
        "id": "joNofWS_uyz5",
        "colab_type": "text"
      },
      "source": [
        "---"
      ]
    },
    {
      "cell_type": "markdown",
      "metadata": {
        "id": "9Gfvd1imuw7A",
        "colab_type": "text"
      },
      "source": [
        "### event 3"
      ]
    },
    {
      "cell_type": "code",
      "metadata": {
        "id": "cO2dMBpiBovD",
        "colab_type": "code",
        "outputId": "6c61e258-1b77-4309-fa1a-e8184a3e1fc2",
        "colab": {
          "base_uri": "https://localhost:8080/",
          "height": 195
        }
      },
      "source": [
        "#event_3\n",
        "# event_3= attack_1[(attack_1['event']==3)&\n",
        "#                   (attack_1['event_contents_x'].str.contains('Target: SCV'))|\n",
        "#                   (attack_1['event_contents_x'].str.contains('Target: Probe'))|\n",
        "#                   (attack_1['event_contents_x'].str.contains('Target: Drone'))]\n",
        "\n",
        "event_3= attack_1[attack_1['event']==3]\n",
        "event_3 = event_3[(event_3['event_contents_x'].str.contains('Target: SCV'))|\n",
        "                  (event_3['event_contents_x'].str.contains('Target: Probe'))|\n",
        "                  (event_3['event_contents_x'].str.contains('Target: Drone'))]\n",
        "\n",
        "\n",
        "\n",
        "event_3['target_name']=event_3['event_contents_x'].apply(lambda x: x.split(';')[0])\n",
        "event_3['target_location']=event_3['event_contents_x'].apply(lambda x: x.split(';')[1])\n",
        "event_3.drop('event_contents_x',axis=1,inplace=True)\n",
        "\n",
        "event_3['event_contents_y']=event_3['event_contents_y'].apply(lambda x: x[5:-1].split(','))\n",
        "event_3.rename(columns={'event_contents_y':'enemy_camp'},inplace=True)\n",
        "event_3['target_name']=event_3['target_name'].apply(lambda x: x.split('[')[0].split(':')[-1])\n",
        "event_3['target_location']=event_3['target_location'].apply(lambda x: x.split('(')[-1].strip(')').split(','))\n",
        "\n",
        "event_3['My_Unit'] = event_3['My_Unit'].apply(lambda x: x.strip())\n",
        "event_3['target_name'] = event_3['target_name'].apply(lambda x: x.strip())\n",
        "\n",
        "event_3.head()\n",
        "\n",
        "# '''\n",
        "# 서로 종족이 다를 때\n",
        "# 어떻게 처리해줘야할지\n",
        "# 고민점\n",
        "# '''"
      ],
      "execution_count": 26,
      "outputs": [
        {
          "output_type": "execute_result",
          "data": {
            "text/html": [
              "<div>\n",
              "<style scoped>\n",
              "    .dataframe tbody tr th:only-of-type {\n",
              "        vertical-align: middle;\n",
              "    }\n",
              "\n",
              "    .dataframe tbody tr th {\n",
              "        vertical-align: top;\n",
              "    }\n",
              "\n",
              "    .dataframe thead th {\n",
              "        text-align: right;\n",
              "    }\n",
              "</style>\n",
              "<table border=\"1\" class=\"dataframe\">\n",
              "  <thead>\n",
              "    <tr style=\"text-align: right;\">\n",
              "      <th></th>\n",
              "      <th>game_id</th>\n",
              "      <th>winner</th>\n",
              "      <th>time</th>\n",
              "      <th>player</th>\n",
              "      <th>species</th>\n",
              "      <th>event</th>\n",
              "      <th>session</th>\n",
              "      <th>enemy_camp</th>\n",
              "      <th>My_Unit</th>\n",
              "      <th>target_name</th>\n",
              "      <th>target_location</th>\n",
              "    </tr>\n",
              "  </thead>\n",
              "  <tbody>\n",
              "    <tr>\n",
              "      <th>1443</th>\n",
              "      <td>1.0</td>\n",
              "      <td>1.0</td>\n",
              "      <td>3.0</td>\n",
              "      <td>1.0</td>\n",
              "      <td>0.0</td>\n",
              "      <td>3.0</td>\n",
              "      <td>0.0</td>\n",
              "      <td>[40.0,  162.0078125]</td>\n",
              "      <td>SCV</td>\n",
              "      <td>Probe</td>\n",
              "      <td>[93.540283203125,  130.365966796875,  40922]</td>\n",
              "    </tr>\n",
              "    <tr>\n",
              "      <th>1444</th>\n",
              "      <td>1.0</td>\n",
              "      <td>1.0</td>\n",
              "      <td>3.0</td>\n",
              "      <td>1.0</td>\n",
              "      <td>0.0</td>\n",
              "      <td>3.0</td>\n",
              "      <td>0.0</td>\n",
              "      <td>[40.0,  162.0078125]</td>\n",
              "      <td>SCV</td>\n",
              "      <td>Probe</td>\n",
              "      <td>[90.468017578125,  125.042236328125,  34283]</td>\n",
              "    </tr>\n",
              "    <tr>\n",
              "      <th>3316</th>\n",
              "      <td>1.0</td>\n",
              "      <td>1.0</td>\n",
              "      <td>8.0</td>\n",
              "      <td>0.0</td>\n",
              "      <td>1.0</td>\n",
              "      <td>3.0</td>\n",
              "      <td>0.0</td>\n",
              "      <td>[8.0,  18.5078125]</td>\n",
              "      <td>Probe</td>\n",
              "      <td>SCV</td>\n",
              "      <td>[26.8935546875,  54.8740234375,  40912]</td>\n",
              "    </tr>\n",
              "    <tr>\n",
              "      <th>3329</th>\n",
              "      <td>1.0</td>\n",
              "      <td>1.0</td>\n",
              "      <td>8.0</td>\n",
              "      <td>0.0</td>\n",
              "      <td>1.0</td>\n",
              "      <td>3.0</td>\n",
              "      <td>0.0</td>\n",
              "      <td>[8.0,  18.5078125]</td>\n",
              "      <td>Probe</td>\n",
              "      <td>Probe</td>\n",
              "      <td>[136.577880859375,  129.01611328125,  40912]</td>\n",
              "    </tr>\n",
              "    <tr>\n",
              "      <th>5739</th>\n",
              "      <td>2.0</td>\n",
              "      <td>0.0</td>\n",
              "      <td>9.0</td>\n",
              "      <td>0.0</td>\n",
              "      <td>1.0</td>\n",
              "      <td>3.0</td>\n",
              "      <td>1.0</td>\n",
              "      <td>[4.75,  128.0078125]</td>\n",
              "      <td>Probe</td>\n",
              "      <td>Probe</td>\n",
              "      <td>[154.62109375,  75.6259765625,  40928]</td>\n",
              "    </tr>\n",
              "  </tbody>\n",
              "</table>\n",
              "</div>"
            ],
            "text/plain": [
              "      game_id  winner  ...  target_name                               target_location\n",
              "1443      1.0     1.0  ...        Probe  [93.540283203125,  130.365966796875,  40922]\n",
              "1444      1.0     1.0  ...        Probe  [90.468017578125,  125.042236328125,  34283]\n",
              "3316      1.0     1.0  ...          SCV       [26.8935546875,  54.8740234375,  40912]\n",
              "3329      1.0     1.0  ...        Probe  [136.577880859375,  129.01611328125,  40912]\n",
              "5739      2.0     0.0  ...        Probe        [154.62109375,  75.6259765625,  40928]\n",
              "\n",
              "[5 rows x 11 columns]"
            ]
          },
          "metadata": {
            "tags": []
          },
          "execution_count": 26
        }
      ]
    },
    {
      "cell_type": "markdown",
      "metadata": {
        "id": "iYjsqNoLCmH3",
        "colab_type": "text"
      },
      "source": [
        "#### player 0"
      ]
    },
    {
      "cell_type": "code",
      "metadata": {
        "id": "vwyUdLMpunA4",
        "colab_type": "code",
        "outputId": "f6cdee5f-870d-4e37-d405-21d30bb120a9",
        "colab": {
          "base_uri": "https://localhost:8080/",
          "height": 195
        }
      },
      "source": [
        "player_0 = event_3[event_3['player']==0]\n",
        "player_0.head()"
      ],
      "execution_count": 27,
      "outputs": [
        {
          "output_type": "execute_result",
          "data": {
            "text/html": [
              "<div>\n",
              "<style scoped>\n",
              "    .dataframe tbody tr th:only-of-type {\n",
              "        vertical-align: middle;\n",
              "    }\n",
              "\n",
              "    .dataframe tbody tr th {\n",
              "        vertical-align: top;\n",
              "    }\n",
              "\n",
              "    .dataframe thead th {\n",
              "        text-align: right;\n",
              "    }\n",
              "</style>\n",
              "<table border=\"1\" class=\"dataframe\">\n",
              "  <thead>\n",
              "    <tr style=\"text-align: right;\">\n",
              "      <th></th>\n",
              "      <th>game_id</th>\n",
              "      <th>winner</th>\n",
              "      <th>time</th>\n",
              "      <th>player</th>\n",
              "      <th>species</th>\n",
              "      <th>event</th>\n",
              "      <th>session</th>\n",
              "      <th>enemy_camp</th>\n",
              "      <th>My_Unit</th>\n",
              "      <th>target_name</th>\n",
              "      <th>target_location</th>\n",
              "    </tr>\n",
              "  </thead>\n",
              "  <tbody>\n",
              "    <tr>\n",
              "      <th>3316</th>\n",
              "      <td>1.0</td>\n",
              "      <td>1.0</td>\n",
              "      <td>8.0</td>\n",
              "      <td>0.0</td>\n",
              "      <td>1.0</td>\n",
              "      <td>3.0</td>\n",
              "      <td>0.0</td>\n",
              "      <td>[8.0,  18.5078125]</td>\n",
              "      <td>Probe</td>\n",
              "      <td>SCV</td>\n",
              "      <td>[26.8935546875,  54.8740234375,  40912]</td>\n",
              "    </tr>\n",
              "    <tr>\n",
              "      <th>3329</th>\n",
              "      <td>1.0</td>\n",
              "      <td>1.0</td>\n",
              "      <td>8.0</td>\n",
              "      <td>0.0</td>\n",
              "      <td>1.0</td>\n",
              "      <td>3.0</td>\n",
              "      <td>0.0</td>\n",
              "      <td>[8.0,  18.5078125]</td>\n",
              "      <td>Probe</td>\n",
              "      <td>Probe</td>\n",
              "      <td>[136.577880859375,  129.01611328125,  40912]</td>\n",
              "    </tr>\n",
              "    <tr>\n",
              "      <th>5739</th>\n",
              "      <td>2.0</td>\n",
              "      <td>0.0</td>\n",
              "      <td>9.0</td>\n",
              "      <td>0.0</td>\n",
              "      <td>1.0</td>\n",
              "      <td>3.0</td>\n",
              "      <td>1.0</td>\n",
              "      <td>[4.75,  128.0078125]</td>\n",
              "      <td>Probe</td>\n",
              "      <td>Probe</td>\n",
              "      <td>[154.62109375,  75.6259765625,  40928]</td>\n",
              "    </tr>\n",
              "    <tr>\n",
              "      <th>5742</th>\n",
              "      <td>2.0</td>\n",
              "      <td>0.0</td>\n",
              "      <td>9.0</td>\n",
              "      <td>0.0</td>\n",
              "      <td>1.0</td>\n",
              "      <td>3.0</td>\n",
              "      <td>1.0</td>\n",
              "      <td>[4.75,  128.0078125]</td>\n",
              "      <td>Probe</td>\n",
              "      <td>Probe</td>\n",
              "      <td>[155.310546875,  77.2666015625,  40928]</td>\n",
              "    </tr>\n",
              "    <tr>\n",
              "      <th>5849</th>\n",
              "      <td>3.0</td>\n",
              "      <td>0.0</td>\n",
              "      <td>0.0</td>\n",
              "      <td>0.0</td>\n",
              "      <td>0.0</td>\n",
              "      <td>3.0</td>\n",
              "      <td>0.0</td>\n",
              "      <td>[4.75,  137.0078125]</td>\n",
              "      <td>SCV</td>\n",
              "      <td>SCV</td>\n",
              "      <td>[126.783935546875,  25.368896484375,  49136]</td>\n",
              "    </tr>\n",
              "  </tbody>\n",
              "</table>\n",
              "</div>"
            ],
            "text/plain": [
              "      game_id  winner  ...  target_name                               target_location\n",
              "3316      1.0     1.0  ...          SCV       [26.8935546875,  54.8740234375,  40912]\n",
              "3329      1.0     1.0  ...        Probe  [136.577880859375,  129.01611328125,  40912]\n",
              "5739      2.0     0.0  ...        Probe        [154.62109375,  75.6259765625,  40928]\n",
              "5742      2.0     0.0  ...        Probe       [155.310546875,  77.2666015625,  40928]\n",
              "5849      3.0     0.0  ...          SCV  [126.783935546875,  25.368896484375,  49136]\n",
              "\n",
              "[5 rows x 11 columns]"
            ]
          },
          "metadata": {
            "tags": []
          },
          "execution_count": 27
        }
      ]
    },
    {
      "cell_type": "code",
      "metadata": {
        "id": "bYQ51GK27Wie",
        "colab_type": "code",
        "outputId": "ebb7553a-0d61-44b2-fdf6-f5a1f7c22c9b",
        "colab": {
          "base_uri": "https://localhost:8080/",
          "height": 402
        }
      },
      "source": [
        "# 내 종족과 상대 종족이 다른 경우\n",
        "differ_unit= player_0[player_0['My_Unit'] != player_0['target_name']].groupby('game_id')['target_name'].value_counts().reset_index(name='count')\n",
        "differ_unit"
      ],
      "execution_count": 28,
      "outputs": [
        {
          "output_type": "execute_result",
          "data": {
            "text/html": [
              "<div>\n",
              "<style scoped>\n",
              "    .dataframe tbody tr th:only-of-type {\n",
              "        vertical-align: middle;\n",
              "    }\n",
              "\n",
              "    .dataframe tbody tr th {\n",
              "        vertical-align: top;\n",
              "    }\n",
              "\n",
              "    .dataframe thead th {\n",
              "        text-align: right;\n",
              "    }\n",
              "</style>\n",
              "<table border=\"1\" class=\"dataframe\">\n",
              "  <thead>\n",
              "    <tr style=\"text-align: right;\">\n",
              "      <th></th>\n",
              "      <th>game_id</th>\n",
              "      <th>target_name</th>\n",
              "      <th>count</th>\n",
              "    </tr>\n",
              "  </thead>\n",
              "  <tbody>\n",
              "    <tr>\n",
              "      <th>0</th>\n",
              "      <td>1.0</td>\n",
              "      <td>SCV</td>\n",
              "      <td>1</td>\n",
              "    </tr>\n",
              "    <tr>\n",
              "      <th>1</th>\n",
              "      <td>3.0</td>\n",
              "      <td>Probe</td>\n",
              "      <td>7</td>\n",
              "    </tr>\n",
              "    <tr>\n",
              "      <th>2</th>\n",
              "      <td>10.0</td>\n",
              "      <td>SCV</td>\n",
              "      <td>2</td>\n",
              "    </tr>\n",
              "    <tr>\n",
              "      <th>3</th>\n",
              "      <td>13.0</td>\n",
              "      <td>Drone</td>\n",
              "      <td>4</td>\n",
              "    </tr>\n",
              "    <tr>\n",
              "      <th>4</th>\n",
              "      <td>23.0</td>\n",
              "      <td>SCV</td>\n",
              "      <td>4</td>\n",
              "    </tr>\n",
              "    <tr>\n",
              "      <th>...</th>\n",
              "      <td>...</td>\n",
              "      <td>...</td>\n",
              "      <td>...</td>\n",
              "    </tr>\n",
              "    <tr>\n",
              "      <th>9023</th>\n",
              "      <td>38841.0</td>\n",
              "      <td>Probe</td>\n",
              "      <td>1</td>\n",
              "    </tr>\n",
              "    <tr>\n",
              "      <th>9024</th>\n",
              "      <td>38846.0</td>\n",
              "      <td>SCV</td>\n",
              "      <td>3</td>\n",
              "    </tr>\n",
              "    <tr>\n",
              "      <th>9025</th>\n",
              "      <td>38847.0</td>\n",
              "      <td>SCV</td>\n",
              "      <td>2</td>\n",
              "    </tr>\n",
              "    <tr>\n",
              "      <th>9026</th>\n",
              "      <td>38868.0</td>\n",
              "      <td>Probe</td>\n",
              "      <td>3</td>\n",
              "    </tr>\n",
              "    <tr>\n",
              "      <th>9027</th>\n",
              "      <td>38869.0</td>\n",
              "      <td>Drone</td>\n",
              "      <td>3</td>\n",
              "    </tr>\n",
              "  </tbody>\n",
              "</table>\n",
              "<p>9028 rows × 3 columns</p>\n",
              "</div>"
            ],
            "text/plain": [
              "      game_id target_name  count\n",
              "0         1.0         SCV      1\n",
              "1         3.0       Probe      7\n",
              "2        10.0         SCV      2\n",
              "3        13.0       Drone      4\n",
              "4        23.0         SCV      4\n",
              "...       ...         ...    ...\n",
              "9023  38841.0       Probe      1\n",
              "9024  38846.0         SCV      3\n",
              "9025  38847.0         SCV      2\n",
              "9026  38868.0       Probe      3\n",
              "9027  38869.0       Drone      3\n",
              "\n",
              "[9028 rows x 3 columns]"
            ]
          },
          "metadata": {
            "tags": []
          },
          "execution_count": 28
        }
      ]
    },
    {
      "cell_type": "code",
      "metadata": {
        "id": "WLa31-B87UK7",
        "colab_type": "code",
        "outputId": "95fb0cb4-567a-4ef7-ce69-4bfc2c2a3f51",
        "colab": {
          "base_uri": "https://localhost:8080/",
          "height": 1000
        }
      },
      "source": [
        "# 내 종족과 상대 종족이 같은 경우\n",
        "# 종족이 서로 같은 게임 인덱스만 출력\n",
        "kk=train.groupby('game_id')['species'].nunique().reset_index()\n",
        "same_index=list(kk[kk['species']==1]['game_id'].values)\n",
        "\n",
        "# player 0만 출력\n",
        "same_unit=player_0[player_0['game_id'].isin(same_index)]\n",
        "\n",
        "same_unit['enemy_camp_x']= same_unit['enemy_camp'].apply(lambda x: float(x[0]))\n",
        "same_unit['enemy_camp_y']= same_unit['enemy_camp'].apply(lambda x: float(x[1]))\n",
        "same_unit['target_location_x']= same_unit['target_location'].apply(lambda x: float(x[0]))\n",
        "same_unit['target_location_y']= same_unit['target_location'].apply(lambda x: float(x[1]))\n",
        "same_unit.drop(['enemy_camp','target_location'],axis=1,inplace=True)\n",
        "\n",
        "# 유클리디안 거리 30이하\n",
        "same_unit['Euclid'] = np.sqrt((same_unit['enemy_camp_x']- same_unit['target_location_x'])**2+\\\n",
        "                              (same_unit['enemy_camp_y']- same_unit['target_location_y'])**2)\n",
        "same_unit_30 = same_unit[same_unit['Euclid']<30]\n",
        "\n",
        "same_unit_30=same_unit_30.groupby('game_id')['target_name'].value_counts().reset_index(name='count')\n",
        "same_unit_30"
      ],
      "execution_count": 29,
      "outputs": [
        {
          "output_type": "stream",
          "text": [
            "/usr/local/lib/python3.6/dist-packages/ipykernel_launcher.py:7: SettingWithCopyWarning: \n",
            "A value is trying to be set on a copy of a slice from a DataFrame.\n",
            "Try using .loc[row_indexer,col_indexer] = value instead\n",
            "\n",
            "See the caveats in the documentation: http://pandas.pydata.org/pandas-docs/stable/user_guide/indexing.html#returning-a-view-versus-a-copy\n",
            "  import sys\n",
            "/usr/local/lib/python3.6/dist-packages/ipykernel_launcher.py:8: SettingWithCopyWarning: \n",
            "A value is trying to be set on a copy of a slice from a DataFrame.\n",
            "Try using .loc[row_indexer,col_indexer] = value instead\n",
            "\n",
            "See the caveats in the documentation: http://pandas.pydata.org/pandas-docs/stable/user_guide/indexing.html#returning-a-view-versus-a-copy\n",
            "  \n",
            "/usr/local/lib/python3.6/dist-packages/ipykernel_launcher.py:9: SettingWithCopyWarning: \n",
            "A value is trying to be set on a copy of a slice from a DataFrame.\n",
            "Try using .loc[row_indexer,col_indexer] = value instead\n",
            "\n",
            "See the caveats in the documentation: http://pandas.pydata.org/pandas-docs/stable/user_guide/indexing.html#returning-a-view-versus-a-copy\n",
            "  if __name__ == '__main__':\n",
            "/usr/local/lib/python3.6/dist-packages/ipykernel_launcher.py:10: SettingWithCopyWarning: \n",
            "A value is trying to be set on a copy of a slice from a DataFrame.\n",
            "Try using .loc[row_indexer,col_indexer] = value instead\n",
            "\n",
            "See the caveats in the documentation: http://pandas.pydata.org/pandas-docs/stable/user_guide/indexing.html#returning-a-view-versus-a-copy\n",
            "  # Remove the CWD from sys.path while we load stuff.\n",
            "/usr/local/lib/python3.6/dist-packages/pandas/core/frame.py:4117: SettingWithCopyWarning: \n",
            "A value is trying to be set on a copy of a slice from a DataFrame\n",
            "\n",
            "See the caveats in the documentation: http://pandas.pydata.org/pandas-docs/stable/user_guide/indexing.html#returning-a-view-versus-a-copy\n",
            "  errors=errors,\n",
            "/usr/local/lib/python3.6/dist-packages/ipykernel_launcher.py:14: SettingWithCopyWarning: \n",
            "A value is trying to be set on a copy of a slice from a DataFrame.\n",
            "Try using .loc[row_indexer,col_indexer] = value instead\n",
            "\n",
            "See the caveats in the documentation: http://pandas.pydata.org/pandas-docs/stable/user_guide/indexing.html#returning-a-view-versus-a-copy\n",
            "  \n"
          ],
          "name": "stderr"
        },
        {
          "output_type": "execute_result",
          "data": {
            "text/html": [
              "<div>\n",
              "<style scoped>\n",
              "    .dataframe tbody tr th:only-of-type {\n",
              "        vertical-align: middle;\n",
              "    }\n",
              "\n",
              "    .dataframe tbody tr th {\n",
              "        vertical-align: top;\n",
              "    }\n",
              "\n",
              "    .dataframe thead th {\n",
              "        text-align: right;\n",
              "    }\n",
              "</style>\n",
              "<table border=\"1\" class=\"dataframe\">\n",
              "  <thead>\n",
              "    <tr style=\"text-align: right;\">\n",
              "      <th></th>\n",
              "      <th>game_id</th>\n",
              "      <th>target_name</th>\n",
              "      <th>count</th>\n",
              "    </tr>\n",
              "  </thead>\n",
              "  <tbody>\n",
              "    <tr>\n",
              "      <th>0</th>\n",
              "      <td>111.0</td>\n",
              "      <td>Drone</td>\n",
              "      <td>1</td>\n",
              "    </tr>\n",
              "    <tr>\n",
              "      <th>1</th>\n",
              "      <td>161.0</td>\n",
              "      <td>Probe</td>\n",
              "      <td>6</td>\n",
              "    </tr>\n",
              "    <tr>\n",
              "      <th>2</th>\n",
              "      <td>203.0</td>\n",
              "      <td>SCV</td>\n",
              "      <td>1</td>\n",
              "    </tr>\n",
              "    <tr>\n",
              "      <th>3</th>\n",
              "      <td>215.0</td>\n",
              "      <td>Drone</td>\n",
              "      <td>1</td>\n",
              "    </tr>\n",
              "    <tr>\n",
              "      <th>4</th>\n",
              "      <td>279.0</td>\n",
              "      <td>Drone</td>\n",
              "      <td>4</td>\n",
              "    </tr>\n",
              "    <tr>\n",
              "      <th>...</th>\n",
              "      <td>...</td>\n",
              "      <td>...</td>\n",
              "      <td>...</td>\n",
              "    </tr>\n",
              "    <tr>\n",
              "      <th>866</th>\n",
              "      <td>38639.0</td>\n",
              "      <td>Probe</td>\n",
              "      <td>1</td>\n",
              "    </tr>\n",
              "    <tr>\n",
              "      <th>867</th>\n",
              "      <td>38680.0</td>\n",
              "      <td>Probe</td>\n",
              "      <td>5</td>\n",
              "    </tr>\n",
              "    <tr>\n",
              "      <th>868</th>\n",
              "      <td>38702.0</td>\n",
              "      <td>SCV</td>\n",
              "      <td>1</td>\n",
              "    </tr>\n",
              "    <tr>\n",
              "      <th>869</th>\n",
              "      <td>38714.0</td>\n",
              "      <td>SCV</td>\n",
              "      <td>7</td>\n",
              "    </tr>\n",
              "    <tr>\n",
              "      <th>870</th>\n",
              "      <td>38728.0</td>\n",
              "      <td>Probe</td>\n",
              "      <td>1</td>\n",
              "    </tr>\n",
              "  </tbody>\n",
              "</table>\n",
              "<p>871 rows × 3 columns</p>\n",
              "</div>"
            ],
            "text/plain": [
              "     game_id target_name  count\n",
              "0      111.0       Drone      1\n",
              "1      161.0       Probe      6\n",
              "2      203.0         SCV      1\n",
              "3      215.0       Drone      1\n",
              "4      279.0       Drone      4\n",
              "..       ...         ...    ...\n",
              "866  38639.0       Probe      1\n",
              "867  38680.0       Probe      5\n",
              "868  38702.0         SCV      1\n",
              "869  38714.0         SCV      7\n",
              "870  38728.0       Probe      1\n",
              "\n",
              "[871 rows x 3 columns]"
            ]
          },
          "metadata": {
            "tags": []
          },
          "execution_count": 29
        }
      ]
    },
    {
      "cell_type": "markdown",
      "metadata": {
        "id": "6ZK90g-JbwAz",
        "colab_type": "text"
      },
      "source": [
        "##### merge"
      ]
    },
    {
      "cell_type": "code",
      "metadata": {
        "id": "p4HjObaGakZ3",
        "colab_type": "code",
        "colab": {}
      },
      "source": [
        "final_merge=final_merge.merge(differ_unit[['game_id','count']],on='game_id',how='left')\\\n",
        ".merge(same_unit_30[['game_id','count']],on='game_id',how='left')"
      ],
      "execution_count": 0,
      "outputs": []
    },
    {
      "cell_type": "code",
      "metadata": {
        "id": "oxaWzYQlcywl",
        "colab_type": "code",
        "colab": {}
      },
      "source": [
        "final_merge[['count_x','count_y']]=final_merge[['count_x','count_y']].fillna(0)\n",
        "final_merge['0_일꾼공격']= final_merge['count_x']+ final_merge['count_y']"
      ],
      "execution_count": 0,
      "outputs": []
    },
    {
      "cell_type": "code",
      "metadata": {
        "id": "6OXMJGRTdXug",
        "colab_type": "code",
        "colab": {
          "base_uri": "https://localhost:8080/",
          "height": 195
        },
        "outputId": "14215fdd-224a-4beb-ce92-71877b544d4b"
      },
      "source": [
        "final_merge.drop(['count_x','count_y'],axis=1,inplace=True)\n",
        "final_merge.head()"
      ],
      "execution_count": 32,
      "outputs": [
        {
          "output_type": "execute_result",
          "data": {
            "text/html": [
              "<div>\n",
              "<style scoped>\n",
              "    .dataframe tbody tr th:only-of-type {\n",
              "        vertical-align: middle;\n",
              "    }\n",
              "\n",
              "    .dataframe tbody tr th {\n",
              "        vertical-align: top;\n",
              "    }\n",
              "\n",
              "    .dataframe thead th {\n",
              "        text-align: right;\n",
              "    }\n",
              "</style>\n",
              "<table border=\"1\" class=\"dataframe\">\n",
              "  <thead>\n",
              "    <tr style=\"text-align: right;\">\n",
              "      <th></th>\n",
              "      <th>game_id</th>\n",
              "      <th>0_자원공격</th>\n",
              "      <th>1_자원공격</th>\n",
              "      <th>event2_0</th>\n",
              "      <th>event2_1</th>\n",
              "      <th>0_일꾼공격</th>\n",
              "    </tr>\n",
              "  </thead>\n",
              "  <tbody>\n",
              "    <tr>\n",
              "      <th>0</th>\n",
              "      <td>0.0</td>\n",
              "      <td>NaN</td>\n",
              "      <td>NaN</td>\n",
              "      <td>0.0</td>\n",
              "      <td>0.0</td>\n",
              "      <td>0.0</td>\n",
              "    </tr>\n",
              "    <tr>\n",
              "      <th>1</th>\n",
              "      <td>1.0</td>\n",
              "      <td>NaN</td>\n",
              "      <td>NaN</td>\n",
              "      <td>0.0</td>\n",
              "      <td>0.0</td>\n",
              "      <td>1.0</td>\n",
              "    </tr>\n",
              "    <tr>\n",
              "      <th>2</th>\n",
              "      <td>2.0</td>\n",
              "      <td>NaN</td>\n",
              "      <td>1.0</td>\n",
              "      <td>0.0</td>\n",
              "      <td>0.0</td>\n",
              "      <td>0.0</td>\n",
              "    </tr>\n",
              "    <tr>\n",
              "      <th>3</th>\n",
              "      <td>3.0</td>\n",
              "      <td>1.0</td>\n",
              "      <td>1.0</td>\n",
              "      <td>0.0</td>\n",
              "      <td>0.0</td>\n",
              "      <td>7.0</td>\n",
              "    </tr>\n",
              "    <tr>\n",
              "      <th>4</th>\n",
              "      <td>4.0</td>\n",
              "      <td>1.0</td>\n",
              "      <td>NaN</td>\n",
              "      <td>0.0</td>\n",
              "      <td>0.0</td>\n",
              "      <td>0.0</td>\n",
              "    </tr>\n",
              "  </tbody>\n",
              "</table>\n",
              "</div>"
            ],
            "text/plain": [
              "   game_id  0_자원공격  1_자원공격  event2_0  event2_1  0_일꾼공격\n",
              "0      0.0     NaN     NaN       0.0       0.0     0.0\n",
              "1      1.0     NaN     NaN       0.0       0.0     1.0\n",
              "2      2.0     NaN     1.0       0.0       0.0     0.0\n",
              "3      3.0     1.0     1.0       0.0       0.0     7.0\n",
              "4      4.0     1.0     NaN       0.0       0.0     0.0"
            ]
          },
          "metadata": {
            "tags": []
          },
          "execution_count": 32
        }
      ]
    },
    {
      "cell_type": "markdown",
      "metadata": {
        "id": "xISt28lTCroq",
        "colab_type": "text"
      },
      "source": [
        "#### player 1"
      ]
    },
    {
      "cell_type": "code",
      "metadata": {
        "id": "3-umtDc4e_ad",
        "colab_type": "code",
        "colab": {
          "base_uri": "https://localhost:8080/",
          "height": 562
        },
        "outputId": "9fbe2552-10d8-4deb-8f55-e4f12614b888"
      },
      "source": [
        "player_1 = event_3[event_3['player']==1]\n",
        "#player_1.head()\n",
        "\n",
        "# 내 종족과 상대 종족이 다른 경우\n",
        "differ_unit= player_1[player_1['My_Unit'] != player_1['target_name']].groupby('game_id')['target_name'].value_counts().reset_index(name='count')\n",
        "differ_unit\n",
        "\n",
        "# 내 종족과 상대 종족이 같은 경우\n",
        "# 종족이 서로 같은 게임 인덱스만 출력\n",
        "kk=train.groupby('game_id')['species'].nunique().reset_index()\n",
        "same_index=list(kk[kk['species']==1]['game_id'].values)\n",
        "\n",
        "# player 1만 출력\n",
        "same_unit= player_1[player_1['game_id'].isin(same_index)]\n",
        "\n",
        "same_unit['enemy_camp_x']= same_unit['enemy_camp'].apply(lambda x: float(x[0]))\n",
        "same_unit['enemy_camp_y']= same_unit['enemy_camp'].apply(lambda x: float(x[1]))\n",
        "same_unit['target_location_x']= same_unit['target_location'].apply(lambda x: float(x[0]))\n",
        "same_unit['target_location_y']= same_unit['target_location'].apply(lambda x: float(x[1]))\n",
        "same_unit.drop(['enemy_camp','target_location'],axis=1,inplace=True)\n",
        "\n",
        "# 유클리디안 거리 30이하\n",
        "same_unit['Euclid'] = np.sqrt((same_unit['enemy_camp_x']- same_unit['target_location_x'])**2+\\\n",
        "                              (same_unit['enemy_camp_y']- same_unit['target_location_y'])**2)\n",
        "same_unit_30 = same_unit[same_unit['Euclid']<30]\n",
        "\n",
        "same_unit_30=same_unit_30.groupby('game_id')['target_name'].value_counts().reset_index(name='count')"
      ],
      "execution_count": 33,
      "outputs": [
        {
          "output_type": "stream",
          "text": [
            "/usr/local/lib/python3.6/dist-packages/ipykernel_launcher.py:16: SettingWithCopyWarning: \n",
            "A value is trying to be set on a copy of a slice from a DataFrame.\n",
            "Try using .loc[row_indexer,col_indexer] = value instead\n",
            "\n",
            "See the caveats in the documentation: http://pandas.pydata.org/pandas-docs/stable/user_guide/indexing.html#returning-a-view-versus-a-copy\n",
            "  app.launch_new_instance()\n",
            "/usr/local/lib/python3.6/dist-packages/ipykernel_launcher.py:17: SettingWithCopyWarning: \n",
            "A value is trying to be set on a copy of a slice from a DataFrame.\n",
            "Try using .loc[row_indexer,col_indexer] = value instead\n",
            "\n",
            "See the caveats in the documentation: http://pandas.pydata.org/pandas-docs/stable/user_guide/indexing.html#returning-a-view-versus-a-copy\n",
            "/usr/local/lib/python3.6/dist-packages/ipykernel_launcher.py:18: SettingWithCopyWarning: \n",
            "A value is trying to be set on a copy of a slice from a DataFrame.\n",
            "Try using .loc[row_indexer,col_indexer] = value instead\n",
            "\n",
            "See the caveats in the documentation: http://pandas.pydata.org/pandas-docs/stable/user_guide/indexing.html#returning-a-view-versus-a-copy\n",
            "/usr/local/lib/python3.6/dist-packages/ipykernel_launcher.py:19: SettingWithCopyWarning: \n",
            "A value is trying to be set on a copy of a slice from a DataFrame.\n",
            "Try using .loc[row_indexer,col_indexer] = value instead\n",
            "\n",
            "See the caveats in the documentation: http://pandas.pydata.org/pandas-docs/stable/user_guide/indexing.html#returning-a-view-versus-a-copy\n",
            "/usr/local/lib/python3.6/dist-packages/pandas/core/frame.py:4117: SettingWithCopyWarning: \n",
            "A value is trying to be set on a copy of a slice from a DataFrame\n",
            "\n",
            "See the caveats in the documentation: http://pandas.pydata.org/pandas-docs/stable/user_guide/indexing.html#returning-a-view-versus-a-copy\n",
            "  errors=errors,\n",
            "/usr/local/lib/python3.6/dist-packages/ipykernel_launcher.py:23: SettingWithCopyWarning: \n",
            "A value is trying to be set on a copy of a slice from a DataFrame.\n",
            "Try using .loc[row_indexer,col_indexer] = value instead\n",
            "\n",
            "See the caveats in the documentation: http://pandas.pydata.org/pandas-docs/stable/user_guide/indexing.html#returning-a-view-versus-a-copy\n"
          ],
          "name": "stderr"
        }
      ]
    },
    {
      "cell_type": "markdown",
      "metadata": {
        "id": "G7IrbfiFhTYh",
        "colab_type": "text"
      },
      "source": [
        "##### merge"
      ]
    },
    {
      "cell_type": "code",
      "metadata": {
        "id": "rJpwH9gGhU3q",
        "colab_type": "code",
        "colab": {
          "base_uri": "https://localhost:8080/",
          "height": 195
        },
        "outputId": "e32aef0c-63db-4ad6-a419-7c55496c12f8"
      },
      "source": [
        "final_merge=final_merge.merge(differ_unit[['game_id','count']],on='game_id',how='left')\\\n",
        ".merge(same_unit_30[['game_id','count']],on='game_id',how='left')\n",
        "\n",
        "final_merge[['count_x','count_y']]=final_merge[['count_x','count_y']].fillna(0)\n",
        "final_merge['1_일꾼공격']= final_merge['count_x']+ final_merge['count_y']\n",
        "\n",
        "final_merge.drop(['count_x','count_y'],axis=1,inplace=True)\n",
        "final_merge.head()"
      ],
      "execution_count": 34,
      "outputs": [
        {
          "output_type": "execute_result",
          "data": {
            "text/html": [
              "<div>\n",
              "<style scoped>\n",
              "    .dataframe tbody tr th:only-of-type {\n",
              "        vertical-align: middle;\n",
              "    }\n",
              "\n",
              "    .dataframe tbody tr th {\n",
              "        vertical-align: top;\n",
              "    }\n",
              "\n",
              "    .dataframe thead th {\n",
              "        text-align: right;\n",
              "    }\n",
              "</style>\n",
              "<table border=\"1\" class=\"dataframe\">\n",
              "  <thead>\n",
              "    <tr style=\"text-align: right;\">\n",
              "      <th></th>\n",
              "      <th>game_id</th>\n",
              "      <th>0_자원공격</th>\n",
              "      <th>1_자원공격</th>\n",
              "      <th>event2_0</th>\n",
              "      <th>event2_1</th>\n",
              "      <th>0_일꾼공격</th>\n",
              "      <th>1_일꾼공격</th>\n",
              "    </tr>\n",
              "  </thead>\n",
              "  <tbody>\n",
              "    <tr>\n",
              "      <th>0</th>\n",
              "      <td>0.0</td>\n",
              "      <td>NaN</td>\n",
              "      <td>NaN</td>\n",
              "      <td>0.0</td>\n",
              "      <td>0.0</td>\n",
              "      <td>0.0</td>\n",
              "      <td>0.0</td>\n",
              "    </tr>\n",
              "    <tr>\n",
              "      <th>1</th>\n",
              "      <td>1.0</td>\n",
              "      <td>NaN</td>\n",
              "      <td>NaN</td>\n",
              "      <td>0.0</td>\n",
              "      <td>0.0</td>\n",
              "      <td>1.0</td>\n",
              "      <td>2.0</td>\n",
              "    </tr>\n",
              "    <tr>\n",
              "      <th>2</th>\n",
              "      <td>2.0</td>\n",
              "      <td>NaN</td>\n",
              "      <td>1.0</td>\n",
              "      <td>0.0</td>\n",
              "      <td>0.0</td>\n",
              "      <td>0.0</td>\n",
              "      <td>0.0</td>\n",
              "    </tr>\n",
              "    <tr>\n",
              "      <th>3</th>\n",
              "      <td>3.0</td>\n",
              "      <td>1.0</td>\n",
              "      <td>1.0</td>\n",
              "      <td>0.0</td>\n",
              "      <td>0.0</td>\n",
              "      <td>7.0</td>\n",
              "      <td>0.0</td>\n",
              "    </tr>\n",
              "    <tr>\n",
              "      <th>4</th>\n",
              "      <td>4.0</td>\n",
              "      <td>1.0</td>\n",
              "      <td>NaN</td>\n",
              "      <td>0.0</td>\n",
              "      <td>0.0</td>\n",
              "      <td>0.0</td>\n",
              "      <td>0.0</td>\n",
              "    </tr>\n",
              "  </tbody>\n",
              "</table>\n",
              "</div>"
            ],
            "text/plain": [
              "   game_id  0_자원공격  1_자원공격  event2_0  event2_1  0_일꾼공격  1_일꾼공격\n",
              "0      0.0     NaN     NaN       0.0       0.0     0.0     0.0\n",
              "1      1.0     NaN     NaN       0.0       0.0     1.0     2.0\n",
              "2      2.0     NaN     1.0       0.0       0.0     0.0     0.0\n",
              "3      3.0     1.0     1.0       0.0       0.0     7.0     0.0\n",
              "4      4.0     1.0     NaN       0.0       0.0     0.0     0.0"
            ]
          },
          "metadata": {
            "tags": []
          },
          "execution_count": 34
        }
      ]
    },
    {
      "cell_type": "markdown",
      "metadata": {
        "id": "d18qxn26u3n3",
        "colab_type": "text"
      },
      "source": [
        "### Final merge"
      ]
    },
    {
      "cell_type": "code",
      "metadata": {
        "id": "wRRa3qAbvHmi",
        "colab_type": "code",
        "colab": {
          "base_uri": "https://localhost:8080/",
          "height": 195
        },
        "outputId": "f97f754a-f280-440f-e382-4c64d810bed4"
      },
      "source": [
        "final_merge['Attack_worker_0'] = final_merge['event2_0'] + final_merge['0_일꾼공격']\n",
        "final_merge['Attack_worker_1'] = final_merge['event2_1'] + final_merge['1_일꾼공격']\n",
        "final_merge.drop(['event2_0','event2_1','0_일꾼공격','1_일꾼공격'],axis=1,inplace=True)\n",
        "final_merge.head()"
      ],
      "execution_count": 35,
      "outputs": [
        {
          "output_type": "execute_result",
          "data": {
            "text/html": [
              "<div>\n",
              "<style scoped>\n",
              "    .dataframe tbody tr th:only-of-type {\n",
              "        vertical-align: middle;\n",
              "    }\n",
              "\n",
              "    .dataframe tbody tr th {\n",
              "        vertical-align: top;\n",
              "    }\n",
              "\n",
              "    .dataframe thead th {\n",
              "        text-align: right;\n",
              "    }\n",
              "</style>\n",
              "<table border=\"1\" class=\"dataframe\">\n",
              "  <thead>\n",
              "    <tr style=\"text-align: right;\">\n",
              "      <th></th>\n",
              "      <th>game_id</th>\n",
              "      <th>0_자원공격</th>\n",
              "      <th>1_자원공격</th>\n",
              "      <th>Attack_worker_0</th>\n",
              "      <th>Attack_worker_1</th>\n",
              "    </tr>\n",
              "  </thead>\n",
              "  <tbody>\n",
              "    <tr>\n",
              "      <th>0</th>\n",
              "      <td>0.0</td>\n",
              "      <td>NaN</td>\n",
              "      <td>NaN</td>\n",
              "      <td>0.0</td>\n",
              "      <td>0.0</td>\n",
              "    </tr>\n",
              "    <tr>\n",
              "      <th>1</th>\n",
              "      <td>1.0</td>\n",
              "      <td>NaN</td>\n",
              "      <td>NaN</td>\n",
              "      <td>1.0</td>\n",
              "      <td>2.0</td>\n",
              "    </tr>\n",
              "    <tr>\n",
              "      <th>2</th>\n",
              "      <td>2.0</td>\n",
              "      <td>NaN</td>\n",
              "      <td>1.0</td>\n",
              "      <td>0.0</td>\n",
              "      <td>0.0</td>\n",
              "    </tr>\n",
              "    <tr>\n",
              "      <th>3</th>\n",
              "      <td>3.0</td>\n",
              "      <td>1.0</td>\n",
              "      <td>1.0</td>\n",
              "      <td>7.0</td>\n",
              "      <td>0.0</td>\n",
              "    </tr>\n",
              "    <tr>\n",
              "      <th>4</th>\n",
              "      <td>4.0</td>\n",
              "      <td>1.0</td>\n",
              "      <td>NaN</td>\n",
              "      <td>0.0</td>\n",
              "      <td>0.0</td>\n",
              "    </tr>\n",
              "  </tbody>\n",
              "</table>\n",
              "</div>"
            ],
            "text/plain": [
              "   game_id  0_자원공격  1_자원공격  Attack_worker_0  Attack_worker_1\n",
              "0      0.0     NaN     NaN              0.0              0.0\n",
              "1      1.0     NaN     NaN              1.0              2.0\n",
              "2      2.0     NaN     1.0              0.0              0.0\n",
              "3      3.0     1.0     1.0              7.0              0.0\n",
              "4      4.0     1.0     NaN              0.0              0.0"
            ]
          },
          "metadata": {
            "tags": []
          },
          "execution_count": 35
        }
      ]
    },
    {
      "cell_type": "markdown",
      "metadata": {
        "id": "OBOb0m1awYkV",
        "colab_type": "text"
      },
      "source": [
        "## Session:2\n",
        "- Attack 건물\n",
        "- 잠깐 어려우니 패스"
      ]
    },
    {
      "cell_type": "markdown",
      "metadata": {
        "id": "8YzCn-_z503Z",
        "colab_type": "text"
      },
      "source": [
        "## Session:3\n",
        "- Attack 본진\n",
        "- Target이 Location으로 잡혀있고 본진과 유클리드 30이내만"
      ]
    },
    {
      "cell_type": "code",
      "metadata": {
        "id": "7BAkp-jr8TtV",
        "colab_type": "code",
        "colab": {}
      },
      "source": [
        "attack_3 = train[(train['event']==2)|\n",
        "                (train['event']==3)]"
      ],
      "execution_count": 0,
      "outputs": []
    },
    {
      "cell_type": "code",
      "metadata": {
        "id": "FqXQ3lNs8WaE",
        "colab_type": "code",
        "colab": {
          "base_uri": "https://localhost:8080/",
          "height": 195
        },
        "outputId": "035c2a65-9b52-482b-e42b-8227742cf7b4"
      },
      "source": [
        "attack_3.head()"
      ],
      "execution_count": 37,
      "outputs": [
        {
          "output_type": "execute_result",
          "data": {
            "text/html": [
              "<div>\n",
              "<style scoped>\n",
              "    .dataframe tbody tr th:only-of-type {\n",
              "        vertical-align: middle;\n",
              "    }\n",
              "\n",
              "    .dataframe tbody tr th {\n",
              "        vertical-align: top;\n",
              "    }\n",
              "\n",
              "    .dataframe thead th {\n",
              "        text-align: right;\n",
              "    }\n",
              "</style>\n",
              "<table border=\"1\" class=\"dataframe\">\n",
              "  <thead>\n",
              "    <tr style=\"text-align: right;\">\n",
              "      <th></th>\n",
              "      <th>game_id</th>\n",
              "      <th>winner</th>\n",
              "      <th>time</th>\n",
              "      <th>player</th>\n",
              "      <th>species</th>\n",
              "      <th>event</th>\n",
              "      <th>event_contents_x</th>\n",
              "      <th>session</th>\n",
              "      <th>event_contents_y</th>\n",
              "    </tr>\n",
              "  </thead>\n",
              "  <tbody>\n",
              "    <tr>\n",
              "      <th>2</th>\n",
              "      <td>0.0</td>\n",
              "      <td>1.0</td>\n",
              "      <td>0.0</td>\n",
              "      <td>0.0</td>\n",
              "      <td>0.0</td>\n",
              "      <td>2.0</td>\n",
              "      <td>(1360) - TrainSCV</td>\n",
              "      <td>0.0</td>\n",
              "      <td>at (22.75, 147.0078125)</td>\n",
              "    </tr>\n",
              "    <tr>\n",
              "      <th>16</th>\n",
              "      <td>0.0</td>\n",
              "      <td>1.0</td>\n",
              "      <td>0.0</td>\n",
              "      <td>0.0</td>\n",
              "      <td>0.0</td>\n",
              "      <td>3.0</td>\n",
              "      <td>Location: (136.3759765625, 41.11962890625, 49016)</td>\n",
              "      <td>0.0</td>\n",
              "      <td>at (22.75, 147.0078125)</td>\n",
              "    </tr>\n",
              "    <tr>\n",
              "      <th>17</th>\n",
              "      <td>0.0</td>\n",
              "      <td>1.0</td>\n",
              "      <td>0.0</td>\n",
              "      <td>0.0</td>\n",
              "      <td>0.0</td>\n",
              "      <td>3.0</td>\n",
              "      <td>Location: (136.033935546875, 41.735107421875, ...</td>\n",
              "      <td>0.0</td>\n",
              "      <td>at (22.75, 147.0078125)</td>\n",
              "    </tr>\n",
              "    <tr>\n",
              "      <th>18</th>\n",
              "      <td>0.0</td>\n",
              "      <td>1.0</td>\n",
              "      <td>0.0</td>\n",
              "      <td>0.0</td>\n",
              "      <td>0.0</td>\n",
              "      <td>2.0</td>\n",
              "      <td>(1021) - BuildSupplyDepot; Location: (135.0, 4...</td>\n",
              "      <td>0.0</td>\n",
              "      <td>at (22.75, 147.0078125)</td>\n",
              "    </tr>\n",
              "    <tr>\n",
              "      <th>26</th>\n",
              "      <td>0.0</td>\n",
              "      <td>1.0</td>\n",
              "      <td>0.0</td>\n",
              "      <td>0.0</td>\n",
              "      <td>0.0</td>\n",
              "      <td>2.0</td>\n",
              "      <td>(480) - Stop</td>\n",
              "      <td>0.0</td>\n",
              "      <td>at (22.75, 147.0078125)</td>\n",
              "    </tr>\n",
              "  </tbody>\n",
              "</table>\n",
              "</div>"
            ],
            "text/plain": [
              "    game_id  winner  ...  session         event_contents_y\n",
              "2       0.0     1.0  ...      0.0  at (22.75, 147.0078125)\n",
              "16      0.0     1.0  ...      0.0  at (22.75, 147.0078125)\n",
              "17      0.0     1.0  ...      0.0  at (22.75, 147.0078125)\n",
              "18      0.0     1.0  ...      0.0  at (22.75, 147.0078125)\n",
              "26      0.0     1.0  ...      0.0  at (22.75, 147.0078125)\n",
              "\n",
              "[5 rows x 9 columns]"
            ]
          },
          "metadata": {
            "tags": []
          },
          "execution_count": 37
        }
      ]
    },
    {
      "cell_type": "markdown",
      "metadata": {
        "id": "Jy19TETI6Fpe",
        "colab_type": "text"
      },
      "source": [
        "### event 2"
      ]
    },
    {
      "cell_type": "code",
      "metadata": {
        "id": "m6LjkAKW8dTr",
        "colab_type": "code",
        "colab": {}
      },
      "source": [
        "event_2 = attack_3[attack_3['event'] ==2]\n",
        "\n",
        "# SCV, Drone, Porbe를 뺀 모든 Attack 명령\n",
        "event_2= event_2[(event_2['event_contents_x'].str.contains('Attack'))&\n",
        "                 (event_2['event_contents_x'].str.contains('Location'))&\n",
        "                 (event_2['event_contents_x'].str.contains('SCV')==False)&\n",
        "                 (event_2['event_contents_x'].str.contains('Drone')==False)&\n",
        "                 (event_2['event_contents_x'].str.contains('Probe')==False)]"
      ],
      "execution_count": 0,
      "outputs": []
    },
    {
      "cell_type": "code",
      "metadata": {
        "id": "sHU82gnLAi-t",
        "colab_type": "code",
        "colab": {
          "base_uri": "https://localhost:8080/",
          "height": 195
        },
        "outputId": "3ff0a524-06d2-477b-d342-05100390ab45"
      },
      "source": [
        "event_2['target_location_x'] = event_2['event_contents_x'].apply(lambda x:float(x.split('Location:')[1][2:-8].split(',')[0]))\n",
        "event_2['target_location_y'] = event_2['event_contents_x'].apply(lambda x:float(x.split('Location:')[1][2:-8].split(',')[1]))\n",
        "event_2['enemy_camp_x']= event_2['event_contents_y'].apply(lambda x:float(x[4:-1].split(',')[0]))\n",
        "event_2['enemy_camp_y']= event_2['event_contents_y'].apply(lambda x:float(x[4:-1].split(',')[1]))\n",
        "\n",
        "event_2.drop(['event_contents_x','event_contents_y'],axis=1,inplace=True)\n",
        "\n",
        "event_2.head()"
      ],
      "execution_count": 39,
      "outputs": [
        {
          "output_type": "execute_result",
          "data": {
            "text/html": [
              "<div>\n",
              "<style scoped>\n",
              "    .dataframe tbody tr th:only-of-type {\n",
              "        vertical-align: middle;\n",
              "    }\n",
              "\n",
              "    .dataframe tbody tr th {\n",
              "        vertical-align: top;\n",
              "    }\n",
              "\n",
              "    .dataframe thead th {\n",
              "        text-align: right;\n",
              "    }\n",
              "</style>\n",
              "<table border=\"1\" class=\"dataframe\">\n",
              "  <thead>\n",
              "    <tr style=\"text-align: right;\">\n",
              "      <th></th>\n",
              "      <th>game_id</th>\n",
              "      <th>winner</th>\n",
              "      <th>time</th>\n",
              "      <th>player</th>\n",
              "      <th>species</th>\n",
              "      <th>event</th>\n",
              "      <th>session</th>\n",
              "      <th>target_location_x</th>\n",
              "      <th>target_location_y</th>\n",
              "      <th>enemy_camp_x</th>\n",
              "      <th>enemy_camp_y</th>\n",
              "    </tr>\n",
              "  </thead>\n",
              "  <tbody>\n",
              "    <tr>\n",
              "      <th>742</th>\n",
              "      <td>0.0</td>\n",
              "      <td>1.0</td>\n",
              "      <td>3.0</td>\n",
              "      <td>1.0</td>\n",
              "      <td>0.0</td>\n",
              "      <td>2.0</td>\n",
              "      <td>0.0</td>\n",
              "      <td>13.541016</td>\n",
              "      <td>111.432617</td>\n",
              "      <td>145.25</td>\n",
              "      <td>21.507812</td>\n",
              "    </tr>\n",
              "    <tr>\n",
              "      <th>860</th>\n",
              "      <td>0.0</td>\n",
              "      <td>1.0</td>\n",
              "      <td>4.0</td>\n",
              "      <td>1.0</td>\n",
              "      <td>0.0</td>\n",
              "      <td>2.0</td>\n",
              "      <td>0.0</td>\n",
              "      <td>32.707764</td>\n",
              "      <td>148.977051</td>\n",
              "      <td>145.25</td>\n",
              "      <td>21.507812</td>\n",
              "    </tr>\n",
              "    <tr>\n",
              "      <th>1041</th>\n",
              "      <td>0.0</td>\n",
              "      <td>1.0</td>\n",
              "      <td>5.0</td>\n",
              "      <td>1.0</td>\n",
              "      <td>0.0</td>\n",
              "      <td>2.0</td>\n",
              "      <td>0.0</td>\n",
              "      <td>28.266357</td>\n",
              "      <td>122.276855</td>\n",
              "      <td>145.25</td>\n",
              "      <td>21.507812</td>\n",
              "    </tr>\n",
              "    <tr>\n",
              "      <th>1572</th>\n",
              "      <td>1.0</td>\n",
              "      <td>1.0</td>\n",
              "      <td>4.0</td>\n",
              "      <td>1.0</td>\n",
              "      <td>0.0</td>\n",
              "      <td>2.0</td>\n",
              "      <td>0.0</td>\n",
              "      <td>73.913818</td>\n",
              "      <td>86.790527</td>\n",
              "      <td>140.00</td>\n",
              "      <td>162.007812</td>\n",
              "    </tr>\n",
              "    <tr>\n",
              "      <th>1913</th>\n",
              "      <td>1.0</td>\n",
              "      <td>1.0</td>\n",
              "      <td>6.0</td>\n",
              "      <td>1.0</td>\n",
              "      <td>0.0</td>\n",
              "      <td>2.0</td>\n",
              "      <td>0.0</td>\n",
              "      <td>135.607178</td>\n",
              "      <td>131.279053</td>\n",
              "      <td>140.00</td>\n",
              "      <td>162.007812</td>\n",
              "    </tr>\n",
              "  </tbody>\n",
              "</table>\n",
              "</div>"
            ],
            "text/plain": [
              "      game_id  winner  time  ...  target_location_y  enemy_camp_x  enemy_camp_y\n",
              "742       0.0     1.0   3.0  ...         111.432617        145.25     21.507812\n",
              "860       0.0     1.0   4.0  ...         148.977051        145.25     21.507812\n",
              "1041      0.0     1.0   5.0  ...         122.276855        145.25     21.507812\n",
              "1572      1.0     1.0   4.0  ...          86.790527        140.00    162.007812\n",
              "1913      1.0     1.0   6.0  ...         131.279053        140.00    162.007812\n",
              "\n",
              "[5 rows x 11 columns]"
            ]
          },
          "metadata": {
            "tags": []
          },
          "execution_count": 39
        }
      ]
    },
    {
      "cell_type": "code",
      "metadata": {
        "id": "2eINjOsKIDGN",
        "colab_type": "code",
        "colab": {
          "base_uri": "https://localhost:8080/",
          "height": 70
        },
        "outputId": "1a5fb205-0d43-46ca-88e9-b245e8f9d29e"
      },
      "source": [
        "event_2['player'].value_counts()"
      ],
      "execution_count": 40,
      "outputs": [
        {
          "output_type": "execute_result",
          "data": {
            "text/plain": [
              "1.0    266419\n",
              "0.0    264511\n",
              "Name: player, dtype: int64"
            ]
          },
          "metadata": {
            "tags": []
          },
          "execution_count": 40
        }
      ]
    },
    {
      "cell_type": "markdown",
      "metadata": {
        "id": "S3yNjgCp8n6L",
        "colab_type": "text"
      },
      "source": [
        "#### player 0"
      ]
    },
    {
      "cell_type": "code",
      "metadata": {
        "id": "WWNZiSB18qYw",
        "colab_type": "code",
        "colab": {}
      },
      "source": [
        "player_0 = event_2[event_2['player']==0]"
      ],
      "execution_count": 0,
      "outputs": []
    },
    {
      "cell_type": "code",
      "metadata": {
        "id": "l73BxFXEFdp2",
        "colab_type": "code",
        "colab": {
          "base_uri": "https://localhost:8080/",
          "height": 507
        },
        "outputId": "50e56cd0-810c-4a76-a9c9-748ad27d490f"
      },
      "source": [
        "# 유클리디안 거리 30이하\n",
        "player_0['Euclid'] = np.sqrt((player_0['enemy_camp_x']- player_0['target_location_x'])**2+\\\n",
        "                             (player_0['enemy_camp_y']- player_0['target_location_y'])**2)\n",
        "\n",
        "player_0_30 = player_0[player_0['Euclid']<30]\n",
        "player_0_30\n",
        "player_0_30=player_0_30.groupby('game_id')['player'].value_counts().reset_index(name='attack_enemy_camp_0')\n",
        "player_0_30"
      ],
      "execution_count": 42,
      "outputs": [
        {
          "output_type": "stream",
          "text": [
            "/usr/local/lib/python3.6/dist-packages/ipykernel_launcher.py:1: SettingWithCopyWarning: \n",
            "A value is trying to be set on a copy of a slice from a DataFrame.\n",
            "Try using .loc[row_indexer,col_indexer] = value instead\n",
            "\n",
            "See the caveats in the documentation: http://pandas.pydata.org/pandas-docs/stable/user_guide/indexing.html#returning-a-view-versus-a-copy\n",
            "  \"\"\"Entry point for launching an IPython kernel.\n"
          ],
          "name": "stderr"
        },
        {
          "output_type": "execute_result",
          "data": {
            "text/html": [
              "<div>\n",
              "<style scoped>\n",
              "    .dataframe tbody tr th:only-of-type {\n",
              "        vertical-align: middle;\n",
              "    }\n",
              "\n",
              "    .dataframe tbody tr th {\n",
              "        vertical-align: top;\n",
              "    }\n",
              "\n",
              "    .dataframe thead th {\n",
              "        text-align: right;\n",
              "    }\n",
              "</style>\n",
              "<table border=\"1\" class=\"dataframe\">\n",
              "  <thead>\n",
              "    <tr style=\"text-align: right;\">\n",
              "      <th></th>\n",
              "      <th>game_id</th>\n",
              "      <th>player</th>\n",
              "      <th>attack_enemy_camp_0</th>\n",
              "    </tr>\n",
              "  </thead>\n",
              "  <tbody>\n",
              "    <tr>\n",
              "      <th>0</th>\n",
              "      <td>3.0</td>\n",
              "      <td>0.0</td>\n",
              "      <td>2</td>\n",
              "    </tr>\n",
              "    <tr>\n",
              "      <th>1</th>\n",
              "      <td>6.0</td>\n",
              "      <td>0.0</td>\n",
              "      <td>2</td>\n",
              "    </tr>\n",
              "    <tr>\n",
              "      <th>2</th>\n",
              "      <td>10.0</td>\n",
              "      <td>0.0</td>\n",
              "      <td>7</td>\n",
              "    </tr>\n",
              "    <tr>\n",
              "      <th>3</th>\n",
              "      <td>20.0</td>\n",
              "      <td>0.0</td>\n",
              "      <td>4</td>\n",
              "    </tr>\n",
              "    <tr>\n",
              "      <th>4</th>\n",
              "      <td>21.0</td>\n",
              "      <td>0.0</td>\n",
              "      <td>1</td>\n",
              "    </tr>\n",
              "    <tr>\n",
              "      <th>...</th>\n",
              "      <td>...</td>\n",
              "      <td>...</td>\n",
              "      <td>...</td>\n",
              "    </tr>\n",
              "    <tr>\n",
              "      <th>14708</th>\n",
              "      <td>38851.0</td>\n",
              "      <td>0.0</td>\n",
              "      <td>2</td>\n",
              "    </tr>\n",
              "    <tr>\n",
              "      <th>14709</th>\n",
              "      <td>38854.0</td>\n",
              "      <td>0.0</td>\n",
              "      <td>1</td>\n",
              "    </tr>\n",
              "    <tr>\n",
              "      <th>14710</th>\n",
              "      <td>38859.0</td>\n",
              "      <td>0.0</td>\n",
              "      <td>3</td>\n",
              "    </tr>\n",
              "    <tr>\n",
              "      <th>14711</th>\n",
              "      <td>38867.0</td>\n",
              "      <td>0.0</td>\n",
              "      <td>1</td>\n",
              "    </tr>\n",
              "    <tr>\n",
              "      <th>14712</th>\n",
              "      <td>38868.0</td>\n",
              "      <td>0.0</td>\n",
              "      <td>8</td>\n",
              "    </tr>\n",
              "  </tbody>\n",
              "</table>\n",
              "<p>14713 rows × 3 columns</p>\n",
              "</div>"
            ],
            "text/plain": [
              "       game_id  player  attack_enemy_camp_0\n",
              "0          3.0     0.0                    2\n",
              "1          6.0     0.0                    2\n",
              "2         10.0     0.0                    7\n",
              "3         20.0     0.0                    4\n",
              "4         21.0     0.0                    1\n",
              "...        ...     ...                  ...\n",
              "14708  38851.0     0.0                    2\n",
              "14709  38854.0     0.0                    1\n",
              "14710  38859.0     0.0                    3\n",
              "14711  38867.0     0.0                    1\n",
              "14712  38868.0     0.0                    8\n",
              "\n",
              "[14713 rows x 3 columns]"
            ]
          },
          "metadata": {
            "tags": []
          },
          "execution_count": 42
        }
      ]
    },
    {
      "cell_type": "markdown",
      "metadata": {
        "id": "2QbbP9s2Ijf0",
        "colab_type": "text"
      },
      "source": [
        "#### player 1"
      ]
    },
    {
      "cell_type": "code",
      "metadata": {
        "id": "TR1STxTzIn20",
        "colab_type": "code",
        "colab": {
          "base_uri": "https://localhost:8080/",
          "height": 507
        },
        "outputId": "bab56ee3-4862-4eb6-c74f-12139f95dc3b"
      },
      "source": [
        "player_1 = event_2[event_2['player']==1]\n",
        "\n",
        "# 유클리디안 거리 30이하\n",
        "player_1['Euclid'] = np.sqrt((player_1['enemy_camp_x']- player_1['target_location_x'])**2+\\\n",
        "                             (player_1['enemy_camp_y']- player_1['target_location_y'])**2)\n",
        "\n",
        "player_1_30 = player_1[player_1['Euclid']<30]\n",
        "player_1_30\n",
        "player_1_30=player_1_30.groupby('game_id')['player'].value_counts().reset_index(name='attack_enemy_camp_1')\n",
        "player_1_30"
      ],
      "execution_count": 43,
      "outputs": [
        {
          "output_type": "stream",
          "text": [
            "/usr/local/lib/python3.6/dist-packages/ipykernel_launcher.py:4: SettingWithCopyWarning: \n",
            "A value is trying to be set on a copy of a slice from a DataFrame.\n",
            "Try using .loc[row_indexer,col_indexer] = value instead\n",
            "\n",
            "See the caveats in the documentation: http://pandas.pydata.org/pandas-docs/stable/user_guide/indexing.html#returning-a-view-versus-a-copy\n",
            "  after removing the cwd from sys.path.\n"
          ],
          "name": "stderr"
        },
        {
          "output_type": "execute_result",
          "data": {
            "text/html": [
              "<div>\n",
              "<style scoped>\n",
              "    .dataframe tbody tr th:only-of-type {\n",
              "        vertical-align: middle;\n",
              "    }\n",
              "\n",
              "    .dataframe tbody tr th {\n",
              "        vertical-align: top;\n",
              "    }\n",
              "\n",
              "    .dataframe thead th {\n",
              "        text-align: right;\n",
              "    }\n",
              "</style>\n",
              "<table border=\"1\" class=\"dataframe\">\n",
              "  <thead>\n",
              "    <tr style=\"text-align: right;\">\n",
              "      <th></th>\n",
              "      <th>game_id</th>\n",
              "      <th>player</th>\n",
              "      <th>attack_enemy_camp_1</th>\n",
              "    </tr>\n",
              "  </thead>\n",
              "  <tbody>\n",
              "    <tr>\n",
              "      <th>0</th>\n",
              "      <td>3.0</td>\n",
              "      <td>1.0</td>\n",
              "      <td>1</td>\n",
              "    </tr>\n",
              "    <tr>\n",
              "      <th>1</th>\n",
              "      <td>7.0</td>\n",
              "      <td>1.0</td>\n",
              "      <td>2</td>\n",
              "    </tr>\n",
              "    <tr>\n",
              "      <th>2</th>\n",
              "      <td>8.0</td>\n",
              "      <td>1.0</td>\n",
              "      <td>2</td>\n",
              "    </tr>\n",
              "    <tr>\n",
              "      <th>3</th>\n",
              "      <td>13.0</td>\n",
              "      <td>1.0</td>\n",
              "      <td>2</td>\n",
              "    </tr>\n",
              "    <tr>\n",
              "      <th>4</th>\n",
              "      <td>15.0</td>\n",
              "      <td>1.0</td>\n",
              "      <td>2</td>\n",
              "    </tr>\n",
              "    <tr>\n",
              "      <th>...</th>\n",
              "      <td>...</td>\n",
              "      <td>...</td>\n",
              "      <td>...</td>\n",
              "    </tr>\n",
              "    <tr>\n",
              "      <th>14770</th>\n",
              "      <td>38854.0</td>\n",
              "      <td>1.0</td>\n",
              "      <td>2</td>\n",
              "    </tr>\n",
              "    <tr>\n",
              "      <th>14771</th>\n",
              "      <td>38855.0</td>\n",
              "      <td>1.0</td>\n",
              "      <td>1</td>\n",
              "    </tr>\n",
              "    <tr>\n",
              "      <th>14772</th>\n",
              "      <td>38863.0</td>\n",
              "      <td>1.0</td>\n",
              "      <td>2</td>\n",
              "    </tr>\n",
              "    <tr>\n",
              "      <th>14773</th>\n",
              "      <td>38869.0</td>\n",
              "      <td>1.0</td>\n",
              "      <td>1</td>\n",
              "    </tr>\n",
              "    <tr>\n",
              "      <th>14774</th>\n",
              "      <td>38871.0</td>\n",
              "      <td>1.0</td>\n",
              "      <td>10</td>\n",
              "    </tr>\n",
              "  </tbody>\n",
              "</table>\n",
              "<p>14775 rows × 3 columns</p>\n",
              "</div>"
            ],
            "text/plain": [
              "       game_id  player  attack_enemy_camp_1\n",
              "0          3.0     1.0                    1\n",
              "1          7.0     1.0                    2\n",
              "2          8.0     1.0                    2\n",
              "3         13.0     1.0                    2\n",
              "4         15.0     1.0                    2\n",
              "...        ...     ...                  ...\n",
              "14770  38854.0     1.0                    2\n",
              "14771  38855.0     1.0                    1\n",
              "14772  38863.0     1.0                    2\n",
              "14773  38869.0     1.0                    1\n",
              "14774  38871.0     1.0                   10\n",
              "\n",
              "[14775 rows x 3 columns]"
            ]
          },
          "metadata": {
            "tags": []
          },
          "execution_count": 43
        }
      ]
    },
    {
      "cell_type": "markdown",
      "metadata": {
        "id": "wMtJ8MvjJivy",
        "colab_type": "text"
      },
      "source": [
        "#### Final merge"
      ]
    },
    {
      "cell_type": "code",
      "metadata": {
        "id": "UO6FZXR4JleK",
        "colab_type": "code",
        "colab": {}
      },
      "source": [
        "final_merge = final_merge.merge(player_0_30[['game_id','attack_enemy_camp_0']],on='game_id',how='left')\\\n",
        ".merge(player_1_30[['game_id','attack_enemy_camp_1']],on='game_id',how='left')"
      ],
      "execution_count": 0,
      "outputs": []
    },
    {
      "cell_type": "code",
      "metadata": {
        "id": "OmFbnccNLaS7",
        "colab_type": "code",
        "colab": {
          "base_uri": "https://localhost:8080/",
          "height": 402
        },
        "outputId": "d1def704-e52d-4738-f2fe-8f3d0f4a259c"
      },
      "source": [
        "final_merge"
      ],
      "execution_count": 45,
      "outputs": [
        {
          "output_type": "execute_result",
          "data": {
            "text/html": [
              "<div>\n",
              "<style scoped>\n",
              "    .dataframe tbody tr th:only-of-type {\n",
              "        vertical-align: middle;\n",
              "    }\n",
              "\n",
              "    .dataframe tbody tr th {\n",
              "        vertical-align: top;\n",
              "    }\n",
              "\n",
              "    .dataframe thead th {\n",
              "        text-align: right;\n",
              "    }\n",
              "</style>\n",
              "<table border=\"1\" class=\"dataframe\">\n",
              "  <thead>\n",
              "    <tr style=\"text-align: right;\">\n",
              "      <th></th>\n",
              "      <th>game_id</th>\n",
              "      <th>0_자원공격</th>\n",
              "      <th>1_자원공격</th>\n",
              "      <th>Attack_worker_0</th>\n",
              "      <th>Attack_worker_1</th>\n",
              "      <th>attack_enemy_camp_0</th>\n",
              "      <th>attack_enemy_camp_1</th>\n",
              "    </tr>\n",
              "  </thead>\n",
              "  <tbody>\n",
              "    <tr>\n",
              "      <th>0</th>\n",
              "      <td>0.0</td>\n",
              "      <td>NaN</td>\n",
              "      <td>NaN</td>\n",
              "      <td>0.0</td>\n",
              "      <td>0.0</td>\n",
              "      <td>NaN</td>\n",
              "      <td>NaN</td>\n",
              "    </tr>\n",
              "    <tr>\n",
              "      <th>1</th>\n",
              "      <td>1.0</td>\n",
              "      <td>NaN</td>\n",
              "      <td>NaN</td>\n",
              "      <td>1.0</td>\n",
              "      <td>2.0</td>\n",
              "      <td>NaN</td>\n",
              "      <td>NaN</td>\n",
              "    </tr>\n",
              "    <tr>\n",
              "      <th>2</th>\n",
              "      <td>2.0</td>\n",
              "      <td>NaN</td>\n",
              "      <td>1.0</td>\n",
              "      <td>0.0</td>\n",
              "      <td>0.0</td>\n",
              "      <td>NaN</td>\n",
              "      <td>NaN</td>\n",
              "    </tr>\n",
              "    <tr>\n",
              "      <th>3</th>\n",
              "      <td>3.0</td>\n",
              "      <td>1.0</td>\n",
              "      <td>1.0</td>\n",
              "      <td>7.0</td>\n",
              "      <td>0.0</td>\n",
              "      <td>2.0</td>\n",
              "      <td>1.0</td>\n",
              "    </tr>\n",
              "    <tr>\n",
              "      <th>4</th>\n",
              "      <td>4.0</td>\n",
              "      <td>1.0</td>\n",
              "      <td>NaN</td>\n",
              "      <td>0.0</td>\n",
              "      <td>0.0</td>\n",
              "      <td>NaN</td>\n",
              "      <td>NaN</td>\n",
              "    </tr>\n",
              "    <tr>\n",
              "      <th>...</th>\n",
              "      <td>...</td>\n",
              "      <td>...</td>\n",
              "      <td>...</td>\n",
              "      <td>...</td>\n",
              "      <td>...</td>\n",
              "      <td>...</td>\n",
              "      <td>...</td>\n",
              "    </tr>\n",
              "    <tr>\n",
              "      <th>38878</th>\n",
              "      <td>38867.0</td>\n",
              "      <td>1.0</td>\n",
              "      <td>NaN</td>\n",
              "      <td>0.0</td>\n",
              "      <td>1.0</td>\n",
              "      <td>1.0</td>\n",
              "      <td>NaN</td>\n",
              "    </tr>\n",
              "    <tr>\n",
              "      <th>38879</th>\n",
              "      <td>38868.0</td>\n",
              "      <td>NaN</td>\n",
              "      <td>NaN</td>\n",
              "      <td>9.0</td>\n",
              "      <td>1.0</td>\n",
              "      <td>8.0</td>\n",
              "      <td>NaN</td>\n",
              "    </tr>\n",
              "    <tr>\n",
              "      <th>38880</th>\n",
              "      <td>38869.0</td>\n",
              "      <td>NaN</td>\n",
              "      <td>1.0</td>\n",
              "      <td>3.0</td>\n",
              "      <td>1.0</td>\n",
              "      <td>NaN</td>\n",
              "      <td>1.0</td>\n",
              "    </tr>\n",
              "    <tr>\n",
              "      <th>38881</th>\n",
              "      <td>38870.0</td>\n",
              "      <td>NaN</td>\n",
              "      <td>NaN</td>\n",
              "      <td>0.0</td>\n",
              "      <td>0.0</td>\n",
              "      <td>NaN</td>\n",
              "      <td>NaN</td>\n",
              "    </tr>\n",
              "    <tr>\n",
              "      <th>38882</th>\n",
              "      <td>38871.0</td>\n",
              "      <td>NaN</td>\n",
              "      <td>NaN</td>\n",
              "      <td>0.0</td>\n",
              "      <td>13.0</td>\n",
              "      <td>NaN</td>\n",
              "      <td>10.0</td>\n",
              "    </tr>\n",
              "  </tbody>\n",
              "</table>\n",
              "<p>38883 rows × 7 columns</p>\n",
              "</div>"
            ],
            "text/plain": [
              "       game_id  0_자원공격  ...  attack_enemy_camp_0  attack_enemy_camp_1\n",
              "0          0.0     NaN  ...                  NaN                  NaN\n",
              "1          1.0     NaN  ...                  NaN                  NaN\n",
              "2          2.0     NaN  ...                  NaN                  NaN\n",
              "3          3.0     1.0  ...                  2.0                  1.0\n",
              "4          4.0     1.0  ...                  NaN                  NaN\n",
              "...        ...     ...  ...                  ...                  ...\n",
              "38878  38867.0     1.0  ...                  1.0                  NaN\n",
              "38879  38868.0     NaN  ...                  8.0                  NaN\n",
              "38880  38869.0     NaN  ...                  NaN                  1.0\n",
              "38881  38870.0     NaN  ...                  NaN                  NaN\n",
              "38882  38871.0     NaN  ...                  NaN                 10.0\n",
              "\n",
              "[38883 rows x 7 columns]"
            ]
          },
          "metadata": {
            "tags": []
          },
          "execution_count": 45
        }
      ]
    },
    {
      "cell_type": "markdown",
      "metadata": {
        "id": "lzbx4kf5MD1F",
        "colab_type": "text"
      },
      "source": [
        "## Session :4 \n",
        "- 상대 진영으로 렐리 추출 ('SetRallyPoint')"
      ]
    },
    {
      "cell_type": "code",
      "metadata": {
        "id": "3xyRdd2EP1Up",
        "colab_type": "code",
        "colab": {}
      },
      "source": [
        "attack_4 = train[(train['event']==2)|\n",
        "                 (train['event']==3)]"
      ],
      "execution_count": 0,
      "outputs": []
    },
    {
      "cell_type": "markdown",
      "metadata": {
        "id": "TXYvkwuKNixf",
        "colab_type": "text"
      },
      "source": [
        "### event 2"
      ]
    },
    {
      "cell_type": "code",
      "metadata": {
        "id": "lxYQoBVYP0Ri",
        "colab_type": "code",
        "colab": {
          "base_uri": "https://localhost:8080/",
          "height": 195
        },
        "outputId": "b0bd4d2a-89c8-4bdc-e001-f4d2353183c5"
      },
      "source": [
        "event_2=attack_4[attack_4['event']==2]\n",
        "event_2 = event_2[event_2['event_contents_x'].str.contains('SetRallyPoint')==True]\n",
        "\n",
        "event_2['target_location_x'] = event_2['event_contents_x'].apply(lambda x:float(x.split('Location:')[1][2:-8].split(',')[0]))\n",
        "event_2['target_location_y'] = event_2['event_contents_x'].apply(lambda x:float(x.split('Location:')[1][2:-8].split(',')[1]))\n",
        "event_2['enemy_camp_x']= event_2['event_contents_y'].apply(lambda x:float(x[4:-1].split(',')[0]))\n",
        "event_2['enemy_camp_y']= event_2['event_contents_y'].apply(lambda x:float(x[4:-1].split(',')[1]))\n",
        "\n",
        "event_2.drop(['event_contents_x','event_contents_y'],axis=1,inplace=True)\n",
        "\n",
        "event_2.head()"
      ],
      "execution_count": 70,
      "outputs": [
        {
          "output_type": "execute_result",
          "data": {
            "text/html": [
              "<div>\n",
              "<style scoped>\n",
              "    .dataframe tbody tr th:only-of-type {\n",
              "        vertical-align: middle;\n",
              "    }\n",
              "\n",
              "    .dataframe tbody tr th {\n",
              "        vertical-align: top;\n",
              "    }\n",
              "\n",
              "    .dataframe thead th {\n",
              "        text-align: right;\n",
              "    }\n",
              "</style>\n",
              "<table border=\"1\" class=\"dataframe\">\n",
              "  <thead>\n",
              "    <tr style=\"text-align: right;\">\n",
              "      <th></th>\n",
              "      <th>game_id</th>\n",
              "      <th>winner</th>\n",
              "      <th>time</th>\n",
              "      <th>player</th>\n",
              "      <th>species</th>\n",
              "      <th>event</th>\n",
              "      <th>session</th>\n",
              "      <th>target_location_x</th>\n",
              "      <th>target_location_y</th>\n",
              "      <th>enemy_camp_x</th>\n",
              "      <th>enemy_camp_y</th>\n",
              "    </tr>\n",
              "  </thead>\n",
              "  <tbody>\n",
              "    <tr>\n",
              "      <th>46869</th>\n",
              "      <td>26.0</td>\n",
              "      <td>0.0</td>\n",
              "      <td>1.0</td>\n",
              "      <td>1.0</td>\n",
              "      <td>2.0</td>\n",
              "      <td>2.0</td>\n",
              "      <td>0.0</td>\n",
              "      <td>143.728760</td>\n",
              "      <td>126.338379</td>\n",
              "      <td>31.750000</td>\n",
              "      <td>22.507812</td>\n",
              "    </tr>\n",
              "    <tr>\n",
              "      <th>73499</th>\n",
              "      <td>43.0</td>\n",
              "      <td>0.0</td>\n",
              "      <td>9.0</td>\n",
              "      <td>0.0</td>\n",
              "      <td>1.0</td>\n",
              "      <td>2.0</td>\n",
              "      <td>1.0</td>\n",
              "      <td>146.436035</td>\n",
              "      <td>25.163574</td>\n",
              "      <td>36.746094</td>\n",
              "      <td>122.007812</td>\n",
              "    </tr>\n",
              "    <tr>\n",
              "      <th>90725</th>\n",
              "      <td>56.0</td>\n",
              "      <td>1.0</td>\n",
              "      <td>3.0</td>\n",
              "      <td>1.0</td>\n",
              "      <td>1.0</td>\n",
              "      <td>2.0</td>\n",
              "      <td>0.0</td>\n",
              "      <td>139.794678</td>\n",
              "      <td>55.554688</td>\n",
              "      <td>22.750000</td>\n",
              "      <td>147.007812</td>\n",
              "    </tr>\n",
              "    <tr>\n",
              "      <th>91151</th>\n",
              "      <td>56.0</td>\n",
              "      <td>1.0</td>\n",
              "      <td>8.0</td>\n",
              "      <td>1.0</td>\n",
              "      <td>1.0</td>\n",
              "      <td>2.0</td>\n",
              "      <td>0.0</td>\n",
              "      <td>143.300537</td>\n",
              "      <td>46.161865</td>\n",
              "      <td>22.750000</td>\n",
              "      <td>147.007812</td>\n",
              "    </tr>\n",
              "    <tr>\n",
              "      <th>313627</th>\n",
              "      <td>194.0</td>\n",
              "      <td>0.0</td>\n",
              "      <td>2.0</td>\n",
              "      <td>1.0</td>\n",
              "      <td>1.0</td>\n",
              "      <td>2.0</td>\n",
              "      <td>0.0</td>\n",
              "      <td>47.494873</td>\n",
              "      <td>119.716309</td>\n",
              "      <td>163.250000</td>\n",
              "      <td>18.507812</td>\n",
              "    </tr>\n",
              "  </tbody>\n",
              "</table>\n",
              "</div>"
            ],
            "text/plain": [
              "        game_id  winner  time  ...  target_location_y  enemy_camp_x  enemy_camp_y\n",
              "46869      26.0     0.0   1.0  ...         126.338379     31.750000     22.507812\n",
              "73499      43.0     0.0   9.0  ...          25.163574     36.746094    122.007812\n",
              "90725      56.0     1.0   3.0  ...          55.554688     22.750000    147.007812\n",
              "91151      56.0     1.0   8.0  ...          46.161865     22.750000    147.007812\n",
              "313627    194.0     0.0   2.0  ...         119.716309    163.250000     18.507812\n",
              "\n",
              "[5 rows x 11 columns]"
            ]
          },
          "metadata": {
            "tags": []
          },
          "execution_count": 70
        }
      ]
    },
    {
      "cell_type": "markdown",
      "metadata": {
        "id": "mL28CSusPpsX",
        "colab_type": "text"
      },
      "source": [
        "#### player 0"
      ]
    },
    {
      "cell_type": "code",
      "metadata": {
        "id": "iLgNUV0vPrSs",
        "colab_type": "code",
        "colab": {}
      },
      "source": [
        "player_0 = event_2[event_2['player']==0]"
      ],
      "execution_count": 0,
      "outputs": []
    },
    {
      "cell_type": "code",
      "metadata": {
        "id": "7OV_qFS_Q2Ph",
        "colab_type": "code",
        "colab": {
          "base_uri": "https://localhost:8080/",
          "height": 507
        },
        "outputId": "d90da72a-7b57-426d-9490-b01b7b93fc60"
      },
      "source": [
        "# 유클리디안 거리 30이하\n",
        "player_0['Euclid'] = np.sqrt((player_0['enemy_camp_x']- player_0['target_location_x'])**2+\\\n",
        "                             (player_0['enemy_camp_y']- player_0['target_location_y'])**2)\n",
        "\n",
        "player_0_30 = player_0[player_0['Euclid']<30]\n",
        "player_0_30\n",
        "player_0_30=player_0_30.groupby('game_id')['player'].value_counts().reset_index(name='event2_Rally_enemy_camp_0')\n",
        "player_0_30"
      ],
      "execution_count": 72,
      "outputs": [
        {
          "output_type": "stream",
          "text": [
            "/usr/local/lib/python3.6/dist-packages/ipykernel_launcher.py:1: SettingWithCopyWarning: \n",
            "A value is trying to be set on a copy of a slice from a DataFrame.\n",
            "Try using .loc[row_indexer,col_indexer] = value instead\n",
            "\n",
            "See the caveats in the documentation: http://pandas.pydata.org/pandas-docs/stable/user_guide/indexing.html#returning-a-view-versus-a-copy\n",
            "  \"\"\"Entry point for launching an IPython kernel.\n"
          ],
          "name": "stderr"
        },
        {
          "output_type": "execute_result",
          "data": {
            "text/html": [
              "<div>\n",
              "<style scoped>\n",
              "    .dataframe tbody tr th:only-of-type {\n",
              "        vertical-align: middle;\n",
              "    }\n",
              "\n",
              "    .dataframe tbody tr th {\n",
              "        vertical-align: top;\n",
              "    }\n",
              "\n",
              "    .dataframe thead th {\n",
              "        text-align: right;\n",
              "    }\n",
              "</style>\n",
              "<table border=\"1\" class=\"dataframe\">\n",
              "  <thead>\n",
              "    <tr style=\"text-align: right;\">\n",
              "      <th></th>\n",
              "      <th>game_id</th>\n",
              "      <th>player</th>\n",
              "      <th>event2_Rally_enemy_camp_0</th>\n",
              "    </tr>\n",
              "  </thead>\n",
              "  <tbody>\n",
              "    <tr>\n",
              "      <th>0</th>\n",
              "      <td>1996.0</td>\n",
              "      <td>0.0</td>\n",
              "      <td>1</td>\n",
              "    </tr>\n",
              "    <tr>\n",
              "      <th>1</th>\n",
              "      <td>2902.0</td>\n",
              "      <td>0.0</td>\n",
              "      <td>1</td>\n",
              "    </tr>\n",
              "    <tr>\n",
              "      <th>2</th>\n",
              "      <td>2960.0</td>\n",
              "      <td>0.0</td>\n",
              "      <td>1</td>\n",
              "    </tr>\n",
              "    <tr>\n",
              "      <th>3</th>\n",
              "      <td>3224.0</td>\n",
              "      <td>0.0</td>\n",
              "      <td>1</td>\n",
              "    </tr>\n",
              "    <tr>\n",
              "      <th>4</th>\n",
              "      <td>3621.0</td>\n",
              "      <td>0.0</td>\n",
              "      <td>1</td>\n",
              "    </tr>\n",
              "    <tr>\n",
              "      <th>...</th>\n",
              "      <td>...</td>\n",
              "      <td>...</td>\n",
              "      <td>...</td>\n",
              "    </tr>\n",
              "    <tr>\n",
              "      <th>61</th>\n",
              "      <td>36944.0</td>\n",
              "      <td>0.0</td>\n",
              "      <td>2</td>\n",
              "    </tr>\n",
              "    <tr>\n",
              "      <th>62</th>\n",
              "      <td>37100.0</td>\n",
              "      <td>0.0</td>\n",
              "      <td>1</td>\n",
              "    </tr>\n",
              "    <tr>\n",
              "      <th>63</th>\n",
              "      <td>37258.0</td>\n",
              "      <td>0.0</td>\n",
              "      <td>1</td>\n",
              "    </tr>\n",
              "    <tr>\n",
              "      <th>64</th>\n",
              "      <td>37808.0</td>\n",
              "      <td>0.0</td>\n",
              "      <td>1</td>\n",
              "    </tr>\n",
              "    <tr>\n",
              "      <th>65</th>\n",
              "      <td>38255.0</td>\n",
              "      <td>0.0</td>\n",
              "      <td>1</td>\n",
              "    </tr>\n",
              "  </tbody>\n",
              "</table>\n",
              "<p>66 rows × 3 columns</p>\n",
              "</div>"
            ],
            "text/plain": [
              "    game_id  player  event2_Rally_enemy_camp_0\n",
              "0    1996.0     0.0                          1\n",
              "1    2902.0     0.0                          1\n",
              "2    2960.0     0.0                          1\n",
              "3    3224.0     0.0                          1\n",
              "4    3621.0     0.0                          1\n",
              "..      ...     ...                        ...\n",
              "61  36944.0     0.0                          2\n",
              "62  37100.0     0.0                          1\n",
              "63  37258.0     0.0                          1\n",
              "64  37808.0     0.0                          1\n",
              "65  38255.0     0.0                          1\n",
              "\n",
              "[66 rows x 3 columns]"
            ]
          },
          "metadata": {
            "tags": []
          },
          "execution_count": 72
        }
      ]
    },
    {
      "cell_type": "markdown",
      "metadata": {
        "id": "zTEa-2yzUPxZ",
        "colab_type": "text"
      },
      "source": [
        "#### player 1"
      ]
    },
    {
      "cell_type": "code",
      "metadata": {
        "id": "tf086bEjUSpR",
        "colab_type": "code",
        "colab": {}
      },
      "source": [
        "player_1 = event_2[event_2['player']==1]"
      ],
      "execution_count": 0,
      "outputs": []
    },
    {
      "cell_type": "code",
      "metadata": {
        "id": "dU6Ske6HVW6C",
        "colab_type": "code",
        "colab": {
          "base_uri": "https://localhost:8080/",
          "height": 507
        },
        "outputId": "afb304dd-0321-47ed-c47a-c35ff5c677bf"
      },
      "source": [
        "# 유클리디안 거리 30이하\n",
        "player_1['Euclid'] = np.sqrt((player_1['enemy_camp_x']- player_1['target_location_x'])**2+\\\n",
        "                             (player_1['enemy_camp_y']- player_1['target_location_y'])**2)\n",
        "\n",
        "player_1_30 = player_1[player_1['Euclid']<30]\n",
        "player_1_30\n",
        "player_1_30=player_1_30.groupby('game_id')['player'].value_counts().reset_index(name='event2_Rally_enemy_camp_1')\n",
        "player_1_30"
      ],
      "execution_count": 76,
      "outputs": [
        {
          "output_type": "stream",
          "text": [
            "/usr/local/lib/python3.6/dist-packages/ipykernel_launcher.py:1: SettingWithCopyWarning: \n",
            "A value is trying to be set on a copy of a slice from a DataFrame.\n",
            "Try using .loc[row_indexer,col_indexer] = value instead\n",
            "\n",
            "See the caveats in the documentation: http://pandas.pydata.org/pandas-docs/stable/user_guide/indexing.html#returning-a-view-versus-a-copy\n",
            "  \"\"\"Entry point for launching an IPython kernel.\n"
          ],
          "name": "stderr"
        },
        {
          "output_type": "execute_result",
          "data": {
            "text/html": [
              "<div>\n",
              "<style scoped>\n",
              "    .dataframe tbody tr th:only-of-type {\n",
              "        vertical-align: middle;\n",
              "    }\n",
              "\n",
              "    .dataframe tbody tr th {\n",
              "        vertical-align: top;\n",
              "    }\n",
              "\n",
              "    .dataframe thead th {\n",
              "        text-align: right;\n",
              "    }\n",
              "</style>\n",
              "<table border=\"1\" class=\"dataframe\">\n",
              "  <thead>\n",
              "    <tr style=\"text-align: right;\">\n",
              "      <th></th>\n",
              "      <th>game_id</th>\n",
              "      <th>player</th>\n",
              "      <th>event2_Rally_enemy_camp_1</th>\n",
              "    </tr>\n",
              "  </thead>\n",
              "  <tbody>\n",
              "    <tr>\n",
              "      <th>0</th>\n",
              "      <td>650.0</td>\n",
              "      <td>1.0</td>\n",
              "      <td>2</td>\n",
              "    </tr>\n",
              "    <tr>\n",
              "      <th>1</th>\n",
              "      <td>1227.0</td>\n",
              "      <td>1.0</td>\n",
              "      <td>1</td>\n",
              "    </tr>\n",
              "    <tr>\n",
              "      <th>2</th>\n",
              "      <td>1303.0</td>\n",
              "      <td>1.0</td>\n",
              "      <td>1</td>\n",
              "    </tr>\n",
              "    <tr>\n",
              "      <th>3</th>\n",
              "      <td>1506.0</td>\n",
              "      <td>1.0</td>\n",
              "      <td>1</td>\n",
              "    </tr>\n",
              "    <tr>\n",
              "      <th>4</th>\n",
              "      <td>1618.0</td>\n",
              "      <td>1.0</td>\n",
              "      <td>1</td>\n",
              "    </tr>\n",
              "    <tr>\n",
              "      <th>...</th>\n",
              "      <td>...</td>\n",
              "      <td>...</td>\n",
              "      <td>...</td>\n",
              "    </tr>\n",
              "    <tr>\n",
              "      <th>82</th>\n",
              "      <td>37700.0</td>\n",
              "      <td>1.0</td>\n",
              "      <td>1</td>\n",
              "    </tr>\n",
              "    <tr>\n",
              "      <th>83</th>\n",
              "      <td>38423.0</td>\n",
              "      <td>1.0</td>\n",
              "      <td>2</td>\n",
              "    </tr>\n",
              "    <tr>\n",
              "      <th>84</th>\n",
              "      <td>38527.0</td>\n",
              "      <td>1.0</td>\n",
              "      <td>1</td>\n",
              "    </tr>\n",
              "    <tr>\n",
              "      <th>85</th>\n",
              "      <td>38686.0</td>\n",
              "      <td>1.0</td>\n",
              "      <td>1</td>\n",
              "    </tr>\n",
              "    <tr>\n",
              "      <th>86</th>\n",
              "      <td>38794.0</td>\n",
              "      <td>1.0</td>\n",
              "      <td>1</td>\n",
              "    </tr>\n",
              "  </tbody>\n",
              "</table>\n",
              "<p>87 rows × 3 columns</p>\n",
              "</div>"
            ],
            "text/plain": [
              "    game_id  player  event2_Rally_enemy_camp_1\n",
              "0     650.0     1.0                          2\n",
              "1    1227.0     1.0                          1\n",
              "2    1303.0     1.0                          1\n",
              "3    1506.0     1.0                          1\n",
              "4    1618.0     1.0                          1\n",
              "..      ...     ...                        ...\n",
              "82  37700.0     1.0                          1\n",
              "83  38423.0     1.0                          2\n",
              "84  38527.0     1.0                          1\n",
              "85  38686.0     1.0                          1\n",
              "86  38794.0     1.0                          1\n",
              "\n",
              "[87 rows x 3 columns]"
            ]
          },
          "metadata": {
            "tags": []
          },
          "execution_count": 76
        }
      ]
    },
    {
      "cell_type": "markdown",
      "metadata": {
        "id": "-xdiAU6ReuqP",
        "colab_type": "text"
      },
      "source": [
        "####  Merge"
      ]
    },
    {
      "cell_type": "code",
      "metadata": {
        "id": "08rEvoDKew2f",
        "colab_type": "code",
        "colab": {
          "base_uri": "https://localhost:8080/",
          "height": 195
        },
        "outputId": "a3cc4717-be75-4462-832c-a7a5e4bf86a4"
      },
      "source": [
        "final_merge= final_merge.merge(player_0_30[['game_id','event2_Rally_enemy_camp_0']],on='game_id',how='left')\\\n",
        ".merge(player_1_30[['game_id','event2_Rally_enemy_camp_1']],on='game_id',how='left')\n",
        "\n",
        "final_merge[['event2_Rally_enemy_camp_0','event2_Rally_enemy_camp_1']] = \\\n",
        "final_merge[['event2_Rally_enemy_camp_0','event2_Rally_enemy_camp_1']].fillna(0)\n",
        "\n",
        "final_merge.head()"
      ],
      "execution_count": 80,
      "outputs": [
        {
          "output_type": "execute_result",
          "data": {
            "text/html": [
              "<div>\n",
              "<style scoped>\n",
              "    .dataframe tbody tr th:only-of-type {\n",
              "        vertical-align: middle;\n",
              "    }\n",
              "\n",
              "    .dataframe tbody tr th {\n",
              "        vertical-align: top;\n",
              "    }\n",
              "\n",
              "    .dataframe thead th {\n",
              "        text-align: right;\n",
              "    }\n",
              "</style>\n",
              "<table border=\"1\" class=\"dataframe\">\n",
              "  <thead>\n",
              "    <tr style=\"text-align: right;\">\n",
              "      <th></th>\n",
              "      <th>game_id</th>\n",
              "      <th>0_자원공격</th>\n",
              "      <th>1_자원공격</th>\n",
              "      <th>Attack_worker_0</th>\n",
              "      <th>Attack_worker_1</th>\n",
              "      <th>attack_enemy_camp_0</th>\n",
              "      <th>attack_enemy_camp_1</th>\n",
              "      <th>event2_Rally_enemy_camp_0</th>\n",
              "      <th>event2_Rally_enemy_camp_1</th>\n",
              "    </tr>\n",
              "  </thead>\n",
              "  <tbody>\n",
              "    <tr>\n",
              "      <th>0</th>\n",
              "      <td>0.0</td>\n",
              "      <td>NaN</td>\n",
              "      <td>NaN</td>\n",
              "      <td>0.0</td>\n",
              "      <td>0.0</td>\n",
              "      <td>NaN</td>\n",
              "      <td>NaN</td>\n",
              "      <td>0.0</td>\n",
              "      <td>0.0</td>\n",
              "    </tr>\n",
              "    <tr>\n",
              "      <th>1</th>\n",
              "      <td>1.0</td>\n",
              "      <td>NaN</td>\n",
              "      <td>NaN</td>\n",
              "      <td>1.0</td>\n",
              "      <td>2.0</td>\n",
              "      <td>NaN</td>\n",
              "      <td>NaN</td>\n",
              "      <td>0.0</td>\n",
              "      <td>0.0</td>\n",
              "    </tr>\n",
              "    <tr>\n",
              "      <th>2</th>\n",
              "      <td>2.0</td>\n",
              "      <td>NaN</td>\n",
              "      <td>1.0</td>\n",
              "      <td>0.0</td>\n",
              "      <td>0.0</td>\n",
              "      <td>NaN</td>\n",
              "      <td>NaN</td>\n",
              "      <td>0.0</td>\n",
              "      <td>0.0</td>\n",
              "    </tr>\n",
              "    <tr>\n",
              "      <th>3</th>\n",
              "      <td>3.0</td>\n",
              "      <td>1.0</td>\n",
              "      <td>1.0</td>\n",
              "      <td>7.0</td>\n",
              "      <td>0.0</td>\n",
              "      <td>2.0</td>\n",
              "      <td>1.0</td>\n",
              "      <td>0.0</td>\n",
              "      <td>0.0</td>\n",
              "    </tr>\n",
              "    <tr>\n",
              "      <th>4</th>\n",
              "      <td>4.0</td>\n",
              "      <td>1.0</td>\n",
              "      <td>NaN</td>\n",
              "      <td>0.0</td>\n",
              "      <td>0.0</td>\n",
              "      <td>NaN</td>\n",
              "      <td>NaN</td>\n",
              "      <td>0.0</td>\n",
              "      <td>0.0</td>\n",
              "    </tr>\n",
              "  </tbody>\n",
              "</table>\n",
              "</div>"
            ],
            "text/plain": [
              "   game_id  0_자원공격  ...  event2_Rally_enemy_camp_0  event2_Rally_enemy_camp_1\n",
              "0      0.0     NaN  ...                        0.0                        0.0\n",
              "1      1.0     NaN  ...                        0.0                        0.0\n",
              "2      2.0     NaN  ...                        0.0                        0.0\n",
              "3      3.0     1.0  ...                        0.0                        0.0\n",
              "4      4.0     1.0  ...                        0.0                        0.0\n",
              "\n",
              "[5 rows x 9 columns]"
            ]
          },
          "metadata": {
            "tags": []
          },
          "execution_count": 80
        }
      ]
    },
    {
      "cell_type": "markdown",
      "metadata": {
        "id": "5dFfNDsZVlz2",
        "colab_type": "text"
      },
      "source": [
        "### event 3\n",
        "- RallyPoint와 단순 Move의 구분점을 찾기가 힘듬."
      ]
    },
    {
      "cell_type": "code",
      "metadata": {
        "id": "2ciuFltfVmoV",
        "colab_type": "code",
        "colab": {
          "base_uri": "https://localhost:8080/",
          "height": 195
        },
        "outputId": "e239af28-63a9-4490-eade-75420521c0be"
      },
      "source": [
        "event_3=attack_4[attack_4['event']==3]\n",
        "event_3= event_3[event_3['event_contents_x'].str.contains('Target:')==False]\n",
        "\n",
        "event_3['target_location_x'] = event_3['event_contents_x'].apply(lambda x:float(x.split('Location:')[1][2:-8].split(',')[0]))\n",
        "event_3['target_location_y'] = event_3['event_contents_x'].apply(lambda x:float(x.split('Location:')[1][2:-8].split(',')[1]))\n",
        "event_3['enemy_camp_x']= event_3['event_contents_y'].apply(lambda x:float(x[4:-1].split(',')[0]))\n",
        "event_3['enemy_camp_y']= event_3['event_contents_y'].apply(lambda x:float(x[4:-1].split(',')[1]))\n",
        "\n",
        "event_3.drop(['event_contents_x','event_contents_y'],axis=1,inplace=True)\n",
        "\n",
        "event_3.head()"
      ],
      "execution_count": 81,
      "outputs": [
        {
          "output_type": "execute_result",
          "data": {
            "text/html": [
              "<div>\n",
              "<style scoped>\n",
              "    .dataframe tbody tr th:only-of-type {\n",
              "        vertical-align: middle;\n",
              "    }\n",
              "\n",
              "    .dataframe tbody tr th {\n",
              "        vertical-align: top;\n",
              "    }\n",
              "\n",
              "    .dataframe thead th {\n",
              "        text-align: right;\n",
              "    }\n",
              "</style>\n",
              "<table border=\"1\" class=\"dataframe\">\n",
              "  <thead>\n",
              "    <tr style=\"text-align: right;\">\n",
              "      <th></th>\n",
              "      <th>game_id</th>\n",
              "      <th>winner</th>\n",
              "      <th>time</th>\n",
              "      <th>player</th>\n",
              "      <th>species</th>\n",
              "      <th>event</th>\n",
              "      <th>session</th>\n",
              "      <th>target_location_x</th>\n",
              "      <th>target_location_y</th>\n",
              "      <th>enemy_camp_x</th>\n",
              "      <th>enemy_camp_y</th>\n",
              "    </tr>\n",
              "  </thead>\n",
              "  <tbody>\n",
              "    <tr>\n",
              "      <th>16</th>\n",
              "      <td>0.0</td>\n",
              "      <td>1.0</td>\n",
              "      <td>0.0</td>\n",
              "      <td>0.0</td>\n",
              "      <td>0.0</td>\n",
              "      <td>3.0</td>\n",
              "      <td>0.0</td>\n",
              "      <td>136.375977</td>\n",
              "      <td>41.119629</td>\n",
              "      <td>22.75</td>\n",
              "      <td>147.007812</td>\n",
              "    </tr>\n",
              "    <tr>\n",
              "      <th>17</th>\n",
              "      <td>0.0</td>\n",
              "      <td>1.0</td>\n",
              "      <td>0.0</td>\n",
              "      <td>0.0</td>\n",
              "      <td>0.0</td>\n",
              "      <td>3.0</td>\n",
              "      <td>0.0</td>\n",
              "      <td>136.033936</td>\n",
              "      <td>41.735107</td>\n",
              "      <td>22.75</td>\n",
              "      <td>147.007812</td>\n",
              "    </tr>\n",
              "    <tr>\n",
              "      <th>76</th>\n",
              "      <td>0.0</td>\n",
              "      <td>1.0</td>\n",
              "      <td>1.0</td>\n",
              "      <td>0.0</td>\n",
              "      <td>0.0</td>\n",
              "      <td>3.0</td>\n",
              "      <td>0.0</td>\n",
              "      <td>32.222900</td>\n",
              "      <td>153.720703</td>\n",
              "      <td>22.75</td>\n",
              "      <td>147.007812</td>\n",
              "    </tr>\n",
              "    <tr>\n",
              "      <th>77</th>\n",
              "      <td>0.0</td>\n",
              "      <td>1.0</td>\n",
              "      <td>1.0</td>\n",
              "      <td>0.0</td>\n",
              "      <td>0.0</td>\n",
              "      <td>3.0</td>\n",
              "      <td>0.0</td>\n",
              "      <td>29.195068</td>\n",
              "      <td>143.441650</td>\n",
              "      <td>22.75</td>\n",
              "      <td>147.007812</td>\n",
              "    </tr>\n",
              "    <tr>\n",
              "      <th>78</th>\n",
              "      <td>0.0</td>\n",
              "      <td>1.0</td>\n",
              "      <td>1.0</td>\n",
              "      <td>0.0</td>\n",
              "      <td>0.0</td>\n",
              "      <td>3.0</td>\n",
              "      <td>0.0</td>\n",
              "      <td>29.195068</td>\n",
              "      <td>129.534668</td>\n",
              "      <td>22.75</td>\n",
              "      <td>147.007812</td>\n",
              "    </tr>\n",
              "  </tbody>\n",
              "</table>\n",
              "</div>"
            ],
            "text/plain": [
              "    game_id  winner  time  ...  target_location_y  enemy_camp_x  enemy_camp_y\n",
              "16      0.0     1.0   0.0  ...          41.119629         22.75    147.007812\n",
              "17      0.0     1.0   0.0  ...          41.735107         22.75    147.007812\n",
              "76      0.0     1.0   1.0  ...         153.720703         22.75    147.007812\n",
              "77      0.0     1.0   1.0  ...         143.441650         22.75    147.007812\n",
              "78      0.0     1.0   1.0  ...         129.534668         22.75    147.007812\n",
              "\n",
              "[5 rows x 11 columns]"
            ]
          },
          "metadata": {
            "tags": []
          },
          "execution_count": 81
        }
      ]
    },
    {
      "cell_type": "markdown",
      "metadata": {
        "id": "6i-S1YaIbZgQ",
        "colab_type": "text"
      },
      "source": [
        "#### player 0"
      ]
    },
    {
      "cell_type": "code",
      "metadata": {
        "id": "bmrR0YuGd46p",
        "colab_type": "code",
        "colab": {}
      },
      "source": [
        "player_0 = event_3[event_3['player']==0]"
      ],
      "execution_count": 0,
      "outputs": []
    },
    {
      "cell_type": "code",
      "metadata": {
        "id": "ZQnCs2NUd9Fe",
        "colab_type": "code",
        "colab": {
          "base_uri": "https://localhost:8080/",
          "height": 507
        },
        "outputId": "e0102e91-1799-4489-dfce-20e0957f8a61"
      },
      "source": [
        "# 유클리디안 거리 30이하\n",
        "player_0['Euclid'] = np.sqrt((player_0['enemy_camp_x']- player_0['target_location_x'])**2+\\\n",
        "                             (player_0['enemy_camp_y']- player_0['target_location_y'])**2)\n",
        "\n",
        "player_0_30 = player_0[player_0['Euclid']<30]\n",
        "player_0_30\n",
        "player_0_30=player_0_30.groupby('game_id')['player'].value_counts().reset_index(name='event3_Rally_enemy_camp_0')\n",
        "player_0_30"
      ],
      "execution_count": 83,
      "outputs": [
        {
          "output_type": "stream",
          "text": [
            "/usr/local/lib/python3.6/dist-packages/ipykernel_launcher.py:1: SettingWithCopyWarning: \n",
            "A value is trying to be set on a copy of a slice from a DataFrame.\n",
            "Try using .loc[row_indexer,col_indexer] = value instead\n",
            "\n",
            "See the caveats in the documentation: http://pandas.pydata.org/pandas-docs/stable/user_guide/indexing.html#returning-a-view-versus-a-copy\n",
            "  \"\"\"Entry point for launching an IPython kernel.\n"
          ],
          "name": "stderr"
        },
        {
          "output_type": "execute_result",
          "data": {
            "text/html": [
              "<div>\n",
              "<style scoped>\n",
              "    .dataframe tbody tr th:only-of-type {\n",
              "        vertical-align: middle;\n",
              "    }\n",
              "\n",
              "    .dataframe tbody tr th {\n",
              "        vertical-align: top;\n",
              "    }\n",
              "\n",
              "    .dataframe thead th {\n",
              "        text-align: right;\n",
              "    }\n",
              "</style>\n",
              "<table border=\"1\" class=\"dataframe\">\n",
              "  <thead>\n",
              "    <tr style=\"text-align: right;\">\n",
              "      <th></th>\n",
              "      <th>game_id</th>\n",
              "      <th>player</th>\n",
              "      <th>event3_Rally_enemy_camp_0</th>\n",
              "    </tr>\n",
              "  </thead>\n",
              "  <tbody>\n",
              "    <tr>\n",
              "      <th>0</th>\n",
              "      <td>0.0</td>\n",
              "      <td>0.0</td>\n",
              "      <td>8</td>\n",
              "    </tr>\n",
              "    <tr>\n",
              "      <th>1</th>\n",
              "      <td>1.0</td>\n",
              "      <td>0.0</td>\n",
              "      <td>5</td>\n",
              "    </tr>\n",
              "    <tr>\n",
              "      <th>2</th>\n",
              "      <td>2.0</td>\n",
              "      <td>0.0</td>\n",
              "      <td>6</td>\n",
              "    </tr>\n",
              "    <tr>\n",
              "      <th>3</th>\n",
              "      <td>3.0</td>\n",
              "      <td>0.0</td>\n",
              "      <td>62</td>\n",
              "    </tr>\n",
              "    <tr>\n",
              "      <th>4</th>\n",
              "      <td>4.0</td>\n",
              "      <td>0.0</td>\n",
              "      <td>30</td>\n",
              "    </tr>\n",
              "    <tr>\n",
              "      <th>...</th>\n",
              "      <td>...</td>\n",
              "      <td>...</td>\n",
              "      <td>...</td>\n",
              "    </tr>\n",
              "    <tr>\n",
              "      <th>32503</th>\n",
              "      <td>38863.0</td>\n",
              "      <td>0.0</td>\n",
              "      <td>12</td>\n",
              "    </tr>\n",
              "    <tr>\n",
              "      <th>32504</th>\n",
              "      <td>38867.0</td>\n",
              "      <td>0.0</td>\n",
              "      <td>51</td>\n",
              "    </tr>\n",
              "    <tr>\n",
              "      <th>32505</th>\n",
              "      <td>38868.0</td>\n",
              "      <td>0.0</td>\n",
              "      <td>102</td>\n",
              "    </tr>\n",
              "    <tr>\n",
              "      <th>32506</th>\n",
              "      <td>38869.0</td>\n",
              "      <td>0.0</td>\n",
              "      <td>36</td>\n",
              "    </tr>\n",
              "    <tr>\n",
              "      <th>32507</th>\n",
              "      <td>38871.0</td>\n",
              "      <td>0.0</td>\n",
              "      <td>10</td>\n",
              "    </tr>\n",
              "  </tbody>\n",
              "</table>\n",
              "<p>32508 rows × 3 columns</p>\n",
              "</div>"
            ],
            "text/plain": [
              "       game_id  player  event3_Rally_enemy_camp_0\n",
              "0          0.0     0.0                          8\n",
              "1          1.0     0.0                          5\n",
              "2          2.0     0.0                          6\n",
              "3          3.0     0.0                         62\n",
              "4          4.0     0.0                         30\n",
              "...        ...     ...                        ...\n",
              "32503  38863.0     0.0                         12\n",
              "32504  38867.0     0.0                         51\n",
              "32505  38868.0     0.0                        102\n",
              "32506  38869.0     0.0                         36\n",
              "32507  38871.0     0.0                         10\n",
              "\n",
              "[32508 rows x 3 columns]"
            ]
          },
          "metadata": {
            "tags": []
          },
          "execution_count": 83
        }
      ]
    },
    {
      "cell_type": "markdown",
      "metadata": {
        "id": "_Isvd2TXfs2I",
        "colab_type": "text"
      },
      "source": [
        "#### player 1"
      ]
    },
    {
      "cell_type": "code",
      "metadata": {
        "id": "WuaHvQb-fu2r",
        "colab_type": "code",
        "colab": {}
      },
      "source": [
        "player_1 = event_3[event_3['player']==1]"
      ],
      "execution_count": 0,
      "outputs": []
    },
    {
      "cell_type": "code",
      "metadata": {
        "id": "IMGeel4Hf1DW",
        "colab_type": "code",
        "colab": {
          "base_uri": "https://localhost:8080/",
          "height": 507
        },
        "outputId": "566c1d63-9a9f-4f46-e1f2-0f86e88dd548"
      },
      "source": [
        "# 유클리디안 거리 30이하\n",
        "player_1['Euclid'] = np.sqrt((player_1['enemy_camp_x']- player_1['target_location_x'])**2+\\\n",
        "                             (player_1['enemy_camp_y']- player_1['target_location_y'])**2)\n",
        "\n",
        "player_1_30 = player_1[player_1['Euclid']<30]\n",
        "player_1_30\n",
        "player_1_30=player_1_30.groupby('game_id')['player'].value_counts().reset_index(name='event3_Rally_enemy_camp_1')\n",
        "player_1_30"
      ],
      "execution_count": 87,
      "outputs": [
        {
          "output_type": "stream",
          "text": [
            "/usr/local/lib/python3.6/dist-packages/ipykernel_launcher.py:1: SettingWithCopyWarning: \n",
            "A value is trying to be set on a copy of a slice from a DataFrame.\n",
            "Try using .loc[row_indexer,col_indexer] = value instead\n",
            "\n",
            "See the caveats in the documentation: http://pandas.pydata.org/pandas-docs/stable/user_guide/indexing.html#returning-a-view-versus-a-copy\n",
            "  \"\"\"Entry point for launching an IPython kernel.\n"
          ],
          "name": "stderr"
        },
        {
          "output_type": "execute_result",
          "data": {
            "text/html": [
              "<div>\n",
              "<style scoped>\n",
              "    .dataframe tbody tr th:only-of-type {\n",
              "        vertical-align: middle;\n",
              "    }\n",
              "\n",
              "    .dataframe tbody tr th {\n",
              "        vertical-align: top;\n",
              "    }\n",
              "\n",
              "    .dataframe thead th {\n",
              "        text-align: right;\n",
              "    }\n",
              "</style>\n",
              "<table border=\"1\" class=\"dataframe\">\n",
              "  <thead>\n",
              "    <tr style=\"text-align: right;\">\n",
              "      <th></th>\n",
              "      <th>game_id</th>\n",
              "      <th>player</th>\n",
              "      <th>event3_Rally_enemy_camp_1</th>\n",
              "    </tr>\n",
              "  </thead>\n",
              "  <tbody>\n",
              "    <tr>\n",
              "      <th>0</th>\n",
              "      <td>1.0</td>\n",
              "      <td>1.0</td>\n",
              "      <td>17</td>\n",
              "    </tr>\n",
              "    <tr>\n",
              "      <th>1</th>\n",
              "      <td>2.0</td>\n",
              "      <td>1.0</td>\n",
              "      <td>14</td>\n",
              "    </tr>\n",
              "    <tr>\n",
              "      <th>2</th>\n",
              "      <td>3.0</td>\n",
              "      <td>1.0</td>\n",
              "      <td>19</td>\n",
              "    </tr>\n",
              "    <tr>\n",
              "      <th>3</th>\n",
              "      <td>4.0</td>\n",
              "      <td>1.0</td>\n",
              "      <td>4</td>\n",
              "    </tr>\n",
              "    <tr>\n",
              "      <th>4</th>\n",
              "      <td>5.0</td>\n",
              "      <td>1.0</td>\n",
              "      <td>8</td>\n",
              "    </tr>\n",
              "    <tr>\n",
              "      <th>...</th>\n",
              "      <td>...</td>\n",
              "      <td>...</td>\n",
              "      <td>...</td>\n",
              "    </tr>\n",
              "    <tr>\n",
              "      <th>32373</th>\n",
              "      <td>38867.0</td>\n",
              "      <td>1.0</td>\n",
              "      <td>7</td>\n",
              "    </tr>\n",
              "    <tr>\n",
              "      <th>32374</th>\n",
              "      <td>38868.0</td>\n",
              "      <td>1.0</td>\n",
              "      <td>2</td>\n",
              "    </tr>\n",
              "    <tr>\n",
              "      <th>32375</th>\n",
              "      <td>38869.0</td>\n",
              "      <td>1.0</td>\n",
              "      <td>25</td>\n",
              "    </tr>\n",
              "    <tr>\n",
              "      <th>32376</th>\n",
              "      <td>38870.0</td>\n",
              "      <td>1.0</td>\n",
              "      <td>15</td>\n",
              "    </tr>\n",
              "    <tr>\n",
              "      <th>32377</th>\n",
              "      <td>38871.0</td>\n",
              "      <td>1.0</td>\n",
              "      <td>62</td>\n",
              "    </tr>\n",
              "  </tbody>\n",
              "</table>\n",
              "<p>32378 rows × 3 columns</p>\n",
              "</div>"
            ],
            "text/plain": [
              "       game_id  player  event3_Rally_enemy_camp_1\n",
              "0          1.0     1.0                         17\n",
              "1          2.0     1.0                         14\n",
              "2          3.0     1.0                         19\n",
              "3          4.0     1.0                          4\n",
              "4          5.0     1.0                          8\n",
              "...        ...     ...                        ...\n",
              "32373  38867.0     1.0                          7\n",
              "32374  38868.0     1.0                          2\n",
              "32375  38869.0     1.0                         25\n",
              "32376  38870.0     1.0                         15\n",
              "32377  38871.0     1.0                         62\n",
              "\n",
              "[32378 rows x 3 columns]"
            ]
          },
          "metadata": {
            "tags": []
          },
          "execution_count": 87
        }
      ]
    },
    {
      "cell_type": "markdown",
      "metadata": {
        "id": "_gl2arxjf9va",
        "colab_type": "text"
      },
      "source": [
        "####  Merge"
      ]
    },
    {
      "cell_type": "code",
      "metadata": {
        "id": "BOIqs_DKgLnF",
        "colab_type": "code",
        "colab": {
          "base_uri": "https://localhost:8080/",
          "height": 249
        },
        "outputId": "48c7e86c-0911-4de1-82c0-fe175744066d"
      },
      "source": [
        "final_merge= final_merge.merge(player_0_30[['game_id','event3_Rally_enemy_camp_0']],on='game_id',how='left')\\\n",
        ".merge(player_1_30[['game_id','event3_Rally_enemy_camp_1']],on='game_id',how='left')\n",
        "\n",
        "final_merge[['event3_Rally_enemy_camp_0','event3_Rally_enemy_camp_1']] = \\\n",
        "final_merge[['event3_Rally_enemy_camp_0','event3_Rally_enemy_camp_1']].fillna(0)\n",
        "\n",
        "final_merge.head()"
      ],
      "execution_count": 88,
      "outputs": [
        {
          "output_type": "execute_result",
          "data": {
            "text/html": [
              "<div>\n",
              "<style scoped>\n",
              "    .dataframe tbody tr th:only-of-type {\n",
              "        vertical-align: middle;\n",
              "    }\n",
              "\n",
              "    .dataframe tbody tr th {\n",
              "        vertical-align: top;\n",
              "    }\n",
              "\n",
              "    .dataframe thead th {\n",
              "        text-align: right;\n",
              "    }\n",
              "</style>\n",
              "<table border=\"1\" class=\"dataframe\">\n",
              "  <thead>\n",
              "    <tr style=\"text-align: right;\">\n",
              "      <th></th>\n",
              "      <th>game_id</th>\n",
              "      <th>0_자원공격</th>\n",
              "      <th>1_자원공격</th>\n",
              "      <th>Attack_worker_0</th>\n",
              "      <th>Attack_worker_1</th>\n",
              "      <th>attack_enemy_camp_0</th>\n",
              "      <th>attack_enemy_camp_1</th>\n",
              "      <th>event2_Rally_enemy_camp_0</th>\n",
              "      <th>event2_Rally_enemy_camp_1</th>\n",
              "      <th>event3_Rally_enemy_camp_0</th>\n",
              "      <th>event3_Rally_enemy_camp_1</th>\n",
              "    </tr>\n",
              "  </thead>\n",
              "  <tbody>\n",
              "    <tr>\n",
              "      <th>0</th>\n",
              "      <td>0.0</td>\n",
              "      <td>NaN</td>\n",
              "      <td>NaN</td>\n",
              "      <td>0.0</td>\n",
              "      <td>0.0</td>\n",
              "      <td>NaN</td>\n",
              "      <td>NaN</td>\n",
              "      <td>0.0</td>\n",
              "      <td>0.0</td>\n",
              "      <td>8.0</td>\n",
              "      <td>0.0</td>\n",
              "    </tr>\n",
              "    <tr>\n",
              "      <th>1</th>\n",
              "      <td>1.0</td>\n",
              "      <td>NaN</td>\n",
              "      <td>NaN</td>\n",
              "      <td>1.0</td>\n",
              "      <td>2.0</td>\n",
              "      <td>NaN</td>\n",
              "      <td>NaN</td>\n",
              "      <td>0.0</td>\n",
              "      <td>0.0</td>\n",
              "      <td>5.0</td>\n",
              "      <td>17.0</td>\n",
              "    </tr>\n",
              "    <tr>\n",
              "      <th>2</th>\n",
              "      <td>2.0</td>\n",
              "      <td>NaN</td>\n",
              "      <td>1.0</td>\n",
              "      <td>0.0</td>\n",
              "      <td>0.0</td>\n",
              "      <td>NaN</td>\n",
              "      <td>NaN</td>\n",
              "      <td>0.0</td>\n",
              "      <td>0.0</td>\n",
              "      <td>6.0</td>\n",
              "      <td>14.0</td>\n",
              "    </tr>\n",
              "    <tr>\n",
              "      <th>3</th>\n",
              "      <td>3.0</td>\n",
              "      <td>1.0</td>\n",
              "      <td>1.0</td>\n",
              "      <td>7.0</td>\n",
              "      <td>0.0</td>\n",
              "      <td>2.0</td>\n",
              "      <td>1.0</td>\n",
              "      <td>0.0</td>\n",
              "      <td>0.0</td>\n",
              "      <td>62.0</td>\n",
              "      <td>19.0</td>\n",
              "    </tr>\n",
              "    <tr>\n",
              "      <th>4</th>\n",
              "      <td>4.0</td>\n",
              "      <td>1.0</td>\n",
              "      <td>NaN</td>\n",
              "      <td>0.0</td>\n",
              "      <td>0.0</td>\n",
              "      <td>NaN</td>\n",
              "      <td>NaN</td>\n",
              "      <td>0.0</td>\n",
              "      <td>0.0</td>\n",
              "      <td>30.0</td>\n",
              "      <td>4.0</td>\n",
              "    </tr>\n",
              "  </tbody>\n",
              "</table>\n",
              "</div>"
            ],
            "text/plain": [
              "   game_id  0_자원공격  ...  event3_Rally_enemy_camp_0  event3_Rally_enemy_camp_1\n",
              "0      0.0     NaN  ...                        8.0                        0.0\n",
              "1      1.0     NaN  ...                        5.0                       17.0\n",
              "2      2.0     NaN  ...                        6.0                       14.0\n",
              "3      3.0     1.0  ...                       62.0                       19.0\n",
              "4      4.0     1.0  ...                       30.0                        4.0\n",
              "\n",
              "[5 rows x 11 columns]"
            ]
          },
          "metadata": {
            "tags": []
          },
          "execution_count": 88
        }
      ]
    }
  ]
}