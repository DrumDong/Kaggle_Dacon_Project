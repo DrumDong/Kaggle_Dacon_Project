{
  "nbformat": 4,
  "nbformat_minor": 0,
  "metadata": {
    "colab": {
      "name": "StarCraft_2th.ipynb",
      "provenance": [],
      "machine_shape": "hm",
      "mount_file_id": "1mbNcBlDdXX2Wz-PVWwMfZK8ZPhY1nLGF",
      "authorship_tag": "ABX9TyMOaPiK/mjdCvtpOuo+7Dyv"
    },
    "kernelspec": {
      "name": "python3",
      "display_name": "Python 3"
    },
    "accelerator": "GPU"
  },
  "cells": [
    {
      "cell_type": "code",
      "metadata": {
        "id": "s4A0bMBhcqmR",
        "colab_type": "code",
        "colab": {}
      },
      "source": [
        "import pandas as pd\n",
        "import numpy as np\n",
        "import matplotlib.pyplot as plt\n",
        "import seaborn as sns\n",
        "\n",
        "train = pd.read_csv('/content/drive/My Drive/Colab Notebooks/data/데이콘/스타2/train.csv')\n",
        "test = pd.read_csv('/content/drive/My Drive/Colab Notebooks/data/데이콘/스타2/test.csv')"
      ],
      "execution_count": 0,
      "outputs": []
    },
    {
      "cell_type": "code",
      "metadata": {
        "id": "nE_olbKdehcj",
        "colab_type": "code",
        "outputId": "134a7efd-36f0-4ac1-dfc7-2c151bed1a8b",
        "colab": {
          "base_uri": "https://localhost:8080/",
          "height": 195
        }
      },
      "source": [
        "train.head()"
      ],
      "execution_count": 2,
      "outputs": [
        {
          "output_type": "execute_result",
          "data": {
            "text/html": [
              "<div>\n",
              "<style scoped>\n",
              "    .dataframe tbody tr th:only-of-type {\n",
              "        vertical-align: middle;\n",
              "    }\n",
              "\n",
              "    .dataframe tbody tr th {\n",
              "        vertical-align: top;\n",
              "    }\n",
              "\n",
              "    .dataframe thead th {\n",
              "        text-align: right;\n",
              "    }\n",
              "</style>\n",
              "<table border=\"1\" class=\"dataframe\">\n",
              "  <thead>\n",
              "    <tr style=\"text-align: right;\">\n",
              "      <th></th>\n",
              "      <th>game_id</th>\n",
              "      <th>winner</th>\n",
              "      <th>time</th>\n",
              "      <th>player</th>\n",
              "      <th>species</th>\n",
              "      <th>event</th>\n",
              "      <th>event_contents</th>\n",
              "    </tr>\n",
              "  </thead>\n",
              "  <tbody>\n",
              "    <tr>\n",
              "      <th>0</th>\n",
              "      <td>0</td>\n",
              "      <td>1</td>\n",
              "      <td>0.00</td>\n",
              "      <td>0</td>\n",
              "      <td>T</td>\n",
              "      <td>Camera</td>\n",
              "      <td>at (145.25, 21.5078125)</td>\n",
              "    </tr>\n",
              "    <tr>\n",
              "      <th>1</th>\n",
              "      <td>0</td>\n",
              "      <td>1</td>\n",
              "      <td>0.00</td>\n",
              "      <td>1</td>\n",
              "      <td>T</td>\n",
              "      <td>Camera</td>\n",
              "      <td>at (22.75, 147.0078125)</td>\n",
              "    </tr>\n",
              "    <tr>\n",
              "      <th>2</th>\n",
              "      <td>0</td>\n",
              "      <td>1</td>\n",
              "      <td>0.02</td>\n",
              "      <td>0</td>\n",
              "      <td>T</td>\n",
              "      <td>Selection</td>\n",
              "      <td>['OrbitalCommand [3080001]']</td>\n",
              "    </tr>\n",
              "    <tr>\n",
              "      <th>3</th>\n",
              "      <td>0</td>\n",
              "      <td>1</td>\n",
              "      <td>0.02</td>\n",
              "      <td>0</td>\n",
              "      <td>T</td>\n",
              "      <td>Ability</td>\n",
              "      <td>(1360) - TrainSCV</td>\n",
              "    </tr>\n",
              "    <tr>\n",
              "      <th>4</th>\n",
              "      <td>0</td>\n",
              "      <td>1</td>\n",
              "      <td>0.14</td>\n",
              "      <td>0</td>\n",
              "      <td>T</td>\n",
              "      <td>Camera</td>\n",
              "      <td>at (142.99609375, 24.50390625)</td>\n",
              "    </tr>\n",
              "  </tbody>\n",
              "</table>\n",
              "</div>"
            ],
            "text/plain": [
              "   game_id  winner  time  ...  species      event                  event_contents\n",
              "0        0       1  0.00  ...        T     Camera         at (145.25, 21.5078125)\n",
              "1        0       1  0.00  ...        T     Camera         at (22.75, 147.0078125)\n",
              "2        0       1  0.02  ...        T  Selection    ['OrbitalCommand [3080001]']\n",
              "3        0       1  0.02  ...        T    Ability               (1360) - TrainSCV\n",
              "4        0       1  0.14  ...        T     Camera  at (142.99609375, 24.50390625)\n",
              "\n",
              "[5 rows x 7 columns]"
            ]
          },
          "metadata": {
            "tags": []
          },
          "execution_count": 2
        }
      ]
    },
    {
      "cell_type": "code",
      "metadata": {
        "id": "xmyqDGIjfR3C",
        "colab_type": "code",
        "outputId": "fa0480fd-0d59-4a44-9cec-279ad81f0f73",
        "colab": {
          "base_uri": "https://localhost:8080/",
          "height": 195
        }
      },
      "source": [
        "test.head()"
      ],
      "execution_count": 3,
      "outputs": [
        {
          "output_type": "execute_result",
          "data": {
            "text/html": [
              "<div>\n",
              "<style scoped>\n",
              "    .dataframe tbody tr th:only-of-type {\n",
              "        vertical-align: middle;\n",
              "    }\n",
              "\n",
              "    .dataframe tbody tr th {\n",
              "        vertical-align: top;\n",
              "    }\n",
              "\n",
              "    .dataframe thead th {\n",
              "        text-align: right;\n",
              "    }\n",
              "</style>\n",
              "<table border=\"1\" class=\"dataframe\">\n",
              "  <thead>\n",
              "    <tr style=\"text-align: right;\">\n",
              "      <th></th>\n",
              "      <th>game_id</th>\n",
              "      <th>time</th>\n",
              "      <th>player</th>\n",
              "      <th>species</th>\n",
              "      <th>event</th>\n",
              "      <th>event_contents</th>\n",
              "    </tr>\n",
              "  </thead>\n",
              "  <tbody>\n",
              "    <tr>\n",
              "      <th>0</th>\n",
              "      <td>38872</td>\n",
              "      <td>0.00</td>\n",
              "      <td>0</td>\n",
              "      <td>P</td>\n",
              "      <td>Camera</td>\n",
              "      <td>at (22.25, 81.5078125)</td>\n",
              "    </tr>\n",
              "    <tr>\n",
              "      <th>1</th>\n",
              "      <td>38872</td>\n",
              "      <td>0.00</td>\n",
              "      <td>1</td>\n",
              "      <td>P</td>\n",
              "      <td>Camera</td>\n",
              "      <td>at (120.25, 153.83984375)</td>\n",
              "    </tr>\n",
              "    <tr>\n",
              "      <th>2</th>\n",
              "      <td>38872</td>\n",
              "      <td>0.01</td>\n",
              "      <td>1</td>\n",
              "      <td>P</td>\n",
              "      <td>Selection</td>\n",
              "      <td>['Nexus [3100001]']</td>\n",
              "    </tr>\n",
              "    <tr>\n",
              "      <th>3</th>\n",
              "      <td>38872</td>\n",
              "      <td>0.01</td>\n",
              "      <td>1</td>\n",
              "      <td>P</td>\n",
              "      <td>Ability</td>\n",
              "      <td>(15E0) - TrainProbe</td>\n",
              "    </tr>\n",
              "    <tr>\n",
              "      <th>4</th>\n",
              "      <td>38872</td>\n",
              "      <td>0.01</td>\n",
              "      <td>1</td>\n",
              "      <td>P</td>\n",
              "      <td>AddToControlGroup</td>\n",
              "      <td>NaN</td>\n",
              "    </tr>\n",
              "  </tbody>\n",
              "</table>\n",
              "</div>"
            ],
            "text/plain": [
              "   game_id  time  player species              event             event_contents\n",
              "0    38872  0.00       0       P             Camera     at (22.25, 81.5078125)\n",
              "1    38872  0.00       1       P             Camera  at (120.25, 153.83984375)\n",
              "2    38872  0.01       1       P          Selection        ['Nexus [3100001]']\n",
              "3    38872  0.01       1       P            Ability        (15E0) - TrainProbe\n",
              "4    38872  0.01       1       P  AddToControlGroup                        NaN"
            ]
          },
          "metadata": {
            "tags": []
          },
          "execution_count": 3
        }
      ]
    },
    {
      "cell_type": "markdown",
      "metadata": {
        "id": "vNAMBERg19_H",
        "colab_type": "text"
      },
      "source": [
        "게임 한 개에서 두 개 정도의 로그를 살펴보자."
      ]
    },
    {
      "cell_type": "code",
      "metadata": {
        "id": "fasRTBu42DCA",
        "colab_type": "code",
        "colab": {
          "base_uri": "https://localhost:8080/",
          "height": 195
        },
        "outputId": "1932719f-58dd-4684-effc-c8f119f5a4b6"
      },
      "source": [
        "train[train['game_id'] ==0][['time','player','species','event','event_contents']].head()"
      ],
      "execution_count": 50,
      "outputs": [
        {
          "output_type": "execute_result",
          "data": {
            "text/html": [
              "<div>\n",
              "<style scoped>\n",
              "    .dataframe tbody tr th:only-of-type {\n",
              "        vertical-align: middle;\n",
              "    }\n",
              "\n",
              "    .dataframe tbody tr th {\n",
              "        vertical-align: top;\n",
              "    }\n",
              "\n",
              "    .dataframe thead th {\n",
              "        text-align: right;\n",
              "    }\n",
              "</style>\n",
              "<table border=\"1\" class=\"dataframe\">\n",
              "  <thead>\n",
              "    <tr style=\"text-align: right;\">\n",
              "      <th></th>\n",
              "      <th>time</th>\n",
              "      <th>player</th>\n",
              "      <th>species</th>\n",
              "      <th>event</th>\n",
              "      <th>event_contents</th>\n",
              "    </tr>\n",
              "  </thead>\n",
              "  <tbody>\n",
              "    <tr>\n",
              "      <th>0</th>\n",
              "      <td>0.00</td>\n",
              "      <td>0</td>\n",
              "      <td>T</td>\n",
              "      <td>Camera</td>\n",
              "      <td>at (145.25, 21.5078125)</td>\n",
              "    </tr>\n",
              "    <tr>\n",
              "      <th>1</th>\n",
              "      <td>0.00</td>\n",
              "      <td>1</td>\n",
              "      <td>T</td>\n",
              "      <td>Camera</td>\n",
              "      <td>at (22.75, 147.0078125)</td>\n",
              "    </tr>\n",
              "    <tr>\n",
              "      <th>2</th>\n",
              "      <td>0.02</td>\n",
              "      <td>0</td>\n",
              "      <td>T</td>\n",
              "      <td>Selection</td>\n",
              "      <td>['OrbitalCommand [3080001]']</td>\n",
              "    </tr>\n",
              "    <tr>\n",
              "      <th>3</th>\n",
              "      <td>0.02</td>\n",
              "      <td>0</td>\n",
              "      <td>T</td>\n",
              "      <td>Ability</td>\n",
              "      <td>(1360) - TrainSCV</td>\n",
              "    </tr>\n",
              "    <tr>\n",
              "      <th>4</th>\n",
              "      <td>0.14</td>\n",
              "      <td>0</td>\n",
              "      <td>T</td>\n",
              "      <td>Camera</td>\n",
              "      <td>at (142.99609375, 24.50390625)</td>\n",
              "    </tr>\n",
              "  </tbody>\n",
              "</table>\n",
              "</div>"
            ],
            "text/plain": [
              "   time  player species      event                  event_contents\n",
              "0  0.00       0       T     Camera         at (145.25, 21.5078125)\n",
              "1  0.00       1       T     Camera         at (22.75, 147.0078125)\n",
              "2  0.02       0       T  Selection    ['OrbitalCommand [3080001]']\n",
              "3  0.02       0       T    Ability               (1360) - TrainSCV\n",
              "4  0.14       0       T     Camera  at (142.99609375, 24.50390625)"
            ]
          },
          "metadata": {
            "tags": []
          },
          "execution_count": 50
        }
      ]
    },
    {
      "cell_type": "code",
      "metadata": {
        "id": "W0muOlDg9dvy",
        "colab_type": "code",
        "colab": {
          "base_uri": "https://localhost:8080/",
          "height": 1000
        },
        "outputId": "b69a11b0-889d-4c4c-b00b-3a93f1460f20"
      },
      "source": [
        "for num in range(0,4):\n",
        "  sns.barplot(train[train['game_id'] ==num]['event'].value_counts().index,\n",
        "              train[train['game_id'] ==num]['event'].value_counts())\n",
        "  plt.tight_layout()\n",
        "  plt.show()"
      ],
      "execution_count": 46,
      "outputs": [
        {
          "output_type": "display_data",
          "data": {
            "image/png": "[encoded data removed]",
            "text/plain": [
              "<Figure size 432x288 with 1 Axes>"
            ]
          },
          "metadata": {
            "tags": []
          }
        },
        {
          "output_type": "display_data",
          "data": {
            "image/png": "[encoded data removed]",
            "text/plain": [
              "<Figure size 432x288 with 1 Axes>"
            ]
          },
          "metadata": {
            "tags": []
          }
        },
        {
          "output_type": "display_data",
          "data": {
            "image/png": "[encoded data removed]",
            "text/plain": [
              "<Figure size 432x288 with 1 Axes>"
            ]
          },
          "metadata": {
            "tags": []
          }
        },
        {
          "output_type": "display_data",
          "data": {
            "image/png": "[encoded data removed]",
            "text/plain": [
              "<Figure size 432x288 with 1 Axes>"
            ]
          },
          "metadata": {
            "tags": []
          }
        }
      ]
    },
    {
      "cell_type": "markdown",
      "metadata": {
        "id": "QEeTaRc89q2I",
        "colab_type": "text"
      },
      "source": [
        "Camera는 항상 높은 비율로 event를 구성한다. 또한 2등으로 나오는 event 속성에 대해서도 연구할 필요가 있을 것 같음."
      ]
    },
    {
      "cell_type": "markdown",
      "metadata": {
        "id": "ZgPBoXO8-gAh",
        "colab_type": "text"
      },
      "source": [
        "우선 Camera를 기준으로 EDA를 시작해 보자."
      ]
    },
    {
      "cell_type": "markdown",
      "metadata": {
        "id": "8bLAkM_hELrG",
        "colab_type": "text"
      },
      "source": [
        "# Event의 Camera\n",
        "1. Camera의 첫 위치가 자신의 진영이라고 가정을 하면 내 카메라가 적 진영 위치로 많이 가 있으면 승리에 가까운 것이라고 생각하면 어떨까?"
      ]
    },
    {
      "cell_type": "code",
      "metadata": {
        "id": "9Nvdqm6WJjnN",
        "colab_type": "code",
        "colab": {
          "base_uri": "https://localhost:8080/",
          "height": 402
        },
        "outputId": "da6466c7-633d-402f-8f13-b02f9c7892c2"
      },
      "source": [
        "train[(train['game_id'] ==1000)&(train['event']=='Camera')]"
      ],
      "execution_count": 66,
      "outputs": [
        {
          "output_type": "execute_result",
          "data": {
            "text/html": [
              "<div>\n",
              "<style scoped>\n",
              "    .dataframe tbody tr th:only-of-type {\n",
              "        vertical-align: middle;\n",
              "    }\n",
              "\n",
              "    .dataframe tbody tr th {\n",
              "        vertical-align: top;\n",
              "    }\n",
              "\n",
              "    .dataframe thead th {\n",
              "        text-align: right;\n",
              "    }\n",
              "</style>\n",
              "<table border=\"1\" class=\"dataframe\">\n",
              "  <thead>\n",
              "    <tr style=\"text-align: right;\">\n",
              "      <th></th>\n",
              "      <th>game_id</th>\n",
              "      <th>winner</th>\n",
              "      <th>time</th>\n",
              "      <th>player</th>\n",
              "      <th>species</th>\n",
              "      <th>event</th>\n",
              "      <th>event_contents</th>\n",
              "    </tr>\n",
              "  </thead>\n",
              "  <tbody>\n",
              "    <tr>\n",
              "      <th>1708008</th>\n",
              "      <td>1000</td>\n",
              "      <td>0</td>\n",
              "      <td>0.00</td>\n",
              "      <td>1</td>\n",
              "      <td>Z</td>\n",
              "      <td>Camera</td>\n",
              "      <td>at (22.75, 147.0078125)</td>\n",
              "    </tr>\n",
              "    <tr>\n",
              "      <th>1708009</th>\n",
              "      <td>1000</td>\n",
              "      <td>0</td>\n",
              "      <td>0.00</td>\n",
              "      <td>0</td>\n",
              "      <td>Z</td>\n",
              "      <td>Camera</td>\n",
              "      <td>at (145.25, 21.5078125)</td>\n",
              "    </tr>\n",
              "    <tr>\n",
              "      <th>1708027</th>\n",
              "      <td>1000</td>\n",
              "      <td>0</td>\n",
              "      <td>0.04</td>\n",
              "      <td>1</td>\n",
              "      <td>Z</td>\n",
              "      <td>Camera</td>\n",
              "      <td>at (148.0, 62.4921875)</td>\n",
              "    </tr>\n",
              "    <tr>\n",
              "      <th>1708031</th>\n",
              "      <td>1000</td>\n",
              "      <td>0</td>\n",
              "      <td>0.06</td>\n",
              "      <td>1</td>\n",
              "      <td>Z</td>\n",
              "      <td>Camera</td>\n",
              "      <td>at (24.5, 145.7578125)</td>\n",
              "    </tr>\n",
              "    <tr>\n",
              "      <th>1708033</th>\n",
              "      <td>1000</td>\n",
              "      <td>0</td>\n",
              "      <td>0.07</td>\n",
              "      <td>0</td>\n",
              "      <td>Z</td>\n",
              "      <td>Camera</td>\n",
              "      <td>at (144.3046875, 21.5078125)</td>\n",
              "    </tr>\n",
              "    <tr>\n",
              "      <th>...</th>\n",
              "      <td>...</td>\n",
              "      <td>...</td>\n",
              "      <td>...</td>\n",
              "      <td>...</td>\n",
              "      <td>...</td>\n",
              "      <td>...</td>\n",
              "      <td>...</td>\n",
              "    </tr>\n",
              "    <tr>\n",
              "      <th>1709930</th>\n",
              "      <td>1000</td>\n",
              "      <td>0</td>\n",
              "      <td>8.10</td>\n",
              "      <td>1</td>\n",
              "      <td>Z</td>\n",
              "      <td>Camera</td>\n",
              "      <td>at (24.5, 122.2578125)</td>\n",
              "    </tr>\n",
              "    <tr>\n",
              "      <th>1709939</th>\n",
              "      <td>1000</td>\n",
              "      <td>0</td>\n",
              "      <td>8.11</td>\n",
              "      <td>1</td>\n",
              "      <td>Z</td>\n",
              "      <td>Camera</td>\n",
              "      <td>at (26.109375, 122.2578125)</td>\n",
              "    </tr>\n",
              "    <tr>\n",
              "      <th>1709940</th>\n",
              "      <td>1000</td>\n",
              "      <td>0</td>\n",
              "      <td>8.11</td>\n",
              "      <td>1</td>\n",
              "      <td>Z</td>\n",
              "      <td>Camera</td>\n",
              "      <td>at (27.3203125, 122.2578125)</td>\n",
              "    </tr>\n",
              "    <tr>\n",
              "      <th>1709941</th>\n",
              "      <td>1000</td>\n",
              "      <td>0</td>\n",
              "      <td>8.12</td>\n",
              "      <td>1</td>\n",
              "      <td>Z</td>\n",
              "      <td>Camera</td>\n",
              "      <td>at (34.17578125, 115.40234375)</td>\n",
              "    </tr>\n",
              "    <tr>\n",
              "      <th>1709947</th>\n",
              "      <td>1000</td>\n",
              "      <td>0</td>\n",
              "      <td>8.13</td>\n",
              "      <td>0</td>\n",
              "      <td>Z</td>\n",
              "      <td>Camera</td>\n",
              "      <td>at (114.578125, 34.67578125)</td>\n",
              "    </tr>\n",
              "  </tbody>\n",
              "</table>\n",
              "<p>948 rows × 7 columns</p>\n",
              "</div>"
            ],
            "text/plain": [
              "         game_id  winner  time  ...  species   event                  event_contents\n",
              "1708008     1000       0  0.00  ...        Z  Camera         at (22.75, 147.0078125)\n",
              "1708009     1000       0  0.00  ...        Z  Camera         at (145.25, 21.5078125)\n",
              "1708027     1000       0  0.04  ...        Z  Camera          at (148.0, 62.4921875)\n",
              "1708031     1000       0  0.06  ...        Z  Camera          at (24.5, 145.7578125)\n",
              "1708033     1000       0  0.07  ...        Z  Camera    at (144.3046875, 21.5078125)\n",
              "...          ...     ...   ...  ...      ...     ...                             ...\n",
              "1709930     1000       0  8.10  ...        Z  Camera          at (24.5, 122.2578125)\n",
              "1709939     1000       0  8.11  ...        Z  Camera     at (26.109375, 122.2578125)\n",
              "1709940     1000       0  8.11  ...        Z  Camera    at (27.3203125, 122.2578125)\n",
              "1709941     1000       0  8.12  ...        Z  Camera  at (34.17578125, 115.40234375)\n",
              "1709947     1000       0  8.13  ...        Z  Camera    at (114.578125, 34.67578125)\n",
              "\n",
              "[948 rows x 7 columns]"
            ]
          },
          "metadata": {
            "tags": []
          },
          "execution_count": 66
        }
      ]
    },
    {
      "cell_type": "code",
      "metadata": {
        "id": "az7yQADpP_pF",
        "colab_type": "code",
        "colab": {
          "base_uri": "https://localhost:8080/",
          "height": 175
        },
        "outputId": "14d49acc-254e-4835-8c01-090d964d5ce7"
      },
      "source": [
        "train[train['player']==train['winner']]['event'].value_counts()"
      ],
      "execution_count": 63,
      "outputs": [
        {
          "output_type": "execute_result",
          "data": {
            "text/plain": [
              "Camera               15742425\n",
              "Right Click           5925032\n",
              "GetControlGroup       5468415\n",
              "Selection             4898234\n",
              "Ability               1965104\n",
              "SetControlGroup        179789\n",
              "AddToControlGroup       78515\n",
              "ControlGroup            16249\n",
              "Name: event, dtype: int64"
            ]
          },
          "metadata": {
            "tags": []
          },
          "execution_count": 63
        }
      ]
    },
    {
      "cell_type": "code",
      "metadata": {
        "id": "nIrroiY1QLPL",
        "colab_type": "code",
        "colab": {
          "base_uri": "https://localhost:8080/",
          "height": 175
        },
        "outputId": "9015aa08-1461-489c-aefa-5a7ee71da4b6"
      },
      "source": [
        "train[train['player']!=train['winner']]['event'].value_counts()"
      ],
      "execution_count": 64,
      "outputs": [
        {
          "output_type": "execute_result",
          "data": {
            "text/plain": [
              "Camera               15886982\n",
              "Right Click           5640845\n",
              "Selection             4627925\n",
              "GetControlGroup       4582765\n",
              "Ability               1833286\n",
              "SetControlGroup        160915\n",
              "AddToControlGroup       70825\n",
              "ControlGroup            14470\n",
              "Name: event, dtype: int64"
            ]
          },
          "metadata": {
            "tags": []
          },
          "execution_count": 64
        }
      ]
    },
    {
      "cell_type": "markdown",
      "metadata": {
        "id": "T7bL_DlTQTUw",
        "colab_type": "text"
      },
      "source": [
        "승자나 패자나 크게 event 비율에 차이를 보이진 않음."
      ]
    },
    {
      "cell_type": "markdown",
      "metadata": {
        "id": "qjSzqz9sQXTN",
        "colab_type": "text"
      },
      "source": [
        "위도 따로, 경도 따로 위치 변화를 구해 더해준 다음 수치를 비교해 보자."
      ]
    },
    {
      "cell_type": "code",
      "metadata": {
        "id": "nYZHdOHPTLlP",
        "colab_type": "code",
        "colab": {}
      },
      "source": [
        "# toy data 만들기\n",
        "toy_data  = train[train['game_id']<=100]"
      ],
      "execution_count": 0,
      "outputs": []
    },
    {
      "cell_type": "code",
      "metadata": {
        "id": "2RJCW7ngTkDd",
        "colab_type": "code",
        "colab": {
          "base_uri": "https://localhost:8080/",
          "height": 228
        },
        "outputId": "4bddfab7-aeba-4a0f-c7ff-46a8e7d29b51"
      },
      "source": [
        "toy_data['new_event']=toy_data.loc[toy_data['event']=='Camera','event_contents'].apply(lambda x: x.lstrip('at ('))\n",
        "toy_data['new_event']=toy_data.loc[toy_data['event']=='Camera','new_event'].apply(lambda x: x.rstrip(')'))"
      ],
      "execution_count": 120,
      "outputs": [
        {
          "output_type": "stream",
          "text": [
            "/usr/local/lib/python3.6/dist-packages/ipykernel_launcher.py:1: SettingWithCopyWarning: \n",
            "A value is trying to be set on a copy of a slice from a DataFrame.\n",
            "Try using .loc[row_indexer,col_indexer] = value instead\n",
            "\n",
            "See the caveats in the documentation: http://pandas.pydata.org/pandas-docs/stable/user_guide/indexing.html#returning-a-view-versus-a-copy\n",
            "  \"\"\"Entry point for launching an IPython kernel.\n",
            "/usr/local/lib/python3.6/dist-packages/ipykernel_launcher.py:2: SettingWithCopyWarning: \n",
            "A value is trying to be set on a copy of a slice from a DataFrame.\n",
            "Try using .loc[row_indexer,col_indexer] = value instead\n",
            "\n",
            "See the caveats in the documentation: http://pandas.pydata.org/pandas-docs/stable/user_guide/indexing.html#returning-a-view-versus-a-copy\n",
            "  \n"
          ],
          "name": "stderr"
        }
      ]
    },
    {
      "cell_type": "code",
      "metadata": {
        "id": "AOf3dO1xYXWe",
        "colab_type": "code",
        "colab": {
          "base_uri": "https://localhost:8080/",
          "height": 195
        },
        "outputId": "efef26eb-3376-4883-d11e-094ac3110121"
      },
      "source": [
        "toy_data.head()"
      ],
      "execution_count": 121,
      "outputs": [
        {
          "output_type": "execute_result",
          "data": {
            "text/html": [
              "<div>\n",
              "<style scoped>\n",
              "    .dataframe tbody tr th:only-of-type {\n",
              "        vertical-align: middle;\n",
              "    }\n",
              "\n",
              "    .dataframe tbody tr th {\n",
              "        vertical-align: top;\n",
              "    }\n",
              "\n",
              "    .dataframe thead th {\n",
              "        text-align: right;\n",
              "    }\n",
              "</style>\n",
              "<table border=\"1\" class=\"dataframe\">\n",
              "  <thead>\n",
              "    <tr style=\"text-align: right;\">\n",
              "      <th></th>\n",
              "      <th>game_id</th>\n",
              "      <th>winner</th>\n",
              "      <th>time</th>\n",
              "      <th>player</th>\n",
              "      <th>species</th>\n",
              "      <th>event</th>\n",
              "      <th>event_contents</th>\n",
              "      <th>new_event</th>\n",
              "    </tr>\n",
              "  </thead>\n",
              "  <tbody>\n",
              "    <tr>\n",
              "      <th>0</th>\n",
              "      <td>0</td>\n",
              "      <td>1</td>\n",
              "      <td>0.00</td>\n",
              "      <td>0</td>\n",
              "      <td>T</td>\n",
              "      <td>Camera</td>\n",
              "      <td>at (145.25, 21.5078125)</td>\n",
              "      <td>145.25, 21.5078125</td>\n",
              "    </tr>\n",
              "    <tr>\n",
              "      <th>1</th>\n",
              "      <td>0</td>\n",
              "      <td>1</td>\n",
              "      <td>0.00</td>\n",
              "      <td>1</td>\n",
              "      <td>T</td>\n",
              "      <td>Camera</td>\n",
              "      <td>at (22.75, 147.0078125)</td>\n",
              "      <td>22.75, 147.0078125</td>\n",
              "    </tr>\n",
              "    <tr>\n",
              "      <th>2</th>\n",
              "      <td>0</td>\n",
              "      <td>1</td>\n",
              "      <td>0.02</td>\n",
              "      <td>0</td>\n",
              "      <td>T</td>\n",
              "      <td>Selection</td>\n",
              "      <td>['OrbitalCommand [3080001]']</td>\n",
              "      <td>NaN</td>\n",
              "    </tr>\n",
              "    <tr>\n",
              "      <th>3</th>\n",
              "      <td>0</td>\n",
              "      <td>1</td>\n",
              "      <td>0.02</td>\n",
              "      <td>0</td>\n",
              "      <td>T</td>\n",
              "      <td>Ability</td>\n",
              "      <td>(1360) - TrainSCV</td>\n",
              "      <td>NaN</td>\n",
              "    </tr>\n",
              "    <tr>\n",
              "      <th>4</th>\n",
              "      <td>0</td>\n",
              "      <td>1</td>\n",
              "      <td>0.14</td>\n",
              "      <td>0</td>\n",
              "      <td>T</td>\n",
              "      <td>Camera</td>\n",
              "      <td>at (142.99609375, 24.50390625)</td>\n",
              "      <td>142.99609375, 24.50390625</td>\n",
              "    </tr>\n",
              "  </tbody>\n",
              "</table>\n",
              "</div>"
            ],
            "text/plain": [
              "   game_id  winner  ...                  event_contents                  new_event\n",
              "0        0       1  ...         at (145.25, 21.5078125)         145.25, 21.5078125\n",
              "1        0       1  ...         at (22.75, 147.0078125)         22.75, 147.0078125\n",
              "2        0       1  ...    ['OrbitalCommand [3080001]']                        NaN\n",
              "3        0       1  ...               (1360) - TrainSCV                        NaN\n",
              "4        0       1  ...  at (142.99609375, 24.50390625)  142.99609375, 24.50390625\n",
              "\n",
              "[5 rows x 8 columns]"
            ]
          },
          "metadata": {
            "tags": []
          },
          "execution_count": 121
        }
      ]
    },
    {
      "cell_type": "code",
      "metadata": {
        "id": "a4WeXrYeZOWf",
        "colab_type": "code",
        "colab": {
          "base_uri": "https://localhost:8080/",
          "height": 402
        },
        "outputId": "25eee7b3-d46b-4fb0-f484-388a5b51cd9b"
      },
      "source": [
        "# event == Camera만 남겨두고 모든 행은 없애도록 하자.\n",
        "toy_data = toy_data[toy_data['event']=='Camera']\n",
        "toy_data"
      ],
      "execution_count": 122,
      "outputs": [
        {
          "output_type": "execute_result",
          "data": {
            "text/html": [
              "<div>\n",
              "<style scoped>\n",
              "    .dataframe tbody tr th:only-of-type {\n",
              "        vertical-align: middle;\n",
              "    }\n",
              "\n",
              "    .dataframe tbody tr th {\n",
              "        vertical-align: top;\n",
              "    }\n",
              "\n",
              "    .dataframe thead th {\n",
              "        text-align: right;\n",
              "    }\n",
              "</style>\n",
              "<table border=\"1\" class=\"dataframe\">\n",
              "  <thead>\n",
              "    <tr style=\"text-align: right;\">\n",
              "      <th></th>\n",
              "      <th>game_id</th>\n",
              "      <th>winner</th>\n",
              "      <th>time</th>\n",
              "      <th>player</th>\n",
              "      <th>species</th>\n",
              "      <th>event</th>\n",
              "      <th>event_contents</th>\n",
              "      <th>new_event</th>\n",
              "    </tr>\n",
              "  </thead>\n",
              "  <tbody>\n",
              "    <tr>\n",
              "      <th>0</th>\n",
              "      <td>0</td>\n",
              "      <td>1</td>\n",
              "      <td>0.00</td>\n",
              "      <td>0</td>\n",
              "      <td>T</td>\n",
              "      <td>Camera</td>\n",
              "      <td>at (145.25, 21.5078125)</td>\n",
              "      <td>145.25, 21.5078125</td>\n",
              "    </tr>\n",
              "    <tr>\n",
              "      <th>1</th>\n",
              "      <td>0</td>\n",
              "      <td>1</td>\n",
              "      <td>0.00</td>\n",
              "      <td>1</td>\n",
              "      <td>T</td>\n",
              "      <td>Camera</td>\n",
              "      <td>at (22.75, 147.0078125)</td>\n",
              "      <td>22.75, 147.0078125</td>\n",
              "    </tr>\n",
              "    <tr>\n",
              "      <th>4</th>\n",
              "      <td>0</td>\n",
              "      <td>1</td>\n",
              "      <td>0.14</td>\n",
              "      <td>0</td>\n",
              "      <td>T</td>\n",
              "      <td>Camera</td>\n",
              "      <td>at (142.99609375, 24.50390625)</td>\n",
              "      <td>142.99609375, 24.50390625</td>\n",
              "    </tr>\n",
              "    <tr>\n",
              "      <th>5</th>\n",
              "      <td>0</td>\n",
              "      <td>1</td>\n",
              "      <td>0.14</td>\n",
              "      <td>0</td>\n",
              "      <td>T</td>\n",
              "      <td>Camera</td>\n",
              "      <td>at (142.5078125, 24.98828125)</td>\n",
              "      <td>142.5078125, 24.98828125</td>\n",
              "    </tr>\n",
              "    <tr>\n",
              "      <th>6</th>\n",
              "      <td>0</td>\n",
              "      <td>1</td>\n",
              "      <td>0.14</td>\n",
              "      <td>0</td>\n",
              "      <td>T</td>\n",
              "      <td>Camera</td>\n",
              "      <td>at (139.6171875, 27.8828125)</td>\n",
              "      <td>139.6171875, 27.8828125</td>\n",
              "    </tr>\n",
              "    <tr>\n",
              "      <th>...</th>\n",
              "      <td>...</td>\n",
              "      <td>...</td>\n",
              "      <td>...</td>\n",
              "      <td>...</td>\n",
              "      <td>...</td>\n",
              "      <td>...</td>\n",
              "      <td>...</td>\n",
              "      <td>...</td>\n",
              "    </tr>\n",
              "    <tr>\n",
              "      <th>159172</th>\n",
              "      <td>100</td>\n",
              "      <td>1</td>\n",
              "      <td>8.05</td>\n",
              "      <td>1</td>\n",
              "      <td>P</td>\n",
              "      <td>Camera</td>\n",
              "      <td>at (37.68359375, 36.828125)</td>\n",
              "      <td>37.68359375, 36.828125</td>\n",
              "    </tr>\n",
              "    <tr>\n",
              "      <th>159173</th>\n",
              "      <td>100</td>\n",
              "      <td>1</td>\n",
              "      <td>8.05</td>\n",
              "      <td>1</td>\n",
              "      <td>P</td>\n",
              "      <td>Camera</td>\n",
              "      <td>at (37.68359375, 35.546875)</td>\n",
              "      <td>37.68359375, 35.546875</td>\n",
              "    </tr>\n",
              "    <tr>\n",
              "      <th>159174</th>\n",
              "      <td>100</td>\n",
              "      <td>1</td>\n",
              "      <td>8.05</td>\n",
              "      <td>1</td>\n",
              "      <td>P</td>\n",
              "      <td>Camera</td>\n",
              "      <td>at (37.68359375, 34.26953125)</td>\n",
              "      <td>37.68359375, 34.26953125</td>\n",
              "    </tr>\n",
              "    <tr>\n",
              "      <th>159175</th>\n",
              "      <td>100</td>\n",
              "      <td>1</td>\n",
              "      <td>8.06</td>\n",
              "      <td>1</td>\n",
              "      <td>P</td>\n",
              "      <td>Camera</td>\n",
              "      <td>at (37.68359375, 32.14453125)</td>\n",
              "      <td>37.68359375, 32.14453125</td>\n",
              "    </tr>\n",
              "    <tr>\n",
              "      <th>159176</th>\n",
              "      <td>100</td>\n",
              "      <td>1</td>\n",
              "      <td>8.06</td>\n",
              "      <td>1</td>\n",
              "      <td>P</td>\n",
              "      <td>Camera</td>\n",
              "      <td>at (37.68359375, 31.296875)</td>\n",
              "      <td>37.68359375, 31.296875</td>\n",
              "    </tr>\n",
              "  </tbody>\n",
              "</table>\n",
              "<p>77383 rows × 8 columns</p>\n",
              "</div>"
            ],
            "text/plain": [
              "        game_id  ...                  new_event\n",
              "0             0  ...         145.25, 21.5078125\n",
              "1             0  ...         22.75, 147.0078125\n",
              "4             0  ...  142.99609375, 24.50390625\n",
              "5             0  ...   142.5078125, 24.98828125\n",
              "6             0  ...    139.6171875, 27.8828125\n",
              "...         ...  ...                        ...\n",
              "159172      100  ...     37.68359375, 36.828125\n",
              "159173      100  ...     37.68359375, 35.546875\n",
              "159174      100  ...   37.68359375, 34.26953125\n",
              "159175      100  ...   37.68359375, 32.14453125\n",
              "159176      100  ...     37.68359375, 31.296875\n",
              "\n",
              "[77383 rows x 8 columns]"
            ]
          },
          "metadata": {
            "tags": []
          },
          "execution_count": 122
        }
      ]
    },
    {
      "cell_type": "code",
      "metadata": {
        "id": "1eB0OLmIZ1ks",
        "colab_type": "code",
        "colab": {
          "base_uri": "https://localhost:8080/",
          "height": 195
        },
        "outputId": "0c7207e2-b2bd-4c17-f961-42a9e2a5ff0c"
      },
      "source": [
        "toy_data['new_event']=toy_data['new_event'].apply(lambda x: x.split(','))\n",
        "toy_data.head()"
      ],
      "execution_count": 139,
      "outputs": [
        {
          "output_type": "execute_result",
          "data": {
            "text/html": [
              "<div>\n",
              "<style scoped>\n",
              "    .dataframe tbody tr th:only-of-type {\n",
              "        vertical-align: middle;\n",
              "    }\n",
              "\n",
              "    .dataframe tbody tr th {\n",
              "        vertical-align: top;\n",
              "    }\n",
              "\n",
              "    .dataframe thead th {\n",
              "        text-align: right;\n",
              "    }\n",
              "</style>\n",
              "<table border=\"1\" class=\"dataframe\">\n",
              "  <thead>\n",
              "    <tr style=\"text-align: right;\">\n",
              "      <th></th>\n",
              "      <th>game_id</th>\n",
              "      <th>winner</th>\n",
              "      <th>time</th>\n",
              "      <th>player</th>\n",
              "      <th>species</th>\n",
              "      <th>event</th>\n",
              "      <th>event_contents</th>\n",
              "      <th>new_event</th>\n",
              "    </tr>\n",
              "  </thead>\n",
              "  <tbody>\n",
              "    <tr>\n",
              "      <th>0</th>\n",
              "      <td>0</td>\n",
              "      <td>1</td>\n",
              "      <td>0.00</td>\n",
              "      <td>0</td>\n",
              "      <td>T</td>\n",
              "      <td>Camera</td>\n",
              "      <td>at (145.25, 21.5078125)</td>\n",
              "      <td>[145.25,  21.5078125]</td>\n",
              "    </tr>\n",
              "    <tr>\n",
              "      <th>1</th>\n",
              "      <td>0</td>\n",
              "      <td>1</td>\n",
              "      <td>0.00</td>\n",
              "      <td>1</td>\n",
              "      <td>T</td>\n",
              "      <td>Camera</td>\n",
              "      <td>at (22.75, 147.0078125)</td>\n",
              "      <td>[22.75,  147.0078125]</td>\n",
              "    </tr>\n",
              "    <tr>\n",
              "      <th>4</th>\n",
              "      <td>0</td>\n",
              "      <td>1</td>\n",
              "      <td>0.14</td>\n",
              "      <td>0</td>\n",
              "      <td>T</td>\n",
              "      <td>Camera</td>\n",
              "      <td>at (142.99609375, 24.50390625)</td>\n",
              "      <td>[142.99609375,  24.50390625]</td>\n",
              "    </tr>\n",
              "    <tr>\n",
              "      <th>5</th>\n",
              "      <td>0</td>\n",
              "      <td>1</td>\n",
              "      <td>0.14</td>\n",
              "      <td>0</td>\n",
              "      <td>T</td>\n",
              "      <td>Camera</td>\n",
              "      <td>at (142.5078125, 24.98828125)</td>\n",
              "      <td>[142.5078125,  24.98828125]</td>\n",
              "    </tr>\n",
              "    <tr>\n",
              "      <th>6</th>\n",
              "      <td>0</td>\n",
              "      <td>1</td>\n",
              "      <td>0.14</td>\n",
              "      <td>0</td>\n",
              "      <td>T</td>\n",
              "      <td>Camera</td>\n",
              "      <td>at (139.6171875, 27.8828125)</td>\n",
              "      <td>[139.6171875,  27.8828125]</td>\n",
              "    </tr>\n",
              "  </tbody>\n",
              "</table>\n",
              "</div>"
            ],
            "text/plain": [
              "   game_id  ...                     new_event\n",
              "0        0  ...         [145.25,  21.5078125]\n",
              "1        0  ...         [22.75,  147.0078125]\n",
              "4        0  ...  [142.99609375,  24.50390625]\n",
              "5        0  ...   [142.5078125,  24.98828125]\n",
              "6        0  ...    [139.6171875,  27.8828125]\n",
              "\n",
              "[5 rows x 8 columns]"
            ]
          },
          "metadata": {
            "tags": []
          },
          "execution_count": 139
        }
      ]
    },
    {
      "cell_type": "code",
      "metadata": {
        "id": "R-MjRjzGeXsb",
        "colab_type": "code",
        "colab": {}
      },
      "source": [
        "toy_data['x_axis']=toy_data['new_event'].apply(lambda x: float(x[0]))\n",
        "toy_data['y_axis']=toy_data['new_event'].apply(lambda x: float(x[1]))\n",
        "\n",
        "toy_data.drop(['event_contents','new_event'],axis=1,inplace=True)"
      ],
      "execution_count": 0,
      "outputs": []
    },
    {
      "cell_type": "code",
      "metadata": {
        "id": "qLj8dEVxg0Sg",
        "colab_type": "code",
        "colab": {
          "base_uri": "https://localhost:8080/",
          "height": 195
        },
        "outputId": "cdeaecd7-db09-4fd2-d6e4-8eb079343755"
      },
      "source": [
        "toy_data.head()"
      ],
      "execution_count": 158,
      "outputs": [
        {
          "output_type": "execute_result",
          "data": {
            "text/html": [
              "<div>\n",
              "<style scoped>\n",
              "    .dataframe tbody tr th:only-of-type {\n",
              "        vertical-align: middle;\n",
              "    }\n",
              "\n",
              "    .dataframe tbody tr th {\n",
              "        vertical-align: top;\n",
              "    }\n",
              "\n",
              "    .dataframe thead th {\n",
              "        text-align: right;\n",
              "    }\n",
              "</style>\n",
              "<table border=\"1\" class=\"dataframe\">\n",
              "  <thead>\n",
              "    <tr style=\"text-align: right;\">\n",
              "      <th></th>\n",
              "      <th>game_id</th>\n",
              "      <th>winner</th>\n",
              "      <th>time</th>\n",
              "      <th>player</th>\n",
              "      <th>species</th>\n",
              "      <th>event</th>\n",
              "      <th>x_axis</th>\n",
              "      <th>y_axis</th>\n",
              "    </tr>\n",
              "  </thead>\n",
              "  <tbody>\n",
              "    <tr>\n",
              "      <th>0</th>\n",
              "      <td>0</td>\n",
              "      <td>1</td>\n",
              "      <td>0.00</td>\n",
              "      <td>0</td>\n",
              "      <td>T</td>\n",
              "      <td>Camera</td>\n",
              "      <td>145.250000</td>\n",
              "      <td>21.507812</td>\n",
              "    </tr>\n",
              "    <tr>\n",
              "      <th>1</th>\n",
              "      <td>0</td>\n",
              "      <td>1</td>\n",
              "      <td>0.00</td>\n",
              "      <td>1</td>\n",
              "      <td>T</td>\n",
              "      <td>Camera</td>\n",
              "      <td>22.750000</td>\n",
              "      <td>147.007812</td>\n",
              "    </tr>\n",
              "    <tr>\n",
              "      <th>4</th>\n",
              "      <td>0</td>\n",
              "      <td>1</td>\n",
              "      <td>0.14</td>\n",
              "      <td>0</td>\n",
              "      <td>T</td>\n",
              "      <td>Camera</td>\n",
              "      <td>142.996094</td>\n",
              "      <td>24.503906</td>\n",
              "    </tr>\n",
              "    <tr>\n",
              "      <th>5</th>\n",
              "      <td>0</td>\n",
              "      <td>1</td>\n",
              "      <td>0.14</td>\n",
              "      <td>0</td>\n",
              "      <td>T</td>\n",
              "      <td>Camera</td>\n",
              "      <td>142.507812</td>\n",
              "      <td>24.988281</td>\n",
              "    </tr>\n",
              "    <tr>\n",
              "      <th>6</th>\n",
              "      <td>0</td>\n",
              "      <td>1</td>\n",
              "      <td>0.14</td>\n",
              "      <td>0</td>\n",
              "      <td>T</td>\n",
              "      <td>Camera</td>\n",
              "      <td>139.617188</td>\n",
              "      <td>27.882812</td>\n",
              "    </tr>\n",
              "  </tbody>\n",
              "</table>\n",
              "</div>"
            ],
            "text/plain": [
              "   game_id  winner  time  player species   event      x_axis      y_axis\n",
              "0        0       1  0.00       0       T  Camera  145.250000   21.507812\n",
              "1        0       1  0.00       1       T  Camera   22.750000  147.007812\n",
              "4        0       1  0.14       0       T  Camera  142.996094   24.503906\n",
              "5        0       1  0.14       0       T  Camera  142.507812   24.988281\n",
              "6        0       1  0.14       0       T  Camera  139.617188   27.882812"
            ]
          },
          "metadata": {
            "tags": []
          },
          "execution_count": 158
        }
      ]
    }
  ]
}