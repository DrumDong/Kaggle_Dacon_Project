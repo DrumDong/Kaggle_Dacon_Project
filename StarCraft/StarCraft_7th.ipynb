{
  "nbformat": 4,
  "nbformat_minor": 0,
  "metadata": {
    "colab": {
      "name": "StarCraft_7th.ipynb",
      "provenance": [],
      "machine_shape": "hm"
    },
    "kernelspec": {
      "name": "python3",
      "display_name": "Python 3"
    },
    "accelerator": "GPU"
  },
  "cells": [
    {
      "cell_type": "code",
      "metadata": {
        "id": "1aqML9ZjyXEc",
        "colab_type": "code",
        "colab": {}
      },
      "source": [
        "import pandas as pd\n",
        "import numpy as np\n",
        "import matplotlib.pyplot as plt\n",
        "import seaborn as sns"
      ],
      "execution_count": 0,
      "outputs": []
    },
    {
      "cell_type": "markdown",
      "metadata": {
        "id": "ZnwB-DAqxylH",
        "colab_type": "text"
      },
      "source": [
        "# Top 50 명령어 위주 추출 전처리"
      ]
    },
    {
      "cell_type": "code",
      "metadata": {
        "id": "Tlb1vbZwxxUr",
        "colab_type": "code",
        "colab": {}
      },
      "source": [
        "train = pd.read_pickle('/content/drive/My Drive/Colab Notebooks/data/데이콘/스타2/train.pkl')\n",
        "test = pd.read_pickle('/content/drive/My Drive/Colab Notebooks/data/데이콘/스타2/test.pkl')"
      ],
      "execution_count": 0,
      "outputs": []
    },
    {
      "cell_type": "code",
      "metadata": {
        "id": "dfP3rz3u7PL7",
        "colab_type": "code",
        "colab": {
          "base_uri": "https://localhost:8080/",
          "height": 195
        },
        "outputId": "cdd7ae08-e1ce-47fb-9890-9ecf55108bc0"
      },
      "source": [
        "train.head()"
      ],
      "execution_count": 3,
      "outputs": [
        {
          "output_type": "execute_result",
          "data": {
            "text/html": [
              "<div>\n",
              "<style scoped>\n",
              "    .dataframe tbody tr th:only-of-type {\n",
              "        vertical-align: middle;\n",
              "    }\n",
              "\n",
              "    .dataframe tbody tr th {\n",
              "        vertical-align: top;\n",
              "    }\n",
              "\n",
              "    .dataframe thead th {\n",
              "        text-align: right;\n",
              "    }\n",
              "</style>\n",
              "<table border=\"1\" class=\"dataframe\">\n",
              "  <thead>\n",
              "    <tr style=\"text-align: right;\">\n",
              "      <th></th>\n",
              "      <th>game_id</th>\n",
              "      <th>winner</th>\n",
              "      <th>time</th>\n",
              "      <th>player</th>\n",
              "      <th>species</th>\n",
              "      <th>event</th>\n",
              "      <th>event_contents</th>\n",
              "    </tr>\n",
              "  </thead>\n",
              "  <tbody>\n",
              "    <tr>\n",
              "      <th>0</th>\n",
              "      <td>0.0</td>\n",
              "      <td>1.0</td>\n",
              "      <td>0.0</td>\n",
              "      <td>0.0</td>\n",
              "      <td>0.0</td>\n",
              "      <td>0.0</td>\n",
              "      <td>at (145.25, 21.5078125)</td>\n",
              "    </tr>\n",
              "    <tr>\n",
              "      <th>1</th>\n",
              "      <td>0.0</td>\n",
              "      <td>1.0</td>\n",
              "      <td>0.0</td>\n",
              "      <td>1.0</td>\n",
              "      <td>0.0</td>\n",
              "      <td>0.0</td>\n",
              "      <td>at (22.75, 147.0078125)</td>\n",
              "    </tr>\n",
              "    <tr>\n",
              "      <th>2</th>\n",
              "      <td>0.0</td>\n",
              "      <td>1.0</td>\n",
              "      <td>0.0</td>\n",
              "      <td>0.0</td>\n",
              "      <td>0.0</td>\n",
              "      <td>1.0</td>\n",
              "      <td>['OrbitalCommand [3080001]']</td>\n",
              "    </tr>\n",
              "    <tr>\n",
              "      <th>3</th>\n",
              "      <td>0.0</td>\n",
              "      <td>1.0</td>\n",
              "      <td>0.0</td>\n",
              "      <td>0.0</td>\n",
              "      <td>0.0</td>\n",
              "      <td>2.0</td>\n",
              "      <td>(1360) - TrainSCV</td>\n",
              "    </tr>\n",
              "    <tr>\n",
              "      <th>4</th>\n",
              "      <td>0.0</td>\n",
              "      <td>1.0</td>\n",
              "      <td>0.0</td>\n",
              "      <td>0.0</td>\n",
              "      <td>0.0</td>\n",
              "      <td>0.0</td>\n",
              "      <td>at (142.99609375, 24.50390625)</td>\n",
              "    </tr>\n",
              "  </tbody>\n",
              "</table>\n",
              "</div>"
            ],
            "text/plain": [
              "   game_id  winner  time  ...  species  event                  event_contents\n",
              "0      0.0     1.0   0.0  ...      0.0    0.0         at (145.25, 21.5078125)\n",
              "1      0.0     1.0   0.0  ...      0.0    0.0         at (22.75, 147.0078125)\n",
              "2      0.0     1.0   0.0  ...      0.0    1.0    ['OrbitalCommand [3080001]']\n",
              "3      0.0     1.0   0.0  ...      0.0    2.0               (1360) - TrainSCV\n",
              "4      0.0     1.0   0.0  ...      0.0    0.0  at (142.99609375, 24.50390625)\n",
              "\n",
              "[5 rows x 7 columns]"
            ]
          },
          "metadata": {
            "tags": []
          },
          "execution_count": 3
        }
      ]
    },
    {
      "cell_type": "code",
      "metadata": {
        "id": "0LFrTxv17QLM",
        "colab_type": "code",
        "colab": {
          "base_uri": "https://localhost:8080/",
          "height": 195
        },
        "outputId": "de8b6aa7-e237-4b25-cce0-0f385cfa794f"
      },
      "source": [
        "test.head()"
      ],
      "execution_count": 4,
      "outputs": [
        {
          "output_type": "execute_result",
          "data": {
            "text/html": [
              "<div>\n",
              "<style scoped>\n",
              "    .dataframe tbody tr th:only-of-type {\n",
              "        vertical-align: middle;\n",
              "    }\n",
              "\n",
              "    .dataframe tbody tr th {\n",
              "        vertical-align: top;\n",
              "    }\n",
              "\n",
              "    .dataframe thead th {\n",
              "        text-align: right;\n",
              "    }\n",
              "</style>\n",
              "<table border=\"1\" class=\"dataframe\">\n",
              "  <thead>\n",
              "    <tr style=\"text-align: right;\">\n",
              "      <th></th>\n",
              "      <th>game_id</th>\n",
              "      <th>time</th>\n",
              "      <th>player</th>\n",
              "      <th>species</th>\n",
              "      <th>event</th>\n",
              "      <th>event_contents</th>\n",
              "    </tr>\n",
              "  </thead>\n",
              "  <tbody>\n",
              "    <tr>\n",
              "      <th>0</th>\n",
              "      <td>38872.0</td>\n",
              "      <td>0</td>\n",
              "      <td>0.0</td>\n",
              "      <td>1.0</td>\n",
              "      <td>0.0</td>\n",
              "      <td>at (22.25, 81.5078125)</td>\n",
              "    </tr>\n",
              "    <tr>\n",
              "      <th>1</th>\n",
              "      <td>38872.0</td>\n",
              "      <td>0</td>\n",
              "      <td>1.0</td>\n",
              "      <td>1.0</td>\n",
              "      <td>0.0</td>\n",
              "      <td>at (120.25, 153.83984375)</td>\n",
              "    </tr>\n",
              "    <tr>\n",
              "      <th>2</th>\n",
              "      <td>38872.0</td>\n",
              "      <td>0</td>\n",
              "      <td>1.0</td>\n",
              "      <td>1.0</td>\n",
              "      <td>1.0</td>\n",
              "      <td>['Nexus [3100001]']</td>\n",
              "    </tr>\n",
              "    <tr>\n",
              "      <th>3</th>\n",
              "      <td>38872.0</td>\n",
              "      <td>0</td>\n",
              "      <td>1.0</td>\n",
              "      <td>1.0</td>\n",
              "      <td>2.0</td>\n",
              "      <td>(15E0) - TrainProbe</td>\n",
              "    </tr>\n",
              "    <tr>\n",
              "      <th>4</th>\n",
              "      <td>38872.0</td>\n",
              "      <td>0</td>\n",
              "      <td>1.0</td>\n",
              "      <td>1.0</td>\n",
              "      <td>6.0</td>\n",
              "      <td>NaN</td>\n",
              "    </tr>\n",
              "  </tbody>\n",
              "</table>\n",
              "</div>"
            ],
            "text/plain": [
              "   game_id  time  player  species  event             event_contents\n",
              "0  38872.0     0     0.0      1.0    0.0     at (22.25, 81.5078125)\n",
              "1  38872.0     0     1.0      1.0    0.0  at (120.25, 153.83984375)\n",
              "2  38872.0     0     1.0      1.0    1.0        ['Nexus [3100001]']\n",
              "3  38872.0     0     1.0      1.0    2.0        (15E0) - TrainProbe\n",
              "4  38872.0     0     1.0      1.0    6.0                        NaN"
            ]
          },
          "metadata": {
            "tags": []
          },
          "execution_count": 4
        }
      ]
    },
    {
      "cell_type": "code",
      "metadata": {
        "id": "glH5yp9Ax7yn",
        "colab_type": "code",
        "colab": {}
      },
      "source": [
        "def top_ability(df,num):\n",
        "  df['ability_content']=df[df['event']==2]['event_contents'].apply(lambda x: x[8:]).apply(lambda x: x.split(';')[0])\n",
        "  data=df[df['event']==2][['game_id','winner','player','species','ability_content']]\n",
        "  data=data.groupby('species')['ability_content'].value_counts().reset_index(name='count')\n",
        "  \n",
        "  return data[data['species']==0].head(num),data[data['species']==1].head(num),data[data['species']==2].head(num)\n",
        "\n",
        "def make_df(ability_t,ability_z,ability_p):\n",
        "  col_list=[]\n",
        "  \n",
        "  #종족별 상위 50개의 명령어를 col_list에 삽입\n",
        "  for value in ability_t['ability_content']:\n",
        "    col_list.append(value)\n",
        "  for value in ability_z['ability_content']:\n",
        "    col_list.append(value)\n",
        "  for value in ability_p['ability_content']:\n",
        "    col_list.append(value)\n",
        "  \n",
        "  # 중복제거를 위한 set처리 ex) attack\n",
        "  col_list= list(set(col_list))\n",
        "\n",
        "  # player 1과 2의 컬럼을 구분하기위해 col_list 변형 후,\n",
        "  # new_colist에 컬럼이 될 것들을 넣고 컬럼 지정\n",
        "  new_col_list=[]\n",
        "  for col in col_list:\n",
        "    for i in [0,1]:\n",
        "      new_col_list.append('%s_%s'%(col,i))\n",
        "  \n",
        "  new_df = pd.DataFrame(columns=new_col_list)\n",
        "\n",
        "  return new_df\n",
        "\n",
        "def final_df(new_df,data):\n",
        "  new_list =[]\n",
        "  new_df_columns=new_df.columns\n",
        "  id_list = list(set(data['game_id'].values))\n",
        "\n",
        "\n",
        "  for id in id_list:\n",
        "    # 연산 시간 측정\n",
        "    if id % 1000 ==0:\n",
        "      print(id)     \n",
        "    \n",
        "    '''game_id 별로 ability_content만 추출하자.'''\n",
        "    data_0_values= list(data[(data['game_id']==id)&(data['player']==0)&(data['event']==2)]['ability_content'].values)\n",
        "    #data_0_values= list(data.query(\"(game_id=={})&(player=={})&(event=={})\".format(id,0,2))['ability_content'].values)  \n",
        "    data_1_values= list(data[(data['game_id']==id)&(data['player']==1)&(data['event']==2)]['ability_content'].values)\n",
        "    #data_1_values= list(data.query(\"(game_id=={})&(player=={})&(event=={})\".format(id,1,2))['ability_content'].values)\n",
        "\n",
        "\n",
        "\n",
        "    # 값을 넣기 위한 0 삽입\n",
        "    new_dict = dict(zip(list(new_df.columns),[0 for _ in range(len(list(new_df_columns)))]))\n",
        "    new_dict['game_id']=id\n",
        "    \n",
        "    # player 1 의 명령문 삽입\n",
        "    for value in data_0_values:\n",
        "      count = data_0_values.count(value)\n",
        "      value= '%s_0'%(value)\n",
        "      if value in new_df_columns:\n",
        "        new_dict[value] = count\n",
        "        #new_df.loc[id,value]+=1\n",
        "\n",
        "    \n",
        "    # player 2 의 명령문 삽입\n",
        "    for value in data_1_values:\n",
        "      count = data_1_values.count(value)\n",
        "      value= '%s_1'%(value)\n",
        "      if value in new_df_columns:\n",
        "        new_dict[value] = count\n",
        "        #new_df.loc[id,value]+=1\n",
        "    \n",
        "    new_list.append(new_dict)\n",
        "        \n",
        "  return new_list"
      ],
      "execution_count": 0,
      "outputs": []
    },
    {
      "cell_type": "code",
      "metadata": {
        "id": "cxvyHqGHf2R1",
        "colab_type": "code",
        "outputId": "95f3dec2-29ae-45e6-a0eb-3a6ac3a5be46",
        "colab": {
          "base_uri": "https://localhost:8080/",
          "height": 34
        }
      },
      "source": [
        "%%time\n",
        "a,b,c=top_ability(train,50)\n",
        "new_df=make_df(a,b,c)\n",
        "train_list=final_df(new_df,train)\n",
        "pd.DataFrame(train_list).to_csv('/content/drive/My Drive/Colab Notebooks/data/데이콘/스타2/train_top50_ability.csv')\n",
        "\n",
        "a,b,c=top_ability(test,50)\n",
        "new_df=make_df(a,b,c)\n",
        "test_list=final_df(new_df,test)\n",
        "pd.DataFrame(test_list).to_csv('/content/drive/My Drive/Colab Notebooks/data/데이콘/스타2/test_top50_ability.csv')"
      ],
      "execution_count": 0,
      "outputs": [
        {
          "output_type": "stream",
          "text": [
            "0.0\n"
          ],
          "name": "stdout"
        }
      ]
    }
  ]
}