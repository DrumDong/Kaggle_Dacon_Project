{
  "nbformat": 4,
  "nbformat_minor": 0,
  "metadata": {
    "colab": {
      "name": "StarCraft_6th.ipynb",
      "provenance": [],
      "machine_shape": "hm"
    },
    "kernelspec": {
      "name": "python3",
      "display_name": "Python 3"
    },
    "accelerator": "GPU"
  },
  "cells": [
    {
      "cell_type": "code",
      "metadata": {
        "id": "1aqML9ZjyXEc",
        "colab_type": "code",
        "colab": {}
      },
      "source": [
        "import pandas as pd\n",
        "import numpy as np\n",
        "import matplotlib.pyplot as plt\n",
        "import seaborn as sns"
      ],
      "execution_count": 0,
      "outputs": []
    },
    {
      "cell_type": "markdown",
      "metadata": {
        "id": "LpGiYIoryfX-",
        "colab_type": "text"
      },
      "source": [
        "# 테란 로그 분석\n",
        "- species : 0"
      ]
    },
    {
      "cell_type": "markdown",
      "metadata": {
        "id": "mxWCOcQO0VWB",
        "colab_type": "text"
      },
      "source": [
        "테란 로그를 분석하기 위해 테-테 전 위주로 뽑아보자."
      ]
    },
    {
      "cell_type": "code",
      "metadata": {
        "id": "XXHT_d97y_L7",
        "colab_type": "code",
        "colab": {}
      },
      "source": [
        "# p_0_t=train[(train['player']==0)&(train['species']==0)]['game_id']\n",
        "# p_1_t=train[(train['player']==1)&(train['species']==0)]['game_id']"
      ],
      "execution_count": 0,
      "outputs": []
    },
    {
      "cell_type": "code",
      "metadata": {
        "id": "ABX3CFTb2rwJ",
        "colab_type": "code",
        "colab": {}
      },
      "source": [
        "# k_1=set(p_0_t.values)\n",
        "# k_2=set(p_1_t.values)"
      ],
      "execution_count": 0,
      "outputs": []
    },
    {
      "cell_type": "code",
      "metadata": {
        "id": "JXuYMa4I3AqP",
        "colab_type": "code",
        "colab": {}
      },
      "source": [
        "# only_t_game_id=k_1&k_2"
      ],
      "execution_count": 0,
      "outputs": []
    },
    {
      "cell_type": "code",
      "metadata": {
        "id": "_vYB_A0w3TK6",
        "colab_type": "code",
        "colab": {}
      },
      "source": [
        "# df_T=train[train['game_id'].isin(only_t_game_id)]"
      ],
      "execution_count": 0,
      "outputs": []
    },
    {
      "cell_type": "code",
      "metadata": {
        "id": "VvqSsAOB8y7M",
        "colab_type": "code",
        "colab": {}
      },
      "source": [
        "#df_T.to_csv('/content/drive/My Drive/Colab Notebooks/data/데이콘/스타2/df_Terran')"
      ],
      "execution_count": 0,
      "outputs": []
    },
    {
      "cell_type": "markdown",
      "metadata": {
        "id": "4yJwqNPm942a",
        "colab_type": "text"
      },
      "source": [
        "---"
      ]
    },
    {
      "cell_type": "code",
      "metadata": {
        "id": "6uoddMsC9myw",
        "colab_type": "code",
        "outputId": "9a52eef4-34e3-4582-d0cb-5cfd8150bf4e",
        "colab": {
          "base_uri": "https://localhost:8080/",
          "height": 0
        }
      },
      "source": [
        "df_t = pd.read_csv('/content/drive/My Drive/Colab Notebooks/data/데이콘/스타2/df_Terran') # 뒤에 확장자를 붙이지 않았는데 그래도 괜찮구만.\n",
        "del df_t['Unnamed: 0']\n",
        "df_t.head()"
      ],
      "execution_count": 7,
      "outputs": [
        {
          "output_type": "execute_result",
          "data": {
            "text/html": [
              "<div>\n",
              "<style scoped>\n",
              "    .dataframe tbody tr th:only-of-type {\n",
              "        vertical-align: middle;\n",
              "    }\n",
              "\n",
              "    .dataframe tbody tr th {\n",
              "        vertical-align: top;\n",
              "    }\n",
              "\n",
              "    .dataframe thead th {\n",
              "        text-align: right;\n",
              "    }\n",
              "</style>\n",
              "<table border=\"1\" class=\"dataframe\">\n",
              "  <thead>\n",
              "    <tr style=\"text-align: right;\">\n",
              "      <th></th>\n",
              "      <th>game_id</th>\n",
              "      <th>winner</th>\n",
              "      <th>time</th>\n",
              "      <th>player</th>\n",
              "      <th>species</th>\n",
              "      <th>event</th>\n",
              "      <th>event_contents</th>\n",
              "    </tr>\n",
              "  </thead>\n",
              "  <tbody>\n",
              "    <tr>\n",
              "      <th>0</th>\n",
              "      <td>0.0</td>\n",
              "      <td>1.0</td>\n",
              "      <td>0.0</td>\n",
              "      <td>0.0</td>\n",
              "      <td>0.0</td>\n",
              "      <td>0.0</td>\n",
              "      <td>at (145.25, 21.5078125)</td>\n",
              "    </tr>\n",
              "    <tr>\n",
              "      <th>1</th>\n",
              "      <td>0.0</td>\n",
              "      <td>1.0</td>\n",
              "      <td>0.0</td>\n",
              "      <td>1.0</td>\n",
              "      <td>0.0</td>\n",
              "      <td>0.0</td>\n",
              "      <td>at (22.75, 147.0078125)</td>\n",
              "    </tr>\n",
              "    <tr>\n",
              "      <th>2</th>\n",
              "      <td>0.0</td>\n",
              "      <td>1.0</td>\n",
              "      <td>0.0</td>\n",
              "      <td>0.0</td>\n",
              "      <td>0.0</td>\n",
              "      <td>1.0</td>\n",
              "      <td>['OrbitalCommand [3080001]']</td>\n",
              "    </tr>\n",
              "    <tr>\n",
              "      <th>3</th>\n",
              "      <td>0.0</td>\n",
              "      <td>1.0</td>\n",
              "      <td>0.0</td>\n",
              "      <td>0.0</td>\n",
              "      <td>0.0</td>\n",
              "      <td>2.0</td>\n",
              "      <td>(1360) - TrainSCV</td>\n",
              "    </tr>\n",
              "    <tr>\n",
              "      <th>4</th>\n",
              "      <td>0.0</td>\n",
              "      <td>1.0</td>\n",
              "      <td>0.0</td>\n",
              "      <td>0.0</td>\n",
              "      <td>0.0</td>\n",
              "      <td>0.0</td>\n",
              "      <td>at (142.99609375, 24.50390625)</td>\n",
              "    </tr>\n",
              "  </tbody>\n",
              "</table>\n",
              "</div>"
            ],
            "text/plain": [
              "   game_id  winner  time  ...  species  event                  event_contents\n",
              "0      0.0     1.0   0.0  ...      0.0    0.0         at (145.25, 21.5078125)\n",
              "1      0.0     1.0   0.0  ...      0.0    0.0         at (22.75, 147.0078125)\n",
              "2      0.0     1.0   0.0  ...      0.0    1.0    ['OrbitalCommand [3080001]']\n",
              "3      0.0     1.0   0.0  ...      0.0    2.0               (1360) - TrainSCV\n",
              "4      0.0     1.0   0.0  ...      0.0    0.0  at (142.99609375, 24.50390625)\n",
              "\n",
              "[5 rows x 7 columns]"
            ]
          },
          "metadata": {
            "tags": []
          },
          "execution_count": 7
        }
      ]
    },
    {
      "cell_type": "code",
      "metadata": {
        "id": "p7n31MUJCd8K",
        "colab_type": "code",
        "colab": {}
      },
      "source": [
        "event_code={'Camera': 0, 'Selection': 1, 'Ability': 2, 'Right Click': 3, 'SetControlGroup': 4, 'GetControlGroup': 5, 'AddToControlGroup': 6, 'ControlGroup': 7}"
      ],
      "execution_count": 0,
      "outputs": []
    },
    {
      "cell_type": "markdown",
      "metadata": {
        "id": "rllASjNMAy4_",
        "colab_type": "text"
      },
      "source": [
        "## event 0 : Camera\n",
        "- Camera 위치를 보여주는 것\n",
        "- 제일 나중에 처리해도 될 것같음."
      ]
    },
    {
      "cell_type": "code",
      "metadata": {
        "id": "YX-7Wg3HAYZP",
        "colab_type": "code",
        "outputId": "276d87c4-a6b5-45d2-983c-4cfd2cf07f51",
        "colab": {
          "base_uri": "https://localhost:8080/",
          "height": 0
        }
      },
      "source": [
        "df_t[(df_t['winner']==df_t['player'])&(df_t['event']==0)]"
      ],
      "execution_count": 9,
      "outputs": [
        {
          "output_type": "execute_result",
          "data": {
            "text/html": [
              "<div>\n",
              "<style scoped>\n",
              "    .dataframe tbody tr th:only-of-type {\n",
              "        vertical-align: middle;\n",
              "    }\n",
              "\n",
              "    .dataframe tbody tr th {\n",
              "        vertical-align: top;\n",
              "    }\n",
              "\n",
              "    .dataframe thead th {\n",
              "        text-align: right;\n",
              "    }\n",
              "</style>\n",
              "<table border=\"1\" class=\"dataframe\">\n",
              "  <thead>\n",
              "    <tr style=\"text-align: right;\">\n",
              "      <th></th>\n",
              "      <th>game_id</th>\n",
              "      <th>winner</th>\n",
              "      <th>time</th>\n",
              "      <th>player</th>\n",
              "      <th>species</th>\n",
              "      <th>event</th>\n",
              "      <th>event_contents</th>\n",
              "    </tr>\n",
              "  </thead>\n",
              "  <tbody>\n",
              "    <tr>\n",
              "      <th>1</th>\n",
              "      <td>0.0</td>\n",
              "      <td>1.0</td>\n",
              "      <td>0.0</td>\n",
              "      <td>1.0</td>\n",
              "      <td>0.0</td>\n",
              "      <td>0.0</td>\n",
              "      <td>at (22.75, 147.0078125)</td>\n",
              "    </tr>\n",
              "    <tr>\n",
              "      <th>30</th>\n",
              "      <td>0.0</td>\n",
              "      <td>1.0</td>\n",
              "      <td>0.0</td>\n",
              "      <td>1.0</td>\n",
              "      <td>0.0</td>\n",
              "      <td>0.0</td>\n",
              "      <td>at (22.75, 145.90625)</td>\n",
              "    </tr>\n",
              "    <tr>\n",
              "      <th>31</th>\n",
              "      <td>0.0</td>\n",
              "      <td>1.0</td>\n",
              "      <td>0.0</td>\n",
              "      <td>1.0</td>\n",
              "      <td>0.0</td>\n",
              "      <td>0.0</td>\n",
              "      <td>at (22.75, 143.24609375)</td>\n",
              "    </tr>\n",
              "    <tr>\n",
              "      <th>33</th>\n",
              "      <td>0.0</td>\n",
              "      <td>1.0</td>\n",
              "      <td>0.0</td>\n",
              "      <td>1.0</td>\n",
              "      <td>0.0</td>\n",
              "      <td>0.0</td>\n",
              "      <td>at (22.75, 140.9921875)</td>\n",
              "    </tr>\n",
              "    <tr>\n",
              "      <th>34</th>\n",
              "      <td>0.0</td>\n",
              "      <td>1.0</td>\n",
              "      <td>0.0</td>\n",
              "      <td>1.0</td>\n",
              "      <td>0.0</td>\n",
              "      <td>0.0</td>\n",
              "      <td>at (23.1328125, 140.9921875)</td>\n",
              "    </tr>\n",
              "    <tr>\n",
              "      <th>...</th>\n",
              "      <td>...</td>\n",
              "      <td>...</td>\n",
              "      <td>...</td>\n",
              "      <td>...</td>\n",
              "      <td>...</td>\n",
              "      <td>...</td>\n",
              "      <td>...</td>\n",
              "    </tr>\n",
              "    <tr>\n",
              "      <th>9908001</th>\n",
              "      <td>38866.0</td>\n",
              "      <td>1.0</td>\n",
              "      <td>0.0</td>\n",
              "      <td>1.0</td>\n",
              "      <td>0.0</td>\n",
              "      <td>0.0</td>\n",
              "      <td>at (138.5, 160.7578125)</td>\n",
              "    </tr>\n",
              "    <tr>\n",
              "      <th>9908024</th>\n",
              "      <td>38866.0</td>\n",
              "      <td>1.0</td>\n",
              "      <td>0.0</td>\n",
              "      <td>1.0</td>\n",
              "      <td>0.0</td>\n",
              "      <td>0.0</td>\n",
              "      <td>at (127.74609375, 159.8125)</td>\n",
              "    </tr>\n",
              "    <tr>\n",
              "      <th>9908026</th>\n",
              "      <td>38866.0</td>\n",
              "      <td>1.0</td>\n",
              "      <td>0.0</td>\n",
              "      <td>1.0</td>\n",
              "      <td>0.0</td>\n",
              "      <td>0.0</td>\n",
              "      <td>at (126.98046875, 159.75)</td>\n",
              "    </tr>\n",
              "    <tr>\n",
              "      <th>9908027</th>\n",
              "      <td>38866.0</td>\n",
              "      <td>1.0</td>\n",
              "      <td>0.0</td>\n",
              "      <td>1.0</td>\n",
              "      <td>0.0</td>\n",
              "      <td>0.0</td>\n",
              "      <td>at (124.28515625, 159.75)</td>\n",
              "    </tr>\n",
              "    <tr>\n",
              "      <th>9908037</th>\n",
              "      <td>38866.0</td>\n",
              "      <td>1.0</td>\n",
              "      <td>0.0</td>\n",
              "      <td>1.0</td>\n",
              "      <td>0.0</td>\n",
              "      <td>0.0</td>\n",
              "      <td>at (138.5, 160.7578125)</td>\n",
              "    </tr>\n",
              "  </tbody>\n",
              "</table>\n",
              "<p>2368960 rows × 7 columns</p>\n",
              "</div>"
            ],
            "text/plain": [
              "         game_id  winner  time  ...  species  event                event_contents\n",
              "1            0.0     1.0   0.0  ...      0.0    0.0       at (22.75, 147.0078125)\n",
              "30           0.0     1.0   0.0  ...      0.0    0.0         at (22.75, 145.90625)\n",
              "31           0.0     1.0   0.0  ...      0.0    0.0      at (22.75, 143.24609375)\n",
              "33           0.0     1.0   0.0  ...      0.0    0.0       at (22.75, 140.9921875)\n",
              "34           0.0     1.0   0.0  ...      0.0    0.0  at (23.1328125, 140.9921875)\n",
              "...          ...     ...   ...  ...      ...    ...                           ...\n",
              "9908001  38866.0     1.0   0.0  ...      0.0    0.0       at (138.5, 160.7578125)\n",
              "9908024  38866.0     1.0   0.0  ...      0.0    0.0   at (127.74609375, 159.8125)\n",
              "9908026  38866.0     1.0   0.0  ...      0.0    0.0     at (126.98046875, 159.75)\n",
              "9908027  38866.0     1.0   0.0  ...      0.0    0.0     at (124.28515625, 159.75)\n",
              "9908037  38866.0     1.0   0.0  ...      0.0    0.0       at (138.5, 160.7578125)\n",
              "\n",
              "[2368960 rows x 7 columns]"
            ]
          },
          "metadata": {
            "tags": []
          },
          "execution_count": 9
        }
      ]
    },
    {
      "cell_type": "markdown",
      "metadata": {
        "id": "kEOzulKHBqJr",
        "colab_type": "text"
      },
      "source": [
        "## event 1 : Selection"
      ]
    },
    {
      "cell_type": "code",
      "metadata": {
        "id": "rxA9yyOUClWL",
        "colab_type": "code",
        "outputId": "0288120f-ad40-46f7-e97a-44b54a2438eb",
        "colab": {
          "base_uri": "https://localhost:8080/",
          "height": 0
        }
      },
      "source": [
        "df_t[(df_t['winner']==df_t['player'])&(df_t['event']==1)]"
      ],
      "execution_count": 10,
      "outputs": [
        {
          "output_type": "execute_result",
          "data": {
            "text/html": [
              "<div>\n",
              "<style scoped>\n",
              "    .dataframe tbody tr th:only-of-type {\n",
              "        vertical-align: middle;\n",
              "    }\n",
              "\n",
              "    .dataframe tbody tr th {\n",
              "        vertical-align: top;\n",
              "    }\n",
              "\n",
              "    .dataframe thead th {\n",
              "        text-align: right;\n",
              "    }\n",
              "</style>\n",
              "<table border=\"1\" class=\"dataframe\">\n",
              "  <thead>\n",
              "    <tr style=\"text-align: right;\">\n",
              "      <th></th>\n",
              "      <th>game_id</th>\n",
              "      <th>winner</th>\n",
              "      <th>time</th>\n",
              "      <th>player</th>\n",
              "      <th>species</th>\n",
              "      <th>event</th>\n",
              "      <th>event_contents</th>\n",
              "    </tr>\n",
              "  </thead>\n",
              "  <tbody>\n",
              "    <tr>\n",
              "      <th>57</th>\n",
              "      <td>0.0</td>\n",
              "      <td>1.0</td>\n",
              "      <td>0.0</td>\n",
              "      <td>1.0</td>\n",
              "      <td>0.0</td>\n",
              "      <td>1.0</td>\n",
              "      <td>['OrbitalCommand [33C0001]']</td>\n",
              "    </tr>\n",
              "    <tr>\n",
              "      <th>130</th>\n",
              "      <td>0.0</td>\n",
              "      <td>1.0</td>\n",
              "      <td>1.0</td>\n",
              "      <td>1.0</td>\n",
              "      <td>0.0</td>\n",
              "      <td>1.0</td>\n",
              "      <td>['SCV [3400001]', 'SCV [3440001]', 'SCV [34C00...</td>\n",
              "    </tr>\n",
              "    <tr>\n",
              "      <th>141</th>\n",
              "      <td>0.0</td>\n",
              "      <td>1.0</td>\n",
              "      <td>1.0</td>\n",
              "      <td>1.0</td>\n",
              "      <td>0.0</td>\n",
              "      <td>1.0</td>\n",
              "      <td>['SCV [3680001]', 'SCV [3840001]']</td>\n",
              "    </tr>\n",
              "    <tr>\n",
              "      <th>146</th>\n",
              "      <td>0.0</td>\n",
              "      <td>1.0</td>\n",
              "      <td>1.0</td>\n",
              "      <td>1.0</td>\n",
              "      <td>0.0</td>\n",
              "      <td>1.0</td>\n",
              "      <td>['Barracks [3A40002]']</td>\n",
              "    </tr>\n",
              "    <tr>\n",
              "      <th>183</th>\n",
              "      <td>0.0</td>\n",
              "      <td>1.0</td>\n",
              "      <td>2.0</td>\n",
              "      <td>1.0</td>\n",
              "      <td>0.0</td>\n",
              "      <td>1.0</td>\n",
              "      <td>['OrbitalCommand [33C0001]']</td>\n",
              "    </tr>\n",
              "    <tr>\n",
              "      <th>...</th>\n",
              "      <td>...</td>\n",
              "      <td>...</td>\n",
              "      <td>...</td>\n",
              "      <td>...</td>\n",
              "      <td>...</td>\n",
              "      <td>...</td>\n",
              "      <td>...</td>\n",
              "    </tr>\n",
              "    <tr>\n",
              "      <th>9908038</th>\n",
              "      <td>38866.0</td>\n",
              "      <td>1.0</td>\n",
              "      <td>0.0</td>\n",
              "      <td>1.0</td>\n",
              "      <td>0.0</td>\n",
              "      <td>1.0</td>\n",
              "      <td>['SCV [3380001]', 'SCV [33C0001]', 'SCV [34800...</td>\n",
              "    </tr>\n",
              "    <tr>\n",
              "      <th>9908040</th>\n",
              "      <td>38866.0</td>\n",
              "      <td>1.0</td>\n",
              "      <td>0.0</td>\n",
              "      <td>1.0</td>\n",
              "      <td>0.0</td>\n",
              "      <td>1.0</td>\n",
              "      <td>['DestructibleSignsConstruction [380001]']</td>\n",
              "    </tr>\n",
              "    <tr>\n",
              "      <th>9908042</th>\n",
              "      <td>38866.0</td>\n",
              "      <td>1.0</td>\n",
              "      <td>0.0</td>\n",
              "      <td>1.0</td>\n",
              "      <td>0.0</td>\n",
              "      <td>1.0</td>\n",
              "      <td>['SCV [34C0001]']</td>\n",
              "    </tr>\n",
              "    <tr>\n",
              "      <th>9908049</th>\n",
              "      <td>38866.0</td>\n",
              "      <td>1.0</td>\n",
              "      <td>0.0</td>\n",
              "      <td>1.0</td>\n",
              "      <td>0.0</td>\n",
              "      <td>1.0</td>\n",
              "      <td>['SCV [3400001]']</td>\n",
              "    </tr>\n",
              "    <tr>\n",
              "      <th>9908082</th>\n",
              "      <td>38866.0</td>\n",
              "      <td>1.0</td>\n",
              "      <td>0.0</td>\n",
              "      <td>1.0</td>\n",
              "      <td>0.0</td>\n",
              "      <td>1.0</td>\n",
              "      <td>['SCV [3400001]', 'SCV [3440001]']</td>\n",
              "    </tr>\n",
              "  </tbody>\n",
              "</table>\n",
              "<p>594591 rows × 7 columns</p>\n",
              "</div>"
            ],
            "text/plain": [
              "         game_id  ...                                     event_contents\n",
              "57           0.0  ...                       ['OrbitalCommand [33C0001]']\n",
              "130          0.0  ...  ['SCV [3400001]', 'SCV [3440001]', 'SCV [34C00...\n",
              "141          0.0  ...                 ['SCV [3680001]', 'SCV [3840001]']\n",
              "146          0.0  ...                             ['Barracks [3A40002]']\n",
              "183          0.0  ...                       ['OrbitalCommand [33C0001]']\n",
              "...          ...  ...                                                ...\n",
              "9908038  38866.0  ...  ['SCV [3380001]', 'SCV [33C0001]', 'SCV [34800...\n",
              "9908040  38866.0  ...         ['DestructibleSignsConstruction [380001]']\n",
              "9908042  38866.0  ...                                  ['SCV [34C0001]']\n",
              "9908049  38866.0  ...                                  ['SCV [3400001]']\n",
              "9908082  38866.0  ...                 ['SCV [3400001]', 'SCV [3440001]']\n",
              "\n",
              "[594591 rows x 7 columns]"
            ]
          },
          "metadata": {
            "tags": []
          },
          "execution_count": 10
        }
      ]
    },
    {
      "cell_type": "markdown",
      "metadata": {
        "id": "miUp-qjMC2Af",
        "colab_type": "text"
      },
      "source": [
        "## event 2 : Ability"
      ]
    },
    {
      "cell_type": "code",
      "metadata": {
        "id": "92f-nWLJY5Bn",
        "colab_type": "code",
        "outputId": "fb20241a-800b-45c2-f6a7-a077bd13dcbb",
        "colab": {
          "base_uri": "https://localhost:8080/",
          "height": 0
        }
      },
      "source": [
        "df_t['ability_kind']=df_t[df_t['event']==2]['event_contents'].apply(lambda x: x[8:]).apply(lambda x: x.split(';')[0])\n",
        "df_t"
      ],
      "execution_count": 11,
      "outputs": [
        {
          "output_type": "execute_result",
          "data": {
            "text/html": [
              "<div>\n",
              "<style scoped>\n",
              "    .dataframe tbody tr th:only-of-type {\n",
              "        vertical-align: middle;\n",
              "    }\n",
              "\n",
              "    .dataframe tbody tr th {\n",
              "        vertical-align: top;\n",
              "    }\n",
              "\n",
              "    .dataframe thead th {\n",
              "        text-align: right;\n",
              "    }\n",
              "</style>\n",
              "<table border=\"1\" class=\"dataframe\">\n",
              "  <thead>\n",
              "    <tr style=\"text-align: right;\">\n",
              "      <th></th>\n",
              "      <th>game_id</th>\n",
              "      <th>winner</th>\n",
              "      <th>time</th>\n",
              "      <th>player</th>\n",
              "      <th>species</th>\n",
              "      <th>event</th>\n",
              "      <th>event_contents</th>\n",
              "      <th>ability_kind</th>\n",
              "    </tr>\n",
              "  </thead>\n",
              "  <tbody>\n",
              "    <tr>\n",
              "      <th>0</th>\n",
              "      <td>0.0</td>\n",
              "      <td>1.0</td>\n",
              "      <td>0.0</td>\n",
              "      <td>0.0</td>\n",
              "      <td>0.0</td>\n",
              "      <td>0.0</td>\n",
              "      <td>at (145.25, 21.5078125)</td>\n",
              "      <td>NaN</td>\n",
              "    </tr>\n",
              "    <tr>\n",
              "      <th>1</th>\n",
              "      <td>0.0</td>\n",
              "      <td>1.0</td>\n",
              "      <td>0.0</td>\n",
              "      <td>1.0</td>\n",
              "      <td>0.0</td>\n",
              "      <td>0.0</td>\n",
              "      <td>at (22.75, 147.0078125)</td>\n",
              "      <td>NaN</td>\n",
              "    </tr>\n",
              "    <tr>\n",
              "      <th>2</th>\n",
              "      <td>0.0</td>\n",
              "      <td>1.0</td>\n",
              "      <td>0.0</td>\n",
              "      <td>0.0</td>\n",
              "      <td>0.0</td>\n",
              "      <td>1.0</td>\n",
              "      <td>['OrbitalCommand [3080001]']</td>\n",
              "      <td>NaN</td>\n",
              "    </tr>\n",
              "    <tr>\n",
              "      <th>3</th>\n",
              "      <td>0.0</td>\n",
              "      <td>1.0</td>\n",
              "      <td>0.0</td>\n",
              "      <td>0.0</td>\n",
              "      <td>0.0</td>\n",
              "      <td>2.0</td>\n",
              "      <td>(1360) - TrainSCV</td>\n",
              "      <td>TrainSCV</td>\n",
              "    </tr>\n",
              "    <tr>\n",
              "      <th>4</th>\n",
              "      <td>0.0</td>\n",
              "      <td>1.0</td>\n",
              "      <td>0.0</td>\n",
              "      <td>0.0</td>\n",
              "      <td>0.0</td>\n",
              "      <td>0.0</td>\n",
              "      <td>at (142.99609375, 24.50390625)</td>\n",
              "      <td>NaN</td>\n",
              "    </tr>\n",
              "    <tr>\n",
              "      <th>...</th>\n",
              "      <td>...</td>\n",
              "      <td>...</td>\n",
              "      <td>...</td>\n",
              "      <td>...</td>\n",
              "      <td>...</td>\n",
              "      <td>...</td>\n",
              "      <td>...</td>\n",
              "      <td>...</td>\n",
              "    </tr>\n",
              "    <tr>\n",
              "      <th>9908080</th>\n",
              "      <td>38866.0</td>\n",
              "      <td>1.0</td>\n",
              "      <td>0.0</td>\n",
              "      <td>1.0</td>\n",
              "      <td>0.0</td>\n",
              "      <td>5.0</td>\n",
              "      <td>NaN</td>\n",
              "      <td>NaN</td>\n",
              "    </tr>\n",
              "    <tr>\n",
              "      <th>9908081</th>\n",
              "      <td>38866.0</td>\n",
              "      <td>1.0</td>\n",
              "      <td>0.0</td>\n",
              "      <td>0.0</td>\n",
              "      <td>0.0</td>\n",
              "      <td>5.0</td>\n",
              "      <td>NaN</td>\n",
              "      <td>NaN</td>\n",
              "    </tr>\n",
              "    <tr>\n",
              "      <th>9908082</th>\n",
              "      <td>38866.0</td>\n",
              "      <td>1.0</td>\n",
              "      <td>0.0</td>\n",
              "      <td>1.0</td>\n",
              "      <td>0.0</td>\n",
              "      <td>1.0</td>\n",
              "      <td>['SCV [3400001]', 'SCV [3440001]']</td>\n",
              "      <td>NaN</td>\n",
              "    </tr>\n",
              "    <tr>\n",
              "      <th>9908083</th>\n",
              "      <td>38866.0</td>\n",
              "      <td>1.0</td>\n",
              "      <td>0.0</td>\n",
              "      <td>1.0</td>\n",
              "      <td>0.0</td>\n",
              "      <td>5.0</td>\n",
              "      <td>NaN</td>\n",
              "      <td>NaN</td>\n",
              "    </tr>\n",
              "    <tr>\n",
              "      <th>9908084</th>\n",
              "      <td>38866.0</td>\n",
              "      <td>1.0</td>\n",
              "      <td>0.0</td>\n",
              "      <td>1.0</td>\n",
              "      <td>0.0</td>\n",
              "      <td>5.0</td>\n",
              "      <td>NaN</td>\n",
              "      <td>NaN</td>\n",
              "    </tr>\n",
              "  </tbody>\n",
              "</table>\n",
              "<p>9908085 rows × 8 columns</p>\n",
              "</div>"
            ],
            "text/plain": [
              "         game_id  winner  ...                      event_contents  ability_kind\n",
              "0            0.0     1.0  ...             at (145.25, 21.5078125)           NaN\n",
              "1            0.0     1.0  ...             at (22.75, 147.0078125)           NaN\n",
              "2            0.0     1.0  ...        ['OrbitalCommand [3080001]']           NaN\n",
              "3            0.0     1.0  ...                   (1360) - TrainSCV      TrainSCV\n",
              "4            0.0     1.0  ...      at (142.99609375, 24.50390625)           NaN\n",
              "...          ...     ...  ...                                 ...           ...\n",
              "9908080  38866.0     1.0  ...                                 NaN           NaN\n",
              "9908081  38866.0     1.0  ...                                 NaN           NaN\n",
              "9908082  38866.0     1.0  ...  ['SCV [3400001]', 'SCV [3440001]']           NaN\n",
              "9908083  38866.0     1.0  ...                                 NaN           NaN\n",
              "9908084  38866.0     1.0  ...                                 NaN           NaN\n",
              "\n",
              "[9908085 rows x 8 columns]"
            ]
          },
          "metadata": {
            "tags": []
          },
          "execution_count": 11
        }
      ]
    },
    {
      "cell_type": "code",
      "metadata": {
        "id": "v30VEvQuaYtE",
        "colab_type": "code",
        "colab": {}
      },
      "source": [
        "ability_list=list(set(df_t[df_t['ability_kind'].isnull()==False]['ability_kind'].values))"
      ],
      "execution_count": 0,
      "outputs": []
    },
    {
      "cell_type": "code",
      "metadata": {
        "id": "lY01gOQ8e5Xl",
        "colab_type": "code",
        "outputId": "4f5ea0c1-a3e7-4236-d616-639f8f27a645",
        "colab": {
          "base_uri": "https://localhost:8080/",
          "height": 0
        }
      },
      "source": [
        "len(ability_list)"
      ],
      "execution_count": 13,
      "outputs": [
        {
          "output_type": "execute_result",
          "data": {
            "text/plain": [
              "147"
            ]
          },
          "metadata": {
            "tags": []
          },
          "execution_count": 13
        }
      ]
    },
    {
      "cell_type": "code",
      "metadata": {
        "id": "q1Q6rHxTgm_u",
        "colab_type": "code",
        "outputId": "f29aba60-dc0e-4660-fd21-3cad067ec41f",
        "colab": {
          "base_uri": "https://localhost:8080/",
          "height": 0
        }
      },
      "source": [
        "#상위 50개만 출력\n",
        "top_50= df_t[df_t['ability_kind'].isnull()==False]['ability_kind'].value_counts(ascending=False).head(50)\n",
        "top_50.plot(kind='barh')\n",
        "plt.rc('ytick',labelsize=10)\n",
        "top_50"
      ],
      "execution_count": 14,
      "outputs": [
        {
          "output_type": "execute_result",
          "data": {
            "text/plain": [
              " TrainSCV                         121659\n",
              "Attack                             97272\n",
              " TrainMarine                       44413\n",
              " BuildSupplyDepot                  34715\n",
              "CalldownMULE                       21859\n",
              " BuildRefinery                     18530\n",
              " BuildBarracks                     16359\n",
              " LowerSupplyDepot                  14036\n",
              " UpgradeToOrbitalCommand           11905\n",
              " BuildSiegeTank                    10335\n",
              " TrainReaper                        8782\n",
              " BuildFactory                       8299\n",
              " BuildCommandCenter                 8239\n",
              "CancelLast                          7966\n",
              " BuildBarracksReactor               7424\n",
              " KD8Charge                          6850\n",
              " SiegeMode                          6499\n",
              " BuildStarport                      6331\n",
              "Stop                                6102\n",
              " BuildMissileTurret                 5887\n",
              " BuildFactoryTechLab                5483\n",
              " TrainCyclone                       5440\n",
              " BuildBarracksTechLab               5223\n",
              " BuildEngineeringBay                5220\n",
              " TrainMedivac                       4642\n",
              " MedivacSpeedBoost                  3780\n",
              "CancelSlot                          3644\n",
              " LiftBarracks                       3603\n",
              " RaiseSupplyDepot                   3490\n",
              "Patrol                              3427\n",
              " ScannerSweep                       3397\n",
              " TrainMarauder                      3382\n",
              " TrainViking                        3152\n",
              " ResearchStimpack                   2841\n",
              " UnloadTargetMedivac                2775\n",
              "HoldPosition                        2744\n",
              " LiftStarport                       2703\n",
              " LiftFactory                        2645\n",
              " LandBarracks                       2504\n",
              " LandStarport                       2390\n",
              " BuildHellion                       2359\n",
              " BuildStarportReactor               2098\n",
              " LandFactory                        2055\n",
              " UpgradeTerranInfantryWeapons1      1964\n",
              " BuildWidowMine                     1913\n",
              " TrainBanshee                       1878\n",
              "ReturnCargo                         1793\n",
              " BurrowWidowMine                    1757\n",
              " TankMode                           1677\n",
              " BuildBunker                        1536\n",
              "Name: ability_kind, dtype: int64"
            ]
          },
          "metadata": {
            "tags": []
          },
          "execution_count": 14
        },
        {
          "output_type": "display_data",
          "data": {
            "image/png": "[encoded data removed]",
            "text/plain": [
              "<Figure size 432x288 with 1 Axes>"
            ]
          },
          "metadata": {
            "tags": []
          }
        }
      ]
    },
    {
      "cell_type": "markdown",
      "metadata": {
        "id": "t-QIYA_Iw7ao",
        "colab_type": "text"
      },
      "source": [
        "테테,테저,테프 전에 따른 상위 명령어를 볼 필요가 있을 것 같음."
      ]
    },
    {
      "cell_type": "markdown",
      "metadata": {
        "id": "ZnwB-DAqxylH",
        "colab_type": "text"
      },
      "source": [
        "# Top 50 명령어 위주 추출 전처리"
      ]
    },
    {
      "cell_type": "code",
      "metadata": {
        "id": "Tlb1vbZwxxUr",
        "colab_type": "code",
        "colab": {}
      },
      "source": [
        "train = pd.read_pickle('/content/drive/My Drive/Colab Notebooks/data/데이콘/스타2/train.pkl')\n",
        "test = pd.read_pickle('/content/drive/My Drive/Colab Notebooks/data/데이콘/스타2/test.pkl')"
      ],
      "execution_count": 0,
      "outputs": []
    },
    {
      "cell_type": "code",
      "metadata": {
        "id": "glH5yp9Ax7yn",
        "colab_type": "code",
        "colab": {}
      },
      "source": [
        "def top_ability(df,num):\n",
        "  df['ability_content']=df[df['event']==2]['event_contents'].apply(lambda x: x[8:]).apply(lambda x: x.split(';')[0])\n",
        "  data=df[df['event']==2][['game_id','winner','player','species','ability_content']]\n",
        "  data=data.groupby('species')['ability_content'].value_counts().reset_index(name='count')\n",
        "  \n",
        "  return data[data['species']==0].head(num),data[data['species']==1].head(num),data[data['species']==2].head(num)\n",
        "\n",
        "def make_df(ability_t,ability_z,ability_p):\n",
        "  col_list=[]\n",
        "  \n",
        "  #종족별 상위 50개의 명령어를 col_list에 삽입\n",
        "  for value in ability_t['ability_content']:\n",
        "    col_list.append(value)\n",
        "  for value in ability_z['ability_content']:\n",
        "    col_list.append(value)\n",
        "  for value in ability_p['ability_content']:\n",
        "    col_list.append(value)\n",
        "  \n",
        "  # 중복제거를 위한 set처리 ex) attack\n",
        "  col_list= list(set(col_list))\n",
        "\n",
        "  # player 1과 2의 컬럼을 구분하기위해 col_list 변형 후,\n",
        "  # new_colist에 컬럼이 될 것들을 넣고 컬럼 지정\n",
        "  new_col_list=[]\n",
        "  for col in col_list:\n",
        "    for i in [0,1]:\n",
        "      new_col_list.append('%s_%s'%(col,i))\n",
        "  \n",
        "  new_df = pd.DataFrame(columns=new_col_list)\n",
        "\n",
        "  return new_df\n",
        "\n",
        "def final_df(new_df,data):\n",
        "  for id in set(data['game_id'].values):\n",
        "    # 연산 시간 측정\n",
        "    if id % 10000 ==0:\n",
        "      print(id)\n",
        "      %%time\n",
        "    \n",
        "    # game_id 별로 ability_content만 추출하자.\n",
        "    data_0_values= data[(data['game_id']==id)&(data['player']==0)&(data['event']==2)]['ability_content'].values\n",
        "    data_1_values= data[(data['game_id']==id)&(data['player']==1)&(data['event']==2)]['ability_content'].values\n",
        "    \n",
        "    # 값을 넣기 위한 0 삽입\n",
        "    new_df.loc[id,:]=0\n",
        "\n",
        "    # player 1 의 명령문 삽입\n",
        "    for value in data_0_values:\n",
        "      value= '%s_0'%(value)\n",
        "      if value in new_df.columns:\n",
        "        new_df.loc[id,value]+=1\n",
        "\n",
        "    \n",
        "    # player 2 의 명령문 삽입\n",
        "    for value in data_1_values:\n",
        "      value= '%s_1'%(value)\n",
        "      if value in new_df.columns:\n",
        "        new_df.loc[id,value]+=1\n",
        "    \n",
        "  return new_df"
      ],
      "execution_count": 0,
      "outputs": []
    },
    {
      "cell_type": "code",
      "metadata": {
        "id": "cxvyHqGHf2R1",
        "colab_type": "code",
        "colab": {
          "base_uri": "https://localhost:8080/",
          "height": 439
        },
        "outputId": "9a45aae6-572e-4c34-eb9b-adf9424ed239"
      },
      "source": [
        "a,b,c=top_ability(train,50)\n",
        "new_df=make_df(a,b,c)\n",
        "final_df(new_df,train).to_csv('/content/drive/My Drive/Colab Notebooks/data/데이콘/스타2/train_top50_ability.csv')\n",
        "\n",
        "a,b,c=top_ability(test,50)\n",
        "new_df=make_df(a,b,c)\n",
        "final_df(new_df,train).to_csv('/content/drive/My Drive/Colab Notebooks/data/데이콘/스타2/test_top50_ability.csv')"
      ],
      "execution_count": 17,
      "outputs": [
        {
          "output_type": "stream",
          "text": [
            "0.0\n",
            "CPU times: user 2 µs, sys: 0 ns, total: 2 µs\n",
            "Wall time: 5.25 µs\n"
          ],
          "name": "stdout"
        },
        {
          "output_type": "error",
          "ename": "KeyboardInterrupt",
          "evalue": "ignored",
          "traceback": [
            "\u001b[0;31m---------------------------------------------------------------------------\u001b[0m",
            "\u001b[0;31mKeyboardInterrupt\u001b[0m                         Traceback (most recent call last)",
            "\u001b[0;32m<ipython-input-17-496cd062b953>\u001b[0m in \u001b[0;36m<module>\u001b[0;34m()\u001b[0m\n\u001b[1;32m      1\u001b[0m \u001b[0ma\u001b[0m\u001b[0;34m,\u001b[0m\u001b[0mb\u001b[0m\u001b[0;34m,\u001b[0m\u001b[0mc\u001b[0m\u001b[0;34m=\u001b[0m\u001b[0mtop_ability\u001b[0m\u001b[0;34m(\u001b[0m\u001b[0mtrain\u001b[0m\u001b[0;34m,\u001b[0m\u001b[0;36m50\u001b[0m\u001b[0;34m)\u001b[0m\u001b[0;34m\u001b[0m\u001b[0;34m\u001b[0m\u001b[0m\n\u001b[1;32m      2\u001b[0m \u001b[0mnew_df\u001b[0m\u001b[0;34m=\u001b[0m\u001b[0mmake_df\u001b[0m\u001b[0;34m(\u001b[0m\u001b[0ma\u001b[0m\u001b[0;34m,\u001b[0m\u001b[0mb\u001b[0m\u001b[0;34m,\u001b[0m\u001b[0mc\u001b[0m\u001b[0;34m)\u001b[0m\u001b[0;34m\u001b[0m\u001b[0;34m\u001b[0m\u001b[0m\n\u001b[0;32m----> 3\u001b[0;31m \u001b[0mfinal_df\u001b[0m\u001b[0;34m(\u001b[0m\u001b[0mnew_df\u001b[0m\u001b[0;34m,\u001b[0m\u001b[0mtrain\u001b[0m\u001b[0;34m)\u001b[0m\u001b[0;34m.\u001b[0m\u001b[0mto_csv\u001b[0m\u001b[0;34m(\u001b[0m\u001b[0;34m'/content/drive/My Drive/Colab Notebooks/data/데이콘/스타2/train_top50_ability.csv'\u001b[0m\u001b[0;34m)\u001b[0m\u001b[0;34m\u001b[0m\u001b[0;34m\u001b[0m\u001b[0m\n\u001b[0m\u001b[1;32m      4\u001b[0m \u001b[0;34m\u001b[0m\u001b[0m\n\u001b[1;32m      5\u001b[0m \u001b[0ma\u001b[0m\u001b[0;34m,\u001b[0m\u001b[0mb\u001b[0m\u001b[0;34m,\u001b[0m\u001b[0mc\u001b[0m\u001b[0;34m=\u001b[0m\u001b[0mtop_ability\u001b[0m\u001b[0;34m(\u001b[0m\u001b[0mtest\u001b[0m\u001b[0;34m,\u001b[0m\u001b[0;36m50\u001b[0m\u001b[0;34m)\u001b[0m\u001b[0;34m\u001b[0m\u001b[0;34m\u001b[0m\u001b[0m\n",
            "\u001b[0;32m<ipython-input-16-3d1f5a03a94f>\u001b[0m in \u001b[0;36mfinal_df\u001b[0;34m(new_df, data)\u001b[0m\n\u001b[1;32m     40\u001b[0m     \u001b[0;31m# game_id 별로 ability_content만 추출하자.\u001b[0m\u001b[0;34m\u001b[0m\u001b[0;34m\u001b[0m\u001b[0;34m\u001b[0m\u001b[0m\n\u001b[1;32m     41\u001b[0m     \u001b[0mdata_0_values\u001b[0m\u001b[0;34m=\u001b[0m \u001b[0mdata\u001b[0m\u001b[0;34m[\u001b[0m\u001b[0;34m(\u001b[0m\u001b[0mdata\u001b[0m\u001b[0;34m[\u001b[0m\u001b[0;34m'game_id'\u001b[0m\u001b[0;34m]\u001b[0m\u001b[0;34m==\u001b[0m\u001b[0mid\u001b[0m\u001b[0;34m)\u001b[0m\u001b[0;34m&\u001b[0m\u001b[0;34m(\u001b[0m\u001b[0mdata\u001b[0m\u001b[0;34m[\u001b[0m\u001b[0;34m'player'\u001b[0m\u001b[0;34m]\u001b[0m\u001b[0;34m==\u001b[0m\u001b[0;36m0\u001b[0m\u001b[0;34m)\u001b[0m\u001b[0;34m&\u001b[0m\u001b[0;34m(\u001b[0m\u001b[0mdata\u001b[0m\u001b[0;34m[\u001b[0m\u001b[0;34m'event'\u001b[0m\u001b[0;34m]\u001b[0m\u001b[0;34m==\u001b[0m\u001b[0;36m2\u001b[0m\u001b[0;34m)\u001b[0m\u001b[0;34m]\u001b[0m\u001b[0;34m[\u001b[0m\u001b[0;34m'ability_content'\u001b[0m\u001b[0;34m]\u001b[0m\u001b[0;34m.\u001b[0m\u001b[0mvalues\u001b[0m\u001b[0;34m\u001b[0m\u001b[0;34m\u001b[0m\u001b[0m\n\u001b[0;32m---> 42\u001b[0;31m     \u001b[0mdata_1_values\u001b[0m\u001b[0;34m=\u001b[0m \u001b[0mdata\u001b[0m\u001b[0;34m[\u001b[0m\u001b[0;34m(\u001b[0m\u001b[0mdata\u001b[0m\u001b[0;34m[\u001b[0m\u001b[0;34m'game_id'\u001b[0m\u001b[0;34m]\u001b[0m\u001b[0;34m==\u001b[0m\u001b[0mid\u001b[0m\u001b[0;34m)\u001b[0m\u001b[0;34m&\u001b[0m\u001b[0;34m(\u001b[0m\u001b[0mdata\u001b[0m\u001b[0;34m[\u001b[0m\u001b[0;34m'player'\u001b[0m\u001b[0;34m]\u001b[0m\u001b[0;34m==\u001b[0m\u001b[0;36m1\u001b[0m\u001b[0;34m)\u001b[0m\u001b[0;34m&\u001b[0m\u001b[0;34m(\u001b[0m\u001b[0mdata\u001b[0m\u001b[0;34m[\u001b[0m\u001b[0;34m'event'\u001b[0m\u001b[0;34m]\u001b[0m\u001b[0;34m==\u001b[0m\u001b[0;36m2\u001b[0m\u001b[0;34m)\u001b[0m\u001b[0;34m]\u001b[0m\u001b[0;34m[\u001b[0m\u001b[0;34m'ability_content'\u001b[0m\u001b[0;34m]\u001b[0m\u001b[0;34m.\u001b[0m\u001b[0mvalues\u001b[0m\u001b[0;34m\u001b[0m\u001b[0;34m\u001b[0m\u001b[0m\n\u001b[0m\u001b[1;32m     43\u001b[0m \u001b[0;34m\u001b[0m\u001b[0m\n\u001b[1;32m     44\u001b[0m     \u001b[0;31m# 값을 넣기 위한 0 삽입\u001b[0m\u001b[0;34m\u001b[0m\u001b[0;34m\u001b[0m\u001b[0;34m\u001b[0m\u001b[0m\n",
            "\u001b[0;32m/usr/local/lib/python3.6/dist-packages/pandas/core/ops/__init__.py\u001b[0m in \u001b[0;36mwrapper\u001b[0;34m(self, other, axis)\u001b[0m\n\u001b[1;32m   1227\u001b[0m \u001b[0;34m\u001b[0m\u001b[0m\n\u001b[1;32m   1228\u001b[0m             \u001b[0;32mwith\u001b[0m \u001b[0mnp\u001b[0m\u001b[0;34m.\u001b[0m\u001b[0merrstate\u001b[0m\u001b[0;34m(\u001b[0m\u001b[0mall\u001b[0m\u001b[0;34m=\u001b[0m\u001b[0;34m\"ignore\"\u001b[0m\u001b[0;34m)\u001b[0m\u001b[0;34m:\u001b[0m\u001b[0;34m\u001b[0m\u001b[0;34m\u001b[0m\u001b[0m\n\u001b[0;32m-> 1229\u001b[0;31m                 \u001b[0mres\u001b[0m \u001b[0;34m=\u001b[0m \u001b[0mna_op\u001b[0m\u001b[0;34m(\u001b[0m\u001b[0mvalues\u001b[0m\u001b[0;34m,\u001b[0m \u001b[0mother\u001b[0m\u001b[0;34m)\u001b[0m\u001b[0;34m\u001b[0m\u001b[0;34m\u001b[0m\u001b[0m\n\u001b[0m\u001b[1;32m   1230\u001b[0m             \u001b[0;32mif\u001b[0m \u001b[0mis_scalar\u001b[0m\u001b[0;34m(\u001b[0m\u001b[0mres\u001b[0m\u001b[0;34m)\u001b[0m\u001b[0;34m:\u001b[0m\u001b[0;34m\u001b[0m\u001b[0;34m\u001b[0m\u001b[0m\n\u001b[1;32m   1231\u001b[0m                 raise TypeError(\n",
            "\u001b[0;32m/usr/local/lib/python3.6/dist-packages/pandas/core/ops/__init__.py\u001b[0m in \u001b[0;36mna_op\u001b[0;34m(x, y)\u001b[0m\n\u001b[1;32m   1113\u001b[0m             \u001b[0;32mif\u001b[0m \u001b[0mmethod\u001b[0m \u001b[0;32mis\u001b[0m \u001b[0;32mnot\u001b[0m \u001b[0;32mNone\u001b[0m\u001b[0;34m:\u001b[0m\u001b[0;34m\u001b[0m\u001b[0;34m\u001b[0m\u001b[0m\n\u001b[1;32m   1114\u001b[0m                 \u001b[0;32mwith\u001b[0m \u001b[0mnp\u001b[0m\u001b[0;34m.\u001b[0m\u001b[0merrstate\u001b[0m\u001b[0;34m(\u001b[0m\u001b[0mall\u001b[0m\u001b[0;34m=\u001b[0m\u001b[0;34m\"ignore\"\u001b[0m\u001b[0;34m)\u001b[0m\u001b[0;34m:\u001b[0m\u001b[0;34m\u001b[0m\u001b[0;34m\u001b[0m\u001b[0m\n\u001b[0;32m-> 1115\u001b[0;31m                     \u001b[0mresult\u001b[0m \u001b[0;34m=\u001b[0m \u001b[0mmethod\u001b[0m\u001b[0;34m(\u001b[0m\u001b[0my\u001b[0m\u001b[0;34m)\u001b[0m\u001b[0;34m\u001b[0m\u001b[0;34m\u001b[0m\u001b[0m\n\u001b[0m\u001b[1;32m   1116\u001b[0m                 \u001b[0;32mif\u001b[0m \u001b[0mresult\u001b[0m \u001b[0;32mis\u001b[0m \u001b[0mNotImplemented\u001b[0m\u001b[0;34m:\u001b[0m\u001b[0;34m\u001b[0m\u001b[0;34m\u001b[0m\u001b[0m\n\u001b[1;32m   1117\u001b[0m                     \u001b[0;32mreturn\u001b[0m \u001b[0minvalid_comparison\u001b[0m\u001b[0;34m(\u001b[0m\u001b[0mx\u001b[0m\u001b[0;34m,\u001b[0m \u001b[0my\u001b[0m\u001b[0;34m,\u001b[0m \u001b[0mop\u001b[0m\u001b[0;34m)\u001b[0m\u001b[0;34m\u001b[0m\u001b[0;34m\u001b[0m\u001b[0m\n",
            "\u001b[0;31mKeyboardInterrupt\u001b[0m: "
          ]
        }
      ]
    }
  ]
}