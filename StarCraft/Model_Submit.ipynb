{
  "nbformat": 4,
  "nbformat_minor": 0,
  "metadata": {
    "colab": {
      "name": "Model_Submit.ipynb",
      "provenance": [],
      "machine_shape": "hm"
    },
    "kernelspec": {
      "name": "python3",
      "display_name": "Python 3"
    },
    "accelerator": "GPU"
  },
  "cells": [
    {
      "cell_type": "code",
      "metadata": {
        "id": "Dep06do4ThW3",
        "colab_type": "code",
        "outputId": "53b3e925-4d1b-48bf-e383-65a9380fe36f",
        "colab": {
          "base_uri": "https://localhost:8080/",
          "height": 215
        }
      },
      "source": [
        "!pip install bayesian-optimization\n",
        "\n",
        "import numpy as np\n",
        "import pandas as pd\n",
        "import matplotlib.pyplot as plt\n",
        "%matplotlib inline\n",
        "import seaborn as sns\n",
        "sns.set_style('whitegrid')\n",
        "from sklearn.model_selection import train_test_split\n",
        "from sklearn.ensemble import RandomForestClassifier\n",
        "\n",
        "from tqdm import tqdm                       # 진행바\n",
        "from sklearn.metrics import roc_auc_score   # AUC 스코어 계산\n",
        "from sklearn.model_selection import KFold   # K-fold CV    \n",
        "from bayes_opt import BayesianOptimization  # 베이지안 최적화 라이브러리  \n",
        "from functools import partial               # 함수 변수 고정\n",
        "import lightgbm as lgb                      # LightGBM 라이브러리\n",
        "import warnings                             \n",
        "warnings.filterwarnings(\"ignore\")"
      ],
      "execution_count": 0,
      "outputs": [
        {
          "output_type": "stream",
          "text": [
            "Collecting bayesian-optimization\n",
            "  Downloading https://files.pythonhosted.org/packages/b5/26/9842333adbb8f17bcb3d699400a8b1ccde0af0b6de8d07224e183728acdf/bayesian_optimization-1.1.0-py3-none-any.whl\n",
            "Requirement already satisfied: numpy>=1.9.0 in /usr/local/lib/python3.6/dist-packages (from bayesian-optimization) (1.18.2)\n",
            "Requirement already satisfied: scikit-learn>=0.18.0 in /usr/local/lib/python3.6/dist-packages (from bayesian-optimization) (0.22.2.post1)\n",
            "Requirement already satisfied: scipy>=0.14.0 in /usr/local/lib/python3.6/dist-packages (from bayesian-optimization) (1.4.1)\n",
            "Requirement already satisfied: joblib>=0.11 in /usr/local/lib/python3.6/dist-packages (from scikit-learn>=0.18.0->bayesian-optimization) (0.14.1)\n",
            "Installing collected packages: bayesian-optimization\n",
            "Successfully installed bayesian-optimization-1.1.0\n"
          ],
          "name": "stdout"
        },
        {
          "output_type": "stream",
          "text": [
            "/usr/local/lib/python3.6/dist-packages/statsmodels/tools/_testing.py:19: FutureWarning: pandas.util.testing is deprecated. Use the functions in the public API at pandas.testing instead.\n",
            "  import pandas.util.testing as tm\n"
          ],
          "name": "stderr"
        }
      ]
    },
    {
      "cell_type": "code",
      "metadata": {
        "id": "vPLZY4e_TzS4",
        "colab_type": "code",
        "colab": {}
      },
      "source": [
        "pretrain = pd.read_csv('/content/drive/My Drive/Colab Notebooks/data/데이콘/스타2/Pretrain.csv')\n",
        "pretest = pd.read_csv('/content/drive/My Drive/Colab Notebooks/data/데이콘/스타2/Pretest.csv')\n",
        "\n",
        "attack_train = pd.read_csv('/content/drive/My Drive/Colab Notebooks/data/데이콘/스타2/attack_train.csv')\n",
        "attack_test = pd.read_csv('/content/drive/My Drive/Colab Notebooks/data/데이콘/스타2/attack_test.csv')\n",
        "tpq_train_0 = pd.read_csv('/content/drive/My Drive/Colab Notebooks/data/데이콘/스타2/tpq_train_0.csv')\n",
        "tpq_train_1 = pd.read_csv('/content/drive/My Drive/Colab Notebooks/data/데이콘/스타2/tpq_train_1.csv')\n",
        "tpq_test_0 = pd.read_csv('/content/drive/My Drive/Colab Notebooks/data/데이콘/스타2/tpq_test_0.csv')\n",
        "tpq_test_1 = pd.read_csv('/content/drive/My Drive/Colab Notebooks/data/데이콘/스타2/tpq_test_1.csv') "
      ],
      "execution_count": 0,
      "outputs": []
    },
    {
      "cell_type": "code",
      "metadata": {
        "id": "1kXQ1J74TnRk",
        "colab_type": "code",
        "colab": {}
      },
      "source": [
        "attack_train.drop('Unnamed: 0',axis=1,inplace=True)\n",
        "attack_test.drop('Unnamed: 0',axis=1,inplace=True)\n",
        "pretrain.drop('Unnamed: 0',axis=1,inplace=True)\n",
        "pretest.drop('Unnamed: 0',axis=1,inplace=True)\n",
        "tpq_train_0.drop('Unnamed: 0',axis=1,inplace=True) \n",
        "tpq_train_1.drop('Unnamed: 0',axis=1,inplace=True) \n",
        "tpq_test_0.drop('Unnamed: 0',axis=1,inplace=True) \n",
        "tpq_test_1.drop('Unnamed: 0',axis=1,inplace=True) "
      ],
      "execution_count": 0,
      "outputs": []
    },
    {
      "cell_type": "code",
      "metadata": {
        "id": "egTzIlSvUQNL",
        "colab_type": "code",
        "colab": {}
      },
      "source": [
        "train_data=attack_train.merge(pretrain,on='game_id').merge(tpq_train_0,on='game_id').merge(tpq_train_1,on='game_id')\n",
        "test_data=attack_test.merge(pretest,on='game_id').merge(tpq_test_0,on='game_id').merge(tpq_test_1,on='game_id')"
      ],
      "execution_count": 0,
      "outputs": []
    },
    {
      "cell_type": "code",
      "metadata": {
        "id": "K1wrzQPiVazL",
        "colab_type": "code",
        "colab": {}
      },
      "source": [
        "X = train_data.drop(['winner','game_id'],axis=1)\n",
        "y= train_data['winner']\n",
        "X_test = test_data.drop('game_id',axis=1)"
      ],
      "execution_count": 0,
      "outputs": []
    },
    {
      "cell_type": "markdown",
      "metadata": {
        "id": "LnX5r6eQVLZI",
        "colab_type": "text"
      },
      "source": [
        "# LGBM"
      ]
    },
    {
      "cell_type": "code",
      "metadata": {
        "id": "fqJM93AjVQsP",
        "colab_type": "code",
        "colab": {}
      },
      "source": [
        "def lgb_cv(num_leaves, learning_rate, n_estimators, subsample, colsample_bytree, reg_alpha, reg_lambda, x_data=None, y_data=None, n_splits=5, output='model'):\n",
        "    score = 0\n",
        "    kf = KFold(n_splits=n_splits)\n",
        "    models = []\n",
        "    for train_index, valid_index in kf.split(x_data):\n",
        "       #print(train_index)\n",
        "       x_train, y_train = x_data.iloc[train_index], y_data.iloc[train_index]\n",
        "       x_valid, y_valid = x_data.iloc[valid_index], y_data.iloc[valid_index]\n",
        "        \n",
        "    model = lgb.LGBMClassifier(\n",
        "          num_leaves = int(num_leaves), \n",
        "          learning_rate = learning_rate, \n",
        "          n_estimators = int(n_estimators), \n",
        "          subsample = np.clip(subsample, 0, 1), \n",
        "          colsample_bytree = np.clip(colsample_bytree, 0, 1), \n",
        "          reg_alpha = reg_alpha, \n",
        "          reg_lambda = reg_lambda,\n",
        "      )\n",
        "    #print(len(x_train))\n",
        "    #print(len(y_train))\n",
        "    model.fit(x_train, y_train)\n",
        "    models.append(model)\n",
        "        \n",
        "    pred = model.predict_proba(x_valid)[:, 1]\n",
        "    true = y_valid\n",
        "    score += roc_auc_score(true, pred)/n_splits\n",
        "    \n",
        "    # results, bad_features = permutation_importance(model=model,\n",
        "    #                                            X_val=X_valid_1,\n",
        "    #                                            y_val=y_valid_1,\n",
        "    #                                            metric=metrics.auc,\n",
        "    #                                            verbose=False)\n",
        "    # print(bad_features)\n",
        "    # bad.append(bad_features)\n",
        "\n",
        "\n",
        "    if output == 'score':\n",
        "        return score\n",
        "    if output == 'model':\n",
        "        return models"
      ],
      "execution_count": 0,
      "outputs": []
    },
    {
      "cell_type": "code",
      "metadata": {
        "id": "LnrDuLqjVT4e",
        "colab_type": "code",
        "outputId": "b3294220-ba29-456c-8c1a-586887ac1c1e",
        "colab": {
          "base_uri": "https://localhost:8080/",
          "height": 692
        }
      },
      "source": [
        "func_fixed = partial(lgb_cv, x_data=X, y_data=y, n_splits=5, output='score') \n",
        "\n",
        "lgbBO = BayesianOptimization(\n",
        "    func_fixed, \n",
        "    {\n",
        "        'num_leaves': (16, 1024),\n",
        "        'learning_rate': (0.0001, 0.1),\n",
        "        'n_estimators': (16, 2048),#1024),\n",
        "        'subsample': (0, 1),\n",
        "        'colsample_bytree': (0, 1),\n",
        "        'reg_alpha': (0, 10), \n",
        "        'reg_lambda': (0, 50),\n",
        "    }, \n",
        "    random_state=4321\n",
        ")\n",
        "lgbBO.maximize(init_points=5, n_iter=30) #30"
      ],
      "execution_count": 0,
      "outputs": [
        {
          "output_type": "stream",
          "text": [
            "|   iter    |  target   | colsam... | learni... | n_esti... | num_le... | reg_alpha | reg_la... | subsample |\n",
            "-------------------------------------------------------------------------------------------------------------\n",
            "| \u001b[0m 1       \u001b[0m | \u001b[0m 0.1432  \u001b[0m | \u001b[0m 0.0708  \u001b[0m | \u001b[0m 0.08152 \u001b[0m | \u001b[0m 1.576e+0\u001b[0m | \u001b[0m 304.6   \u001b[0m | \u001b[0m 1.931   \u001b[0m | \u001b[0m 48.95   \u001b[0m | \u001b[0m 0.4062  \u001b[0m |\n",
            "| \u001b[0m 2       \u001b[0m | \u001b[0m 0.1431  \u001b[0m | \u001b[0m 0.7578  \u001b[0m | \u001b[0m 0.009006\u001b[0m | \u001b[0m 645.7   \u001b[0m | \u001b[0m 639.9   \u001b[0m | \u001b[0m 4.599   \u001b[0m | \u001b[0m 10.92   \u001b[0m | \u001b[0m 0.6635  \u001b[0m |\n",
            "| \u001b[0m 3       \u001b[0m | \u001b[0m 0.1426  \u001b[0m | \u001b[0m 0.6787  \u001b[0m | \u001b[0m 0.09504 \u001b[0m | \u001b[0m 587.5   \u001b[0m | \u001b[0m 640.8   \u001b[0m | \u001b[0m 3.833   \u001b[0m | \u001b[0m 20.02   \u001b[0m | \u001b[0m 0.9427  \u001b[0m |\n",
            "| \u001b[0m 4       \u001b[0m | \u001b[0m 0.1431  \u001b[0m | \u001b[0m 0.9299  \u001b[0m | \u001b[0m 0.09484 \u001b[0m | \u001b[0m 779.0   \u001b[0m | \u001b[0m 361.0   \u001b[0m | \u001b[0m 6.648   \u001b[0m | \u001b[0m 2.116   \u001b[0m | \u001b[0m 0.2322  \u001b[0m |\n",
            "| \u001b[95m 5       \u001b[0m | \u001b[95m 0.1442  \u001b[0m | \u001b[95m 0.4301  \u001b[0m | \u001b[95m 0.007886\u001b[0m | \u001b[95m 1.574e+0\u001b[0m | \u001b[95m 876.7   \u001b[0m | \u001b[95m 1.504   \u001b[0m | \u001b[95m 5.057   \u001b[0m | \u001b[95m 0.2709  \u001b[0m |\n",
            "| \u001b[95m 6       \u001b[0m | \u001b[95m 0.1443  \u001b[0m | \u001b[95m 0.6384  \u001b[0m | \u001b[95m 0.00669 \u001b[0m | \u001b[95m 2.045e+0\u001b[0m | \u001b[95m 1.006e+0\u001b[0m | \u001b[95m 1.814   \u001b[0m | \u001b[95m 44.68   \u001b[0m | \u001b[95m 0.8205  \u001b[0m |\n",
            "| \u001b[95m 7       \u001b[0m | \u001b[95m 0.1445  \u001b[0m | \u001b[95m 0.1727  \u001b[0m | \u001b[95m 0.02629 \u001b[0m | \u001b[95m 2.045e+0\u001b[0m | \u001b[95m 25.59   \u001b[0m | \u001b[95m 9.732   \u001b[0m | \u001b[95m 7.839   \u001b[0m | \u001b[95m 0.7189  \u001b[0m |\n",
            "| \u001b[0m 8       \u001b[0m | \u001b[0m 0.1441  \u001b[0m | \u001b[0m 0.09618 \u001b[0m | \u001b[0m 0.042   \u001b[0m | \u001b[0m 2.026e+0\u001b[0m | \u001b[0m 1.014e+0\u001b[0m | \u001b[0m 4.427   \u001b[0m | \u001b[0m 5.024   \u001b[0m | \u001b[0m 0.6737  \u001b[0m |\n",
            "| \u001b[0m 9       \u001b[0m | \u001b[0m 0.1435  \u001b[0m | \u001b[0m 0.4828  \u001b[0m | \u001b[0m 0.05791 \u001b[0m | \u001b[0m 2.033e+0\u001b[0m | \u001b[0m 23.48   \u001b[0m | \u001b[0m 6.556   \u001b[0m | \u001b[0m 2.471   \u001b[0m | \u001b[0m 0.2158  \u001b[0m |\n",
            "| \u001b[0m 10      \u001b[0m | \u001b[0m 0.1427  \u001b[0m | \u001b[0m 0.5672  \u001b[0m | \u001b[0m 0.001848\u001b[0m | \u001b[0m 1.999e+0\u001b[0m | \u001b[0m 1.003e+0\u001b[0m | \u001b[0m 2.041   \u001b[0m | \u001b[0m 2.609   \u001b[0m | \u001b[0m 0.06973 \u001b[0m |\n",
            "| \u001b[0m 11      \u001b[0m | \u001b[0m 0.1442  \u001b[0m | \u001b[0m 0.5888  \u001b[0m | \u001b[0m 0.03471 \u001b[0m | \u001b[0m 2.019e+0\u001b[0m | \u001b[0m 19.28   \u001b[0m | \u001b[0m 8.201   \u001b[0m | \u001b[0m 48.1    \u001b[0m | \u001b[0m 0.08555 \u001b[0m |\n",
            "| \u001b[0m 12      \u001b[0m | \u001b[0m 0.1435  \u001b[0m | \u001b[0m 0.6796  \u001b[0m | \u001b[0m 0.05514 \u001b[0m | \u001b[0m 2.01e+03\u001b[0m | \u001b[0m 34.36   \u001b[0m | \u001b[0m 6.364   \u001b[0m | \u001b[0m 49.4    \u001b[0m | \u001b[0m 0.4907  \u001b[0m |\n",
            "| \u001b[0m 13      \u001b[0m | \u001b[0m 0.1437  \u001b[0m | \u001b[0m 0.471   \u001b[0m | \u001b[0m 0.0357  \u001b[0m | \u001b[0m 2.02e+03\u001b[0m | \u001b[0m 1.022e+0\u001b[0m | \u001b[0m 4.163   \u001b[0m | \u001b[0m 48.49   \u001b[0m | \u001b[0m 0.6042  \u001b[0m |\n",
            "| \u001b[95m 14      \u001b[0m | \u001b[95m 0.1446  \u001b[0m | \u001b[95m 0.1554  \u001b[0m | \u001b[95m 0.008763\u001b[0m | \u001b[95m 2.038e+0\u001b[0m | \u001b[95m 1.012e+0\u001b[0m | \u001b[95m 4.227   \u001b[0m | \u001b[95m 38.7    \u001b[0m | \u001b[95m 0.2926  \u001b[0m |\n",
            "| \u001b[0m 15      \u001b[0m | \u001b[0m 0.1439  \u001b[0m | \u001b[0m 0.6371  \u001b[0m | \u001b[0m 0.03276 \u001b[0m | \u001b[0m 2.038e+0\u001b[0m | \u001b[0m 43.83   \u001b[0m | \u001b[0m 7.328   \u001b[0m | \u001b[0m 0.5078  \u001b[0m | \u001b[0m 0.8887  \u001b[0m |\n",
            "| \u001b[0m 16      \u001b[0m | \u001b[0m 0.1324  \u001b[0m | \u001b[0m 0.8982  \u001b[0m | \u001b[0m 0.004912\u001b[0m | \u001b[0m 46.98   \u001b[0m | \u001b[0m 39.66   \u001b[0m | \u001b[0m 9.038   \u001b[0m | \u001b[0m 48.91   \u001b[0m | \u001b[0m 0.3985  \u001b[0m |\n",
            "| \u001b[0m 17      \u001b[0m | \u001b[0m 0.1414  \u001b[0m | \u001b[0m 0.4601  \u001b[0m | \u001b[0m 0.06773 \u001b[0m | \u001b[0m 81.0    \u001b[0m | \u001b[0m 1.016e+0\u001b[0m | \u001b[0m 9.591   \u001b[0m | \u001b[0m 2.842   \u001b[0m | \u001b[0m 0.3991  \u001b[0m |\n",
            "| \u001b[0m 18      \u001b[0m | \u001b[0m 0.1433  \u001b[0m | \u001b[0m 0.9407  \u001b[0m | \u001b[0m 0.07029 \u001b[0m | \u001b[0m 2.019e+0\u001b[0m | \u001b[0m 1.014e+0\u001b[0m | \u001b[0m 5.422   \u001b[0m | \u001b[0m 4.829   \u001b[0m | \u001b[0m 0.3111  \u001b[0m |\n",
            "| \u001b[0m 19      \u001b[0m | \u001b[0m 0.143   \u001b[0m | \u001b[0m 0.3602  \u001b[0m | \u001b[0m 0.09453 \u001b[0m | \u001b[0m 980.8   \u001b[0m | \u001b[0m 1.024e+0\u001b[0m | \u001b[0m 9.377   \u001b[0m | \u001b[0m 48.38   \u001b[0m | \u001b[0m 0.2356  \u001b[0m |\n",
            "| \u001b[0m 20      \u001b[0m | \u001b[0m 0.1438  \u001b[0m | \u001b[0m 0.3112  \u001b[0m | \u001b[0m 0.07883 \u001b[0m | \u001b[0m 1.368e+0\u001b[0m | \u001b[0m 1.015e+0\u001b[0m | \u001b[0m 0.09309 \u001b[0m | \u001b[0m 1.242   \u001b[0m | \u001b[0m 0.5028  \u001b[0m |\n",
            "| \u001b[0m 21      \u001b[0m | \u001b[0m 0.1435  \u001b[0m | \u001b[0m 0.8079  \u001b[0m | \u001b[0m 0.04009 \u001b[0m | \u001b[0m 2.042e+0\u001b[0m | \u001b[0m 497.8   \u001b[0m | \u001b[0m 1.355   \u001b[0m | \u001b[0m 1.161   \u001b[0m | \u001b[0m 0.4853  \u001b[0m |\n",
            "| \u001b[0m 22      \u001b[0m | \u001b[0m 0.1434  \u001b[0m | \u001b[0m 0.3351  \u001b[0m | \u001b[0m 0.04916 \u001b[0m | \u001b[0m 1.236e+0\u001b[0m | \u001b[0m 983.7   \u001b[0m | \u001b[0m 8.819   \u001b[0m | \u001b[0m 2.474   \u001b[0m | \u001b[0m 0.04224 \u001b[0m |\n",
            "| \u001b[0m 23      \u001b[0m | \u001b[0m 0.143   \u001b[0m | \u001b[0m 0.7328  \u001b[0m | \u001b[0m 0.09283 \u001b[0m | \u001b[0m 2.016e+0\u001b[0m | \u001b[0m 434.8   \u001b[0m | \u001b[0m 9.343   \u001b[0m | \u001b[0m 46.61   \u001b[0m | \u001b[0m 0.5398  \u001b[0m |\n",
            "| \u001b[0m 24      \u001b[0m | \u001b[0m 0.1431  \u001b[0m | \u001b[0m 0.1222  \u001b[0m | \u001b[0m 0.08751 \u001b[0m | \u001b[0m 1.16e+03\u001b[0m | \u001b[0m 1.019e+0\u001b[0m | \u001b[0m 2.71    \u001b[0m | \u001b[0m 0.2229  \u001b[0m | \u001b[0m 0.2667  \u001b[0m |\n",
            "| \u001b[0m 25      \u001b[0m | \u001b[0m 0.1431  \u001b[0m | \u001b[0m 0.2652  \u001b[0m | \u001b[0m 0.06367 \u001b[0m | \u001b[0m 2.018e+0\u001b[0m | \u001b[0m 420.5   \u001b[0m | \u001b[0m 9.553   \u001b[0m | \u001b[0m 2.161   \u001b[0m | \u001b[0m 0.3395  \u001b[0m |\n",
            "| \u001b[0m 26      \u001b[0m | \u001b[0m 0.1434  \u001b[0m | \u001b[0m 0.1116  \u001b[0m | \u001b[0m 0.08038 \u001b[0m | \u001b[0m 1.231e+0\u001b[0m | \u001b[0m 1.02e+03\u001b[0m | \u001b[0m 1.884   \u001b[0m | \u001b[0m 49.53   \u001b[0m | \u001b[0m 0.4789  \u001b[0m |\n",
            "| \u001b[0m 27      \u001b[0m | \u001b[0m 0.1433  \u001b[0m | \u001b[0m 0.8774  \u001b[0m | \u001b[0m 0.04694 \u001b[0m | \u001b[0m 1.997e+0\u001b[0m | \u001b[0m 479.3   \u001b[0m | \u001b[0m 0.5126  \u001b[0m | \u001b[0m 0.6641  \u001b[0m | \u001b[0m 0.8169  \u001b[0m |\n",
            "| \u001b[0m 28      \u001b[0m | \u001b[0m 0.1443  \u001b[0m | \u001b[0m 0.7477  \u001b[0m | \u001b[0m 0.01866 \u001b[0m | \u001b[0m 1.558e+0\u001b[0m | \u001b[0m 593.2   \u001b[0m | \u001b[0m 9.752   \u001b[0m | \u001b[0m 0.07944 \u001b[0m | \u001b[0m 0.7652  \u001b[0m |\n",
            "| \u001b[0m 29      \u001b[0m | \u001b[0m 0.1444  \u001b[0m | \u001b[0m 0.3801  \u001b[0m | \u001b[0m 0.01686 \u001b[0m | \u001b[0m 1.196e+0\u001b[0m | \u001b[0m 1.022e+0\u001b[0m | \u001b[0m 7.741   \u001b[0m | \u001b[0m 0.1156  \u001b[0m | \u001b[0m 0.1301  \u001b[0m |\n",
            "| \u001b[0m 30      \u001b[0m | \u001b[0m 0.1443  \u001b[0m | \u001b[0m 0.4974  \u001b[0m | \u001b[0m 0.01567 \u001b[0m | \u001b[0m 1.344e+0\u001b[0m | \u001b[0m 1.019e+0\u001b[0m | \u001b[0m 9.903   \u001b[0m | \u001b[0m 47.98   \u001b[0m | \u001b[0m 0.009967\u001b[0m |\n",
            "| \u001b[0m 31      \u001b[0m | \u001b[0m 0.1429  \u001b[0m | \u001b[0m 0.4387  \u001b[0m | \u001b[0m 0.07343 \u001b[0m | \u001b[0m 1.415e+0\u001b[0m | \u001b[0m 1.01e+03\u001b[0m | \u001b[0m 8.617   \u001b[0m | \u001b[0m 0.3254  \u001b[0m | \u001b[0m 0.4409  \u001b[0m |\n",
            "| \u001b[0m 32      \u001b[0m | \u001b[0m 0.1438  \u001b[0m | \u001b[0m 0.6283  \u001b[0m | \u001b[0m 0.07267 \u001b[0m | \u001b[0m 1.925e+0\u001b[0m | \u001b[0m 486.7   \u001b[0m | \u001b[0m 0.4275  \u001b[0m | \u001b[0m 48.02   \u001b[0m | \u001b[0m 0.6525  \u001b[0m |\n",
            "| \u001b[95m 33      \u001b[0m | \u001b[95m 0.145   \u001b[0m | \u001b[95m 0.3629  \u001b[0m | \u001b[95m 0.01277 \u001b[0m | \u001b[95m 2.019e+0\u001b[0m | \u001b[95m 62.33   \u001b[0m | \u001b[95m 0.1656  \u001b[0m | \u001b[95m 49.86   \u001b[0m | \u001b[95m 0.9418  \u001b[0m |\n",
            "| \u001b[0m 34      \u001b[0m | \u001b[0m 0.1434  \u001b[0m | \u001b[0m 0.2723  \u001b[0m | \u001b[0m 0.06174 \u001b[0m | \u001b[0m 2.043e+0\u001b[0m | \u001b[0m 29.39   \u001b[0m | \u001b[0m 9.457   \u001b[0m | \u001b[0m 4.35    \u001b[0m | \u001b[0m 0.7718  \u001b[0m |\n",
            "| \u001b[0m 35      \u001b[0m | \u001b[0m 0.144   \u001b[0m | \u001b[0m 0.4071  \u001b[0m | \u001b[0m 0.03228 \u001b[0m | \u001b[0m 1.037e+0\u001b[0m | \u001b[0m 1.01e+03\u001b[0m | \u001b[0m 0.3299  \u001b[0m | \u001b[0m 47.54   \u001b[0m | \u001b[0m 0.2696  \u001b[0m |\n",
            "=============================================================================================================\n"
          ],
          "name": "stdout"
        }
      ]
    },
    {
      "cell_type": "code",
      "metadata": {
        "id": "L77TqwrTV-9q",
        "colab_type": "code",
        "colab": {}
      },
      "source": [
        "params = lgbBO.max['params']\n",
        "models = lgb_cv(\n",
        "    params['num_leaves'],   \n",
        "    params['learning_rate'], \n",
        "    params['n_estimators'], \n",
        "    params['subsample'], \n",
        "    params['colsample_bytree'], \n",
        "    params['reg_alpha'], \n",
        "    params['reg_lambda'], \n",
        "    x_data=X, y_data=y, n_splits=5, output='model')"
      ],
      "execution_count": 0,
      "outputs": []
    },
    {
      "cell_type": "code",
      "metadata": {
        "id": "R0fQXZOuWPQr",
        "colab_type": "code",
        "outputId": "79d9472a-9f58-413f-b132-11b8ae83386f",
        "colab": {
          "base_uri": "https://localhost:8080/",
          "height": 194
        }
      },
      "source": [
        "sample_submission = pd.read_csv('/content/drive/My Drive/Colab Notebooks/data/데이콘/스타2/sample_submission.csv')\n",
        "sample_submission.head()"
      ],
      "execution_count": 0,
      "outputs": [
        {
          "output_type": "execute_result",
          "data": {
            "text/html": [
              "<div>\n",
              "<style scoped>\n",
              "    .dataframe tbody tr th:only-of-type {\n",
              "        vertical-align: middle;\n",
              "    }\n",
              "\n",
              "    .dataframe tbody tr th {\n",
              "        vertical-align: top;\n",
              "    }\n",
              "\n",
              "    .dataframe thead th {\n",
              "        text-align: right;\n",
              "    }\n",
              "</style>\n",
              "<table border=\"1\" class=\"dataframe\">\n",
              "  <thead>\n",
              "    <tr style=\"text-align: right;\">\n",
              "      <th></th>\n",
              "      <th>game_id</th>\n",
              "      <th>winner</th>\n",
              "    </tr>\n",
              "  </thead>\n",
              "  <tbody>\n",
              "    <tr>\n",
              "      <th>0</th>\n",
              "      <td>38872</td>\n",
              "      <td>0</td>\n",
              "    </tr>\n",
              "    <tr>\n",
              "      <th>1</th>\n",
              "      <td>38873</td>\n",
              "      <td>0</td>\n",
              "    </tr>\n",
              "    <tr>\n",
              "      <th>2</th>\n",
              "      <td>38874</td>\n",
              "      <td>0</td>\n",
              "    </tr>\n",
              "    <tr>\n",
              "      <th>3</th>\n",
              "      <td>38875</td>\n",
              "      <td>0</td>\n",
              "    </tr>\n",
              "    <tr>\n",
              "      <th>4</th>\n",
              "      <td>38876</td>\n",
              "      <td>0</td>\n",
              "    </tr>\n",
              "  </tbody>\n",
              "</table>\n",
              "</div>"
            ],
            "text/plain": [
              "   game_id  winner\n",
              "0    38872       0\n",
              "1    38873       0\n",
              "2    38874       0\n",
              "3    38875       0\n",
              "4    38876       0"
            ]
          },
          "metadata": {
            "tags": []
          },
          "execution_count": 11
        }
      ]
    },
    {
      "cell_type": "code",
      "metadata": {
        "id": "Bz3T3AFTWSSW",
        "colab_type": "code",
        "outputId": "5d8a627c-cce2-4707-98d3-24266224878f",
        "colab": {
          "base_uri": "https://localhost:8080/",
          "height": 194
        }
      },
      "source": [
        "preds = []\n",
        "for model in models:\n",
        "    pred = model.predict(X_test)#predict_proba(test_best)[:, 1]\n",
        "    preds.append(pred)\n",
        "pred = np.mean(preds, axis=0)\n",
        "\n",
        "sample_submission['winner'] = sample_submission['winner'] + pred\n",
        "sample_submission.to_csv('/content/drive/My Drive/Colab Notebooks/data/데이콘/스타2/submission(3).csv')\n",
        "sample_submission.head()"
      ],
      "execution_count": 0,
      "outputs": [
        {
          "output_type": "execute_result",
          "data": {
            "text/html": [
              "<div>\n",
              "<style scoped>\n",
              "    .dataframe tbody tr th:only-of-type {\n",
              "        vertical-align: middle;\n",
              "    }\n",
              "\n",
              "    .dataframe tbody tr th {\n",
              "        vertical-align: top;\n",
              "    }\n",
              "\n",
              "    .dataframe thead th {\n",
              "        text-align: right;\n",
              "    }\n",
              "</style>\n",
              "<table border=\"1\" class=\"dataframe\">\n",
              "  <thead>\n",
              "    <tr style=\"text-align: right;\">\n",
              "      <th></th>\n",
              "      <th>game_id</th>\n",
              "      <th>winner</th>\n",
              "    </tr>\n",
              "  </thead>\n",
              "  <tbody>\n",
              "    <tr>\n",
              "      <th>0</th>\n",
              "      <td>38872</td>\n",
              "      <td>0.0</td>\n",
              "    </tr>\n",
              "    <tr>\n",
              "      <th>1</th>\n",
              "      <td>38873</td>\n",
              "      <td>1.0</td>\n",
              "    </tr>\n",
              "    <tr>\n",
              "      <th>2</th>\n",
              "      <td>38874</td>\n",
              "      <td>0.0</td>\n",
              "    </tr>\n",
              "    <tr>\n",
              "      <th>3</th>\n",
              "      <td>38875</td>\n",
              "      <td>0.0</td>\n",
              "    </tr>\n",
              "    <tr>\n",
              "      <th>4</th>\n",
              "      <td>38876</td>\n",
              "      <td>1.0</td>\n",
              "    </tr>\n",
              "  </tbody>\n",
              "</table>\n",
              "</div>"
            ],
            "text/plain": [
              "   game_id  winner\n",
              "0    38872     0.0\n",
              "1    38873     1.0\n",
              "2    38874     0.0\n",
              "3    38875     0.0\n",
              "4    38876     1.0"
            ]
          },
          "metadata": {
            "tags": []
          },
          "execution_count": 12
        }
      ]
    }
  ]
}