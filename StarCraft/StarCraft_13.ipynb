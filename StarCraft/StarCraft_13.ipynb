{
  "nbformat": 4,
  "nbformat_minor": 0,
  "metadata": {
    "colab": {
      "name": "StarCraft_13.ipynb",
      "provenance": [],
      "collapsed_sections": [],
      "machine_shape": "hm"
    },
    "kernelspec": {
      "name": "python3",
      "display_name": "Python 3"
    }
  },
  "cells": [
    {
      "cell_type": "code",
      "metadata": {
        "id": "XF23cRXGUJG1",
        "colab_type": "code",
        "outputId": "e3f4a11a-31ca-4a45-ec69-ec5cb008e1d2",
        "colab": {
          "base_uri": "https://localhost:8080/",
          "height": 52
        }
      },
      "source": [
        "import pandas as pd\n",
        "import numpy as np\n",
        "import matplotlib.pyplot as plt\n",
        "import seaborn as sns"
      ],
      "execution_count": 1,
      "outputs": [
        {
          "output_type": "stream",
          "text": [
            "/usr/local/lib/python3.6/dist-packages/statsmodels/tools/_testing.py:19: FutureWarning: pandas.util.testing is deprecated. Use the functions in the public API at pandas.testing instead.\n",
            "  import pandas.util.testing as tm\n"
          ],
          "name": "stderr"
        }
      ]
    },
    {
      "cell_type": "code",
      "metadata": {
        "id": "0ftxkhrTUOCU",
        "colab_type": "code",
        "colab": {}
      },
      "source": [
        "train_data = pd.read_pickle('/content/drive/My Drive/Colab Notebooks/data/데이콘/스타2/train.pkl')\n",
        "test_data = pd.read_pickle('/content/drive/My Drive/Colab Notebooks/data/데이콘/스타2/test.pkl')\n",
        "\n",
        "train_time = np.load('/content/drive/My Drive/Colab Notebooks/data/데이콘/스타2/train_time.npy')\n",
        "test_time = np.load('/content/drive/My Drive/Colab Notebooks/data/데이콘/스타2/test_time.npy')\n",
        "train_data['time'] = train_time\n",
        "test_data['time'] = test_time"
      ],
      "execution_count": 0,
      "outputs": []
    },
    {
      "cell_type": "code",
      "metadata": {
        "id": "RNoUTIytUXMi",
        "colab_type": "code",
        "outputId": "b5c3226a-d772-46e1-ea81-9751b28391af",
        "colab": {
          "base_uri": "https://localhost:8080/",
          "height": 195
        }
      },
      "source": [
        "train_data.head()"
      ],
      "execution_count": 3,
      "outputs": [
        {
          "output_type": "execute_result",
          "data": {
            "text/html": [
              "<div>\n",
              "<style scoped>\n",
              "    .dataframe tbody tr th:only-of-type {\n",
              "        vertical-align: middle;\n",
              "    }\n",
              "\n",
              "    .dataframe tbody tr th {\n",
              "        vertical-align: top;\n",
              "    }\n",
              "\n",
              "    .dataframe thead th {\n",
              "        text-align: right;\n",
              "    }\n",
              "</style>\n",
              "<table border=\"1\" class=\"dataframe\">\n",
              "  <thead>\n",
              "    <tr style=\"text-align: right;\">\n",
              "      <th></th>\n",
              "      <th>game_id</th>\n",
              "      <th>winner</th>\n",
              "      <th>time</th>\n",
              "      <th>player</th>\n",
              "      <th>species</th>\n",
              "      <th>event</th>\n",
              "      <th>event_contents</th>\n",
              "    </tr>\n",
              "  </thead>\n",
              "  <tbody>\n",
              "    <tr>\n",
              "      <th>0</th>\n",
              "      <td>0.0</td>\n",
              "      <td>1.0</td>\n",
              "      <td>0.00</td>\n",
              "      <td>0.0</td>\n",
              "      <td>0.0</td>\n",
              "      <td>0.0</td>\n",
              "      <td>at (145.25, 21.5078125)</td>\n",
              "    </tr>\n",
              "    <tr>\n",
              "      <th>1</th>\n",
              "      <td>0.0</td>\n",
              "      <td>1.0</td>\n",
              "      <td>0.00</td>\n",
              "      <td>1.0</td>\n",
              "      <td>0.0</td>\n",
              "      <td>0.0</td>\n",
              "      <td>at (22.75, 147.0078125)</td>\n",
              "    </tr>\n",
              "    <tr>\n",
              "      <th>2</th>\n",
              "      <td>0.0</td>\n",
              "      <td>1.0</td>\n",
              "      <td>0.02</td>\n",
              "      <td>0.0</td>\n",
              "      <td>0.0</td>\n",
              "      <td>1.0</td>\n",
              "      <td>['OrbitalCommand [3080001]']</td>\n",
              "    </tr>\n",
              "    <tr>\n",
              "      <th>3</th>\n",
              "      <td>0.0</td>\n",
              "      <td>1.0</td>\n",
              "      <td>0.02</td>\n",
              "      <td>0.0</td>\n",
              "      <td>0.0</td>\n",
              "      <td>2.0</td>\n",
              "      <td>(1360) - TrainSCV</td>\n",
              "    </tr>\n",
              "    <tr>\n",
              "      <th>4</th>\n",
              "      <td>0.0</td>\n",
              "      <td>1.0</td>\n",
              "      <td>0.14</td>\n",
              "      <td>0.0</td>\n",
              "      <td>0.0</td>\n",
              "      <td>0.0</td>\n",
              "      <td>at (142.99609375, 24.50390625)</td>\n",
              "    </tr>\n",
              "  </tbody>\n",
              "</table>\n",
              "</div>"
            ],
            "text/plain": [
              "   game_id  winner  time  ...  species  event                  event_contents\n",
              "0      0.0     1.0  0.00  ...      0.0    0.0         at (145.25, 21.5078125)\n",
              "1      0.0     1.0  0.00  ...      0.0    0.0         at (22.75, 147.0078125)\n",
              "2      0.0     1.0  0.02  ...      0.0    1.0    ['OrbitalCommand [3080001]']\n",
              "3      0.0     1.0  0.02  ...      0.0    2.0               (1360) - TrainSCV\n",
              "4      0.0     1.0  0.14  ...      0.0    0.0  at (142.99609375, 24.50390625)\n",
              "\n",
              "[5 rows x 7 columns]"
            ]
          },
          "metadata": {
            "tags": []
          },
          "execution_count": 3
        }
      ]
    },
    {
      "cell_type": "code",
      "metadata": {
        "id": "5k2pqEG4B9vq",
        "colab_type": "code",
        "colab": {}
      },
      "source": [
        "data=train_data\n",
        "#data= test_data"
      ],
      "execution_count": 0,
      "outputs": []
    },
    {
      "cell_type": "markdown",
      "metadata": {
        "id": "msHQZJfnS6UW",
        "colab_type": "text"
      },
      "source": [
        "컬럼 생성 인사이트\n",
        "- 경기의 초반부와 후반부를 나눔\n",
        "- 초반에 승패를 결정할 요인은 무엇일까?\n",
        "  - 테크 트리, 일꾼 생산(완료)\n",
        "- 후반에 승패를 경정할 요인은 무엇일까?\n",
        "  - 후반 생산 유닛/전체 게임 유닛, 컨트롤 여부"
      ]
    },
    {
      "cell_type": "markdown",
      "metadata": {
        "id": "RgBiKNBN6Wkj",
        "colab_type": "text"
      },
      "source": [
        "# 건물 테크 트리 시간차"
      ]
    },
    {
      "cell_type": "code",
      "metadata": {
        "id": "ebMxWOM2CGWT",
        "colab_type": "code",
        "colab": {}
      },
      "source": [
        "# player별 분리\n",
        "data_0=data[data['player'] == 0]\n",
        "data_1=data[data['player'] == 1]\n",
        "data_0=data_0[data_0['event']==2][['game_id','time','event_contents']]\n",
        "data_1=data_1[data_1['event']==2][['game_id','time','event_contents']]\n",
        "\n",
        "data_0= data_0[(data_0['event_contents'].str.contains('Build'))|\n",
        "               (data_0['event_contents'].str.contains('Morph'))|\n",
        "               (data_0['event_contents'].str.contains('MorphTo'))]\n",
        "data_1= data_1[(data_1['event_contents'].str.contains('Build'))|\n",
        "               (data_1['event_contents'].str.contains('Morph'))|\n",
        "               (data_1['event_contents'].str.contains('MorphTo'))]"
      ],
      "execution_count": 0,
      "outputs": []
    },
    {
      "cell_type": "markdown",
      "metadata": {
        "id": "lQSgnsyDljba",
        "colab_type": "text"
      },
      "source": [
        "## player_0"
      ]
    },
    {
      "cell_type": "code",
      "metadata": {
        "id": "wIJhbf5MJ2Qv",
        "colab_type": "code",
        "colab": {}
      },
      "source": [
        "# data_0['event_contents'].str.extract(r'(?P<x>Build)([A-Z][\\w]+)')"
      ],
      "execution_count": 0,
      "outputs": []
    },
    {
      "cell_type": "code",
      "metadata": {
        "id": "gIQYQ53xIspt",
        "colab_type": "code",
        "colab": {}
      },
      "source": [
        "data_0['event_contents']=data_0['event_contents'].apply(lambda x: x.split(';')[0][9:][5:])"
      ],
      "execution_count": 0,
      "outputs": []
    },
    {
      "cell_type": "code",
      "metadata": {
        "id": "iDmemXNvNtHy",
        "colab_type": "code",
        "outputId": "6e8701e7-2c32-4797-dbae-c884e173af8e",
        "colab": {
          "base_uri": "https://localhost:8080/",
          "height": 402
        }
      },
      "source": [
        "data_0"
      ],
      "execution_count": 80,
      "outputs": [
        {
          "output_type": "execute_result",
          "data": {
            "text/html": [
              "<div>\n",
              "<style scoped>\n",
              "    .dataframe tbody tr th:only-of-type {\n",
              "        vertical-align: middle;\n",
              "    }\n",
              "\n",
              "    .dataframe tbody tr th {\n",
              "        vertical-align: top;\n",
              "    }\n",
              "\n",
              "    .dataframe thead th {\n",
              "        text-align: right;\n",
              "    }\n",
              "</style>\n",
              "<table border=\"1\" class=\"dataframe\">\n",
              "  <thead>\n",
              "    <tr style=\"text-align: right;\">\n",
              "      <th></th>\n",
              "      <th>game_id</th>\n",
              "      <th>time</th>\n",
              "      <th>event_contents</th>\n",
              "    </tr>\n",
              "  </thead>\n",
              "  <tbody>\n",
              "    <tr>\n",
              "      <th>19</th>\n",
              "      <td>0.0</td>\n",
              "      <td>0.27</td>\n",
              "      <td>SupplyDepot</td>\n",
              "    </tr>\n",
              "    <tr>\n",
              "      <th>87</th>\n",
              "      <td>0.0</td>\n",
              "      <td>1.00</td>\n",
              "      <td>Barracks</td>\n",
              "    </tr>\n",
              "    <tr>\n",
              "      <th>104</th>\n",
              "      <td>0.0</td>\n",
              "      <td>1.09</td>\n",
              "      <td>Refinery</td>\n",
              "    </tr>\n",
              "    <tr>\n",
              "      <th>184</th>\n",
              "      <td>0.0</td>\n",
              "      <td>2.14</td>\n",
              "      <td>CommandCenter</td>\n",
              "    </tr>\n",
              "    <tr>\n",
              "      <th>226</th>\n",
              "      <td>0.0</td>\n",
              "      <td>2.32</td>\n",
              "      <td>SupplyDepot</td>\n",
              "    </tr>\n",
              "    <tr>\n",
              "      <th>...</th>\n",
              "      <td>...</td>\n",
              "      <td>...</td>\n",
              "      <td>...</td>\n",
              "    </tr>\n",
              "    <tr>\n",
              "      <th>67091434</th>\n",
              "      <td>38871.0</td>\n",
              "      <td>7.47</td>\n",
              "      <td>Drone</td>\n",
              "    </tr>\n",
              "    <tr>\n",
              "      <th>67091438</th>\n",
              "      <td>38871.0</td>\n",
              "      <td>7.48</td>\n",
              "      <td>CreepTumor</td>\n",
              "    </tr>\n",
              "    <tr>\n",
              "      <th>67091606</th>\n",
              "      <td>38871.0</td>\n",
              "      <td>8.19</td>\n",
              "      <td>Drone</td>\n",
              "    </tr>\n",
              "    <tr>\n",
              "      <th>67091682</th>\n",
              "      <td>38871.0</td>\n",
              "      <td>8.37</td>\n",
              "      <td>Drone</td>\n",
              "    </tr>\n",
              "    <tr>\n",
              "      <th>67091726</th>\n",
              "      <td>38871.0</td>\n",
              "      <td>8.44</td>\n",
              "      <td>Extractor</td>\n",
              "    </tr>\n",
              "  </tbody>\n",
              "</table>\n",
              "<p>689895 rows × 3 columns</p>\n",
              "</div>"
            ],
            "text/plain": [
              "          game_id  time event_contents\n",
              "19            0.0  0.27    SupplyDepot\n",
              "87            0.0  1.00       Barracks\n",
              "104           0.0  1.09       Refinery\n",
              "184           0.0  2.14  CommandCenter\n",
              "226           0.0  2.32    SupplyDepot\n",
              "...           ...   ...            ...\n",
              "67091434  38871.0  7.47          Drone\n",
              "67091438  38871.0  7.48     CreepTumor\n",
              "67091606  38871.0  8.19          Drone\n",
              "67091682  38871.0  8.37          Drone\n",
              "67091726  38871.0  8.44      Extractor\n",
              "\n",
              "[689895 rows x 3 columns]"
            ]
          },
          "metadata": {
            "tags": []
          },
          "execution_count": 80
        }
      ]
    },
    {
      "cell_type": "markdown",
      "metadata": {
        "id": "BMdRU0eXX2BV",
        "colab_type": "text"
      },
      "source": [
        "Morph, MorphTo 명령어에 건물이 아닌 일꾼 또는 병력이 잡히기 때문에 이것들을 없애주자. 또한 Defense 건물도 없애주자."
      ]
    },
    {
      "cell_type": "code",
      "metadata": {
        "id": "8B1G8uxRWIkN",
        "colab_type": "code",
        "colab": {}
      },
      "source": [
        "No_techtree=['Larva','Drone','Queen','Zergling','Baneling','Roach','Ravager','Hydralisk','Lurker',\n",
        "             'Infestor','InfestedTerran','SwarmHost','Locust','Ultralisk','Overlord','Overseer','TransportOverlord',\n",
        "             'Changeling','Mutalisk','Corruptor','Viper','BroodLord','Broodling','PhotonCannon','MissileTurret',\n",
        "             'SpineCrawler','SporeCrawler','Bunker','Building']"
      ],
      "execution_count": 0,
      "outputs": []
    },
    {
      "cell_type": "code",
      "metadata": {
        "id": "ZEBD5gPpYHAn",
        "colab_type": "code",
        "outputId": "5a524e9c-587e-4137-ed92-146ce21f3de3",
        "colab": {
          "base_uri": "https://localhost:8080/",
          "height": 316
        }
      },
      "source": [
        "data_0[data_0['event_contents'].isin(No_techtree)]['event_contents'].value_counts()"
      ],
      "execution_count": 82,
      "outputs": [
        {
          "output_type": "execute_result",
          "data": {
            "text/plain": [
              "Drone            145489\n",
              "Overlord          45791\n",
              "Zergling          42476\n",
              "Roach              9262\n",
              "MissileTurret      7156\n",
              "PhotonCannon       6751\n",
              "Building           6583\n",
              "SporeCrawler       6033\n",
              "SpineCrawler       4051\n",
              "Bunker             3333\n",
              "Hydralisk          1692\n",
              "Mutalisk            828\n",
              "SwarmHost            99\n",
              "Corruptor            43\n",
              "Infestor             15\n",
              "Ultralisk             2\n",
              "Name: event_contents, dtype: int64"
            ]
          },
          "metadata": {
            "tags": []
          },
          "execution_count": 82
        }
      ]
    },
    {
      "cell_type": "code",
      "metadata": {
        "id": "yGAhlXaRatnF",
        "colab_type": "code",
        "colab": {}
      },
      "source": [
        "data_0=data_0[data_0['event_contents'].isin(No_techtree)==False]"
      ],
      "execution_count": 0,
      "outputs": []
    },
    {
      "cell_type": "code",
      "metadata": {
        "id": "4UnWL6agK-2X",
        "colab_type": "code",
        "colab": {}
      },
      "source": [
        "data_0=data_0.groupby(['game_id','event_contents'])['time'].first().reset_index()"
      ],
      "execution_count": 0,
      "outputs": []
    },
    {
      "cell_type": "code",
      "metadata": {
        "id": "HbWCNTs6bk5z",
        "colab_type": "code",
        "colab": {}
      },
      "source": [
        "data_0=data_0.sort_values(by=[\"game_id\", \"time\"], ascending=[True, True])"
      ],
      "execution_count": 0,
      "outputs": []
    },
    {
      "cell_type": "code",
      "metadata": {
        "id": "-AGbjgt4dJ7T",
        "colab_type": "code",
        "colab": {}
      },
      "source": [
        "max_time_0=data_0.groupby('game_id')['time'].sum().reset_index()"
      ],
      "execution_count": 0,
      "outputs": []
    },
    {
      "cell_type": "code",
      "metadata": {
        "id": "BE1_35Twesbh",
        "colab_type": "code",
        "outputId": "0c28ee11-4cd5-463f-b6d4-18375f060106",
        "colab": {
          "base_uri": "https://localhost:8080/",
          "height": 195
        }
      },
      "source": [
        "max_tech_count_0 = data_0['game_id'].value_counts().reset_index(name= 'count')\n",
        "max_tech_count_0.rename(columns={'index':'game_id'},inplace=True)\n",
        "max_tech_count_0.head()"
      ],
      "execution_count": 87,
      "outputs": [
        {
          "output_type": "execute_result",
          "data": {
            "text/html": [
              "<div>\n",
              "<style scoped>\n",
              "    .dataframe tbody tr th:only-of-type {\n",
              "        vertical-align: middle;\n",
              "    }\n",
              "\n",
              "    .dataframe tbody tr th {\n",
              "        vertical-align: top;\n",
              "    }\n",
              "\n",
              "    .dataframe thead th {\n",
              "        text-align: right;\n",
              "    }\n",
              "</style>\n",
              "<table border=\"1\" class=\"dataframe\">\n",
              "  <thead>\n",
              "    <tr style=\"text-align: right;\">\n",
              "      <th></th>\n",
              "      <th>game_id</th>\n",
              "      <th>count</th>\n",
              "    </tr>\n",
              "  </thead>\n",
              "  <tbody>\n",
              "    <tr>\n",
              "      <th>0</th>\n",
              "      <td>11642.0</td>\n",
              "      <td>17</td>\n",
              "    </tr>\n",
              "    <tr>\n",
              "      <th>1</th>\n",
              "      <td>2525.0</td>\n",
              "      <td>16</td>\n",
              "    </tr>\n",
              "    <tr>\n",
              "      <th>2</th>\n",
              "      <td>36487.0</td>\n",
              "      <td>16</td>\n",
              "    </tr>\n",
              "    <tr>\n",
              "      <th>3</th>\n",
              "      <td>5435.0</td>\n",
              "      <td>15</td>\n",
              "    </tr>\n",
              "    <tr>\n",
              "      <th>4</th>\n",
              "      <td>16827.0</td>\n",
              "      <td>15</td>\n",
              "    </tr>\n",
              "  </tbody>\n",
              "</table>\n",
              "</div>"
            ],
            "text/plain": [
              "   game_id  count\n",
              "0  11642.0     17\n",
              "1   2525.0     16\n",
              "2  36487.0     16\n",
              "3   5435.0     15\n",
              "4  16827.0     15"
            ]
          },
          "metadata": {
            "tags": []
          },
          "execution_count": 87
        }
      ]
    },
    {
      "cell_type": "code",
      "metadata": {
        "id": "15Q7MEKUgaDR",
        "colab_type": "code",
        "outputId": "6156a968-a5b2-4b13-9e91-4a4804956b00",
        "colab": {
          "base_uri": "https://localhost:8080/",
          "height": 195
        }
      },
      "source": [
        "player_0=max_time_0.merge(max_tech_count_0,on='game_id')\n",
        "player_0['[time/count]_0']=player_0['time'] / player_0['count']\n",
        "player_0.head()"
      ],
      "execution_count": 88,
      "outputs": [
        {
          "output_type": "execute_result",
          "data": {
            "text/html": [
              "<div>\n",
              "<style scoped>\n",
              "    .dataframe tbody tr th:only-of-type {\n",
              "        vertical-align: middle;\n",
              "    }\n",
              "\n",
              "    .dataframe tbody tr th {\n",
              "        vertical-align: top;\n",
              "    }\n",
              "\n",
              "    .dataframe thead th {\n",
              "        text-align: right;\n",
              "    }\n",
              "</style>\n",
              "<table border=\"1\" class=\"dataframe\">\n",
              "  <thead>\n",
              "    <tr style=\"text-align: right;\">\n",
              "      <th></th>\n",
              "      <th>game_id</th>\n",
              "      <th>time</th>\n",
              "      <th>count</th>\n",
              "      <th>[time/count]_0</th>\n",
              "    </tr>\n",
              "  </thead>\n",
              "  <tbody>\n",
              "    <tr>\n",
              "      <th>0</th>\n",
              "      <td>0.0</td>\n",
              "      <td>31.960001</td>\n",
              "      <td>10</td>\n",
              "      <td>3.196000</td>\n",
              "    </tr>\n",
              "    <tr>\n",
              "      <th>1</th>\n",
              "      <td>1.0</td>\n",
              "      <td>33.270000</td>\n",
              "      <td>9</td>\n",
              "      <td>3.696667</td>\n",
              "    </tr>\n",
              "    <tr>\n",
              "      <th>2</th>\n",
              "      <td>2.0</td>\n",
              "      <td>43.139999</td>\n",
              "      <td>9</td>\n",
              "      <td>4.793333</td>\n",
              "    </tr>\n",
              "    <tr>\n",
              "      <th>3</th>\n",
              "      <td>3.0</td>\n",
              "      <td>34.180000</td>\n",
              "      <td>10</td>\n",
              "      <td>3.418000</td>\n",
              "    </tr>\n",
              "    <tr>\n",
              "      <th>4</th>\n",
              "      <td>4.0</td>\n",
              "      <td>20.389999</td>\n",
              "      <td>8</td>\n",
              "      <td>2.548750</td>\n",
              "    </tr>\n",
              "  </tbody>\n",
              "</table>\n",
              "</div>"
            ],
            "text/plain": [
              "   game_id       time  count  [time/count]_0\n",
              "0      0.0  31.960001     10        3.196000\n",
              "1      1.0  33.270000      9        3.696667\n",
              "2      2.0  43.139999      9        4.793333\n",
              "3      3.0  34.180000     10        3.418000\n",
              "4      4.0  20.389999      8        2.548750"
            ]
          },
          "metadata": {
            "tags": []
          },
          "execution_count": 88
        }
      ]
    },
    {
      "cell_type": "markdown",
      "metadata": {
        "id": "mPtjA2f1lmZf",
        "colab_type": "text"
      },
      "source": [
        "## player_1"
      ]
    },
    {
      "cell_type": "code",
      "metadata": {
        "id": "Exl1xlJzlnjL",
        "colab_type": "code",
        "colab": {}
      },
      "source": [
        "data_1['event_contents']=data_1['event_contents'].apply(lambda x: x.split(';')[0][9:][5:])"
      ],
      "execution_count": 0,
      "outputs": []
    },
    {
      "cell_type": "code",
      "metadata": {
        "id": "dvK2am0SmujX",
        "colab_type": "code",
        "outputId": "4025fa44-e3b3-4254-9bb3-3163e8a4ec9d",
        "colab": {
          "base_uri": "https://localhost:8080/",
          "height": 195
        }
      },
      "source": [
        "data_1.head()"
      ],
      "execution_count": 90,
      "outputs": [
        {
          "output_type": "execute_result",
          "data": {
            "text/html": [
              "<div>\n",
              "<style scoped>\n",
              "    .dataframe tbody tr th:only-of-type {\n",
              "        vertical-align: middle;\n",
              "    }\n",
              "\n",
              "    .dataframe tbody tr th {\n",
              "        vertical-align: top;\n",
              "    }\n",
              "\n",
              "    .dataframe thead th {\n",
              "        text-align: right;\n",
              "    }\n",
              "</style>\n",
              "<table border=\"1\" class=\"dataframe\">\n",
              "  <thead>\n",
              "    <tr style=\"text-align: right;\">\n",
              "      <th></th>\n",
              "      <th>game_id</th>\n",
              "      <th>time</th>\n",
              "      <th>event_contents</th>\n",
              "    </tr>\n",
              "  </thead>\n",
              "  <tbody>\n",
              "    <tr>\n",
              "      <th>43</th>\n",
              "      <td>0.0</td>\n",
              "      <td>0.37</td>\n",
              "      <td>SupplyDepot</td>\n",
              "    </tr>\n",
              "    <tr>\n",
              "      <th>56</th>\n",
              "      <td>0.0</td>\n",
              "      <td>0.40</td>\n",
              "      <td>Refinery</td>\n",
              "    </tr>\n",
              "    <tr>\n",
              "      <th>124</th>\n",
              "      <td>0.0</td>\n",
              "      <td>1.21</td>\n",
              "      <td>Barracks</td>\n",
              "    </tr>\n",
              "    <tr>\n",
              "      <th>223</th>\n",
              "      <td>0.0</td>\n",
              "      <td>2.30</td>\n",
              "      <td>SupplyDepot</td>\n",
              "    </tr>\n",
              "    <tr>\n",
              "      <th>311</th>\n",
              "      <td>0.0</td>\n",
              "      <td>2.52</td>\n",
              "      <td>Factory</td>\n",
              "    </tr>\n",
              "  </tbody>\n",
              "</table>\n",
              "</div>"
            ],
            "text/plain": [
              "     game_id  time event_contents\n",
              "43       0.0  0.37    SupplyDepot\n",
              "56       0.0  0.40       Refinery\n",
              "124      0.0  1.21       Barracks\n",
              "223      0.0  2.30    SupplyDepot\n",
              "311      0.0  2.52        Factory"
            ]
          },
          "metadata": {
            "tags": []
          },
          "execution_count": 90
        }
      ]
    },
    {
      "cell_type": "code",
      "metadata": {
        "id": "xWrIuDQhmwje",
        "colab_type": "code",
        "outputId": "0f897b3a-f759-42af-f2a9-76e810630632",
        "colab": {
          "base_uri": "https://localhost:8080/",
          "height": 298
        }
      },
      "source": [
        "No_techtree=['Larva','Drone','Queen','Zergling','Baneling','Roach','Ravager','Hydralisk','Lurker',\n",
        "             'Infestor','InfestedTerran','SwarmHost','Locust','Ultralisk','Overlord','Overseer','TransportOverlord',\n",
        "             'Changeling','Mutalisk','Corruptor','Viper','BroodLord','Broodling','PhotonCannon','MissileTurret',\n",
        "             'SpineCrawler','SporeCrawler','Bunker','Building']\n",
        "\n",
        "data_1[data_1['event_contents'].isin(No_techtree)]['event_contents'].value_counts()"
      ],
      "execution_count": 91,
      "outputs": [
        {
          "output_type": "execute_result",
          "data": {
            "text/plain": [
              "Drone            141765\n",
              "Overlord          44909\n",
              "Zergling          40940\n",
              "Roach              8938\n",
              "MissileTurret      7269\n",
              "PhotonCannon       7162\n",
              "Building           6704\n",
              "SporeCrawler       5597\n",
              "SpineCrawler       4124\n",
              "Bunker             3318\n",
              "Hydralisk          1628\n",
              "Mutalisk            806\n",
              "SwarmHost            71\n",
              "Corruptor            23\n",
              "Infestor             18\n",
              "Name: event_contents, dtype: int64"
            ]
          },
          "metadata": {
            "tags": []
          },
          "execution_count": 91
        }
      ]
    },
    {
      "cell_type": "code",
      "metadata": {
        "id": "nL-wDpPXnE8C",
        "colab_type": "code",
        "outputId": "90a7786c-08ce-4026-b29a-af7921725191",
        "colab": {
          "base_uri": "https://localhost:8080/",
          "height": 195
        }
      },
      "source": [
        "data_1=data_1[data_1['event_contents'].isin(No_techtree)==False]\n",
        "data_1=data_1.groupby(['game_id','event_contents'])['time'].first().reset_index()\n",
        "data_1=data_1.sort_values(by=[\"game_id\", \"time\"], ascending=[True, True])\n",
        "\n",
        "max_time_1=data_1.groupby('game_id')['time'].sum().reset_index()\n",
        "max_tech_count_1 = data_1['game_id'].value_counts().reset_index(name= 'count')\n",
        "max_tech_count_1.rename(columns={'index':'game_id'},inplace=True)\n",
        "max_tech_count_1.head()\n",
        "\n",
        "player_1=max_time_1.merge(max_tech_count_1,on='game_id')\n",
        "player_1['[time/count]_1']=player_1['time'] / player_1['count']\n",
        "player_1.head()"
      ],
      "execution_count": 92,
      "outputs": [
        {
          "output_type": "execute_result",
          "data": {
            "text/html": [
              "<div>\n",
              "<style scoped>\n",
              "    .dataframe tbody tr th:only-of-type {\n",
              "        vertical-align: middle;\n",
              "    }\n",
              "\n",
              "    .dataframe tbody tr th {\n",
              "        vertical-align: top;\n",
              "    }\n",
              "\n",
              "    .dataframe thead th {\n",
              "        text-align: right;\n",
              "    }\n",
              "</style>\n",
              "<table border=\"1\" class=\"dataframe\">\n",
              "  <thead>\n",
              "    <tr style=\"text-align: right;\">\n",
              "      <th></th>\n",
              "      <th>game_id</th>\n",
              "      <th>time</th>\n",
              "      <th>count</th>\n",
              "      <th>[time/count]_1</th>\n",
              "    </tr>\n",
              "  </thead>\n",
              "  <tbody>\n",
              "    <tr>\n",
              "      <th>0</th>\n",
              "      <td>0.0</td>\n",
              "      <td>19.680000</td>\n",
              "      <td>7</td>\n",
              "      <td>2.811429</td>\n",
              "    </tr>\n",
              "    <tr>\n",
              "      <th>1</th>\n",
              "      <td>1.0</td>\n",
              "      <td>32.000000</td>\n",
              "      <td>10</td>\n",
              "      <td>3.200000</td>\n",
              "    </tr>\n",
              "    <tr>\n",
              "      <th>2</th>\n",
              "      <td>2.0</td>\n",
              "      <td>33.580002</td>\n",
              "      <td>7</td>\n",
              "      <td>4.797143</td>\n",
              "    </tr>\n",
              "    <tr>\n",
              "      <th>3</th>\n",
              "      <td>3.0</td>\n",
              "      <td>35.779999</td>\n",
              "      <td>8</td>\n",
              "      <td>4.472500</td>\n",
              "    </tr>\n",
              "    <tr>\n",
              "      <th>4</th>\n",
              "      <td>4.0</td>\n",
              "      <td>18.190001</td>\n",
              "      <td>5</td>\n",
              "      <td>3.638000</td>\n",
              "    </tr>\n",
              "  </tbody>\n",
              "</table>\n",
              "</div>"
            ],
            "text/plain": [
              "   game_id       time  count  [time/count]_1\n",
              "0      0.0  19.680000      7        2.811429\n",
              "1      1.0  32.000000     10        3.200000\n",
              "2      2.0  33.580002      7        4.797143\n",
              "3      3.0  35.779999      8        4.472500\n",
              "4      4.0  18.190001      5        3.638000"
            ]
          },
          "metadata": {
            "tags": []
          },
          "execution_count": 92
        }
      ]
    },
    {
      "cell_type": "markdown",
      "metadata": {
        "id": "9M3jKW4HoIRw",
        "colab_type": "text"
      },
      "source": [
        "## merge"
      ]
    },
    {
      "cell_type": "code",
      "metadata": {
        "id": "HKxZhruLp1R_",
        "colab_type": "code",
        "colab": {}
      },
      "source": [
        "merge_13 = pd.DataFrame({'game_id':data['game_id'].unique()})"
      ],
      "execution_count": 0,
      "outputs": []
    },
    {
      "cell_type": "code",
      "metadata": {
        "id": "t6srDNZLoNRf",
        "colab_type": "code",
        "colab": {}
      },
      "source": [
        "merge_13 = merge_13.merge(player_0,on='game_id',how='left')\\\n",
        ".merge(player_1,on='game_id',how='left')"
      ],
      "execution_count": 0,
      "outputs": []
    },
    {
      "cell_type": "code",
      "metadata": {
        "id": "gvc18Hhbqk-r",
        "colab_type": "code",
        "colab": {}
      },
      "source": [
        "# train 일때만\n",
        "merge_13['winner'] = data.groupby('game_id')['winner'].max().values"
      ],
      "execution_count": 0,
      "outputs": []
    },
    {
      "cell_type": "code",
      "metadata": {
        "id": "159Z66PprXGs",
        "colab_type": "code",
        "colab": {
          "base_uri": "https://localhost:8080/",
          "height": 195
        },
        "outputId": "55f01d85-8bc4-4673-aa15-f897b9c7ba6f"
      },
      "source": [
        "col_list=['game_id','techtime_0','techcount_0','time/count_0','techtime_1','techcount_1','time/count_1','winner']\n",
        "merge_13.columns = col_list\n",
        "merge_13.head()"
      ],
      "execution_count": 96,
      "outputs": [
        {
          "output_type": "execute_result",
          "data": {
            "text/html": [
              "<div>\n",
              "<style scoped>\n",
              "    .dataframe tbody tr th:only-of-type {\n",
              "        vertical-align: middle;\n",
              "    }\n",
              "\n",
              "    .dataframe tbody tr th {\n",
              "        vertical-align: top;\n",
              "    }\n",
              "\n",
              "    .dataframe thead th {\n",
              "        text-align: right;\n",
              "    }\n",
              "</style>\n",
              "<table border=\"1\" class=\"dataframe\">\n",
              "  <thead>\n",
              "    <tr style=\"text-align: right;\">\n",
              "      <th></th>\n",
              "      <th>game_id</th>\n",
              "      <th>techtime_0</th>\n",
              "      <th>techcount_0</th>\n",
              "      <th>time/count_0</th>\n",
              "      <th>techtime_1</th>\n",
              "      <th>techcount_1</th>\n",
              "      <th>time/count_1</th>\n",
              "      <th>winner</th>\n",
              "    </tr>\n",
              "  </thead>\n",
              "  <tbody>\n",
              "    <tr>\n",
              "      <th>0</th>\n",
              "      <td>0.0</td>\n",
              "      <td>31.960001</td>\n",
              "      <td>10.0</td>\n",
              "      <td>3.196000</td>\n",
              "      <td>19.680000</td>\n",
              "      <td>7.0</td>\n",
              "      <td>2.811429</td>\n",
              "      <td>1.0</td>\n",
              "    </tr>\n",
              "    <tr>\n",
              "      <th>1</th>\n",
              "      <td>1.0</td>\n",
              "      <td>33.270000</td>\n",
              "      <td>9.0</td>\n",
              "      <td>3.696667</td>\n",
              "      <td>32.000000</td>\n",
              "      <td>10.0</td>\n",
              "      <td>3.200000</td>\n",
              "      <td>1.0</td>\n",
              "    </tr>\n",
              "    <tr>\n",
              "      <th>2</th>\n",
              "      <td>2.0</td>\n",
              "      <td>43.139999</td>\n",
              "      <td>9.0</td>\n",
              "      <td>4.793333</td>\n",
              "      <td>33.580002</td>\n",
              "      <td>7.0</td>\n",
              "      <td>4.797143</td>\n",
              "      <td>0.0</td>\n",
              "    </tr>\n",
              "    <tr>\n",
              "      <th>3</th>\n",
              "      <td>3.0</td>\n",
              "      <td>34.180000</td>\n",
              "      <td>10.0</td>\n",
              "      <td>3.418000</td>\n",
              "      <td>35.779999</td>\n",
              "      <td>8.0</td>\n",
              "      <td>4.472500</td>\n",
              "      <td>0.0</td>\n",
              "    </tr>\n",
              "    <tr>\n",
              "      <th>4</th>\n",
              "      <td>4.0</td>\n",
              "      <td>20.389999</td>\n",
              "      <td>8.0</td>\n",
              "      <td>2.548750</td>\n",
              "      <td>18.190001</td>\n",
              "      <td>5.0</td>\n",
              "      <td>3.638000</td>\n",
              "      <td>0.0</td>\n",
              "    </tr>\n",
              "  </tbody>\n",
              "</table>\n",
              "</div>"
            ],
            "text/plain": [
              "   game_id  techtime_0  techcount_0  ...  techcount_1  time/count_1  winner\n",
              "0      0.0   31.960001         10.0  ...          7.0      2.811429     1.0\n",
              "1      1.0   33.270000          9.0  ...         10.0      3.200000     1.0\n",
              "2      2.0   43.139999          9.0  ...          7.0      4.797143     0.0\n",
              "3      3.0   34.180000         10.0  ...          8.0      4.472500     0.0\n",
              "4      4.0   20.389999          8.0  ...          5.0      3.638000     0.0\n",
              "\n",
              "[5 rows x 8 columns]"
            ]
          },
          "metadata": {
            "tags": []
          },
          "execution_count": 96
        }
      ]
    },
    {
      "cell_type": "code",
      "metadata": {
        "id": "ukPwqz5i3WX5",
        "colab_type": "code",
        "colab": {
          "base_uri": "https://localhost:8080/",
          "height": 195
        },
        "outputId": "ee43c7dc-cf89-429a-9bd3-04ba12b743d9"
      },
      "source": [
        "# delta값 만들기\n",
        "merge_13['techtime_delta'] = merge_13['techtime_0'] - merge_13['techtime_1']\n",
        "merge_13['techcount_delta'] = merge_13['techcount_0'] - merge_13['techcount_1']\n",
        "merge_13['time/count_delta'] = merge_13['time/count_0'] - merge_13['time/count_1']\n",
        "merge_13.head()"
      ],
      "execution_count": 97,
      "outputs": [
        {
          "output_type": "execute_result",
          "data": {
            "text/html": [
              "<div>\n",
              "<style scoped>\n",
              "    .dataframe tbody tr th:only-of-type {\n",
              "        vertical-align: middle;\n",
              "    }\n",
              "\n",
              "    .dataframe tbody tr th {\n",
              "        vertical-align: top;\n",
              "    }\n",
              "\n",
              "    .dataframe thead th {\n",
              "        text-align: right;\n",
              "    }\n",
              "</style>\n",
              "<table border=\"1\" class=\"dataframe\">\n",
              "  <thead>\n",
              "    <tr style=\"text-align: right;\">\n",
              "      <th></th>\n",
              "      <th>game_id</th>\n",
              "      <th>techtime_0</th>\n",
              "      <th>techcount_0</th>\n",
              "      <th>time/count_0</th>\n",
              "      <th>techtime_1</th>\n",
              "      <th>techcount_1</th>\n",
              "      <th>time/count_1</th>\n",
              "      <th>winner</th>\n",
              "      <th>techtime_delta</th>\n",
              "      <th>techcount_delta</th>\n",
              "      <th>time/count_delta</th>\n",
              "    </tr>\n",
              "  </thead>\n",
              "  <tbody>\n",
              "    <tr>\n",
              "      <th>0</th>\n",
              "      <td>0.0</td>\n",
              "      <td>31.960001</td>\n",
              "      <td>10.0</td>\n",
              "      <td>3.196000</td>\n",
              "      <td>19.680000</td>\n",
              "      <td>7.0</td>\n",
              "      <td>2.811429</td>\n",
              "      <td>1.0</td>\n",
              "      <td>12.280001</td>\n",
              "      <td>3.0</td>\n",
              "      <td>0.384572</td>\n",
              "    </tr>\n",
              "    <tr>\n",
              "      <th>1</th>\n",
              "      <td>1.0</td>\n",
              "      <td>33.270000</td>\n",
              "      <td>9.0</td>\n",
              "      <td>3.696667</td>\n",
              "      <td>32.000000</td>\n",
              "      <td>10.0</td>\n",
              "      <td>3.200000</td>\n",
              "      <td>1.0</td>\n",
              "      <td>1.270000</td>\n",
              "      <td>-1.0</td>\n",
              "      <td>0.496667</td>\n",
              "    </tr>\n",
              "    <tr>\n",
              "      <th>2</th>\n",
              "      <td>2.0</td>\n",
              "      <td>43.139999</td>\n",
              "      <td>9.0</td>\n",
              "      <td>4.793333</td>\n",
              "      <td>33.580002</td>\n",
              "      <td>7.0</td>\n",
              "      <td>4.797143</td>\n",
              "      <td>0.0</td>\n",
              "      <td>9.559998</td>\n",
              "      <td>2.0</td>\n",
              "      <td>-0.003810</td>\n",
              "    </tr>\n",
              "    <tr>\n",
              "      <th>3</th>\n",
              "      <td>3.0</td>\n",
              "      <td>34.180000</td>\n",
              "      <td>10.0</td>\n",
              "      <td>3.418000</td>\n",
              "      <td>35.779999</td>\n",
              "      <td>8.0</td>\n",
              "      <td>4.472500</td>\n",
              "      <td>0.0</td>\n",
              "      <td>-1.599998</td>\n",
              "      <td>2.0</td>\n",
              "      <td>-1.054500</td>\n",
              "    </tr>\n",
              "    <tr>\n",
              "      <th>4</th>\n",
              "      <td>4.0</td>\n",
              "      <td>20.389999</td>\n",
              "      <td>8.0</td>\n",
              "      <td>2.548750</td>\n",
              "      <td>18.190001</td>\n",
              "      <td>5.0</td>\n",
              "      <td>3.638000</td>\n",
              "      <td>0.0</td>\n",
              "      <td>2.199999</td>\n",
              "      <td>3.0</td>\n",
              "      <td>-1.089250</td>\n",
              "    </tr>\n",
              "  </tbody>\n",
              "</table>\n",
              "</div>"
            ],
            "text/plain": [
              "   game_id  techtime_0  ...  techcount_delta  time/count_delta\n",
              "0      0.0   31.960001  ...              3.0          0.384572\n",
              "1      1.0   33.270000  ...             -1.0          0.496667\n",
              "2      2.0   43.139999  ...              2.0         -0.003810\n",
              "3      3.0   34.180000  ...              2.0         -1.054500\n",
              "4      4.0   20.389999  ...              3.0         -1.089250\n",
              "\n",
              "[5 rows x 11 columns]"
            ]
          },
          "metadata": {
            "tags": []
          },
          "execution_count": 97
        }
      ]
    },
    {
      "cell_type": "code",
      "metadata": {
        "id": "j8coP04wrq81",
        "colab_type": "code",
        "outputId": "20a47c72-ebca-45fb-a88c-769f78a1180b",
        "colab": {
          "base_uri": "https://localhost:8080/",
          "height": 362
        }
      },
      "source": [
        "#그래프 그리기\n",
        "\n",
        "#sns.pairplot(merge_13.drop('game_id',axis=1),hue=\"winner\")\n",
        "#sns.pairplot(merge_13[['[time/count]_0','[time/count]_1','winner']],hue=\"winner\")\n",
        "sns.heatmap(merge_13.drop('game_id',axis=1).corr())"
      ],
      "execution_count": 98,
      "outputs": [
        {
          "output_type": "execute_result",
          "data": {
            "text/plain": [
              "<matplotlib.axes._subplots.AxesSubplot at 0x7fca52d7f470>"
            ]
          },
          "metadata": {
            "tags": []
          },
          "execution_count": 98
        },
        {
          "output_type": "display_data",
          "data": {
            "image/png": "[encoded data removed]",
            "text/plain": [
              "<Figure size 432x288 with 2 Axes>"
            ]
          },
          "metadata": {
            "tags": []
          }
        }
      ]
    },
    {
      "cell_type": "code",
      "metadata": {
        "id": "4J6IwInw4Acr",
        "colab_type": "code",
        "outputId": "4660c123-30ad-47ca-e136-576ce74219ca",
        "colab": {
          "base_uri": "https://localhost:8080/",
          "height": 210
        }
      },
      "source": [
        "merge_13.drop('game_id',axis=1).corr()['winner']"
      ],
      "execution_count": 99,
      "outputs": [
        {
          "output_type": "execute_result",
          "data": {
            "text/plain": [
              "techtime_0         -0.028509\n",
              "techcount_0        -0.028418\n",
              "time/count_0       -0.016339\n",
              "techtime_1          0.033066\n",
              "techcount_1         0.031310\n",
              "time/count_1        0.024130\n",
              "winner              1.000000\n",
              "techtime_delta     -0.067640\n",
              "techcount_delta    -0.058778\n",
              "time/count_delta   -0.053741\n",
              "Name: winner, dtype: float64"
            ]
          },
          "metadata": {
            "tags": []
          },
          "execution_count": 99
        }
      ]
    },
    {
      "cell_type": "code",
      "metadata": {
        "id": "gERMt6Mj4Vo5",
        "colab_type": "code",
        "colab": {}
      },
      "source": [
        "# 저장\n",
        "merge_13.to_csv('/content/drive/My Drive/Colab Notebooks/data/데이콘/스타2/merge_13_train.csv')"
      ],
      "execution_count": 0,
      "outputs": []
    }
  ]
}