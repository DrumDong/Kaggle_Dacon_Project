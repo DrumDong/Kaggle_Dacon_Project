{
  "nbformat": 4,
  "nbformat_minor": 0,
  "metadata": {
    "colab": {
      "name": "StarCraft_8th.ipynb",
      "provenance": [],
      "machine_shape": "hm"
    },
    "kernelspec": {
      "name": "python3",
      "display_name": "Python 3"
    },
    "accelerator": "GPU"
  },
  "cells": [
    {
      "cell_type": "code",
      "metadata": {
        "id": "o6rZly6hXvab",
        "colab_type": "code",
        "colab": {}
      },
      "source": [
        "import pandas as pd\n",
        "import numpy as np\n",
        "import matplotlib.pyplot as plt\n",
        "import seaborn as sns\n",
        "from tqdm import tqdm\n",
        "from sklearn.model_selection import train_test_split"
      ],
      "execution_count": 0,
      "outputs": []
    },
    {
      "cell_type": "code",
      "metadata": {
        "id": "pNZX-Q2qXdUe",
        "colab_type": "code",
        "colab": {}
      },
      "source": [
        "train = pd.read_pickle('/content/drive/My Drive/Colab Notebooks/data/데이콘/스타2/train.pkl')\n",
        "test = pd.read_pickle('/content/drive/My Drive/Colab Notebooks/data/데이콘/스타2/test.pkl')"
      ],
      "execution_count": 0,
      "outputs": []
    },
    {
      "cell_type": "code",
      "metadata": {
        "id": "l0FtKUre9RQ9",
        "colab_type": "code",
        "colab": {}
      },
      "source": [
        "train['ability_content']=train[train['event']==2]['event_contents'].apply(lambda x: x[8:]).apply(lambda x: x.split(';')[0])"
      ],
      "execution_count": 0,
      "outputs": []
    },
    {
      "cell_type": "code",
      "metadata": {
        "id": "1b6bwgNJYchw",
        "colab_type": "code",
        "colab": {
          "base_uri": "https://localhost:8080/",
          "height": 402
        },
        "outputId": "6254aa9d-5825-4007-fc0f-a4099b98650c"
      },
      "source": [
        "ability_count =train.groupby(['species', 'ability_content'])['game_id'].count().reset_index(name='count')\n",
        "ability_count"
      ],
      "execution_count": 4,
      "outputs": [
        {
          "output_type": "execute_result",
          "data": {
            "text/html": [
              "<div>\n",
              "<style scoped>\n",
              "    .dataframe tbody tr th:only-of-type {\n",
              "        vertical-align: middle;\n",
              "    }\n",
              "\n",
              "    .dataframe tbody tr th {\n",
              "        vertical-align: top;\n",
              "    }\n",
              "\n",
              "    .dataframe thead th {\n",
              "        text-align: right;\n",
              "    }\n",
              "</style>\n",
              "<table border=\"1\" class=\"dataframe\">\n",
              "  <thead>\n",
              "    <tr style=\"text-align: right;\">\n",
              "      <th></th>\n",
              "      <th>species</th>\n",
              "      <th>ability_content</th>\n",
              "      <th>count</th>\n",
              "    </tr>\n",
              "  </thead>\n",
              "  <tbody>\n",
              "    <tr>\n",
              "      <th>0</th>\n",
              "      <td>0.0</td>\n",
              "      <td></td>\n",
              "      <td>834</td>\n",
              "    </tr>\n",
              "    <tr>\n",
              "      <th>1</th>\n",
              "      <td>0.0</td>\n",
              "      <td>AssaultMode</td>\n",
              "      <td>306</td>\n",
              "    </tr>\n",
              "    <tr>\n",
              "      <th>2</th>\n",
              "      <td>0.0</td>\n",
              "      <td>Attack</td>\n",
              "      <td>178</td>\n",
              "    </tr>\n",
              "    <tr>\n",
              "      <th>3</th>\n",
              "      <td>0.0</td>\n",
              "      <td>BattleMode</td>\n",
              "      <td>1151</td>\n",
              "    </tr>\n",
              "    <tr>\n",
              "      <th>4</th>\n",
              "      <td>0.0</td>\n",
              "      <td>BuildArmory</td>\n",
              "      <td>4438</td>\n",
              "    </tr>\n",
              "    <tr>\n",
              "      <th>...</th>\n",
              "      <td>...</td>\n",
              "      <td>...</td>\n",
              "      <td>...</td>\n",
              "    </tr>\n",
              "    <tr>\n",
              "      <th>385</th>\n",
              "      <td>2.0</td>\n",
              "      <td>SpawnInfestedTerran</td>\n",
              "      <td>1</td>\n",
              "    </tr>\n",
              "    <tr>\n",
              "      <th>386</th>\n",
              "      <td>2.0</td>\n",
              "      <td>SpawnLarva</td>\n",
              "      <td>130289</td>\n",
              "    </tr>\n",
              "    <tr>\n",
              "      <th>387</th>\n",
              "      <td>2.0</td>\n",
              "      <td>SprayZerg</td>\n",
              "      <td>101</td>\n",
              "    </tr>\n",
              "    <tr>\n",
              "      <th>388</th>\n",
              "      <td>2.0</td>\n",
              "      <td>Stop</td>\n",
              "      <td>6953</td>\n",
              "    </tr>\n",
              "    <tr>\n",
              "      <th>389</th>\n",
              "      <td>2.0</td>\n",
              "      <td>TrainBaneling</td>\n",
              "      <td>11611</td>\n",
              "    </tr>\n",
              "  </tbody>\n",
              "</table>\n",
              "<p>390 rows × 3 columns</p>\n",
              "</div>"
            ],
            "text/plain": [
              "     species      ability_content   count\n",
              "0        0.0                          834\n",
              "1        0.0          AssaultMode     306\n",
              "2        0.0               Attack     178\n",
              "3        0.0           BattleMode    1151\n",
              "4        0.0          BuildArmory    4438\n",
              "..       ...                  ...     ...\n",
              "385      2.0  SpawnInfestedTerran       1\n",
              "386      2.0           SpawnLarva  130289\n",
              "387      2.0            SprayZerg     101\n",
              "388      2.0                 Stop    6953\n",
              "389      2.0        TrainBaneling   11611\n",
              "\n",
              "[390 rows x 3 columns]"
            ]
          },
          "metadata": {
            "tags": []
          },
          "execution_count": 4
        }
      ]
    },
    {
      "cell_type": "code",
      "metadata": {
        "id": "J-Rz1piZ-0q4",
        "colab_type": "code",
        "colab": {}
      },
      "source": [
        "teran_top = ability_count[ability_count['species']==0].sort_values('count', ascending=False)['ability_content'][:10]\n",
        "protoss_top = ability_count[ability_count['species']==1].sort_values('count', ascending=False)['ability_content'][:10]\n",
        "zerg_top = ability_count[ability_count['species']==2].sort_values('count', ascending=False)['ability_content'][:10]"
      ],
      "execution_count": 0,
      "outputs": []
    },
    {
      "cell_type": "code",
      "metadata": {
        "id": "6WccFVNz85Gl",
        "colab_type": "code",
        "colab": {
          "base_uri": "https://localhost:8080/",
          "height": 34
        },
        "outputId": "7bcc03fc-5672-416c-c81c-c97955a2d3b6"
      },
      "source": [
        "total_top = list()\n",
        "total_top = list(teran_top.values) + list(protoss_top.values) + list(zerg_top.values)\n",
        "len(teran_top), len(protoss_top), len(zerg_top), len(total_top)"
      ],
      "execution_count": 6,
      "outputs": [
        {
          "output_type": "execute_result",
          "data": {
            "text/plain": [
              "(10, 10, 10, 30)"
            ]
          },
          "metadata": {
            "tags": []
          },
          "execution_count": 6
        }
      ]
    },
    {
      "cell_type": "markdown",
      "metadata": {
        "id": "x0_DuLZ8CfiW",
        "colab_type": "text"
      },
      "source": [
        "##플레이어 0만 추출"
      ]
    },
    {
      "cell_type": "code",
      "metadata": {
        "id": "UFIoL-qmCoT5",
        "colab_type": "code",
        "colab": {}
      },
      "source": [
        "df_player0 = train[train['player']==0]\n",
        "df_player0=df_player0[df_player0['ability_content'].isin(total_top) == True]"
      ],
      "execution_count": 0,
      "outputs": []
    },
    {
      "cell_type": "code",
      "metadata": {
        "id": "ZZ8LNFK2GfIw",
        "colab_type": "code",
        "colab": {
          "base_uri": "https://localhost:8080/",
          "height": 34
        },
        "outputId": "80914964-48b9-48ae-ffa0-c1535678a54a"
      },
      "source": [
        "result = list()\n",
        "for game_id, temp in tqdm(df_player0.groupby('game_id', sort=True)):\n",
        "  ability_dict = {i:0 for i in total_top}\n",
        "  ability_dict['game_id'] = game_id\n",
        "  ability_dict.update(temp[['game_id', 'ability_content']].groupby('ability_content').count().T.to_dict('records')[0])\n",
        "  result.append(ability_dict) "
      ],
      "execution_count": 8,
      "outputs": [
        {
          "output_type": "stream",
          "text": [
            "100%|██████████| 38768/38768 [01:45<00:00, 366.10it/s]\n"
          ],
          "name": "stderr"
        }
      ]
    },
    {
      "cell_type": "code",
      "metadata": {
        "id": "0A9I6TQ0Lrpp",
        "colab_type": "code",
        "colab": {}
      },
      "source": [
        "pd.DataFrame(result).to_csv('/content/drive/My Drive/Colab Notebooks/data/데이콘/스타2/train_top50_0.csv')"
      ],
      "execution_count": 0,
      "outputs": []
    },
    {
      "cell_type": "markdown",
      "metadata": {
        "id": "67hg47pLMLZy",
        "colab_type": "text"
      },
      "source": [
        "##플레이어1만 추출"
      ]
    },
    {
      "cell_type": "code",
      "metadata": {
        "id": "IdpgtNh5MM4R",
        "colab_type": "code",
        "colab": {}
      },
      "source": [
        "df_player1 = train[train['player']==1]\n",
        "df_player1=df_player1[df_player1['ability_content'].isin(total_top) == True]"
      ],
      "execution_count": 0,
      "outputs": []
    },
    {
      "cell_type": "code",
      "metadata": {
        "id": "W2ajFkTlMSPB",
        "colab_type": "code",
        "colab": {
          "base_uri": "https://localhost:8080/",
          "height": 34
        },
        "outputId": "5c4af87c-9eeb-4677-b659-6db4ad81f39c"
      },
      "source": [
        "result = list()\n",
        "for game_id, temp in tqdm(df_player1.groupby('game_id', sort=True)):\n",
        "  ability_dict = {i:0 for i in total_top}\n",
        "  ability_dict['game_id'] = game_id\n",
        "  ability_dict.update(temp[['game_id', 'ability_content']].groupby('ability_content').count().T.to_dict('records')[0])\n",
        "  result.append(ability_dict) "
      ],
      "execution_count": 11,
      "outputs": [
        {
          "output_type": "stream",
          "text": [
            "100%|██████████| 38762/38762 [01:46<00:00, 364.24it/s]\n"
          ],
          "name": "stderr"
        }
      ]
    },
    {
      "cell_type": "code",
      "metadata": {
        "id": "hKL7fK8dMSx4",
        "colab_type": "code",
        "colab": {}
      },
      "source": [
        "pd.DataFrame(result).to_csv('/content/drive/My Drive/Colab Notebooks/data/데이콘/스타2/train_top50_1.csv')"
      ],
      "execution_count": 0,
      "outputs": []
    },
    {
      "cell_type": "markdown",
      "metadata": {
        "id": "85pz9tBoNs6t",
        "colab_type": "text"
      },
      "source": [
        "# Player 0,1 merge"
      ]
    },
    {
      "cell_type": "code",
      "metadata": {
        "id": "h9CzoBkaNv5i",
        "colab_type": "code",
        "colab": {}
      },
      "source": [
        "train_0= pd.read_csv('/content/drive/My Drive/Colab Notebooks/data/데이콘/스타2/train_top50_0.csv')\n",
        "train_1= pd.read_csv('/content/drive/My Drive/Colab Notebooks/data/데이콘/스타2/train_top50_1.csv')\n",
        "\n",
        "train_0.drop('Unnamed: 0',axis=1,inplace=True)\n",
        "train_1.drop('Unnamed: 0',axis=1,inplace=True)"
      ],
      "execution_count": 0,
      "outputs": []
    },
    {
      "cell_type": "code",
      "metadata": {
        "id": "wvgWx-WcOOor",
        "colab_type": "code",
        "colab": {}
      },
      "source": [
        "train_merge=train_0.merge(train_1,on='game_id',how='outer')"
      ],
      "execution_count": 0,
      "outputs": []
    },
    {
      "cell_type": "code",
      "metadata": {
        "id": "AtQ566G5OzlL",
        "colab_type": "code",
        "colab": {}
      },
      "source": [
        "train_merge['winner']=train.groupby('game_id')['winner'].min()"
      ],
      "execution_count": 0,
      "outputs": []
    },
    {
      "cell_type": "code",
      "metadata": {
        "id": "ZZ_nxz6NPJDC",
        "colab_type": "code",
        "colab": {
          "base_uri": "https://localhost:8080/",
          "height": 215
        },
        "outputId": "e03f9344-a201-4fa0-ed6f-25c6a8b4f92e"
      },
      "source": [
        "train_merge.head()"
      ],
      "execution_count": 16,
      "outputs": [
        {
          "output_type": "execute_result",
          "data": {
            "text/html": [
              "<div>\n",
              "<style scoped>\n",
              "    .dataframe tbody tr th:only-of-type {\n",
              "        vertical-align: middle;\n",
              "    }\n",
              "\n",
              "    .dataframe tbody tr th {\n",
              "        vertical-align: top;\n",
              "    }\n",
              "\n",
              "    .dataframe thead th {\n",
              "        text-align: right;\n",
              "    }\n",
              "</style>\n",
              "<table border=\"1\" class=\"dataframe\">\n",
              "  <thead>\n",
              "    <tr style=\"text-align: right;\">\n",
              "      <th></th>\n",
              "      <th>TrainSCV_x</th>\n",
              "      <th>Attack_x</th>\n",
              "      <th>TrainMarine_x</th>\n",
              "      <th>BuildSupplyDepot_x</th>\n",
              "      <th>CalldownMULE_x</th>\n",
              "      <th>BuildRefinery_x</th>\n",
              "      <th>BuildBarracks_x</th>\n",
              "      <th>LowerSupplyDepot_x</th>\n",
              "      <th>UpgradeToOrbitalCommand_x</th>\n",
              "      <th>BuildCommandCenter_x</th>\n",
              "      <th>TrainProbe_x</th>\n",
              "      <th>BuildPylon_x</th>\n",
              "      <th>BuildGateway_x</th>\n",
              "      <th>BuildAssimilator_x</th>\n",
              "      <th>ChronoBoost_x</th>\n",
              "      <th>TrainAdept_x</th>\n",
              "      <th>BuildNexus_x</th>\n",
              "      <th>TransformToWarpGate_x</th>\n",
              "      <th>BuildCyberneticsCore_x</th>\n",
              "      <th>MorphDrone_x</th>\n",
              "      <th>SpawnLarva_x</th>\n",
              "      <th>MorphOverlord_x</th>\n",
              "      <th>MorphZergling_x</th>\n",
              "      <th>TrainQueen_x</th>\n",
              "      <th>BuildExtractor_x</th>\n",
              "      <th>CreepTumor_x</th>\n",
              "      <th>BuildHatchery_x</th>\n",
              "      <th>BuildCreepTumor_x</th>\n",
              "      <th>game_id</th>\n",
              "      <th>TrainSCV_y</th>\n",
              "      <th>Attack_y</th>\n",
              "      <th>TrainMarine_y</th>\n",
              "      <th>BuildSupplyDepot_y</th>\n",
              "      <th>CalldownMULE_y</th>\n",
              "      <th>BuildRefinery_y</th>\n",
              "      <th>BuildBarracks_y</th>\n",
              "      <th>LowerSupplyDepot_y</th>\n",
              "      <th>UpgradeToOrbitalCommand_y</th>\n",
              "      <th>BuildCommandCenter_y</th>\n",
              "      <th>TrainProbe_y</th>\n",
              "      <th>BuildPylon_y</th>\n",
              "      <th>BuildGateway_y</th>\n",
              "      <th>BuildAssimilator_y</th>\n",
              "      <th>ChronoBoost_y</th>\n",
              "      <th>TrainAdept_y</th>\n",
              "      <th>BuildNexus_y</th>\n",
              "      <th>TransformToWarpGate_y</th>\n",
              "      <th>BuildCyberneticsCore_y</th>\n",
              "      <th>MorphDrone_y</th>\n",
              "      <th>SpawnLarva_y</th>\n",
              "      <th>MorphOverlord_y</th>\n",
              "      <th>MorphZergling_y</th>\n",
              "      <th>TrainQueen_y</th>\n",
              "      <th>BuildExtractor_y</th>\n",
              "      <th>CreepTumor_y</th>\n",
              "      <th>BuildHatchery_y</th>\n",
              "      <th>BuildCreepTumor_y</th>\n",
              "      <th>winner</th>\n",
              "    </tr>\n",
              "  </thead>\n",
              "  <tbody>\n",
              "    <tr>\n",
              "      <th>0</th>\n",
              "      <td>9.0</td>\n",
              "      <td>0.0</td>\n",
              "      <td>3.0</td>\n",
              "      <td>4.0</td>\n",
              "      <td>1.0</td>\n",
              "      <td>2.0</td>\n",
              "      <td>2.0</td>\n",
              "      <td>0.0</td>\n",
              "      <td>1.0</td>\n",
              "      <td>1.0</td>\n",
              "      <td>0.0</td>\n",
              "      <td>0.0</td>\n",
              "      <td>0.0</td>\n",
              "      <td>0.0</td>\n",
              "      <td>0.0</td>\n",
              "      <td>0.0</td>\n",
              "      <td>0.0</td>\n",
              "      <td>0.0</td>\n",
              "      <td>0.0</td>\n",
              "      <td>0.0</td>\n",
              "      <td>0.0</td>\n",
              "      <td>0.0</td>\n",
              "      <td>0.0</td>\n",
              "      <td>0.0</td>\n",
              "      <td>0.0</td>\n",
              "      <td>0.0</td>\n",
              "      <td>0.0</td>\n",
              "      <td>0.0</td>\n",
              "      <td>0.0</td>\n",
              "      <td>6.0</td>\n",
              "      <td>3.0</td>\n",
              "      <td>5.0</td>\n",
              "      <td>3.0</td>\n",
              "      <td>1.0</td>\n",
              "      <td>2.0</td>\n",
              "      <td>1.0</td>\n",
              "      <td>0.0</td>\n",
              "      <td>2.0</td>\n",
              "      <td>0.0</td>\n",
              "      <td>0.0</td>\n",
              "      <td>0.0</td>\n",
              "      <td>0.0</td>\n",
              "      <td>0.0</td>\n",
              "      <td>0.0</td>\n",
              "      <td>0.0</td>\n",
              "      <td>0.0</td>\n",
              "      <td>0.0</td>\n",
              "      <td>0.0</td>\n",
              "      <td>0.0</td>\n",
              "      <td>0.0</td>\n",
              "      <td>0.0</td>\n",
              "      <td>0.0</td>\n",
              "      <td>0.0</td>\n",
              "      <td>0.0</td>\n",
              "      <td>0.0</td>\n",
              "      <td>0.0</td>\n",
              "      <td>0.0</td>\n",
              "      <td>1.0</td>\n",
              "    </tr>\n",
              "    <tr>\n",
              "      <th>1</th>\n",
              "      <td>0.0</td>\n",
              "      <td>2.0</td>\n",
              "      <td>0.0</td>\n",
              "      <td>0.0</td>\n",
              "      <td>0.0</td>\n",
              "      <td>0.0</td>\n",
              "      <td>0.0</td>\n",
              "      <td>0.0</td>\n",
              "      <td>0.0</td>\n",
              "      <td>0.0</td>\n",
              "      <td>22.0</td>\n",
              "      <td>8.0</td>\n",
              "      <td>5.0</td>\n",
              "      <td>3.0</td>\n",
              "      <td>2.0</td>\n",
              "      <td>2.0</td>\n",
              "      <td>1.0</td>\n",
              "      <td>3.0</td>\n",
              "      <td>1.0</td>\n",
              "      <td>0.0</td>\n",
              "      <td>0.0</td>\n",
              "      <td>0.0</td>\n",
              "      <td>0.0</td>\n",
              "      <td>0.0</td>\n",
              "      <td>0.0</td>\n",
              "      <td>0.0</td>\n",
              "      <td>0.0</td>\n",
              "      <td>0.0</td>\n",
              "      <td>1.0</td>\n",
              "      <td>17.0</td>\n",
              "      <td>4.0</td>\n",
              "      <td>6.0</td>\n",
              "      <td>2.0</td>\n",
              "      <td>2.0</td>\n",
              "      <td>2.0</td>\n",
              "      <td>3.0</td>\n",
              "      <td>2.0</td>\n",
              "      <td>1.0</td>\n",
              "      <td>2.0</td>\n",
              "      <td>0.0</td>\n",
              "      <td>0.0</td>\n",
              "      <td>0.0</td>\n",
              "      <td>0.0</td>\n",
              "      <td>0.0</td>\n",
              "      <td>0.0</td>\n",
              "      <td>0.0</td>\n",
              "      <td>0.0</td>\n",
              "      <td>0.0</td>\n",
              "      <td>0.0</td>\n",
              "      <td>0.0</td>\n",
              "      <td>0.0</td>\n",
              "      <td>0.0</td>\n",
              "      <td>0.0</td>\n",
              "      <td>0.0</td>\n",
              "      <td>0.0</td>\n",
              "      <td>0.0</td>\n",
              "      <td>0.0</td>\n",
              "      <td>1.0</td>\n",
              "    </tr>\n",
              "    <tr>\n",
              "      <th>2</th>\n",
              "      <td>0.0</td>\n",
              "      <td>11.0</td>\n",
              "      <td>0.0</td>\n",
              "      <td>0.0</td>\n",
              "      <td>0.0</td>\n",
              "      <td>0.0</td>\n",
              "      <td>0.0</td>\n",
              "      <td>0.0</td>\n",
              "      <td>0.0</td>\n",
              "      <td>0.0</td>\n",
              "      <td>19.0</td>\n",
              "      <td>5.0</td>\n",
              "      <td>2.0</td>\n",
              "      <td>6.0</td>\n",
              "      <td>5.0</td>\n",
              "      <td>1.0</td>\n",
              "      <td>1.0</td>\n",
              "      <td>1.0</td>\n",
              "      <td>0.0</td>\n",
              "      <td>0.0</td>\n",
              "      <td>0.0</td>\n",
              "      <td>0.0</td>\n",
              "      <td>0.0</td>\n",
              "      <td>0.0</td>\n",
              "      <td>0.0</td>\n",
              "      <td>0.0</td>\n",
              "      <td>0.0</td>\n",
              "      <td>0.0</td>\n",
              "      <td>2.0</td>\n",
              "      <td>0.0</td>\n",
              "      <td>7.0</td>\n",
              "      <td>0.0</td>\n",
              "      <td>0.0</td>\n",
              "      <td>0.0</td>\n",
              "      <td>0.0</td>\n",
              "      <td>0.0</td>\n",
              "      <td>0.0</td>\n",
              "      <td>0.0</td>\n",
              "      <td>0.0</td>\n",
              "      <td>0.0</td>\n",
              "      <td>0.0</td>\n",
              "      <td>0.0</td>\n",
              "      <td>0.0</td>\n",
              "      <td>0.0</td>\n",
              "      <td>0.0</td>\n",
              "      <td>0.0</td>\n",
              "      <td>0.0</td>\n",
              "      <td>0.0</td>\n",
              "      <td>23.0</td>\n",
              "      <td>11.0</td>\n",
              "      <td>7.0</td>\n",
              "      <td>4.0</td>\n",
              "      <td>3.0</td>\n",
              "      <td>3.0</td>\n",
              "      <td>5.0</td>\n",
              "      <td>2.0</td>\n",
              "      <td>4.0</td>\n",
              "      <td>0.0</td>\n",
              "    </tr>\n",
              "    <tr>\n",
              "      <th>3</th>\n",
              "      <td>7.0</td>\n",
              "      <td>8.0</td>\n",
              "      <td>9.0</td>\n",
              "      <td>6.0</td>\n",
              "      <td>3.0</td>\n",
              "      <td>1.0</td>\n",
              "      <td>3.0</td>\n",
              "      <td>3.0</td>\n",
              "      <td>2.0</td>\n",
              "      <td>2.0</td>\n",
              "      <td>0.0</td>\n",
              "      <td>0.0</td>\n",
              "      <td>0.0</td>\n",
              "      <td>0.0</td>\n",
              "      <td>0.0</td>\n",
              "      <td>0.0</td>\n",
              "      <td>0.0</td>\n",
              "      <td>0.0</td>\n",
              "      <td>0.0</td>\n",
              "      <td>0.0</td>\n",
              "      <td>0.0</td>\n",
              "      <td>0.0</td>\n",
              "      <td>0.0</td>\n",
              "      <td>0.0</td>\n",
              "      <td>0.0</td>\n",
              "      <td>0.0</td>\n",
              "      <td>0.0</td>\n",
              "      <td>0.0</td>\n",
              "      <td>3.0</td>\n",
              "      <td>0.0</td>\n",
              "      <td>17.0</td>\n",
              "      <td>0.0</td>\n",
              "      <td>0.0</td>\n",
              "      <td>0.0</td>\n",
              "      <td>0.0</td>\n",
              "      <td>0.0</td>\n",
              "      <td>0.0</td>\n",
              "      <td>0.0</td>\n",
              "      <td>0.0</td>\n",
              "      <td>24.0</td>\n",
              "      <td>7.0</td>\n",
              "      <td>4.0</td>\n",
              "      <td>4.0</td>\n",
              "      <td>4.0</td>\n",
              "      <td>0.0</td>\n",
              "      <td>1.0</td>\n",
              "      <td>2.0</td>\n",
              "      <td>0.0</td>\n",
              "      <td>0.0</td>\n",
              "      <td>0.0</td>\n",
              "      <td>0.0</td>\n",
              "      <td>0.0</td>\n",
              "      <td>0.0</td>\n",
              "      <td>0.0</td>\n",
              "      <td>0.0</td>\n",
              "      <td>0.0</td>\n",
              "      <td>0.0</td>\n",
              "      <td>0.0</td>\n",
              "    </tr>\n",
              "    <tr>\n",
              "      <th>4</th>\n",
              "      <td>14.0</td>\n",
              "      <td>14.0</td>\n",
              "      <td>3.0</td>\n",
              "      <td>2.0</td>\n",
              "      <td>3.0</td>\n",
              "      <td>2.0</td>\n",
              "      <td>1.0</td>\n",
              "      <td>0.0</td>\n",
              "      <td>1.0</td>\n",
              "      <td>1.0</td>\n",
              "      <td>0.0</td>\n",
              "      <td>0.0</td>\n",
              "      <td>0.0</td>\n",
              "      <td>0.0</td>\n",
              "      <td>0.0</td>\n",
              "      <td>0.0</td>\n",
              "      <td>0.0</td>\n",
              "      <td>0.0</td>\n",
              "      <td>0.0</td>\n",
              "      <td>0.0</td>\n",
              "      <td>0.0</td>\n",
              "      <td>0.0</td>\n",
              "      <td>0.0</td>\n",
              "      <td>0.0</td>\n",
              "      <td>0.0</td>\n",
              "      <td>0.0</td>\n",
              "      <td>0.0</td>\n",
              "      <td>0.0</td>\n",
              "      <td>4.0</td>\n",
              "      <td>0.0</td>\n",
              "      <td>2.0</td>\n",
              "      <td>0.0</td>\n",
              "      <td>0.0</td>\n",
              "      <td>0.0</td>\n",
              "      <td>0.0</td>\n",
              "      <td>0.0</td>\n",
              "      <td>0.0</td>\n",
              "      <td>0.0</td>\n",
              "      <td>0.0</td>\n",
              "      <td>0.0</td>\n",
              "      <td>0.0</td>\n",
              "      <td>0.0</td>\n",
              "      <td>0.0</td>\n",
              "      <td>0.0</td>\n",
              "      <td>0.0</td>\n",
              "      <td>0.0</td>\n",
              "      <td>0.0</td>\n",
              "      <td>0.0</td>\n",
              "      <td>13.0</td>\n",
              "      <td>3.0</td>\n",
              "      <td>4.0</td>\n",
              "      <td>1.0</td>\n",
              "      <td>2.0</td>\n",
              "      <td>1.0</td>\n",
              "      <td>2.0</td>\n",
              "      <td>1.0</td>\n",
              "      <td>1.0</td>\n",
              "      <td>0.0</td>\n",
              "    </tr>\n",
              "  </tbody>\n",
              "</table>\n",
              "</div>"
            ],
            "text/plain": [
              "    TrainSCV_x  Attack_x  ...   BuildCreepTumor_y  winner\n",
              "0          9.0       0.0  ...                 0.0     1.0\n",
              "1          0.0       2.0  ...                 0.0     1.0\n",
              "2          0.0      11.0  ...                 4.0     0.0\n",
              "3          7.0       8.0  ...                 0.0     0.0\n",
              "4         14.0      14.0  ...                 1.0     0.0\n",
              "\n",
              "[5 rows x 58 columns]"
            ]
          },
          "metadata": {
            "tags": []
          },
          "execution_count": 16
        }
      ]
    },
    {
      "cell_type": "code",
      "metadata": {
        "id": "EQH5xTdpmhAt",
        "colab_type": "code",
        "colab": {}
      },
      "source": [
        "t_game_id=train_merge['game_id']\n",
        "train_merge.drop('game_id',axis=1,inplace=True)"
      ],
      "execution_count": 0,
      "outputs": []
    },
    {
      "cell_type": "code",
      "metadata": {
        "id": "6IXofNwkPhNZ",
        "colab_type": "code",
        "colab": {}
      },
      "source": [
        "X=train_merge.iloc[:,:-1]\n",
        "y=train_merge.iloc[:,-1]\n",
        "X_train,X_val,y_train,y_val=train_test_split(X,y,test_size=0.3,random_state=156)"
      ],
      "execution_count": 0,
      "outputs": []
    },
    {
      "cell_type": "markdown",
      "metadata": {
        "id": "Op4hbW2kgC1O",
        "colab_type": "text"
      },
      "source": [
        "# Test data 처리"
      ]
    },
    {
      "cell_type": "code",
      "metadata": {
        "id": "DyVde6s6gapJ",
        "colab_type": "code",
        "colab": {}
      },
      "source": [
        "test['ability_content']=test[test['event']==2]['event_contents'].apply(lambda x: x[8:]).apply(lambda x: x.split(';')[0])"
      ],
      "execution_count": 0,
      "outputs": []
    },
    {
      "cell_type": "code",
      "metadata": {
        "id": "EfMFFiYrgGkA",
        "colab_type": "code",
        "colab": {}
      },
      "source": [
        "df_player0 = test[test['player']==0]\n",
        "df_player0=df_player0[df_player0['ability_content'].isin(total_top) == True]\n",
        "\n",
        "df_player1 = test[test['player']==1]\n",
        "df_player1=df_player0[df_player0['ability_content'].isin(total_top) == True]"
      ],
      "execution_count": 0,
      "outputs": []
    },
    {
      "cell_type": "code",
      "metadata": {
        "id": "PTiU0ifAgk7N",
        "colab_type": "code",
        "colab": {
          "base_uri": "https://localhost:8080/",
          "height": 34
        },
        "outputId": "9e69f927-a4b3-49ab-e101-14d14d474dfc"
      },
      "source": [
        "result = list()\n",
        "for game_id, temp in tqdm(df_player0.groupby('game_id', sort=True)):\n",
        "  ability_dict = {i:0 for i in total_top}\n",
        "  ability_dict['game_id'] = game_id\n",
        "  ability_dict.update(temp[['game_id', 'ability_content']].groupby('ability_content').count().T.to_dict('records')[0])\n",
        "  result.append(ability_dict) "
      ],
      "execution_count": 21,
      "outputs": [
        {
          "output_type": "stream",
          "text": [
            "100%|██████████| 16739/16739 [00:46<00:00, 362.72it/s]\n"
          ],
          "name": "stderr"
        }
      ]
    },
    {
      "cell_type": "code",
      "metadata": {
        "id": "4SsMadyGgt9I",
        "colab_type": "code",
        "colab": {}
      },
      "source": [
        "pd.DataFrame(result).to_csv('/content/drive/My Drive/Colab Notebooks/data/데이콘/스타2/test_top50_0.csv')\n",
        "test_0= pd.read_csv('/content/drive/My Drive/Colab Notebooks/data/데이콘/스타2/test_top50_0.csv')"
      ],
      "execution_count": 0,
      "outputs": []
    },
    {
      "cell_type": "code",
      "metadata": {
        "id": "VyrzeMoDgtBj",
        "colab_type": "code",
        "colab": {
          "base_uri": "https://localhost:8080/",
          "height": 34
        },
        "outputId": "1b1d86db-8742-42b5-8aaa-9b4e2222d3d5"
      },
      "source": [
        "result = list()\n",
        "for game_id, temp in tqdm(df_player1.groupby('game_id', sort=True)):\n",
        "  ability_dict = {i:0 for i in total_top}\n",
        "  ability_dict['game_id'] = game_id\n",
        "  ability_dict.update(temp[['game_id', 'ability_content']].groupby('ability_content').count().T.to_dict('records')[0])\n",
        "  result.append(ability_dict) "
      ],
      "execution_count": 23,
      "outputs": [
        {
          "output_type": "stream",
          "text": [
            "100%|██████████| 16739/16739 [00:46<00:00, 360.42it/s]\n"
          ],
          "name": "stderr"
        }
      ]
    },
    {
      "cell_type": "code",
      "metadata": {
        "id": "wuziucGOgtGk",
        "colab_type": "code",
        "colab": {}
      },
      "source": [
        "pd.DataFrame(result).to_csv('/content/drive/My Drive/Colab Notebooks/data/데이콘/스타2/test_top50_1.csv')\n",
        "test_1= pd.read_csv('/content/drive/My Drive/Colab Notebooks/data/데이콘/스타2/test_top50_1.csv')"
      ],
      "execution_count": 0,
      "outputs": []
    },
    {
      "cell_type": "code",
      "metadata": {
        "id": "yonDJtxRhlal",
        "colab_type": "code",
        "colab": {}
      },
      "source": [
        "test_0.drop('Unnamed: 0',axis=1,inplace=True)\n",
        "test_1.drop('Unnamed: 0',axis=1,inplace=True)\n",
        "test_merge=test_0.merge(test_1,on='game_id',how='outer')\n",
        "\n",
        "ts_game_id=test_merge['game_id']\n",
        "test_merge.drop('game_id',inplace=True,axis=1)"
      ],
      "execution_count": 0,
      "outputs": []
    },
    {
      "cell_type": "markdown",
      "metadata": {
        "id": "mxOY3UU1TVZo",
        "colab_type": "text"
      },
      "source": [
        "# Modeling"
      ]
    },
    {
      "cell_type": "markdown",
      "metadata": {
        "id": "Hs4dLMBfTWsC",
        "colab_type": "text"
      },
      "source": [
        "## Logistic Regression"
      ]
    },
    {
      "cell_type": "code",
      "metadata": {
        "id": "puZb73fHTQMD",
        "colab_type": "code",
        "colab": {
          "base_uri": "https://localhost:8080/",
          "height": 81
        },
        "outputId": "1549bf5d-6336-4195-9106-09990a1f92ff"
      },
      "source": [
        "import matplotlib.pyplot as plt\n",
        "from keras.models import Sequential\n",
        "from keras.layers import Dense\n",
        "from keras.callbacks import EarlyStopping\n",
        "from keras.callbacks import ModelCheckpoint\n",
        "from keras import backend as K"
      ],
      "execution_count": 26,
      "outputs": [
        {
          "output_type": "stream",
          "text": [
            "Using TensorFlow backend.\n"
          ],
          "name": "stderr"
        },
        {
          "output_type": "display_data",
          "data": {
            "text/html": [
              "<p style=\"color: red;\">\n",
              "The default version of TensorFlow in Colab will soon switch to TensorFlow 2.x.<br>\n",
              "We recommend you <a href=\"https://www.tensorflow.org/guide/migrate\" target=\"_blank\">upgrade</a> now \n",
              "or ensure your notebook will continue to use TensorFlow 1.x via the <code>%tensorflow_version 1.x</code> magic:\n",
              "<a href=\"https://colab.research.google.com/notebooks/tensorflow_version.ipynb\" target=\"_blank\">more info</a>.</p>\n"
            ],
            "text/plain": [
              "<IPython.core.display.HTML object>"
            ]
          },
          "metadata": {
            "tags": []
          }
        }
      ]
    },
    {
      "cell_type": "code",
      "metadata": {
        "id": "zZf4p8QKTRjV",
        "colab_type": "code",
        "colab": {}
      },
      "source": [
        "def recall_m(y_true, y_pred):\n",
        "        true_positives = K.sum(K.round(K.clip(y_true * y_pred, 0, 1)))\n",
        "        possible_positives = K.sum(K.round(K.clip(y_true, 0, 1)))\n",
        "        recall = true_positives / (possible_positives + K.epsilon())\n",
        "        return recall\n",
        "\n",
        "def precision_m(y_true, y_pred):\n",
        "        true_positives = K.sum(K.round(K.clip(y_true * y_pred, 0, 1)))\n",
        "        predicted_positives = K.sum(K.round(K.clip(y_pred, 0, 1)))\n",
        "        precision = true_positives / (predicted_positives + K.epsilon())\n",
        "        return precision\n",
        "\n",
        "def f1_m(y_true, y_pred):\n",
        "    precision = precision_m(y_true, y_pred)\n",
        "    recall = recall_m(y_true, y_pred)\n",
        "    return 2*((precision*recall)/(precision+recall+K.epsilon()))"
      ],
      "execution_count": 0,
      "outputs": []
    },
    {
      "cell_type": "code",
      "metadata": {
        "id": "SCRnXU1YTcO-",
        "colab_type": "code",
        "colab": {
          "base_uri": "https://localhost:8080/",
          "height": 1000
        },
        "outputId": "977f446e-7626-4352-e470-1cf209e77806"
      },
      "source": [
        "#3. 모델 구성하기\n",
        "model = Sequential()\n",
        "model.add(Dense(256, input_dim=len(X.columns), activation ='relu'))\n",
        "model.add(Dense(128, activation ='relu'))\n",
        "model.add(Dense(64, activation ='relu'))\n",
        "model.add(Dense(32, activation ='relu'))\n",
        "model.add(Dense(16, activation ='relu'))\n",
        "model.add(Dense(8, activation ='relu'))\n",
        "model.add(Dense(1, activation ='sigmoid'))\n",
        "\n",
        "#4. 모델 학습과정 설정하기\n",
        "model.compile(loss='binary_crossentropy', optimizer='adam', metrics=['acc',f1_m,precision_m, recall_m]) \n",
        "\n",
        "\n",
        "\n",
        "#5. 모델 학습시키기\n",
        "#5.1. Early Stopping\n",
        "callbacks_list = [\n",
        "    EarlyStopping(\n",
        "    monitor='val_loss',\n",
        "    patience=10,\n",
        "    ),\n",
        "     ModelCheckpoint(\n",
        "     filepath='multi_model.h5',\n",
        "     monitor='val_loss',\n",
        "     save_best_only=True,\n",
        "     )\n",
        "]\n",
        "\n",
        "hist = model.fit(X_train, y_train, epochs = 100,callbacks=callbacks_list,validation_data=(X_val, y_val))\n",
        "\n",
        "#6. 모델 평가하기\n",
        "scores = model.evaluate(X_val, y_val)\n",
        "print(\"%s: %.2f%%\" %(model.metrics_names[1], scores[1]*100))\n",
        "\n",
        "#epoch, loss, acc 그래프"
      ],
      "execution_count": 28,
      "outputs": [
        {
          "output_type": "stream",
          "text": [
            "WARNING:tensorflow:From /usr/local/lib/python3.6/dist-packages/keras/backend/tensorflow_backend.py:66: The name tf.get_default_graph is deprecated. Please use tf.compat.v1.get_default_graph instead.\n",
            "\n",
            "WARNING:tensorflow:From /usr/local/lib/python3.6/dist-packages/keras/backend/tensorflow_backend.py:541: The name tf.placeholder is deprecated. Please use tf.compat.v1.placeholder instead.\n",
            "\n",
            "WARNING:tensorflow:From /usr/local/lib/python3.6/dist-packages/keras/backend/tensorflow_backend.py:4432: The name tf.random_uniform is deprecated. Please use tf.random.uniform instead.\n",
            "\n",
            "WARNING:tensorflow:From /usr/local/lib/python3.6/dist-packages/keras/optimizers.py:793: The name tf.train.Optimizer is deprecated. Please use tf.compat.v1.train.Optimizer instead.\n",
            "\n",
            "WARNING:tensorflow:From /usr/local/lib/python3.6/dist-packages/keras/backend/tensorflow_backend.py:3657: The name tf.log is deprecated. Please use tf.math.log instead.\n",
            "\n",
            "WARNING:tensorflow:From /usr/local/lib/python3.6/dist-packages/tensorflow_core/python/ops/nn_impl.py:183: where (from tensorflow.python.ops.array_ops) is deprecated and will be removed in a future version.\n",
            "Instructions for updating:\n",
            "Use tf.where in 2.0, which has the same broadcast rule as np.where\n",
            "WARNING:tensorflow:From /usr/local/lib/python3.6/dist-packages/keras/backend/tensorflow_backend.py:1033: The name tf.assign_add is deprecated. Please use tf.compat.v1.assign_add instead.\n",
            "\n",
            "WARNING:tensorflow:From /usr/local/lib/python3.6/dist-packages/keras/backend/tensorflow_backend.py:1020: The name tf.assign is deprecated. Please use tf.compat.v1.assign instead.\n",
            "\n",
            "WARNING:tensorflow:From /usr/local/lib/python3.6/dist-packages/keras/backend/tensorflow_backend.py:3005: The name tf.Session is deprecated. Please use tf.compat.v1.Session instead.\n",
            "\n",
            "Train on 27204 samples, validate on 11660 samples\n",
            "Epoch 1/100\n",
            "WARNING:tensorflow:From /usr/local/lib/python3.6/dist-packages/keras/backend/tensorflow_backend.py:190: The name tf.get_default_session is deprecated. Please use tf.compat.v1.get_default_session instead.\n",
            "\n",
            "WARNING:tensorflow:From /usr/local/lib/python3.6/dist-packages/keras/backend/tensorflow_backend.py:197: The name tf.ConfigProto is deprecated. Please use tf.compat.v1.ConfigProto instead.\n",
            "\n",
            "WARNING:tensorflow:From /usr/local/lib/python3.6/dist-packages/keras/backend/tensorflow_backend.py:207: The name tf.global_variables is deprecated. Please use tf.compat.v1.global_variables instead.\n",
            "\n",
            "WARNING:tensorflow:From /usr/local/lib/python3.6/dist-packages/keras/backend/tensorflow_backend.py:216: The name tf.is_variable_initialized is deprecated. Please use tf.compat.v1.is_variable_initialized instead.\n",
            "\n",
            "WARNING:tensorflow:From /usr/local/lib/python3.6/dist-packages/keras/backend/tensorflow_backend.py:223: The name tf.variables_initializer is deprecated. Please use tf.compat.v1.variables_initializer instead.\n",
            "\n",
            "27204/27204 [==============================] - 13s 495us/step - loss: 0.6932 - acc: 0.4992 - f1_m: 0.3064 - precision_m: 0.2311 - recall_m: 0.4634 - val_loss: 0.6932 - val_acc: 0.4934 - val_f1_m: 0.0000e+00 - val_precision_m: 0.0000e+00 - val_recall_m: 0.0000e+00\n",
            "Epoch 2/100\n",
            "27204/27204 [==============================] - 4s 150us/step - loss: 0.6932 - acc: 0.4971 - f1_m: 0.2282 - precision_m: 0.1718 - recall_m: 0.3470 - val_loss: 0.6932 - val_acc: 0.4934 - val_f1_m: 0.0000e+00 - val_precision_m: 0.0000e+00 - val_recall_m: 0.0000e+00\n",
            "Epoch 3/100\n",
            "27204/27204 [==============================] - 4s 149us/step - loss: 0.6932 - acc: 0.5010 - f1_m: 0.2495 - precision_m: 0.1885 - recall_m: 0.3766 - val_loss: 0.6931 - val_acc: 0.5066 - val_f1_m: 0.6678 - val_precision_m: 0.5066 - val_recall_m: 1.0000\n",
            "Epoch 4/100\n",
            "27204/27204 [==============================] - 4s 151us/step - loss: 0.6932 - acc: 0.4948 - f1_m: 0.1983 - precision_m: 0.1489 - recall_m: 0.3035 - val_loss: 0.6931 - val_acc: 0.5066 - val_f1_m: 0.6678 - val_precision_m: 0.5066 - val_recall_m: 1.0000\n",
            "Epoch 5/100\n",
            "27204/27204 [==============================] - 4s 149us/step - loss: 0.6932 - acc: 0.4928 - f1_m: 0.4053 - precision_m: 0.3049 - recall_m: 0.6176 - val_loss: 0.6932 - val_acc: 0.4934 - val_f1_m: 0.0000e+00 - val_precision_m: 0.0000e+00 - val_recall_m: 0.0000e+00\n",
            "Epoch 6/100\n",
            "27204/27204 [==============================] - 4s 147us/step - loss: 0.6932 - acc: 0.4987 - f1_m: 0.1830 - precision_m: 0.1380 - recall_m: 0.2778 - val_loss: 0.6931 - val_acc: 0.5066 - val_f1_m: 0.6678 - val_precision_m: 0.5066 - val_recall_m: 1.0000\n",
            "Epoch 7/100\n",
            "27204/27204 [==============================] - 4s 146us/step - loss: 0.6932 - acc: 0.4964 - f1_m: 0.2187 - precision_m: 0.1645 - recall_m: 0.3330 - val_loss: 0.6931 - val_acc: 0.5066 - val_f1_m: 0.6678 - val_precision_m: 0.5066 - val_recall_m: 1.0000\n",
            "Epoch 8/100\n",
            "27204/27204 [==============================] - 4s 145us/step - loss: 0.6932 - acc: 0.4983 - f1_m: 0.3564 - precision_m: 0.2689 - recall_m: 0.5399 - val_loss: 0.6932 - val_acc: 0.4934 - val_f1_m: 0.0000e+00 - val_precision_m: 0.0000e+00 - val_recall_m: 0.0000e+00\n",
            "Epoch 9/100\n",
            "27204/27204 [==============================] - 4s 151us/step - loss: 0.6932 - acc: 0.4996 - f1_m: 0.2070 - precision_m: 0.1561 - recall_m: 0.3130 - val_loss: 0.6931 - val_acc: 0.5066 - val_f1_m: 0.6678 - val_precision_m: 0.5066 - val_recall_m: 1.0000\n",
            "Epoch 10/100\n",
            "27204/27204 [==============================] - 4s 152us/step - loss: 0.6932 - acc: 0.4948 - f1_m: 0.4181 - precision_m: 0.3148 - recall_m: 0.6353 - val_loss: 0.6931 - val_acc: 0.5066 - val_f1_m: 0.6678 - val_precision_m: 0.5066 - val_recall_m: 1.0000\n",
            "Epoch 11/100\n",
            "27204/27204 [==============================] - 4s 151us/step - loss: 0.6932 - acc: 0.4978 - f1_m: 0.2302 - precision_m: 0.1734 - recall_m: 0.3495 - val_loss: 0.6931 - val_acc: 0.5066 - val_f1_m: 0.6678 - val_precision_m: 0.5066 - val_recall_m: 1.0000\n",
            "Epoch 12/100\n",
            "27204/27204 [==============================] - 4s 150us/step - loss: 0.6932 - acc: 0.4971 - f1_m: 0.3313 - precision_m: 0.2495 - recall_m: 0.5024 - val_loss: 0.6931 - val_acc: 0.5066 - val_f1_m: 0.6678 - val_precision_m: 0.5066 - val_recall_m: 1.0000\n",
            "Epoch 13/100\n",
            "27204/27204 [==============================] - 4s 151us/step - loss: 0.6932 - acc: 0.4982 - f1_m: 0.3990 - precision_m: 0.3011 - recall_m: 0.6046 - val_loss: 0.6932 - val_acc: 0.4934 - val_f1_m: 0.0000e+00 - val_precision_m: 0.0000e+00 - val_recall_m: 0.0000e+00\n",
            "Epoch 14/100\n",
            "27204/27204 [==============================] - 4s 147us/step - loss: 0.6932 - acc: 0.4958 - f1_m: 0.2633 - precision_m: 0.1982 - recall_m: 0.4011 - val_loss: 0.6932 - val_acc: 0.4934 - val_f1_m: 0.0000e+00 - val_precision_m: 0.0000e+00 - val_recall_m: 0.0000e+00\n",
            "Epoch 15/100\n",
            "27204/27204 [==============================] - 4s 149us/step - loss: 0.6932 - acc: 0.4979 - f1_m: 0.2470 - precision_m: 0.1863 - recall_m: 0.3752 - val_loss: 0.6932 - val_acc: 0.4934 - val_f1_m: 0.0000e+00 - val_precision_m: 0.0000e+00 - val_recall_m: 0.0000e+00\n",
            "Epoch 16/100\n",
            "27204/27204 [==============================] - 4s 150us/step - loss: 0.6932 - acc: 0.4962 - f1_m: 0.0829 - precision_m: 0.0619 - recall_m: 0.1282 - val_loss: 0.6932 - val_acc: 0.4934 - val_f1_m: 0.0000e+00 - val_precision_m: 0.0000e+00 - val_recall_m: 0.0000e+00\n",
            "Epoch 17/100\n",
            "27204/27204 [==============================] - 4s 149us/step - loss: 0.6932 - acc: 0.4897 - f1_m: 0.3915 - precision_m: 0.2940 - recall_m: 0.5987 - val_loss: 0.6932 - val_acc: 0.4934 - val_f1_m: 0.0000e+00 - val_precision_m: 0.0000e+00 - val_recall_m: 0.0000e+00\n",
            "Epoch 18/100\n",
            "27204/27204 [==============================] - 4s 149us/step - loss: 0.6931 - acc: 0.5008 - f1_m: 0.3896 - precision_m: 0.2942 - recall_m: 0.5881 - val_loss: 0.6934 - val_acc: 0.4934 - val_f1_m: 0.0000e+00 - val_precision_m: 0.0000e+00 - val_recall_m: 0.0000e+00\n",
            "Epoch 19/100\n",
            "27204/27204 [==============================] - 4s 151us/step - loss: 0.6932 - acc: 0.4996 - f1_m: 0.0089 - precision_m: 0.0066 - recall_m: 0.0141 - val_loss: 0.6932 - val_acc: 0.4934 - val_f1_m: 0.0000e+00 - val_precision_m: 0.0000e+00 - val_recall_m: 0.0000e+00\n",
            "Epoch 20/100\n",
            "27204/27204 [==============================] - 4s 146us/step - loss: 0.6932 - acc: 0.5004 - f1_m: 0.5099 - precision_m: 0.3852 - recall_m: 0.7705 - val_loss: 0.6933 - val_acc: 0.4934 - val_f1_m: 0.0000e+00 - val_precision_m: 0.0000e+00 - val_recall_m: 0.0000e+00\n",
            "Epoch 21/100\n",
            "27204/27204 [==============================] - 4s 145us/step - loss: 0.6932 - acc: 0.5006 - f1_m: 0.0899 - precision_m: 0.0677 - recall_m: 0.1354 - val_loss: 0.6931 - val_acc: 0.5066 - val_f1_m: 0.6678 - val_precision_m: 0.5066 - val_recall_m: 1.0000\n",
            "11660/11660 [==============================] - 0s 40us/step\n",
            "acc: 50.66%\n"
          ],
          "name": "stdout"
        }
      ]
    },
    {
      "cell_type": "code",
      "metadata": {
        "id": "hVDkrCCwhuYG",
        "colab_type": "code",
        "colab": {}
      },
      "source": [
        "preds=model.predict(test_merge)"
      ],
      "execution_count": 0,
      "outputs": []
    },
    {
      "cell_type": "code",
      "metadata": {
        "id": "6Vc6sXVODftU",
        "colab_type": "code",
        "colab": {
          "base_uri": "https://localhost:8080/",
          "height": 140
        },
        "outputId": "25d71379-2320-4556-ce05-0f7c920cff51"
      },
      "source": [
        "preds"
      ],
      "execution_count": 30,
      "outputs": [
        {
          "output_type": "execute_result",
          "data": {
            "text/plain": [
              "array([[0.50056785],\n",
              "       [0.50056785],\n",
              "       [0.50056785],\n",
              "       ...,\n",
              "       [0.50056785],\n",
              "       [0.50056785],\n",
              "       [0.50056785]], dtype=float32)"
            ]
          },
          "metadata": {
            "tags": []
          },
          "execution_count": 30
        }
      ]
    },
    {
      "cell_type": "code",
      "metadata": {
        "id": "sMAbxzLy3vyV",
        "colab_type": "code",
        "colab": {}
      },
      "source": [
        "#test_merge.drop('winner',axis=1,inplace=True)"
      ],
      "execution_count": 0,
      "outputs": []
    },
    {
      "cell_type": "code",
      "metadata": {
        "id": "Qm9kHxW2h_PA",
        "colab_type": "code",
        "colab": {}
      },
      "source": [
        "test_merge['winner']=preds\n",
        "test_merge.loc[test_merge['winner']>=0.5,'winner']=1\n",
        "test_merge.loc[test_merge['winner']<0.5,'winner']=0"
      ],
      "execution_count": 0,
      "outputs": []
    },
    {
      "cell_type": "code",
      "metadata": {
        "id": "RtMc1oal1ilK",
        "colab_type": "code",
        "colab": {
          "base_uri": "https://localhost:8080/",
          "height": 34
        },
        "outputId": "14a5c1be-2b8d-482d-8f0a-bd659a8a7cac"
      },
      "source": [
        "preds.shape"
      ],
      "execution_count": 33,
      "outputs": [
        {
          "output_type": "execute_result",
          "data": {
            "text/plain": [
              "(16739, 1)"
            ]
          },
          "metadata": {
            "tags": []
          },
          "execution_count": 33
        }
      ]
    },
    {
      "cell_type": "code",
      "metadata": {
        "id": "qemwM9TPiLXM",
        "colab_type": "code",
        "colab": {
          "base_uri": "https://localhost:8080/",
          "height": 52
        },
        "outputId": "864c6711-9510-4c4a-e274-1899e3495294"
      },
      "source": [
        "#16787\n",
        "test_merge['winner'].value_counts()"
      ],
      "execution_count": 34,
      "outputs": [
        {
          "output_type": "execute_result",
          "data": {
            "text/plain": [
              "1.0    16739\n",
              "Name: winner, dtype: int64"
            ]
          },
          "metadata": {
            "tags": []
          },
          "execution_count": 34
        }
      ]
    },
    {
      "cell_type": "code",
      "metadata": {
        "id": "t4gX00WwjSer",
        "colab_type": "code",
        "colab": {}
      },
      "source": [
        "#test_merge['game_id']=ts_game_id\n",
        "#test_merge[['game_id','winner']].to_csv('/content/drive/My Drive/Colab Notebooks/data/데이콘/스타2/test_top_50.csv')"
      ],
      "execution_count": 0,
      "outputs": []
    }
  ]
}