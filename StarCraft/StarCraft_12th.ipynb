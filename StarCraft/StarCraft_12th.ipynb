{
  "nbformat": 4,
  "nbformat_minor": 0,
  "metadata": {
    "colab": {
      "name": "StarCraft_12th.ipynb",
      "provenance": [],
      "collapsed_sections": [
        "irrUSyVrRLDd"
      ],
      "machine_shape": "hm"
    },
    "kernelspec": {
      "name": "python3",
      "display_name": "Python 3"
    }
  },
  "cells": [
    {
      "cell_type": "code",
      "metadata": {
        "id": "2biKhABfQNKl",
        "colab_type": "code",
        "colab": {}
      },
      "source": [
        "import pandas as pd"
      ],
      "execution_count": 0,
      "outputs": []
    },
    {
      "cell_type": "code",
      "metadata": {
        "id": "p7eEjbxQN6wl",
        "colab_type": "code",
        "colab": {}
      },
      "source": [
        "train_data = pd.read_pickle('/content/drive/My Drive/Colab Notebooks/data/데이콘/스타2/train.pkl')\n",
        "test_data = pd.read_pickle('/content/drive/My Drive/Colab Notebooks/data/데이콘/스타2/test.pkl')"
      ],
      "execution_count": 0,
      "outputs": []
    },
    {
      "cell_type": "code",
      "metadata": {
        "id": "gzWtxyzfrY8p",
        "colab_type": "code",
        "colab": {}
      },
      "source": [
        "data = train_data\n",
        "#data = test_data"
      ],
      "execution_count": 0,
      "outputs": []
    },
    {
      "cell_type": "markdown",
      "metadata": {
        "id": "irrUSyVrRLDd",
        "colab_type": "text"
      },
      "source": [
        "# 미네랄 가스부스트 렐리포인트 파생변수 생성\n",
        "- 최종: tqp.csv"
      ]
    },
    {
      "cell_type": "code",
      "metadata": {
        "id": "5F7T4No7rmkl",
        "colab_type": "code",
        "colab": {}
      },
      "source": [
        "# player별 분리\n",
        "data_0=data[data['player'] == 0]\n",
        "data_1=data[data['player'] == 1]"
      ],
      "execution_count": 0,
      "outputs": []
    },
    {
      "cell_type": "code",
      "metadata": {
        "id": "qjrze8KgrQhY",
        "colab_type": "code",
        "colab": {}
      },
      "source": [
        "def word_count(df,word):\n",
        "  return (df['event_contents'].str.contains(word)==True).sum()"
      ],
      "execution_count": 0,
      "outputs": []
    },
    {
      "cell_type": "code",
      "metadata": {
        "id": "pRFJ-s-Grfs8",
        "colab_type": "code",
        "colab": {}
      },
      "source": [
        "word_1 = 'DestructibleSignsConstruction'\n",
        "word_2 = 'DestructibleSignsFunny'\n",
        "word_3 = 'None'\n",
        "\n",
        "t = data_0.groupby('game_id').apply(lambda x:word_count(x,word_1)).rename('count_{}'.format(word_1))\n",
        "p = data_0.groupby('game_id').apply(lambda x:word_count(x,word_2)).rename('count_{}'.format(word_2))\n",
        "q = data_0.groupby('game_id').apply(lambda x:word_count(x,word_3)).rename('count_{}'.format(word_3))"
      ],
      "execution_count": 0,
      "outputs": []
    },
    {
      "cell_type": "code",
      "metadata": {
        "id": "6ibgQNC1r2hA",
        "colab_type": "code",
        "colab": {}
      },
      "source": [
        "t=t.reset_index()\n",
        "p=p.reset_index()\n",
        "q=q.reset_index()"
      ],
      "execution_count": 0,
      "outputs": []
    },
    {
      "cell_type": "code",
      "metadata": {
        "id": "h05566Afr3E2",
        "colab_type": "code",
        "colab": {}
      },
      "source": [
        "tpq_0 = t.merge(p,on='game_id').merge(q,on='game_id')"
      ],
      "execution_count": 0,
      "outputs": []
    },
    {
      "cell_type": "code",
      "metadata": {
        "id": "Ft-FZMxgsmRX",
        "colab_type": "code",
        "outputId": "ae2affcb-4435-4803-f36d-3a30078371b6",
        "colab": {
          "base_uri": "https://localhost:8080/",
          "height": 201
        }
      },
      "source": [
        "tpq_0.head()"
      ],
      "execution_count": 0,
      "outputs": [
        {
          "output_type": "execute_result",
          "data": {
            "text/html": [
              "<div>\n",
              "<style scoped>\n",
              "    .dataframe tbody tr th:only-of-type {\n",
              "        vertical-align: middle;\n",
              "    }\n",
              "\n",
              "    .dataframe tbody tr th {\n",
              "        vertical-align: top;\n",
              "    }\n",
              "\n",
              "    .dataframe thead th {\n",
              "        text-align: right;\n",
              "    }\n",
              "</style>\n",
              "<table border=\"1\" class=\"dataframe\">\n",
              "  <thead>\n",
              "    <tr style=\"text-align: right;\">\n",
              "      <th></th>\n",
              "      <th>game_id</th>\n",
              "      <th>count_DestructibleSignsConstruction</th>\n",
              "      <th>count_DestructibleSignsFunny</th>\n",
              "      <th>count_None</th>\n",
              "    </tr>\n",
              "  </thead>\n",
              "  <tbody>\n",
              "    <tr>\n",
              "      <th>0</th>\n",
              "      <td>38872.0</td>\n",
              "      <td>15</td>\n",
              "      <td>6</td>\n",
              "      <td>21</td>\n",
              "    </tr>\n",
              "    <tr>\n",
              "      <th>1</th>\n",
              "      <td>38873.0</td>\n",
              "      <td>1</td>\n",
              "      <td>0</td>\n",
              "      <td>0</td>\n",
              "    </tr>\n",
              "    <tr>\n",
              "      <th>2</th>\n",
              "      <td>38874.0</td>\n",
              "      <td>4</td>\n",
              "      <td>2</td>\n",
              "      <td>6</td>\n",
              "    </tr>\n",
              "    <tr>\n",
              "      <th>3</th>\n",
              "      <td>38875.0</td>\n",
              "      <td>50</td>\n",
              "      <td>3</td>\n",
              "      <td>0</td>\n",
              "    </tr>\n",
              "    <tr>\n",
              "      <th>4</th>\n",
              "      <td>38876.0</td>\n",
              "      <td>2</td>\n",
              "      <td>2</td>\n",
              "      <td>0</td>\n",
              "    </tr>\n",
              "  </tbody>\n",
              "</table>\n",
              "</div>"
            ],
            "text/plain": [
              "   game_id  ...  count_None\n",
              "0  38872.0  ...          21\n",
              "1  38873.0  ...           0\n",
              "2  38874.0  ...           6\n",
              "3  38875.0  ...           0\n",
              "4  38876.0  ...           0\n",
              "\n",
              "[5 rows x 4 columns]"
            ]
          },
          "metadata": {
            "tags": []
          },
          "execution_count": 25
        }
      ]
    },
    {
      "cell_type": "code",
      "metadata": {
        "id": "HXMxge3gspX9",
        "colab_type": "code",
        "colab": {}
      },
      "source": [
        "tpq_0.to_csv('/content/drive/My Drive/Colab Notebooks/data/데이콘/스타2/tpq_test_0.csv')"
      ],
      "execution_count": 0,
      "outputs": []
    },
    {
      "cell_type": "markdown",
      "metadata": {
        "id": "nej-KRy3soGI",
        "colab_type": "text"
      },
      "source": [
        "---"
      ]
    },
    {
      "cell_type": "code",
      "metadata": {
        "id": "jXoZNfHeri-v",
        "colab_type": "code",
        "colab": {}
      },
      "source": [
        "# player 1도 똑같이 적용\n",
        "\n",
        "word_1 = 'DestructibleSignsConstruction'\n",
        "word_2 = 'DestructibleSignsFunny'\n",
        "word_3 = 'None'\n",
        "\n",
        "t = data_1.groupby('game_id').apply(lambda x:word_count(x,word_1)).rename('count_{}'.format(word_1))\n",
        "p = data_1.groupby('game_id').apply(lambda x:word_count(x,word_2)).rename('count_{}'.format(word_2))\n",
        "q = data_1.groupby('game_id').apply(lambda x:word_count(x,word_3)).rename('count_{}'.format(word_3))\n",
        "\n",
        "t=t.reset_index()\n",
        "p=p.reset_index()\n",
        "q=q.reset_index()\n",
        "\n",
        "tpq_1 = t.merge(p,on='game_id').merge(q,on='game_id')"
      ],
      "execution_count": 0,
      "outputs": []
    },
    {
      "cell_type": "code",
      "metadata": {
        "id": "sIu1i5eAsCXO",
        "colab_type": "code",
        "outputId": "576f7020-7f3b-445c-d56f-bba1131d9cb7",
        "colab": {
          "base_uri": "https://localhost:8080/",
          "height": 201
        }
      },
      "source": [
        "tpq_1.head()"
      ],
      "execution_count": 0,
      "outputs": [
        {
          "output_type": "execute_result",
          "data": {
            "text/html": [
              "<div>\n",
              "<style scoped>\n",
              "    .dataframe tbody tr th:only-of-type {\n",
              "        vertical-align: middle;\n",
              "    }\n",
              "\n",
              "    .dataframe tbody tr th {\n",
              "        vertical-align: top;\n",
              "    }\n",
              "\n",
              "    .dataframe thead th {\n",
              "        text-align: right;\n",
              "    }\n",
              "</style>\n",
              "<table border=\"1\" class=\"dataframe\">\n",
              "  <thead>\n",
              "    <tr style=\"text-align: right;\">\n",
              "      <th></th>\n",
              "      <th>game_id</th>\n",
              "      <th>count_DestructibleSignsConstruction</th>\n",
              "      <th>count_DestructibleSignsFunny</th>\n",
              "      <th>count_None</th>\n",
              "    </tr>\n",
              "  </thead>\n",
              "  <tbody>\n",
              "    <tr>\n",
              "      <th>0</th>\n",
              "      <td>38872.0</td>\n",
              "      <td>4</td>\n",
              "      <td>4</td>\n",
              "      <td>5</td>\n",
              "    </tr>\n",
              "    <tr>\n",
              "      <th>1</th>\n",
              "      <td>38873.0</td>\n",
              "      <td>13</td>\n",
              "      <td>0</td>\n",
              "      <td>2</td>\n",
              "    </tr>\n",
              "    <tr>\n",
              "      <th>2</th>\n",
              "      <td>38874.0</td>\n",
              "      <td>7</td>\n",
              "      <td>4</td>\n",
              "      <td>2</td>\n",
              "    </tr>\n",
              "    <tr>\n",
              "      <th>3</th>\n",
              "      <td>38875.0</td>\n",
              "      <td>53</td>\n",
              "      <td>3</td>\n",
              "      <td>8</td>\n",
              "    </tr>\n",
              "    <tr>\n",
              "      <th>4</th>\n",
              "      <td>38876.0</td>\n",
              "      <td>1</td>\n",
              "      <td>2</td>\n",
              "      <td>1</td>\n",
              "    </tr>\n",
              "  </tbody>\n",
              "</table>\n",
              "</div>"
            ],
            "text/plain": [
              "   game_id  ...  count_None\n",
              "0  38872.0  ...           5\n",
              "1  38873.0  ...           2\n",
              "2  38874.0  ...           2\n",
              "3  38875.0  ...           8\n",
              "4  38876.0  ...           1\n",
              "\n",
              "[5 rows x 4 columns]"
            ]
          },
          "metadata": {
            "tags": []
          },
          "execution_count": 28
        }
      ]
    },
    {
      "cell_type": "code",
      "metadata": {
        "id": "o3r0eOkMs10z",
        "colab_type": "code",
        "colab": {}
      },
      "source": [
        "tpq_1.to_csv('/content/drive/My Drive/Colab Notebooks/data/데이콘/스타2/tpq_test_1.csv')"
      ],
      "execution_count": 0,
      "outputs": []
    }
  ]
}