{
  "nbformat": 4,
  "nbformat_minor": 0,
  "metadata": {
    "colab": {
      "name": "StarCraft_1th.ipynb",
      "provenance": [],
      "machine_shape": "hm",
      "mount_file_id": "1mbNcBlDdXX2Wz-PVWwMfZK8ZPhY1nLGF",
      "authorship_tag": "ABX9TyOpkkGbWWrnPmRTtZWqrRQw"
    },
    "kernelspec": {
      "name": "python3",
      "display_name": "Python 3"
    },
    "accelerator": "GPU"
  },
  "cells": [
    {
      "cell_type": "code",
      "metadata": {
        "id": "s4A0bMBhcqmR",
        "colab_type": "code",
        "colab": {}
      },
      "source": [
        "import pandas as pd\n",
        "import numpy as np\n",
        "import matplotlib.pyplot as plt\n",
        "import seaborn as sns\n",
        "\n",
        "train = pd.read_csv('/content/drive/My Drive/Colab Notebooks/data/데이콘/스타2/train.csv')\n",
        "test = pd.read_csv('/content/drive/My Drive/Colab Notebooks/data/데이콘/스타2/test.csv')"
      ],
      "execution_count": 0,
      "outputs": []
    },
    {
      "cell_type": "code",
      "metadata": {
        "id": "nE_olbKdehcj",
        "colab_type": "code",
        "outputId": "69825257-049b-4145-9ff0-e2f4e56698c9",
        "colab": {
          "base_uri": "https://localhost:8080/",
          "height": 195
        }
      },
      "source": [
        "train.head()"
      ],
      "execution_count": 0,
      "outputs": [
        {
          "output_type": "execute_result",
          "data": {
            "text/html": [
              "<div>\n",
              "<style scoped>\n",
              "    .dataframe tbody tr th:only-of-type {\n",
              "        vertical-align: middle;\n",
              "    }\n",
              "\n",
              "    .dataframe tbody tr th {\n",
              "        vertical-align: top;\n",
              "    }\n",
              "\n",
              "    .dataframe thead th {\n",
              "        text-align: right;\n",
              "    }\n",
              "</style>\n",
              "<table border=\"1\" class=\"dataframe\">\n",
              "  <thead>\n",
              "    <tr style=\"text-align: right;\">\n",
              "      <th></th>\n",
              "      <th>game_id</th>\n",
              "      <th>winner</th>\n",
              "      <th>time</th>\n",
              "      <th>player</th>\n",
              "      <th>species</th>\n",
              "      <th>event</th>\n",
              "      <th>event_contents</th>\n",
              "    </tr>\n",
              "  </thead>\n",
              "  <tbody>\n",
              "    <tr>\n",
              "      <th>0</th>\n",
              "      <td>0</td>\n",
              "      <td>1</td>\n",
              "      <td>0.00</td>\n",
              "      <td>0</td>\n",
              "      <td>T</td>\n",
              "      <td>Camera</td>\n",
              "      <td>at (145.25, 21.5078125)</td>\n",
              "    </tr>\n",
              "    <tr>\n",
              "      <th>1</th>\n",
              "      <td>0</td>\n",
              "      <td>1</td>\n",
              "      <td>0.00</td>\n",
              "      <td>1</td>\n",
              "      <td>T</td>\n",
              "      <td>Camera</td>\n",
              "      <td>at (22.75, 147.0078125)</td>\n",
              "    </tr>\n",
              "    <tr>\n",
              "      <th>2</th>\n",
              "      <td>0</td>\n",
              "      <td>1</td>\n",
              "      <td>0.02</td>\n",
              "      <td>0</td>\n",
              "      <td>T</td>\n",
              "      <td>Selection</td>\n",
              "      <td>['OrbitalCommand [3080001]']</td>\n",
              "    </tr>\n",
              "    <tr>\n",
              "      <th>3</th>\n",
              "      <td>0</td>\n",
              "      <td>1</td>\n",
              "      <td>0.02</td>\n",
              "      <td>0</td>\n",
              "      <td>T</td>\n",
              "      <td>Ability</td>\n",
              "      <td>(1360) - TrainSCV</td>\n",
              "    </tr>\n",
              "    <tr>\n",
              "      <th>4</th>\n",
              "      <td>0</td>\n",
              "      <td>1</td>\n",
              "      <td>0.14</td>\n",
              "      <td>0</td>\n",
              "      <td>T</td>\n",
              "      <td>Camera</td>\n",
              "      <td>at (142.99609375, 24.50390625)</td>\n",
              "    </tr>\n",
              "  </tbody>\n",
              "</table>\n",
              "</div>"
            ],
            "text/plain": [
              "   game_id  winner  time  ...  species      event                  event_contents\n",
              "0        0       1  0.00  ...        T     Camera         at (145.25, 21.5078125)\n",
              "1        0       1  0.00  ...        T     Camera         at (22.75, 147.0078125)\n",
              "2        0       1  0.02  ...        T  Selection    ['OrbitalCommand [3080001]']\n",
              "3        0       1  0.02  ...        T    Ability               (1360) - TrainSCV\n",
              "4        0       1  0.14  ...        T     Camera  at (142.99609375, 24.50390625)\n",
              "\n",
              "[5 rows x 7 columns]"
            ]
          },
          "metadata": {
            "tags": []
          },
          "execution_count": 2
        }
      ]
    },
    {
      "cell_type": "code",
      "metadata": {
        "id": "xmyqDGIjfR3C",
        "colab_type": "code",
        "outputId": "b9cad8e0-b723-4e0a-ddec-0f17053709b5",
        "colab": {
          "base_uri": "https://localhost:8080/",
          "height": 195
        }
      },
      "source": [
        "test.head()"
      ],
      "execution_count": 0,
      "outputs": [
        {
          "output_type": "execute_result",
          "data": {
            "text/html": [
              "<div>\n",
              "<style scoped>\n",
              "    .dataframe tbody tr th:only-of-type {\n",
              "        vertical-align: middle;\n",
              "    }\n",
              "\n",
              "    .dataframe tbody tr th {\n",
              "        vertical-align: top;\n",
              "    }\n",
              "\n",
              "    .dataframe thead th {\n",
              "        text-align: right;\n",
              "    }\n",
              "</style>\n",
              "<table border=\"1\" class=\"dataframe\">\n",
              "  <thead>\n",
              "    <tr style=\"text-align: right;\">\n",
              "      <th></th>\n",
              "      <th>game_id</th>\n",
              "      <th>time</th>\n",
              "      <th>player</th>\n",
              "      <th>species</th>\n",
              "      <th>event</th>\n",
              "      <th>event_contents</th>\n",
              "    </tr>\n",
              "  </thead>\n",
              "  <tbody>\n",
              "    <tr>\n",
              "      <th>0</th>\n",
              "      <td>38872</td>\n",
              "      <td>0.00</td>\n",
              "      <td>0</td>\n",
              "      <td>P</td>\n",
              "      <td>Camera</td>\n",
              "      <td>at (22.25, 81.5078125)</td>\n",
              "    </tr>\n",
              "    <tr>\n",
              "      <th>1</th>\n",
              "      <td>38872</td>\n",
              "      <td>0.00</td>\n",
              "      <td>1</td>\n",
              "      <td>P</td>\n",
              "      <td>Camera</td>\n",
              "      <td>at (120.25, 153.83984375)</td>\n",
              "    </tr>\n",
              "    <tr>\n",
              "      <th>2</th>\n",
              "      <td>38872</td>\n",
              "      <td>0.01</td>\n",
              "      <td>1</td>\n",
              "      <td>P</td>\n",
              "      <td>Selection</td>\n",
              "      <td>['Nexus [3100001]']</td>\n",
              "    </tr>\n",
              "    <tr>\n",
              "      <th>3</th>\n",
              "      <td>38872</td>\n",
              "      <td>0.01</td>\n",
              "      <td>1</td>\n",
              "      <td>P</td>\n",
              "      <td>Ability</td>\n",
              "      <td>(15E0) - TrainProbe</td>\n",
              "    </tr>\n",
              "    <tr>\n",
              "      <th>4</th>\n",
              "      <td>38872</td>\n",
              "      <td>0.01</td>\n",
              "      <td>1</td>\n",
              "      <td>P</td>\n",
              "      <td>AddToControlGroup</td>\n",
              "      <td>NaN</td>\n",
              "    </tr>\n",
              "  </tbody>\n",
              "</table>\n",
              "</div>"
            ],
            "text/plain": [
              "   game_id  time  player species              event             event_contents\n",
              "0    38872  0.00       0       P             Camera     at (22.25, 81.5078125)\n",
              "1    38872  0.00       1       P             Camera  at (120.25, 153.83984375)\n",
              "2    38872  0.01       1       P          Selection        ['Nexus [3100001]']\n",
              "3    38872  0.01       1       P            Ability        (15E0) - TrainProbe\n",
              "4    38872  0.01       1       P  AddToControlGroup                        NaN"
            ]
          },
          "metadata": {
            "tags": []
          },
          "execution_count": 3
        }
      ]
    },
    {
      "cell_type": "markdown",
      "metadata": {
        "id": "Cn231x9Sfh5v",
        "colab_type": "text"
      },
      "source": [
        "# EDA"
      ]
    },
    {
      "cell_type": "markdown",
      "metadata": {
        "id": "cZDfVc5GtTh9",
        "colab_type": "text"
      },
      "source": [
        "## species"
      ]
    },
    {
      "cell_type": "code",
      "metadata": {
        "id": "mkk3dxzUtVpX",
        "colab_type": "code",
        "outputId": "37616f25-2d54-4b13-ca42-c96a7f445ee6",
        "colab": {
          "base_uri": "https://localhost:8080/",
          "height": 308
        }
      },
      "source": [
        "sns.countplot(train['species'])"
      ],
      "execution_count": 0,
      "outputs": [
        {
          "output_type": "execute_result",
          "data": {
            "text/plain": [
              "<matplotlib.axes._subplots.AxesSubplot at 0x7f1009ae3208>"
            ]
          },
          "metadata": {
            "tags": []
          },
          "execution_count": 4
        },
        {
          "output_type": "display_data",
          "data": {
            "image/png": "[encoded data removed]",
            "text/plain": [
              "<Figure size 432x288 with 1 Axes>"
            ]
          },
          "metadata": {
            "tags": []
          }
        }
      ]
    },
    {
      "cell_type": "markdown",
      "metadata": {
        "id": "HIq0VRtStOBD",
        "colab_type": "text"
      },
      "source": [
        "## time\n",
        "- ex) 2.24 : 2분 24초"
      ]
    },
    {
      "cell_type": "markdown",
      "metadata": {
        "id": "wfdu7o6koxp9",
        "colab_type": "text"
      },
      "source": [
        "각 게임의 play time 출력"
      ]
    },
    {
      "cell_type": "code",
      "metadata": {
        "id": "oSi1-7yeloPh",
        "colab_type": "code",
        "colab": {}
      },
      "source": [
        "# k=0\n",
        "# for id in train['game_id']:\n",
        "#   if id != train['game_id'][k+1]:\n",
        "#     print(train['time'][k])\n",
        "#   k+=1"
      ],
      "execution_count": 0,
      "outputs": []
    },
    {
      "cell_type": "markdown",
      "metadata": {
        "id": "pFDLPWCvsjFx",
        "colab_type": "text"
      },
      "source": [
        "## event"
      ]
    },
    {
      "cell_type": "markdown",
      "metadata": {
        "id": "rspGwUs6soRd",
        "colab_type": "text"
      },
      "source": [
        "행동 종류\n",
        "- Ability : 생산, 공격 등 선수의 주요 행동,  \n",
        "- AddToControlGroup : 부대에 추가 \n",
        "- Camera : 시점 선택  \n",
        "- ControlGroup : 부대 행동, \n",
        "- GetControlGroup : 부대 불러오기 \n",
        "- Right Click : 마우스 우클릭, \n",
        "- Selection : 객체 선택\n",
        "- SetControlGroup : 부대 지정"
      ]
    },
    {
      "cell_type": "code",
      "metadata": {
        "id": "NO2K55xk5t_h",
        "colab_type": "code",
        "colab": {}
      },
      "source": [
        "#train[train['event']=='Right Click']"
      ],
      "execution_count": 0,
      "outputs": []
    },
    {
      "cell_type": "markdown",
      "metadata": {
        "id": "75XLOG6T7Hg_",
        "colab_type": "text"
      },
      "source": [
        "'DestructibleSignsFunny' 이게 뭘까??"
      ]
    },
    {
      "cell_type": "markdown",
      "metadata": {
        "id": "dAOXj1luKwbS",
        "colab_type": "text"
      },
      "source": [
        ""
      ]
    },
    {
      "cell_type": "code",
      "metadata": {
        "id": "T776L5yBLPZK",
        "colab_type": "code",
        "colab": {}
      },
      "source": [
        "dummies = pd.get_dummies(train['event'], dtype='str')"
      ],
      "execution_count": 0,
      "outputs": []
    },
    {
      "cell_type": "code",
      "metadata": {
        "id": "sTYb-Lu3LPgi",
        "colab_type": "code",
        "colab": {}
      },
      "source": [
        "prac_dummies = pd.concat([train, dummies], axis=1)"
      ],
      "execution_count": 0,
      "outputs": []
    },
    {
      "cell_type": "code",
      "metadata": {
        "id": "RzxHTHNmK3ot",
        "colab_type": "code",
        "colab": {}
      },
      "source": [
        "Cam_split = prac_dummies['Camera'].str.split(\", \")\n",
        "Cam_split[\"Cam_X\"] = Cam_split.str.get(0).astype(np.float32)\n",
        "Cam_split[\"Cam_Y\"] = Cam_split.str.get(1).astype(np.float32)"
      ],
      "execution_count": 0,
      "outputs": []
    }
  ]
}