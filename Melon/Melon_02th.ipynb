{
  "nbformat": 4,
  "nbformat_minor": 0,
  "metadata": {
    "colab": {
      "name": "Melon_02th.ipynb",
      "provenance": [],
      "machine_shape": "hm"
    },
    "kernelspec": {
      "name": "python3",
      "display_name": "Python 3"
    }
  },
  "cells": [
    {
      "cell_type": "code",
      "metadata": {
        "id": "VYzaOfq4x3WA",
        "colab_type": "code",
        "outputId": "2172753c-cf2a-4d16-e894-a83b1343a798",
        "colab": {
          "base_uri": "https://localhost:8080/",
          "height": 52
        }
      },
      "source": [
        "import pandas as pd\n",
        "import seaborn as sns\n",
        "import numpy as np"
      ],
      "execution_count": 0,
      "outputs": [
        {
          "output_type": "stream",
          "text": [
            "/usr/local/lib/python3.6/dist-packages/statsmodels/tools/_testing.py:19: FutureWarning: pandas.util.testing is deprecated. Use the functions in the public API at pandas.testing instead.\n",
            "  import pandas.util.testing as tm\n"
          ],
          "name": "stderr"
        }
      ]
    },
    {
      "cell_type": "code",
      "metadata": {
        "id": "FjSKxE_yyF9s",
        "colab_type": "code",
        "outputId": "344d322c-d985-4260-cba6-ae1be9b5627d",
        "colab": {
          "base_uri": "https://localhost:8080/",
          "height": 210
        }
      },
      "source": [
        "import matplotlib as mpl\n",
        "import matplotlib.pyplot as plt\n",
        " \n",
        "%config InlineBackend.figure_format = 'retina'\n",
        " \n",
        "!apt -qq -y install fonts-nanum\n",
        " \n",
        "import matplotlib.font_manager as fm\n",
        "fontpath = '/usr/share/fonts/truetype/nanum/NanumBarunGothic.ttf'\n",
        "font = fm.FontProperties(fname=fontpath, size=9)\n",
        "plt.rc('font', family='NanumBarunGothic') \n",
        "mpl.font_manager._rebuild()"
      ],
      "execution_count": 0,
      "outputs": [
        {
          "output_type": "stream",
          "text": [
            "The following NEW packages will be installed:\n",
            "  fonts-nanum\n",
            "0 upgraded, 1 newly installed, 0 to remove and 29 not upgraded.\n",
            "Need to get 9,604 kB of archives.\n",
            "After this operation, 29.5 MB of additional disk space will be used.\n",
            "Selecting previously unselected package fonts-nanum.\n",
            "(Reading database ... 144429 files and directories currently installed.)\n",
            "Preparing to unpack .../fonts-nanum_20170925-1_all.deb ...\n",
            "Unpacking fonts-nanum (20170925-1) ...\n",
            "Setting up fonts-nanum (20170925-1) ...\n",
            "Processing triggers for fontconfig (2.12.6-0ubuntu2) ...\n"
          ],
          "name": "stdout"
        }
      ]
    },
    {
      "cell_type": "code",
      "metadata": {
        "id": "B5Sec6tiyGQy",
        "colab_type": "code",
        "outputId": "424478cb-170e-4409-a0b6-b2b3e8fbc9ad",
        "colab": {
          "base_uri": "https://localhost:8080/",
          "height": 759
        }
      },
      "source": [
        "plt.figure(figsize=(5,5))\n",
        "plt.plot([0,1], [0,1], label='한글테스트용')\n",
        "plt.legend()\n",
        "plt.show()"
      ],
      "execution_count": 0,
      "outputs": [
        {
          "output_type": "stream",
          "text": [
            "findfont: Font family ['NanumBarunGothic'] not found. Falling back to DejaVu Sans.\n",
            "/usr/local/lib/python3.6/dist-packages/matplotlib/backends/backend_agg.py:214: RuntimeWarning: Glyph 54620 missing from current font.\n",
            "  font.set_text(s, 0.0, flags=flags)\n",
            "/usr/local/lib/python3.6/dist-packages/matplotlib/backends/backend_agg.py:214: RuntimeWarning: Glyph 44544 missing from current font.\n",
            "  font.set_text(s, 0.0, flags=flags)\n",
            "/usr/local/lib/python3.6/dist-packages/matplotlib/backends/backend_agg.py:214: RuntimeWarning: Glyph 53580 missing from current font.\n",
            "  font.set_text(s, 0.0, flags=flags)\n",
            "/usr/local/lib/python3.6/dist-packages/matplotlib/backends/backend_agg.py:214: RuntimeWarning: Glyph 49828 missing from current font.\n",
            "  font.set_text(s, 0.0, flags=flags)\n",
            "/usr/local/lib/python3.6/dist-packages/matplotlib/backends/backend_agg.py:214: RuntimeWarning: Glyph 53944 missing from current font.\n",
            "  font.set_text(s, 0.0, flags=flags)\n",
            "/usr/local/lib/python3.6/dist-packages/matplotlib/backends/backend_agg.py:214: RuntimeWarning: Glyph 50857 missing from current font.\n",
            "  font.set_text(s, 0.0, flags=flags)\n",
            "/usr/local/lib/python3.6/dist-packages/matplotlib/backends/backend_agg.py:183: RuntimeWarning: Glyph 54620 missing from current font.\n",
            "  font.set_text(s, 0, flags=flags)\n",
            "/usr/local/lib/python3.6/dist-packages/matplotlib/backends/backend_agg.py:183: RuntimeWarning: Glyph 44544 missing from current font.\n",
            "  font.set_text(s, 0, flags=flags)\n",
            "/usr/local/lib/python3.6/dist-packages/matplotlib/backends/backend_agg.py:183: RuntimeWarning: Glyph 53580 missing from current font.\n",
            "  font.set_text(s, 0, flags=flags)\n",
            "/usr/local/lib/python3.6/dist-packages/matplotlib/backends/backend_agg.py:183: RuntimeWarning: Glyph 49828 missing from current font.\n",
            "  font.set_text(s, 0, flags=flags)\n",
            "/usr/local/lib/python3.6/dist-packages/matplotlib/backends/backend_agg.py:183: RuntimeWarning: Glyph 53944 missing from current font.\n",
            "  font.set_text(s, 0, flags=flags)\n",
            "/usr/local/lib/python3.6/dist-packages/matplotlib/backends/backend_agg.py:183: RuntimeWarning: Glyph 50857 missing from current font.\n",
            "  font.set_text(s, 0, flags=flags)\n"
          ],
          "name": "stderr"
        },
        {
          "output_type": "display_data",
          "data": {
            "image/png": "[encoded data removed]",
            "text/plain": [
              "<Figure size 360x360 with 1 Axes>"
            ]
          },
          "metadata": {
            "tags": [],
            "image/png": {
              "width": 316,
              "height": 302
            },
            "needs_background": "light"
          }
        }
      ]
    },
    {
      "cell_type": "code",
      "metadata": {
        "id": "0XsjOrdZyQuZ",
        "colab_type": "code",
        "colab": {}
      },
      "source": [
        "train = pd.read_json('/content/drive/My Drive/Colab Notebooks/data/멜론/train.json', typ = 'frame')\n",
        "val = pd.read_json('/content/drive/My Drive/Colab Notebooks/data/멜론/val.json', typ = 'frame')\n",
        "test = pd.read_json('/content/drive/My Drive/Colab Notebooks/data/멜론/test.json', typ = 'frame')\n",
        "song_meta = pd.read_json('/content/drive/My Drive/Colab Notebooks/data/멜론/song_meta.json', typ = 'frame')\n",
        "genre_gn_all = pd.read_json('/content/drive/My Drive/Colab Notebooks/data/멜론/genre_gn_all.json', typ = 'series')"
      ],
      "execution_count": 0,
      "outputs": []
    },
    {
      "cell_type": "code",
      "metadata": {
        "id": "3eF6nteR4uRS",
        "colab_type": "code",
        "colab": {}
      },
      "source": [
        "for data in [train,val,test]:\n",
        "  data['년도'] = data['updt_date'].apply(lambda x: x[:4])  \n",
        "  data['월'] = data['updt_date'].apply(lambda x: x[5:7])\n",
        "  data['시간대'] = data['updt_date'].apply(lambda x:x[11:13])"
      ],
      "execution_count": 0,
      "outputs": []
    },
    {
      "cell_type": "markdown",
      "metadata": {
        "id": "iiw_qpeh_ug7",
        "colab_type": "text"
      },
      "source": [
        "# 1. 곡 장르 분류 데이터"
      ]
    },
    {
      "cell_type": "code",
      "metadata": {
        "id": "1sEsLiBn_wJM",
        "colab_type": "code",
        "colab": {}
      },
      "source": [
        "# 장르코드 : gnr_code, 장르명 : gnr_name\n",
        "genre_gn_all = pd.DataFrame(genre_gn_all, columns = ['gnr_name']).reset_index().rename(columns = {'index' : 'gnr_code'})"
      ],
      "execution_count": 0,
      "outputs": []
    },
    {
      "cell_type": "code",
      "metadata": {
        "id": "nYsd-slX_0JI",
        "colab_type": "code",
        "outputId": "8793ced7-5ccc-425d-f59e-b9ecacdd6eb4",
        "colab": {
          "base_uri": "https://localhost:8080/",
          "height": 419
        }
      },
      "source": [
        "genre_gn_all"
      ],
      "execution_count": 0,
      "outputs": [
        {
          "output_type": "execute_result",
          "data": {
            "text/html": [
              "<div>\n",
              "<style scoped>\n",
              "    .dataframe tbody tr th:only-of-type {\n",
              "        vertical-align: middle;\n",
              "    }\n",
              "\n",
              "    .dataframe tbody tr th {\n",
              "        vertical-align: top;\n",
              "    }\n",
              "\n",
              "    .dataframe thead th {\n",
              "        text-align: right;\n",
              "    }\n",
              "</style>\n",
              "<table border=\"1\" class=\"dataframe\">\n",
              "  <thead>\n",
              "    <tr style=\"text-align: right;\">\n",
              "      <th></th>\n",
              "      <th>gnr_code</th>\n",
              "      <th>gnr_name</th>\n",
              "    </tr>\n",
              "  </thead>\n",
              "  <tbody>\n",
              "    <tr>\n",
              "      <th>0</th>\n",
              "      <td>GN0100</td>\n",
              "      <td>발라드</td>\n",
              "    </tr>\n",
              "    <tr>\n",
              "      <th>1</th>\n",
              "      <td>GN0101</td>\n",
              "      <td>세부장르전체</td>\n",
              "    </tr>\n",
              "    <tr>\n",
              "      <th>2</th>\n",
              "      <td>GN0102</td>\n",
              "      <td>'80</td>\n",
              "    </tr>\n",
              "    <tr>\n",
              "      <th>3</th>\n",
              "      <td>GN0103</td>\n",
              "      <td>'90</td>\n",
              "    </tr>\n",
              "    <tr>\n",
              "      <th>4</th>\n",
              "      <td>GN0104</td>\n",
              "      <td>'00</td>\n",
              "    </tr>\n",
              "    <tr>\n",
              "      <th>...</th>\n",
              "      <td>...</td>\n",
              "      <td>...</td>\n",
              "    </tr>\n",
              "    <tr>\n",
              "      <th>249</th>\n",
              "      <td>GN2900</td>\n",
              "      <td>뮤지컬</td>\n",
              "    </tr>\n",
              "    <tr>\n",
              "      <th>250</th>\n",
              "      <td>GN2901</td>\n",
              "      <td>세부장르전체</td>\n",
              "    </tr>\n",
              "    <tr>\n",
              "      <th>251</th>\n",
              "      <td>GN2902</td>\n",
              "      <td>국내뮤지컬</td>\n",
              "    </tr>\n",
              "    <tr>\n",
              "      <th>252</th>\n",
              "      <td>GN2903</td>\n",
              "      <td>국외뮤지컬</td>\n",
              "    </tr>\n",
              "    <tr>\n",
              "      <th>253</th>\n",
              "      <td>GN3000</td>\n",
              "      <td>크리스마스</td>\n",
              "    </tr>\n",
              "  </tbody>\n",
              "</table>\n",
              "<p>254 rows × 2 columns</p>\n",
              "</div>"
            ],
            "text/plain": [
              "    gnr_code gnr_name\n",
              "0     GN0100      발라드\n",
              "1     GN0101   세부장르전체\n",
              "2     GN0102      '80\n",
              "3     GN0103      '90\n",
              "4     GN0104      '00\n",
              "..       ...      ...\n",
              "249   GN2900      뮤지컬\n",
              "250   GN2901   세부장르전체\n",
              "251   GN2902    국내뮤지컬\n",
              "252   GN2903    국외뮤지컬\n",
              "253   GN3000    크리스마스\n",
              "\n",
              "[254 rows x 2 columns]"
            ]
          },
          "metadata": {
            "tags": []
          },
          "execution_count": 7
        }
      ]
    },
    {
      "cell_type": "markdown",
      "metadata": {
        "id": "GEJMoEUq_1Ss",
        "colab_type": "text"
      },
      "source": [
        "# 2. 대분류 코드"
      ]
    },
    {
      "cell_type": "code",
      "metadata": {
        "id": "cE8OZkW7_3vU",
        "colab_type": "code",
        "outputId": "586b3672-3ee1-4ea8-bda9-21091cd89d2c",
        "colab": {
          "base_uri": "https://localhost:8080/",
          "height": 165
        }
      },
      "source": [
        "gnr_code = genre_gn_all[genre_gn_all['gnr_code'].str[-2:]=='00']\n",
        "gnr_code.T"
      ],
      "execution_count": 0,
      "outputs": [
        {
          "output_type": "execute_result",
          "data": {
            "text/html": [
              "<div>\n",
              "<style scoped>\n",
              "    .dataframe tbody tr th:only-of-type {\n",
              "        vertical-align: middle;\n",
              "    }\n",
              "\n",
              "    .dataframe tbody tr th {\n",
              "        vertical-align: top;\n",
              "    }\n",
              "\n",
              "    .dataframe thead th {\n",
              "        text-align: right;\n",
              "    }\n",
              "</style>\n",
              "<table border=\"1\" class=\"dataframe\">\n",
              "  <thead>\n",
              "    <tr style=\"text-align: right;\">\n",
              "      <th></th>\n",
              "      <th>0</th>\n",
              "      <th>6</th>\n",
              "      <th>12</th>\n",
              "      <th>18</th>\n",
              "      <th>22</th>\n",
              "      <th>32</th>\n",
              "      <th>39</th>\n",
              "      <th>50</th>\n",
              "      <th>56</th>\n",
              "      <th>65</th>\n",
              "      <th>80</th>\n",
              "      <th>90</th>\n",
              "      <th>100</th>\n",
              "      <th>109</th>\n",
              "      <th>117</th>\n",
              "      <th>128</th>\n",
              "      <th>144</th>\n",
              "      <th>155</th>\n",
              "      <th>163</th>\n",
              "      <th>176</th>\n",
              "      <th>187</th>\n",
              "      <th>198</th>\n",
              "      <th>215</th>\n",
              "      <th>218</th>\n",
              "      <th>225</th>\n",
              "      <th>232</th>\n",
              "      <th>237</th>\n",
              "      <th>242</th>\n",
              "      <th>249</th>\n",
              "      <th>253</th>\n",
              "    </tr>\n",
              "  </thead>\n",
              "  <tbody>\n",
              "    <tr>\n",
              "      <th>gnr_code</th>\n",
              "      <td>GN0100</td>\n",
              "      <td>GN0200</td>\n",
              "      <td>GN0300</td>\n",
              "      <td>GN0400</td>\n",
              "      <td>GN0500</td>\n",
              "      <td>GN0600</td>\n",
              "      <td>GN0700</td>\n",
              "      <td>GN0800</td>\n",
              "      <td>GN0900</td>\n",
              "      <td>GN1000</td>\n",
              "      <td>GN1100</td>\n",
              "      <td>GN1200</td>\n",
              "      <td>GN1300</td>\n",
              "      <td>GN1400</td>\n",
              "      <td>GN1500</td>\n",
              "      <td>GN1600</td>\n",
              "      <td>GN1700</td>\n",
              "      <td>GN1800</td>\n",
              "      <td>GN1900</td>\n",
              "      <td>GN2000</td>\n",
              "      <td>GN2100</td>\n",
              "      <td>GN2200</td>\n",
              "      <td>GN2300</td>\n",
              "      <td>GN2400</td>\n",
              "      <td>GN2500</td>\n",
              "      <td>GN2600</td>\n",
              "      <td>GN2700</td>\n",
              "      <td>GN2800</td>\n",
              "      <td>GN2900</td>\n",
              "      <td>GN3000</td>\n",
              "    </tr>\n",
              "    <tr>\n",
              "      <th>gnr_name</th>\n",
              "      <td>발라드</td>\n",
              "      <td>댄스</td>\n",
              "      <td>랩/힙합</td>\n",
              "      <td>R&amp;B/Soul</td>\n",
              "      <td>인디음악</td>\n",
              "      <td>록/메탈</td>\n",
              "      <td>성인가요</td>\n",
              "      <td>포크/블루스</td>\n",
              "      <td>POP</td>\n",
              "      <td>록/메탈</td>\n",
              "      <td>일렉트로니카</td>\n",
              "      <td>랩/힙합</td>\n",
              "      <td>R&amp;B/Soul</td>\n",
              "      <td>포크/블루스/컨트리</td>\n",
              "      <td>OST</td>\n",
              "      <td>클래식</td>\n",
              "      <td>재즈</td>\n",
              "      <td>뉴에이지</td>\n",
              "      <td>J-POP</td>\n",
              "      <td>월드뮤직</td>\n",
              "      <td>CCM</td>\n",
              "      <td>어린이/태교</td>\n",
              "      <td>종교음악</td>\n",
              "      <td>국악</td>\n",
              "      <td>아이돌</td>\n",
              "      <td>일렉트로니카</td>\n",
              "      <td>EDM</td>\n",
              "      <td>뮤직테라피</td>\n",
              "      <td>뮤지컬</td>\n",
              "      <td>크리스마스</td>\n",
              "    </tr>\n",
              "  </tbody>\n",
              "</table>\n",
              "</div>"
            ],
            "text/plain": [
              "             0       6       12        18   ...     237     242     249     253\n",
              "gnr_code  GN0100  GN0200  GN0300    GN0400  ...  GN2700  GN2800  GN2900  GN3000\n",
              "gnr_name     발라드      댄스    랩/힙합  R&B/Soul  ...     EDM   뮤직테라피     뮤지컬   크리스마스\n",
              "\n",
              "[2 rows x 30 columns]"
            ]
          },
          "metadata": {
            "tags": []
          },
          "execution_count": 8
        }
      ]
    },
    {
      "cell_type": "code",
      "metadata": {
        "id": "0PBIkzOrDBO4",
        "colab_type": "code",
        "outputId": "5dc09e7c-6c2d-417d-a9fa-274daed184a3",
        "colab": {
          "base_uri": "https://localhost:8080/",
          "height": 979
        }
      },
      "source": [
        "gnr_code"
      ],
      "execution_count": 0,
      "outputs": [
        {
          "output_type": "execute_result",
          "data": {
            "text/html": [
              "<div>\n",
              "<style scoped>\n",
              "    .dataframe tbody tr th:only-of-type {\n",
              "        vertical-align: middle;\n",
              "    }\n",
              "\n",
              "    .dataframe tbody tr th {\n",
              "        vertical-align: top;\n",
              "    }\n",
              "\n",
              "    .dataframe thead th {\n",
              "        text-align: right;\n",
              "    }\n",
              "</style>\n",
              "<table border=\"1\" class=\"dataframe\">\n",
              "  <thead>\n",
              "    <tr style=\"text-align: right;\">\n",
              "      <th></th>\n",
              "      <th>gnr_code</th>\n",
              "      <th>gnr_name</th>\n",
              "    </tr>\n",
              "  </thead>\n",
              "  <tbody>\n",
              "    <tr>\n",
              "      <th>0</th>\n",
              "      <td>GN0100</td>\n",
              "      <td>발라드</td>\n",
              "    </tr>\n",
              "    <tr>\n",
              "      <th>6</th>\n",
              "      <td>GN0200</td>\n",
              "      <td>댄스</td>\n",
              "    </tr>\n",
              "    <tr>\n",
              "      <th>12</th>\n",
              "      <td>GN0300</td>\n",
              "      <td>랩/힙합</td>\n",
              "    </tr>\n",
              "    <tr>\n",
              "      <th>18</th>\n",
              "      <td>GN0400</td>\n",
              "      <td>R&amp;B/Soul</td>\n",
              "    </tr>\n",
              "    <tr>\n",
              "      <th>22</th>\n",
              "      <td>GN0500</td>\n",
              "      <td>인디음악</td>\n",
              "    </tr>\n",
              "    <tr>\n",
              "      <th>32</th>\n",
              "      <td>GN0600</td>\n",
              "      <td>록/메탈</td>\n",
              "    </tr>\n",
              "    <tr>\n",
              "      <th>39</th>\n",
              "      <td>GN0700</td>\n",
              "      <td>성인가요</td>\n",
              "    </tr>\n",
              "    <tr>\n",
              "      <th>50</th>\n",
              "      <td>GN0800</td>\n",
              "      <td>포크/블루스</td>\n",
              "    </tr>\n",
              "    <tr>\n",
              "      <th>56</th>\n",
              "      <td>GN0900</td>\n",
              "      <td>POP</td>\n",
              "    </tr>\n",
              "    <tr>\n",
              "      <th>65</th>\n",
              "      <td>GN1000</td>\n",
              "      <td>록/메탈</td>\n",
              "    </tr>\n",
              "    <tr>\n",
              "      <th>80</th>\n",
              "      <td>GN1100</td>\n",
              "      <td>일렉트로니카</td>\n",
              "    </tr>\n",
              "    <tr>\n",
              "      <th>90</th>\n",
              "      <td>GN1200</td>\n",
              "      <td>랩/힙합</td>\n",
              "    </tr>\n",
              "    <tr>\n",
              "      <th>100</th>\n",
              "      <td>GN1300</td>\n",
              "      <td>R&amp;B/Soul</td>\n",
              "    </tr>\n",
              "    <tr>\n",
              "      <th>109</th>\n",
              "      <td>GN1400</td>\n",
              "      <td>포크/블루스/컨트리</td>\n",
              "    </tr>\n",
              "    <tr>\n",
              "      <th>117</th>\n",
              "      <td>GN1500</td>\n",
              "      <td>OST</td>\n",
              "    </tr>\n",
              "    <tr>\n",
              "      <th>128</th>\n",
              "      <td>GN1600</td>\n",
              "      <td>클래식</td>\n",
              "    </tr>\n",
              "    <tr>\n",
              "      <th>144</th>\n",
              "      <td>GN1700</td>\n",
              "      <td>재즈</td>\n",
              "    </tr>\n",
              "    <tr>\n",
              "      <th>155</th>\n",
              "      <td>GN1800</td>\n",
              "      <td>뉴에이지</td>\n",
              "    </tr>\n",
              "    <tr>\n",
              "      <th>163</th>\n",
              "      <td>GN1900</td>\n",
              "      <td>J-POP</td>\n",
              "    </tr>\n",
              "    <tr>\n",
              "      <th>176</th>\n",
              "      <td>GN2000</td>\n",
              "      <td>월드뮤직</td>\n",
              "    </tr>\n",
              "    <tr>\n",
              "      <th>187</th>\n",
              "      <td>GN2100</td>\n",
              "      <td>CCM</td>\n",
              "    </tr>\n",
              "    <tr>\n",
              "      <th>198</th>\n",
              "      <td>GN2200</td>\n",
              "      <td>어린이/태교</td>\n",
              "    </tr>\n",
              "    <tr>\n",
              "      <th>215</th>\n",
              "      <td>GN2300</td>\n",
              "      <td>종교음악</td>\n",
              "    </tr>\n",
              "    <tr>\n",
              "      <th>218</th>\n",
              "      <td>GN2400</td>\n",
              "      <td>국악</td>\n",
              "    </tr>\n",
              "    <tr>\n",
              "      <th>225</th>\n",
              "      <td>GN2500</td>\n",
              "      <td>아이돌</td>\n",
              "    </tr>\n",
              "    <tr>\n",
              "      <th>232</th>\n",
              "      <td>GN2600</td>\n",
              "      <td>일렉트로니카</td>\n",
              "    </tr>\n",
              "    <tr>\n",
              "      <th>237</th>\n",
              "      <td>GN2700</td>\n",
              "      <td>EDM</td>\n",
              "    </tr>\n",
              "    <tr>\n",
              "      <th>242</th>\n",
              "      <td>GN2800</td>\n",
              "      <td>뮤직테라피</td>\n",
              "    </tr>\n",
              "    <tr>\n",
              "      <th>249</th>\n",
              "      <td>GN2900</td>\n",
              "      <td>뮤지컬</td>\n",
              "    </tr>\n",
              "    <tr>\n",
              "      <th>253</th>\n",
              "      <td>GN3000</td>\n",
              "      <td>크리스마스</td>\n",
              "    </tr>\n",
              "  </tbody>\n",
              "</table>\n",
              "</div>"
            ],
            "text/plain": [
              "    gnr_code    gnr_name\n",
              "0     GN0100         발라드\n",
              "6     GN0200          댄스\n",
              "12    GN0300        랩/힙합\n",
              "18    GN0400    R&B/Soul\n",
              "22    GN0500        인디음악\n",
              "32    GN0600        록/메탈\n",
              "39    GN0700        성인가요\n",
              "50    GN0800      포크/블루스\n",
              "56    GN0900         POP\n",
              "65    GN1000        록/메탈\n",
              "80    GN1100      일렉트로니카\n",
              "90    GN1200        랩/힙합\n",
              "100   GN1300    R&B/Soul\n",
              "109   GN1400  포크/블루스/컨트리\n",
              "117   GN1500         OST\n",
              "128   GN1600         클래식\n",
              "144   GN1700          재즈\n",
              "155   GN1800        뉴에이지\n",
              "163   GN1900       J-POP\n",
              "176   GN2000        월드뮤직\n",
              "187   GN2100         CCM\n",
              "198   GN2200      어린이/태교\n",
              "215   GN2300        종교음악\n",
              "218   GN2400          국악\n",
              "225   GN2500         아이돌\n",
              "232   GN2600      일렉트로니카\n",
              "237   GN2700         EDM\n",
              "242   GN2800       뮤직테라피\n",
              "249   GN2900         뮤지컬\n",
              "253   GN3000       크리스마스"
            ]
          },
          "metadata": {
            "tags": []
          },
          "execution_count": 9
        }
      ]
    },
    {
      "cell_type": "code",
      "metadata": {
        "id": "uFea7foOAZxp",
        "colab_type": "code",
        "colab": {}
      },
      "source": [
        "gnr_code_large = {code: num for num, code in enumerate(gnr_code['gnr_code'])}\n",
        "gnr_code_large['GN9000'] = 30"
      ],
      "execution_count": 0,
      "outputs": []
    },
    {
      "cell_type": "markdown",
      "metadata": {
        "id": "Lf2qhguZEAsd",
        "colab_type": "text"
      },
      "source": [
        "# 3. 상세분류 코드"
      ]
    },
    {
      "cell_type": "code",
      "metadata": {
        "id": "mDhP6w3lEIcD",
        "colab_type": "code",
        "outputId": "8af9e3bc-1610-4139-99cd-43d631bf1996",
        "colab": {
          "base_uri": "https://localhost:8080/",
          "height": 107
        }
      },
      "source": [
        "dtl_gnr_code = genre_gn_all[genre_gn_all['gnr_code'].str[-2:] !='00']\n",
        "dtl_gnr_code.rename(columns={i:f\"dtl_{i}\" for i in dtl_gnr_code.columns},inplace=True)"
      ],
      "execution_count": 0,
      "outputs": [
        {
          "output_type": "stream",
          "text": [
            "/usr/local/lib/python3.6/dist-packages/pandas/core/frame.py:4133: SettingWithCopyWarning: \n",
            "A value is trying to be set on a copy of a slice from a DataFrame\n",
            "\n",
            "See the caveats in the documentation: https://pandas.pydata.org/pandas-docs/stable/user_guide/indexing.html#returning-a-view-versus-a-copy\n",
            "  errors=errors,\n"
          ],
          "name": "stderr"
        }
      ]
    },
    {
      "cell_type": "code",
      "metadata": {
        "id": "F3-zdPOGE48k",
        "colab_type": "code",
        "outputId": "8a8977c8-9c6d-4c2d-bfea-2fd48fb7fe3f",
        "colab": {
          "base_uri": "https://localhost:8080/",
          "height": 419
        }
      },
      "source": [
        "dtl_gnr_code"
      ],
      "execution_count": 0,
      "outputs": [
        {
          "output_type": "execute_result",
          "data": {
            "text/html": [
              "<div>\n",
              "<style scoped>\n",
              "    .dataframe tbody tr th:only-of-type {\n",
              "        vertical-align: middle;\n",
              "    }\n",
              "\n",
              "    .dataframe tbody tr th {\n",
              "        vertical-align: top;\n",
              "    }\n",
              "\n",
              "    .dataframe thead th {\n",
              "        text-align: right;\n",
              "    }\n",
              "</style>\n",
              "<table border=\"1\" class=\"dataframe\">\n",
              "  <thead>\n",
              "    <tr style=\"text-align: right;\">\n",
              "      <th></th>\n",
              "      <th>dtl_gnr_code</th>\n",
              "      <th>dtl_gnr_name</th>\n",
              "    </tr>\n",
              "  </thead>\n",
              "  <tbody>\n",
              "    <tr>\n",
              "      <th>1</th>\n",
              "      <td>GN0101</td>\n",
              "      <td>세부장르전체</td>\n",
              "    </tr>\n",
              "    <tr>\n",
              "      <th>2</th>\n",
              "      <td>GN0102</td>\n",
              "      <td>'80</td>\n",
              "    </tr>\n",
              "    <tr>\n",
              "      <th>3</th>\n",
              "      <td>GN0103</td>\n",
              "      <td>'90</td>\n",
              "    </tr>\n",
              "    <tr>\n",
              "      <th>4</th>\n",
              "      <td>GN0104</td>\n",
              "      <td>'00</td>\n",
              "    </tr>\n",
              "    <tr>\n",
              "      <th>5</th>\n",
              "      <td>GN0105</td>\n",
              "      <td>'10-</td>\n",
              "    </tr>\n",
              "    <tr>\n",
              "      <th>...</th>\n",
              "      <td>...</td>\n",
              "      <td>...</td>\n",
              "    </tr>\n",
              "    <tr>\n",
              "      <th>247</th>\n",
              "      <td>GN2805</td>\n",
              "      <td>숙면유도</td>\n",
              "    </tr>\n",
              "    <tr>\n",
              "      <th>248</th>\n",
              "      <td>GN2806</td>\n",
              "      <td>반려동물</td>\n",
              "    </tr>\n",
              "    <tr>\n",
              "      <th>250</th>\n",
              "      <td>GN2901</td>\n",
              "      <td>세부장르전체</td>\n",
              "    </tr>\n",
              "    <tr>\n",
              "      <th>251</th>\n",
              "      <td>GN2902</td>\n",
              "      <td>국내뮤지컬</td>\n",
              "    </tr>\n",
              "    <tr>\n",
              "      <th>252</th>\n",
              "      <td>GN2903</td>\n",
              "      <td>국외뮤지컬</td>\n",
              "    </tr>\n",
              "  </tbody>\n",
              "</table>\n",
              "<p>224 rows × 2 columns</p>\n",
              "</div>"
            ],
            "text/plain": [
              "    dtl_gnr_code dtl_gnr_name\n",
              "1         GN0101       세부장르전체\n",
              "2         GN0102          '80\n",
              "3         GN0103          '90\n",
              "4         GN0104          '00\n",
              "5         GN0105         '10-\n",
              "..           ...          ...\n",
              "247       GN2805         숙면유도\n",
              "248       GN2806         반려동물\n",
              "250       GN2901       세부장르전체\n",
              "251       GN2902        국내뮤지컬\n",
              "252       GN2903        국외뮤지컬\n",
              "\n",
              "[224 rows x 2 columns]"
            ]
          },
          "metadata": {
            "tags": []
          },
          "execution_count": 12
        }
      ]
    },
    {
      "cell_type": "markdown",
      "metadata": {
        "id": "xVCHElUIGjLq",
        "colab_type": "text"
      },
      "source": [
        "# 세부 장르 벡터 생성"
      ]
    },
    {
      "cell_type": "code",
      "metadata": {
        "id": "DUgzJk-jF96e",
        "colab_type": "code",
        "outputId": "1dfdd8a1-14db-4e7c-cc83-9e72f84c6633",
        "colab": {
          "base_uri": "https://localhost:8080/",
          "height": 107
        }
      },
      "source": [
        "#1. 곡 별 dtl_grn_code map을 만든다.\n",
        "song_gnr_map = song_meta.loc[:, ['id', 'song_gn_dtl_gnr_basket']]\n",
        "\n",
        "# unnest song_gn_gnr_basket\n",
        "song_gnr_map_unnest = np.dstack(\n",
        "    (\n",
        "        #numpy.repeat(a, repeats) : a를 repeats 만큼 반복한다. -> 장르가 여러개 있는 데이터의 경우, id가 반복되서 생성된다.\n",
        "        np.repeat(song_gnr_map.id.values, list(map(len, song_gnr_map.song_gn_dtl_gnr_basket))), \n",
        "        np.concatenate(song_gnr_map.song_gn_dtl_gnr_basket.values)\n",
        "    )\n",
        ")\n",
        "\n",
        "# unnested 데이터프레임 생성 : song_gnr_map\n",
        "song_gnr_map = pd.DataFrame(data = song_gnr_map_unnest[0], columns = song_gnr_map.columns)\n",
        "song_gnr_map['id'] = song_gnr_map['id'].astype(str)\n",
        "song_gnr_map.rename(columns = {'id' : 'song_id', 'song_gn_gnr_basket' : 'gnr_code'}, inplace = True)\n",
        "\n",
        "# unnest 객체 제거\n",
        "del song_gnr_map_unnest\n",
        "\n",
        "dtl_gnr_code_dict = {code: num for num, code in enumerate(dtl_gnr_code['dtl_gnr_code'].values)}\n",
        "dtl_gnr_code['dtl_gnr_num'] = dtl_gnr_code['dtl_gnr_code'].map(dtl_gnr_code_dict)\n",
        "song_gnr_map['song_id'] = song_gnr_map['song_id'].astype(int) #type 변경\n",
        "song_gnr_map['gnr_num'] = song_gnr_map['song_gn_dtl_gnr_basket'].map(dtl_gnr_code_dict) "
      ],
      "execution_count": 0,
      "outputs": [
        {
          "output_type": "stream",
          "text": [
            "/usr/local/lib/python3.6/dist-packages/ipykernel_launcher.py:22: SettingWithCopyWarning: \n",
            "A value is trying to be set on a copy of a slice from a DataFrame.\n",
            "Try using .loc[row_indexer,col_indexer] = value instead\n",
            "\n",
            "See the caveats in the documentation: https://pandas.pydata.org/pandas-docs/stable/user_guide/indexing.html#returning-a-view-versus-a-copy\n"
          ],
          "name": "stderr"
        }
      ]
    },
    {
      "cell_type": "code",
      "metadata": {
        "id": "fmpYQpixv1fP",
        "colab_type": "code",
        "outputId": "9c6065e0-a616-44b9-e1c3-ae5669400631",
        "colab": {
          "base_uri": "https://localhost:8080/",
          "height": 419
        }
      },
      "source": [
        "song_gnr_map"
      ],
      "execution_count": 0,
      "outputs": [
        {
          "output_type": "execute_result",
          "data": {
            "text/html": [
              "<div>\n",
              "<style scoped>\n",
              "    .dataframe tbody tr th:only-of-type {\n",
              "        vertical-align: middle;\n",
              "    }\n",
              "\n",
              "    .dataframe tbody tr th {\n",
              "        vertical-align: top;\n",
              "    }\n",
              "\n",
              "    .dataframe thead th {\n",
              "        text-align: right;\n",
              "    }\n",
              "</style>\n",
              "<table border=\"1\" class=\"dataframe\">\n",
              "  <thead>\n",
              "    <tr style=\"text-align: right;\">\n",
              "      <th></th>\n",
              "      <th>song_id</th>\n",
              "      <th>song_gn_dtl_gnr_basket</th>\n",
              "      <th>gnr_num</th>\n",
              "    </tr>\n",
              "  </thead>\n",
              "  <tbody>\n",
              "    <tr>\n",
              "      <th>0</th>\n",
              "      <td>0</td>\n",
              "      <td>GN0901</td>\n",
              "      <td>48</td>\n",
              "    </tr>\n",
              "    <tr>\n",
              "      <th>1</th>\n",
              "      <td>1</td>\n",
              "      <td>GN1601</td>\n",
              "      <td>113</td>\n",
              "    </tr>\n",
              "    <tr>\n",
              "      <th>2</th>\n",
              "      <td>1</td>\n",
              "      <td>GN1606</td>\n",
              "      <td>118</td>\n",
              "    </tr>\n",
              "    <tr>\n",
              "      <th>3</th>\n",
              "      <td>2</td>\n",
              "      <td>GN0901</td>\n",
              "      <td>48</td>\n",
              "    </tr>\n",
              "    <tr>\n",
              "      <th>4</th>\n",
              "      <td>3</td>\n",
              "      <td>GN1102</td>\n",
              "      <td>71</td>\n",
              "    </tr>\n",
              "    <tr>\n",
              "      <th>...</th>\n",
              "      <td>...</td>\n",
              "      <td>...</td>\n",
              "      <td>...</td>\n",
              "    </tr>\n",
              "    <tr>\n",
              "      <th>1512390</th>\n",
              "      <td>707986</td>\n",
              "      <td>GN0101</td>\n",
              "      <td>0</td>\n",
              "    </tr>\n",
              "    <tr>\n",
              "      <th>1512391</th>\n",
              "      <td>707987</td>\n",
              "      <td>GN1807</td>\n",
              "      <td>144</td>\n",
              "    </tr>\n",
              "    <tr>\n",
              "      <th>1512392</th>\n",
              "      <td>707987</td>\n",
              "      <td>GN1801</td>\n",
              "      <td>138</td>\n",
              "    </tr>\n",
              "    <tr>\n",
              "      <th>1512393</th>\n",
              "      <td>707988</td>\n",
              "      <td>GN0601</td>\n",
              "      <td>27</td>\n",
              "    </tr>\n",
              "    <tr>\n",
              "      <th>1512394</th>\n",
              "      <td>707988</td>\n",
              "      <td>GN0604</td>\n",
              "      <td>30</td>\n",
              "    </tr>\n",
              "  </tbody>\n",
              "</table>\n",
              "<p>1512395 rows × 3 columns</p>\n",
              "</div>"
            ],
            "text/plain": [
              "         song_id song_gn_dtl_gnr_basket  gnr_num\n",
              "0              0                 GN0901       48\n",
              "1              1                 GN1601      113\n",
              "2              1                 GN1606      118\n",
              "3              2                 GN0901       48\n",
              "4              3                 GN1102       71\n",
              "...          ...                    ...      ...\n",
              "1512390   707986                 GN0101        0\n",
              "1512391   707987                 GN1807      144\n",
              "1512392   707987                 GN1801      138\n",
              "1512393   707988                 GN0601       27\n",
              "1512394   707988                 GN0604       30\n",
              "\n",
              "[1512395 rows x 3 columns]"
            ]
          },
          "metadata": {
            "tags": []
          },
          "execution_count": 24
        }
      ]
    },
    {
      "cell_type": "code",
      "metadata": {
        "id": "sVyCokOaSnzV",
        "colab_type": "code",
        "colab": {}
      },
      "source": [
        "#2. 해당 리스트에 포함한 song_id를 검색한 후, value_count를 수행한다.\n",
        "def my_fc(data):\n",
        "    result = {i:0 for i in range(224)}\n",
        "    try:\n",
        "        result.update(song_gnr_map.loc[song_gnr_map['song_id'].isin(data), 'gnr_num'].value_counts())\n",
        "    except:\n",
        "        pass\n",
        "    return list(result.values())\n",
        "\n",
        "g = train['songs'][:10].apply(my_fc)"
      ],
      "execution_count": 0,
      "outputs": []
    },
    {
      "cell_type": "code",
      "metadata": {
        "id": "Z1w84JuTXokX",
        "colab_type": "code",
        "outputId": "f59d5208-7929-4235-af0f-9f91501c0193",
        "colab": {
          "base_uri": "https://localhost:8080/",
          "height": 215
        }
      },
      "source": [
        "g"
      ],
      "execution_count": 0,
      "outputs": [
        {
          "output_type": "execute_result",
          "data": {
            "text/plain": [
              "0    [0, 0, 0, 0, 0, 0, 0, 0, 0, 0, 0, 0, 0, 0, 0, ...\n",
              "1    [11, 0, 1, 3, 6, 0, 0, 0, 0, 0, 0, 0, 0, 0, 0,...\n",
              "2    [2, 0, 0, 0, 0, 0, 0, 0, 0, 0, 3, 0, 3, 0, 0, ...\n",
              "3    [14, 0, 1, 0, 6, 0, 0, 0, 0, 0, 0, 0, 0, 0, 0,...\n",
              "4    [5, 0, 3, 0, 0, 42, 0, 30, 8, 0, 4, 1, 3, 0, 0...\n",
              "5    [0, 0, 0, 0, 0, 0, 0, 0, 0, 0, 0, 0, 0, 0, 0, ...\n",
              "6    [30, 0, 0, 8, 20, 0, 0, 0, 0, 0, 0, 0, 0, 0, 0...\n",
              "7    [12, 0, 1, 7, 0, 2, 0, 0, 1, 0, 2, 0, 2, 0, 0,...\n",
              "8    [5, 0, 0, 0, 4, 23, 0, 1, 5, 14, 0, 0, 0, 0, 0...\n",
              "9    [0, 0, 0, 0, 0, 0, 0, 0, 0, 0, 0, 0, 0, 0, 0, ...\n",
              "Name: songs, dtype: object"
            ]
          },
          "metadata": {
            "tags": []
          },
          "execution_count": 15
        }
      ]
    },
    {
      "cell_type": "code",
      "metadata": {
        "id": "Pv28OFTnUWGh",
        "colab_type": "code",
        "outputId": "34d44f33-3e70-40ca-cbe2-7c94b97df9fd",
        "colab": {
          "base_uri": "https://localhost:8080/",
          "height": 53
        }
      },
      "source": [
        "%%time \n",
        "dtl_vector = train['songs'].apply(my_fc)"
      ],
      "execution_count": 0,
      "outputs": [
        {
          "output_type": "stream",
          "text": [
            "CPU times: user 1h 25min 1s, sys: 32min 52s, total: 1h 57min 54s\n",
            "Wall time: 1h 57min 56s\n"
          ],
          "name": "stdout"
        }
      ]
    },
    {
      "cell_type": "code",
      "metadata": {
        "id": "Ccupo8c_UWaX",
        "colab_type": "code",
        "colab": {}
      },
      "source": [
        "dtl_vector.to_csv('/content/drive/My Drive/Colab Notebooks/data/멜론/dtl_vector.csv', index=False)"
      ],
      "execution_count": 0,
      "outputs": []
    }
  ]
}