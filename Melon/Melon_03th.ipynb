{
  "nbformat": 4,
  "nbformat_minor": 0,
  "metadata": {
    "colab": {
      "name": "Melon_03th.ipynb",
      "provenance": [],
      "machine_shape": "hm"
    },
    "kernelspec": {
      "name": "python3",
      "display_name": "Python 3"
    }
  },
  "cells": [
    {
      "cell_type": "code",
      "metadata": {
        "id": "VYzaOfq4x3WA",
        "colab_type": "code",
        "colab": {
          "base_uri": "https://localhost:8080/",
          "height": 52
        },
        "outputId": "7d244a65-93b7-4c2e-ea8b-db6e0d26924b"
      },
      "source": [
        "import pandas as pd\n",
        "import seaborn as sns\n",
        "import numpy as np"
      ],
      "execution_count": 1,
      "outputs": [
        {
          "output_type": "stream",
          "text": [
            "/usr/local/lib/python3.6/dist-packages/statsmodels/tools/_testing.py:19: FutureWarning: pandas.util.testing is deprecated. Use the functions in the public API at pandas.testing instead.\n",
            "  import pandas.util.testing as tm\n"
          ],
          "name": "stderr"
        }
      ]
    },
    {
      "cell_type": "code",
      "metadata": {
        "id": "FjSKxE_yyF9s",
        "colab_type": "code",
        "outputId": "b500845c-6042-46ff-cf50-2f7bb41f5c03",
        "colab": {
          "base_uri": "https://localhost:8080/",
          "height": 210
        }
      },
      "source": [
        "import matplotlib as mpl\n",
        "import matplotlib.pyplot as plt\n",
        " \n",
        "%config InlineBackend.figure_format = 'retina'\n",
        " \n",
        "!apt -qq -y install fonts-nanum\n",
        " \n",
        "import matplotlib.font_manager as fm\n",
        "fontpath = '/usr/share/fonts/truetype/nanum/NanumBarunGothic.ttf'\n",
        "font = fm.FontProperties(fname=fontpath, size=9)\n",
        "plt.rc('font', family='NanumBarunGothic') \n",
        "mpl.font_manager._rebuild()"
      ],
      "execution_count": 2,
      "outputs": [
        {
          "output_type": "stream",
          "text": [
            "The following NEW packages will be installed:\n",
            "  fonts-nanum\n",
            "0 upgraded, 1 newly installed, 0 to remove and 31 not upgraded.\n",
            "Need to get 9,604 kB of archives.\n",
            "After this operation, 29.5 MB of additional disk space will be used.\n",
            "Selecting previously unselected package fonts-nanum.\n",
            "(Reading database ... 144433 files and directories currently installed.)\n",
            "Preparing to unpack .../fonts-nanum_20170925-1_all.deb ...\n",
            "Unpacking fonts-nanum (20170925-1) ...\n",
            "Setting up fonts-nanum (20170925-1) ...\n",
            "Processing triggers for fontconfig (2.12.6-0ubuntu2) ...\n"
          ],
          "name": "stdout"
        }
      ]
    },
    {
      "cell_type": "code",
      "metadata": {
        "id": "B5Sec6tiyGQy",
        "colab_type": "code",
        "outputId": "900872b9-98a5-4aee-cb40-a0ec23d425df",
        "colab": {
          "base_uri": "https://localhost:8080/",
          "height": 759
        }
      },
      "source": [
        "plt.figure(figsize=(5,5))\n",
        "plt.plot([0,1], [0,1], label='한글테스트용')\n",
        "plt.legend()\n",
        "plt.show()"
      ],
      "execution_count": 3,
      "outputs": [
        {
          "output_type": "stream",
          "text": [
            "findfont: Font family ['NanumBarunGothic'] not found. Falling back to DejaVu Sans.\n",
            "/usr/local/lib/python3.6/dist-packages/matplotlib/backends/backend_agg.py:214: RuntimeWarning: Glyph 54620 missing from current font.\n",
            "  font.set_text(s, 0.0, flags=flags)\n",
            "/usr/local/lib/python3.6/dist-packages/matplotlib/backends/backend_agg.py:214: RuntimeWarning: Glyph 44544 missing from current font.\n",
            "  font.set_text(s, 0.0, flags=flags)\n",
            "/usr/local/lib/python3.6/dist-packages/matplotlib/backends/backend_agg.py:214: RuntimeWarning: Glyph 53580 missing from current font.\n",
            "  font.set_text(s, 0.0, flags=flags)\n",
            "/usr/local/lib/python3.6/dist-packages/matplotlib/backends/backend_agg.py:214: RuntimeWarning: Glyph 49828 missing from current font.\n",
            "  font.set_text(s, 0.0, flags=flags)\n",
            "/usr/local/lib/python3.6/dist-packages/matplotlib/backends/backend_agg.py:214: RuntimeWarning: Glyph 53944 missing from current font.\n",
            "  font.set_text(s, 0.0, flags=flags)\n",
            "/usr/local/lib/python3.6/dist-packages/matplotlib/backends/backend_agg.py:214: RuntimeWarning: Glyph 50857 missing from current font.\n",
            "  font.set_text(s, 0.0, flags=flags)\n",
            "/usr/local/lib/python3.6/dist-packages/matplotlib/backends/backend_agg.py:183: RuntimeWarning: Glyph 54620 missing from current font.\n",
            "  font.set_text(s, 0, flags=flags)\n",
            "/usr/local/lib/python3.6/dist-packages/matplotlib/backends/backend_agg.py:183: RuntimeWarning: Glyph 44544 missing from current font.\n",
            "  font.set_text(s, 0, flags=flags)\n",
            "/usr/local/lib/python3.6/dist-packages/matplotlib/backends/backend_agg.py:183: RuntimeWarning: Glyph 53580 missing from current font.\n",
            "  font.set_text(s, 0, flags=flags)\n",
            "/usr/local/lib/python3.6/dist-packages/matplotlib/backends/backend_agg.py:183: RuntimeWarning: Glyph 49828 missing from current font.\n",
            "  font.set_text(s, 0, flags=flags)\n",
            "/usr/local/lib/python3.6/dist-packages/matplotlib/backends/backend_agg.py:183: RuntimeWarning: Glyph 53944 missing from current font.\n",
            "  font.set_text(s, 0, flags=flags)\n",
            "/usr/local/lib/python3.6/dist-packages/matplotlib/backends/backend_agg.py:183: RuntimeWarning: Glyph 50857 missing from current font.\n",
            "  font.set_text(s, 0, flags=flags)\n"
          ],
          "name": "stderr"
        },
        {
          "output_type": "display_data",
          "data": {
            "image/png": "[encoded data removed]",
            "text/plain": [
              "<Figure size 360x360 with 1 Axes>"
            ]
          },
          "metadata": {
            "tags": [],
            "image/png": {
              "width": 316,
              "height": 302
            },
            "needs_background": "light"
          }
        }
      ]
    },
    {
      "cell_type": "code",
      "metadata": {
        "id": "0XsjOrdZyQuZ",
        "colab_type": "code",
        "colab": {}
      },
      "source": [
        "train = pd.read_json('/content/drive/My Drive/Colab Notebooks/data/멜론/train.json', typ = 'frame')\n",
        "val = pd.read_json('/content/drive/My Drive/Colab Notebooks/data/멜론/val.json', typ = 'frame')\n",
        "test = pd.read_json('/content/drive/My Drive/Colab Notebooks/data/멜론/test.json', typ = 'frame')\n",
        "song_meta = pd.read_json('/content/drive/My Drive/Colab Notebooks/data/멜론/song_meta.json', typ = 'frame')\n",
        "genre_gn_all = pd.read_json('/content/drive/My Drive/Colab Notebooks/data/멜론/genre_gn_all.json', typ = 'series')"
      ],
      "execution_count": 0,
      "outputs": []
    },
    {
      "cell_type": "code",
      "metadata": {
        "id": "3eF6nteR4uRS",
        "colab_type": "code",
        "colab": {}
      },
      "source": [
        "for data in [train,val,test]:\n",
        "  data['년도'] = data['updt_date'].apply(lambda x: x[:4])  \n",
        "  data['월'] = data['updt_date'].apply(lambda x: x[5:7])\n",
        "  data['시간대'] = data['updt_date'].apply(lambda x:x[11:13])"
      ],
      "execution_count": 0,
      "outputs": []
    },
    {
      "cell_type": "markdown",
      "metadata": {
        "id": "xVCHElUIGjLq",
        "colab_type": "text"
      },
      "source": [
        "# 아티스트 벡터 생성\n",
        "- song_meta 데이터 활용"
      ]
    },
    {
      "cell_type": "code",
      "metadata": {
        "id": "X-NKp7C_GAOl",
        "colab_type": "code",
        "outputId": "c4f59fe1-da0e-474b-d225-022c59c186a9",
        "colab": {
          "base_uri": "https://localhost:8080/",
          "height": 246
        }
      },
      "source": [
        "song_meta.head()"
      ],
      "execution_count": 6,
      "outputs": [
        {
          "output_type": "execute_result",
          "data": {
            "text/html": [
              "<div>\n",
              "<style scoped>\n",
              "    .dataframe tbody tr th:only-of-type {\n",
              "        vertical-align: middle;\n",
              "    }\n",
              "\n",
              "    .dataframe tbody tr th {\n",
              "        vertical-align: top;\n",
              "    }\n",
              "\n",
              "    .dataframe thead th {\n",
              "        text-align: right;\n",
              "    }\n",
              "</style>\n",
              "<table border=\"1\" class=\"dataframe\">\n",
              "  <thead>\n",
              "    <tr style=\"text-align: right;\">\n",
              "      <th></th>\n",
              "      <th>song_gn_dtl_gnr_basket</th>\n",
              "      <th>issue_date</th>\n",
              "      <th>album_name</th>\n",
              "      <th>album_id</th>\n",
              "      <th>artist_id_basket</th>\n",
              "      <th>song_name</th>\n",
              "      <th>song_gn_gnr_basket</th>\n",
              "      <th>artist_name_basket</th>\n",
              "      <th>id</th>\n",
              "    </tr>\n",
              "  </thead>\n",
              "  <tbody>\n",
              "    <tr>\n",
              "      <th>0</th>\n",
              "      <td>[GN0901]</td>\n",
              "      <td>20140512</td>\n",
              "      <td>불후의 명곡 - 7080 추억의 얄개시대 팝송베스트</td>\n",
              "      <td>2255639</td>\n",
              "      <td>[2727]</td>\n",
              "      <td>Feelings</td>\n",
              "      <td>[GN0900]</td>\n",
              "      <td>[Various Artists]</td>\n",
              "      <td>0</td>\n",
              "    </tr>\n",
              "    <tr>\n",
              "      <th>1</th>\n",
              "      <td>[GN1601, GN1606]</td>\n",
              "      <td>20080421</td>\n",
              "      <td>Bach : Partitas Nos. 2, 3 &amp; 4</td>\n",
              "      <td>376431</td>\n",
              "      <td>[29966]</td>\n",
              "      <td>Bach : Partita No. 4 In D Major, BWV 828 - II....</td>\n",
              "      <td>[GN1600]</td>\n",
              "      <td>[Murray Perahia]</td>\n",
              "      <td>1</td>\n",
              "    </tr>\n",
              "    <tr>\n",
              "      <th>2</th>\n",
              "      <td>[GN0901]</td>\n",
              "      <td>20180518</td>\n",
              "      <td>Hit</td>\n",
              "      <td>4698747</td>\n",
              "      <td>[3361]</td>\n",
              "      <td>Solsbury Hill (Remastered 2002)</td>\n",
              "      <td>[GN0900]</td>\n",
              "      <td>[Peter Gabriel]</td>\n",
              "      <td>2</td>\n",
              "    </tr>\n",
              "    <tr>\n",
              "      <th>3</th>\n",
              "      <td>[GN1102, GN1101]</td>\n",
              "      <td>20151016</td>\n",
              "      <td>Feeling Right (Everything Is Nice) (Feat. Popc...</td>\n",
              "      <td>2644882</td>\n",
              "      <td>[838543]</td>\n",
              "      <td>Feeling Right (Everything Is Nice) (Feat. Popc...</td>\n",
              "      <td>[GN1100]</td>\n",
              "      <td>[Matoma]</td>\n",
              "      <td>3</td>\n",
              "    </tr>\n",
              "    <tr>\n",
              "      <th>4</th>\n",
              "      <td>[GN1802, GN1801]</td>\n",
              "      <td>20110824</td>\n",
              "      <td>그남자 그여자</td>\n",
              "      <td>2008470</td>\n",
              "      <td>[560160]</td>\n",
              "      <td>그남자 그여자</td>\n",
              "      <td>[GN1800]</td>\n",
              "      <td>[Jude Law]</td>\n",
              "      <td>4</td>\n",
              "    </tr>\n",
              "  </tbody>\n",
              "</table>\n",
              "</div>"
            ],
            "text/plain": [
              "  song_gn_dtl_gnr_basket  issue_date  ... artist_name_basket  id\n",
              "0               [GN0901]    20140512  ...  [Various Artists]   0\n",
              "1       [GN1601, GN1606]    20080421  ...   [Murray Perahia]   1\n",
              "2               [GN0901]    20180518  ...    [Peter Gabriel]   2\n",
              "3       [GN1102, GN1101]    20151016  ...           [Matoma]   3\n",
              "4       [GN1802, GN1801]    20110824  ...         [Jude Law]   4\n",
              "\n",
              "[5 rows x 9 columns]"
            ]
          },
          "metadata": {
            "tags": []
          },
          "execution_count": 6
        }
      ]
    },
    {
      "cell_type": "markdown",
      "metadata": {
        "id": "7wJbpuHN6fUr",
        "colab_type": "text"
      },
      "source": [
        "---\n",
        "numpy 개념\n",
        "\n",
        "- np.repeat(반복될 것들 리스트,반복 횟수 리스트)\n",
        "- np.concatenate(list or arrays) : Numpy 배열들을 하나로 합치는데 이용"
      ]
    },
    {
      "cell_type": "code",
      "metadata": {
        "id": "gYBloirh6g2y",
        "colab_type": "code",
        "outputId": "3b56343b-96ac-4d46-9fa3-f2e6d6c96182",
        "colab": {
          "base_uri": "https://localhost:8080/",
          "height": 34
        }
      },
      "source": [
        "# ex) repeat\n",
        "np.repeat(['a','b'],[2,3])"
      ],
      "execution_count": 7,
      "outputs": [
        {
          "output_type": "execute_result",
          "data": {
            "text/plain": [
              "array(['a', 'a', 'b', 'b', 'b'], dtype='<U1')"
            ]
          },
          "metadata": {
            "tags": []
          },
          "execution_count": 7
        }
      ]
    },
    {
      "cell_type": "code",
      "metadata": {
        "id": "UtINYu-P7tZX",
        "colab_type": "code",
        "outputId": "d2932143-299b-42c7-bc98-13ee177f082d",
        "colab": {
          "base_uri": "https://localhost:8080/",
          "height": 34
        }
      },
      "source": [
        "# ex) concatenate\n",
        "np.concatenate([[1],[2],[3],[4,5]])"
      ],
      "execution_count": 8,
      "outputs": [
        {
          "output_type": "execute_result",
          "data": {
            "text/plain": [
              "array([1, 2, 3, 4, 5])"
            ]
          },
          "metadata": {
            "tags": []
          },
          "execution_count": 8
        }
      ]
    },
    {
      "cell_type": "code",
      "metadata": {
        "id": "dBQwrQdk9HIV",
        "colab_type": "code",
        "outputId": "bfe6083c-5cf4-49b5-a1b9-7793c01a0a26",
        "colab": {
          "base_uri": "https://localhost:8080/",
          "height": 52
        }
      },
      "source": [
        "np.concatenate(([[1,2]],[[3,4]]),axis=0)"
      ],
      "execution_count": 9,
      "outputs": [
        {
          "output_type": "execute_result",
          "data": {
            "text/plain": [
              "array([[1, 2],\n",
              "       [3, 4]])"
            ]
          },
          "metadata": {
            "tags": []
          },
          "execution_count": 9
        }
      ]
    },
    {
      "cell_type": "code",
      "metadata": {
        "id": "cN3EV2xx9m1U",
        "colab_type": "code",
        "outputId": "360b9326-6936-4b1a-b202-fe7b892773da",
        "colab": {
          "base_uri": "https://localhost:8080/",
          "height": 34
        }
      },
      "source": [
        "np.concatenate(([[1,2]],[[3,4]]),axis=1)"
      ],
      "execution_count": 10,
      "outputs": [
        {
          "output_type": "execute_result",
          "data": {
            "text/plain": [
              "array([[1, 2, 3, 4]])"
            ]
          },
          "metadata": {
            "tags": []
          },
          "execution_count": 10
        }
      ]
    },
    {
      "cell_type": "code",
      "metadata": {
        "id": "3kTQn7Fs9vNp",
        "colab_type": "code",
        "outputId": "ffe209db-3768-43a3-90d4-a13321c2cdad",
        "colab": {
          "base_uri": "https://localhost:8080/",
          "height": 34
        }
      },
      "source": [
        "np.concatenate(([[1,2]],[[3,4]]),axis=None)"
      ],
      "execution_count": 11,
      "outputs": [
        {
          "output_type": "execute_result",
          "data": {
            "text/plain": [
              "array([1, 2, 3, 4])"
            ]
          },
          "metadata": {
            "tags": []
          },
          "execution_count": 11
        }
      ]
    },
    {
      "cell_type": "markdown",
      "metadata": {
        "id": "53agMVzs7gs7",
        "colab_type": "text"
      },
      "source": [
        "---"
      ]
    },
    {
      "cell_type": "code",
      "metadata": {
        "id": "OztMwmBS24oh",
        "colab_type": "code",
        "colab": {}
      },
      "source": [
        "song_id=np.repeat(song_meta['id'].values,list(map(len,song_meta.artist_name_basket)))\n",
        "artist_list=list(np.concatenate(song_meta['artist_name_basket'].values))"
      ],
      "execution_count": 0,
      "outputs": []
    },
    {
      "cell_type": "code",
      "metadata": {
        "id": "S_AanbfY5gWS",
        "colab_type": "code",
        "colab": {}
      },
      "source": [
        "song_artist=pd.DataFrame({'song_id':song_id,'artist' : artist_list})"
      ],
      "execution_count": 0,
      "outputs": []
    },
    {
      "cell_type": "code",
      "metadata": {
        "id": "r7GaC4HZ5wCT",
        "colab_type": "code",
        "outputId": "74379506-cf57-4e74-dec4-f25a3a1484bf",
        "colab": {
          "base_uri": "https://localhost:8080/",
          "height": 1000
        }
      },
      "source": [
        "'''뭔 노래인지 모르겠지만 상당히 많은 가수들이 참여함.'''\n",
        "song_artist[song_artist.song_id == 143370]"
      ],
      "execution_count": 14,
      "outputs": [
        {
          "output_type": "execute_result",
          "data": {
            "text/html": [
              "<div>\n",
              "<style scoped>\n",
              "    .dataframe tbody tr th:only-of-type {\n",
              "        vertical-align: middle;\n",
              "    }\n",
              "\n",
              "    .dataframe tbody tr th {\n",
              "        vertical-align: top;\n",
              "    }\n",
              "\n",
              "    .dataframe thead th {\n",
              "        text-align: right;\n",
              "    }\n",
              "</style>\n",
              "<table border=\"1\" class=\"dataframe\">\n",
              "  <thead>\n",
              "    <tr style=\"text-align: right;\">\n",
              "      <th></th>\n",
              "      <th>song_id</th>\n",
              "      <th>artist</th>\n",
              "    </tr>\n",
              "  </thead>\n",
              "  <tbody>\n",
              "    <tr>\n",
              "      <th>157981</th>\n",
              "      <td>143370</td>\n",
              "      <td>티파니 (TIFFANY)</td>\n",
              "    </tr>\n",
              "    <tr>\n",
              "      <th>157982</th>\n",
              "      <td>143370</td>\n",
              "      <td>김종국</td>\n",
              "    </tr>\n",
              "    <tr>\n",
              "      <th>157983</th>\n",
              "      <td>143370</td>\n",
              "      <td>다이나믹 듀오</td>\n",
              "    </tr>\n",
              "    <tr>\n",
              "      <th>157984</th>\n",
              "      <td>143370</td>\n",
              "      <td>여진구</td>\n",
              "    </tr>\n",
              "    <tr>\n",
              "      <th>157985</th>\n",
              "      <td>143370</td>\n",
              "      <td>김유정</td>\n",
              "    </tr>\n",
              "    <tr>\n",
              "      <th>157986</th>\n",
              "      <td>143370</td>\n",
              "      <td>에디킴</td>\n",
              "    </tr>\n",
              "    <tr>\n",
              "      <th>157987</th>\n",
              "      <td>143370</td>\n",
              "      <td>전현무</td>\n",
              "    </tr>\n",
              "    <tr>\n",
              "      <th>157988</th>\n",
              "      <td>143370</td>\n",
              "      <td>유인영</td>\n",
              "    </tr>\n",
              "    <tr>\n",
              "      <th>157989</th>\n",
              "      <td>143370</td>\n",
              "      <td>김수로</td>\n",
              "    </tr>\n",
              "    <tr>\n",
              "      <th>157990</th>\n",
              "      <td>143370</td>\n",
              "      <td>최다니엘</td>\n",
              "    </tr>\n",
              "    <tr>\n",
              "      <th>157991</th>\n",
              "      <td>143370</td>\n",
              "      <td>김정훈</td>\n",
              "    </tr>\n",
              "    <tr>\n",
              "      <th>157992</th>\n",
              "      <td>143370</td>\n",
              "      <td>안내상</td>\n",
              "    </tr>\n",
              "    <tr>\n",
              "      <th>157993</th>\n",
              "      <td>143370</td>\n",
              "      <td>김재원</td>\n",
              "    </tr>\n",
              "    <tr>\n",
              "      <th>157994</th>\n",
              "      <td>143370</td>\n",
              "      <td>김성균</td>\n",
              "    </tr>\n",
              "    <tr>\n",
              "      <th>157995</th>\n",
              "      <td>143370</td>\n",
              "      <td>백성현</td>\n",
              "    </tr>\n",
              "    <tr>\n",
              "      <th>157996</th>\n",
              "      <td>143370</td>\n",
              "      <td>최여진</td>\n",
              "    </tr>\n",
              "    <tr>\n",
              "      <th>157997</th>\n",
              "      <td>143370</td>\n",
              "      <td>바비 킴</td>\n",
              "    </tr>\n",
              "    <tr>\n",
              "      <th>157998</th>\n",
              "      <td>143370</td>\n",
              "      <td>서문탁</td>\n",
              "    </tr>\n",
              "    <tr>\n",
              "      <th>157999</th>\n",
              "      <td>143370</td>\n",
              "      <td>옥주현</td>\n",
              "    </tr>\n",
              "    <tr>\n",
              "      <th>158000</th>\n",
              "      <td>143370</td>\n",
              "      <td>서인영</td>\n",
              "    </tr>\n",
              "    <tr>\n",
              "      <th>158001</th>\n",
              "      <td>143370</td>\n",
              "      <td>박건형</td>\n",
              "    </tr>\n",
              "    <tr>\n",
              "      <th>158002</th>\n",
              "      <td>143370</td>\n",
              "      <td>장희웅</td>\n",
              "    </tr>\n",
              "    <tr>\n",
              "      <th>158003</th>\n",
              "      <td>143370</td>\n",
              "      <td>김형준</td>\n",
              "    </tr>\n",
              "    <tr>\n",
              "      <th>158004</th>\n",
              "      <td>143370</td>\n",
              "      <td>박현빈</td>\n",
              "    </tr>\n",
              "    <tr>\n",
              "      <th>158005</th>\n",
              "      <td>143370</td>\n",
              "      <td>이루</td>\n",
              "    </tr>\n",
              "    <tr>\n",
              "      <th>158006</th>\n",
              "      <td>143370</td>\n",
              "      <td>카라</td>\n",
              "    </tr>\n",
              "    <tr>\n",
              "      <th>158007</th>\n",
              "      <td>143370</td>\n",
              "      <td>윤하 (YOUNHA)</td>\n",
              "    </tr>\n",
              "    <tr>\n",
              "      <th>158008</th>\n",
              "      <td>143370</td>\n",
              "      <td>레인보우</td>\n",
              "    </tr>\n",
              "    <tr>\n",
              "      <th>158009</th>\n",
              "      <td>143370</td>\n",
              "      <td>유키스</td>\n",
              "    </tr>\n",
              "    <tr>\n",
              "      <th>158010</th>\n",
              "      <td>143370</td>\n",
              "      <td>울랄라세션</td>\n",
              "    </tr>\n",
              "    <tr>\n",
              "      <th>158011</th>\n",
              "      <td>143370</td>\n",
              "      <td>2BIC(투빅)</td>\n",
              "    </tr>\n",
              "    <tr>\n",
              "      <th>158012</th>\n",
              "      <td>143370</td>\n",
              "      <td>김지수</td>\n",
              "    </tr>\n",
              "    <tr>\n",
              "      <th>158013</th>\n",
              "      <td>143370</td>\n",
              "      <td>제이투엠</td>\n",
              "    </tr>\n",
              "    <tr>\n",
              "      <th>158014</th>\n",
              "      <td>143370</td>\n",
              "      <td>소년공화국 (Boys Republic)</td>\n",
              "    </tr>\n",
              "    <tr>\n",
              "      <th>158015</th>\n",
              "      <td>143370</td>\n",
              "      <td>플래쉬 (FlaShe)</td>\n",
              "    </tr>\n",
              "    <tr>\n",
              "      <th>158016</th>\n",
              "      <td>143370</td>\n",
              "      <td>비에이 (Be.A)</td>\n",
              "    </tr>\n",
              "    <tr>\n",
              "      <th>158017</th>\n",
              "      <td>143370</td>\n",
              "      <td>손승연</td>\n",
              "    </tr>\n",
              "    <tr>\n",
              "      <th>158018</th>\n",
              "      <td>143370</td>\n",
              "      <td>Sam Hammington</td>\n",
              "    </tr>\n",
              "    <tr>\n",
              "      <th>158019</th>\n",
              "      <td>143370</td>\n",
              "      <td>신수지</td>\n",
              "    </tr>\n",
              "    <tr>\n",
              "      <th>158020</th>\n",
              "      <td>143370</td>\n",
              "      <td>신지훈</td>\n",
              "    </tr>\n",
              "    <tr>\n",
              "      <th>158021</th>\n",
              "      <td>143370</td>\n",
              "      <td>이현이</td>\n",
              "    </tr>\n",
              "  </tbody>\n",
              "</table>\n",
              "</div>"
            ],
            "text/plain": [
              "        song_id                 artist\n",
              "157981   143370          티파니 (TIFFANY)\n",
              "157982   143370                    김종국\n",
              "157983   143370                다이나믹 듀오\n",
              "157984   143370                    여진구\n",
              "157985   143370                    김유정\n",
              "157986   143370                    에디킴\n",
              "157987   143370                    전현무\n",
              "157988   143370                    유인영\n",
              "157989   143370                    김수로\n",
              "157990   143370                   최다니엘\n",
              "157991   143370                    김정훈\n",
              "157992   143370                    안내상\n",
              "157993   143370                    김재원\n",
              "157994   143370                    김성균\n",
              "157995   143370                    백성현\n",
              "157996   143370                    최여진\n",
              "157997   143370                   바비 킴\n",
              "157998   143370                    서문탁\n",
              "157999   143370                    옥주현\n",
              "158000   143370                    서인영\n",
              "158001   143370                    박건형\n",
              "158002   143370                    장희웅\n",
              "158003   143370                    김형준\n",
              "158004   143370                    박현빈\n",
              "158005   143370                     이루\n",
              "158006   143370                     카라\n",
              "158007   143370            윤하 (YOUNHA)\n",
              "158008   143370                   레인보우\n",
              "158009   143370                    유키스\n",
              "158010   143370                  울랄라세션\n",
              "158011   143370               2BIC(투빅)\n",
              "158012   143370                    김지수\n",
              "158013   143370                   제이투엠\n",
              "158014   143370  소년공화국 (Boys Republic)\n",
              "158015   143370           플래쉬 (FlaShe)\n",
              "158016   143370             비에이 (Be.A)\n",
              "158017   143370                    손승연\n",
              "158018   143370         Sam Hammington\n",
              "158019   143370                    신수지\n",
              "158020   143370                    신지훈\n",
              "158021   143370                    이현이"
            ]
          },
          "metadata": {
            "tags": []
          },
          "execution_count": 14
        }
      ]
    },
    {
      "cell_type": "code",
      "metadata": {
        "id": "FlDA8AXz-u7J",
        "colab_type": "code",
        "outputId": "27452a51-894d-4231-91a6-cc69629f287f",
        "colab": {
          "base_uri": "https://localhost:8080/",
          "height": 136
        }
      },
      "source": [
        "'''아티스트가 아예 존재하지 않는 경우도 있음.'''\n",
        "song_artist[song_artist.artist =='']"
      ],
      "execution_count": 15,
      "outputs": [
        {
          "output_type": "execute_result",
          "data": {
            "text/html": [
              "<div>\n",
              "<style scoped>\n",
              "    .dataframe tbody tr th:only-of-type {\n",
              "        vertical-align: middle;\n",
              "    }\n",
              "\n",
              "    .dataframe tbody tr th {\n",
              "        vertical-align: top;\n",
              "    }\n",
              "\n",
              "    .dataframe thead th {\n",
              "        text-align: right;\n",
              "    }\n",
              "</style>\n",
              "<table border=\"1\" class=\"dataframe\">\n",
              "  <thead>\n",
              "    <tr style=\"text-align: right;\">\n",
              "      <th></th>\n",
              "      <th>song_id</th>\n",
              "      <th>artist</th>\n",
              "    </tr>\n",
              "  </thead>\n",
              "  <tbody>\n",
              "    <tr>\n",
              "      <th>228560</th>\n",
              "      <td>207607</td>\n",
              "      <td></td>\n",
              "    </tr>\n",
              "    <tr>\n",
              "      <th>361100</th>\n",
              "      <td>328016</td>\n",
              "      <td></td>\n",
              "    </tr>\n",
              "    <tr>\n",
              "      <th>770465</th>\n",
              "      <td>699788</td>\n",
              "      <td></td>\n",
              "    </tr>\n",
              "  </tbody>\n",
              "</table>\n",
              "</div>"
            ],
            "text/plain": [
              "        song_id artist\n",
              "228560   207607       \n",
              "361100   328016       \n",
              "770465   699788       "
            ]
          },
          "metadata": {
            "tags": []
          },
          "execution_count": 15
        }
      ]
    },
    {
      "cell_type": "code",
      "metadata": {
        "id": "CPByU41S-49q",
        "colab_type": "code",
        "outputId": "5f497956-052d-4a6d-ed7e-f664aa504406",
        "colab": {
          "base_uri": "https://localhost:8080/",
          "height": 77
        }
      },
      "source": [
        "song_meta[song_meta.id ==  207607]"
      ],
      "execution_count": 16,
      "outputs": [
        {
          "output_type": "execute_result",
          "data": {
            "text/html": [
              "<div>\n",
              "<style scoped>\n",
              "    .dataframe tbody tr th:only-of-type {\n",
              "        vertical-align: middle;\n",
              "    }\n",
              "\n",
              "    .dataframe tbody tr th {\n",
              "        vertical-align: top;\n",
              "    }\n",
              "\n",
              "    .dataframe thead th {\n",
              "        text-align: right;\n",
              "    }\n",
              "</style>\n",
              "<table border=\"1\" class=\"dataframe\">\n",
              "  <thead>\n",
              "    <tr style=\"text-align: right;\">\n",
              "      <th></th>\n",
              "      <th>song_gn_dtl_gnr_basket</th>\n",
              "      <th>issue_date</th>\n",
              "      <th>album_name</th>\n",
              "      <th>album_id</th>\n",
              "      <th>artist_id_basket</th>\n",
              "      <th>song_name</th>\n",
              "      <th>song_gn_gnr_basket</th>\n",
              "      <th>artist_name_basket</th>\n",
              "      <th>id</th>\n",
              "    </tr>\n",
              "  </thead>\n",
              "  <tbody>\n",
              "    <tr>\n",
              "      <th>207607</th>\n",
              "      <td>[GN1201]</td>\n",
              "      <td>20160408</td>\n",
              "      <td>A`Typisk</td>\n",
              "      <td>2678216</td>\n",
              "      <td>[965703]</td>\n",
              "      <td>Byger (Feat. Mass Ebdrup &amp; Semih-Automatisk)</td>\n",
              "      <td>[GN1200]</td>\n",
              "      <td>[A`Typisk, ]</td>\n",
              "      <td>207607</td>\n",
              "    </tr>\n",
              "  </tbody>\n",
              "</table>\n",
              "</div>"
            ],
            "text/plain": [
              "       song_gn_dtl_gnr_basket  issue_date  ... artist_name_basket      id\n",
              "207607               [GN1201]    20160408  ...       [A`Typisk, ]  207607\n",
              "\n",
              "[1 rows x 9 columns]"
            ]
          },
          "metadata": {
            "tags": []
          },
          "execution_count": 16
        }
      ]
    },
    {
      "cell_type": "code",
      "metadata": {
        "id": "Nl8Gfjmv_bKV",
        "colab_type": "code",
        "outputId": "8b0494f4-aedd-412b-a4c9-43a0a87d34b1",
        "colab": {
          "base_uri": "https://localhost:8080/",
          "height": 94
        }
      },
      "source": [
        "song_meta[song_meta.id ==  328016]"
      ],
      "execution_count": 17,
      "outputs": [
        {
          "output_type": "execute_result",
          "data": {
            "text/html": [
              "<div>\n",
              "<style scoped>\n",
              "    .dataframe tbody tr th:only-of-type {\n",
              "        vertical-align: middle;\n",
              "    }\n",
              "\n",
              "    .dataframe tbody tr th {\n",
              "        vertical-align: top;\n",
              "    }\n",
              "\n",
              "    .dataframe thead th {\n",
              "        text-align: right;\n",
              "    }\n",
              "</style>\n",
              "<table border=\"1\" class=\"dataframe\">\n",
              "  <thead>\n",
              "    <tr style=\"text-align: right;\">\n",
              "      <th></th>\n",
              "      <th>song_gn_dtl_gnr_basket</th>\n",
              "      <th>issue_date</th>\n",
              "      <th>album_name</th>\n",
              "      <th>album_id</th>\n",
              "      <th>artist_id_basket</th>\n",
              "      <th>song_name</th>\n",
              "      <th>song_gn_gnr_basket</th>\n",
              "      <th>artist_name_basket</th>\n",
              "      <th>id</th>\n",
              "    </tr>\n",
              "  </thead>\n",
              "  <tbody>\n",
              "    <tr>\n",
              "      <th>328016</th>\n",
              "      <td>[GN2001]</td>\n",
              "      <td>20180327</td>\n",
              "      <td>The Traditional Ballads Of Iceland 오로라 같은 매력의 ...</td>\n",
              "      <td>10150938</td>\n",
              "      <td>[2112445, 2112446]</td>\n",
              "      <td>Consolation</td>\n",
              "      <td>[GN2000]</td>\n",
              "      <td>[Anna Palina, , Draupner]</td>\n",
              "      <td>328016</td>\n",
              "    </tr>\n",
              "  </tbody>\n",
              "</table>\n",
              "</div>"
            ],
            "text/plain": [
              "       song_gn_dtl_gnr_basket  issue_date  ...         artist_name_basket      id\n",
              "328016               [GN2001]    20180327  ...  [Anna Palina, , Draupner]  328016\n",
              "\n",
              "[1 rows x 9 columns]"
            ]
          },
          "metadata": {
            "tags": []
          },
          "execution_count": 17
        }
      ]
    },
    {
      "cell_type": "markdown",
      "metadata": {
        "id": "-hhRkiYz_ojz",
        "colab_type": "text"
      },
      "source": [
        "아티스트의 이름으로 다루면 어딘가 오류가 생기는 부분이 있는 것 같다. 아티스트 아이디로 백터를 구성하는 것이 좋을 것 같음."
      ]
    },
    {
      "cell_type": "code",
      "metadata": {
        "id": "L9bWv6s_BTJn",
        "colab_type": "code",
        "colab": {}
      },
      "source": [
        "song_meta['artist']=song_meta['artist_name_basket'].apply(lambda x: (',').join(x))\n",
        "song_meta['artist']=song_meta['artist'].apply(lambda x: x.replace(', ',''))\n",
        "song_meta['artist']=song_meta['artist'].apply(lambda x: x.replace(',,',','))\n",
        "song_meta['artist']=song_meta['artist'].apply(lambda x: x.replace(' ',''))\n",
        "song_meta['artist_list']=song_meta['artist'].apply(lambda x: x.split(','))"
      ],
      "execution_count": 0,
      "outputs": []
    },
    {
      "cell_type": "code",
      "metadata": {
        "id": "jStSQr5SLl5z",
        "colab_type": "code",
        "outputId": "6bbae5af-149e-4815-82e4-be02b05b5c3e",
        "colab": {
          "base_uri": "https://localhost:8080/",
          "height": 771
        }
      },
      "source": [
        "song_meta"
      ],
      "execution_count": 19,
      "outputs": [
        {
          "output_type": "execute_result",
          "data": {
            "text/html": [
              "<div>\n",
              "<style scoped>\n",
              "    .dataframe tbody tr th:only-of-type {\n",
              "        vertical-align: middle;\n",
              "    }\n",
              "\n",
              "    .dataframe tbody tr th {\n",
              "        vertical-align: top;\n",
              "    }\n",
              "\n",
              "    .dataframe thead th {\n",
              "        text-align: right;\n",
              "    }\n",
              "</style>\n",
              "<table border=\"1\" class=\"dataframe\">\n",
              "  <thead>\n",
              "    <tr style=\"text-align: right;\">\n",
              "      <th></th>\n",
              "      <th>song_gn_dtl_gnr_basket</th>\n",
              "      <th>issue_date</th>\n",
              "      <th>album_name</th>\n",
              "      <th>album_id</th>\n",
              "      <th>artist_id_basket</th>\n",
              "      <th>song_name</th>\n",
              "      <th>song_gn_gnr_basket</th>\n",
              "      <th>artist_name_basket</th>\n",
              "      <th>id</th>\n",
              "      <th>artist</th>\n",
              "      <th>artist_list</th>\n",
              "    </tr>\n",
              "  </thead>\n",
              "  <tbody>\n",
              "    <tr>\n",
              "      <th>0</th>\n",
              "      <td>[GN0901]</td>\n",
              "      <td>20140512</td>\n",
              "      <td>불후의 명곡 - 7080 추억의 얄개시대 팝송베스트</td>\n",
              "      <td>2255639</td>\n",
              "      <td>[2727]</td>\n",
              "      <td>Feelings</td>\n",
              "      <td>[GN0900]</td>\n",
              "      <td>[Various Artists]</td>\n",
              "      <td>0</td>\n",
              "      <td>VariousArtists</td>\n",
              "      <td>[VariousArtists]</td>\n",
              "    </tr>\n",
              "    <tr>\n",
              "      <th>1</th>\n",
              "      <td>[GN1601, GN1606]</td>\n",
              "      <td>20080421</td>\n",
              "      <td>Bach : Partitas Nos. 2, 3 &amp; 4</td>\n",
              "      <td>376431</td>\n",
              "      <td>[29966]</td>\n",
              "      <td>Bach : Partita No. 4 In D Major, BWV 828 - II....</td>\n",
              "      <td>[GN1600]</td>\n",
              "      <td>[Murray Perahia]</td>\n",
              "      <td>1</td>\n",
              "      <td>MurrayPerahia</td>\n",
              "      <td>[MurrayPerahia]</td>\n",
              "    </tr>\n",
              "    <tr>\n",
              "      <th>2</th>\n",
              "      <td>[GN0901]</td>\n",
              "      <td>20180518</td>\n",
              "      <td>Hit</td>\n",
              "      <td>4698747</td>\n",
              "      <td>[3361]</td>\n",
              "      <td>Solsbury Hill (Remastered 2002)</td>\n",
              "      <td>[GN0900]</td>\n",
              "      <td>[Peter Gabriel]</td>\n",
              "      <td>2</td>\n",
              "      <td>PeterGabriel</td>\n",
              "      <td>[PeterGabriel]</td>\n",
              "    </tr>\n",
              "    <tr>\n",
              "      <th>3</th>\n",
              "      <td>[GN1102, GN1101]</td>\n",
              "      <td>20151016</td>\n",
              "      <td>Feeling Right (Everything Is Nice) (Feat. Popc...</td>\n",
              "      <td>2644882</td>\n",
              "      <td>[838543]</td>\n",
              "      <td>Feeling Right (Everything Is Nice) (Feat. Popc...</td>\n",
              "      <td>[GN1100]</td>\n",
              "      <td>[Matoma]</td>\n",
              "      <td>3</td>\n",
              "      <td>Matoma</td>\n",
              "      <td>[Matoma]</td>\n",
              "    </tr>\n",
              "    <tr>\n",
              "      <th>4</th>\n",
              "      <td>[GN1802, GN1801]</td>\n",
              "      <td>20110824</td>\n",
              "      <td>그남자 그여자</td>\n",
              "      <td>2008470</td>\n",
              "      <td>[560160]</td>\n",
              "      <td>그남자 그여자</td>\n",
              "      <td>[GN1800]</td>\n",
              "      <td>[Jude Law]</td>\n",
              "      <td>4</td>\n",
              "      <td>JudeLaw</td>\n",
              "      <td>[JudeLaw]</td>\n",
              "    </tr>\n",
              "    <tr>\n",
              "      <th>...</th>\n",
              "      <td>...</td>\n",
              "      <td>...</td>\n",
              "      <td>...</td>\n",
              "      <td>...</td>\n",
              "      <td>...</td>\n",
              "      <td>...</td>\n",
              "      <td>...</td>\n",
              "      <td>...</td>\n",
              "      <td>...</td>\n",
              "      <td>...</td>\n",
              "      <td>...</td>\n",
              "    </tr>\n",
              "    <tr>\n",
              "      <th>707984</th>\n",
              "      <td>[GN2001]</td>\n",
              "      <td>19991219</td>\n",
              "      <td>The Best Best Of The Black President</td>\n",
              "      <td>65254</td>\n",
              "      <td>[166499]</td>\n",
              "      <td>Coffin For Head Of State</td>\n",
              "      <td>[GN2000]</td>\n",
              "      <td>[Fela Kuti]</td>\n",
              "      <td>707984</td>\n",
              "      <td>FelaKuti</td>\n",
              "      <td>[FelaKuti]</td>\n",
              "    </tr>\n",
              "    <tr>\n",
              "      <th>707985</th>\n",
              "      <td>[GN0901]</td>\n",
              "      <td>19860000</td>\n",
              "      <td>True Colors</td>\n",
              "      <td>44141</td>\n",
              "      <td>[11837]</td>\n",
              "      <td>Change Of Heart</td>\n",
              "      <td>[GN0900]</td>\n",
              "      <td>[Cyndi Lauper]</td>\n",
              "      <td>707985</td>\n",
              "      <td>CyndiLauper</td>\n",
              "      <td>[CyndiLauper]</td>\n",
              "    </tr>\n",
              "    <tr>\n",
              "      <th>707986</th>\n",
              "      <td>[GN0105, GN0101]</td>\n",
              "      <td>20160120</td>\n",
              "      <td>행보 2015 윤종신 / 작사가 윤종신 Live Part.1</td>\n",
              "      <td>2662866</td>\n",
              "      <td>[437]</td>\n",
              "      <td>스치듯 안녕</td>\n",
              "      <td>[GN0100]</td>\n",
              "      <td>[윤종신]</td>\n",
              "      <td>707986</td>\n",
              "      <td>윤종신</td>\n",
              "      <td>[윤종신]</td>\n",
              "    </tr>\n",
              "    <tr>\n",
              "      <th>707987</th>\n",
              "      <td>[GN1807, GN1801]</td>\n",
              "      <td>20131217</td>\n",
              "      <td>명상의 시간을 위한 뉴에이지 음악</td>\n",
              "      <td>2221722</td>\n",
              "      <td>[729868]</td>\n",
              "      <td>숲의 빛</td>\n",
              "      <td>[GN1800]</td>\n",
              "      <td>[Nature Piano]</td>\n",
              "      <td>707987</td>\n",
              "      <td>NaturePiano</td>\n",
              "      <td>[NaturePiano]</td>\n",
              "    </tr>\n",
              "    <tr>\n",
              "      <th>707988</th>\n",
              "      <td>[GN0601, GN0604]</td>\n",
              "      <td>19980000</td>\n",
              "      <td>김경호 Live</td>\n",
              "      <td>34663</td>\n",
              "      <td>[895]</td>\n",
              "      <td>Queen 명곡 멜로디</td>\n",
              "      <td>[GN0600]</td>\n",
              "      <td>[김경호]</td>\n",
              "      <td>707988</td>\n",
              "      <td>김경호</td>\n",
              "      <td>[김경호]</td>\n",
              "    </tr>\n",
              "  </tbody>\n",
              "</table>\n",
              "<p>707989 rows × 11 columns</p>\n",
              "</div>"
            ],
            "text/plain": [
              "       song_gn_dtl_gnr_basket  issue_date  ...          artist       artist_list\n",
              "0                    [GN0901]    20140512  ...  VariousArtists  [VariousArtists]\n",
              "1            [GN1601, GN1606]    20080421  ...   MurrayPerahia   [MurrayPerahia]\n",
              "2                    [GN0901]    20180518  ...    PeterGabriel    [PeterGabriel]\n",
              "3            [GN1102, GN1101]    20151016  ...          Matoma          [Matoma]\n",
              "4            [GN1802, GN1801]    20110824  ...         JudeLaw         [JudeLaw]\n",
              "...                       ...         ...  ...             ...               ...\n",
              "707984               [GN2001]    19991219  ...        FelaKuti        [FelaKuti]\n",
              "707985               [GN0901]    19860000  ...     CyndiLauper     [CyndiLauper]\n",
              "707986       [GN0105, GN0101]    20160120  ...             윤종신             [윤종신]\n",
              "707987       [GN1807, GN1801]    20131217  ...     NaturePiano     [NaturePiano]\n",
              "707988       [GN0601, GN0604]    19980000  ...             김경호             [김경호]\n",
              "\n",
              "[707989 rows x 11 columns]"
            ]
          },
          "metadata": {
            "tags": []
          },
          "execution_count": 19
        }
      ]
    },
    {
      "cell_type": "code",
      "metadata": {
        "id": "8EvRZqQBCEam",
        "colab_type": "code",
        "outputId": "9b8a8814-fcf0-4939-93ab-5251ffc6c1f7",
        "colab": {
          "base_uri": "https://localhost:8080/",
          "height": 161
        }
      },
      "source": [
        "song_meta[song_meta.id ==  143370]"
      ],
      "execution_count": 20,
      "outputs": [
        {
          "output_type": "execute_result",
          "data": {
            "text/html": [
              "<div>\n",
              "<style scoped>\n",
              "    .dataframe tbody tr th:only-of-type {\n",
              "        vertical-align: middle;\n",
              "    }\n",
              "\n",
              "    .dataframe tbody tr th {\n",
              "        vertical-align: top;\n",
              "    }\n",
              "\n",
              "    .dataframe thead th {\n",
              "        text-align: right;\n",
              "    }\n",
              "</style>\n",
              "<table border=\"1\" class=\"dataframe\">\n",
              "  <thead>\n",
              "    <tr style=\"text-align: right;\">\n",
              "      <th></th>\n",
              "      <th>song_gn_dtl_gnr_basket</th>\n",
              "      <th>issue_date</th>\n",
              "      <th>album_name</th>\n",
              "      <th>album_id</th>\n",
              "      <th>artist_id_basket</th>\n",
              "      <th>song_name</th>\n",
              "      <th>song_gn_gnr_basket</th>\n",
              "      <th>artist_name_basket</th>\n",
              "      <th>id</th>\n",
              "      <th>artist</th>\n",
              "      <th>artist_list</th>\n",
              "    </tr>\n",
              "  </thead>\n",
              "  <tbody>\n",
              "    <tr>\n",
              "      <th>143370</th>\n",
              "      <td>[GN0105, GN0101]</td>\n",
              "      <td>20161222</td>\n",
              "      <td>Hooxi, The Beginning</td>\n",
              "      <td>10025184</td>\n",
              "      <td>[406421, 1692, 108358, 1284767, 18199, 601979,...</td>\n",
              "      <td>Talk About Love</td>\n",
              "      <td>[GN0100]</td>\n",
              "      <td>[티파니 (TIFFANY), 김종국, 다이나믹 듀오, 여진구, 김유정, 에디킴, 전...</td>\n",
              "      <td>143370</td>\n",
              "      <td>티파니(TIFFANY),김종국,다이나믹듀오,여진구,김유정,에디킴,전현무,유인영,김수...</td>\n",
              "      <td>[티파니(TIFFANY), 김종국, 다이나믹듀오, 여진구, 김유정, 에디킴, 전현무...</td>\n",
              "    </tr>\n",
              "  </tbody>\n",
              "</table>\n",
              "</div>"
            ],
            "text/plain": [
              "       song_gn_dtl_gnr_basket  ...                                        artist_list\n",
              "143370       [GN0105, GN0101]  ...  [티파니(TIFFANY), 김종국, 다이나믹듀오, 여진구, 김유정, 에디킴, 전현무...\n",
              "\n",
              "[1 rows x 11 columns]"
            ]
          },
          "metadata": {
            "tags": []
          },
          "execution_count": 20
        }
      ]
    },
    {
      "cell_type": "code",
      "metadata": {
        "id": "35rsOZBGB_nD",
        "colab_type": "code",
        "outputId": "5c0bd0b5-f745-4005-c886-7bffcaf871f0",
        "colab": {
          "base_uri": "https://localhost:8080/",
          "height": 181
        }
      },
      "source": [
        "song_meta[song_meta.id ==  328016]"
      ],
      "execution_count": 21,
      "outputs": [
        {
          "output_type": "execute_result",
          "data": {
            "text/html": [
              "<div>\n",
              "<style scoped>\n",
              "    .dataframe tbody tr th:only-of-type {\n",
              "        vertical-align: middle;\n",
              "    }\n",
              "\n",
              "    .dataframe tbody tr th {\n",
              "        vertical-align: top;\n",
              "    }\n",
              "\n",
              "    .dataframe thead th {\n",
              "        text-align: right;\n",
              "    }\n",
              "</style>\n",
              "<table border=\"1\" class=\"dataframe\">\n",
              "  <thead>\n",
              "    <tr style=\"text-align: right;\">\n",
              "      <th></th>\n",
              "      <th>song_gn_dtl_gnr_basket</th>\n",
              "      <th>issue_date</th>\n",
              "      <th>album_name</th>\n",
              "      <th>album_id</th>\n",
              "      <th>artist_id_basket</th>\n",
              "      <th>song_name</th>\n",
              "      <th>song_gn_gnr_basket</th>\n",
              "      <th>artist_name_basket</th>\n",
              "      <th>id</th>\n",
              "      <th>artist</th>\n",
              "      <th>artist_list</th>\n",
              "    </tr>\n",
              "  </thead>\n",
              "  <tbody>\n",
              "    <tr>\n",
              "      <th>328016</th>\n",
              "      <td>[GN2001]</td>\n",
              "      <td>20180327</td>\n",
              "      <td>The Traditional Ballads Of Iceland 오로라 같은 매력의 ...</td>\n",
              "      <td>10150938</td>\n",
              "      <td>[2112445, 2112446]</td>\n",
              "      <td>Consolation</td>\n",
              "      <td>[GN2000]</td>\n",
              "      <td>[Anna Palina, , Draupner]</td>\n",
              "      <td>328016</td>\n",
              "      <td>AnnaPalina,Draupner</td>\n",
              "      <td>[AnnaPalina, Draupner]</td>\n",
              "    </tr>\n",
              "  </tbody>\n",
              "</table>\n",
              "</div>"
            ],
            "text/plain": [
              "       song_gn_dtl_gnr_basket  ...             artist_list\n",
              "328016               [GN2001]  ...  [AnnaPalina, Draupner]\n",
              "\n",
              "[1 rows x 11 columns]"
            ]
          },
          "metadata": {
            "tags": []
          },
          "execution_count": 21
        }
      ]
    },
    {
      "cell_type": "code",
      "metadata": {
        "id": "0PYWvpuaC2lG",
        "colab_type": "code",
        "outputId": "c3f433de-cf04-4310-8817-903917ea5b96",
        "colab": {
          "base_uri": "https://localhost:8080/",
          "height": 464
        }
      },
      "source": [
        "song_meta[song_meta['artist']=='AnnaPalina'].head()"
      ],
      "execution_count": 22,
      "outputs": [
        {
          "output_type": "execute_result",
          "data": {
            "text/html": [
              "<div>\n",
              "<style scoped>\n",
              "    .dataframe tbody tr th:only-of-type {\n",
              "        vertical-align: middle;\n",
              "    }\n",
              "\n",
              "    .dataframe tbody tr th {\n",
              "        vertical-align: top;\n",
              "    }\n",
              "\n",
              "    .dataframe thead th {\n",
              "        text-align: right;\n",
              "    }\n",
              "</style>\n",
              "<table border=\"1\" class=\"dataframe\">\n",
              "  <thead>\n",
              "    <tr style=\"text-align: right;\">\n",
              "      <th></th>\n",
              "      <th>song_gn_dtl_gnr_basket</th>\n",
              "      <th>issue_date</th>\n",
              "      <th>album_name</th>\n",
              "      <th>album_id</th>\n",
              "      <th>artist_id_basket</th>\n",
              "      <th>song_name</th>\n",
              "      <th>song_gn_gnr_basket</th>\n",
              "      <th>artist_name_basket</th>\n",
              "      <th>id</th>\n",
              "      <th>artist</th>\n",
              "      <th>artist_list</th>\n",
              "    </tr>\n",
              "  </thead>\n",
              "  <tbody>\n",
              "    <tr>\n",
              "      <th>54623</th>\n",
              "      <td>[GN1701]</td>\n",
              "      <td>20180327</td>\n",
              "      <td>Mountain and Shore 감성을 흔드는 북유럽 보컬 재즈 (Iceland ...</td>\n",
              "      <td>10151359</td>\n",
              "      <td>[2112445]</td>\n",
              "      <td>Song Of The Ocean</td>\n",
              "      <td>[GN1700]</td>\n",
              "      <td>[Anna Palina ]</td>\n",
              "      <td>54623</td>\n",
              "      <td>AnnaPalina</td>\n",
              "      <td>[AnnaPalina]</td>\n",
              "    </tr>\n",
              "    <tr>\n",
              "      <th>70175</th>\n",
              "      <td>[GN2001]</td>\n",
              "      <td>20180327</td>\n",
              "      <td>My Lord and Old Ladies 나의 군주 그리고 나이든 여인 (북유럽 음...</td>\n",
              "      <td>10151318</td>\n",
              "      <td>[2112445]</td>\n",
              "      <td>Lord</td>\n",
              "      <td>[GN2000]</td>\n",
              "      <td>[Anna Palina ]</td>\n",
              "      <td>70175</td>\n",
              "      <td>AnnaPalina</td>\n",
              "      <td>[AnnaPalina]</td>\n",
              "    </tr>\n",
              "    <tr>\n",
              "      <th>123748</th>\n",
              "      <td>[GN2001]</td>\n",
              "      <td>20180327</td>\n",
              "      <td>My Lord and Old Ladies 나의 군주 그리고 나이든 여인 (북유럽 음...</td>\n",
              "      <td>10151318</td>\n",
              "      <td>[2112445]</td>\n",
              "      <td>The Rose</td>\n",
              "      <td>[GN2000]</td>\n",
              "      <td>[Anna Palina ]</td>\n",
              "      <td>123748</td>\n",
              "      <td>AnnaPalina</td>\n",
              "      <td>[AnnaPalina]</td>\n",
              "    </tr>\n",
              "    <tr>\n",
              "      <th>164518</th>\n",
              "      <td>[GN1701]</td>\n",
              "      <td>20180327</td>\n",
              "      <td>Mountain and Shore 감성을 흔드는 북유럽 보컬 재즈 (Iceland ...</td>\n",
              "      <td>10151359</td>\n",
              "      <td>[2112445]</td>\n",
              "      <td>Autumn Leaves</td>\n",
              "      <td>[GN1700]</td>\n",
              "      <td>[Anna Palina ]</td>\n",
              "      <td>164518</td>\n",
              "      <td>AnnaPalina</td>\n",
              "      <td>[AnnaPalina]</td>\n",
              "    </tr>\n",
              "    <tr>\n",
              "      <th>236301</th>\n",
              "      <td>[GN1701]</td>\n",
              "      <td>20180327</td>\n",
              "      <td>Bluebird 일상이 영화가 되는 로맨틱 보컬 재즈 (북유럽 음악, 모던, 보사노...</td>\n",
              "      <td>10151326</td>\n",
              "      <td>[2112445]</td>\n",
              "      <td>I´M Getting Sentimental Over You</td>\n",
              "      <td>[GN1700]</td>\n",
              "      <td>[Anna Palina ]</td>\n",
              "      <td>236301</td>\n",
              "      <td>AnnaPalina</td>\n",
              "      <td>[AnnaPalina]</td>\n",
              "    </tr>\n",
              "  </tbody>\n",
              "</table>\n",
              "</div>"
            ],
            "text/plain": [
              "       song_gn_dtl_gnr_basket  issue_date  ...      artist   artist_list\n",
              "54623                [GN1701]    20180327  ...  AnnaPalina  [AnnaPalina]\n",
              "70175                [GN2001]    20180327  ...  AnnaPalina  [AnnaPalina]\n",
              "123748               [GN2001]    20180327  ...  AnnaPalina  [AnnaPalina]\n",
              "164518               [GN1701]    20180327  ...  AnnaPalina  [AnnaPalina]\n",
              "236301               [GN1701]    20180327  ...  AnnaPalina  [AnnaPalina]\n",
              "\n",
              "[5 rows x 11 columns]"
            ]
          },
          "metadata": {
            "tags": []
          },
          "execution_count": 22
        }
      ]
    },
    {
      "cell_type": "markdown",
      "metadata": {
        "id": "6WEIkmu3Daby",
        "colab_type": "text"
      },
      "source": [
        "노래 별 아티스트 프레임을 다시 만들어 보자."
      ]
    },
    {
      "cell_type": "code",
      "metadata": {
        "id": "XzLcj9J7DiUS",
        "colab_type": "code",
        "colab": {}
      },
      "source": [
        "song_id=np.repeat(song_meta['id'].values,list(map(len,song_meta.artist_list)))\n",
        "artist_list=list(np.concatenate(song_meta['artist_list'].values))\n",
        "\n",
        "song_artist=pd.DataFrame({'song_id':song_id,'artist' : artist_list})"
      ],
      "execution_count": 0,
      "outputs": []
    },
    {
      "cell_type": "code",
      "metadata": {
        "id": "CH07kIQTDtcZ",
        "colab_type": "code",
        "outputId": "1b3f39b6-358f-4522-bc3b-d750337557dc",
        "colab": {
          "base_uri": "https://localhost:8080/",
          "height": 373
        }
      },
      "source": [
        "song_artist[song_artist['artist']=='']"
      ],
      "execution_count": 24,
      "outputs": [
        {
          "output_type": "execute_result",
          "data": {
            "text/html": [
              "<div>\n",
              "<style scoped>\n",
              "    .dataframe tbody tr th:only-of-type {\n",
              "        vertical-align: middle;\n",
              "    }\n",
              "\n",
              "    .dataframe tbody tr th {\n",
              "        vertical-align: top;\n",
              "    }\n",
              "\n",
              "    .dataframe thead th {\n",
              "        text-align: right;\n",
              "    }\n",
              "</style>\n",
              "<table border=\"1\" class=\"dataframe\">\n",
              "  <thead>\n",
              "    <tr style=\"text-align: right;\">\n",
              "      <th></th>\n",
              "      <th>song_id</th>\n",
              "      <th>artist</th>\n",
              "    </tr>\n",
              "  </thead>\n",
              "  <tbody>\n",
              "    <tr>\n",
              "      <th>101093</th>\n",
              "      <td>91741</td>\n",
              "      <td></td>\n",
              "    </tr>\n",
              "    <tr>\n",
              "      <th>111209</th>\n",
              "      <td>100944</td>\n",
              "      <td></td>\n",
              "    </tr>\n",
              "    <tr>\n",
              "      <th>143732</th>\n",
              "      <td>130390</td>\n",
              "      <td></td>\n",
              "    </tr>\n",
              "    <tr>\n",
              "      <th>228587</th>\n",
              "      <td>207607</td>\n",
              "      <td></td>\n",
              "    </tr>\n",
              "    <tr>\n",
              "      <th>261195</th>\n",
              "      <td>237323</td>\n",
              "      <td></td>\n",
              "    </tr>\n",
              "    <tr>\n",
              "      <th>267036</th>\n",
              "      <td>242621</td>\n",
              "      <td></td>\n",
              "    </tr>\n",
              "    <tr>\n",
              "      <th>312232</th>\n",
              "      <td>283597</td>\n",
              "      <td></td>\n",
              "    </tr>\n",
              "    <tr>\n",
              "      <th>373263</th>\n",
              "      <td>339036</td>\n",
              "      <td></td>\n",
              "    </tr>\n",
              "    <tr>\n",
              "      <th>408174</th>\n",
              "      <td>370766</td>\n",
              "      <td></td>\n",
              "    </tr>\n",
              "    <tr>\n",
              "      <th>742655</th>\n",
              "      <td>674536</td>\n",
              "      <td></td>\n",
              "    </tr>\n",
              "    <tr>\n",
              "      <th>770520</th>\n",
              "      <td>699788</td>\n",
              "      <td></td>\n",
              "    </tr>\n",
              "  </tbody>\n",
              "</table>\n",
              "</div>"
            ],
            "text/plain": [
              "        song_id artist\n",
              "101093    91741       \n",
              "111209   100944       \n",
              "143732   130390       \n",
              "228587   207607       \n",
              "261195   237323       \n",
              "267036   242621       \n",
              "312232   283597       \n",
              "373263   339036       \n",
              "408174   370766       \n",
              "742655   674536       \n",
              "770520   699788       "
            ]
          },
          "metadata": {
            "tags": []
          },
          "execution_count": 24
        }
      ]
    },
    {
      "cell_type": "markdown",
      "metadata": {
        "id": "PsE_AGl-D8C3",
        "colab_type": "text"
      },
      "source": [
        "이상하게 이름을 받지 못하는 경우가 계속 발생하는데 어떤 이유인지 찾아보자."
      ]
    },
    {
      "cell_type": "code",
      "metadata": {
        "id": "paNSwts5tC9d",
        "colab_type": "code",
        "outputId": "781afe54-1c4f-4757-a309-38c52dea593a",
        "colab": {
          "base_uri": "https://localhost:8080/",
          "height": 404
        }
      },
      "source": [
        "for id in song_artist[song_artist['artist']==''].song_id:\n",
        "  print(song_meta.loc[song_meta['id']==id,'artist'])"
      ],
      "execution_count": 25,
      "outputs": [
        {
          "output_type": "stream",
          "text": [
            "91741    uchuu,\n",
            "Name: artist, dtype: object\n",
            "100944    Route,\n",
            "Name: artist, dtype: object\n",
            "130390    uchuu,\n",
            "Name: artist, dtype: object\n",
            "207607    A`Typisk,\n",
            "Name: artist, dtype: object\n",
            "237323    uchuu,\n",
            "Name: artist, dtype: object\n",
            "242621    uchuu,\n",
            "Name: artist, dtype: object\n",
            "283597    uchuu,\n",
            "Name: artist, dtype: object\n",
            "339036    uchuu,\n",
            "Name: artist, dtype: object\n",
            "370766    ThiloWolfBigBand&Trio,\n",
            "Name: artist, dtype: object\n",
            "674536    uchuu,\n",
            "Name: artist, dtype: object\n",
            "699788    HenriLanz,SkinnyWilliams,WILLIAMRAPPAPORT,\n",
            "Name: artist, dtype: object\n"
          ],
          "name": "stdout"
        }
      ]
    },
    {
      "cell_type": "markdown",
      "metadata": {
        "id": "xifQHu5Yt-sP",
        "colab_type": "text"
      },
      "source": [
        "보이는 경우처럼 맨뒤(인덱싱[-1])부분이 ','로 되어 있는 경우에 이러한 상황이 발생하는 것으로 보인다."
      ]
    },
    {
      "cell_type": "code",
      "metadata": {
        "id": "HVzRlanXuFc0",
        "colab_type": "code",
        "colab": {}
      },
      "source": [
        "song_meta['artist'] = song_meta['artist'].apply(lambda x:x.rstrip(','))"
      ],
      "execution_count": 0,
      "outputs": []
    },
    {
      "cell_type": "code",
      "metadata": {
        "id": "eb1pVYjGvsyB",
        "colab_type": "code",
        "outputId": "97ad2f6a-84dd-48bc-a70f-e083fc45ef13",
        "colab": {
          "base_uri": "https://localhost:8080/",
          "height": 404
        }
      },
      "source": [
        "for id in song_artist[song_artist['artist']==''].song_id:\n",
        "  print(song_meta.loc[song_meta['id']==id,'artist'])"
      ],
      "execution_count": 27,
      "outputs": [
        {
          "output_type": "stream",
          "text": [
            "91741    uchuu\n",
            "Name: artist, dtype: object\n",
            "100944    Route\n",
            "Name: artist, dtype: object\n",
            "130390    uchuu\n",
            "Name: artist, dtype: object\n",
            "207607    A`Typisk\n",
            "Name: artist, dtype: object\n",
            "237323    uchuu\n",
            "Name: artist, dtype: object\n",
            "242621    uchuu\n",
            "Name: artist, dtype: object\n",
            "283597    uchuu\n",
            "Name: artist, dtype: object\n",
            "339036    uchuu\n",
            "Name: artist, dtype: object\n",
            "370766    ThiloWolfBigBand&Trio\n",
            "Name: artist, dtype: object\n",
            "674536    uchuu\n",
            "Name: artist, dtype: object\n",
            "699788    HenriLanz,SkinnyWilliams,WILLIAMRAPPAPORT\n",
            "Name: artist, dtype: object\n"
          ],
          "name": "stdout"
        }
      ]
    },
    {
      "cell_type": "markdown",
      "metadata": {
        "id": "k0uzAERgvxWj",
        "colab_type": "text"
      },
      "source": [
        "정상적으로 삭제된 것을 확인할 수 있다."
      ]
    },
    {
      "cell_type": "code",
      "metadata": {
        "id": "r9NvFtwMv0B4",
        "colab_type": "code",
        "colab": {}
      },
      "source": [
        "# artist 컬럼에 다시 적용\n",
        "song_meta['artist_list']=song_meta['artist'].apply(lambda x: x.split(','))"
      ],
      "execution_count": 0,
      "outputs": []
    },
    {
      "cell_type": "code",
      "metadata": {
        "id": "wCYTTfdgv74Z",
        "colab_type": "code",
        "colab": {
          "base_uri": "https://localhost:8080/",
          "height": 351
        },
        "outputId": "c1409b5e-1be4-4040-c0d7-2a1a881ef354"
      },
      "source": [
        "song_id=np.repeat(song_meta['id'].values,list(map(len,song_meta.artist_list)))\n",
        "artist_list=list(np.concatenate(song_meta['artist_list'].values))\n",
        "\n",
        "song_artist=pd.DataFrame({'song_id':song_id,'artist' : artist_list})\n",
        "\n",
        "# song_id=np.repeat(song_meta['id'].values,list(map(len,song_meta.artist_id_basket)))\n",
        "# artist_list=list(np.concatenate(song_meta['artist_id_basket'].values))\n",
        "# song_artist['artist_id'] = artist_list"
      ],
      "execution_count": 40,
      "outputs": [
        {
          "output_type": "error",
          "ename": "ValueError",
          "evalue": "ignored",
          "traceback": [
            "\u001b[0;31m---------------------------------------------------------------------------\u001b[0m",
            "\u001b[0;31mValueError\u001b[0m                                Traceback (most recent call last)",
            "\u001b[0;32m<ipython-input-40-960343025a02>\u001b[0m in \u001b[0;36m<module>\u001b[0;34m()\u001b[0m\n\u001b[1;32m      6\u001b[0m \u001b[0msong_id\u001b[0m\u001b[0;34m=\u001b[0m\u001b[0mnp\u001b[0m\u001b[0;34m.\u001b[0m\u001b[0mrepeat\u001b[0m\u001b[0;34m(\u001b[0m\u001b[0msong_meta\u001b[0m\u001b[0;34m[\u001b[0m\u001b[0;34m'id'\u001b[0m\u001b[0;34m]\u001b[0m\u001b[0;34m.\u001b[0m\u001b[0mvalues\u001b[0m\u001b[0;34m,\u001b[0m\u001b[0mlist\u001b[0m\u001b[0;34m(\u001b[0m\u001b[0mmap\u001b[0m\u001b[0;34m(\u001b[0m\u001b[0mlen\u001b[0m\u001b[0;34m,\u001b[0m\u001b[0msong_meta\u001b[0m\u001b[0;34m.\u001b[0m\u001b[0martist_id_basket\u001b[0m\u001b[0;34m)\u001b[0m\u001b[0;34m)\u001b[0m\u001b[0;34m)\u001b[0m\u001b[0;34m\u001b[0m\u001b[0;34m\u001b[0m\u001b[0m\n\u001b[1;32m      7\u001b[0m \u001b[0martist_list\u001b[0m\u001b[0;34m=\u001b[0m\u001b[0mlist\u001b[0m\u001b[0;34m(\u001b[0m\u001b[0mnp\u001b[0m\u001b[0;34m.\u001b[0m\u001b[0mconcatenate\u001b[0m\u001b[0;34m(\u001b[0m\u001b[0msong_meta\u001b[0m\u001b[0;34m[\u001b[0m\u001b[0;34m'artist_id_basket'\u001b[0m\u001b[0;34m]\u001b[0m\u001b[0;34m.\u001b[0m\u001b[0mvalues\u001b[0m\u001b[0;34m)\u001b[0m\u001b[0;34m)\u001b[0m\u001b[0;34m\u001b[0m\u001b[0;34m\u001b[0m\u001b[0m\n\u001b[0;32m----> 8\u001b[0;31m \u001b[0msong_artist\u001b[0m\u001b[0;34m[\u001b[0m\u001b[0;34m'artist_id'\u001b[0m\u001b[0;34m]\u001b[0m \u001b[0;34m=\u001b[0m \u001b[0martist_list\u001b[0m\u001b[0;34m\u001b[0m\u001b[0;34m\u001b[0m\u001b[0m\n\u001b[0m",
            "\u001b[0;32m/usr/local/lib/python3.6/dist-packages/pandas/core/frame.py\u001b[0m in \u001b[0;36m__setitem__\u001b[0;34m(self, key, value)\u001b[0m\n\u001b[1;32m   2936\u001b[0m         \u001b[0;32melse\u001b[0m\u001b[0;34m:\u001b[0m\u001b[0;34m\u001b[0m\u001b[0;34m\u001b[0m\u001b[0m\n\u001b[1;32m   2937\u001b[0m             \u001b[0;31m# set column\u001b[0m\u001b[0;34m\u001b[0m\u001b[0;34m\u001b[0m\u001b[0;34m\u001b[0m\u001b[0m\n\u001b[0;32m-> 2938\u001b[0;31m             \u001b[0mself\u001b[0m\u001b[0;34m.\u001b[0m\u001b[0m_set_item\u001b[0m\u001b[0;34m(\u001b[0m\u001b[0mkey\u001b[0m\u001b[0;34m,\u001b[0m \u001b[0mvalue\u001b[0m\u001b[0;34m)\u001b[0m\u001b[0;34m\u001b[0m\u001b[0;34m\u001b[0m\u001b[0m\n\u001b[0m\u001b[1;32m   2939\u001b[0m \u001b[0;34m\u001b[0m\u001b[0m\n\u001b[1;32m   2940\u001b[0m     \u001b[0;32mdef\u001b[0m \u001b[0m_setitem_slice\u001b[0m\u001b[0;34m(\u001b[0m\u001b[0mself\u001b[0m\u001b[0;34m,\u001b[0m \u001b[0mkey\u001b[0m\u001b[0;34m,\u001b[0m \u001b[0mvalue\u001b[0m\u001b[0;34m)\u001b[0m\u001b[0;34m:\u001b[0m\u001b[0;34m\u001b[0m\u001b[0;34m\u001b[0m\u001b[0m\n",
            "\u001b[0;32m/usr/local/lib/python3.6/dist-packages/pandas/core/frame.py\u001b[0m in \u001b[0;36m_set_item\u001b[0;34m(self, key, value)\u001b[0m\n\u001b[1;32m   2998\u001b[0m \u001b[0;34m\u001b[0m\u001b[0m\n\u001b[1;32m   2999\u001b[0m         \u001b[0mself\u001b[0m\u001b[0;34m.\u001b[0m\u001b[0m_ensure_valid_index\u001b[0m\u001b[0;34m(\u001b[0m\u001b[0mvalue\u001b[0m\u001b[0;34m)\u001b[0m\u001b[0;34m\u001b[0m\u001b[0;34m\u001b[0m\u001b[0m\n\u001b[0;32m-> 3000\u001b[0;31m         \u001b[0mvalue\u001b[0m \u001b[0;34m=\u001b[0m \u001b[0mself\u001b[0m\u001b[0;34m.\u001b[0m\u001b[0m_sanitize_column\u001b[0m\u001b[0;34m(\u001b[0m\u001b[0mkey\u001b[0m\u001b[0;34m,\u001b[0m \u001b[0mvalue\u001b[0m\u001b[0;34m)\u001b[0m\u001b[0;34m\u001b[0m\u001b[0;34m\u001b[0m\u001b[0m\n\u001b[0m\u001b[1;32m   3001\u001b[0m         \u001b[0mNDFrame\u001b[0m\u001b[0;34m.\u001b[0m\u001b[0m_set_item\u001b[0m\u001b[0;34m(\u001b[0m\u001b[0mself\u001b[0m\u001b[0;34m,\u001b[0m \u001b[0mkey\u001b[0m\u001b[0;34m,\u001b[0m \u001b[0mvalue\u001b[0m\u001b[0;34m)\u001b[0m\u001b[0;34m\u001b[0m\u001b[0;34m\u001b[0m\u001b[0m\n\u001b[1;32m   3002\u001b[0m \u001b[0;34m\u001b[0m\u001b[0m\n",
            "\u001b[0;32m/usr/local/lib/python3.6/dist-packages/pandas/core/frame.py\u001b[0m in \u001b[0;36m_sanitize_column\u001b[0;34m(self, key, value, broadcast)\u001b[0m\n\u001b[1;32m   3634\u001b[0m \u001b[0;34m\u001b[0m\u001b[0m\n\u001b[1;32m   3635\u001b[0m             \u001b[0;31m# turn me into an ndarray\u001b[0m\u001b[0;34m\u001b[0m\u001b[0;34m\u001b[0m\u001b[0;34m\u001b[0m\u001b[0m\n\u001b[0;32m-> 3636\u001b[0;31m             \u001b[0mvalue\u001b[0m \u001b[0;34m=\u001b[0m \u001b[0msanitize_index\u001b[0m\u001b[0;34m(\u001b[0m\u001b[0mvalue\u001b[0m\u001b[0;34m,\u001b[0m \u001b[0mself\u001b[0m\u001b[0;34m.\u001b[0m\u001b[0mindex\u001b[0m\u001b[0;34m,\u001b[0m \u001b[0mcopy\u001b[0m\u001b[0;34m=\u001b[0m\u001b[0;32mFalse\u001b[0m\u001b[0;34m)\u001b[0m\u001b[0;34m\u001b[0m\u001b[0;34m\u001b[0m\u001b[0m\n\u001b[0m\u001b[1;32m   3637\u001b[0m             \u001b[0;32mif\u001b[0m \u001b[0;32mnot\u001b[0m \u001b[0misinstance\u001b[0m\u001b[0;34m(\u001b[0m\u001b[0mvalue\u001b[0m\u001b[0;34m,\u001b[0m \u001b[0;34m(\u001b[0m\u001b[0mnp\u001b[0m\u001b[0;34m.\u001b[0m\u001b[0mndarray\u001b[0m\u001b[0;34m,\u001b[0m \u001b[0mIndex\u001b[0m\u001b[0;34m)\u001b[0m\u001b[0;34m)\u001b[0m\u001b[0;34m:\u001b[0m\u001b[0;34m\u001b[0m\u001b[0;34m\u001b[0m\u001b[0m\n\u001b[1;32m   3638\u001b[0m                 \u001b[0;32mif\u001b[0m \u001b[0misinstance\u001b[0m\u001b[0;34m(\u001b[0m\u001b[0mvalue\u001b[0m\u001b[0;34m,\u001b[0m \u001b[0mlist\u001b[0m\u001b[0;34m)\u001b[0m \u001b[0;32mand\u001b[0m \u001b[0mlen\u001b[0m\u001b[0;34m(\u001b[0m\u001b[0mvalue\u001b[0m\u001b[0;34m)\u001b[0m \u001b[0;34m>\u001b[0m \u001b[0;36m0\u001b[0m\u001b[0;34m:\u001b[0m\u001b[0;34m\u001b[0m\u001b[0;34m\u001b[0m\u001b[0m\n",
            "\u001b[0;32m/usr/local/lib/python3.6/dist-packages/pandas/core/internals/construction.py\u001b[0m in \u001b[0;36msanitize_index\u001b[0;34m(data, index, copy)\u001b[0m\n\u001b[1;32m    609\u001b[0m \u001b[0;34m\u001b[0m\u001b[0m\n\u001b[1;32m    610\u001b[0m     \u001b[0;32mif\u001b[0m \u001b[0mlen\u001b[0m\u001b[0;34m(\u001b[0m\u001b[0mdata\u001b[0m\u001b[0;34m)\u001b[0m \u001b[0;34m!=\u001b[0m \u001b[0mlen\u001b[0m\u001b[0;34m(\u001b[0m\u001b[0mindex\u001b[0m\u001b[0;34m)\u001b[0m\u001b[0;34m:\u001b[0m\u001b[0;34m\u001b[0m\u001b[0;34m\u001b[0m\u001b[0m\n\u001b[0;32m--> 611\u001b[0;31m         \u001b[0;32mraise\u001b[0m \u001b[0mValueError\u001b[0m\u001b[0;34m(\u001b[0m\u001b[0;34m\"Length of values does not match length of index\"\u001b[0m\u001b[0;34m)\u001b[0m\u001b[0;34m\u001b[0m\u001b[0;34m\u001b[0m\u001b[0m\n\u001b[0m\u001b[1;32m    612\u001b[0m \u001b[0;34m\u001b[0m\u001b[0m\n\u001b[1;32m    613\u001b[0m     \u001b[0;32mif\u001b[0m \u001b[0misinstance\u001b[0m\u001b[0;34m(\u001b[0m\u001b[0mdata\u001b[0m\u001b[0;34m,\u001b[0m \u001b[0mABCIndexClass\u001b[0m\u001b[0;34m)\u001b[0m \u001b[0;32mand\u001b[0m \u001b[0;32mnot\u001b[0m \u001b[0mcopy\u001b[0m\u001b[0;34m:\u001b[0m\u001b[0;34m\u001b[0m\u001b[0;34m\u001b[0m\u001b[0m\n",
            "\u001b[0;31mValueError\u001b[0m: Length of values does not match length of index"
          ]
        }
      ]
    },
    {
      "cell_type": "code",
      "metadata": {
        "id": "XIwgP7axv_MF",
        "colab_type": "code",
        "outputId": "32ebb0e6-74b8-4e8f-f724-8d87028b9b18",
        "colab": {
          "base_uri": "https://localhost:8080/",
          "height": 47
        }
      },
      "source": [
        "song_artist[song_artist['artist']=='']"
      ],
      "execution_count": 36,
      "outputs": [
        {
          "output_type": "execute_result",
          "data": {
            "text/html": [
              "<div>\n",
              "<style scoped>\n",
              "    .dataframe tbody tr th:only-of-type {\n",
              "        vertical-align: middle;\n",
              "    }\n",
              "\n",
              "    .dataframe tbody tr th {\n",
              "        vertical-align: top;\n",
              "    }\n",
              "\n",
              "    .dataframe thead th {\n",
              "        text-align: right;\n",
              "    }\n",
              "</style>\n",
              "<table border=\"1\" class=\"dataframe\">\n",
              "  <thead>\n",
              "    <tr style=\"text-align: right;\">\n",
              "      <th></th>\n",
              "      <th>song_id</th>\n",
              "      <th>artist</th>\n",
              "    </tr>\n",
              "  </thead>\n",
              "  <tbody>\n",
              "  </tbody>\n",
              "</table>\n",
              "</div>"
            ],
            "text/plain": [
              "Empty DataFrame\n",
              "Columns: [song_id, artist]\n",
              "Index: []"
            ]
          },
          "metadata": {
            "tags": []
          },
          "execution_count": 36
        }
      ]
    },
    {
      "cell_type": "code",
      "metadata": {
        "id": "qzdCF7VoxGOo",
        "colab_type": "code",
        "outputId": "fd2702d0-4ed8-4897-9901-69751af4d55b",
        "colab": {
          "base_uri": "https://localhost:8080/",
          "height": 228
        }
      },
      "source": [
        "song_artist['artist'].value_counts()"
      ],
      "execution_count": 37,
      "outputs": [
        {
          "output_type": "execute_result",
          "data": {
            "text/plain": [
              "VariousArtists              23206\n",
              "태교마을                         1588\n",
              "BerlinerPhilharmoniker       1135\n",
              "HerbertVonKarajan             984\n",
              "WienerPhilharmoniker          821\n",
              "                            ...  \n",
              "PhilSilvers                     1\n",
              "Architt                         1\n",
              "ArethaHenry-Jones               1\n",
              "VILLAS                          1\n",
              "TallTalesTheSilverLining        1\n",
              "Name: artist, Length: 111145, dtype: int64"
            ]
          },
          "metadata": {
            "tags": []
          },
          "execution_count": 37
        }
      ]
    },
    {
      "cell_type": "markdown",
      "metadata": {
        "id": "b0mXGp5IxVXg",
        "colab_type": "text"
      },
      "source": [
        "VariousArtists에 대해 어떻게 처리해야할지 고민을 해봐야겠음"
      ]
    },
    {
      "cell_type": "code",
      "metadata": {
        "id": "WXBUjNP8xasO",
        "colab_type": "code",
        "outputId": "634faffe-9901-4b09-a6ae-1e9ceeb91670",
        "colab": {
          "base_uri": "https://localhost:8080/",
          "height": 402
        }
      },
      "source": [
        "song_artist"
      ],
      "execution_count": 38,
      "outputs": [
        {
          "output_type": "execute_result",
          "data": {
            "text/html": [
              "<div>\n",
              "<style scoped>\n",
              "    .dataframe tbody tr th:only-of-type {\n",
              "        vertical-align: middle;\n",
              "    }\n",
              "\n",
              "    .dataframe tbody tr th {\n",
              "        vertical-align: top;\n",
              "    }\n",
              "\n",
              "    .dataframe thead th {\n",
              "        text-align: right;\n",
              "    }\n",
              "</style>\n",
              "<table border=\"1\" class=\"dataframe\">\n",
              "  <thead>\n",
              "    <tr style=\"text-align: right;\">\n",
              "      <th></th>\n",
              "      <th>song_id</th>\n",
              "      <th>artist</th>\n",
              "    </tr>\n",
              "  </thead>\n",
              "  <tbody>\n",
              "    <tr>\n",
              "      <th>0</th>\n",
              "      <td>0</td>\n",
              "      <td>VariousArtists</td>\n",
              "    </tr>\n",
              "    <tr>\n",
              "      <th>1</th>\n",
              "      <td>1</td>\n",
              "      <td>MurrayPerahia</td>\n",
              "    </tr>\n",
              "    <tr>\n",
              "      <th>2</th>\n",
              "      <td>2</td>\n",
              "      <td>PeterGabriel</td>\n",
              "    </tr>\n",
              "    <tr>\n",
              "      <th>3</th>\n",
              "      <td>3</td>\n",
              "      <td>Matoma</td>\n",
              "    </tr>\n",
              "    <tr>\n",
              "      <th>4</th>\n",
              "      <td>4</td>\n",
              "      <td>JudeLaw</td>\n",
              "    </tr>\n",
              "    <tr>\n",
              "      <th>...</th>\n",
              "      <td>...</td>\n",
              "      <td>...</td>\n",
              "    </tr>\n",
              "    <tr>\n",
              "      <th>779524</th>\n",
              "      <td>707984</td>\n",
              "      <td>FelaKuti</td>\n",
              "    </tr>\n",
              "    <tr>\n",
              "      <th>779525</th>\n",
              "      <td>707985</td>\n",
              "      <td>CyndiLauper</td>\n",
              "    </tr>\n",
              "    <tr>\n",
              "      <th>779526</th>\n",
              "      <td>707986</td>\n",
              "      <td>윤종신</td>\n",
              "    </tr>\n",
              "    <tr>\n",
              "      <th>779527</th>\n",
              "      <td>707987</td>\n",
              "      <td>NaturePiano</td>\n",
              "    </tr>\n",
              "    <tr>\n",
              "      <th>779528</th>\n",
              "      <td>707988</td>\n",
              "      <td>김경호</td>\n",
              "    </tr>\n",
              "  </tbody>\n",
              "</table>\n",
              "<p>779529 rows × 2 columns</p>\n",
              "</div>"
            ],
            "text/plain": [
              "        song_id          artist\n",
              "0             0  VariousArtists\n",
              "1             1   MurrayPerahia\n",
              "2             2    PeterGabriel\n",
              "3             3          Matoma\n",
              "4             4         JudeLaw\n",
              "...         ...             ...\n",
              "779524   707984        FelaKuti\n",
              "779525   707985     CyndiLauper\n",
              "779526   707986             윤종신\n",
              "779527   707987     NaturePiano\n",
              "779528   707988             김경호\n",
              "\n",
              "[779529 rows x 2 columns]"
            ]
          },
          "metadata": {
            "tags": []
          },
          "execution_count": 38
        }
      ]
    },
    {
      "cell_type": "code",
      "metadata": {
        "id": "3pJXFaPP1Kc5",
        "colab_type": "code",
        "outputId": "d73b2e90-fd53-45b2-9ad6-58a7e90d6ccd",
        "colab": {
          "base_uri": "https://localhost:8080/",
          "height": 330
        }
      },
      "source": [
        "song_meta.head()"
      ],
      "execution_count": 39,
      "outputs": [
        {
          "output_type": "execute_result",
          "data": {
            "text/html": [
              "<div>\n",
              "<style scoped>\n",
              "    .dataframe tbody tr th:only-of-type {\n",
              "        vertical-align: middle;\n",
              "    }\n",
              "\n",
              "    .dataframe tbody tr th {\n",
              "        vertical-align: top;\n",
              "    }\n",
              "\n",
              "    .dataframe thead th {\n",
              "        text-align: right;\n",
              "    }\n",
              "</style>\n",
              "<table border=\"1\" class=\"dataframe\">\n",
              "  <thead>\n",
              "    <tr style=\"text-align: right;\">\n",
              "      <th></th>\n",
              "      <th>song_gn_dtl_gnr_basket</th>\n",
              "      <th>issue_date</th>\n",
              "      <th>album_name</th>\n",
              "      <th>album_id</th>\n",
              "      <th>artist_id_basket</th>\n",
              "      <th>song_name</th>\n",
              "      <th>song_gn_gnr_basket</th>\n",
              "      <th>artist_name_basket</th>\n",
              "      <th>id</th>\n",
              "      <th>artist</th>\n",
              "      <th>artist_list</th>\n",
              "    </tr>\n",
              "  </thead>\n",
              "  <tbody>\n",
              "    <tr>\n",
              "      <th>0</th>\n",
              "      <td>[GN0901]</td>\n",
              "      <td>20140512</td>\n",
              "      <td>불후의 명곡 - 7080 추억의 얄개시대 팝송베스트</td>\n",
              "      <td>2255639</td>\n",
              "      <td>[2727]</td>\n",
              "      <td>Feelings</td>\n",
              "      <td>[GN0900]</td>\n",
              "      <td>[Various Artists]</td>\n",
              "      <td>0</td>\n",
              "      <td>VariousArtists</td>\n",
              "      <td>[VariousArtists]</td>\n",
              "    </tr>\n",
              "    <tr>\n",
              "      <th>1</th>\n",
              "      <td>[GN1601, GN1606]</td>\n",
              "      <td>20080421</td>\n",
              "      <td>Bach : Partitas Nos. 2, 3 &amp; 4</td>\n",
              "      <td>376431</td>\n",
              "      <td>[29966]</td>\n",
              "      <td>Bach : Partita No. 4 In D Major, BWV 828 - II....</td>\n",
              "      <td>[GN1600]</td>\n",
              "      <td>[Murray Perahia]</td>\n",
              "      <td>1</td>\n",
              "      <td>MurrayPerahia</td>\n",
              "      <td>[MurrayPerahia]</td>\n",
              "    </tr>\n",
              "    <tr>\n",
              "      <th>2</th>\n",
              "      <td>[GN0901]</td>\n",
              "      <td>20180518</td>\n",
              "      <td>Hit</td>\n",
              "      <td>4698747</td>\n",
              "      <td>[3361]</td>\n",
              "      <td>Solsbury Hill (Remastered 2002)</td>\n",
              "      <td>[GN0900]</td>\n",
              "      <td>[Peter Gabriel]</td>\n",
              "      <td>2</td>\n",
              "      <td>PeterGabriel</td>\n",
              "      <td>[PeterGabriel]</td>\n",
              "    </tr>\n",
              "    <tr>\n",
              "      <th>3</th>\n",
              "      <td>[GN1102, GN1101]</td>\n",
              "      <td>20151016</td>\n",
              "      <td>Feeling Right (Everything Is Nice) (Feat. Popc...</td>\n",
              "      <td>2644882</td>\n",
              "      <td>[838543]</td>\n",
              "      <td>Feeling Right (Everything Is Nice) (Feat. Popc...</td>\n",
              "      <td>[GN1100]</td>\n",
              "      <td>[Matoma]</td>\n",
              "      <td>3</td>\n",
              "      <td>Matoma</td>\n",
              "      <td>[Matoma]</td>\n",
              "    </tr>\n",
              "    <tr>\n",
              "      <th>4</th>\n",
              "      <td>[GN1802, GN1801]</td>\n",
              "      <td>20110824</td>\n",
              "      <td>그남자 그여자</td>\n",
              "      <td>2008470</td>\n",
              "      <td>[560160]</td>\n",
              "      <td>그남자 그여자</td>\n",
              "      <td>[GN1800]</td>\n",
              "      <td>[Jude Law]</td>\n",
              "      <td>4</td>\n",
              "      <td>JudeLaw</td>\n",
              "      <td>[JudeLaw]</td>\n",
              "    </tr>\n",
              "  </tbody>\n",
              "</table>\n",
              "</div>"
            ],
            "text/plain": [
              "  song_gn_dtl_gnr_basket  issue_date  ...          artist       artist_list\n",
              "0               [GN0901]    20140512  ...  VariousArtists  [VariousArtists]\n",
              "1       [GN1601, GN1606]    20080421  ...   MurrayPerahia   [MurrayPerahia]\n",
              "2               [GN0901]    20180518  ...    PeterGabriel    [PeterGabriel]\n",
              "3       [GN1102, GN1101]    20151016  ...          Matoma          [Matoma]\n",
              "4       [GN1802, GN1801]    20110824  ...         JudeLaw         [JudeLaw]\n",
              "\n",
              "[5 rows x 11 columns]"
            ]
          },
          "metadata": {
            "tags": []
          },
          "execution_count": 39
        }
      ]
    },
    {
      "cell_type": "code",
      "metadata": {
        "id": "t3uiH3EGoyC_",
        "colab_type": "code",
        "colab": {}
      },
      "source": [
        "song_meta['artist']=song_meta['artist_name_basket'].apply(lambda x: (',').join(x))\n",
        "song_meta['artist']=song_meta['artist'].apply(lambda x: x.replace(', ',''))\n",
        "song_meta['artist']=song_meta['artist'].apply(lambda x: x.replace(',,',','))\n",
        "song_meta['artist']=song_meta['artist'].apply(lambda x: x.replace(' ',''))\n",
        "song_meta['artist_list']=song_meta['artist'].apply(lambda x: x.split(','))\n",
        "song_meta['artist'] = song_meta['artist'].apply(lambda x:x.rstrip(','))"
      ],
      "execution_count": 0,
      "outputs": []
    },
    {
      "cell_type": "code",
      "metadata": {
        "id": "Xtw0Ps-3pL9f",
        "colab_type": "code",
        "colab": {
          "base_uri": "https://localhost:8080/",
          "height": 330
        },
        "outputId": "a9461452-1bda-4555-d278-d64f5586c99f"
      },
      "source": [
        "song_meta.head()"
      ],
      "execution_count": 54,
      "outputs": [
        {
          "output_type": "execute_result",
          "data": {
            "text/html": [
              "<div>\n",
              "<style scoped>\n",
              "    .dataframe tbody tr th:only-of-type {\n",
              "        vertical-align: middle;\n",
              "    }\n",
              "\n",
              "    .dataframe tbody tr th {\n",
              "        vertical-align: top;\n",
              "    }\n",
              "\n",
              "    .dataframe thead th {\n",
              "        text-align: right;\n",
              "    }\n",
              "</style>\n",
              "<table border=\"1\" class=\"dataframe\">\n",
              "  <thead>\n",
              "    <tr style=\"text-align: right;\">\n",
              "      <th></th>\n",
              "      <th>song_gn_dtl_gnr_basket</th>\n",
              "      <th>issue_date</th>\n",
              "      <th>album_name</th>\n",
              "      <th>album_id</th>\n",
              "      <th>artist_id_basket</th>\n",
              "      <th>song_name</th>\n",
              "      <th>song_gn_gnr_basket</th>\n",
              "      <th>artist_name_basket</th>\n",
              "      <th>id</th>\n",
              "      <th>artist</th>\n",
              "      <th>artist_list</th>\n",
              "    </tr>\n",
              "  </thead>\n",
              "  <tbody>\n",
              "    <tr>\n",
              "      <th>0</th>\n",
              "      <td>[GN0901]</td>\n",
              "      <td>20140512</td>\n",
              "      <td>불후의 명곡 - 7080 추억의 얄개시대 팝송베스트</td>\n",
              "      <td>2255639</td>\n",
              "      <td>[2727]</td>\n",
              "      <td>Feelings</td>\n",
              "      <td>[GN0900]</td>\n",
              "      <td>[Various Artists]</td>\n",
              "      <td>0</td>\n",
              "      <td>VariousArtists</td>\n",
              "      <td>[VariousArtists]</td>\n",
              "    </tr>\n",
              "    <tr>\n",
              "      <th>1</th>\n",
              "      <td>[GN1601, GN1606]</td>\n",
              "      <td>20080421</td>\n",
              "      <td>Bach : Partitas Nos. 2, 3 &amp; 4</td>\n",
              "      <td>376431</td>\n",
              "      <td>[29966]</td>\n",
              "      <td>Bach : Partita No. 4 In D Major, BWV 828 - II....</td>\n",
              "      <td>[GN1600]</td>\n",
              "      <td>[Murray Perahia]</td>\n",
              "      <td>1</td>\n",
              "      <td>MurrayPerahia</td>\n",
              "      <td>[MurrayPerahia]</td>\n",
              "    </tr>\n",
              "    <tr>\n",
              "      <th>2</th>\n",
              "      <td>[GN0901]</td>\n",
              "      <td>20180518</td>\n",
              "      <td>Hit</td>\n",
              "      <td>4698747</td>\n",
              "      <td>[3361]</td>\n",
              "      <td>Solsbury Hill (Remastered 2002)</td>\n",
              "      <td>[GN0900]</td>\n",
              "      <td>[Peter Gabriel]</td>\n",
              "      <td>2</td>\n",
              "      <td>PeterGabriel</td>\n",
              "      <td>[PeterGabriel]</td>\n",
              "    </tr>\n",
              "    <tr>\n",
              "      <th>3</th>\n",
              "      <td>[GN1102, GN1101]</td>\n",
              "      <td>20151016</td>\n",
              "      <td>Feeling Right (Everything Is Nice) (Feat. Popc...</td>\n",
              "      <td>2644882</td>\n",
              "      <td>[838543]</td>\n",
              "      <td>Feeling Right (Everything Is Nice) (Feat. Popc...</td>\n",
              "      <td>[GN1100]</td>\n",
              "      <td>[Matoma]</td>\n",
              "      <td>3</td>\n",
              "      <td>Matoma</td>\n",
              "      <td>[Matoma]</td>\n",
              "    </tr>\n",
              "    <tr>\n",
              "      <th>4</th>\n",
              "      <td>[GN1802, GN1801]</td>\n",
              "      <td>20110824</td>\n",
              "      <td>그남자 그여자</td>\n",
              "      <td>2008470</td>\n",
              "      <td>[560160]</td>\n",
              "      <td>그남자 그여자</td>\n",
              "      <td>[GN1800]</td>\n",
              "      <td>[Jude Law]</td>\n",
              "      <td>4</td>\n",
              "      <td>JudeLaw</td>\n",
              "      <td>[JudeLaw]</td>\n",
              "    </tr>\n",
              "  </tbody>\n",
              "</table>\n",
              "</div>"
            ],
            "text/plain": [
              "  song_gn_dtl_gnr_basket  issue_date  ...          artist       artist_list\n",
              "0               [GN0901]    20140512  ...  VariousArtists  [VariousArtists]\n",
              "1       [GN1601, GN1606]    20080421  ...   MurrayPerahia   [MurrayPerahia]\n",
              "2               [GN0901]    20180518  ...    PeterGabriel    [PeterGabriel]\n",
              "3       [GN1102, GN1101]    20151016  ...          Matoma          [Matoma]\n",
              "4       [GN1802, GN1801]    20110824  ...         JudeLaw         [JudeLaw]\n",
              "\n",
              "[5 rows x 11 columns]"
            ]
          },
          "metadata": {
            "tags": []
          },
          "execution_count": 54
        }
      ]
    },
    {
      "cell_type": "code",
      "metadata": {
        "id": "jI2tmKeRpQWl",
        "colab_type": "code",
        "colab": {}
      },
      "source": [
        "song_id=np.repeat(song_meta['id'].values,list(map(len,song_meta.artist_list)))\n",
        "artist_list=list(np.concatenate(song_meta['artist_list'].values))\n",
        "\n",
        "song_artist=pd.DataFrame({'song_id':song_id,'artist' : artist_list})"
      ],
      "execution_count": 0,
      "outputs": []
    },
    {
      "cell_type": "code",
      "metadata": {
        "id": "kYnSHiV9pTeX",
        "colab_type": "code",
        "colab": {
          "base_uri": "https://localhost:8080/",
          "height": 402
        },
        "outputId": "2fc75a4f-2a6c-41b1-bdf8-f2cc2f93fdc8"
      },
      "source": [
        "song_artist"
      ],
      "execution_count": 57,
      "outputs": [
        {
          "output_type": "execute_result",
          "data": {
            "text/html": [
              "<div>\n",
              "<style scoped>\n",
              "    .dataframe tbody tr th:only-of-type {\n",
              "        vertical-align: middle;\n",
              "    }\n",
              "\n",
              "    .dataframe tbody tr th {\n",
              "        vertical-align: top;\n",
              "    }\n",
              "\n",
              "    .dataframe thead th {\n",
              "        text-align: right;\n",
              "    }\n",
              "</style>\n",
              "<table border=\"1\" class=\"dataframe\">\n",
              "  <thead>\n",
              "    <tr style=\"text-align: right;\">\n",
              "      <th></th>\n",
              "      <th>song_id</th>\n",
              "      <th>artist</th>\n",
              "    </tr>\n",
              "  </thead>\n",
              "  <tbody>\n",
              "    <tr>\n",
              "      <th>0</th>\n",
              "      <td>0</td>\n",
              "      <td>VariousArtists</td>\n",
              "    </tr>\n",
              "    <tr>\n",
              "      <th>1</th>\n",
              "      <td>1</td>\n",
              "      <td>MurrayPerahia</td>\n",
              "    </tr>\n",
              "    <tr>\n",
              "      <th>2</th>\n",
              "      <td>2</td>\n",
              "      <td>PeterGabriel</td>\n",
              "    </tr>\n",
              "    <tr>\n",
              "      <th>3</th>\n",
              "      <td>3</td>\n",
              "      <td>Matoma</td>\n",
              "    </tr>\n",
              "    <tr>\n",
              "      <th>4</th>\n",
              "      <td>4</td>\n",
              "      <td>JudeLaw</td>\n",
              "    </tr>\n",
              "    <tr>\n",
              "      <th>...</th>\n",
              "      <td>...</td>\n",
              "      <td>...</td>\n",
              "    </tr>\n",
              "    <tr>\n",
              "      <th>779535</th>\n",
              "      <td>707984</td>\n",
              "      <td>FelaKuti</td>\n",
              "    </tr>\n",
              "    <tr>\n",
              "      <th>779536</th>\n",
              "      <td>707985</td>\n",
              "      <td>CyndiLauper</td>\n",
              "    </tr>\n",
              "    <tr>\n",
              "      <th>779537</th>\n",
              "      <td>707986</td>\n",
              "      <td>윤종신</td>\n",
              "    </tr>\n",
              "    <tr>\n",
              "      <th>779538</th>\n",
              "      <td>707987</td>\n",
              "      <td>NaturePiano</td>\n",
              "    </tr>\n",
              "    <tr>\n",
              "      <th>779539</th>\n",
              "      <td>707988</td>\n",
              "      <td>김경호</td>\n",
              "    </tr>\n",
              "  </tbody>\n",
              "</table>\n",
              "<p>779540 rows × 2 columns</p>\n",
              "</div>"
            ],
            "text/plain": [
              "        song_id          artist\n",
              "0             0  VariousArtists\n",
              "1             1   MurrayPerahia\n",
              "2             2    PeterGabriel\n",
              "3             3          Matoma\n",
              "4             4         JudeLaw\n",
              "...         ...             ...\n",
              "779535   707984        FelaKuti\n",
              "779536   707985     CyndiLauper\n",
              "779537   707986             윤종신\n",
              "779538   707987     NaturePiano\n",
              "779539   707988             김경호\n",
              "\n",
              "[779540 rows x 2 columns]"
            ]
          },
          "metadata": {
            "tags": []
          },
          "execution_count": 57
        }
      ]
    },
    {
      "cell_type": "code",
      "metadata": {
        "id": "jZYaoDO3p0fn",
        "colab_type": "code",
        "colab": {
          "base_uri": "https://localhost:8080/",
          "height": 34
        },
        "outputId": "aed6f9b1-81f3-4732-c067-50b7a66fe53a"
      },
      "source": [
        "song_id=np.repeat(song_meta['id'].values,list(map(len,song_meta.artist_id_basket)))\n",
        "artist_list=list(np.concatenate(song_meta['artist_id_basket'].values))\n",
        "#song_artist['artist_id'] = artist_list\n",
        "\n",
        "len(artist_list)"
      ],
      "execution_count": 69,
      "outputs": [
        {
          "output_type": "execute_result",
          "data": {
            "text/plain": [
              "779462"
            ]
          },
          "metadata": {
            "tags": []
          },
          "execution_count": 69
        }
      ]
    },
    {
      "cell_type": "markdown",
      "metadata": {
        "id": "29QZ4JRMurQV",
        "colab_type": "text"
      },
      "source": [
        "보는 것 처럼 아티스트 이름과 아티스트 id의 개수가 맞지 않는 경우가 있다. 이것을 처리해줘야할 듯."
      ]
    },
    {
      "cell_type": "code",
      "metadata": {
        "id": "eBBip2D7r5J9",
        "colab_type": "code",
        "colab": {}
      },
      "source": [
        "song_meta['id_count']=song_meta['artist_id_basket'].apply(lambda x: len(x))\n",
        "song_meta['name_count']=song_meta['artist_name_basket'].apply(lambda x: len(x))"
      ],
      "execution_count": 0,
      "outputs": []
    },
    {
      "cell_type": "code",
      "metadata": {
        "id": "b4Id-Dk2sNER",
        "colab_type": "code",
        "colab": {
          "base_uri": "https://localhost:8080/",
          "height": 1000
        },
        "outputId": "0e823ea6-c4d7-4c12-b9bd-be70fdf27f10"
      },
      "source": [
        "song_meta[song_meta['id_count'] != song_meta['name_count']]"
      ],
      "execution_count": 77,
      "outputs": [
        {
          "output_type": "execute_result",
          "data": {
            "text/html": [
              "<div>\n",
              "<style scoped>\n",
              "    .dataframe tbody tr th:only-of-type {\n",
              "        vertical-align: middle;\n",
              "    }\n",
              "\n",
              "    .dataframe tbody tr th {\n",
              "        vertical-align: top;\n",
              "    }\n",
              "\n",
              "    .dataframe thead th {\n",
              "        text-align: right;\n",
              "    }\n",
              "</style>\n",
              "<table border=\"1\" class=\"dataframe\">\n",
              "  <thead>\n",
              "    <tr style=\"text-align: right;\">\n",
              "      <th></th>\n",
              "      <th>song_gn_dtl_gnr_basket</th>\n",
              "      <th>issue_date</th>\n",
              "      <th>album_name</th>\n",
              "      <th>album_id</th>\n",
              "      <th>artist_id_basket</th>\n",
              "      <th>song_name</th>\n",
              "      <th>song_gn_gnr_basket</th>\n",
              "      <th>artist_name_basket</th>\n",
              "      <th>id</th>\n",
              "      <th>artist</th>\n",
              "      <th>artist_list</th>\n",
              "      <th>id_count</th>\n",
              "      <th>name_count</th>\n",
              "    </tr>\n",
              "  </thead>\n",
              "  <tbody>\n",
              "    <tr>\n",
              "      <th>6238</th>\n",
              "      <td>[GN0901]</td>\n",
              "      <td>20010403</td>\n",
              "      <td>Liberty City Fla.</td>\n",
              "      <td>45928</td>\n",
              "      <td>[56936]</td>\n",
              "      <td>I Met Her In Miami</td>\n",
              "      <td>[GN0900]</td>\n",
              "      <td>[Liberty, City]</td>\n",
              "      <td>6238</td>\n",
              "      <td>Liberty,City</td>\n",
              "      <td>[Liberty, City]</td>\n",
              "      <td>1</td>\n",
              "      <td>2</td>\n",
              "    </tr>\n",
              "    <tr>\n",
              "      <th>15100</th>\n",
              "      <td>[GN0901]</td>\n",
              "      <td>20071214</td>\n",
              "      <td>아름다운 드라이브 Cinema &amp; Musical</td>\n",
              "      <td>362455</td>\n",
              "      <td>[232053]</td>\n",
              "      <td>Think Of Me</td>\n",
              "      <td>[GN0900]</td>\n",
              "      <td>[Los, Dioses]</td>\n",
              "      <td>15100</td>\n",
              "      <td>Los,Dioses</td>\n",
              "      <td>[Los, Dioses]</td>\n",
              "      <td>1</td>\n",
              "      <td>2</td>\n",
              "    </tr>\n",
              "    <tr>\n",
              "      <th>64162</th>\n",
              "      <td>[GN1601, GN1602, GN1613]</td>\n",
              "      <td>20180216</td>\n",
              "      <td>50 Violin Masterworks</td>\n",
              "      <td>4442865</td>\n",
              "      <td>[174433, 1543263, 1459364, 2240313]</td>\n",
              "      <td>Richter: Recomposed By Max Richter: Vivaldi, T...</td>\n",
              "      <td>[GN1600]</td>\n",
              "      <td>[Daniel Hope, Christian Badzura, Jane Berthe, ...</td>\n",
              "      <td>64162</td>\n",
              "      <td>DanielHope,ChristianBadzura,JaneBerthe,Z&amp;#252;...</td>\n",
              "      <td>[DanielHope, ChristianBadzura, JaneBerthe, Z&amp;#...</td>\n",
              "      <td>4</td>\n",
              "      <td>5</td>\n",
              "    </tr>\n",
              "    <tr>\n",
              "      <th>72352</th>\n",
              "      <td>[GN0901]</td>\n",
              "      <td>20071214</td>\n",
              "      <td>아름다운 드라이브 Cinema &amp; Musical</td>\n",
              "      <td>362455</td>\n",
              "      <td>[232053]</td>\n",
              "      <td>The Promise</td>\n",
              "      <td>[GN0900]</td>\n",
              "      <td>[Los, Dioses]</td>\n",
              "      <td>72352</td>\n",
              "      <td>Los,Dioses</td>\n",
              "      <td>[Los, Dioses]</td>\n",
              "      <td>1</td>\n",
              "      <td>2</td>\n",
              "    </tr>\n",
              "    <tr>\n",
              "      <th>76782</th>\n",
              "      <td>[GN1503, GN1501]</td>\n",
              "      <td>20070328</td>\n",
              "      <td>아주 특별한 영화음악</td>\n",
              "      <td>348791</td>\n",
              "      <td>[232053]</td>\n",
              "      <td>Merry Christmas Mr.Lawrence</td>\n",
              "      <td>[GN1500]</td>\n",
              "      <td>[Los, Dioses]</td>\n",
              "      <td>76782</td>\n",
              "      <td>Los,Dioses</td>\n",
              "      <td>[Los, Dioses]</td>\n",
              "      <td>1</td>\n",
              "      <td>2</td>\n",
              "    </tr>\n",
              "    <tr>\n",
              "      <th>76944</th>\n",
              "      <td>[GN1304, GN1301, GN1302]</td>\n",
              "      <td>20070327</td>\n",
              "      <td>Interpretations: Celebrating The Music Of Eart...</td>\n",
              "      <td>366362</td>\n",
              "      <td>[236266]</td>\n",
              "      <td>Can`t Hide Love</td>\n",
              "      <td>[GN1300]</td>\n",
              "      <td>[The Randy Watson Experience &amp;, Bilal]</td>\n",
              "      <td>76944</td>\n",
              "      <td>TheRandyWatsonExperience&amp;,Bilal</td>\n",
              "      <td>[TheRandyWatsonExperience&amp;, Bilal]</td>\n",
              "      <td>1</td>\n",
              "      <td>2</td>\n",
              "    </tr>\n",
              "    <tr>\n",
              "      <th>122311</th>\n",
              "      <td>[GN0901]</td>\n",
              "      <td>20010403</td>\n",
              "      <td>Liberty City Fla.</td>\n",
              "      <td>45928</td>\n",
              "      <td>[56936]</td>\n",
              "      <td>Dirty Shame</td>\n",
              "      <td>[GN0900]</td>\n",
              "      <td>[Liberty, City]</td>\n",
              "      <td>122311</td>\n",
              "      <td>Liberty,City</td>\n",
              "      <td>[Liberty, City]</td>\n",
              "      <td>1</td>\n",
              "      <td>2</td>\n",
              "    </tr>\n",
              "    <tr>\n",
              "      <th>207607</th>\n",
              "      <td>[GN1201]</td>\n",
              "      <td>20160408</td>\n",
              "      <td>A`Typisk</td>\n",
              "      <td>2678216</td>\n",
              "      <td>[965703]</td>\n",
              "      <td>Byger (Feat. Mass Ebdrup &amp; Semih-Automatisk)</td>\n",
              "      <td>[GN1200]</td>\n",
              "      <td>[A`Typisk, ]</td>\n",
              "      <td>207607</td>\n",
              "      <td>A`Typisk</td>\n",
              "      <td>[A`Typisk, ]</td>\n",
              "      <td>1</td>\n",
              "      <td>2</td>\n",
              "    </tr>\n",
              "    <tr>\n",
              "      <th>222961</th>\n",
              "      <td>[GN1501]</td>\n",
              "      <td>20150722</td>\n",
              "      <td>불후의 명곡 - 뮤지컬 명예의 전당</td>\n",
              "      <td>2330769</td>\n",
              "      <td>[232053]</td>\n",
              "      <td>I Know Him So Well (체스)</td>\n",
              "      <td>[GN1500]</td>\n",
              "      <td>[Los, Dioses]</td>\n",
              "      <td>222961</td>\n",
              "      <td>Los,Dioses</td>\n",
              "      <td>[Los, Dioses]</td>\n",
              "      <td>1</td>\n",
              "      <td>2</td>\n",
              "    </tr>\n",
              "    <tr>\n",
              "      <th>271176</th>\n",
              "      <td>[GN0901]</td>\n",
              "      <td>20071214</td>\n",
              "      <td>아름다운 드라이브 Cinema &amp; Musical</td>\n",
              "      <td>362455</td>\n",
              "      <td>[232053]</td>\n",
              "      <td>Conquest Of Paradise</td>\n",
              "      <td>[GN0900]</td>\n",
              "      <td>[Los, Dioses]</td>\n",
              "      <td>271176</td>\n",
              "      <td>Los,Dioses</td>\n",
              "      <td>[Los, Dioses]</td>\n",
              "      <td>1</td>\n",
              "      <td>2</td>\n",
              "    </tr>\n",
              "    <tr>\n",
              "      <th>328016</th>\n",
              "      <td>[GN2001]</td>\n",
              "      <td>20180327</td>\n",
              "      <td>The Traditional Ballads Of Iceland 오로라 같은 매력의 ...</td>\n",
              "      <td>10150938</td>\n",
              "      <td>[2112445, 2112446]</td>\n",
              "      <td>Consolation</td>\n",
              "      <td>[GN2000]</td>\n",
              "      <td>[Anna Palina, , Draupner]</td>\n",
              "      <td>328016</td>\n",
              "      <td>AnnaPalina,Draupner</td>\n",
              "      <td>[AnnaPalina, Draupner]</td>\n",
              "      <td>2</td>\n",
              "      <td>3</td>\n",
              "    </tr>\n",
              "    <tr>\n",
              "      <th>353176</th>\n",
              "      <td>[GN0901]</td>\n",
              "      <td>20071214</td>\n",
              "      <td>아름다운 드라이브 Cinema &amp; Musical</td>\n",
              "      <td>362455</td>\n",
              "      <td>[232053]</td>\n",
              "      <td>America</td>\n",
              "      <td>[GN0900]</td>\n",
              "      <td>[Los, Dioses]</td>\n",
              "      <td>353176</td>\n",
              "      <td>Los,Dioses</td>\n",
              "      <td>[Los, Dioses]</td>\n",
              "      <td>1</td>\n",
              "      <td>2</td>\n",
              "    </tr>\n",
              "    <tr>\n",
              "      <th>407009</th>\n",
              "      <td>[GN0901]</td>\n",
              "      <td>20071214</td>\n",
              "      <td>아름다운 드라이브 Cinema &amp; Musical</td>\n",
              "      <td>362455</td>\n",
              "      <td>[232053]</td>\n",
              "      <td>Gabriel`s Oboe</td>\n",
              "      <td>[GN0900]</td>\n",
              "      <td>[Los, Dioses]</td>\n",
              "      <td>407009</td>\n",
              "      <td>Los,Dioses</td>\n",
              "      <td>[Los, Dioses]</td>\n",
              "      <td>1</td>\n",
              "      <td>2</td>\n",
              "    </tr>\n",
              "    <tr>\n",
              "      <th>446073</th>\n",
              "      <td>[GN1601]</td>\n",
              "      <td>20080922</td>\n",
              "      <td>Icon: Victoria De Los Angeles</td>\n",
              "      <td>137213</td>\n",
              "      <td>[823152]</td>\n",
              "      <td>Cavalleria Rusticana (1954 Digital Remaster): ...</td>\n",
              "      <td>[GN1600]</td>\n",
              "      <td>[Victoria De Los, Angeles, Orchestre De L`Oper...</td>\n",
              "      <td>446073</td>\n",
              "      <td>VictoriaDeLos,AngelesOrchestreDeL`OperaDeRomeG...</td>\n",
              "      <td>[VictoriaDeLos, AngelesOrchestreDeL`OperaDeRom...</td>\n",
              "      <td>1</td>\n",
              "      <td>2</td>\n",
              "    </tr>\n",
              "    <tr>\n",
              "      <th>468473</th>\n",
              "      <td>[GN0901]</td>\n",
              "      <td>20071214</td>\n",
              "      <td>아름다운 드라이브 Cinema &amp; Musical</td>\n",
              "      <td>362455</td>\n",
              "      <td>[232053]</td>\n",
              "      <td>Theme From Braveheart</td>\n",
              "      <td>[GN0900]</td>\n",
              "      <td>[Los, Dioses]</td>\n",
              "      <td>468473</td>\n",
              "      <td>Los,Dioses</td>\n",
              "      <td>[Los, Dioses]</td>\n",
              "      <td>1</td>\n",
              "      <td>2</td>\n",
              "    </tr>\n",
              "    <tr>\n",
              "      <th>574453</th>\n",
              "      <td>[GN1501]</td>\n",
              "      <td>20150722</td>\n",
              "      <td>불후의 명곡 - 뮤지컬 명예의 전당</td>\n",
              "      <td>2330769</td>\n",
              "      <td>[232053]</td>\n",
              "      <td>America (웨스트 사이드 스토리)</td>\n",
              "      <td>[GN1500]</td>\n",
              "      <td>[Los, Dioses]</td>\n",
              "      <td>574453</td>\n",
              "      <td>Los,Dioses</td>\n",
              "      <td>[Los, Dioses]</td>\n",
              "      <td>1</td>\n",
              "      <td>2</td>\n",
              "    </tr>\n",
              "    <tr>\n",
              "      <th>604370</th>\n",
              "      <td>[GN1501, GN1505]</td>\n",
              "      <td>20160715</td>\n",
              "      <td>Believe That (From &amp;#34;The Lodge&amp;#34;)</td>\n",
              "      <td>2698229</td>\n",
              "      <td>[992517]</td>\n",
              "      <td>Believe That (From &amp;#34;The Lodge&amp;#34;)</td>\n",
              "      <td>[GN1500]</td>\n",
              "      <td>[Cast, Of The Lodge]</td>\n",
              "      <td>604370</td>\n",
              "      <td>Cast,OfTheLodge</td>\n",
              "      <td>[Cast, OfTheLodge]</td>\n",
              "      <td>1</td>\n",
              "      <td>2</td>\n",
              "    </tr>\n",
              "    <tr>\n",
              "      <th>645357</th>\n",
              "      <td>[GN0901]</td>\n",
              "      <td>20071214</td>\n",
              "      <td>아름다운 드라이브 Cinema &amp; Musical</td>\n",
              "      <td>362455</td>\n",
              "      <td>[232053]</td>\n",
              "      <td>I Don`t Know How To Love Him</td>\n",
              "      <td>[GN0900]</td>\n",
              "      <td>[Los, Dioses]</td>\n",
              "      <td>645357</td>\n",
              "      <td>Los,Dioses</td>\n",
              "      <td>[Los, Dioses]</td>\n",
              "      <td>1</td>\n",
              "      <td>2</td>\n",
              "    </tr>\n",
              "    <tr>\n",
              "      <th>646017</th>\n",
              "      <td>[GN0901]</td>\n",
              "      <td>20071214</td>\n",
              "      <td>아름다운 드라이브 Cinema &amp; Musical</td>\n",
              "      <td>362455</td>\n",
              "      <td>[232053]</td>\n",
              "      <td>Don`t Cry For Me Argentina</td>\n",
              "      <td>[GN0900]</td>\n",
              "      <td>[Los, Dioses]</td>\n",
              "      <td>646017</td>\n",
              "      <td>Los,Dioses</td>\n",
              "      <td>[Los, Dioses]</td>\n",
              "      <td>1</td>\n",
              "      <td>2</td>\n",
              "    </tr>\n",
              "    <tr>\n",
              "      <th>659055</th>\n",
              "      <td>[GN0901]</td>\n",
              "      <td>20071214</td>\n",
              "      <td>아름다운 드라이브 Cinema &amp; Musical</td>\n",
              "      <td>362455</td>\n",
              "      <td>[232053]</td>\n",
              "      <td>Merry Christmas, Mr. Lawrence</td>\n",
              "      <td>[GN0900]</td>\n",
              "      <td>[Los, Dioses]</td>\n",
              "      <td>659055</td>\n",
              "      <td>Los,Dioses</td>\n",
              "      <td>[Los, Dioses]</td>\n",
              "      <td>1</td>\n",
              "      <td>2</td>\n",
              "    </tr>\n",
              "    <tr>\n",
              "      <th>665605</th>\n",
              "      <td>[GN1601]</td>\n",
              "      <td>20080922</td>\n",
              "      <td>Icon: Victoria De Los Angeles</td>\n",
              "      <td>137213</td>\n",
              "      <td>[823152]</td>\n",
              "      <td>La Wally (1990 Digital Remaster): Ebben?...Ne ...</td>\n",
              "      <td>[GN1600]</td>\n",
              "      <td>[Victoria De Los, Angeles, Orchestre De L`Oper...</td>\n",
              "      <td>665605</td>\n",
              "      <td>VictoriaDeLos,AngelesOrchestreDeL`OperaDeRomeG...</td>\n",
              "      <td>[VictoriaDeLos, AngelesOrchestreDeL`OperaDeRom...</td>\n",
              "      <td>1</td>\n",
              "      <td>2</td>\n",
              "    </tr>\n",
              "    <tr>\n",
              "      <th>695511</th>\n",
              "      <td>[GN1204, GN1201, GN1203]</td>\n",
              "      <td>20020603</td>\n",
              "      <td>Rawkus Presents Soundbombing II</td>\n",
              "      <td>65625</td>\n",
              "      <td>[167221]</td>\n",
              "      <td>(WWIII Intro)</td>\n",
              "      <td>[GN1200]</td>\n",
              "      <td>[The, Beat Junkies]</td>\n",
              "      <td>695511</td>\n",
              "      <td>The,BeatJunkies</td>\n",
              "      <td>[The, BeatJunkies]</td>\n",
              "      <td>1</td>\n",
              "      <td>2</td>\n",
              "    </tr>\n",
              "    <tr>\n",
              "      <th>699788</th>\n",
              "      <td>[GN1101]</td>\n",
              "      <td>20140722</td>\n",
              "      <td>Urban FM</td>\n",
              "      <td>2268960</td>\n",
              "      <td>[779397, 493049, 727403]</td>\n",
              "      <td>You Gotsta Give It Up</td>\n",
              "      <td>[GN1100]</td>\n",
              "      <td>[Henri Lanz, Skinny Williams, WILLIAM RAPPAPOR...</td>\n",
              "      <td>699788</td>\n",
              "      <td>HenriLanz,SkinnyWilliams,WILLIAMRAPPAPORT</td>\n",
              "      <td>[HenriLanz, SkinnyWilliams, WILLIAMRAPPAPORT, ]</td>\n",
              "      <td>3</td>\n",
              "      <td>4</td>\n",
              "    </tr>\n",
              "  </tbody>\n",
              "</table>\n",
              "</div>"
            ],
            "text/plain": [
              "          song_gn_dtl_gnr_basket  issue_date  ... id_count  name_count\n",
              "6238                    [GN0901]    20010403  ...        1           2\n",
              "15100                   [GN0901]    20071214  ...        1           2\n",
              "64162   [GN1601, GN1602, GN1613]    20180216  ...        4           5\n",
              "72352                   [GN0901]    20071214  ...        1           2\n",
              "76782           [GN1503, GN1501]    20070328  ...        1           2\n",
              "76944   [GN1304, GN1301, GN1302]    20070327  ...        1           2\n",
              "122311                  [GN0901]    20010403  ...        1           2\n",
              "207607                  [GN1201]    20160408  ...        1           2\n",
              "222961                  [GN1501]    20150722  ...        1           2\n",
              "271176                  [GN0901]    20071214  ...        1           2\n",
              "328016                  [GN2001]    20180327  ...        2           3\n",
              "353176                  [GN0901]    20071214  ...        1           2\n",
              "407009                  [GN0901]    20071214  ...        1           2\n",
              "446073                  [GN1601]    20080922  ...        1           2\n",
              "468473                  [GN0901]    20071214  ...        1           2\n",
              "574453                  [GN1501]    20150722  ...        1           2\n",
              "604370          [GN1501, GN1505]    20160715  ...        1           2\n",
              "645357                  [GN0901]    20071214  ...        1           2\n",
              "646017                  [GN0901]    20071214  ...        1           2\n",
              "659055                  [GN0901]    20071214  ...        1           2\n",
              "665605                  [GN1601]    20080922  ...        1           2\n",
              "695511  [GN1204, GN1201, GN1203]    20020603  ...        1           2\n",
              "699788                  [GN1101]    20140722  ...        3           4\n",
              "\n",
              "[23 rows x 13 columns]"
            ]
          },
          "metadata": {
            "tags": []
          },
          "execution_count": 77
        }
      ]
    },
    {
      "cell_type": "markdown",
      "metadata": {
        "id": "E1VBhaUDw-_T",
        "colab_type": "text"
      },
      "source": [
        "패턴이 없기때문에 일일히 지정해줘야할 것으로 보인다."
      ]
    },
    {
      "cell_type": "markdown",
      "metadata": {
        "id": "uBJhI2GDxDOh",
        "colab_type": "text"
      },
      "source": [
        "1. Case count(artist_id): 1, but count(artist_name): 2"
      ]
    },
    {
      "cell_type": "code",
      "metadata": {
        "id": "Q9Gecz1SxeIh",
        "colab_type": "code",
        "colab": {}
      },
      "source": [
        "song_meta.loc[(song_meta['id_count']==1)&(song_meta['name_count']==2),'artist'] =\\\n",
        "song_meta.loc[(song_meta['id_count']==1)&(song_meta['name_count']==2),'artist'].apply(lambda x: x.replace(',',''))"
      ],
      "execution_count": 0,
      "outputs": []
    },
    {
      "cell_type": "markdown",
      "metadata": {
        "id": "T-7eYHx3zHwu",
        "colab_type": "text"
      },
      "source": [
        "2. Case count(artist_id): 2, but count(artist_name): 3\n",
        "- 전에 만든 코드로 잘 분리되어 있음"
      ]
    },
    {
      "cell_type": "code",
      "metadata": {
        "id": "jO3ncMiJzgd0",
        "colab_type": "code",
        "colab": {
          "base_uri": "https://localhost:8080/",
          "height": 52
        },
        "outputId": "90fca413-492b-4598-ff6c-d22c08a3b3c1"
      },
      "source": [
        "song_meta.loc[(song_meta['id_count']==2)&(song_meta['name_count']==3),'artist']"
      ],
      "execution_count": 93,
      "outputs": [
        {
          "output_type": "execute_result",
          "data": {
            "text/plain": [
              "328016    AnnaPalina,Draupner\n",
              "Name: artist, dtype: object"
            ]
          },
          "metadata": {
            "tags": []
          },
          "execution_count": 93
        }
      ]
    },
    {
      "cell_type": "markdown",
      "metadata": {
        "id": "2qgXTSrcz5Ir",
        "colab_type": "text"
      },
      "source": [
        "3. Case count(artist_id): 3, but count(artist_name): 4\n",
        "- 전에 만든 코드로 잘 분리되어 있음"
      ]
    },
    {
      "cell_type": "code",
      "metadata": {
        "id": "v_J-UU3J0f8m",
        "colab_type": "code",
        "colab": {
          "base_uri": "https://localhost:8080/",
          "height": 52
        },
        "outputId": "3cc88acf-445a-45c0-99f2-a91c221e2ed2"
      },
      "source": [
        "song_meta.loc[(song_meta['id_count']==3)&(song_meta['name_count']==4),'artist']"
      ],
      "execution_count": 94,
      "outputs": [
        {
          "output_type": "execute_result",
          "data": {
            "text/plain": [
              "699788    HenriLanz,SkinnyWilliams,WILLIAMRAPPAPORT\n",
              "Name: artist, dtype: object"
            ]
          },
          "metadata": {
            "tags": []
          },
          "execution_count": 94
        }
      ]
    },
    {
      "cell_type": "markdown",
      "metadata": {
        "id": "y6Nafv6k0qaP",
        "colab_type": "text"
      },
      "source": [
        "4. Case count(artist_id): 4, but count(artist_name): 5"
      ]
    },
    {
      "cell_type": "code",
      "metadata": {
        "id": "YsJvE1FS06ow",
        "colab_type": "code",
        "colab": {}
      },
      "source": [
        "song_meta.loc[(song_meta['id_count']==4)&(song_meta['name_count']==5),'artist']=\\\n",
        "song_meta.loc[(song_meta['id_count']==4)&(song_meta['name_count']==5),'artist'].values[0].replace(',Z&#252;rcher','')"
      ],
      "execution_count": 0,
      "outputs": []
    },
    {
      "cell_type": "markdown",
      "metadata": {
        "id": "nEu1djjx1TuV",
        "colab_type": "text"
      },
      "source": [
        "---"
      ]
    },
    {
      "cell_type": "code",
      "metadata": {
        "id": "4DkYX0w41VlU",
        "colab_type": "code",
        "colab": {}
      },
      "source": [
        "song_meta['artist_list']=song_meta['artist'].apply(lambda x: x.split(','))"
      ],
      "execution_count": 0,
      "outputs": []
    },
    {
      "cell_type": "code",
      "metadata": {
        "id": "0YhWC_xI1hjX",
        "colab_type": "code",
        "colab": {}
      },
      "source": [
        "song_id=np.repeat(song_meta['id'].values,list(map(len,song_meta.artist_list)))\n",
        "artist_list=list(np.concatenate(song_meta['artist_list'].values))\n",
        "\n",
        "song_artist=pd.DataFrame({'song_id':song_id,'artist' : artist_list})"
      ],
      "execution_count": 0,
      "outputs": []
    },
    {
      "cell_type": "code",
      "metadata": {
        "id": "aBcRIL8z1niy",
        "colab_type": "code",
        "colab": {
          "base_uri": "https://localhost:8080/",
          "height": 402
        },
        "outputId": "d0a6693a-e9ca-4848-a695-275bc7f274a0"
      },
      "source": [
        "song_artist"
      ],
      "execution_count": 104,
      "outputs": [
        {
          "output_type": "execute_result",
          "data": {
            "text/html": [
              "<div>\n",
              "<style scoped>\n",
              "    .dataframe tbody tr th:only-of-type {\n",
              "        vertical-align: middle;\n",
              "    }\n",
              "\n",
              "    .dataframe tbody tr th {\n",
              "        vertical-align: top;\n",
              "    }\n",
              "\n",
              "    .dataframe thead th {\n",
              "        text-align: right;\n",
              "    }\n",
              "</style>\n",
              "<table border=\"1\" class=\"dataframe\">\n",
              "  <thead>\n",
              "    <tr style=\"text-align: right;\">\n",
              "      <th></th>\n",
              "      <th>song_id</th>\n",
              "      <th>artist</th>\n",
              "    </tr>\n",
              "  </thead>\n",
              "  <tbody>\n",
              "    <tr>\n",
              "      <th>0</th>\n",
              "      <td>0</td>\n",
              "      <td>VariousArtists</td>\n",
              "    </tr>\n",
              "    <tr>\n",
              "      <th>1</th>\n",
              "      <td>1</td>\n",
              "      <td>MurrayPerahia</td>\n",
              "    </tr>\n",
              "    <tr>\n",
              "      <th>2</th>\n",
              "      <td>2</td>\n",
              "      <td>PeterGabriel</td>\n",
              "    </tr>\n",
              "    <tr>\n",
              "      <th>3</th>\n",
              "      <td>3</td>\n",
              "      <td>Matoma</td>\n",
              "    </tr>\n",
              "    <tr>\n",
              "      <th>4</th>\n",
              "      <td>4</td>\n",
              "      <td>JudeLaw</td>\n",
              "    </tr>\n",
              "    <tr>\n",
              "      <th>...</th>\n",
              "      <td>...</td>\n",
              "      <td>...</td>\n",
              "    </tr>\n",
              "    <tr>\n",
              "      <th>779504</th>\n",
              "      <td>707984</td>\n",
              "      <td>FelaKuti</td>\n",
              "    </tr>\n",
              "    <tr>\n",
              "      <th>779505</th>\n",
              "      <td>707985</td>\n",
              "      <td>CyndiLauper</td>\n",
              "    </tr>\n",
              "    <tr>\n",
              "      <th>779506</th>\n",
              "      <td>707986</td>\n",
              "      <td>윤종신</td>\n",
              "    </tr>\n",
              "    <tr>\n",
              "      <th>779507</th>\n",
              "      <td>707987</td>\n",
              "      <td>NaturePiano</td>\n",
              "    </tr>\n",
              "    <tr>\n",
              "      <th>779508</th>\n",
              "      <td>707988</td>\n",
              "      <td>김경호</td>\n",
              "    </tr>\n",
              "  </tbody>\n",
              "</table>\n",
              "<p>779509 rows × 2 columns</p>\n",
              "</div>"
            ],
            "text/plain": [
              "        song_id          artist\n",
              "0             0  VariousArtists\n",
              "1             1   MurrayPerahia\n",
              "2             2    PeterGabriel\n",
              "3             3          Matoma\n",
              "4             4         JudeLaw\n",
              "...         ...             ...\n",
              "779504   707984        FelaKuti\n",
              "779505   707985     CyndiLauper\n",
              "779506   707986             윤종신\n",
              "779507   707987     NaturePiano\n",
              "779508   707988             김경호\n",
              "\n",
              "[779509 rows x 2 columns]"
            ]
          },
          "metadata": {
            "tags": []
          },
          "execution_count": 104
        }
      ]
    },
    {
      "cell_type": "code",
      "metadata": {
        "id": "2GWjt3a01tAD",
        "colab_type": "code",
        "colab": {
          "base_uri": "https://localhost:8080/",
          "height": 34
        },
        "outputId": "732c38f7-7a14-4ab0-8f22-dd64e3cd2bf9"
      },
      "source": [
        "song_id=np.repeat(song_meta['id'].values,list(map(len,song_meta.artist_id_basket)))\n",
        "artist_list=list(np.concatenate(song_meta['artist_id_basket'].values))\n",
        "#song_artist['artist_id'] = artist_list\n",
        "\n",
        "len(artist_list)"
      ],
      "execution_count": 105,
      "outputs": [
        {
          "output_type": "execute_result",
          "data": {
            "text/plain": [
              "779462"
            ]
          },
          "metadata": {
            "tags": []
          },
          "execution_count": 105
        }
      ]
    },
    {
      "cell_type": "markdown",
      "metadata": {
        "id": "6TDdUrTq2HMb",
        "colab_type": "text"
      },
      "source": [
        "아직도 개수가 맞지 않는다.. 뭐가 문제일까?"
      ]
    },
    {
      "cell_type": "code",
      "metadata": {
        "id": "rXxsgQ2M2KF5",
        "colab_type": "code",
        "colab": {}
      },
      "source": [
        "#song_meta['id_count']=song_meta['artist_id_basket'].apply(lambda x: len(x))\n",
        "song_meta['revised_name_count']=song_meta['artist_list'].apply(lambda x: len(x))"
      ],
      "execution_count": 0,
      "outputs": []
    },
    {
      "cell_type": "code",
      "metadata": {
        "id": "oylMaLxv2gQ6",
        "colab_type": "code",
        "colab": {
          "base_uri": "https://localhost:8080/",
          "height": 1000
        },
        "outputId": "13dfe0e2-ec51-41a3-fc8e-14e9ab291f15"
      },
      "source": [
        "song_meta[song_meta['revised_name_count'] != song_meta['id_count']]"
      ],
      "execution_count": 110,
      "outputs": [
        {
          "output_type": "execute_result",
          "data": {
            "text/html": [
              "<div>\n",
              "<style scoped>\n",
              "    .dataframe tbody tr th:only-of-type {\n",
              "        vertical-align: middle;\n",
              "    }\n",
              "\n",
              "    .dataframe tbody tr th {\n",
              "        vertical-align: top;\n",
              "    }\n",
              "\n",
              "    .dataframe thead th {\n",
              "        text-align: right;\n",
              "    }\n",
              "</style>\n",
              "<table border=\"1\" class=\"dataframe\">\n",
              "  <thead>\n",
              "    <tr style=\"text-align: right;\">\n",
              "      <th></th>\n",
              "      <th>song_gn_dtl_gnr_basket</th>\n",
              "      <th>issue_date</th>\n",
              "      <th>album_name</th>\n",
              "      <th>album_id</th>\n",
              "      <th>artist_id_basket</th>\n",
              "      <th>song_name</th>\n",
              "      <th>song_gn_gnr_basket</th>\n",
              "      <th>artist_name_basket</th>\n",
              "      <th>id</th>\n",
              "      <th>artist</th>\n",
              "      <th>artist_list</th>\n",
              "      <th>id_count</th>\n",
              "      <th>name_count</th>\n",
              "      <th>revised_name_count</th>\n",
              "    </tr>\n",
              "  </thead>\n",
              "  <tbody>\n",
              "    <tr>\n",
              "      <th>7751</th>\n",
              "      <td>[GN1104, GN1103, GN1101]</td>\n",
              "      <td>20180424</td>\n",
              "      <td>My Name (Mahalo Remix) (Feat. BISHOP)</td>\n",
              "      <td>10160386</td>\n",
              "      <td>[2087467, 1702836]</td>\n",
              "      <td>My Name (Mahalo Remix) (Feat. BISHOP)</td>\n",
              "      <td>[GN1100]</td>\n",
              "      <td>[Maxim Schunk,  Raven &amp; Kreyn]</td>\n",
              "      <td>7751</td>\n",
              "      <td>MaximSchunkRaven&amp;Kreyn</td>\n",
              "      <td>[MaximSchunkRaven&amp;Kreyn]</td>\n",
              "      <td>2</td>\n",
              "      <td>2</td>\n",
              "      <td>1</td>\n",
              "    </tr>\n",
              "    <tr>\n",
              "      <th>15463</th>\n",
              "      <td>[GN1608, GN1601]</td>\n",
              "      <td>20160920</td>\n",
              "      <td>New York Rhapsody</td>\n",
              "      <td>2711587</td>\n",
              "      <td>[346065, 769512, 30679]</td>\n",
              "      <td>Tonight</td>\n",
              "      <td>[GN1600]</td>\n",
              "      <td>[Lang Lang, Sean Jones,  Leonard Bernstein]</td>\n",
              "      <td>15463</td>\n",
              "      <td>LangLang,SeanJonesLeonardBernstein</td>\n",
              "      <td>[LangLang, SeanJonesLeonardBernstein]</td>\n",
              "      <td>3</td>\n",
              "      <td>3</td>\n",
              "      <td>2</td>\n",
              "    </tr>\n",
              "    <tr>\n",
              "      <th>19574</th>\n",
              "      <td>[GN1104, GN1103, GN1101]</td>\n",
              "      <td>20140508</td>\n",
              "      <td>Spinnin` Records Talent Pool EP 4</td>\n",
              "      <td>2261135</td>\n",
              "      <td>[768239, 775523]</td>\n",
              "      <td>What We Need Tonight (Feat. Roman Polonsky) (O...</td>\n",
              "      <td>[GN1100]</td>\n",
              "      <td>[Igor Garnier,  Roman Polonsky]</td>\n",
              "      <td>19574</td>\n",
              "      <td>IgorGarnierRomanPolonsky</td>\n",
              "      <td>[IgorGarnierRomanPolonsky]</td>\n",
              "      <td>2</td>\n",
              "      <td>2</td>\n",
              "      <td>1</td>\n",
              "    </tr>\n",
              "    <tr>\n",
              "      <th>25055</th>\n",
              "      <td>[GN0801, GN0803]</td>\n",
              "      <td>19940918</td>\n",
              "      <td>박인희/이연실 힛트앨범</td>\n",
              "      <td>357456</td>\n",
              "      <td>[228971]</td>\n",
              "      <td>비개인 오후</td>\n",
              "      <td>[GN0800]</td>\n",
              "      <td>[박인희,이연실]</td>\n",
              "      <td>25055</td>\n",
              "      <td>박인희,이연실</td>\n",
              "      <td>[박인희, 이연실]</td>\n",
              "      <td>1</td>\n",
              "      <td>1</td>\n",
              "      <td>2</td>\n",
              "    </tr>\n",
              "    <tr>\n",
              "      <th>26744</th>\n",
              "      <td>[GN1601, GN1602]</td>\n",
              "      <td>20171006</td>\n",
              "      <td>Villa-Lobos: Little Train of the Caipira (from...</td>\n",
              "      <td>4052907</td>\n",
              "      <td>[2004641]</td>\n",
              "      <td>Bachianas Brasileiras No. 2, W247: 4. Toccata ...</td>\n",
              "      <td>[GN1600]</td>\n",
              "      <td>[London Symphony Orchestra,amp; Sir Eugene Goo...</td>\n",
              "      <td>26744</td>\n",
              "      <td>LondonSymphonyOrchestra,amp;SirEugeneGoossens</td>\n",
              "      <td>[LondonSymphonyOrchestra, amp;SirEugeneGoossens]</td>\n",
              "      <td>1</td>\n",
              "      <td>1</td>\n",
              "      <td>2</td>\n",
              "    </tr>\n",
              "    <tr>\n",
              "      <th>...</th>\n",
              "      <td>...</td>\n",
              "      <td>...</td>\n",
              "      <td>...</td>\n",
              "      <td>...</td>\n",
              "      <td>...</td>\n",
              "      <td>...</td>\n",
              "      <td>...</td>\n",
              "      <td>...</td>\n",
              "      <td>...</td>\n",
              "      <td>...</td>\n",
              "      <td>...</td>\n",
              "      <td>...</td>\n",
              "      <td>...</td>\n",
              "      <td>...</td>\n",
              "    </tr>\n",
              "    <tr>\n",
              "      <th>678335</th>\n",
              "      <td>[GN1601, GN1602, GN1614, GN1613]</td>\n",
              "      <td>20120727</td>\n",
              "      <td>Summer Holiday Classics</td>\n",
              "      <td>2138928</td>\n",
              "      <td>[405060, 43462, 106167]</td>\n",
              "      <td>Vaughan-Williams : The Lark Ascending (본-윌리엄스 ...</td>\n",
              "      <td>[GN1600]</td>\n",
              "      <td>[David Greed,  David Lloyd-Jones, English Nort...</td>\n",
              "      <td>678335</td>\n",
              "      <td>DavidGreedDavidLloyd-Jones,EnglishNorthernPhil...</td>\n",
              "      <td>[DavidGreedDavidLloyd-Jones, EnglishNorthernPh...</td>\n",
              "      <td>3</td>\n",
              "      <td>3</td>\n",
              "      <td>2</td>\n",
              "    </tr>\n",
              "    <tr>\n",
              "      <th>685715</th>\n",
              "      <td>[GN1503, GN1501]</td>\n",
              "      <td>20161028</td>\n",
              "      <td>Love &amp; Friendship (Original Motion Picture Sou...</td>\n",
              "      <td>10010459</td>\n",
              "      <td>[232743, 5850, 1222229]</td>\n",
              "      <td>Idomeneo : March</td>\n",
              "      <td>[GN1500]</td>\n",
              "      <td>[Mark Suozzo, Wolfgang Amadeus Mozart,  Irish ...</td>\n",
              "      <td>685715</td>\n",
              "      <td>MarkSuozzo,WolfgangAmadeusMozartIrishFilmOrche...</td>\n",
              "      <td>[MarkSuozzo, WolfgangAmadeusMozartIrishFilmOrc...</td>\n",
              "      <td>3</td>\n",
              "      <td>3</td>\n",
              "      <td>2</td>\n",
              "    </tr>\n",
              "    <tr>\n",
              "      <th>689454</th>\n",
              "      <td>[GN1601, GN1602, GN1613]</td>\n",
              "      <td>20081008</td>\n",
              "      <td>베토벤 바이러스 : The Classics Vol.1</td>\n",
              "      <td>398668</td>\n",
              "      <td>[261548]</td>\n",
              "      <td>Piazzola : Libertango (피아졸라 : 리베르탱고)</td>\n",
              "      <td>[GN1600]</td>\n",
              "      <td>[Orchestra Dell`Accademia Nazionale Di Santa C...</td>\n",
              "      <td>689454</td>\n",
              "      <td>OrchestraDell`AccademiaNazionaleDiSantaCecilli...</td>\n",
              "      <td>[OrchestraDell`AccademiaNazionaleDiSantaCecill...</td>\n",
              "      <td>1</td>\n",
              "      <td>1</td>\n",
              "      <td>2</td>\n",
              "    </tr>\n",
              "    <tr>\n",
              "      <th>695773</th>\n",
              "      <td>[GN1104, GN1103, GN1102, GN1101]</td>\n",
              "      <td>20160617</td>\n",
              "      <td>Freak Like Me (Feat. Katy B) (Radio Edit)</td>\n",
              "      <td>2690227</td>\n",
              "      <td>[743721, 854436]</td>\n",
              "      <td>Freak Like Me (Feat. Katy B) (Radio Edit)</td>\n",
              "      <td>[GN1100]</td>\n",
              "      <td>[Lee Walker,  DJ Deeon]</td>\n",
              "      <td>695773</td>\n",
              "      <td>LeeWalkerDJDeeon</td>\n",
              "      <td>[LeeWalkerDJDeeon]</td>\n",
              "      <td>2</td>\n",
              "      <td>2</td>\n",
              "      <td>1</td>\n",
              "    </tr>\n",
              "    <tr>\n",
              "      <th>699584</th>\n",
              "      <td>[GN2001]</td>\n",
              "      <td>20161019</td>\n",
              "      <td>Noi Albinoi (Dagur Kari`s Original Motion Pict...</td>\n",
              "      <td>5049560</td>\n",
              "      <td>[728102, 2574531, 2575645]</td>\n",
              "      <td>Aim for a Smile</td>\n",
              "      <td>[GN2000]</td>\n",
              "      <td>[Slowblow,  Sigridur Nielsdottir, Rubio Quartet]</td>\n",
              "      <td>699584</td>\n",
              "      <td>SlowblowSigridurNielsdottir,RubioQuartet</td>\n",
              "      <td>[SlowblowSigridurNielsdottir, RubioQuartet]</td>\n",
              "      <td>3</td>\n",
              "      <td>3</td>\n",
              "      <td>2</td>\n",
              "    </tr>\n",
              "  </tbody>\n",
              "</table>\n",
              "<p>187 rows × 14 columns</p>\n",
              "</div>"
            ],
            "text/plain": [
              "                  song_gn_dtl_gnr_basket  ...  revised_name_count\n",
              "7751            [GN1104, GN1103, GN1101]  ...                   1\n",
              "15463                   [GN1608, GN1601]  ...                   2\n",
              "19574           [GN1104, GN1103, GN1101]  ...                   1\n",
              "25055                   [GN0801, GN0803]  ...                   2\n",
              "26744                   [GN1601, GN1602]  ...                   2\n",
              "...                                  ...  ...                 ...\n",
              "678335  [GN1601, GN1602, GN1614, GN1613]  ...                   2\n",
              "685715                  [GN1503, GN1501]  ...                   2\n",
              "689454          [GN1601, GN1602, GN1613]  ...                   2\n",
              "695773  [GN1104, GN1103, GN1102, GN1101]  ...                   1\n",
              "699584                          [GN2001]  ...                   2\n",
              "\n",
              "[187 rows x 14 columns]"
            ]
          },
          "metadata": {
            "tags": []
          },
          "execution_count": 110
        }
      ]
    },
    {
      "cell_type": "markdown",
      "metadata": {
        "id": "hGDG52T55cDj",
        "colab_type": "text"
      },
      "source": [
        "수정을 하면서 문제가 생기는 것 같다. 처음부터 len으로 비교를 한 뒤에 접근하는 방식이 좋을 것 같음.. 하"
      ]
    }
  ]
}