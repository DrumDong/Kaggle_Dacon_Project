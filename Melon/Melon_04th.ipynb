{
  "nbformat": 4,
  "nbformat_minor": 0,
  "metadata": {
    "colab": {
      "name": "Melon_04th.ipynb",
      "provenance": [],
      "machine_shape": "hm"
    },
    "kernelspec": {
      "name": "python3",
      "display_name": "Python 3"
    }
  },
  "cells": [
    {
      "cell_type": "code",
      "metadata": {
        "id": "SeMPTbnr6IWE",
        "colab_type": "code",
        "outputId": "b58a9381-9652-4b3d-fe0b-5fb60278833c",
        "colab": {
          "base_uri": "https://localhost:8080/",
          "height": 72
        }
      },
      "source": [
        "import pandas as pd\n",
        "import seaborn as sns\n",
        "import numpy as np"
      ],
      "execution_count": 1,
      "outputs": [
        {
          "output_type": "stream",
          "text": [
            "/usr/local/lib/python3.6/dist-packages/statsmodels/tools/_testing.py:19: FutureWarning: pandas.util.testing is deprecated. Use the functions in the public API at pandas.testing instead.\n",
            "  import pandas.util.testing as tm\n"
          ],
          "name": "stderr"
        }
      ]
    },
    {
      "cell_type": "code",
      "metadata": {
        "id": "YOzTi-5b6TgF",
        "colab_type": "code",
        "outputId": "d3f084d6-e67e-4235-c81a-2d4d23f7efba",
        "colab": {
          "base_uri": "https://localhost:8080/",
          "height": 209
        }
      },
      "source": [
        "import matplotlib as mpl\n",
        "import matplotlib.pyplot as plt\n",
        " \n",
        "%config InlineBackend.figure_format = 'retina'\n",
        " \n",
        "!apt -qq -y install fonts-nanum\n",
        " \n",
        "import matplotlib.font_manager as fm\n",
        "fontpath = '/usr/share/fonts/truetype/nanum/NanumBarunGothic.ttf'\n",
        "font = fm.FontProperties(fname=fontpath, size=9)\n",
        "plt.rc('font', family='NanumBarunGothic') \n",
        "mpl.font_manager._rebuild()"
      ],
      "execution_count": 2,
      "outputs": [
        {
          "output_type": "stream",
          "text": [
            "The following NEW packages will be installed:\n",
            "  fonts-nanum\n",
            "0 upgraded, 1 newly installed, 0 to remove and 31 not upgraded.\n",
            "Need to get 9,604 kB of archives.\n",
            "After this operation, 29.5 MB of additional disk space will be used.\n",
            "Selecting previously unselected package fonts-nanum.\n",
            "(Reading database ... 144433 files and directories currently installed.)\n",
            "Preparing to unpack .../fonts-nanum_20170925-1_all.deb ...\n",
            "Unpacking fonts-nanum (20170925-1) ...\n",
            "Setting up fonts-nanum (20170925-1) ...\n",
            "Processing triggers for fontconfig (2.12.6-0ubuntu2) ...\n"
          ],
          "name": "stdout"
        }
      ]
    },
    {
      "cell_type": "code",
      "metadata": {
        "id": "jmsfeNAQ6Uwe",
        "colab_type": "code",
        "outputId": "6db5cce9-ab6d-4432-c132-0f3e5b2763f7",
        "colab": {
          "base_uri": "https://localhost:8080/",
          "height": 756
        }
      },
      "source": [
        "plt.figure(figsize=(5,5))\n",
        "plt.plot([0,1], [0,1], label='한글테스트용')\n",
        "plt.legend()\n",
        "plt.show()"
      ],
      "execution_count": 3,
      "outputs": [
        {
          "output_type": "stream",
          "text": [
            "findfont: Font family ['NanumBarunGothic'] not found. Falling back to DejaVu Sans.\n",
            "/usr/local/lib/python3.6/dist-packages/matplotlib/backends/backend_agg.py:214: RuntimeWarning: Glyph 54620 missing from current font.\n",
            "  font.set_text(s, 0.0, flags=flags)\n",
            "/usr/local/lib/python3.6/dist-packages/matplotlib/backends/backend_agg.py:214: RuntimeWarning: Glyph 44544 missing from current font.\n",
            "  font.set_text(s, 0.0, flags=flags)\n",
            "/usr/local/lib/python3.6/dist-packages/matplotlib/backends/backend_agg.py:214: RuntimeWarning: Glyph 53580 missing from current font.\n",
            "  font.set_text(s, 0.0, flags=flags)\n",
            "/usr/local/lib/python3.6/dist-packages/matplotlib/backends/backend_agg.py:214: RuntimeWarning: Glyph 49828 missing from current font.\n",
            "  font.set_text(s, 0.0, flags=flags)\n",
            "/usr/local/lib/python3.6/dist-packages/matplotlib/backends/backend_agg.py:214: RuntimeWarning: Glyph 53944 missing from current font.\n",
            "  font.set_text(s, 0.0, flags=flags)\n",
            "/usr/local/lib/python3.6/dist-packages/matplotlib/backends/backend_agg.py:214: RuntimeWarning: Glyph 50857 missing from current font.\n",
            "  font.set_text(s, 0.0, flags=flags)\n",
            "/usr/local/lib/python3.6/dist-packages/matplotlib/backends/backend_agg.py:183: RuntimeWarning: Glyph 54620 missing from current font.\n",
            "  font.set_text(s, 0, flags=flags)\n",
            "/usr/local/lib/python3.6/dist-packages/matplotlib/backends/backend_agg.py:183: RuntimeWarning: Glyph 44544 missing from current font.\n",
            "  font.set_text(s, 0, flags=flags)\n",
            "/usr/local/lib/python3.6/dist-packages/matplotlib/backends/backend_agg.py:183: RuntimeWarning: Glyph 53580 missing from current font.\n",
            "  font.set_text(s, 0, flags=flags)\n",
            "/usr/local/lib/python3.6/dist-packages/matplotlib/backends/backend_agg.py:183: RuntimeWarning: Glyph 49828 missing from current font.\n",
            "  font.set_text(s, 0, flags=flags)\n",
            "/usr/local/lib/python3.6/dist-packages/matplotlib/backends/backend_agg.py:183: RuntimeWarning: Glyph 53944 missing from current font.\n",
            "  font.set_text(s, 0, flags=flags)\n",
            "/usr/local/lib/python3.6/dist-packages/matplotlib/backends/backend_agg.py:183: RuntimeWarning: Glyph 50857 missing from current font.\n",
            "  font.set_text(s, 0, flags=flags)\n"
          ],
          "name": "stderr"
        },
        {
          "output_type": "display_data",
          "data": {
            "image/png": "[encoded data removed]",
            "text/plain": [
              "<Figure size 360x360 with 1 Axes>"
            ]
          },
          "metadata": {
            "tags": [],
            "image/png": {
              "width": 316,
              "height": 302
            },
            "needs_background": "light"
          }
        }
      ]
    },
    {
      "cell_type": "code",
      "metadata": {
        "id": "qbVpsI-T6WFc",
        "colab_type": "code",
        "colab": {}
      },
      "source": [
        "train = pd.read_json('/content/drive/My Drive/Colab Notebooks/data/멜론/train.json', typ = 'frame')\n",
        "val = pd.read_json('/content/drive/My Drive/Colab Notebooks/data/멜론/val.json', typ = 'frame')\n",
        "test = pd.read_json('/content/drive/My Drive/Colab Notebooks/data/멜론/test.json', typ = 'frame')\n",
        "song_meta = pd.read_json('/content/drive/My Drive/Colab Notebooks/data/멜론/song_meta.json', typ = 'frame')\n",
        "genre_gn_all = pd.read_json('/content/drive/My Drive/Colab Notebooks/data/멜론/genre_gn_all.json', typ = 'series')"
      ],
      "execution_count": 0,
      "outputs": []
    },
    {
      "cell_type": "code",
      "metadata": {
        "id": "NtOqpr7N6XnS",
        "colab_type": "code",
        "colab": {}
      },
      "source": [
        "for data in [train,val,test]:\n",
        "  data['년도'] = data['updt_date'].apply(lambda x: x[:4])  \n",
        "  data['월'] = data['updt_date'].apply(lambda x: x[5:7])\n",
        "  data['시간대'] = data['updt_date'].apply(lambda x:x[11:13])"
      ],
      "execution_count": 0,
      "outputs": []
    },
    {
      "cell_type": "markdown",
      "metadata": {
        "id": "rVgwQYHB6f7i",
        "colab_type": "text"
      },
      "source": [
        "# 아티스트 컬럼 전처리"
      ]
    },
    {
      "cell_type": "code",
      "metadata": {
        "id": "dRXtOXst6hmM",
        "colab_type": "code",
        "outputId": "ba979457-b026-4d15-d3f6-2f5c792237f3",
        "colab": {
          "base_uri": "https://localhost:8080/",
          "height": 280
        }
      },
      "source": [
        "song_meta.head()"
      ],
      "execution_count": 6,
      "outputs": [
        {
          "output_type": "execute_result",
          "data": {
            "text/html": [
              "<div>\n",
              "<style scoped>\n",
              "    .dataframe tbody tr th:only-of-type {\n",
              "        vertical-align: middle;\n",
              "    }\n",
              "\n",
              "    .dataframe tbody tr th {\n",
              "        vertical-align: top;\n",
              "    }\n",
              "\n",
              "    .dataframe thead th {\n",
              "        text-align: right;\n",
              "    }\n",
              "</style>\n",
              "<table border=\"1\" class=\"dataframe\">\n",
              "  <thead>\n",
              "    <tr style=\"text-align: right;\">\n",
              "      <th></th>\n",
              "      <th>song_gn_dtl_gnr_basket</th>\n",
              "      <th>issue_date</th>\n",
              "      <th>album_name</th>\n",
              "      <th>album_id</th>\n",
              "      <th>artist_id_basket</th>\n",
              "      <th>song_name</th>\n",
              "      <th>song_gn_gnr_basket</th>\n",
              "      <th>artist_name_basket</th>\n",
              "      <th>id</th>\n",
              "    </tr>\n",
              "  </thead>\n",
              "  <tbody>\n",
              "    <tr>\n",
              "      <th>0</th>\n",
              "      <td>[GN0901]</td>\n",
              "      <td>20140512</td>\n",
              "      <td>불후의 명곡 - 7080 추억의 얄개시대 팝송베스트</td>\n",
              "      <td>2255639</td>\n",
              "      <td>[2727]</td>\n",
              "      <td>Feelings</td>\n",
              "      <td>[GN0900]</td>\n",
              "      <td>[Various Artists]</td>\n",
              "      <td>0</td>\n",
              "    </tr>\n",
              "    <tr>\n",
              "      <th>1</th>\n",
              "      <td>[GN1601, GN1606]</td>\n",
              "      <td>20080421</td>\n",
              "      <td>Bach : Partitas Nos. 2, 3 &amp; 4</td>\n",
              "      <td>376431</td>\n",
              "      <td>[29966]</td>\n",
              "      <td>Bach : Partita No. 4 In D Major, BWV 828 - II....</td>\n",
              "      <td>[GN1600]</td>\n",
              "      <td>[Murray Perahia]</td>\n",
              "      <td>1</td>\n",
              "    </tr>\n",
              "    <tr>\n",
              "      <th>2</th>\n",
              "      <td>[GN0901]</td>\n",
              "      <td>20180518</td>\n",
              "      <td>Hit</td>\n",
              "      <td>4698747</td>\n",
              "      <td>[3361]</td>\n",
              "      <td>Solsbury Hill (Remastered 2002)</td>\n",
              "      <td>[GN0900]</td>\n",
              "      <td>[Peter Gabriel]</td>\n",
              "      <td>2</td>\n",
              "    </tr>\n",
              "    <tr>\n",
              "      <th>3</th>\n",
              "      <td>[GN1102, GN1101]</td>\n",
              "      <td>20151016</td>\n",
              "      <td>Feeling Right (Everything Is Nice) (Feat. Popc...</td>\n",
              "      <td>2644882</td>\n",
              "      <td>[838543]</td>\n",
              "      <td>Feeling Right (Everything Is Nice) (Feat. Popc...</td>\n",
              "      <td>[GN1100]</td>\n",
              "      <td>[Matoma]</td>\n",
              "      <td>3</td>\n",
              "    </tr>\n",
              "    <tr>\n",
              "      <th>4</th>\n",
              "      <td>[GN1802, GN1801]</td>\n",
              "      <td>20110824</td>\n",
              "      <td>그남자 그여자</td>\n",
              "      <td>2008470</td>\n",
              "      <td>[560160]</td>\n",
              "      <td>그남자 그여자</td>\n",
              "      <td>[GN1800]</td>\n",
              "      <td>[Jude Law]</td>\n",
              "      <td>4</td>\n",
              "    </tr>\n",
              "  </tbody>\n",
              "</table>\n",
              "</div>"
            ],
            "text/plain": [
              "  song_gn_dtl_gnr_basket  issue_date  ... artist_name_basket  id\n",
              "0               [GN0901]    20140512  ...  [Various Artists]   0\n",
              "1       [GN1601, GN1606]    20080421  ...   [Murray Perahia]   1\n",
              "2               [GN0901]    20180518  ...    [Peter Gabriel]   2\n",
              "3       [GN1102, GN1101]    20151016  ...           [Matoma]   3\n",
              "4       [GN1802, GN1801]    20110824  ...         [Jude Law]   4\n",
              "\n",
              "[5 rows x 9 columns]"
            ]
          },
          "metadata": {
            "tags": []
          },
          "execution_count": 6
        }
      ]
    },
    {
      "cell_type": "code",
      "metadata": {
        "id": "UwU2o70Z6lcU",
        "colab_type": "code",
        "outputId": "748a3ceb-1629-4a8b-b9e2-d71b030f2358",
        "colab": {
          "base_uri": "https://localhost:8080/",
          "height": 196
        }
      },
      "source": [
        "song_meta['artist_id_count'] = song_meta['artist_id_basket'].apply(lambda x: len(x))\n",
        "song_meta['artist_name_count'] = song_meta['artist_name_basket'].apply(lambda x: len(x))\\\n",
        "\n",
        "artist_frame=song_meta[['artist_id_basket','artist_name_basket','artist_id_count','artist_name_count']].copy()\n",
        "artist_frame.head()"
      ],
      "execution_count": 7,
      "outputs": [
        {
          "output_type": "execute_result",
          "data": {
            "text/html": [
              "<div>\n",
              "<style scoped>\n",
              "    .dataframe tbody tr th:only-of-type {\n",
              "        vertical-align: middle;\n",
              "    }\n",
              "\n",
              "    .dataframe tbody tr th {\n",
              "        vertical-align: top;\n",
              "    }\n",
              "\n",
              "    .dataframe thead th {\n",
              "        text-align: right;\n",
              "    }\n",
              "</style>\n",
              "<table border=\"1\" class=\"dataframe\">\n",
              "  <thead>\n",
              "    <tr style=\"text-align: right;\">\n",
              "      <th></th>\n",
              "      <th>artist_id_basket</th>\n",
              "      <th>artist_name_basket</th>\n",
              "      <th>artist_id_count</th>\n",
              "      <th>artist_name_count</th>\n",
              "    </tr>\n",
              "  </thead>\n",
              "  <tbody>\n",
              "    <tr>\n",
              "      <th>0</th>\n",
              "      <td>[2727]</td>\n",
              "      <td>[Various Artists]</td>\n",
              "      <td>1</td>\n",
              "      <td>1</td>\n",
              "    </tr>\n",
              "    <tr>\n",
              "      <th>1</th>\n",
              "      <td>[29966]</td>\n",
              "      <td>[Murray Perahia]</td>\n",
              "      <td>1</td>\n",
              "      <td>1</td>\n",
              "    </tr>\n",
              "    <tr>\n",
              "      <th>2</th>\n",
              "      <td>[3361]</td>\n",
              "      <td>[Peter Gabriel]</td>\n",
              "      <td>1</td>\n",
              "      <td>1</td>\n",
              "    </tr>\n",
              "    <tr>\n",
              "      <th>3</th>\n",
              "      <td>[838543]</td>\n",
              "      <td>[Matoma]</td>\n",
              "      <td>1</td>\n",
              "      <td>1</td>\n",
              "    </tr>\n",
              "    <tr>\n",
              "      <th>4</th>\n",
              "      <td>[560160]</td>\n",
              "      <td>[Jude Law]</td>\n",
              "      <td>1</td>\n",
              "      <td>1</td>\n",
              "    </tr>\n",
              "  </tbody>\n",
              "</table>\n",
              "</div>"
            ],
            "text/plain": [
              "  artist_id_basket artist_name_basket  artist_id_count  artist_name_count\n",
              "0           [2727]  [Various Artists]                1                  1\n",
              "1          [29966]   [Murray Perahia]                1                  1\n",
              "2           [3361]    [Peter Gabriel]                1                  1\n",
              "3         [838543]           [Matoma]                1                  1\n",
              "4         [560160]         [Jude Law]                1                  1"
            ]
          },
          "metadata": {
            "tags": []
          },
          "execution_count": 7
        }
      ]
    },
    {
      "cell_type": "markdown",
      "metadata": {
        "id": "bIbWAzWV7yZB",
        "colab_type": "text"
      },
      "source": [
        "아디스트 아이디와 이름이 Mapping이 되지 않는 경우가 있다.\n",
        "- 아이디는 하나인데 아티스트 이름이 두명으로 나오는 그런 경우"
      ]
    },
    {
      "cell_type": "code",
      "metadata": {
        "id": "1GmGK0TK8DRn",
        "colab_type": "code",
        "outputId": "3131fca6-8e9b-4df2-f483-5d21fcd8875b",
        "colab": {
          "base_uri": "https://localhost:8080/",
          "height": 733
        }
      },
      "source": [
        "artist_frame[artist_frame['artist_id_count'] != artist_frame['artist_name_count']]"
      ],
      "execution_count": 8,
      "outputs": [
        {
          "output_type": "execute_result",
          "data": {
            "text/html": [
              "<div>\n",
              "<style scoped>\n",
              "    .dataframe tbody tr th:only-of-type {\n",
              "        vertical-align: middle;\n",
              "    }\n",
              "\n",
              "    .dataframe tbody tr th {\n",
              "        vertical-align: top;\n",
              "    }\n",
              "\n",
              "    .dataframe thead th {\n",
              "        text-align: right;\n",
              "    }\n",
              "</style>\n",
              "<table border=\"1\" class=\"dataframe\">\n",
              "  <thead>\n",
              "    <tr style=\"text-align: right;\">\n",
              "      <th></th>\n",
              "      <th>artist_id_basket</th>\n",
              "      <th>artist_name_basket</th>\n",
              "      <th>artist_id_count</th>\n",
              "      <th>artist_name_count</th>\n",
              "    </tr>\n",
              "  </thead>\n",
              "  <tbody>\n",
              "    <tr>\n",
              "      <th>6238</th>\n",
              "      <td>[56936]</td>\n",
              "      <td>[Liberty, City]</td>\n",
              "      <td>1</td>\n",
              "      <td>2</td>\n",
              "    </tr>\n",
              "    <tr>\n",
              "      <th>15100</th>\n",
              "      <td>[232053]</td>\n",
              "      <td>[Los, Dioses]</td>\n",
              "      <td>1</td>\n",
              "      <td>2</td>\n",
              "    </tr>\n",
              "    <tr>\n",
              "      <th>64162</th>\n",
              "      <td>[174433, 1543263, 1459364, 2240313]</td>\n",
              "      <td>[Daniel Hope, Christian Badzura, Jane Berthe, ...</td>\n",
              "      <td>4</td>\n",
              "      <td>5</td>\n",
              "    </tr>\n",
              "    <tr>\n",
              "      <th>72352</th>\n",
              "      <td>[232053]</td>\n",
              "      <td>[Los, Dioses]</td>\n",
              "      <td>1</td>\n",
              "      <td>2</td>\n",
              "    </tr>\n",
              "    <tr>\n",
              "      <th>76782</th>\n",
              "      <td>[232053]</td>\n",
              "      <td>[Los, Dioses]</td>\n",
              "      <td>1</td>\n",
              "      <td>2</td>\n",
              "    </tr>\n",
              "    <tr>\n",
              "      <th>76944</th>\n",
              "      <td>[236266]</td>\n",
              "      <td>[The Randy Watson Experience &amp;, Bilal]</td>\n",
              "      <td>1</td>\n",
              "      <td>2</td>\n",
              "    </tr>\n",
              "    <tr>\n",
              "      <th>122311</th>\n",
              "      <td>[56936]</td>\n",
              "      <td>[Liberty, City]</td>\n",
              "      <td>1</td>\n",
              "      <td>2</td>\n",
              "    </tr>\n",
              "    <tr>\n",
              "      <th>207607</th>\n",
              "      <td>[965703]</td>\n",
              "      <td>[A`Typisk, ]</td>\n",
              "      <td>1</td>\n",
              "      <td>2</td>\n",
              "    </tr>\n",
              "    <tr>\n",
              "      <th>222961</th>\n",
              "      <td>[232053]</td>\n",
              "      <td>[Los, Dioses]</td>\n",
              "      <td>1</td>\n",
              "      <td>2</td>\n",
              "    </tr>\n",
              "    <tr>\n",
              "      <th>271176</th>\n",
              "      <td>[232053]</td>\n",
              "      <td>[Los, Dioses]</td>\n",
              "      <td>1</td>\n",
              "      <td>2</td>\n",
              "    </tr>\n",
              "    <tr>\n",
              "      <th>328016</th>\n",
              "      <td>[2112445, 2112446]</td>\n",
              "      <td>[Anna Palina, , Draupner]</td>\n",
              "      <td>2</td>\n",
              "      <td>3</td>\n",
              "    </tr>\n",
              "    <tr>\n",
              "      <th>353176</th>\n",
              "      <td>[232053]</td>\n",
              "      <td>[Los, Dioses]</td>\n",
              "      <td>1</td>\n",
              "      <td>2</td>\n",
              "    </tr>\n",
              "    <tr>\n",
              "      <th>407009</th>\n",
              "      <td>[232053]</td>\n",
              "      <td>[Los, Dioses]</td>\n",
              "      <td>1</td>\n",
              "      <td>2</td>\n",
              "    </tr>\n",
              "    <tr>\n",
              "      <th>446073</th>\n",
              "      <td>[823152]</td>\n",
              "      <td>[Victoria De Los, Angeles, Orchestre De L`Oper...</td>\n",
              "      <td>1</td>\n",
              "      <td>2</td>\n",
              "    </tr>\n",
              "    <tr>\n",
              "      <th>468473</th>\n",
              "      <td>[232053]</td>\n",
              "      <td>[Los, Dioses]</td>\n",
              "      <td>1</td>\n",
              "      <td>2</td>\n",
              "    </tr>\n",
              "    <tr>\n",
              "      <th>574453</th>\n",
              "      <td>[232053]</td>\n",
              "      <td>[Los, Dioses]</td>\n",
              "      <td>1</td>\n",
              "      <td>2</td>\n",
              "    </tr>\n",
              "    <tr>\n",
              "      <th>604370</th>\n",
              "      <td>[992517]</td>\n",
              "      <td>[Cast, Of The Lodge]</td>\n",
              "      <td>1</td>\n",
              "      <td>2</td>\n",
              "    </tr>\n",
              "    <tr>\n",
              "      <th>645357</th>\n",
              "      <td>[232053]</td>\n",
              "      <td>[Los, Dioses]</td>\n",
              "      <td>1</td>\n",
              "      <td>2</td>\n",
              "    </tr>\n",
              "    <tr>\n",
              "      <th>646017</th>\n",
              "      <td>[232053]</td>\n",
              "      <td>[Los, Dioses]</td>\n",
              "      <td>1</td>\n",
              "      <td>2</td>\n",
              "    </tr>\n",
              "    <tr>\n",
              "      <th>659055</th>\n",
              "      <td>[232053]</td>\n",
              "      <td>[Los, Dioses]</td>\n",
              "      <td>1</td>\n",
              "      <td>2</td>\n",
              "    </tr>\n",
              "    <tr>\n",
              "      <th>665605</th>\n",
              "      <td>[823152]</td>\n",
              "      <td>[Victoria De Los, Angeles, Orchestre De L`Oper...</td>\n",
              "      <td>1</td>\n",
              "      <td>2</td>\n",
              "    </tr>\n",
              "    <tr>\n",
              "      <th>695511</th>\n",
              "      <td>[167221]</td>\n",
              "      <td>[The, Beat Junkies]</td>\n",
              "      <td>1</td>\n",
              "      <td>2</td>\n",
              "    </tr>\n",
              "    <tr>\n",
              "      <th>699788</th>\n",
              "      <td>[779397, 493049, 727403]</td>\n",
              "      <td>[Henri Lanz, Skinny Williams, WILLIAM RAPPAPOR...</td>\n",
              "      <td>3</td>\n",
              "      <td>4</td>\n",
              "    </tr>\n",
              "  </tbody>\n",
              "</table>\n",
              "</div>"
            ],
            "text/plain": [
              "                           artist_id_basket  ... artist_name_count\n",
              "6238                                [56936]  ...                 2\n",
              "15100                              [232053]  ...                 2\n",
              "64162   [174433, 1543263, 1459364, 2240313]  ...                 5\n",
              "72352                              [232053]  ...                 2\n",
              "76782                              [232053]  ...                 2\n",
              "76944                              [236266]  ...                 2\n",
              "122311                              [56936]  ...                 2\n",
              "207607                             [965703]  ...                 2\n",
              "222961                             [232053]  ...                 2\n",
              "271176                             [232053]  ...                 2\n",
              "328016                   [2112445, 2112446]  ...                 3\n",
              "353176                             [232053]  ...                 2\n",
              "407009                             [232053]  ...                 2\n",
              "446073                             [823152]  ...                 2\n",
              "468473                             [232053]  ...                 2\n",
              "574453                             [232053]  ...                 2\n",
              "604370                             [992517]  ...                 2\n",
              "645357                             [232053]  ...                 2\n",
              "646017                             [232053]  ...                 2\n",
              "659055                             [232053]  ...                 2\n",
              "665605                             [823152]  ...                 2\n",
              "695511                             [167221]  ...                 2\n",
              "699788             [779397, 493049, 727403]  ...                 4\n",
              "\n",
              "[23 rows x 4 columns]"
            ]
          },
          "metadata": {
            "tags": []
          },
          "execution_count": 8
        }
      ]
    },
    {
      "cell_type": "markdown",
      "metadata": {
        "id": "o569aVi78TvT",
        "colab_type": "text"
      },
      "source": [
        "Case 1\n",
        "- artist_id_count:1\tartist_name_count:2"
      ]
    },
    {
      "cell_type": "code",
      "metadata": {
        "id": "I1xEmuop8j6E",
        "colab_type": "code",
        "colab": {}
      },
      "source": [
        "artist_frame.loc[(artist_frame['artist_id_count']==1)& (artist_frame['artist_name_count']==2),'artist_name_basket']=\\\n",
        "artist_frame.loc[(artist_frame['artist_id_count']==1)& (artist_frame['artist_name_count']==2),'artist_name_basket'].apply(lambda x: ('').join(('').join(x).split(',')).split(','))"
      ],
      "execution_count": 0,
      "outputs": []
    },
    {
      "cell_type": "markdown",
      "metadata": {
        "id": "SVtwtJwM-Nwm",
        "colab_type": "text"
      },
      "source": [
        "Case 2\n",
        "- artist_id_count:2\tartist_name_count:3"
      ]
    },
    {
      "cell_type": "code",
      "metadata": {
        "id": "8NZiaN-2-m9d",
        "colab_type": "code",
        "colab": {}
      },
      "source": [
        "artist_frame.loc[(artist_frame['artist_id_count']==2)& (artist_frame['artist_name_count']==3),'artist_name_basket']=\\\n",
        "artist_frame.loc[(artist_frame['artist_id_count']==2)& (artist_frame['artist_name_count']==3),'artist_name_basket'].apply(lambda x: (' ').join(x).split('  '))"
      ],
      "execution_count": 0,
      "outputs": []
    },
    {
      "cell_type": "markdown",
      "metadata": {
        "id": "DcWiVWTs_CaB",
        "colab_type": "text"
      },
      "source": [
        "Case 3\n",
        "- artist_id_count:3 artist_name_count:4"
      ]
    },
    {
      "cell_type": "code",
      "metadata": {
        "id": "YYX7DeJn_IHa",
        "colab_type": "code",
        "colab": {}
      },
      "source": [
        "artist_frame.loc[(artist_frame['artist_id_count']==3)& (artist_frame['artist_name_count']==4),'artist_name_basket'].values[0].remove('')"
      ],
      "execution_count": 0,
      "outputs": []
    },
    {
      "cell_type": "code",
      "metadata": {
        "id": "FpxdCUcb_2Lc",
        "colab_type": "code",
        "outputId": "862efe14-ff34-47c8-9756-c296fa2bd92a",
        "colab": {
          "base_uri": "https://localhost:8080/",
          "height": 34
        }
      },
      "source": [
        "artist_frame.loc[(artist_frame['artist_id_count']==3)& (artist_frame['artist_name_count']==4),'artist_name_basket'].values[0]"
      ],
      "execution_count": 12,
      "outputs": [
        {
          "output_type": "execute_result",
          "data": {
            "text/plain": [
              "['Henri Lanz', 'Skinny Williams', 'WILLIAM RAPPAPORT']"
            ]
          },
          "metadata": {
            "tags": []
          },
          "execution_count": 12
        }
      ]
    },
    {
      "cell_type": "markdown",
      "metadata": {
        "id": "bUX3mV1i_7E_",
        "colab_type": "text"
      },
      "source": [
        "Case 4\n",
        "- artist_id_count:4 artist_name_count:5"
      ]
    },
    {
      "cell_type": "code",
      "metadata": {
        "id": "9B3ctwInAEYE",
        "colab_type": "code",
        "colab": {}
      },
      "source": [
        "artist_frame.loc[(artist_frame['artist_id_count']==4)& (artist_frame['artist_name_count']==5),'artist_name_basket'].values[0].remove('Z&#252;rcher')"
      ],
      "execution_count": 0,
      "outputs": []
    },
    {
      "cell_type": "code",
      "metadata": {
        "id": "IKiym6ChAOS6",
        "colab_type": "code",
        "outputId": "9664780b-749f-4084-d069-1686afbef425",
        "colab": {
          "base_uri": "https://localhost:8080/",
          "height": 34
        }
      },
      "source": [
        "artist_frame.loc[(artist_frame['artist_id_count']==4)& (artist_frame['artist_name_count']==5),'artist_name_basket'].values[0]"
      ],
      "execution_count": 14,
      "outputs": [
        {
          "output_type": "execute_result",
          "data": {
            "text/plain": [
              "['Daniel Hope', 'Christian Badzura', 'Jane Berthe', 'Kammerorchester']"
            ]
          },
          "metadata": {
            "tags": []
          },
          "execution_count": 14
        }
      ]
    },
    {
      "cell_type": "markdown",
      "metadata": {
        "id": "T09pODlDAQri",
        "colab_type": "text"
      },
      "source": [
        "---\n",
        " 다시 한번 확인해 보자."
      ]
    },
    {
      "cell_type": "code",
      "metadata": {
        "id": "J7CeWMAuATj_",
        "colab_type": "code",
        "colab": {}
      },
      "source": [
        "artist_frame['revised_artist_name_count'] = artist_frame['artist_name_basket'].apply(lambda x: len(x))"
      ],
      "execution_count": 0,
      "outputs": []
    },
    {
      "cell_type": "code",
      "metadata": {
        "id": "eQLRn4vPB5qO",
        "colab_type": "code",
        "outputId": "9ddf52e6-8df0-44cf-e215-181891e609c1",
        "colab": {
          "base_uri": "https://localhost:8080/",
          "height": 47
        }
      },
      "source": [
        "artist_frame[artist_frame['revised_artist_name_count'] != artist_frame['artist_id_count']]"
      ],
      "execution_count": 16,
      "outputs": [
        {
          "output_type": "execute_result",
          "data": {
            "text/html": [
              "<div>\n",
              "<style scoped>\n",
              "    .dataframe tbody tr th:only-of-type {\n",
              "        vertical-align: middle;\n",
              "    }\n",
              "\n",
              "    .dataframe tbody tr th {\n",
              "        vertical-align: top;\n",
              "    }\n",
              "\n",
              "    .dataframe thead th {\n",
              "        text-align: right;\n",
              "    }\n",
              "</style>\n",
              "<table border=\"1\" class=\"dataframe\">\n",
              "  <thead>\n",
              "    <tr style=\"text-align: right;\">\n",
              "      <th></th>\n",
              "      <th>artist_id_basket</th>\n",
              "      <th>artist_name_basket</th>\n",
              "      <th>artist_id_count</th>\n",
              "      <th>artist_name_count</th>\n",
              "      <th>revised_artist_name_count</th>\n",
              "    </tr>\n",
              "  </thead>\n",
              "  <tbody>\n",
              "  </tbody>\n",
              "</table>\n",
              "</div>"
            ],
            "text/plain": [
              "Empty DataFrame\n",
              "Columns: [artist_id_basket, artist_name_basket, artist_id_count, artist_name_count, revised_artist_name_count]\n",
              "Index: []"
            ]
          },
          "metadata": {
            "tags": []
          },
          "execution_count": 16
        }
      ]
    },
    {
      "cell_type": "markdown",
      "metadata": {
        "id": "Q1ijibOjCieV",
        "colab_type": "text"
      },
      "source": [
        "아티스트 ID와 아티스트 Name의 개수가 잘 맞춰진 것으로 확인된다."
      ]
    },
    {
      "cell_type": "code",
      "metadata": {
        "id": "in2uGVNDCwcZ",
        "colab_type": "code",
        "colab": {}
      },
      "source": [
        "song_meta['revised_artist_basket']=artist_frame['artist_name_basket']"
      ],
      "execution_count": 0,
      "outputs": []
    },
    {
      "cell_type": "code",
      "metadata": {
        "id": "zudleWVKCb5X",
        "colab_type": "code",
        "colab": {}
      },
      "source": [
        "song_id=np.repeat(song_meta['id'].values,list(map(len,song_meta.revised_artist_basket)))\n",
        "artist_list=list(np.concatenate(song_meta['revised_artist_basket'].values))\n",
        "song_artist=pd.DataFrame({'song_id':song_id,'artist' : artist_list})"
      ],
      "execution_count": 0,
      "outputs": []
    },
    {
      "cell_type": "code",
      "metadata": {
        "id": "Eu89kBw3DBR8",
        "colab_type": "code",
        "outputId": "c9c754c3-6440-4b96-9e25-3bb18f72182e",
        "colab": {
          "base_uri": "https://localhost:8080/",
          "height": 404
        }
      },
      "source": [
        "song_artist"
      ],
      "execution_count": 19,
      "outputs": [
        {
          "output_type": "execute_result",
          "data": {
            "text/html": [
              "<div>\n",
              "<style scoped>\n",
              "    .dataframe tbody tr th:only-of-type {\n",
              "        vertical-align: middle;\n",
              "    }\n",
              "\n",
              "    .dataframe tbody tr th {\n",
              "        vertical-align: top;\n",
              "    }\n",
              "\n",
              "    .dataframe thead th {\n",
              "        text-align: right;\n",
              "    }\n",
              "</style>\n",
              "<table border=\"1\" class=\"dataframe\">\n",
              "  <thead>\n",
              "    <tr style=\"text-align: right;\">\n",
              "      <th></th>\n",
              "      <th>song_id</th>\n",
              "      <th>artist</th>\n",
              "    </tr>\n",
              "  </thead>\n",
              "  <tbody>\n",
              "    <tr>\n",
              "      <th>0</th>\n",
              "      <td>0</td>\n",
              "      <td>Various Artists</td>\n",
              "    </tr>\n",
              "    <tr>\n",
              "      <th>1</th>\n",
              "      <td>1</td>\n",
              "      <td>Murray Perahia</td>\n",
              "    </tr>\n",
              "    <tr>\n",
              "      <th>2</th>\n",
              "      <td>2</td>\n",
              "      <td>Peter Gabriel</td>\n",
              "    </tr>\n",
              "    <tr>\n",
              "      <th>3</th>\n",
              "      <td>3</td>\n",
              "      <td>Matoma</td>\n",
              "    </tr>\n",
              "    <tr>\n",
              "      <th>4</th>\n",
              "      <td>4</td>\n",
              "      <td>Jude Law</td>\n",
              "    </tr>\n",
              "    <tr>\n",
              "      <th>...</th>\n",
              "      <td>...</td>\n",
              "      <td>...</td>\n",
              "    </tr>\n",
              "    <tr>\n",
              "      <th>779457</th>\n",
              "      <td>707984</td>\n",
              "      <td>Fela Kuti</td>\n",
              "    </tr>\n",
              "    <tr>\n",
              "      <th>779458</th>\n",
              "      <td>707985</td>\n",
              "      <td>Cyndi Lauper</td>\n",
              "    </tr>\n",
              "    <tr>\n",
              "      <th>779459</th>\n",
              "      <td>707986</td>\n",
              "      <td>윤종신</td>\n",
              "    </tr>\n",
              "    <tr>\n",
              "      <th>779460</th>\n",
              "      <td>707987</td>\n",
              "      <td>Nature Piano</td>\n",
              "    </tr>\n",
              "    <tr>\n",
              "      <th>779461</th>\n",
              "      <td>707988</td>\n",
              "      <td>김경호</td>\n",
              "    </tr>\n",
              "  </tbody>\n",
              "</table>\n",
              "<p>779462 rows × 2 columns</p>\n",
              "</div>"
            ],
            "text/plain": [
              "        song_id           artist\n",
              "0             0  Various Artists\n",
              "1             1   Murray Perahia\n",
              "2             2    Peter Gabriel\n",
              "3             3           Matoma\n",
              "4             4         Jude Law\n",
              "...         ...              ...\n",
              "779457   707984        Fela Kuti\n",
              "779458   707985     Cyndi Lauper\n",
              "779459   707986              윤종신\n",
              "779460   707987     Nature Piano\n",
              "779461   707988              김경호\n",
              "\n",
              "[779462 rows x 2 columns]"
            ]
          },
          "metadata": {
            "tags": []
          },
          "execution_count": 19
        }
      ]
    },
    {
      "cell_type": "code",
      "metadata": {
        "id": "8EYiCZEpDD3S",
        "colab_type": "code",
        "outputId": "9cbac62a-0d4e-4214-8238-c4b18a5d4fab",
        "colab": {
          "base_uri": "https://localhost:8080/",
          "height": 34
        }
      },
      "source": [
        "song_id=np.repeat(song_meta['id'].values,list(map(len,song_meta.artist_id_basket)))\n",
        "artist_list=list(np.concatenate(song_meta['artist_id_basket'].values))\n",
        "#song_artist['artist_id'] = artist_list\n",
        "\n",
        "len(artist_list)"
      ],
      "execution_count": 20,
      "outputs": [
        {
          "output_type": "execute_result",
          "data": {
            "text/plain": [
              "779462"
            ]
          },
          "metadata": {
            "tags": []
          },
          "execution_count": 20
        }
      ]
    },
    {
      "cell_type": "code",
      "metadata": {
        "id": "sPHo2ikKDsB_",
        "colab_type": "code",
        "colab": {}
      },
      "source": [
        "song_artist['artist_id'] = artist_list"
      ],
      "execution_count": 0,
      "outputs": []
    },
    {
      "cell_type": "code",
      "metadata": {
        "id": "nMc5KtOzDvwa",
        "colab_type": "code",
        "outputId": "ec25aba1-8c8b-4653-e0ed-a8e9fcf4594a",
        "colab": {
          "base_uri": "https://localhost:8080/",
          "height": 34
        }
      },
      "source": [
        "song_artist['artist_id'].unique().shape"
      ],
      "execution_count": 22,
      "outputs": [
        {
          "output_type": "execute_result",
          "data": {
            "text/plain": [
              "(115457,)"
            ]
          },
          "metadata": {
            "tags": []
          },
          "execution_count": 22
        }
      ]
    },
    {
      "cell_type": "markdown",
      "metadata": {
        "id": "0YnVKjrcMExN",
        "colab_type": "text"
      },
      "source": [
        "# Artist Vector"
      ]
    },
    {
      "cell_type": "code",
      "metadata": {
        "id": "PXrL0rzZM40x",
        "colab_type": "code",
        "colab": {}
      },
      "source": [
        "song_artist_dict= {song_meta.loc[idx,'id']:song_meta.loc[idx,'revised_artist_basket'] for idx in song_meta.index}"
      ],
      "execution_count": 0,
      "outputs": []
    },
    {
      "cell_type": "code",
      "metadata": {
        "id": "ZQizjG8JMNq2",
        "colab_type": "code",
        "colab": {}
      },
      "source": [
        "# 해당 아티스트 이름을 그대로 넣는다.\n",
        "train['artists']= train['songs'].apply(lambda x: np.concatenate([song_artist_dict[song] for song in x]))"
      ],
      "execution_count": 0,
      "outputs": []
    },
    {
      "cell_type": "code",
      "metadata": {
        "id": "D7q2vDNPN9z-",
        "colab_type": "code",
        "outputId": "df5adc3c-e63a-48e4-d8ea-5002cd96c702",
        "colab": {
          "base_uri": "https://localhost:8080/",
          "height": 772
        }
      },
      "source": [
        "train"
      ],
      "execution_count": 25,
      "outputs": [
        {
          "output_type": "execute_result",
          "data": {
            "text/html": [
              "<div>\n",
              "<style scoped>\n",
              "    .dataframe tbody tr th:only-of-type {\n",
              "        vertical-align: middle;\n",
              "    }\n",
              "\n",
              "    .dataframe tbody tr th {\n",
              "        vertical-align: top;\n",
              "    }\n",
              "\n",
              "    .dataframe thead th {\n",
              "        text-align: right;\n",
              "    }\n",
              "</style>\n",
              "<table border=\"1\" class=\"dataframe\">\n",
              "  <thead>\n",
              "    <tr style=\"text-align: right;\">\n",
              "      <th></th>\n",
              "      <th>tags</th>\n",
              "      <th>id</th>\n",
              "      <th>plylst_title</th>\n",
              "      <th>songs</th>\n",
              "      <th>like_cnt</th>\n",
              "      <th>updt_date</th>\n",
              "      <th>년도</th>\n",
              "      <th>월</th>\n",
              "      <th>시간대</th>\n",
              "      <th>artists</th>\n",
              "    </tr>\n",
              "  </thead>\n",
              "  <tbody>\n",
              "    <tr>\n",
              "      <th>0</th>\n",
              "      <td>[락]</td>\n",
              "      <td>61281</td>\n",
              "      <td>여행같은 음악</td>\n",
              "      <td>[525514, 129701, 383374, 562083, 297861, 13954...</td>\n",
              "      <td>71</td>\n",
              "      <td>2013-12-19 18:36:19.000</td>\n",
              "      <td>2013</td>\n",
              "      <td>12</td>\n",
              "      <td>18</td>\n",
              "      <td>[The Sol, Royal Bangs, Honeymoon Suite, Phoeni...</td>\n",
              "    </tr>\n",
              "    <tr>\n",
              "      <th>1</th>\n",
              "      <td>[추억, 회상]</td>\n",
              "      <td>10532</td>\n",
              "      <td>요즘 너 말야</td>\n",
              "      <td>[432406, 675945, 497066, 120377, 389529, 24427...</td>\n",
              "      <td>1</td>\n",
              "      <td>2014-12-02 16:19:42.000</td>\n",
              "      <td>2014</td>\n",
              "      <td>12</td>\n",
              "      <td>16</td>\n",
              "      <td>[이승환, 윤하 (YOUNHA), 윤하 (YOUNHA), 윤하 (YOUNHA), 박...</td>\n",
              "    </tr>\n",
              "    <tr>\n",
              "      <th>2</th>\n",
              "      <td>[까페, 잔잔한]</td>\n",
              "      <td>76951</td>\n",
              "      <td>편하게, 잔잔하게 들을 수 있는 곡.-</td>\n",
              "      <td>[83116, 276692, 166267, 186301, 354465, 256598...</td>\n",
              "      <td>17</td>\n",
              "      <td>2017-08-28 07:09:34.000</td>\n",
              "      <td>2017</td>\n",
              "      <td>08</td>\n",
              "      <td>07</td>\n",
              "      <td>[소울라이츠, 소울라이츠, 뷰티핸섬, 소울사이어티, 카멜, 오디오라인 (Audiol...</td>\n",
              "    </tr>\n",
              "    <tr>\n",
              "      <th>3</th>\n",
              "      <td>[연말, 눈오는날, 캐럴, 분위기, 따듯한, 크리스마스캐럴, 겨울노래, 크리스마스,...</td>\n",
              "      <td>147456</td>\n",
              "      <td>크리스마스 분위기에 흠뻑 취하고 싶을때</td>\n",
              "      <td>[394031, 195524, 540149, 287984, 440773, 10033...</td>\n",
              "      <td>33</td>\n",
              "      <td>2019-12-05 15:15:18.000</td>\n",
              "      <td>2019</td>\n",
              "      <td>12</td>\n",
              "      <td>15</td>\n",
              "      <td>[Idina Menzel, Aurora, 김동률, Ashley Tisdale, Ma...</td>\n",
              "    </tr>\n",
              "    <tr>\n",
              "      <th>4</th>\n",
              "      <td>[댄스]</td>\n",
              "      <td>27616</td>\n",
              "      <td>추억의 노래 ㅋ</td>\n",
              "      <td>[159327, 553610, 5130, 645103, 294435, 100657,...</td>\n",
              "      <td>9</td>\n",
              "      <td>2011-10-25 13:54:56.000</td>\n",
              "      <td>2011</td>\n",
              "      <td>10</td>\n",
              "      <td>13</td>\n",
              "      <td>[장나라, 영턱스클럽, 젝스키스, 박진영, 보아 (BoA), DJ DOC, 핑클 (...</td>\n",
              "    </tr>\n",
              "    <tr>\n",
              "      <th>...</th>\n",
              "      <td>...</td>\n",
              "      <td>...</td>\n",
              "      <td>...</td>\n",
              "      <td>...</td>\n",
              "      <td>...</td>\n",
              "      <td>...</td>\n",
              "      <td>...</td>\n",
              "      <td>...</td>\n",
              "      <td>...</td>\n",
              "      <td>...</td>\n",
              "    </tr>\n",
              "    <tr>\n",
              "      <th>115066</th>\n",
              "      <td>[록메탈, 밴드사운드, 록, 락메탈, 메탈, 락, extreme]</td>\n",
              "      <td>120325</td>\n",
              "      <td>METAL E'SM #2</td>\n",
              "      <td>[429629, 441511, 612106, 516359, 691768, 38714...</td>\n",
              "      <td>3</td>\n",
              "      <td>2020-04-17 04:31:11.000</td>\n",
              "      <td>2020</td>\n",
              "      <td>04</td>\n",
              "      <td>04</td>\n",
              "      <td>[DevilDriver, American Head Charge, American H...</td>\n",
              "    </tr>\n",
              "    <tr>\n",
              "      <th>115067</th>\n",
              "      <td>[일렉]</td>\n",
              "      <td>106976</td>\n",
              "      <td>빠른 리스너를 위한 따끈따끈한 최신 인기 EDM 모음!</td>\n",
              "      <td>[321330, 216057, 534472, 240306, 331098, 23288...</td>\n",
              "      <td>13</td>\n",
              "      <td>2015-12-24 17:23:19.000</td>\n",
              "      <td>2015</td>\n",
              "      <td>12</td>\n",
              "      <td>17</td>\n",
              "      <td>[Komes, Ctrl Alt Del, Parachute Youth, Alex Bo...</td>\n",
              "    </tr>\n",
              "    <tr>\n",
              "      <th>115068</th>\n",
              "      <td>[담시, 가족, 눈물, 그리움, 주인공, 나의_이야기, 사랑, 친구]</td>\n",
              "      <td>11343</td>\n",
              "      <td>#1. 눈물이 앞을 가리는 나의_이야기</td>\n",
              "      <td>[50512, 249024, 250608, 371171, 229942, 694943...</td>\n",
              "      <td>4</td>\n",
              "      <td>2019-08-16 20:59:22.000</td>\n",
              "      <td>2019</td>\n",
              "      <td>08</td>\n",
              "      <td>20</td>\n",
              "      <td>[김진호 (SG워너비), 가비엔제이, FTISLAND (FT아일랜드), SG 워너비...</td>\n",
              "    </tr>\n",
              "    <tr>\n",
              "      <th>115069</th>\n",
              "      <td>[잔잔한, 버스, 퇴근버스, Pop, 풍경, 퇴근길]</td>\n",
              "      <td>131982</td>\n",
              "      <td>퇴근 버스에서 편히 들으면서 하루를 마무리하기에 좋은 POP</td>\n",
              "      <td>[533534, 608114, 343608, 417140, 609009, 30217...</td>\n",
              "      <td>4</td>\n",
              "      <td>2019-10-25 23:40:42.000</td>\n",
              "      <td>2019</td>\n",
              "      <td>10</td>\n",
              "      <td>23</td>\n",
              "      <td>[Air, Mew, Thom Yorke, Bon Iver, St. Vincent, ...</td>\n",
              "    </tr>\n",
              "    <tr>\n",
              "      <th>115070</th>\n",
              "      <td>[노래추천, 팝송추천, 팝송, 팝송모음]</td>\n",
              "      <td>100389</td>\n",
              "      <td>FAVORITE POPSONG!!!</td>\n",
              "      <td>[26008, 456354, 324105, 89871, 135272, 143548,...</td>\n",
              "      <td>17</td>\n",
              "      <td>2020-04-18 20:35:06.000</td>\n",
              "      <td>2020</td>\n",
              "      <td>04</td>\n",
              "      <td>20</td>\n",
              "      <td>[Shawn Colvin, Radiohead, Radiohead, Queen, Oa...</td>\n",
              "    </tr>\n",
              "  </tbody>\n",
              "</table>\n",
              "<p>115071 rows × 10 columns</p>\n",
              "</div>"
            ],
            "text/plain": [
              "                                                     tags  ...                                            artists\n",
              "0                                                     [락]  ...  [The Sol, Royal Bangs, Honeymoon Suite, Phoeni...\n",
              "1                                                [추억, 회상]  ...  [이승환, 윤하 (YOUNHA), 윤하 (YOUNHA), 윤하 (YOUNHA), 박...\n",
              "2                                               [까페, 잔잔한]  ...  [소울라이츠, 소울라이츠, 뷰티핸섬, 소울사이어티, 카멜, 오디오라인 (Audiol...\n",
              "3       [연말, 눈오는날, 캐럴, 분위기, 따듯한, 크리스마스캐럴, 겨울노래, 크리스마스,...  ...  [Idina Menzel, Aurora, 김동률, Ashley Tisdale, Ma...\n",
              "4                                                    [댄스]  ...  [장나라, 영턱스클럽, 젝스키스, 박진영, 보아 (BoA), DJ DOC, 핑클 (...\n",
              "...                                                   ...  ...                                                ...\n",
              "115066               [록메탈, 밴드사운드, 록, 락메탈, 메탈, 락, extreme]  ...  [DevilDriver, American Head Charge, American H...\n",
              "115067                                               [일렉]  ...  [Komes, Ctrl Alt Del, Parachute Youth, Alex Bo...\n",
              "115068             [담시, 가족, 눈물, 그리움, 주인공, 나의_이야기, 사랑, 친구]  ...  [김진호 (SG워너비), 가비엔제이, FTISLAND (FT아일랜드), SG 워너비...\n",
              "115069                      [잔잔한, 버스, 퇴근버스, Pop, 풍경, 퇴근길]  ...  [Air, Mew, Thom Yorke, Bon Iver, St. Vincent, ...\n",
              "115070                             [노래추천, 팝송추천, 팝송, 팝송모음]  ...  [Shawn Colvin, Radiohead, Radiohead, Queen, Oa...\n",
              "\n",
              "[115071 rows x 10 columns]"
            ]
          },
          "metadata": {
            "tags": []
          },
          "execution_count": 25
        }
      ]
    },
    {
      "cell_type": "code",
      "metadata": {
        "id": "ySmMengkQWNm",
        "colab_type": "code",
        "outputId": "da92e3ea-e806-4d58-d22f-a323f796b440",
        "colab": {
          "base_uri": "https://localhost:8080/",
          "height": 347
        }
      },
      "source": [
        "train.head()"
      ],
      "execution_count": 26,
      "outputs": [
        {
          "output_type": "execute_result",
          "data": {
            "text/html": [
              "<div>\n",
              "<style scoped>\n",
              "    .dataframe tbody tr th:only-of-type {\n",
              "        vertical-align: middle;\n",
              "    }\n",
              "\n",
              "    .dataframe tbody tr th {\n",
              "        vertical-align: top;\n",
              "    }\n",
              "\n",
              "    .dataframe thead th {\n",
              "        text-align: right;\n",
              "    }\n",
              "</style>\n",
              "<table border=\"1\" class=\"dataframe\">\n",
              "  <thead>\n",
              "    <tr style=\"text-align: right;\">\n",
              "      <th></th>\n",
              "      <th>tags</th>\n",
              "      <th>id</th>\n",
              "      <th>plylst_title</th>\n",
              "      <th>songs</th>\n",
              "      <th>like_cnt</th>\n",
              "      <th>updt_date</th>\n",
              "      <th>년도</th>\n",
              "      <th>월</th>\n",
              "      <th>시간대</th>\n",
              "      <th>artists</th>\n",
              "    </tr>\n",
              "  </thead>\n",
              "  <tbody>\n",
              "    <tr>\n",
              "      <th>0</th>\n",
              "      <td>[락]</td>\n",
              "      <td>61281</td>\n",
              "      <td>여행같은 음악</td>\n",
              "      <td>[525514, 129701, 383374, 562083, 297861, 13954...</td>\n",
              "      <td>71</td>\n",
              "      <td>2013-12-19 18:36:19.000</td>\n",
              "      <td>2013</td>\n",
              "      <td>12</td>\n",
              "      <td>18</td>\n",
              "      <td>[The Sol, Royal Bangs, Honeymoon Suite, Phoeni...</td>\n",
              "    </tr>\n",
              "    <tr>\n",
              "      <th>1</th>\n",
              "      <td>[추억, 회상]</td>\n",
              "      <td>10532</td>\n",
              "      <td>요즘 너 말야</td>\n",
              "      <td>[432406, 675945, 497066, 120377, 389529, 24427...</td>\n",
              "      <td>1</td>\n",
              "      <td>2014-12-02 16:19:42.000</td>\n",
              "      <td>2014</td>\n",
              "      <td>12</td>\n",
              "      <td>16</td>\n",
              "      <td>[이승환, 윤하 (YOUNHA), 윤하 (YOUNHA), 윤하 (YOUNHA), 박...</td>\n",
              "    </tr>\n",
              "    <tr>\n",
              "      <th>2</th>\n",
              "      <td>[까페, 잔잔한]</td>\n",
              "      <td>76951</td>\n",
              "      <td>편하게, 잔잔하게 들을 수 있는 곡.-</td>\n",
              "      <td>[83116, 276692, 166267, 186301, 354465, 256598...</td>\n",
              "      <td>17</td>\n",
              "      <td>2017-08-28 07:09:34.000</td>\n",
              "      <td>2017</td>\n",
              "      <td>08</td>\n",
              "      <td>07</td>\n",
              "      <td>[소울라이츠, 소울라이츠, 뷰티핸섬, 소울사이어티, 카멜, 오디오라인 (Audiol...</td>\n",
              "    </tr>\n",
              "    <tr>\n",
              "      <th>3</th>\n",
              "      <td>[연말, 눈오는날, 캐럴, 분위기, 따듯한, 크리스마스캐럴, 겨울노래, 크리스마스,...</td>\n",
              "      <td>147456</td>\n",
              "      <td>크리스마스 분위기에 흠뻑 취하고 싶을때</td>\n",
              "      <td>[394031, 195524, 540149, 287984, 440773, 10033...</td>\n",
              "      <td>33</td>\n",
              "      <td>2019-12-05 15:15:18.000</td>\n",
              "      <td>2019</td>\n",
              "      <td>12</td>\n",
              "      <td>15</td>\n",
              "      <td>[Idina Menzel, Aurora, 김동률, Ashley Tisdale, Ma...</td>\n",
              "    </tr>\n",
              "    <tr>\n",
              "      <th>4</th>\n",
              "      <td>[댄스]</td>\n",
              "      <td>27616</td>\n",
              "      <td>추억의 노래 ㅋ</td>\n",
              "      <td>[159327, 553610, 5130, 645103, 294435, 100657,...</td>\n",
              "      <td>9</td>\n",
              "      <td>2011-10-25 13:54:56.000</td>\n",
              "      <td>2011</td>\n",
              "      <td>10</td>\n",
              "      <td>13</td>\n",
              "      <td>[장나라, 영턱스클럽, 젝스키스, 박진영, 보아 (BoA), DJ DOC, 핑클 (...</td>\n",
              "    </tr>\n",
              "  </tbody>\n",
              "</table>\n",
              "</div>"
            ],
            "text/plain": [
              "                                                tags  ...                                            artists\n",
              "0                                                [락]  ...  [The Sol, Royal Bangs, Honeymoon Suite, Phoeni...\n",
              "1                                           [추억, 회상]  ...  [이승환, 윤하 (YOUNHA), 윤하 (YOUNHA), 윤하 (YOUNHA), 박...\n",
              "2                                          [까페, 잔잔한]  ...  [소울라이츠, 소울라이츠, 뷰티핸섬, 소울사이어티, 카멜, 오디오라인 (Audiol...\n",
              "3  [연말, 눈오는날, 캐럴, 분위기, 따듯한, 크리스마스캐럴, 겨울노래, 크리스마스,...  ...  [Idina Menzel, Aurora, 김동률, Ashley Tisdale, Ma...\n",
              "4                                               [댄스]  ...  [장나라, 영턱스클럽, 젝스키스, 박진영, 보아 (BoA), DJ DOC, 핑클 (...\n",
              "\n",
              "[5 rows x 10 columns]"
            ]
          },
          "metadata": {
            "tags": []
          },
          "execution_count": 26
        }
      ]
    },
    {
      "cell_type": "code",
      "metadata": {
        "id": "V0n6i8jiVWFE",
        "colab_type": "code",
        "outputId": "26374420-a121-4e97-de45-5e05fdbe20ab",
        "colab": {
          "base_uri": "https://localhost:8080/",
          "height": 638
        }
      },
      "source": [
        "train[train['artists'].apply(lambda x: '빈지노 (Beenzino)' in x)]"
      ],
      "execution_count": 30,
      "outputs": [
        {
          "output_type": "execute_result",
          "data": {
            "text/html": [
              "<div>\n",
              "<style scoped>\n",
              "    .dataframe tbody tr th:only-of-type {\n",
              "        vertical-align: middle;\n",
              "    }\n",
              "\n",
              "    .dataframe tbody tr th {\n",
              "        vertical-align: top;\n",
              "    }\n",
              "\n",
              "    .dataframe thead th {\n",
              "        text-align: right;\n",
              "    }\n",
              "</style>\n",
              "<table border=\"1\" class=\"dataframe\">\n",
              "  <thead>\n",
              "    <tr style=\"text-align: right;\">\n",
              "      <th></th>\n",
              "      <th>tags</th>\n",
              "      <th>id</th>\n",
              "      <th>plylst_title</th>\n",
              "      <th>songs</th>\n",
              "      <th>like_cnt</th>\n",
              "      <th>updt_date</th>\n",
              "      <th>년도</th>\n",
              "      <th>월</th>\n",
              "      <th>시간대</th>\n",
              "      <th>artists</th>\n",
              "    </tr>\n",
              "  </thead>\n",
              "  <tbody>\n",
              "    <tr>\n",
              "      <th>13</th>\n",
              "      <td>[힙합, 느낌있는, 밤, 새벽, RnB, 감각적인, 드라이브, 국내, 그루브한]</td>\n",
              "      <td>89809</td>\n",
              "      <td>트렌디하고 그루브한 힙합/알앤비 MUSIC</td>\n",
              "      <td>[525152, 38765, 66139, 696379, 397438, 144461,...</td>\n",
              "      <td>1112</td>\n",
              "      <td>2018-01-09 14:01:53.000</td>\n",
              "      <td>2018</td>\n",
              "      <td>01</td>\n",
              "      <td>14</td>\n",
              "      <td>[우원재, 박재범, 더블케이 (Double K), 보이비, $ept Rabbit, ...</td>\n",
              "    </tr>\n",
              "    <tr>\n",
              "      <th>61</th>\n",
              "      <td>[기분전환, 매장음악]</td>\n",
              "      <td>33019</td>\n",
              "      <td>취향저격 앨범아트</td>\n",
              "      <td>[97087, 682900, 490966, 703312, 64930, 417626,...</td>\n",
              "      <td>213</td>\n",
              "      <td>2017-03-29 19:51:15.000</td>\n",
              "      <td>2017</td>\n",
              "      <td>03</td>\n",
              "      <td>19</td>\n",
              "      <td>[Jack Garratt, 크래커 (CRACKER), Neiked, Red Velv...</td>\n",
              "    </tr>\n",
              "    <tr>\n",
              "      <th>64</th>\n",
              "      <td>[차막힘, 차막힐때, 댄스, 졸릴때]</td>\n",
              "      <td>45163</td>\n",
              "      <td>졸음운전방지※댄스댄스한 플레이리스트♥</td>\n",
              "      <td>[284179, 231154, 158153, 393277, 568089, 47037...</td>\n",
              "      <td>105</td>\n",
              "      <td>2016-11-11 17:11:06.000</td>\n",
              "      <td>2016</td>\n",
              "      <td>11</td>\n",
              "      <td>17</td>\n",
              "      <td>[H.O.T., 젝스키스, 젝스키스, 젝스키스, H.O.T., H.O.T., 채연,...</td>\n",
              "    </tr>\n",
              "    <tr>\n",
              "      <th>91</th>\n",
              "      <td>[힙합, 랩]</td>\n",
              "      <td>110924</td>\n",
              "      <td>언제들어도 효과 만점인 매력 힙합</td>\n",
              "      <td>[607673, 534609, 672319, 270941, 661213, 42260...</td>\n",
              "      <td>4</td>\n",
              "      <td>2015-11-16 10:47:58.000</td>\n",
              "      <td>2015</td>\n",
              "      <td>11</td>\n",
              "      <td>10</td>\n",
              "      <td>[인피닛플로우 (I.F), 카이, Crush, 비프리 (B-Free), 스윙스, G...</td>\n",
              "    </tr>\n",
              "    <tr>\n",
              "      <th>150</th>\n",
              "      <td>[기분전환, 휴식, 느낌있는, 주말, 야경]</td>\n",
              "      <td>73145</td>\n",
              "      <td>주말, 도시의 야경을 바라보며 듣기 좋은 노래</td>\n",
              "      <td>[446812, 266393, 477905, 291668, 705515, 55784...</td>\n",
              "      <td>12</td>\n",
              "      <td>2019-06-14 09:50:59.000</td>\n",
              "      <td>2019</td>\n",
              "      <td>06</td>\n",
              "      <td>09</td>\n",
              "      <td>[백예린, 멜트인멜트, 어반자카파, DJ Okawari, Norah Jones, S...</td>\n",
              "    </tr>\n",
              "    <tr>\n",
              "      <th>...</th>\n",
              "      <td>...</td>\n",
              "      <td>...</td>\n",
              "      <td>...</td>\n",
              "      <td>...</td>\n",
              "      <td>...</td>\n",
              "      <td>...</td>\n",
              "      <td>...</td>\n",
              "      <td>...</td>\n",
              "      <td>...</td>\n",
              "      <td>...</td>\n",
              "    </tr>\n",
              "    <tr>\n",
              "      <th>114927</th>\n",
              "      <td>[힙합, 랩]</td>\n",
              "      <td>137129</td>\n",
              "      <td>나른한 주말 힙합음악과 함께 +아리아나 홀릭</td>\n",
              "      <td>[358186, 263881, 598654, 145222, 107841, 52434...</td>\n",
              "      <td>3</td>\n",
              "      <td>2015-02-15 14:58:16.000</td>\n",
              "      <td>2015</td>\n",
              "      <td>02</td>\n",
              "      <td>14</td>\n",
              "      <td>[Ariana Grande, The Quiett, Dok2, 빈지노 (Beenzin...</td>\n",
              "    </tr>\n",
              "    <tr>\n",
              "      <th>114944</th>\n",
              "      <td>[여름, 휴식, 신남, 드라이브, 여행, 바다]</td>\n",
              "      <td>33045</td>\n",
              "      <td>BEST OF BEST 드라이브 음악</td>\n",
              "      <td>[464562, 371998, 391992, 695494, 633203, 48680...</td>\n",
              "      <td>108</td>\n",
              "      <td>2020-02-13 16:48:58.000</td>\n",
              "      <td>2020</td>\n",
              "      <td>02</td>\n",
              "      <td>16</td>\n",
              "      <td>[Supreme Team, 인피니트H, 빈지노 (Beenzino), 로꼬, GRAY...</td>\n",
              "    </tr>\n",
              "    <tr>\n",
              "      <th>114965</th>\n",
              "      <td>[위클리초이스, 기분전환, izm, 웹진이즘]</td>\n",
              "      <td>57290</td>\n",
              "      <td>2016년 가요계 결산 올해의 앨범 &amp; 올해의 싱글</td>\n",
              "      <td>[707517, 524662, 351829, 549027, 441211, 69815...</td>\n",
              "      <td>52</td>\n",
              "      <td>2016-12-16 10:29:08.000</td>\n",
              "      <td>2016</td>\n",
              "      <td>12</td>\n",
              "      <td>10</td>\n",
              "      <td>[전범선과 양반들, 전범선과 양반들, 진보, 정새난슬, 정새난슬, 정새난슬, 정새난...</td>\n",
              "    </tr>\n",
              "    <tr>\n",
              "      <th>115014</th>\n",
              "      <td>[랩, 힙합]</td>\n",
              "      <td>71413</td>\n",
              "      <td>내 취향</td>\n",
              "      <td>[109190, 439630, 636672, 88556, 159956, 280491...</td>\n",
              "      <td>2</td>\n",
              "      <td>2015-09-23 09:52:16.000</td>\n",
              "      <td>2015</td>\n",
              "      <td>09</td>\n",
              "      <td>09</td>\n",
              "      <td>[Jazzyfact, 흑꼬, M.I.B, 일렉트로보이즈, 팬텀, 케이준, 긱스 (G...</td>\n",
              "    </tr>\n",
              "    <tr>\n",
              "      <th>115056</th>\n",
              "      <td>[힙합, 감성힙합, 봄, 알앤비, 매장, 그루브, 휴식, 기분전환]</td>\n",
              "      <td>64738</td>\n",
              "      <td>Let's Groove 느낌있는 감성힙합</td>\n",
              "      <td>[254192, 109539, 164508, 585443, 391778, 53768...</td>\n",
              "      <td>17</td>\n",
              "      <td>2017-08-31 12:09:04.000</td>\n",
              "      <td>2017</td>\n",
              "      <td>08</td>\n",
              "      <td>12</td>\n",
              "      <td>[올티 (Olltii), 긱스 (Geeks), San E, 제리케이 (Jerry.k...</td>\n",
              "    </tr>\n",
              "  </tbody>\n",
              "</table>\n",
              "<p>3815 rows × 10 columns</p>\n",
              "</div>"
            ],
            "text/plain": [
              "                                                tags  ...                                            artists\n",
              "13      [힙합, 느낌있는, 밤, 새벽, RnB, 감각적인, 드라이브, 국내, 그루브한]  ...  [우원재, 박재범, 더블케이 (Double K), 보이비, $ept Rabbit, ...\n",
              "61                                      [기분전환, 매장음악]  ...  [Jack Garratt, 크래커 (CRACKER), Neiked, Red Velv...\n",
              "64                              [차막힘, 차막힐때, 댄스, 졸릴때]  ...  [H.O.T., 젝스키스, 젝스키스, 젝스키스, H.O.T., H.O.T., 채연,...\n",
              "91                                           [힙합, 랩]  ...  [인피닛플로우 (I.F), 카이, Crush, 비프리 (B-Free), 스윙스, G...\n",
              "150                         [기분전환, 휴식, 느낌있는, 주말, 야경]  ...  [백예린, 멜트인멜트, 어반자카파, DJ Okawari, Norah Jones, S...\n",
              "...                                              ...  ...                                                ...\n",
              "114927                                       [힙합, 랩]  ...  [Ariana Grande, The Quiett, Dok2, 빈지노 (Beenzin...\n",
              "114944                    [여름, 휴식, 신남, 드라이브, 여행, 바다]  ...  [Supreme Team, 인피니트H, 빈지노 (Beenzino), 로꼬, GRAY...\n",
              "114965                     [위클리초이스, 기분전환, izm, 웹진이즘]  ...  [전범선과 양반들, 전범선과 양반들, 진보, 정새난슬, 정새난슬, 정새난슬, 정새난...\n",
              "115014                                       [랩, 힙합]  ...  [Jazzyfact, 흑꼬, M.I.B, 일렉트로보이즈, 팬텀, 케이준, 긱스 (G...\n",
              "115056         [힙합, 감성힙합, 봄, 알앤비, 매장, 그루브, 휴식, 기분전환]  ...  [올티 (Olltii), 긱스 (Geeks), San E, 제리케이 (Jerry.k...\n",
              "\n",
              "[3815 rows x 10 columns]"
            ]
          },
          "metadata": {
            "tags": []
          },
          "execution_count": 30
        }
      ]
    }
  ]
}