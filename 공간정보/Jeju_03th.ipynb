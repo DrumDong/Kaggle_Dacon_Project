{
 "cells": [
  {
   "cell_type": "code",
   "execution_count": 1,
   "metadata": {},
   "outputs": [],
   "source": [
    "import pandas as pd\n",
    "import numpy as np\n",
    "import seaborn as sns\n",
    "import matplotlib as mpl\n",
    "import matplotlib.pyplot as plt\n",
    "import warnings\n",
    "from scipy.spatial import distance\n",
    "from sklearn.cluster import AgglomerativeClustering\n",
    "warnings.filterwarnings(action = 'ignore')"
   ]
  },
  {
   "cell_type": "code",
   "execution_count": 2,
   "metadata": {},
   "outputs": [],
   "source": [
    "# 폰트 한글 설정\n",
    "\n",
    "from matplotlib import font_manager, rc\n",
    "font_path = 'C:\\\\Windows\\\\Fonts\\\\malgun.ttf' # 경로 설정을 제대로 해야함\n",
    "font_name= font_manager.FontProperties(fname=font_path).get_name()\n",
    "rc('font', family=font_name)"
   ]
  },
  {
   "cell_type": "code",
   "execution_count": 3,
   "metadata": {},
   "outputs": [
    {
     "data": {
      "image/png": "[encoded data removed]",
      "text/plain": [
       "<Figure size 360x360 with 1 Axes>"
      ]
     },
     "metadata": {
      "needs_background": "light"
     },
     "output_type": "display_data"
    }
   ],
   "source": [
    "plt.figure(figsize=(5,5))\n",
    "plt.plot([0,1], [0,1], label='한글테스트용')\n",
    "plt.legend()\n",
    "plt.show()"
   ]
  },
  {
   "cell_type": "code",
   "execution_count": 4,
   "metadata": {},
   "outputs": [],
   "source": [
    "df1=pd.read_csv('D:/Data/Dacon공간정보/제주도_5월_읍면동추가.csv')\n",
    "df2=pd.read_csv('D:/Data/Dacon공간정보/제주도_6월_읍면동추가.csv')\n",
    "df3=pd.read_csv('D:/Data/Dacon공간정보/제주도_7월_읍면동추가.csv')\n",
    "df4=pd.read_csv('D:/Data/Dacon공간정보/제주도_8월_읍면동추가.csv')\n",
    "\n",
    "'''외부 데이터'''\n",
    "#https://www.data.go.kr/data/15004770/fileData.do\n",
    "place_df= pd.read_csv('D:/Data/Dacon공간정보/제주특별자치도_제주도장소(POI)데이터_20151231.csv',encoding='cp949')"
   ]
  },
  {
   "cell_type": "code",
   "execution_count": 5,
   "metadata": {},
   "outputs": [
    {
     "data": {
      "text/html": [
       "<div>\n",
       "<style scoped>\n",
       "    .dataframe tbody tr th:only-of-type {\n",
       "        vertical-align: middle;\n",
       "    }\n",
       "\n",
       "    .dataframe tbody tr th {\n",
       "        vertical-align: top;\n",
       "    }\n",
       "\n",
       "    .dataframe thead th {\n",
       "        text-align: right;\n",
       "    }\n",
       "</style>\n",
       "<table border=\"1\" class=\"dataframe\">\n",
       "  <thead>\n",
       "    <tr style=\"text-align: right;\">\n",
       "      <th></th>\n",
       "      <th>년월</th>\n",
       "      <th>지역대분류</th>\n",
       "      <th>지역중분류</th>\n",
       "      <th>소상공인구분</th>\n",
       "      <th>업종명</th>\n",
       "      <th>시간대</th>\n",
       "      <th>총사용금액</th>\n",
       "      <th>재난지원금 사용금액</th>\n",
       "      <th>총 이용건수</th>\n",
       "      <th>총 재난지원금 이용건수</th>\n",
       "      <th>X좌표</th>\n",
       "      <th>Y좌표</th>\n",
       "      <th>geometry</th>\n",
       "      <th>읍면동</th>\n",
       "    </tr>\n",
       "  </thead>\n",
       "  <tbody>\n",
       "    <tr>\n",
       "      <th>0</th>\n",
       "      <td>202005</td>\n",
       "      <td>제주특별자치도</td>\n",
       "      <td>제주시</td>\n",
       "      <td>영세</td>\n",
       "      <td>일반한식</td>\n",
       "      <td>00시</td>\n",
       "      <td>363000</td>\n",
       "      <td>66500</td>\n",
       "      <td>10</td>\n",
       "      <td>2</td>\n",
       "      <td>877005.9834</td>\n",
       "      <td>1.479766e+06</td>\n",
       "      <td>POINT (126.1788936271016 33.30231529076244)</td>\n",
       "      <td>한경면</td>\n",
       "    </tr>\n",
       "    <tr>\n",
       "      <th>1</th>\n",
       "      <td>202005</td>\n",
       "      <td>제주특별자치도</td>\n",
       "      <td>제주시</td>\n",
       "      <td>영세</td>\n",
       "      <td>단란주점</td>\n",
       "      <td>00시</td>\n",
       "      <td>1180000</td>\n",
       "      <td>0</td>\n",
       "      <td>3</td>\n",
       "      <td>0</td>\n",
       "      <td>877005.7447</td>\n",
       "      <td>1.479816e+06</td>\n",
       "      <td>POINT (126.1788842681349 33.30276592288187)</td>\n",
       "      <td>한경면</td>\n",
       "    </tr>\n",
       "    <tr>\n",
       "      <th>2</th>\n",
       "      <td>202005</td>\n",
       "      <td>제주특별자치도</td>\n",
       "      <td>제주시</td>\n",
       "      <td>중소1</td>\n",
       "      <td>편의점</td>\n",
       "      <td>00시</td>\n",
       "      <td>157670</td>\n",
       "      <td>6850</td>\n",
       "      <td>20</td>\n",
       "      <td>2</td>\n",
       "      <td>877056.6756</td>\n",
       "      <td>1.479616e+06</td>\n",
       "      <td>POINT (126.179458342653 33.30097125427593)</td>\n",
       "      <td>한경면</td>\n",
       "    </tr>\n",
       "    <tr>\n",
       "      <th>3</th>\n",
       "      <td>202005</td>\n",
       "      <td>제주특별자치도</td>\n",
       "      <td>제주시</td>\n",
       "      <td>영세</td>\n",
       "      <td>편의점</td>\n",
       "      <td>00시</td>\n",
       "      <td>46600</td>\n",
       "      <td>0</td>\n",
       "      <td>2</td>\n",
       "      <td>0</td>\n",
       "      <td>877055.9593</td>\n",
       "      <td>1.479766e+06</td>\n",
       "      <td>POINT (126.1794302729692 33.30232314934195)</td>\n",
       "      <td>한경면</td>\n",
       "    </tr>\n",
       "    <tr>\n",
       "      <th>4</th>\n",
       "      <td>202005</td>\n",
       "      <td>제주특별자치도</td>\n",
       "      <td>제주시</td>\n",
       "      <td>영세</td>\n",
       "      <td>주점</td>\n",
       "      <td>00시</td>\n",
       "      <td>66000</td>\n",
       "      <td>0</td>\n",
       "      <td>2</td>\n",
       "      <td>0</td>\n",
       "      <td>877055.4817</td>\n",
       "      <td>1.479866e+06</td>\n",
       "      <td>POINT (126.1794115582385 33.30322441283756)</td>\n",
       "      <td>한경면</td>\n",
       "    </tr>\n",
       "  </tbody>\n",
       "</table>\n",
       "</div>"
      ],
      "text/plain": [
       "       년월    지역대분류 지역중분류 소상공인구분   업종명  시간대    총사용금액  재난지원금 사용금액  총 이용건수  \\\n",
       "0  202005  제주특별자치도   제주시     영세  일반한식  00시   363000       66500      10   \n",
       "1  202005  제주특별자치도   제주시     영세  단란주점  00시  1180000           0       3   \n",
       "2  202005  제주특별자치도   제주시    중소1   편의점  00시   157670        6850      20   \n",
       "3  202005  제주특별자치도   제주시     영세   편의점  00시    46600           0       2   \n",
       "4  202005  제주특별자치도   제주시     영세    주점  00시    66000           0       2   \n",
       "\n",
       "   총 재난지원금 이용건수          X좌표           Y좌표  \\\n",
       "0             2  877005.9834  1.479766e+06   \n",
       "1             0  877005.7447  1.479816e+06   \n",
       "2             2  877056.6756  1.479616e+06   \n",
       "3             0  877055.9593  1.479766e+06   \n",
       "4             0  877055.4817  1.479866e+06   \n",
       "\n",
       "                                      geometry  읍면동  \n",
       "0  POINT (126.1788936271016 33.30231529076244)  한경면  \n",
       "1  POINT (126.1788842681349 33.30276592288187)  한경면  \n",
       "2   POINT (126.179458342653 33.30097125427593)  한경면  \n",
       "3  POINT (126.1794302729692 33.30232314934195)  한경면  \n",
       "4  POINT (126.1794115582385 33.30322441283756)  한경면  "
      ]
     },
     "execution_count": 5,
     "metadata": {},
     "output_type": "execute_result"
    }
   ],
   "source": [
    "df=pd.concat([df1,df2,df3,df4])\n",
    "df.drop(['OBJECTID','Field1'],axis=1,inplace=True)\n",
    "df.columns = ['년월','지역대분류','지역중분류','소상공인구분','업종명','시간대','총사용금액','재난지원금 사용금액','총 이용건수','총 재난지원금 이용건수','X좌표','Y좌표','geometry','읍면동']\n",
    "df.loc[(df['지역중분류']=='제주시')&(df['읍면동']=='대정읍'),'지역중분류']='서귀포시'\n",
    "df.head()"
   ]
  },
  {
   "cell_type": "markdown",
   "metadata": {},
   "source": [
    "# Divergence, Clustering 함수 "
   ]
  },
  {
   "cell_type": "code",
   "execution_count": 6,
   "metadata": {},
   "outputs": [],
   "source": [
    "def JensenShannon_similarity(df,time_list,st_list,cal_col):\n",
    "      '''\n",
    "      [함수 사용법]\n",
    "        X축에 들어갈 변수를 input_list 인덱싱 0번 자리(맨앞)에 둘 것\n",
    "        그 뒤로 기준을 잡고 싶은 변수들을 차례로 넣어 주면 됩니다.\n",
    "        from scipy.spatial import distance 꼭 할것!\n",
    "      '''\n",
    "\n",
    "\n",
    "      make_amt= df.groupby(time_list+st_list)[cal_col].sum().reset_index()\n",
    "\n",
    "      '''pivot 만들기'''\n",
    "      amt_sum = make_amt.groupby(st_list)[cal_col].sum().reset_index(name='cal_col_sum')\n",
    "      amt_sum = amt_sum[amt_sum['cal_col_sum'] != 0] #JSD를 구할때 0이 있으면 문제가 생김\n",
    "      make_amt = make_amt.merge(amt_sum,on=st_list,how='left')\n",
    "      make_amt['cal_col_prob'] = make_amt[cal_col]/make_amt['cal_col_sum']\n",
    "\n",
    "      # pivot_table을 활용하여 long to wide 작업 실시\n",
    "      amt_pivot= pd.pivot_table(make_amt,\n",
    "                                index=st_list,\n",
    "                                columns=time_list,\n",
    "                                values='cal_col_prob').reset_index()\n",
    "      amt_pivot.fillna(0,inplace=True)\n",
    "\n",
    "      #피벗된 연도별 amt를 사용해 고객간의 유사도를 구해보자.\n",
    "      amt_array=np.array(amt_pivot.drop(st_list,axis=1))\n",
    "\n",
    "      js_similarity =[]\n",
    "      for row_r in range(amt_array.shape[0]):       \n",
    "        dt_list=[]\n",
    "        for row_c in range(amt_array.shape[0]):\n",
    "            #dt= js_divergence(amt_pivot.iloc[row_r,3:].values,amt_pivot.iloc[row_c,3:].values)\n",
    "            '''\n",
    "            js_divergence(만든 함수)로 하면 0값을 계산을 못함. \n",
    "            sqrt(js_divergence)인 distance.jensenshannon 함수 사용\n",
    "            '''\n",
    "            dt = distance.jensenshannon(amt_array[row_r,:],amt_array[row_c,:],2.0)\n",
    "            dt_list.append(dt)\n",
    "        js_similarity.append(dt_list)\n",
    "\n",
    "      js_frame =pd.DataFrame(np.array(js_similarity))\n",
    "      js_similarity = pd.concat([amt_pivot,js_frame],axis=1)\n",
    "\n",
    "      return amt_sum[st_list].reset_index(drop=True), js_similarity"
   ]
  },
  {
   "cell_type": "code",
   "execution_count": 7,
   "metadata": {},
   "outputs": [],
   "source": [
    "def make_clustering(gp_df,time_list,st_list,cal_col,cluster_name,split_num=2):\n",
    "    st_series,df = JensenShannon_similarity(gp_df,time_list,st_list,cal_col)\n",
    "    df_s = df.iloc[:,-df.shape[0]:] # 클러스터링용 dataframe 생성\n",
    "    df_s.fillna(0,inplace=True)\n",
    "    \n",
    "    # inf값 처리 코드\n",
    "    del_list=[]\n",
    "    for idx in df_s.index:\n",
    "        if (df_s.loc[idx]==np.inf).all():\n",
    "            del_list.append(idx)\n",
    "        \n",
    "    df_s.drop(del_list,axis=0,inplace=True)\n",
    "    df_s.drop(del_list,axis=1,inplace=True)\n",
    "    st_series.drop(del_list,inplace=True)\n",
    "        \n",
    "\n",
    "    #클러스터링\n",
    "    clustering = AgglomerativeClustering(n_clusters=int(df_s.shape[0]/split_num),\n",
    "                                      affinity='precomputed',\n",
    "                                      linkage='average')\n",
    "    clustering.fit(df_s)\n",
    "    \n",
    "    return_df = pd.DataFrame(st_series)         #pd.DataFrame(DataFrame) 오류X\n",
    "\n",
    "    print(return_df.shape,len(clustering.labels_))\n",
    "\n",
    "    return_df[cluster_name] = clustering.labels_\n",
    "    return return_df"
   ]
  },
  {
   "cell_type": "code",
   "execution_count": 8,
   "metadata": {},
   "outputs": [],
   "source": [
    "df['재지금/총사금'] = df['재난지원금 사용금액'] / df['총사용금액']"
   ]
  },
  {
   "cell_type": "markdown",
   "metadata": {},
   "source": [
    "# 월별 업종"
   ]
  },
  {
   "cell_type": "code",
   "execution_count": 9,
   "metadata": {},
   "outputs": [
    {
     "name": "stdout",
     "output_type": "stream",
     "text": [
      "(206, 1) 206\n",
      "(180, 1) 180\n",
      "(180, 1) 180\n"
     ]
    }
   ],
   "source": [
    "c_df=make_clustering(df,['년월'],['업종명'],'총사용금액','월_업_총사금_C')\n",
    "df=df.merge(c_df,on=['업종명'],how='left')\n",
    "\n",
    "c_df=make_clustering(df,['년월'],['업종명'],'재난지원금 사용금액','월_업_재지금_C')\n",
    "df=df.merge(c_df,on=['업종명'],how='left')\n",
    "\n",
    "c_df=make_clustering(df,['년월'],['업종명'],'재지금/총사금','월_업_재/총_C')\n",
    "df=df.merge(c_df,on=['업종명'],how='left')"
   ]
  },
  {
   "cell_type": "markdown",
   "metadata": {},
   "source": [
    "# 시간별 업종"
   ]
  },
  {
   "cell_type": "code",
   "execution_count": 10,
   "metadata": {},
   "outputs": [
    {
     "name": "stdout",
     "output_type": "stream",
     "text": [
      "(206, 1) 206\n",
      "(180, 1) 180\n",
      "(180, 1) 180\n"
     ]
    }
   ],
   "source": [
    "c_df=make_clustering(df,['시간대'],['업종명'],'총사용금액','시간_업_총사금_C')\n",
    "df=df.merge(c_df,on=['업종명'],how='left')\n",
    "\n",
    "c_df=make_clustering(df,['시간대'],['업종명'],'재난지원금 사용금액','시간_업_재지금_C')\n",
    "df=df.merge(c_df,on=['업종명'],how='left')\n",
    "\n",
    "c_df=make_clustering(df,['시간대'],['업종명'],'재지금/총사금','시간_업_재/총_C')\n",
    "df=df.merge(c_df,on=['업종명'],how='left')"
   ]
  },
  {
   "cell_type": "markdown",
   "metadata": {},
   "source": [
    "# 월-시간별 업종"
   ]
  },
  {
   "cell_type": "code",
   "execution_count": 11,
   "metadata": {},
   "outputs": [
    {
     "name": "stdout",
     "output_type": "stream",
     "text": [
      "(206, 1) 206\n",
      "(176, 1) 176\n",
      "(177, 1) 177\n"
     ]
    }
   ],
   "source": [
    "c_df=make_clustering(df,['년월','시간대'],['업종명'],'총사용금액','월시간_업_총사금_C')\n",
    "df=df.merge(c_df,on=['업종명'],how='left')\n",
    "\n",
    "c_df=make_clustering(df,['년월','시간대'],['업종명'],'재난지원금 사용금액','월시간_업_재지금_C')\n",
    "df=df.merge(c_df,on=['업종명'],how='left')\n",
    "\n",
    "c_df=make_clustering(df,['년월','시간대'],['업종명'],'재지금/총사금','월시간_업_재/총_C')\n",
    "df=df.merge(c_df,on=['업종명'],how='left')"
   ]
  },
  {
   "cell_type": "markdown",
   "metadata": {},
   "source": [
    "# 월별 지역-읍면동-업종"
   ]
  },
  {
   "cell_type": "code",
   "execution_count": 12,
   "metadata": {},
   "outputs": [
    {
     "name": "stdout",
     "output_type": "stream",
     "text": [
      "(5165, 3) 5165\n",
      "(3790, 3) 3790\n",
      "(3783, 3) 3783\n"
     ]
    }
   ],
   "source": [
    "c_df=make_clustering(df,['년월'],['지역중분류','읍면동','업종명'],'총사용금액','월_읍면업_총사금_C')\n",
    "df=df.merge(c_df,on=['지역중분류','읍면동','업종명'],how='left')\n",
    "\n",
    "c_df=make_clustering(df,['년월'],['지역중분류','읍면동','업종명'],'재난지원금 사용금액','월_읍면업_재지금_C')\n",
    "df=df.merge(c_df,on=['지역중분류','읍면동','업종명'],how='left')\n",
    "\n",
    "c_df=make_clustering(df,['년월'],['지역중분류','읍면동','업종명'],'재지금/총사금','월_읍면업_재/총_C')\n",
    "df=df.merge(c_df,on=['지역중분류','읍면동','업종명'],how='left')"
   ]
  },
  {
   "cell_type": "markdown",
   "metadata": {},
   "source": [
    "# 시간별 지역-읍면동-업종"
   ]
  },
  {
   "cell_type": "code",
   "execution_count": 13,
   "metadata": {},
   "outputs": [
    {
     "name": "stdout",
     "output_type": "stream",
     "text": [
      "(5165, 3) 5165\n",
      "(3774, 3) 3774\n",
      "(3772, 3) 3772\n"
     ]
    }
   ],
   "source": [
    "c_df=make_clustering(df,['시간대'],['지역중분류','읍면동','업종명'],'총사용금액','시간_읍면업_총사금_C')\n",
    "df=df.merge(c_df,on=['지역중분류','읍면동','업종명'],how='left')\n",
    "\n",
    "c_df=make_clustering(df,['시간대'],['지역중분류','읍면동','업종명'],'재난지원금 사용금액','시간_읍면업_재지금_C')\n",
    "df=df.merge(c_df,on=['지역중분류','읍면동','업종명'],how='left')\n",
    "\n",
    "c_df=make_clustering(df,['시간대'],['지역중분류','읍면동','업종명'],'재지금/총사금','시간_읍면업_재/총_C')\n",
    "df=df.merge(c_df,on=['지역중분류','읍면동','업종명'],how='left')"
   ]
  },
  {
   "cell_type": "markdown",
   "metadata": {},
   "source": [
    "# 월-시간별 지역-읍면동-업종"
   ]
  },
  {
   "cell_type": "code",
   "execution_count": 14,
   "metadata": {},
   "outputs": [
    {
     "name": "stdout",
     "output_type": "stream",
     "text": [
      "(5165, 3) 5165\n",
      "(3749, 3) 3749\n",
      "(3745, 3) 3745\n"
     ]
    }
   ],
   "source": [
    "c_df=make_clustering(df,['년월','시간대'],['지역중분류','읍면동','업종명'],'총사용금액','월시간_총사용금액_C')\n",
    "df=df.merge(c_df,on=['지역중분류','읍면동','업종명'],how='left')\n",
    "\n",
    "c_df=make_clustering(df,['년월','시간대'],['지역중분류','읍면동','업종명'],'재난지원금 사용금액','월시간_재난지원금 사용금액_C')\n",
    "df=df.merge(c_df,on=['지역중분류','읍면동','업종명'],how='left')\n",
    "\n",
    "c_df=make_clustering(df,['년월','시간대'],['지역중분류','읍면동','업종명'],'재지금/총사금','월시간_재지금/총사금_C')\n",
    "df=df.merge(c_df,on=['지역중분류','읍면동','업종명'],how='left')"
   ]
  },
  {
   "cell_type": "markdown",
   "metadata": {},
   "source": [
    "# 데이터 저장"
   ]
  },
  {
   "cell_type": "code",
   "execution_count": 15,
   "metadata": {},
   "outputs": [
    {
     "data": {
      "text/html": [
       "<div>\n",
       "<style scoped>\n",
       "    .dataframe tbody tr th:only-of-type {\n",
       "        vertical-align: middle;\n",
       "    }\n",
       "\n",
       "    .dataframe tbody tr th {\n",
       "        vertical-align: top;\n",
       "    }\n",
       "\n",
       "    .dataframe thead th {\n",
       "        text-align: right;\n",
       "    }\n",
       "</style>\n",
       "<table border=\"1\" class=\"dataframe\">\n",
       "  <thead>\n",
       "    <tr style=\"text-align: right;\">\n",
       "      <th></th>\n",
       "      <th>년월</th>\n",
       "      <th>지역대분류</th>\n",
       "      <th>지역중분류</th>\n",
       "      <th>소상공인구분</th>\n",
       "      <th>업종명</th>\n",
       "      <th>시간대</th>\n",
       "      <th>총사용금액</th>\n",
       "      <th>재난지원금 사용금액</th>\n",
       "      <th>총 이용건수</th>\n",
       "      <th>총 재난지원금 이용건수</th>\n",
       "      <th>...</th>\n",
       "      <th>월시간_업_재/총_C</th>\n",
       "      <th>월_읍면업_총사금_C</th>\n",
       "      <th>월_읍면업_재지금_C</th>\n",
       "      <th>월_읍면업_재/총_C</th>\n",
       "      <th>시간_읍면업_총사금_C</th>\n",
       "      <th>시간_읍면업_재지금_C</th>\n",
       "      <th>시간_읍면업_재/총_C</th>\n",
       "      <th>월시간_총사용금액_C</th>\n",
       "      <th>월시간_재난지원금 사용금액_C</th>\n",
       "      <th>월시간_재지금/총사금_C</th>\n",
       "    </tr>\n",
       "  </thead>\n",
       "  <tbody>\n",
       "    <tr>\n",
       "      <th>0</th>\n",
       "      <td>202005</td>\n",
       "      <td>제주특별자치도</td>\n",
       "      <td>제주시</td>\n",
       "      <td>영세</td>\n",
       "      <td>일반한식</td>\n",
       "      <td>00시</td>\n",
       "      <td>363000</td>\n",
       "      <td>66500</td>\n",
       "      <td>10</td>\n",
       "      <td>2</td>\n",
       "      <td>...</td>\n",
       "      <td>0.0</td>\n",
       "      <td>62</td>\n",
       "      <td>1289.0</td>\n",
       "      <td>825.0</td>\n",
       "      <td>38</td>\n",
       "      <td>93.0</td>\n",
       "      <td>902.0</td>\n",
       "      <td>251</td>\n",
       "      <td>96.0</td>\n",
       "      <td>164.0</td>\n",
       "    </tr>\n",
       "    <tr>\n",
       "      <th>1</th>\n",
       "      <td>202005</td>\n",
       "      <td>제주특별자치도</td>\n",
       "      <td>제주시</td>\n",
       "      <td>영세</td>\n",
       "      <td>단란주점</td>\n",
       "      <td>00시</td>\n",
       "      <td>1180000</td>\n",
       "      <td>0</td>\n",
       "      <td>3</td>\n",
       "      <td>0</td>\n",
       "      <td>...</td>\n",
       "      <td>NaN</td>\n",
       "      <td>99</td>\n",
       "      <td>NaN</td>\n",
       "      <td>NaN</td>\n",
       "      <td>138</td>\n",
       "      <td>NaN</td>\n",
       "      <td>NaN</td>\n",
       "      <td>65</td>\n",
       "      <td>NaN</td>\n",
       "      <td>NaN</td>\n",
       "    </tr>\n",
       "    <tr>\n",
       "      <th>2</th>\n",
       "      <td>202005</td>\n",
       "      <td>제주특별자치도</td>\n",
       "      <td>제주시</td>\n",
       "      <td>중소1</td>\n",
       "      <td>편의점</td>\n",
       "      <td>00시</td>\n",
       "      <td>157670</td>\n",
       "      <td>6850</td>\n",
       "      <td>20</td>\n",
       "      <td>2</td>\n",
       "      <td>...</td>\n",
       "      <td>0.0</td>\n",
       "      <td>565</td>\n",
       "      <td>189.0</td>\n",
       "      <td>13.0</td>\n",
       "      <td>593</td>\n",
       "      <td>49.0</td>\n",
       "      <td>351.0</td>\n",
       "      <td>251</td>\n",
       "      <td>402.0</td>\n",
       "      <td>361.0</td>\n",
       "    </tr>\n",
       "    <tr>\n",
       "      <th>3</th>\n",
       "      <td>202005</td>\n",
       "      <td>제주특별자치도</td>\n",
       "      <td>제주시</td>\n",
       "      <td>영세</td>\n",
       "      <td>편의점</td>\n",
       "      <td>00시</td>\n",
       "      <td>46600</td>\n",
       "      <td>0</td>\n",
       "      <td>2</td>\n",
       "      <td>0</td>\n",
       "      <td>...</td>\n",
       "      <td>0.0</td>\n",
       "      <td>565</td>\n",
       "      <td>189.0</td>\n",
       "      <td>13.0</td>\n",
       "      <td>593</td>\n",
       "      <td>49.0</td>\n",
       "      <td>351.0</td>\n",
       "      <td>251</td>\n",
       "      <td>402.0</td>\n",
       "      <td>361.0</td>\n",
       "    </tr>\n",
       "    <tr>\n",
       "      <th>4</th>\n",
       "      <td>202005</td>\n",
       "      <td>제주특별자치도</td>\n",
       "      <td>제주시</td>\n",
       "      <td>영세</td>\n",
       "      <td>주점</td>\n",
       "      <td>00시</td>\n",
       "      <td>66000</td>\n",
       "      <td>0</td>\n",
       "      <td>2</td>\n",
       "      <td>0</td>\n",
       "      <td>...</td>\n",
       "      <td>18.0</td>\n",
       "      <td>557</td>\n",
       "      <td>153.0</td>\n",
       "      <td>193.0</td>\n",
       "      <td>1086</td>\n",
       "      <td>662.0</td>\n",
       "      <td>268.0</td>\n",
       "      <td>251</td>\n",
       "      <td>347.0</td>\n",
       "      <td>428.0</td>\n",
       "    </tr>\n",
       "  </tbody>\n",
       "</table>\n",
       "<p>5 rows × 33 columns</p>\n",
       "</div>"
      ],
      "text/plain": [
       "       년월    지역대분류 지역중분류 소상공인구분   업종명  시간대    총사용금액  재난지원금 사용금액  총 이용건수  \\\n",
       "0  202005  제주특별자치도   제주시     영세  일반한식  00시   363000       66500      10   \n",
       "1  202005  제주특별자치도   제주시     영세  단란주점  00시  1180000           0       3   \n",
       "2  202005  제주특별자치도   제주시    중소1   편의점  00시   157670        6850      20   \n",
       "3  202005  제주특별자치도   제주시     영세   편의점  00시    46600           0       2   \n",
       "4  202005  제주특별자치도   제주시     영세    주점  00시    66000           0       2   \n",
       "\n",
       "   총 재난지원금 이용건수  ...  월시간_업_재/총_C  월_읍면업_총사금_C 월_읍면업_재지금_C 월_읍면업_재/총_C  \\\n",
       "0             2  ...          0.0           62      1289.0       825.0   \n",
       "1             0  ...          NaN           99         NaN         NaN   \n",
       "2             2  ...          0.0          565       189.0        13.0   \n",
       "3             0  ...          0.0          565       189.0        13.0   \n",
       "4             0  ...         18.0          557       153.0       193.0   \n",
       "\n",
       "   시간_읍면업_총사금_C  시간_읍면업_재지금_C  시간_읍면업_재/총_C  월시간_총사용금액_C  월시간_재난지원금 사용금액_C  \\\n",
       "0            38          93.0         902.0          251              96.0   \n",
       "1           138           NaN           NaN           65               NaN   \n",
       "2           593          49.0         351.0          251             402.0   \n",
       "3           593          49.0         351.0          251             402.0   \n",
       "4          1086         662.0         268.0          251             347.0   \n",
       "\n",
       "   월시간_재지금/총사금_C  \n",
       "0          164.0  \n",
       "1            NaN  \n",
       "2          361.0  \n",
       "3          361.0  \n",
       "4          428.0  \n",
       "\n",
       "[5 rows x 33 columns]"
      ]
     },
     "execution_count": 15,
     "metadata": {},
     "output_type": "execute_result"
    }
   ],
   "source": [
    "df.head()"
   ]
  },
  {
   "cell_type": "code",
   "execution_count": 16,
   "metadata": {},
   "outputs": [],
   "source": [
    "df.to_csv('D:/Data/Dacon공간정보/df_clustering.csv',encoding='utf-8-sig',index=False)"
   ]
  }
 ],
 "metadata": {
  "kernelspec": {
   "display_name": "Python 3",
   "language": "python",
   "name": "python3"
  },
  "language_info": {
   "codemirror_mode": {
    "name": "ipython",
    "version": 3
   },
   "file_extension": ".py",
   "mimetype": "text/x-python",
   "name": "python",
   "nbconvert_exporter": "python",
   "pygments_lexer": "ipython3",
   "version": "3.8.3"
  }
 },
 "nbformat": 4,
 "nbformat_minor": 4
}
