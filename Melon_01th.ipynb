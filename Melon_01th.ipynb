{
  "nbformat": 4,
  "nbformat_minor": 0,
  "metadata": {
    "colab": {
      "name": "Melon_01th.ipynb",
      "provenance": [],
      "machine_shape": "hm"
    },
    "kernelspec": {
      "name": "python3",
      "display_name": "Python 3"
    }
  },
  "cells": [
    {
      "cell_type": "code",
      "metadata": {
        "id": "RpZkzVpGDswB",
        "colab_type": "code",
        "colab": {}
      },
      "source": [
        "import pandas as pd\n",
        "import seaborn as sns"
      ],
      "execution_count": 0,
      "outputs": []
    },
    {
      "cell_type": "code",
      "metadata": {
        "id": "m99KUk91r3Yc",
        "colab_type": "code",
        "colab": {
          "base_uri": "https://localhost:8080/",
          "height": 52
        },
        "outputId": "9715d5a6-0bf2-431e-eb65-c2eacd001a86"
      },
      "source": [
        "import matplotlib as mpl\n",
        "import matplotlib.pyplot as plt\n",
        " \n",
        "%config InlineBackend.figure_format = 'retina'\n",
        " \n",
        "!apt -qq -y install fonts-nanum\n",
        " \n",
        "import matplotlib.font_manager as fm\n",
        "fontpath = '/usr/share/fonts/truetype/nanum/NanumBarunGothic.ttf'\n",
        "font = fm.FontProperties(fname=fontpath, size=9)\n",
        "plt.rc('font', family='NanumBarunGothic') \n",
        "mpl.font_manager._rebuild()"
      ],
      "execution_count": 90,
      "outputs": [
        {
          "output_type": "stream",
          "text": [
            "fonts-nanum is already the newest version (20170925-1).\n",
            "0 upgraded, 0 newly installed, 0 to remove and 29 not upgraded.\n"
          ],
          "name": "stdout"
        }
      ]
    },
    {
      "cell_type": "code",
      "metadata": {
        "id": "mT-ERD5yr30x",
        "colab_type": "code",
        "colab": {
          "base_uri": "https://localhost:8080/",
          "height": 321
        },
        "outputId": "8b1e609f-5bac-4655-d876-89ac3221232a"
      },
      "source": [
        "plt.figure(figsize=(5,5))\n",
        "plt.plot([0,1], [0,1], label='한글테스트용')\n",
        "plt.legend()\n",
        "plt.show()"
      ],
      "execution_count": 91,
      "outputs": [
        {
          "output_type": "display_data",
          "data": {
            "image/png": "[encoded data removed]",
            "text/plain": [
              "<Figure size 360x360 with 1 Axes>"
            ]
          },
          "metadata": {
            "tags": [],
            "image/png": {
              "width": 315,
              "height": 304
            },
            "needs_background": "light"
          }
        }
      ]
    },
    {
      "cell_type": "markdown",
      "metadata": {
        "id": "FaUfrgV4eguJ",
        "colab_type": "text"
      },
      "source": [
        "# Explain Data"
      ]
    },
    {
      "cell_type": "code",
      "metadata": {
        "id": "Yap9WHwRB7Pr",
        "colab_type": "code",
        "colab": {}
      },
      "source": [
        "train = pd.read_json('/content/drive/My Drive/Colab Notebooks/data/멜론/train.json', typ = 'frame')\n",
        "val = pd.read_json('/content/drive/My Drive/Colab Notebooks/data/멜론/val.json', typ = 'frame')\n",
        "test = pd.read_json('/content/drive/My Drive/Colab Notebooks/data/멜론/test.json', typ = 'frame')\n",
        "song_meta = pd.read_json('/content/drive/My Drive/Colab Notebooks/data/멜론/song_meta.json', typ = 'frame')\n",
        "genre_gn_all = pd.read_json('/content/drive/My Drive/Colab Notebooks/data/멜론/genre_gn_all.json', typ = 'series')"
      ],
      "execution_count": 0,
      "outputs": []
    },
    {
      "cell_type": "code",
      "metadata": {
        "id": "LHEyqfqyXvML",
        "colab_type": "code",
        "colab": {
          "base_uri": "https://localhost:8080/",
          "height": 284
        },
        "outputId": "125d3823-54d0-41b3-f1bb-29fea2441dbe"
      },
      "source": [
        "train.head()"
      ],
      "execution_count": 93,
      "outputs": [
        {
          "output_type": "execute_result",
          "data": {
            "text/html": [
              "<div>\n",
              "<style scoped>\n",
              "    .dataframe tbody tr th:only-of-type {\n",
              "        vertical-align: middle;\n",
              "    }\n",
              "\n",
              "    .dataframe tbody tr th {\n",
              "        vertical-align: top;\n",
              "    }\n",
              "\n",
              "    .dataframe thead th {\n",
              "        text-align: right;\n",
              "    }\n",
              "</style>\n",
              "<table border=\"1\" class=\"dataframe\">\n",
              "  <thead>\n",
              "    <tr style=\"text-align: right;\">\n",
              "      <th></th>\n",
              "      <th>tags</th>\n",
              "      <th>id</th>\n",
              "      <th>plylst_title</th>\n",
              "      <th>songs</th>\n",
              "      <th>like_cnt</th>\n",
              "      <th>updt_date</th>\n",
              "    </tr>\n",
              "  </thead>\n",
              "  <tbody>\n",
              "    <tr>\n",
              "      <th>0</th>\n",
              "      <td>[락]</td>\n",
              "      <td>61281</td>\n",
              "      <td>여행같은 음악</td>\n",
              "      <td>[525514, 129701, 383374, 562083, 297861, 13954...</td>\n",
              "      <td>71</td>\n",
              "      <td>2013-12-19 18:36:19.000</td>\n",
              "    </tr>\n",
              "    <tr>\n",
              "      <th>1</th>\n",
              "      <td>[추억, 회상]</td>\n",
              "      <td>10532</td>\n",
              "      <td>요즘 너 말야</td>\n",
              "      <td>[432406, 675945, 497066, 120377, 389529, 24427...</td>\n",
              "      <td>1</td>\n",
              "      <td>2014-12-02 16:19:42.000</td>\n",
              "    </tr>\n",
              "    <tr>\n",
              "      <th>2</th>\n",
              "      <td>[까페, 잔잔한]</td>\n",
              "      <td>76951</td>\n",
              "      <td>편하게, 잔잔하게 들을 수 있는 곡.-</td>\n",
              "      <td>[83116, 276692, 166267, 186301, 354465, 256598...</td>\n",
              "      <td>17</td>\n",
              "      <td>2017-08-28 07:09:34.000</td>\n",
              "    </tr>\n",
              "    <tr>\n",
              "      <th>3</th>\n",
              "      <td>[연말, 눈오는날, 캐럴, 분위기, 따듯한, 크리스마스캐럴, 겨울노래, 크리스마스,...</td>\n",
              "      <td>147456</td>\n",
              "      <td>크리스마스 분위기에 흠뻑 취하고 싶을때</td>\n",
              "      <td>[394031, 195524, 540149, 287984, 440773, 10033...</td>\n",
              "      <td>33</td>\n",
              "      <td>2019-12-05 15:15:18.000</td>\n",
              "    </tr>\n",
              "    <tr>\n",
              "      <th>4</th>\n",
              "      <td>[댄스]</td>\n",
              "      <td>27616</td>\n",
              "      <td>추억의 노래 ㅋ</td>\n",
              "      <td>[159327, 553610, 5130, 645103, 294435, 100657,...</td>\n",
              "      <td>9</td>\n",
              "      <td>2011-10-25 13:54:56.000</td>\n",
              "    </tr>\n",
              "  </tbody>\n",
              "</table>\n",
              "</div>"
            ],
            "text/plain": [
              "                                                tags  ...                updt_date\n",
              "0                                                [락]  ...  2013-12-19 18:36:19.000\n",
              "1                                           [추억, 회상]  ...  2014-12-02 16:19:42.000\n",
              "2                                          [까페, 잔잔한]  ...  2017-08-28 07:09:34.000\n",
              "3  [연말, 눈오는날, 캐럴, 분위기, 따듯한, 크리스마스캐럴, 겨울노래, 크리스마스,...  ...  2019-12-05 15:15:18.000\n",
              "4                                               [댄스]  ...  2011-10-25 13:54:56.000\n",
              "\n",
              "[5 rows x 6 columns]"
            ]
          },
          "metadata": {
            "tags": []
          },
          "execution_count": 93
        }
      ]
    },
    {
      "cell_type": "markdown",
      "metadata": {
        "id": "6ewrmlYneoEr",
        "colab_type": "text"
      },
      "source": [
        "모델 학습용 파일로, 115,071개 플레이리스트의 원본 데이터가 수록\n",
        "\n",
        "- id: 플레이리스트 ID\n",
        "- plylst_title: 플레이리스트 제목\n",
        "- tags: 태그 리스트\n",
        "- songs: 곡 리스트\n",
        "- like_cnt: 좋아요 개수\n",
        "- updt_date: 수정 날짜\n"
      ]
    },
    {
      "cell_type": "code",
      "metadata": {
        "id": "G5E3fBnWg2Tn",
        "colab_type": "code",
        "colab": {
          "base_uri": "https://localhost:8080/",
          "height": 200
        },
        "outputId": "85e37d10-2eca-407b-8db6-c30108b14108"
      },
      "source": [
        "val.head()"
      ],
      "execution_count": 94,
      "outputs": [
        {
          "output_type": "execute_result",
          "data": {
            "text/html": [
              "<div>\n",
              "<style scoped>\n",
              "    .dataframe tbody tr th:only-of-type {\n",
              "        vertical-align: middle;\n",
              "    }\n",
              "\n",
              "    .dataframe tbody tr th {\n",
              "        vertical-align: top;\n",
              "    }\n",
              "\n",
              "    .dataframe thead th {\n",
              "        text-align: right;\n",
              "    }\n",
              "</style>\n",
              "<table border=\"1\" class=\"dataframe\">\n",
              "  <thead>\n",
              "    <tr style=\"text-align: right;\">\n",
              "      <th></th>\n",
              "      <th>tags</th>\n",
              "      <th>id</th>\n",
              "      <th>plylst_title</th>\n",
              "      <th>songs</th>\n",
              "      <th>like_cnt</th>\n",
              "      <th>updt_date</th>\n",
              "    </tr>\n",
              "  </thead>\n",
              "  <tbody>\n",
              "    <tr>\n",
              "      <th>0</th>\n",
              "      <td>[]</td>\n",
              "      <td>118598</td>\n",
              "      <td></td>\n",
              "      <td>[373313, 151080, 275346, 696876, 165237, 52593...</td>\n",
              "      <td>1675</td>\n",
              "      <td>2019-05-27 14:14:33.000</td>\n",
              "    </tr>\n",
              "    <tr>\n",
              "      <th>1</th>\n",
              "      <td>[]</td>\n",
              "      <td>131447</td>\n",
              "      <td>앨리스테이블</td>\n",
              "      <td>[]</td>\n",
              "      <td>1</td>\n",
              "      <td>2014-07-16 15:24:24.000</td>\n",
              "    </tr>\n",
              "    <tr>\n",
              "      <th>2</th>\n",
              "      <td>[]</td>\n",
              "      <td>51464</td>\n",
              "      <td></td>\n",
              "      <td>[529437, 516103, 360067, 705713, 226062, 37089...</td>\n",
              "      <td>62</td>\n",
              "      <td>2008-06-21 23:26:22.000</td>\n",
              "    </tr>\n",
              "    <tr>\n",
              "      <th>3</th>\n",
              "      <td>[]</td>\n",
              "      <td>45144</td>\n",
              "      <td></td>\n",
              "      <td>[589668, 21711, 570151, 320043, 13930, 599327,...</td>\n",
              "      <td>20</td>\n",
              "      <td>2017-10-30 18:15:43.000</td>\n",
              "    </tr>\n",
              "    <tr>\n",
              "      <th>4</th>\n",
              "      <td>[]</td>\n",
              "      <td>79929</td>\n",
              "      <td></td>\n",
              "      <td>[672718, 121924, 102694, 683657, 201558, 38511...</td>\n",
              "      <td>20</td>\n",
              "      <td>2017-02-07 11:40:42.000</td>\n",
              "    </tr>\n",
              "  </tbody>\n",
              "</table>\n",
              "</div>"
            ],
            "text/plain": [
              "  tags      id  ... like_cnt                updt_date\n",
              "0   []  118598  ...     1675  2019-05-27 14:14:33.000\n",
              "1   []  131447  ...        1  2014-07-16 15:24:24.000\n",
              "2   []   51464  ...       62  2008-06-21 23:26:22.000\n",
              "3   []   45144  ...       20  2017-10-30 18:15:43.000\n",
              "4   []   79929  ...       20  2017-02-07 11:40:42.000\n",
              "\n",
              "[5 rows x 6 columns]"
            ]
          },
          "metadata": {
            "tags": []
          },
          "execution_count": 94
        }
      ]
    },
    {
      "cell_type": "markdown",
      "metadata": {
        "id": "GwCes3XkigXq",
        "colab_type": "text"
      },
      "source": [
        "공개 리더보드용 문제 파일로, 23,015개 플레이리스트에 대한 문제가 수록되어 있습니다. 모든 데이터가 수록되어있는 train 파일과는 다르게, 곡과 태그의 일부가 수록\n",
        "\n",
        "- id: 플레이리스트 ID\n",
        "- plylst_title: 플레이리스트 제목\n",
        "- tags: 태그 리스트\n",
        "- songs: 곡 리스트\n",
        "- like_cnt: 좋아요 개수\n",
        "- updt_date: 수정 날짜"
      ]
    },
    {
      "cell_type": "code",
      "metadata": {
        "id": "D6hgOdJOXv9w",
        "colab_type": "code",
        "colab": {
          "base_uri": "https://localhost:8080/",
          "height": 200
        },
        "outputId": "bd905341-2db9-4819-e2cd-7075a56b5551"
      },
      "source": [
        "test.head()"
      ],
      "execution_count": 95,
      "outputs": [
        {
          "output_type": "execute_result",
          "data": {
            "text/html": [
              "<div>\n",
              "<style scoped>\n",
              "    .dataframe tbody tr th:only-of-type {\n",
              "        vertical-align: middle;\n",
              "    }\n",
              "\n",
              "    .dataframe tbody tr th {\n",
              "        vertical-align: top;\n",
              "    }\n",
              "\n",
              "    .dataframe thead th {\n",
              "        text-align: right;\n",
              "    }\n",
              "</style>\n",
              "<table border=\"1\" class=\"dataframe\">\n",
              "  <thead>\n",
              "    <tr style=\"text-align: right;\">\n",
              "      <th></th>\n",
              "      <th>tags</th>\n",
              "      <th>id</th>\n",
              "      <th>plylst_title</th>\n",
              "      <th>songs</th>\n",
              "      <th>like_cnt</th>\n",
              "      <th>updt_date</th>\n",
              "    </tr>\n",
              "  </thead>\n",
              "  <tbody>\n",
              "    <tr>\n",
              "      <th>0</th>\n",
              "      <td>[]</td>\n",
              "      <td>70107</td>\n",
              "      <td></td>\n",
              "      <td>[398985, 449403, 411543, 528044, 143048, 98020...</td>\n",
              "      <td>6</td>\n",
              "      <td>2012-09-29 01:57:26.000</td>\n",
              "    </tr>\n",
              "    <tr>\n",
              "      <th>1</th>\n",
              "      <td>[나만의Best3, 인디아티스트들의추천음악]</td>\n",
              "      <td>7461</td>\n",
              "      <td></td>\n",
              "      <td>[196298, 269984, 267805, 175867, 529244, 63825...</td>\n",
              "      <td>0</td>\n",
              "      <td>2019-12-17 14:06:45.000</td>\n",
              "    </tr>\n",
              "    <tr>\n",
              "      <th>2</th>\n",
              "      <td>[드라이브]</td>\n",
              "      <td>90348</td>\n",
              "      <td></td>\n",
              "      <td>[273433, 331003, 68432, 411659, 117793, 616860...</td>\n",
              "      <td>21</td>\n",
              "      <td>2015-05-23 10:44:48.000</td>\n",
              "    </tr>\n",
              "    <tr>\n",
              "      <th>3</th>\n",
              "      <td>[분위기]</td>\n",
              "      <td>58617</td>\n",
              "      <td></td>\n",
              "      <td>[702227, 48152, 440008, 358488, 701041, 540721...</td>\n",
              "      <td>0</td>\n",
              "      <td>2019-03-14 09:47:34.000</td>\n",
              "    </tr>\n",
              "    <tr>\n",
              "      <th>4</th>\n",
              "      <td>[]</td>\n",
              "      <td>102395</td>\n",
              "      <td></td>\n",
              "      <td>[630683, 481582, 528550, 285114, 506667, 17922...</td>\n",
              "      <td>38</td>\n",
              "      <td>2018-07-11 16:43:32.000</td>\n",
              "    </tr>\n",
              "  </tbody>\n",
              "</table>\n",
              "</div>"
            ],
            "text/plain": [
              "                       tags      id  ... like_cnt                updt_date\n",
              "0                        []   70107  ...        6  2012-09-29 01:57:26.000\n",
              "1  [나만의Best3, 인디아티스트들의추천음악]    7461  ...        0  2019-12-17 14:06:45.000\n",
              "2                    [드라이브]   90348  ...       21  2015-05-23 10:44:48.000\n",
              "3                     [분위기]   58617  ...        0  2019-03-14 09:47:34.000\n",
              "4                        []  102395  ...       38  2018-07-11 16:43:32.000\n",
              "\n",
              "[5 rows x 6 columns]"
            ]
          },
          "metadata": {
            "tags": []
          },
          "execution_count": 95
        }
      ]
    },
    {
      "cell_type": "markdown",
      "metadata": {
        "id": "0pk1Ianxe6bA",
        "colab_type": "text"
      },
      "source": [
        "파이널 리더보드용 문제 파일로, 10,740개 플레이리스트에 대한 문제가 수록되어 있습니다. 모든 데이터가 수록되어있는 train 파일과는 다르게, 곡과 태그의 일부가 수록\n",
        "\n",
        "- id: 플레이리스트 ID\n",
        "- plylst_title: 플레이리스트 제목\n",
        "- tags: 태그 리스트\n",
        "- songs: 곡 리스트\n",
        "- like_cnt: 좋아요 개수\n",
        "- updt_date: 수정 날짜"
      ]
    },
    {
      "cell_type": "code",
      "metadata": {
        "id": "w_3C711AgZyl",
        "colab_type": "code",
        "colab": {
          "base_uri": "https://localhost:8080/",
          "height": 410
        },
        "outputId": "f3a03529-e533-4305-c557-462dae8731c6"
      },
      "source": [
        "test[test['plylst_title'] != '']"
      ],
      "execution_count": 96,
      "outputs": [
        {
          "output_type": "execute_result",
          "data": {
            "text/html": [
              "<div>\n",
              "<style scoped>\n",
              "    .dataframe tbody tr th:only-of-type {\n",
              "        vertical-align: middle;\n",
              "    }\n",
              "\n",
              "    .dataframe tbody tr th {\n",
              "        vertical-align: top;\n",
              "    }\n",
              "\n",
              "    .dataframe thead th {\n",
              "        text-align: right;\n",
              "    }\n",
              "</style>\n",
              "<table border=\"1\" class=\"dataframe\">\n",
              "  <thead>\n",
              "    <tr style=\"text-align: right;\">\n",
              "      <th></th>\n",
              "      <th>tags</th>\n",
              "      <th>id</th>\n",
              "      <th>plylst_title</th>\n",
              "      <th>songs</th>\n",
              "      <th>like_cnt</th>\n",
              "      <th>updt_date</th>\n",
              "    </tr>\n",
              "  </thead>\n",
              "  <tbody>\n",
              "    <tr>\n",
              "      <th>5</th>\n",
              "      <td>[스트레스]</td>\n",
              "      <td>88862</td>\n",
              "      <td>노래방 안에서</td>\n",
              "      <td>[]</td>\n",
              "      <td>22</td>\n",
              "      <td>2016-01-22 20:55:12.000</td>\n",
              "    </tr>\n",
              "    <tr>\n",
              "      <th>7</th>\n",
              "      <td>[사랑]</td>\n",
              "      <td>133975</td>\n",
              "      <td>봄바람과 듣고싶은 설레는 노래</td>\n",
              "      <td>[]</td>\n",
              "      <td>0</td>\n",
              "      <td>2020-02-19 03:05:49.000</td>\n",
              "    </tr>\n",
              "    <tr>\n",
              "      <th>11</th>\n",
              "      <td>[재즈, 기분전환, 뉴에이지]</td>\n",
              "      <td>135323</td>\n",
              "      <td>책읽으며 듣기좋은 잔잔 BGM♪</td>\n",
              "      <td>[]</td>\n",
              "      <td>29</td>\n",
              "      <td>2017-06-13 09:46:27.000</td>\n",
              "    </tr>\n",
              "    <tr>\n",
              "      <th>17</th>\n",
              "      <td>[]</td>\n",
              "      <td>43130</td>\n",
              "      <td>한여름의 센티멘탈 피아노.</td>\n",
              "      <td>[]</td>\n",
              "      <td>4</td>\n",
              "      <td>2014-06-04 01:22:05.000</td>\n",
              "    </tr>\n",
              "    <tr>\n",
              "      <th>21</th>\n",
              "      <td>[새벽]</td>\n",
              "      <td>113806</td>\n",
              "      <td>매력있고 편안한 노래들입니다!♬</td>\n",
              "      <td>[]</td>\n",
              "      <td>2</td>\n",
              "      <td>2014-12-13 10:23:21.000</td>\n",
              "    </tr>\n",
              "    <tr>\n",
              "      <th>...</th>\n",
              "      <td>...</td>\n",
              "      <td>...</td>\n",
              "      <td>...</td>\n",
              "      <td>...</td>\n",
              "      <td>...</td>\n",
              "      <td>...</td>\n",
              "    </tr>\n",
              "    <tr>\n",
              "      <th>10707</th>\n",
              "      <td>[추억]</td>\n",
              "      <td>27982</td>\n",
              "      <td>당신이 모르고 지나쳤을 수도 있는 명곡</td>\n",
              "      <td>[]</td>\n",
              "      <td>11</td>\n",
              "      <td>2018-05-17 02:53:34.000</td>\n",
              "    </tr>\n",
              "    <tr>\n",
              "      <th>10709</th>\n",
              "      <td>[사랑]</td>\n",
              "      <td>123364</td>\n",
              "      <td>달달하고 꽁냥스러운 염장송 (염장질에 천불주의)</td>\n",
              "      <td>[]</td>\n",
              "      <td>13</td>\n",
              "      <td>2016-11-08 10:33:32.000</td>\n",
              "    </tr>\n",
              "    <tr>\n",
              "      <th>10712</th>\n",
              "      <td>[기분전환]</td>\n",
              "      <td>61817</td>\n",
              "      <td>피곤함을 달래줄 음악과 함께 하루의 피로를 풀자</td>\n",
              "      <td>[]</td>\n",
              "      <td>0</td>\n",
              "      <td>2015-09-03 16:36:35.000</td>\n",
              "    </tr>\n",
              "    <tr>\n",
              "      <th>10720</th>\n",
              "      <td>[]</td>\n",
              "      <td>59912</td>\n",
              "      <td>프랑스를 대표하는 일렉트로니카 아티스트</td>\n",
              "      <td>[]</td>\n",
              "      <td>362</td>\n",
              "      <td>2010-01-08 14:53:06.000</td>\n",
              "    </tr>\n",
              "    <tr>\n",
              "      <th>10726</th>\n",
              "      <td>[휴식, 카페, 새벽감성, 감성, 기분전환]</td>\n",
              "      <td>46090</td>\n",
              "      <td>잘때 듣기좋은곡들</td>\n",
              "      <td>[]</td>\n",
              "      <td>28</td>\n",
              "      <td>2018-02-05 01:53:38.000</td>\n",
              "    </tr>\n",
              "  </tbody>\n",
              "</table>\n",
              "<p>2041 rows × 6 columns</p>\n",
              "</div>"
            ],
            "text/plain": [
              "                           tags      id  ... like_cnt                updt_date\n",
              "5                        [스트레스]   88862  ...       22  2016-01-22 20:55:12.000\n",
              "7                          [사랑]  133975  ...        0  2020-02-19 03:05:49.000\n",
              "11             [재즈, 기분전환, 뉴에이지]  135323  ...       29  2017-06-13 09:46:27.000\n",
              "17                           []   43130  ...        4  2014-06-04 01:22:05.000\n",
              "21                         [새벽]  113806  ...        2  2014-12-13 10:23:21.000\n",
              "...                         ...     ...  ...      ...                      ...\n",
              "10707                      [추억]   27982  ...       11  2018-05-17 02:53:34.000\n",
              "10709                      [사랑]  123364  ...       13  2016-11-08 10:33:32.000\n",
              "10712                    [기분전환]   61817  ...        0  2015-09-03 16:36:35.000\n",
              "10720                        []   59912  ...      362  2010-01-08 14:53:06.000\n",
              "10726  [휴식, 카페, 새벽감성, 감성, 기분전환]   46090  ...       28  2018-02-05 01:53:38.000\n",
              "\n",
              "[2041 rows x 6 columns]"
            ]
          },
          "metadata": {
            "tags": []
          },
          "execution_count": 96
        }
      ]
    },
    {
      "cell_type": "markdown",
      "metadata": {
        "id": "M3Llwud6gLRy",
        "colab_type": "text"
      },
      "source": [
        "**테스트 데이터에는 playlist의 title이 많이  존재하지 않는다. train 데이터의 plyst_title을 이용할 수 있을지 의문이다.**\n",
        "-  제목이 있는 경우도 있긴함. "
      ]
    },
    {
      "cell_type": "code",
      "metadata": {
        "id": "o_z5QYWJc0Or",
        "colab_type": "code",
        "colab": {
          "base_uri": "https://localhost:8080/",
          "height": 250
        },
        "outputId": "3196b548-f0ef-47ab-ecb4-b6bba768c299"
      },
      "source": [
        "song_meta.head()"
      ],
      "execution_count": 97,
      "outputs": [
        {
          "output_type": "execute_result",
          "data": {
            "text/html": [
              "<div>\n",
              "<style scoped>\n",
              "    .dataframe tbody tr th:only-of-type {\n",
              "        vertical-align: middle;\n",
              "    }\n",
              "\n",
              "    .dataframe tbody tr th {\n",
              "        vertical-align: top;\n",
              "    }\n",
              "\n",
              "    .dataframe thead th {\n",
              "        text-align: right;\n",
              "    }\n",
              "</style>\n",
              "<table border=\"1\" class=\"dataframe\">\n",
              "  <thead>\n",
              "    <tr style=\"text-align: right;\">\n",
              "      <th></th>\n",
              "      <th>song_gn_dtl_gnr_basket</th>\n",
              "      <th>issue_date</th>\n",
              "      <th>album_name</th>\n",
              "      <th>album_id</th>\n",
              "      <th>artist_id_basket</th>\n",
              "      <th>song_name</th>\n",
              "      <th>song_gn_gnr_basket</th>\n",
              "      <th>artist_name_basket</th>\n",
              "      <th>id</th>\n",
              "    </tr>\n",
              "  </thead>\n",
              "  <tbody>\n",
              "    <tr>\n",
              "      <th>0</th>\n",
              "      <td>[GN0901]</td>\n",
              "      <td>20140512</td>\n",
              "      <td>불후의 명곡 - 7080 추억의 얄개시대 팝송베스트</td>\n",
              "      <td>2255639</td>\n",
              "      <td>[2727]</td>\n",
              "      <td>Feelings</td>\n",
              "      <td>[GN0900]</td>\n",
              "      <td>[Various Artists]</td>\n",
              "      <td>0</td>\n",
              "    </tr>\n",
              "    <tr>\n",
              "      <th>1</th>\n",
              "      <td>[GN1601, GN1606]</td>\n",
              "      <td>20080421</td>\n",
              "      <td>Bach : Partitas Nos. 2, 3 &amp; 4</td>\n",
              "      <td>376431</td>\n",
              "      <td>[29966]</td>\n",
              "      <td>Bach : Partita No. 4 In D Major, BWV 828 - II....</td>\n",
              "      <td>[GN1600]</td>\n",
              "      <td>[Murray Perahia]</td>\n",
              "      <td>1</td>\n",
              "    </tr>\n",
              "    <tr>\n",
              "      <th>2</th>\n",
              "      <td>[GN0901]</td>\n",
              "      <td>20180518</td>\n",
              "      <td>Hit</td>\n",
              "      <td>4698747</td>\n",
              "      <td>[3361]</td>\n",
              "      <td>Solsbury Hill (Remastered 2002)</td>\n",
              "      <td>[GN0900]</td>\n",
              "      <td>[Peter Gabriel]</td>\n",
              "      <td>2</td>\n",
              "    </tr>\n",
              "    <tr>\n",
              "      <th>3</th>\n",
              "      <td>[GN1102, GN1101]</td>\n",
              "      <td>20151016</td>\n",
              "      <td>Feeling Right (Everything Is Nice) (Feat. Popc...</td>\n",
              "      <td>2644882</td>\n",
              "      <td>[838543]</td>\n",
              "      <td>Feeling Right (Everything Is Nice) (Feat. Popc...</td>\n",
              "      <td>[GN1100]</td>\n",
              "      <td>[Matoma]</td>\n",
              "      <td>3</td>\n",
              "    </tr>\n",
              "    <tr>\n",
              "      <th>4</th>\n",
              "      <td>[GN1802, GN1801]</td>\n",
              "      <td>20110824</td>\n",
              "      <td>그남자 그여자</td>\n",
              "      <td>2008470</td>\n",
              "      <td>[560160]</td>\n",
              "      <td>그남자 그여자</td>\n",
              "      <td>[GN1800]</td>\n",
              "      <td>[Jude Law]</td>\n",
              "      <td>4</td>\n",
              "    </tr>\n",
              "  </tbody>\n",
              "</table>\n",
              "</div>"
            ],
            "text/plain": [
              "  song_gn_dtl_gnr_basket  issue_date  ... artist_name_basket  id\n",
              "0               [GN0901]    20140512  ...  [Various Artists]   0\n",
              "1       [GN1601, GN1606]    20080421  ...   [Murray Perahia]   1\n",
              "2               [GN0901]    20180518  ...    [Peter Gabriel]   2\n",
              "3       [GN1102, GN1101]    20151016  ...           [Matoma]   3\n",
              "4       [GN1802, GN1801]    20110824  ...         [Jude Law]   4\n",
              "\n",
              "[5 rows x 9 columns]"
            ]
          },
          "metadata": {
            "tags": []
          },
          "execution_count": 97
        }
      ]
    },
    {
      "cell_type": "markdown",
      "metadata": {
        "id": "_PAf34Ulc9Ob",
        "colab_type": "text"
      },
      "source": [
        " 모든 곡에 대한 메타데이터가 포함\n",
        "\n",
        "- id: 곡 ID\n",
        "- album_id: 앨범 ID\n",
        "- artist_id_basket: 아티스트 ID 리스트\n",
        "- artist_name_basket: 아티스트 리스트\n",
        "- song_name: 곡 제목\n",
        "- song_gn_gnr_basket: 곡 장르 리스트\n",
        "- song_gn_dtl_gnr_basket: 곡 세부 장르 리스트\n",
        "- issue_date: 발매일"
      ]
    },
    {
      "cell_type": "code",
      "metadata": {
        "id": "iol_wKHUkRg_",
        "colab_type": "code",
        "colab": {
          "base_uri": "https://localhost:8080/",
          "height": 229
        },
        "outputId": "d3630263-25c6-4dd7-881c-d450d6b805eb"
      },
      "source": [
        "genre_gn_all"
      ],
      "execution_count": 98,
      "outputs": [
        {
          "output_type": "execute_result",
          "data": {
            "text/plain": [
              "GN0100       발라드\n",
              "GN0101    세부장르전체\n",
              "GN0102       '80\n",
              "GN0103       '90\n",
              "GN0104       '00\n",
              "           ...  \n",
              "GN2900       뮤지컬\n",
              "GN2901    세부장르전체\n",
              "GN2902     국내뮤지컬\n",
              "GN2903     국외뮤지컬\n",
              "GN3000     크리스마스\n",
              "Length: 254, dtype: object"
            ]
          },
          "metadata": {
            "tags": []
          },
          "execution_count": 98
        }
      ]
    },
    {
      "cell_type": "markdown",
      "metadata": {
        "id": "Iu4JEreId0Ui",
        "colab_type": "text"
      },
      "source": [
        "---"
      ]
    },
    {
      "cell_type": "code",
      "metadata": {
        "id": "zstacDaFOpHm",
        "colab_type": "code",
        "outputId": "838af398-ab59-4611-f913-50d5e5f04946",
        "colab": {
          "base_uri": "https://localhost:8080/",
          "height": 95
        }
      },
      "source": [
        "# example\n",
        "train[train['like_cnt'] == 53211]"
      ],
      "execution_count": 99,
      "outputs": [
        {
          "output_type": "execute_result",
          "data": {
            "text/html": [
              "<div>\n",
              "<style scoped>\n",
              "    .dataframe tbody tr th:only-of-type {\n",
              "        vertical-align: middle;\n",
              "    }\n",
              "\n",
              "    .dataframe tbody tr th {\n",
              "        vertical-align: top;\n",
              "    }\n",
              "\n",
              "    .dataframe thead th {\n",
              "        text-align: right;\n",
              "    }\n",
              "</style>\n",
              "<table border=\"1\" class=\"dataframe\">\n",
              "  <thead>\n",
              "    <tr style=\"text-align: right;\">\n",
              "      <th></th>\n",
              "      <th>tags</th>\n",
              "      <th>id</th>\n",
              "      <th>plylst_title</th>\n",
              "      <th>songs</th>\n",
              "      <th>like_cnt</th>\n",
              "      <th>updt_date</th>\n",
              "    </tr>\n",
              "  </thead>\n",
              "  <tbody>\n",
              "    <tr>\n",
              "      <th>46524</th>\n",
              "      <td>[노동요, 취향저격, 드라이브, Pop, 기분전환, 트렌디, 스트레스, 신나는]</td>\n",
              "      <td>74220</td>\n",
              "      <td>HOT TRENDY POP: 놓쳐선 안될 'POP' (매주 업데이트)</td>\n",
              "      <td>[159317, 368264, 600999, 274905, 643023, 24070...</td>\n",
              "      <td>53211</td>\n",
              "      <td>2020-04-17 14:32:23.000</td>\n",
              "    </tr>\n",
              "  </tbody>\n",
              "</table>\n",
              "</div>"
            ],
            "text/plain": [
              "                                               tags  ...                updt_date\n",
              "46524  [노동요, 취향저격, 드라이브, Pop, 기분전환, 트렌디, 스트레스, 신나는]  ...  2020-04-17 14:32:23.000\n",
              "\n",
              "[1 rows x 6 columns]"
            ]
          },
          "metadata": {
            "tags": []
          },
          "execution_count": 99
        }
      ]
    },
    {
      "cell_type": "markdown",
      "metadata": {
        "id": "jJcrGGx1m1L4",
        "colab_type": "text"
      },
      "source": [
        "---\n",
        "\n",
        "---\n",
        "\n"
      ]
    },
    {
      "cell_type": "markdown",
      "metadata": {
        "id": "qLcteUvIj6qR",
        "colab_type": "text"
      },
      "source": [
        "# EDA"
      ]
    },
    {
      "cell_type": "markdown",
      "metadata": {
        "id": "FAk-Rts0QS_b",
        "colab_type": "text"
      },
      "source": [
        "고려해야할? 것들\n",
        "1. 년도별(계절도 고려하는 것이 좋을 것 같음)로 장르별로 많이 뽑히는 노래 탑 100개? 씩만 뽑아보면 좋을 것 같음.\n",
        "2. 업데이트 시간 자체가 곡을 넣고 최종 저장 순간일텐데 시간에 따라 \"갬성\"이 쫌다르지 않을까?\n",
        "3. Tag별로 많이 뽑히는 곡들 모아보자."
      ]
    },
    {
      "cell_type": "markdown",
      "metadata": {
        "id": "fvrwm5QknGLD",
        "colab_type": "text"
      },
      "source": [
        "###변수제작"
      ]
    },
    {
      "cell_type": "code",
      "metadata": {
        "id": "KeYzMInQqE_0",
        "colab_type": "code",
        "colab": {}
      },
      "source": [
        "for data in [train,val,test]:\n",
        "  data['년도'] = data['updt_date'].apply(lambda x: x[:4])  \n",
        "  data['월'] = data['updt_date'].apply(lambda x: x[5:7])\n",
        "  data['시간대'] = data['updt_date'].apply(lambda x:x[11:13])"
      ],
      "execution_count": 0,
      "outputs": []
    },
    {
      "cell_type": "code",
      "metadata": {
        "id": "1S3VUlciqXt6",
        "colab_type": "code",
        "colab": {
          "base_uri": "https://localhost:8080/",
          "height": 301
        },
        "outputId": "708b0c3c-e786-4bab-e60a-e1aed87e77e5"
      },
      "source": [
        "train.head()"
      ],
      "execution_count": 101,
      "outputs": [
        {
          "output_type": "execute_result",
          "data": {
            "text/html": [
              "<div>\n",
              "<style scoped>\n",
              "    .dataframe tbody tr th:only-of-type {\n",
              "        vertical-align: middle;\n",
              "    }\n",
              "\n",
              "    .dataframe tbody tr th {\n",
              "        vertical-align: top;\n",
              "    }\n",
              "\n",
              "    .dataframe thead th {\n",
              "        text-align: right;\n",
              "    }\n",
              "</style>\n",
              "<table border=\"1\" class=\"dataframe\">\n",
              "  <thead>\n",
              "    <tr style=\"text-align: right;\">\n",
              "      <th></th>\n",
              "      <th>tags</th>\n",
              "      <th>id</th>\n",
              "      <th>plylst_title</th>\n",
              "      <th>songs</th>\n",
              "      <th>like_cnt</th>\n",
              "      <th>updt_date</th>\n",
              "      <th>년도</th>\n",
              "      <th>월</th>\n",
              "      <th>시간대</th>\n",
              "    </tr>\n",
              "  </thead>\n",
              "  <tbody>\n",
              "    <tr>\n",
              "      <th>0</th>\n",
              "      <td>[락]</td>\n",
              "      <td>61281</td>\n",
              "      <td>여행같은 음악</td>\n",
              "      <td>[525514, 129701, 383374, 562083, 297861, 13954...</td>\n",
              "      <td>71</td>\n",
              "      <td>2013-12-19 18:36:19.000</td>\n",
              "      <td>2013</td>\n",
              "      <td>12</td>\n",
              "      <td>18</td>\n",
              "    </tr>\n",
              "    <tr>\n",
              "      <th>1</th>\n",
              "      <td>[추억, 회상]</td>\n",
              "      <td>10532</td>\n",
              "      <td>요즘 너 말야</td>\n",
              "      <td>[432406, 675945, 497066, 120377, 389529, 24427...</td>\n",
              "      <td>1</td>\n",
              "      <td>2014-12-02 16:19:42.000</td>\n",
              "      <td>2014</td>\n",
              "      <td>12</td>\n",
              "      <td>16</td>\n",
              "    </tr>\n",
              "    <tr>\n",
              "      <th>2</th>\n",
              "      <td>[까페, 잔잔한]</td>\n",
              "      <td>76951</td>\n",
              "      <td>편하게, 잔잔하게 들을 수 있는 곡.-</td>\n",
              "      <td>[83116, 276692, 166267, 186301, 354465, 256598...</td>\n",
              "      <td>17</td>\n",
              "      <td>2017-08-28 07:09:34.000</td>\n",
              "      <td>2017</td>\n",
              "      <td>08</td>\n",
              "      <td>07</td>\n",
              "    </tr>\n",
              "    <tr>\n",
              "      <th>3</th>\n",
              "      <td>[연말, 눈오는날, 캐럴, 분위기, 따듯한, 크리스마스캐럴, 겨울노래, 크리스마스,...</td>\n",
              "      <td>147456</td>\n",
              "      <td>크리스마스 분위기에 흠뻑 취하고 싶을때</td>\n",
              "      <td>[394031, 195524, 540149, 287984, 440773, 10033...</td>\n",
              "      <td>33</td>\n",
              "      <td>2019-12-05 15:15:18.000</td>\n",
              "      <td>2019</td>\n",
              "      <td>12</td>\n",
              "      <td>15</td>\n",
              "    </tr>\n",
              "    <tr>\n",
              "      <th>4</th>\n",
              "      <td>[댄스]</td>\n",
              "      <td>27616</td>\n",
              "      <td>추억의 노래 ㅋ</td>\n",
              "      <td>[159327, 553610, 5130, 645103, 294435, 100657,...</td>\n",
              "      <td>9</td>\n",
              "      <td>2011-10-25 13:54:56.000</td>\n",
              "      <td>2011</td>\n",
              "      <td>10</td>\n",
              "      <td>13</td>\n",
              "    </tr>\n",
              "  </tbody>\n",
              "</table>\n",
              "</div>"
            ],
            "text/plain": [
              "                                                tags      id  ...   월 시간대\n",
              "0                                                [락]   61281  ...  12  18\n",
              "1                                           [추억, 회상]   10532  ...  12  16\n",
              "2                                          [까페, 잔잔한]   76951  ...  08  07\n",
              "3  [연말, 눈오는날, 캐럴, 분위기, 따듯한, 크리스마스캐럴, 겨울노래, 크리스마스,...  147456  ...  12  15\n",
              "4                                               [댄스]   27616  ...  10  13\n",
              "\n",
              "[5 rows x 9 columns]"
            ]
          },
          "metadata": {
            "tags": []
          },
          "execution_count": 101
        }
      ]
    },
    {
      "cell_type": "code",
      "metadata": {
        "id": "oL_Iaf7FDx0D",
        "colab_type": "code",
        "colab": {
          "base_uri": "https://localhost:8080/",
          "height": 200
        },
        "outputId": "3a461e5e-4d99-48ac-9ed9-b9d4f3fe1a8a"
      },
      "source": [
        "val.head()"
      ],
      "execution_count": 102,
      "outputs": [
        {
          "output_type": "execute_result",
          "data": {
            "text/html": [
              "<div>\n",
              "<style scoped>\n",
              "    .dataframe tbody tr th:only-of-type {\n",
              "        vertical-align: middle;\n",
              "    }\n",
              "\n",
              "    .dataframe tbody tr th {\n",
              "        vertical-align: top;\n",
              "    }\n",
              "\n",
              "    .dataframe thead th {\n",
              "        text-align: right;\n",
              "    }\n",
              "</style>\n",
              "<table border=\"1\" class=\"dataframe\">\n",
              "  <thead>\n",
              "    <tr style=\"text-align: right;\">\n",
              "      <th></th>\n",
              "      <th>tags</th>\n",
              "      <th>id</th>\n",
              "      <th>plylst_title</th>\n",
              "      <th>songs</th>\n",
              "      <th>like_cnt</th>\n",
              "      <th>updt_date</th>\n",
              "      <th>년도</th>\n",
              "      <th>월</th>\n",
              "      <th>시간대</th>\n",
              "    </tr>\n",
              "  </thead>\n",
              "  <tbody>\n",
              "    <tr>\n",
              "      <th>0</th>\n",
              "      <td>[]</td>\n",
              "      <td>118598</td>\n",
              "      <td></td>\n",
              "      <td>[373313, 151080, 275346, 696876, 165237, 52593...</td>\n",
              "      <td>1675</td>\n",
              "      <td>2019-05-27 14:14:33.000</td>\n",
              "      <td>2019</td>\n",
              "      <td>05</td>\n",
              "      <td>14</td>\n",
              "    </tr>\n",
              "    <tr>\n",
              "      <th>1</th>\n",
              "      <td>[]</td>\n",
              "      <td>131447</td>\n",
              "      <td>앨리스테이블</td>\n",
              "      <td>[]</td>\n",
              "      <td>1</td>\n",
              "      <td>2014-07-16 15:24:24.000</td>\n",
              "      <td>2014</td>\n",
              "      <td>07</td>\n",
              "      <td>15</td>\n",
              "    </tr>\n",
              "    <tr>\n",
              "      <th>2</th>\n",
              "      <td>[]</td>\n",
              "      <td>51464</td>\n",
              "      <td></td>\n",
              "      <td>[529437, 516103, 360067, 705713, 226062, 37089...</td>\n",
              "      <td>62</td>\n",
              "      <td>2008-06-21 23:26:22.000</td>\n",
              "      <td>2008</td>\n",
              "      <td>06</td>\n",
              "      <td>23</td>\n",
              "    </tr>\n",
              "    <tr>\n",
              "      <th>3</th>\n",
              "      <td>[]</td>\n",
              "      <td>45144</td>\n",
              "      <td></td>\n",
              "      <td>[589668, 21711, 570151, 320043, 13930, 599327,...</td>\n",
              "      <td>20</td>\n",
              "      <td>2017-10-30 18:15:43.000</td>\n",
              "      <td>2017</td>\n",
              "      <td>10</td>\n",
              "      <td>18</td>\n",
              "    </tr>\n",
              "    <tr>\n",
              "      <th>4</th>\n",
              "      <td>[]</td>\n",
              "      <td>79929</td>\n",
              "      <td></td>\n",
              "      <td>[672718, 121924, 102694, 683657, 201558, 38511...</td>\n",
              "      <td>20</td>\n",
              "      <td>2017-02-07 11:40:42.000</td>\n",
              "      <td>2017</td>\n",
              "      <td>02</td>\n",
              "      <td>11</td>\n",
              "    </tr>\n",
              "  </tbody>\n",
              "</table>\n",
              "</div>"
            ],
            "text/plain": [
              "  tags      id plylst_title  ...    년도   월 시간대\n",
              "0   []  118598               ...  2019  05  14\n",
              "1   []  131447       앨리스테이블  ...  2014  07  15\n",
              "2   []   51464               ...  2008  06  23\n",
              "3   []   45144               ...  2017  10  18\n",
              "4   []   79929               ...  2017  02  11\n",
              "\n",
              "[5 rows x 9 columns]"
            ]
          },
          "metadata": {
            "tags": []
          },
          "execution_count": 102
        }
      ]
    },
    {
      "cell_type": "code",
      "metadata": {
        "id": "k05tbVixqZqj",
        "colab_type": "code",
        "colab": {
          "base_uri": "https://localhost:8080/",
          "height": 200
        },
        "outputId": "436529fa-a824-4ab2-c522-55519f61bfbb"
      },
      "source": [
        "test.head()"
      ],
      "execution_count": 103,
      "outputs": [
        {
          "output_type": "execute_result",
          "data": {
            "text/html": [
              "<div>\n",
              "<style scoped>\n",
              "    .dataframe tbody tr th:only-of-type {\n",
              "        vertical-align: middle;\n",
              "    }\n",
              "\n",
              "    .dataframe tbody tr th {\n",
              "        vertical-align: top;\n",
              "    }\n",
              "\n",
              "    .dataframe thead th {\n",
              "        text-align: right;\n",
              "    }\n",
              "</style>\n",
              "<table border=\"1\" class=\"dataframe\">\n",
              "  <thead>\n",
              "    <tr style=\"text-align: right;\">\n",
              "      <th></th>\n",
              "      <th>tags</th>\n",
              "      <th>id</th>\n",
              "      <th>plylst_title</th>\n",
              "      <th>songs</th>\n",
              "      <th>like_cnt</th>\n",
              "      <th>updt_date</th>\n",
              "      <th>년도</th>\n",
              "      <th>월</th>\n",
              "      <th>시간대</th>\n",
              "    </tr>\n",
              "  </thead>\n",
              "  <tbody>\n",
              "    <tr>\n",
              "      <th>0</th>\n",
              "      <td>[]</td>\n",
              "      <td>70107</td>\n",
              "      <td></td>\n",
              "      <td>[398985, 449403, 411543, 528044, 143048, 98020...</td>\n",
              "      <td>6</td>\n",
              "      <td>2012-09-29 01:57:26.000</td>\n",
              "      <td>2012</td>\n",
              "      <td>09</td>\n",
              "      <td>01</td>\n",
              "    </tr>\n",
              "    <tr>\n",
              "      <th>1</th>\n",
              "      <td>[나만의Best3, 인디아티스트들의추천음악]</td>\n",
              "      <td>7461</td>\n",
              "      <td></td>\n",
              "      <td>[196298, 269984, 267805, 175867, 529244, 63825...</td>\n",
              "      <td>0</td>\n",
              "      <td>2019-12-17 14:06:45.000</td>\n",
              "      <td>2019</td>\n",
              "      <td>12</td>\n",
              "      <td>14</td>\n",
              "    </tr>\n",
              "    <tr>\n",
              "      <th>2</th>\n",
              "      <td>[드라이브]</td>\n",
              "      <td>90348</td>\n",
              "      <td></td>\n",
              "      <td>[273433, 331003, 68432, 411659, 117793, 616860...</td>\n",
              "      <td>21</td>\n",
              "      <td>2015-05-23 10:44:48.000</td>\n",
              "      <td>2015</td>\n",
              "      <td>05</td>\n",
              "      <td>10</td>\n",
              "    </tr>\n",
              "    <tr>\n",
              "      <th>3</th>\n",
              "      <td>[분위기]</td>\n",
              "      <td>58617</td>\n",
              "      <td></td>\n",
              "      <td>[702227, 48152, 440008, 358488, 701041, 540721...</td>\n",
              "      <td>0</td>\n",
              "      <td>2019-03-14 09:47:34.000</td>\n",
              "      <td>2019</td>\n",
              "      <td>03</td>\n",
              "      <td>09</td>\n",
              "    </tr>\n",
              "    <tr>\n",
              "      <th>4</th>\n",
              "      <td>[]</td>\n",
              "      <td>102395</td>\n",
              "      <td></td>\n",
              "      <td>[630683, 481582, 528550, 285114, 506667, 17922...</td>\n",
              "      <td>38</td>\n",
              "      <td>2018-07-11 16:43:32.000</td>\n",
              "      <td>2018</td>\n",
              "      <td>07</td>\n",
              "      <td>16</td>\n",
              "    </tr>\n",
              "  </tbody>\n",
              "</table>\n",
              "</div>"
            ],
            "text/plain": [
              "                       tags      id plylst_title  ...    년도   월 시간대\n",
              "0                        []   70107               ...  2012  09  01\n",
              "1  [나만의Best3, 인디아티스트들의추천음악]    7461               ...  2019  12  14\n",
              "2                    [드라이브]   90348               ...  2015  05  10\n",
              "3                     [분위기]   58617               ...  2019  03  09\n",
              "4                        []  102395               ...  2018  07  16\n",
              "\n",
              "[5 rows x 9 columns]"
            ]
          },
          "metadata": {
            "tags": []
          },
          "execution_count": 103
        }
      ]
    },
    {
      "cell_type": "markdown",
      "metadata": {
        "id": "9OUxTOQTS70h",
        "colab_type": "text"
      },
      "source": [
        "## 년도별 변수 관리"
      ]
    },
    {
      "cell_type": "code",
      "metadata": {
        "id": "8Si3vR4EtLn6",
        "colab_type": "code",
        "colab": {
          "base_uri": "https://localhost:8080/",
          "height": 516
        },
        "outputId": "5ed29137-5529-4b9c-a562-cc8a1babe722"
      },
      "source": [
        "fig,((ax1,ax2,ax3))= plt.subplots(nrows=1,ncols=3, figsize = (12,7))\n",
        "sns.countplot(y=\"년도\", palette=\"ch:.25\", data=train,ax=ax1)\n",
        "sns.countplot(y=\"년도\", palette=\"ch:.25\", data=val,ax=ax2)\n",
        "sns.countplot(y=\"년도\", palette=\"ch:.25\", data=test,ax=ax3)\n",
        "\n",
        "ax1.set_title('train')\n",
        "ax2.set_title('val')\n",
        "ax3.set_title('test')\n",
        "\n",
        "plt.tight_layout()\n",
        "plt.show()"
      ],
      "execution_count": 105,
      "outputs": [
        {
          "output_type": "display_data",
          "data": {
            "image/png": "[encoded data removed]",
            "text/plain": [
              "<Figure size 864x504 with 3 Axes>"
            ]
          },
          "metadata": {
            "tags": [],
            "image/png": {
              "width": 857,
              "height": 499
            },
            "needs_background": "light"
          }
        }
      ]
    },
    {
      "cell_type": "markdown",
      "metadata": {
        "id": "dy79cjcvvQZG",
        "colab_type": "text"
      },
      "source": [
        "train,val, test 모두 2019년이 playlist중에 가장 많은 비중을 차지함."
      ]
    },
    {
      "cell_type": "code",
      "metadata": {
        "id": "UinupBTrXpfG",
        "colab_type": "code",
        "outputId": "2f2d0d37-0cca-4812-aa3b-4da1b492e1ed",
        "colab": {
          "base_uri": "https://localhost:8080/",
          "height": 200
        }
      },
      "source": [
        "# 년도별 tags 평균 개수\n",
        "y_list=[]\n",
        "mean_list=[]\n",
        "graph_dict={}\n",
        "for k in train['년도'].unique():\n",
        "  #print('년도:',k,train[train['년도']== k]['tags'].apply(lambda x: len(x)).reset_index()['tags'].mean())\n",
        "  y_list.append(k)\n",
        "  mean_list.append(train[train['년도']== k]['tags'].apply(lambda x: len(x)).reset_index()['tags'].mean())\n",
        "\n",
        "graph_dict['년도'] = y_list\n",
        "graph_dict['tags_mean'] = mean_list\n",
        "mean_tr_y = pd.DataFrame(graph_dict).sort_values('년도')\n",
        "mean_tr_y.head()"
      ],
      "execution_count": 106,
      "outputs": [
        {
          "output_type": "execute_result",
          "data": {
            "text/html": [
              "<div>\n",
              "<style scoped>\n",
              "    .dataframe tbody tr th:only-of-type {\n",
              "        vertical-align: middle;\n",
              "    }\n",
              "\n",
              "    .dataframe tbody tr th {\n",
              "        vertical-align: top;\n",
              "    }\n",
              "\n",
              "    .dataframe thead th {\n",
              "        text-align: right;\n",
              "    }\n",
              "</style>\n",
              "<table border=\"1\" class=\"dataframe\">\n",
              "  <thead>\n",
              "    <tr style=\"text-align: right;\">\n",
              "      <th></th>\n",
              "      <th>년도</th>\n",
              "      <th>tags_mean</th>\n",
              "    </tr>\n",
              "  </thead>\n",
              "  <tbody>\n",
              "    <tr>\n",
              "      <th>16</th>\n",
              "      <td>2004</td>\n",
              "      <td>1.200000</td>\n",
              "    </tr>\n",
              "    <tr>\n",
              "      <th>15</th>\n",
              "      <td>2005</td>\n",
              "      <td>1.262500</td>\n",
              "    </tr>\n",
              "    <tr>\n",
              "      <th>12</th>\n",
              "      <td>2006</td>\n",
              "      <td>1.344865</td>\n",
              "    </tr>\n",
              "    <tr>\n",
              "      <th>10</th>\n",
              "      <td>2007</td>\n",
              "      <td>1.335991</td>\n",
              "    </tr>\n",
              "    <tr>\n",
              "      <th>6</th>\n",
              "      <td>2008</td>\n",
              "      <td>1.256384</td>\n",
              "    </tr>\n",
              "  </tbody>\n",
              "</table>\n",
              "</div>"
            ],
            "text/plain": [
              "      년도  tags_mean\n",
              "16  2004   1.200000\n",
              "15  2005   1.262500\n",
              "12  2006   1.344865\n",
              "10  2007   1.335991\n",
              "6   2008   1.256384"
            ]
          },
          "metadata": {
            "tags": []
          },
          "execution_count": 106
        }
      ]
    },
    {
      "cell_type": "code",
      "metadata": {
        "id": "N2Ud-OELECDT",
        "colab_type": "code",
        "colab": {
          "base_uri": "https://localhost:8080/",
          "height": 200
        },
        "outputId": "f15f3ebc-ea56-454a-ec67-70a812317946"
      },
      "source": [
        "# 년도별 tags 평균 개수\n",
        "y_list=[]\n",
        "mean_list=[]\n",
        "graph_dict={}\n",
        "for k in train['년도'].unique():\n",
        "  #print('년도:',k,train[train['년도']== k]['tags'].apply(lambda x: len(x)).reset_index()['tags'].mean())\n",
        "  y_list.append(k)\n",
        "  mean_list.append(train[train['년도']== k]['tags'].apply(lambda x: len(x)).reset_index()['tags'].mean())\n",
        "\n",
        "graph_dict['년도'] = y_list\n",
        "graph_dict['tags_mean'] = mean_list\n",
        "mean_val_y = pd.DataFrame(graph_dict).sort_values('년도')\n",
        "mean_val_y.head()"
      ],
      "execution_count": 107,
      "outputs": [
        {
          "output_type": "execute_result",
          "data": {
            "text/html": [
              "<div>\n",
              "<style scoped>\n",
              "    .dataframe tbody tr th:only-of-type {\n",
              "        vertical-align: middle;\n",
              "    }\n",
              "\n",
              "    .dataframe tbody tr th {\n",
              "        vertical-align: top;\n",
              "    }\n",
              "\n",
              "    .dataframe thead th {\n",
              "        text-align: right;\n",
              "    }\n",
              "</style>\n",
              "<table border=\"1\" class=\"dataframe\">\n",
              "  <thead>\n",
              "    <tr style=\"text-align: right;\">\n",
              "      <th></th>\n",
              "      <th>년도</th>\n",
              "      <th>tags_mean</th>\n",
              "    </tr>\n",
              "  </thead>\n",
              "  <tbody>\n",
              "    <tr>\n",
              "      <th>16</th>\n",
              "      <td>2004</td>\n",
              "      <td>1.200000</td>\n",
              "    </tr>\n",
              "    <tr>\n",
              "      <th>15</th>\n",
              "      <td>2005</td>\n",
              "      <td>1.262500</td>\n",
              "    </tr>\n",
              "    <tr>\n",
              "      <th>12</th>\n",
              "      <td>2006</td>\n",
              "      <td>1.344865</td>\n",
              "    </tr>\n",
              "    <tr>\n",
              "      <th>10</th>\n",
              "      <td>2007</td>\n",
              "      <td>1.335991</td>\n",
              "    </tr>\n",
              "    <tr>\n",
              "      <th>6</th>\n",
              "      <td>2008</td>\n",
              "      <td>1.256384</td>\n",
              "    </tr>\n",
              "  </tbody>\n",
              "</table>\n",
              "</div>"
            ],
            "text/plain": [
              "      년도  tags_mean\n",
              "16  2004   1.200000\n",
              "15  2005   1.262500\n",
              "12  2006   1.344865\n",
              "10  2007   1.335991\n",
              "6   2008   1.256384"
            ]
          },
          "metadata": {
            "tags": []
          },
          "execution_count": 107
        }
      ]
    },
    {
      "cell_type": "code",
      "metadata": {
        "id": "zg7X3Ych9_nZ",
        "colab_type": "code",
        "colab": {
          "base_uri": "https://localhost:8080/",
          "height": 200
        },
        "outputId": "f632da8c-05f2-40b6-9f1e-c8b533bafcd6"
      },
      "source": [
        "y_list=[]\n",
        "mean_list=[]\n",
        "graph_dict={}\n",
        "for k in test['년도'].unique():\n",
        "  #print('년도:',k,train[train['년도']== k]['tags'].apply(lambda x: len(x)).reset_index()['tags'].mean())\n",
        "  y_list.append(k)\n",
        "  mean_list.append(test[test['년도']== k]['tags'].apply(lambda x: len(x)).reset_index()['tags'].mean())\n",
        "\n",
        "graph_dict['년도'] = y_list\n",
        "graph_dict['tags_mean'] = mean_list\n",
        "mean_ts_y = pd.DataFrame(graph_dict).sort_values('년도')\n",
        "mean_ts_y.head()"
      ],
      "execution_count": 108,
      "outputs": [
        {
          "output_type": "execute_result",
          "data": {
            "text/html": [
              "<div>\n",
              "<style scoped>\n",
              "    .dataframe tbody tr th:only-of-type {\n",
              "        vertical-align: middle;\n",
              "    }\n",
              "\n",
              "    .dataframe tbody tr th {\n",
              "        vertical-align: top;\n",
              "    }\n",
              "\n",
              "    .dataframe thead th {\n",
              "        text-align: right;\n",
              "    }\n",
              "</style>\n",
              "<table border=\"1\" class=\"dataframe\">\n",
              "  <thead>\n",
              "    <tr style=\"text-align: right;\">\n",
              "      <th></th>\n",
              "      <th>년도</th>\n",
              "      <th>tags_mean</th>\n",
              "    </tr>\n",
              "  </thead>\n",
              "  <tbody>\n",
              "    <tr>\n",
              "      <th>15</th>\n",
              "      <td>2005</td>\n",
              "      <td>0.000000</td>\n",
              "    </tr>\n",
              "    <tr>\n",
              "      <th>14</th>\n",
              "      <td>2006</td>\n",
              "      <td>0.154762</td>\n",
              "    </tr>\n",
              "    <tr>\n",
              "      <th>12</th>\n",
              "      <td>2007</td>\n",
              "      <td>0.222222</td>\n",
              "    </tr>\n",
              "    <tr>\n",
              "      <th>11</th>\n",
              "      <td>2008</td>\n",
              "      <td>0.273810</td>\n",
              "    </tr>\n",
              "    <tr>\n",
              "      <th>13</th>\n",
              "      <td>2009</td>\n",
              "      <td>0.086093</td>\n",
              "    </tr>\n",
              "  </tbody>\n",
              "</table>\n",
              "</div>"
            ],
            "text/plain": [
              "      년도  tags_mean\n",
              "15  2005   0.000000\n",
              "14  2006   0.154762\n",
              "12  2007   0.222222\n",
              "11  2008   0.273810\n",
              "13  2009   0.086093"
            ]
          },
          "metadata": {
            "tags": []
          },
          "execution_count": 108
        }
      ]
    },
    {
      "cell_type": "code",
      "metadata": {
        "id": "WIx5wpM4-JF-",
        "colab_type": "code",
        "colab": {
          "base_uri": "https://localhost:8080/",
          "height": 444
        },
        "outputId": "e8443187-e763-40ee-a53f-dc1808be4780"
      },
      "source": [
        "fig,((ax1,ax2,ax3))= plt.subplots(nrows=1,ncols=3, figsize = (18,6))\n",
        "sns.barplot('년도','tags_mean',data=mean_tr_y,ax=ax1)\n",
        "sns.barplot('년도','tags_mean',data=mean_val_y,ax=ax2)\n",
        "sns.barplot('년도','tags_mean',data=mean_ts_y,ax=ax3)\n",
        "\n",
        "ax1.set_title('train')\n",
        "ax2.set_title('val')\n",
        "ax3.set_title('test')\n",
        "\n",
        "plt.tight_layout()\n",
        "plt.show()"
      ],
      "execution_count": 112,
      "outputs": [
        {
          "output_type": "display_data",
          "data": {
            "image/png": "[encoded data removed]",
            "text/plain": [
              "<Figure size 1296x432 with 3 Axes>"
            ]
          },
          "metadata": {
            "tags": [],
            "image/png": {
              "width": 1287,
              "height": 427
            },
            "needs_background": "light"
          }
        }
      ]
    },
    {
      "cell_type": "markdown",
      "metadata": {
        "id": "_MXj0E2IbF0e",
        "colab_type": "text"
      },
      "source": [
        "**또한 Tag의 분포를 보면 2016년 기점으로 tag의 개수가 급격하게 변한 것으로 보임**\n",
        "\n"
      ]
    },
    {
      "cell_type": "code",
      "metadata": {
        "id": "iEzzkqzjcMKR",
        "colab_type": "code",
        "outputId": "1fcba8f4-6378-43aa-ba87-a4d616b9c8a0",
        "colab": {
          "base_uri": "https://localhost:8080/",
          "height": 317
        }
      },
      "source": [
        "# 년도별 tags 최소값 개수\n",
        "for k in train['년도'].unique():\n",
        "  print('년도:',k,train[train['년도']== k]['tags'].apply(lambda x: len(x)).reset_index()['tags'].min())"
      ],
      "execution_count": 110,
      "outputs": [
        {
          "output_type": "stream",
          "text": [
            "년도: 2013 1\n",
            "년도: 2014 1\n",
            "년도: 2017 1\n",
            "년도: 2019 1\n",
            "년도: 2011 1\n",
            "년도: 2016 1\n",
            "년도: 2008 1\n",
            "년도: 2020 1\n",
            "년도: 2018 1\n",
            "년도: 2015 1\n",
            "년도: 2007 1\n",
            "년도: 2012 1\n",
            "년도: 2006 1\n",
            "년도: 2010 1\n",
            "년도: 2009 1\n",
            "년도: 2005 1\n",
            "년도: 2004 1\n"
          ],
          "name": "stdout"
        }
      ]
    },
    {
      "cell_type": "markdown",
      "metadata": {
        "id": "EVxc9W8-3GDq",
        "colab_type": "text"
      },
      "source": [
        "tag의 개수는 모두 최소 1개씩은 가지고 있는 것으로 보임."
      ]
    },
    {
      "cell_type": "markdown",
      "metadata": {
        "id": "dnXuWfgQGW41",
        "colab_type": "text"
      },
      "source": [
        "## 월별 변수관리"
      ]
    },
    {
      "cell_type": "code",
      "metadata": {
        "id": "CGyd5jI8GZSm",
        "colab_type": "code",
        "colab": {
          "base_uri": "https://localhost:8080/",
          "height": 516
        },
        "outputId": "61042a1b-8a01-4fa2-afab-d0aa375e9bc3"
      },
      "source": [
        "fig,((ax1,ax2,ax3))= plt.subplots(nrows=1,ncols=3, figsize = (12,7))\n",
        "sns.countplot(y=\"월\", palette=\"ch:.25\", data=train,ax=ax1)\n",
        "sns.countplot(y=\"월\", palette=\"ch:.25\", data=val,ax=ax2)\n",
        "sns.countplot(y=\"월\", palette=\"ch:.25\", data=test,ax=ax3)\n",
        "\n",
        "ax1.set_title('train')\n",
        "ax2.set_title('val')\n",
        "ax3.set_title('test')\n",
        "\n",
        "plt.tight_layout()\n",
        "plt.show()"
      ],
      "execution_count": 113,
      "outputs": [
        {
          "output_type": "display_data",
          "data": {
            "image/png": "[encoded data removed]",
            "text/plain": [
              "<Figure size 864x504 with 3 Axes>"
            ]
          },
          "metadata": {
            "tags": [],
            "image/png": {
              "width": 857,
              "height": 499
            },
            "needs_background": "light"
          }
        }
      ]
    },
    {
      "cell_type": "markdown",
      "metadata": {
        "id": "sl7LYq74Jy5X",
        "colab_type": "text"
      },
      "source": [
        "playlist는 4월에 많이 업데이트가 되는 것으로 보임."
      ]
    },
    {
      "cell_type": "code",
      "metadata": {
        "id": "evBjSCDsGqcz",
        "colab_type": "code",
        "colab": {}
      },
      "source": [
        "# 년도별 tags 평균 개수\n",
        "y_list=[]\n",
        "mean_list=[]\n",
        "graph_dict={}\n",
        "for data in [train,val,test]:\n",
        "  for k in data['월'].unique():\n",
        "    #print('년도:',k,train[train['년도']== k]['tags'].apply(lambda x: len(x)).reset_index()['tags'].mean())\n",
        "    y_list.append(k)\n",
        "    mean_list.append(train[train['월']== k]['tags'].apply(lambda x: len(x)).reset_index()['tags'].mean())\n",
        "\n",
        "  graph_dict['월'] = y_list\n",
        "  graph_dict['tags_mean'] = mean_list\n",
        "  if [x for x in globals() if globals()[x] is data][0] == 'train':\n",
        "    mean_train_m = pd.DataFrame(graph_dict).sort_values('월')\n",
        "  elif [x for x in globals() if globals()[x] is data][0] == 'val':\n",
        "    mean_val_m = pd.DataFrame(graph_dict).sort_values('월')\n",
        "  else:\n",
        "    mean_test_m = pd.DataFrame(graph_dict).sort_values('월')"
      ],
      "execution_count": 0,
      "outputs": []
    },
    {
      "cell_type": "code",
      "metadata": {
        "id": "akM1sjPsIkjG",
        "colab_type": "code",
        "colab": {
          "base_uri": "https://localhost:8080/",
          "height": 444
        },
        "outputId": "cfd78249-dbd3-48e7-bd6e-6969724e5e4b"
      },
      "source": [
        "fig,((ax1,ax2,ax3))= plt.subplots(nrows=1,ncols=3, figsize = (18,6))\n",
        "sns.barplot('월','tags_mean',data=mean_train_m,ax=ax1)\n",
        "sns.barplot('월','tags_mean',data=mean_val_m,ax=ax2)\n",
        "sns.barplot('월','tags_mean',data=mean_test_m,ax=ax3)\n",
        "\n",
        "ax1.set_title('train')\n",
        "ax2.set_title('val')\n",
        "ax3.set_title('test')\n",
        "\n",
        "plt.tight_layout()\n",
        "plt.show()"
      ],
      "execution_count": 131,
      "outputs": [
        {
          "output_type": "display_data",
          "data": {
            "image/png": "[encoded data removed]",
            "text/plain": [
              "<Figure size 1296x432 with 3 Axes>"
            ]
          },
          "metadata": {
            "tags": [],
            "image/png": {
              "width": 1289,
              "height": 427
            },
            "needs_background": "light"
          }
        }
      ]
    },
    {
      "cell_type": "markdown",
      "metadata": {
        "id": "4TE8B_4FJbqj",
        "colab_type": "text"
      },
      "source": [
        "4월이 tag의 개수도 많아 보임. 하지만 전체적인 월별 tag의 개수는 전체적으로 비슷한 것으로 보임. \n",
        "- 4월에 노래추천이나 플레이리스트에 관한 이벤트가 있는지 찾아보는 것이 좋을 듯."
      ]
    },
    {
      "cell_type": "markdown",
      "metadata": {
        "id": "0QyFhGz3NY5b",
        "colab_type": "text"
      },
      "source": [
        "----"
      ]
    },
    {
      "cell_type": "markdown",
      "metadata": {
        "id": "21FkfX28NZYG",
        "colab_type": "text"
      },
      "source": [
        "# 변수 생성 방식 Thinking (To be next)\n",
        "1. song_meta의 issue_data(발매일)의 년도와 월?(계절의 속성을 나타낼 수 있음)을 이용하여 data들(train,val,test)의 플레이리스트들 안에 있는 노래들(노래명,아티스트,장르)의 년도와 월과의 관계를 조사해 볼 필요가 있을 것 같음.\n",
        "2. 그리고 플레이리스트에 들어가 있는 곡들의 빈도수를 뽑아서 연도별, 월별 순위표(노래,아티스트,장르)를 만들 필요가 있을 것 같음."
      ]
    }
  ]
}