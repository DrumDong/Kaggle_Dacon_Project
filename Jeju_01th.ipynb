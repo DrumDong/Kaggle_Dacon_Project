{
 "cells": [
  {
   "cell_type": "code",
   "execution_count": 1,
   "metadata": {},
   "outputs": [],
   "source": [
    "import pandas as pd"
   ]
  },
  {
   "cell_type": "code",
   "execution_count": 2,
   "metadata": {},
   "outputs": [],
   "source": [
    "df1=pd.read_csv('D:/Data/Dacon공간정보/KRI-DAC_Jeju_data5.txt')\n",
    "df2=pd.read_csv('D:/Data/Dacon공간정보/KRI-DAC_Jeju_data6.txt')\n",
    "df3=pd.read_csv('D:/Data/Dacon공간정보/KRI-DAC_Jeju_data7.txt')\n",
    "df4=pd.read_csv('D:/Data/Dacon공간정보/KRI-DAC_Jeju_data8.txt')\n",
    "\n",
    "'''외부 데이터'''\n",
    "#https://www.data.go.kr/data/15004770/fileData.do\n",
    "place_df= pd.read_csv('D:/Data/Dacon공간정보/제주특별자치도_제주도장소(POI)데이터_20151231.csv',encoding='cp949')"
   ]
  },
  {
   "cell_type": "code",
   "execution_count": 3,
   "metadata": {},
   "outputs": [
    {
     "name": "stdout",
     "output_type": "stream",
     "text": [
      "Index(['OBJECTID', 'Field1', 'YM', 'SIDO', 'SIGUNGU', 'FranClass', 'Type',\n",
      "       'Time', 'TotalSpent', 'DisSpent', 'NumofSpent', 'NumofDisSpent',\n",
      "       'POINT_X', 'POINT_Y'],\n",
      "      dtype='object') (273183, 14)\n",
      "Index(['OBJECTID', 'Field1', 'YM', 'SIDO', 'SIGUNGU', 'FranClass', 'Type',\n",
      "       'Time', 'TotalSpent', 'DisSpent', 'NumofSpent', 'NumofDisSpent',\n",
      "       'POINT_X', 'POINT_Y'],\n",
      "      dtype='object') (281896, 14)\n",
      "Index(['OBJECTID', 'Field1', 'YM', 'SIDO', 'SIGUNGU', 'X', 'Y', 'FranClass',\n",
      "       'Type', 'Time', 'TotalSpent', 'DisSpent', 'NumofSpent', 'NumofDisSpent',\n",
      "       'POINT_X', 'POINT_Y'],\n",
      "      dtype='object') (284265, 16)\n",
      "Index(['OBJECTID', 'Field1', 'YM', 'SIDO', 'SIGUNGU', 'FranClass', 'Type',\n",
      "       'Time', 'TotalSpent', 'DisSpent', 'NumofSpent', 'NumofDisSpent',\n",
      "       'POINT_X', 'POINT_Y'],\n",
      "      dtype='object') (280085, 14)\n"
     ]
    }
   ],
   "source": [
    "for df in [df1,df2,df3,df4]:\n",
    "    print(df.columns,df.shape)"
   ]
  },
  {
   "cell_type": "markdown",
   "metadata": {},
   "source": [
    "df3의 X,Y 컬럼은 삭제하자."
   ]
  },
  {
   "cell_type": "code",
   "execution_count": 4,
   "metadata": {},
   "outputs": [],
   "source": [
    "df3.drop(['X','Y'],axis=1,inplace=True)"
   ]
  },
  {
   "cell_type": "markdown",
   "metadata": {},
   "source": [
    "데이터 정의\n",
    "\n",
    "- YM : 기준년월\n",
    "- SIDO : 지역대분류명\n",
    "- SIGUNGU : 지역중분류명\n",
    "- FranClass : 소상공인구분\n",
    "- Type : 업종명\n",
    "- Time : 시간대\n",
    "- TotalSpent : 총사용금액\n",
    "- DisSpent : 재난지원금 사용금액\n",
    "- NumOfSpent : 총 이용건수\n",
    "- NumOfDisSpent : 총 재난지원금 이용건수\n",
    "- POINT_X, POINT_Y : X,Y 좌표"
   ]
  },
  {
   "cell_type": "code",
   "execution_count": 5,
   "metadata": {},
   "outputs": [],
   "source": [
    "df=pd.concat([df1,df2,df3,df4])"
   ]
  },
  {
   "cell_type": "code",
   "execution_count": 6,
   "metadata": {},
   "outputs": [
    {
     "data": {
      "text/html": [
       "<div>\n",
       "<style scoped>\n",
       "    .dataframe tbody tr th:only-of-type {\n",
       "        vertical-align: middle;\n",
       "    }\n",
       "\n",
       "    .dataframe tbody tr th {\n",
       "        vertical-align: top;\n",
       "    }\n",
       "\n",
       "    .dataframe thead th {\n",
       "        text-align: right;\n",
       "    }\n",
       "</style>\n",
       "<table border=\"1\" class=\"dataframe\">\n",
       "  <thead>\n",
       "    <tr style=\"text-align: right;\">\n",
       "      <th></th>\n",
       "      <th>OBJECTID</th>\n",
       "      <th>Field1</th>\n",
       "      <th>YM</th>\n",
       "      <th>SIDO</th>\n",
       "      <th>SIGUNGU</th>\n",
       "      <th>FranClass</th>\n",
       "      <th>Type</th>\n",
       "      <th>Time</th>\n",
       "      <th>TotalSpent</th>\n",
       "      <th>DisSpent</th>\n",
       "      <th>NumofSpent</th>\n",
       "      <th>NumofDisSpent</th>\n",
       "      <th>POINT_X</th>\n",
       "      <th>POINT_Y</th>\n",
       "    </tr>\n",
       "  </thead>\n",
       "  <tbody>\n",
       "    <tr>\n",
       "      <th>0</th>\n",
       "      <td>1</td>\n",
       "      <td>1</td>\n",
       "      <td>202005</td>\n",
       "      <td>제주특별자치도</td>\n",
       "      <td>제주시</td>\n",
       "      <td>영세</td>\n",
       "      <td>일반한식</td>\n",
       "      <td>00시</td>\n",
       "      <td>363000</td>\n",
       "      <td>66500</td>\n",
       "      <td>10</td>\n",
       "      <td>2</td>\n",
       "      <td>877005.9834</td>\n",
       "      <td>1.479766e+06</td>\n",
       "    </tr>\n",
       "    <tr>\n",
       "      <th>1</th>\n",
       "      <td>2</td>\n",
       "      <td>2</td>\n",
       "      <td>202005</td>\n",
       "      <td>제주특별자치도</td>\n",
       "      <td>제주시</td>\n",
       "      <td>영세</td>\n",
       "      <td>단란주점</td>\n",
       "      <td>00시</td>\n",
       "      <td>1180000</td>\n",
       "      <td>0</td>\n",
       "      <td>3</td>\n",
       "      <td>0</td>\n",
       "      <td>877005.7447</td>\n",
       "      <td>1.479816e+06</td>\n",
       "    </tr>\n",
       "    <tr>\n",
       "      <th>2</th>\n",
       "      <td>3</td>\n",
       "      <td>3</td>\n",
       "      <td>202005</td>\n",
       "      <td>제주특별자치도</td>\n",
       "      <td>제주시</td>\n",
       "      <td>중소1</td>\n",
       "      <td>편의점</td>\n",
       "      <td>00시</td>\n",
       "      <td>157670</td>\n",
       "      <td>6850</td>\n",
       "      <td>20</td>\n",
       "      <td>2</td>\n",
       "      <td>877056.6756</td>\n",
       "      <td>1.479616e+06</td>\n",
       "    </tr>\n",
       "    <tr>\n",
       "      <th>3</th>\n",
       "      <td>4</td>\n",
       "      <td>4</td>\n",
       "      <td>202005</td>\n",
       "      <td>제주특별자치도</td>\n",
       "      <td>제주시</td>\n",
       "      <td>영세</td>\n",
       "      <td>편의점</td>\n",
       "      <td>00시</td>\n",
       "      <td>46600</td>\n",
       "      <td>0</td>\n",
       "      <td>2</td>\n",
       "      <td>0</td>\n",
       "      <td>877055.9593</td>\n",
       "      <td>1.479766e+06</td>\n",
       "    </tr>\n",
       "    <tr>\n",
       "      <th>4</th>\n",
       "      <td>5</td>\n",
       "      <td>5</td>\n",
       "      <td>202005</td>\n",
       "      <td>제주특별자치도</td>\n",
       "      <td>제주시</td>\n",
       "      <td>영세</td>\n",
       "      <td>주점</td>\n",
       "      <td>00시</td>\n",
       "      <td>66000</td>\n",
       "      <td>0</td>\n",
       "      <td>2</td>\n",
       "      <td>0</td>\n",
       "      <td>877055.4817</td>\n",
       "      <td>1.479866e+06</td>\n",
       "    </tr>\n",
       "  </tbody>\n",
       "</table>\n",
       "</div>"
      ],
      "text/plain": [
       "   OBJECTID  Field1      YM     SIDO SIGUNGU FranClass  Type Time  TotalSpent  \\\n",
       "0         1       1  202005  제주특별자치도     제주시        영세  일반한식  00시      363000   \n",
       "1         2       2  202005  제주특별자치도     제주시        영세  단란주점  00시     1180000   \n",
       "2         3       3  202005  제주특별자치도     제주시       중소1   편의점  00시      157670   \n",
       "3         4       4  202005  제주특별자치도     제주시        영세   편의점  00시       46600   \n",
       "4         5       5  202005  제주특별자치도     제주시        영세    주점  00시       66000   \n",
       "\n",
       "   DisSpent  NumofSpent  NumofDisSpent      POINT_X       POINT_Y  \n",
       "0     66500          10              2  877005.9834  1.479766e+06  \n",
       "1         0           3              0  877005.7447  1.479816e+06  \n",
       "2      6850          20              2  877056.6756  1.479616e+06  \n",
       "3         0           2              0  877055.9593  1.479766e+06  \n",
       "4         0           2              0  877055.4817  1.479866e+06  "
      ]
     },
     "execution_count": 6,
     "metadata": {},
     "output_type": "execute_result"
    }
   ],
   "source": [
    "df.head()"
   ]
  },
  {
   "cell_type": "markdown",
   "metadata": {},
   "source": [
    "꼴보기 싫은 영어는 바꿔주자.."
   ]
  },
  {
   "cell_type": "code",
   "execution_count": 7,
   "metadata": {},
   "outputs": [],
   "source": [
    "df.drop(['OBJECTID','Field1'],axis=1,inplace=True)\n",
    "df.columns = ['년월','지역대분류','지역중분류','소상공인구분','업종명','시간대','총사용금액','재난지원금 사용금액','총 이용건수','총 재난지원금 이용건수','X좌표','Y좌표']"
   ]
  },
  {
   "cell_type": "markdown",
   "metadata": {},
   "source": [
    "---"
   ]
  },
  {
   "cell_type": "markdown",
   "metadata": {},
   "source": [
    "# Simple EDA"
   ]
  },
  {
   "cell_type": "code",
   "execution_count": 8,
   "metadata": {},
   "outputs": [
    {
     "data": {
      "text/plain": [
       "년월              0\n",
       "지역대분류           0\n",
       "지역중분류           0\n",
       "소상공인구분          0\n",
       "업종명             0\n",
       "시간대             0\n",
       "총사용금액           0\n",
       "재난지원금 사용금액      0\n",
       "총 이용건수          0\n",
       "총 재난지원금 이용건수    0\n",
       "X좌표             0\n",
       "Y좌표             0\n",
       "dtype: int64"
      ]
     },
     "execution_count": 8,
     "metadata": {},
     "output_type": "execute_result"
    }
   ],
   "source": [
    "df.isna().sum()"
   ]
  },
  {
   "cell_type": "markdown",
   "metadata": {},
   "source": [
    "There is Not Noll."
   ]
  },
  {
   "cell_type": "code",
   "execution_count": 9,
   "metadata": {},
   "outputs": [
    {
     "data": {
      "text/plain": [
       "년월                int64\n",
       "지역대분류            object\n",
       "지역중분류            object\n",
       "소상공인구분           object\n",
       "업종명              object\n",
       "시간대              object\n",
       "총사용금액             int64\n",
       "재난지원금 사용금액        int64\n",
       "총 이용건수            int64\n",
       "총 재난지원금 이용건수      int64\n",
       "X좌표             float64\n",
       "Y좌표             float64\n",
       "dtype: object"
      ]
     },
     "execution_count": 9,
     "metadata": {},
     "output_type": "execute_result"
    }
   ],
   "source": [
    "df.dtypes"
   ]
  },
  {
   "cell_type": "code",
   "execution_count": 10,
   "metadata": {},
   "outputs": [
    {
     "name": "stdout",
     "output_type": "stream",
     "text": [
      "[202005 202006 202007 202008]\n",
      "['제주특별자치도']\n",
      "['제주시' '서귀포시']\n",
      "['영세' '중소1' '중소' '중소2' '일반']\n",
      "['일반한식' '단란주점' '편의점' '주점' '스넥' '서양음식' '일식회집' '기타음료식품' '노래방' '중국음식' '슈퍼마켓'\n",
      " '유흥주점' '기타숙박업' '기타레져업' '당구장' '농축수산품' '유아원' '골프경기장' '세탁소' '가방' '콘도' '주차장'\n",
      " '문화취미기타' '주유소' '사무서비스' '자동차정비' '특급호텔' '볼링장' '화장품' '기타회원제형태업소' '주류판매점'\n",
      " '제과점' '피부미용실' '약국' '칵테일바' '정육점' '독서실' '스포츠레져용품' '골프용품' 'LPG' '종합병원' '사우나'\n",
      " '화원' '의원' '안마스포츠마사지' '골프연습장' '2급호텔' '기타대인서비스' '보습학원' '부동산분양' '화물운송'\n",
      " '애완동물' '동물병원' '대형할인점' '인터넷Mall' '항공사' '헬스크럽' '기타유통업' '레져용품수리' '정장'\n",
      " '레져업소(회원제형태)' '관광여행' '1급호텔' '침구수예점' '사진관' '악세사리' '보관창고업' '기념품점' '미용원'\n",
      " '영화관' '의료용품' '세차장' '인터넷종합Mall' '기타잡화' '성인용품점' '상품권' '종합용역' '기계공구' '조세서비스'\n",
      " '택시' '기타의료기관및기기' '가례서비스' '구내매점' '수영장' '목재석재철물' '건축요업품' '기타업종' '렌트카'\n",
      " '종합레져타운' '유류판매' '농축협직영매장' '기타건축자재' '비료농약사료종자' '농기계' '보일러펌프' '가전제품'\n",
      " '스포츠의류' '페인트' '미곡상' '기타농업관련' '기타가구' '공공요금' '기능학원' '면세점' '기타교육' '위탁급식업'\n",
      " '이용원' '조명기구' '문구용품' '인테리어' '민예공예품' '기타연료' '자동차부품' '기타용역서비스' '기타운송' '연쇄점'\n",
      " '옷감직물' '한의원' '주방용식기' '카인테리어' '기타수리서비스' '농협하나로클럽' '기타건강식' '티켓' '기타전기제품'\n",
      " '일반서적' '외국어학원' '건강진단' '냉열기기' '소프트웨어' '내의판매점' '주방용구' '완구점' '유리' '자동차시트타이어'\n",
      " '카페트커텐천막' '기타교통수단' '테니스장' '치과의원' '신발' '기타의류' '컴퓨터' '병원' '가정용품수리' '단체복'\n",
      " '아동의류' '일반가구' '출판인쇄물' '치과병원' '서적출판(회원제형태)' '카메라' '정수기' 'CATV' '기타사무용'\n",
      " '학원(회원제형태)' '이륜차판매' '철제가구' '산후조리원' '견인서비스' '수족관' '양품점' '시계' '안경' '인삼제품'\n",
      " '홍삼제품' '한약방' '중장비수리' '캐쥬얼의류' '과학기자재' '윤활유전문판매' '부동산중개임대' '여객선' '통신기기'\n",
      " '귀금속' '건강식품(회원제형태)' '사무기기' '신변잡화수리' '미용재료' '예체능학원' '기타보험' '사무통신기기수리'\n",
      " '법률회계서비스' '맞춤복점' '전문서적' '화방표구점' '손해보험' '악기점' '기타자동차서비스' '정기간행물' '기타비영리유통'\n",
      " '화랑' '컴퓨터학원' '중고자동차' '제화점' '대학등록금' '기타서적문구' '학습지교육' '수입자동차' '기타직물'\n",
      " 'DVD음반테이프판매' '기타광학품' '제약회사' '초중고교육기관' '사무서비스(회원제형태)' '골동품점' '정보서비스']\n"
     ]
    }
   ],
   "source": [
    "for col in ['년월','지역대분류','지역중분류','소상공인구분','업종명']:\n",
    "    print(df[col].unique())"
   ]
  },
  {
   "cell_type": "markdown",
   "metadata": {},
   "source": [
    "1. 사실상 지역대분류는 필요 없을 것으로 판단된다.\n",
    "2. 중분류도 2개의 시로만 구성되어 있기때문에 지역 다양성을 줄만한 카테고리 변수가 필요할 것으로 판단된다.\n",
    "\n",
    "- 좌표로 동 정보를 가지고 올 수 있으면 좋을듯.\n",
    "- 일단 시별로 상품 트렌드가 어떻게 나뉘는지 비율로 쪼개서 분석해보면 좋을 듯."
   ]
  },
  {
   "cell_type": "markdown",
   "metadata": {},
   "source": [
    "---"
   ]
  }
 ],
 "metadata": {
  "kernelspec": {
   "display_name": "Python 3",
   "language": "python",
   "name": "python3"
  },
  "language_info": {
   "codemirror_mode": {
    "name": "ipython",
    "version": 3
   },
   "file_extension": ".py",
   "mimetype": "text/x-python",
   "name": "python",
   "nbconvert_exporter": "python",
   "pygments_lexer": "ipython3",
   "version": "3.8.3"
  }
 },
 "nbformat": 4,
 "nbformat_minor": 4
}
