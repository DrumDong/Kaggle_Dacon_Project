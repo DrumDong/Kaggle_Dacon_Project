{
  "nbformat": 4,
  "nbformat_minor": 0,
  "metadata": {
    "colab": {
      "name": "M5_02th.ipynb",
      "provenance": [],
      "collapsed_sections": [
        "f6Tehhf_hvwR"
      ],
      "machine_shape": "hm"
    },
    "kernelspec": {
      "name": "python3",
      "display_name": "Python 3"
    }
  },
  "cells": [
    {
      "cell_type": "code",
      "metadata": {
        "id": "YR97NMBpk-Ug",
        "colab_type": "code",
        "outputId": "a62cef3d-0dd5-4ad1-b8d5-17c692527388",
        "colab": {
          "base_uri": "https://localhost:8080/",
          "height": 52
        }
      },
      "source": [
        "import os\n",
        "import gc\n",
        "import time\n",
        "import math\n",
        "import datetime\n",
        "from math import log, floor\n",
        "from sklearn.neighbors import KDTree\n",
        "\n",
        "import numpy as np\n",
        "import pandas as pd\n",
        "from pathlib import Path\n",
        "from sklearn.utils import shuffle\n",
        "from tqdm.notebook import tqdm as tqdm\n",
        "\n",
        "import seaborn as sns\n",
        "from matplotlib import colors\n",
        "import matplotlib.pyplot as plt\n",
        "from matplotlib.colors import Normalize\n",
        "\n",
        "import plotly.express as px\n",
        "import plotly.graph_objects as go\n",
        "import plotly.figure_factory as ff\n",
        "from plotly.subplots import make_subplots\n",
        "\n",
        "import pywt\n",
        "from statsmodels.robust import mad\n",
        "\n",
        "import scipy\n",
        "import statsmodels\n",
        "from scipy import signal\n",
        "import statsmodels.api as sm\n",
        "from fbprophet import Prophet\n",
        "from scipy.signal import butter, deconvolve\n",
        "from statsmodels.tsa.arima_model import ARIMA\n",
        "from statsmodels.tsa.api import ExponentialSmoothing, SimpleExpSmoothing, Holt\n",
        "\n",
        "import warnings\n",
        "warnings.filterwarnings(\"ignore\")"
      ],
      "execution_count": 1,
      "outputs": [
        {
          "output_type": "stream",
          "text": [
            "/usr/local/lib/python3.6/dist-packages/statsmodels/tools/_testing.py:19: FutureWarning: pandas.util.testing is deprecated. Use the functions in the public API at pandas.testing instead.\n",
            "  import pandas.util.testing as tm\n"
          ],
          "name": "stderr"
        }
      ]
    },
    {
      "cell_type": "code",
      "metadata": {
        "id": "KQ63jZ0OljVj",
        "colab_type": "code",
        "colab": {}
      },
      "source": [
        "calendar = pd.read_csv('/content/drive/My Drive/Colab Notebooks/data/Kaggle_data/m5-forecasting-accuracy/calendar.csv')\n",
        "sales_train_val = pd.read_csv('/content/drive/My Drive/Colab Notebooks/data/Kaggle_data/m5-forecasting-accuracy/sales_train_validation.csv')\n",
        "sell_prices = pd.read_csv('/content/drive/My Drive/Colab Notebooks/data/Kaggle_data/m5-forecasting-accuracy/sell_prices.csv')\n",
        "#sales_train_evaluation = pd.read_csv('/content/drive/My Drive/Colab Notebooks/data/Kaggle_data/m5-forecasting-accuracy/sales_train_evaluation.csv')"
      ],
      "execution_count": 0,
      "outputs": []
    },
    {
      "cell_type": "markdown",
      "metadata": {
        "id": "T8Ah4MSdo1Md",
        "colab_type": "text"
      },
      "source": [
        "모르는 변수 정리\n",
        "- wm_yr_wk :The id of the week the date belongs to\n",
        "- wday : 요일을 숫자로 바꾼 것(1: 토, 2:일 ..)\n",
        "\n",
        "---"
      ]
    },
    {
      "cell_type": "markdown",
      "metadata": {
        "id": "P8H96y0Lc4yA",
        "colab_type": "text"
      },
      "source": [
        "## calendar"
      ]
    },
    {
      "cell_type": "code",
      "metadata": {
        "id": "ie8biVcZmYdc",
        "colab_type": "code",
        "outputId": "a0d2ba99-c21c-4342-d32f-61eecea76630",
        "colab": {
          "base_uri": "https://localhost:8080/",
          "height": 343
        }
      },
      "source": [
        "calendar.head(10)"
      ],
      "execution_count": 3,
      "outputs": [
        {
          "output_type": "execute_result",
          "data": {
            "text/html": [
              "<div>\n",
              "<style scoped>\n",
              "    .dataframe tbody tr th:only-of-type {\n",
              "        vertical-align: middle;\n",
              "    }\n",
              "\n",
              "    .dataframe tbody tr th {\n",
              "        vertical-align: top;\n",
              "    }\n",
              "\n",
              "    .dataframe thead th {\n",
              "        text-align: right;\n",
              "    }\n",
              "</style>\n",
              "<table border=\"1\" class=\"dataframe\">\n",
              "  <thead>\n",
              "    <tr style=\"text-align: right;\">\n",
              "      <th></th>\n",
              "      <th>date</th>\n",
              "      <th>wm_yr_wk</th>\n",
              "      <th>weekday</th>\n",
              "      <th>wday</th>\n",
              "      <th>month</th>\n",
              "      <th>year</th>\n",
              "      <th>d</th>\n",
              "      <th>event_name_1</th>\n",
              "      <th>event_type_1</th>\n",
              "      <th>event_name_2</th>\n",
              "      <th>event_type_2</th>\n",
              "      <th>snap_CA</th>\n",
              "      <th>snap_TX</th>\n",
              "      <th>snap_WI</th>\n",
              "    </tr>\n",
              "  </thead>\n",
              "  <tbody>\n",
              "    <tr>\n",
              "      <th>0</th>\n",
              "      <td>2011-01-29</td>\n",
              "      <td>11101</td>\n",
              "      <td>Saturday</td>\n",
              "      <td>1</td>\n",
              "      <td>1</td>\n",
              "      <td>2011</td>\n",
              "      <td>d_1</td>\n",
              "      <td>NaN</td>\n",
              "      <td>NaN</td>\n",
              "      <td>NaN</td>\n",
              "      <td>NaN</td>\n",
              "      <td>0</td>\n",
              "      <td>0</td>\n",
              "      <td>0</td>\n",
              "    </tr>\n",
              "    <tr>\n",
              "      <th>1</th>\n",
              "      <td>2011-01-30</td>\n",
              "      <td>11101</td>\n",
              "      <td>Sunday</td>\n",
              "      <td>2</td>\n",
              "      <td>1</td>\n",
              "      <td>2011</td>\n",
              "      <td>d_2</td>\n",
              "      <td>NaN</td>\n",
              "      <td>NaN</td>\n",
              "      <td>NaN</td>\n",
              "      <td>NaN</td>\n",
              "      <td>0</td>\n",
              "      <td>0</td>\n",
              "      <td>0</td>\n",
              "    </tr>\n",
              "    <tr>\n",
              "      <th>2</th>\n",
              "      <td>2011-01-31</td>\n",
              "      <td>11101</td>\n",
              "      <td>Monday</td>\n",
              "      <td>3</td>\n",
              "      <td>1</td>\n",
              "      <td>2011</td>\n",
              "      <td>d_3</td>\n",
              "      <td>NaN</td>\n",
              "      <td>NaN</td>\n",
              "      <td>NaN</td>\n",
              "      <td>NaN</td>\n",
              "      <td>0</td>\n",
              "      <td>0</td>\n",
              "      <td>0</td>\n",
              "    </tr>\n",
              "    <tr>\n",
              "      <th>3</th>\n",
              "      <td>2011-02-01</td>\n",
              "      <td>11101</td>\n",
              "      <td>Tuesday</td>\n",
              "      <td>4</td>\n",
              "      <td>2</td>\n",
              "      <td>2011</td>\n",
              "      <td>d_4</td>\n",
              "      <td>NaN</td>\n",
              "      <td>NaN</td>\n",
              "      <td>NaN</td>\n",
              "      <td>NaN</td>\n",
              "      <td>1</td>\n",
              "      <td>1</td>\n",
              "      <td>0</td>\n",
              "    </tr>\n",
              "    <tr>\n",
              "      <th>4</th>\n",
              "      <td>2011-02-02</td>\n",
              "      <td>11101</td>\n",
              "      <td>Wednesday</td>\n",
              "      <td>5</td>\n",
              "      <td>2</td>\n",
              "      <td>2011</td>\n",
              "      <td>d_5</td>\n",
              "      <td>NaN</td>\n",
              "      <td>NaN</td>\n",
              "      <td>NaN</td>\n",
              "      <td>NaN</td>\n",
              "      <td>1</td>\n",
              "      <td>0</td>\n",
              "      <td>1</td>\n",
              "    </tr>\n",
              "    <tr>\n",
              "      <th>5</th>\n",
              "      <td>2011-02-03</td>\n",
              "      <td>11101</td>\n",
              "      <td>Thursday</td>\n",
              "      <td>6</td>\n",
              "      <td>2</td>\n",
              "      <td>2011</td>\n",
              "      <td>d_6</td>\n",
              "      <td>NaN</td>\n",
              "      <td>NaN</td>\n",
              "      <td>NaN</td>\n",
              "      <td>NaN</td>\n",
              "      <td>1</td>\n",
              "      <td>1</td>\n",
              "      <td>1</td>\n",
              "    </tr>\n",
              "    <tr>\n",
              "      <th>6</th>\n",
              "      <td>2011-02-04</td>\n",
              "      <td>11101</td>\n",
              "      <td>Friday</td>\n",
              "      <td>7</td>\n",
              "      <td>2</td>\n",
              "      <td>2011</td>\n",
              "      <td>d_7</td>\n",
              "      <td>NaN</td>\n",
              "      <td>NaN</td>\n",
              "      <td>NaN</td>\n",
              "      <td>NaN</td>\n",
              "      <td>1</td>\n",
              "      <td>0</td>\n",
              "      <td>0</td>\n",
              "    </tr>\n",
              "    <tr>\n",
              "      <th>7</th>\n",
              "      <td>2011-02-05</td>\n",
              "      <td>11102</td>\n",
              "      <td>Saturday</td>\n",
              "      <td>1</td>\n",
              "      <td>2</td>\n",
              "      <td>2011</td>\n",
              "      <td>d_8</td>\n",
              "      <td>NaN</td>\n",
              "      <td>NaN</td>\n",
              "      <td>NaN</td>\n",
              "      <td>NaN</td>\n",
              "      <td>1</td>\n",
              "      <td>1</td>\n",
              "      <td>1</td>\n",
              "    </tr>\n",
              "    <tr>\n",
              "      <th>8</th>\n",
              "      <td>2011-02-06</td>\n",
              "      <td>11102</td>\n",
              "      <td>Sunday</td>\n",
              "      <td>2</td>\n",
              "      <td>2</td>\n",
              "      <td>2011</td>\n",
              "      <td>d_9</td>\n",
              "      <td>SuperBowl</td>\n",
              "      <td>Sporting</td>\n",
              "      <td>NaN</td>\n",
              "      <td>NaN</td>\n",
              "      <td>1</td>\n",
              "      <td>1</td>\n",
              "      <td>1</td>\n",
              "    </tr>\n",
              "    <tr>\n",
              "      <th>9</th>\n",
              "      <td>2011-02-07</td>\n",
              "      <td>11102</td>\n",
              "      <td>Monday</td>\n",
              "      <td>3</td>\n",
              "      <td>2</td>\n",
              "      <td>2011</td>\n",
              "      <td>d_10</td>\n",
              "      <td>NaN</td>\n",
              "      <td>NaN</td>\n",
              "      <td>NaN</td>\n",
              "      <td>NaN</td>\n",
              "      <td>1</td>\n",
              "      <td>1</td>\n",
              "      <td>0</td>\n",
              "    </tr>\n",
              "  </tbody>\n",
              "</table>\n",
              "</div>"
            ],
            "text/plain": [
              "         date  wm_yr_wk    weekday  ...  snap_CA  snap_TX  snap_WI\n",
              "0  2011-01-29     11101   Saturday  ...        0        0        0\n",
              "1  2011-01-30     11101     Sunday  ...        0        0        0\n",
              "2  2011-01-31     11101     Monday  ...        0        0        0\n",
              "3  2011-02-01     11101    Tuesday  ...        1        1        0\n",
              "4  2011-02-02     11101  Wednesday  ...        1        0        1\n",
              "5  2011-02-03     11101   Thursday  ...        1        1        1\n",
              "6  2011-02-04     11101     Friday  ...        1        0        0\n",
              "7  2011-02-05     11102   Saturday  ...        1        1        1\n",
              "8  2011-02-06     11102     Sunday  ...        1        1        1\n",
              "9  2011-02-07     11102     Monday  ...        1        1        0\n",
              "\n",
              "[10 rows x 14 columns]"
            ]
          },
          "metadata": {
            "tags": []
          },
          "execution_count": 3
        }
      ]
    },
    {
      "cell_type": "code",
      "metadata": {
        "id": "00SthiVLZZ4L",
        "colab_type": "code",
        "colab": {
          "base_uri": "https://localhost:8080/",
          "height": 52
        },
        "outputId": "3bda0461-60b2-43a6-a1d3-ec01aa1cd80a"
      },
      "source": [
        "print('calendar shape:',calendar.shape)\n",
        "print('마지막 날짜',calendar.loc[1968,'d'])"
      ],
      "execution_count": 4,
      "outputs": [
        {
          "output_type": "stream",
          "text": [
            "calendar shape: (1969, 14)\n",
            "마지막 날짜 d_1969\n"
          ],
          "name": "stdout"
        }
      ]
    },
    {
      "cell_type": "markdown",
      "metadata": {
        "id": "eI6TrN0caR1n",
        "colab_type": "text"
      },
      "source": [
        "calendar 데이터에는 Train_set의 첫번째 날짜 (d_1)부터 최종 Test_set의 마지막 날짜(d_1969)까지 모두 정의되어 있음"
      ]
    },
    {
      "cell_type": "code",
      "metadata": {
        "id": "7GbfGj_Fgz84",
        "colab_type": "code",
        "colab": {
          "base_uri": "https://localhost:8080/",
          "height": 52
        },
        "outputId": "41142065-c1a0-4c3e-ead2-2d0261eface1"
      },
      "source": [
        "event_type_list=list(set(list(calendar['event_type_1'].unique()) + list(calendar['event_type_2'].unique())))\n",
        "print(event_type_list)\n",
        "event_type_list = event_type_list[1:]\n",
        "print(event_type_list)"
      ],
      "execution_count": 5,
      "outputs": [
        {
          "output_type": "stream",
          "text": [
            "[nan, 'National', 'Cultural', 'Sporting', 'Religious']\n",
            "['National', 'Cultural', 'Sporting', 'Religious']\n"
          ],
          "name": "stdout"
        }
      ]
    },
    {
      "cell_type": "code",
      "metadata": {
        "id": "Ba7wGaeNhlG8",
        "colab_type": "code",
        "colab": {
          "base_uri": "https://localhost:8080/",
          "height": 72
        },
        "outputId": "e543af70-7d2e-431c-e1f7-09b83f3750a0"
      },
      "source": [
        "event_name_list= list(set(list(calendar['event_name_1'].unique()) + list(calendar['event_name_2'].unique())))\n",
        "print(event_name_list)\n",
        "event_name_list = event_name_list[1:]\n",
        "print(event_name_list)"
      ],
      "execution_count": 6,
      "outputs": [
        {
          "output_type": "stream",
          "text": [
            "[nan, 'LaborDay', 'Cinco De Mayo', 'SuperBowl', 'Eid al-Fitr', \"Mother's day\", \"Father's day\", 'Chanukah End', 'NewYear', 'NBAFinalsStart', 'StPatricksDay', 'Thanksgiving', 'OrthodoxChristmas', 'Easter', 'LentWeek2', 'Christmas', 'MartinLutherKingDay', 'PresidentsDay', 'Halloween', 'MemorialDay', 'Ramadan starts', 'EidAlAdha', 'LentStart', 'VeteransDay', 'Purim End', 'ValentinesDay', 'OrthodoxEaster', 'NBAFinalsEnd', 'ColumbusDay', 'Pesach End', 'IndependenceDay']\n",
            "['LaborDay', 'Cinco De Mayo', 'SuperBowl', 'Eid al-Fitr', \"Mother's day\", \"Father's day\", 'Chanukah End', 'NewYear', 'NBAFinalsStart', 'StPatricksDay', 'Thanksgiving', 'OrthodoxChristmas', 'Easter', 'LentWeek2', 'Christmas', 'MartinLutherKingDay', 'PresidentsDay', 'Halloween', 'MemorialDay', 'Ramadan starts', 'EidAlAdha', 'LentStart', 'VeteransDay', 'Purim End', 'ValentinesDay', 'OrthodoxEaster', 'NBAFinalsEnd', 'ColumbusDay', 'Pesach End', 'IndependenceDay']\n"
          ],
          "name": "stdout"
        }
      ]
    },
    {
      "cell_type": "code",
      "metadata": {
        "id": "hZtTRhJuUWqP",
        "colab_type": "code",
        "colab": {
          "base_uri": "https://localhost:8080/",
          "height": 47
        },
        "outputId": "b32ad959-4d54-4cf1-e159-597106703f02"
      },
      "source": [
        "calendar[calendar['event_type_1'] == calendar['event_type_2']]"
      ],
      "execution_count": 7,
      "outputs": [
        {
          "output_type": "execute_result",
          "data": {
            "text/html": [
              "<div>\n",
              "<style scoped>\n",
              "    .dataframe tbody tr th:only-of-type {\n",
              "        vertical-align: middle;\n",
              "    }\n",
              "\n",
              "    .dataframe tbody tr th {\n",
              "        vertical-align: top;\n",
              "    }\n",
              "\n",
              "    .dataframe thead th {\n",
              "        text-align: right;\n",
              "    }\n",
              "</style>\n",
              "<table border=\"1\" class=\"dataframe\">\n",
              "  <thead>\n",
              "    <tr style=\"text-align: right;\">\n",
              "      <th></th>\n",
              "      <th>date</th>\n",
              "      <th>wm_yr_wk</th>\n",
              "      <th>weekday</th>\n",
              "      <th>wday</th>\n",
              "      <th>month</th>\n",
              "      <th>year</th>\n",
              "      <th>d</th>\n",
              "      <th>event_name_1</th>\n",
              "      <th>event_type_1</th>\n",
              "      <th>event_name_2</th>\n",
              "      <th>event_type_2</th>\n",
              "      <th>snap_CA</th>\n",
              "      <th>snap_TX</th>\n",
              "      <th>snap_WI</th>\n",
              "    </tr>\n",
              "  </thead>\n",
              "  <tbody>\n",
              "  </tbody>\n",
              "</table>\n",
              "</div>"
            ],
            "text/plain": [
              "Empty DataFrame\n",
              "Columns: [date, wm_yr_wk, weekday, wday, month, year, d, event_name_1, event_type_1, event_name_2, event_type_2, snap_CA, snap_TX, snap_WI]\n",
              "Index: []"
            ]
          },
          "metadata": {
            "tags": []
          },
          "execution_count": 7
        }
      ]
    },
    {
      "cell_type": "markdown",
      "metadata": {
        "id": "pmodbDBgUXoq",
        "colab_type": "text"
      },
      "source": [
        "서로 type이 겹치는 날은 없는 것으로 보임."
      ]
    },
    {
      "cell_type": "markdown",
      "metadata": {
        "id": "vCRJFhRRgy8l",
        "colab_type": "text"
      },
      "source": [
        "---"
      ]
    },
    {
      "cell_type": "markdown",
      "metadata": {
        "id": "R9zLJlVIc7ep",
        "colab_type": "text"
      },
      "source": [
        "## sell_prices"
      ]
    },
    {
      "cell_type": "code",
      "metadata": {
        "id": "ypdiaemAg3J1",
        "colab_type": "code",
        "colab": {
          "base_uri": "https://localhost:8080/",
          "height": 34
        },
        "outputId": "1281cffb-7708-4c81-c9cf-e48aaa1a4228"
      },
      "source": [
        "sell_prices.shape"
      ],
      "execution_count": 8,
      "outputs": [
        {
          "output_type": "execute_result",
          "data": {
            "text/plain": [
              "(6841121, 4)"
            ]
          },
          "metadata": {
            "tags": []
          },
          "execution_count": 8
        }
      ]
    },
    {
      "cell_type": "code",
      "metadata": {
        "id": "5w9Tt31tc1q9",
        "colab_type": "code",
        "colab": {
          "base_uri": "https://localhost:8080/",
          "height": 195
        },
        "outputId": "f352b671-6969-4316-d1a0-d47c5f0114ea"
      },
      "source": [
        "sell_prices.head()"
      ],
      "execution_count": 9,
      "outputs": [
        {
          "output_type": "execute_result",
          "data": {
            "text/html": [
              "<div>\n",
              "<style scoped>\n",
              "    .dataframe tbody tr th:only-of-type {\n",
              "        vertical-align: middle;\n",
              "    }\n",
              "\n",
              "    .dataframe tbody tr th {\n",
              "        vertical-align: top;\n",
              "    }\n",
              "\n",
              "    .dataframe thead th {\n",
              "        text-align: right;\n",
              "    }\n",
              "</style>\n",
              "<table border=\"1\" class=\"dataframe\">\n",
              "  <thead>\n",
              "    <tr style=\"text-align: right;\">\n",
              "      <th></th>\n",
              "      <th>store_id</th>\n",
              "      <th>item_id</th>\n",
              "      <th>wm_yr_wk</th>\n",
              "      <th>sell_price</th>\n",
              "    </tr>\n",
              "  </thead>\n",
              "  <tbody>\n",
              "    <tr>\n",
              "      <th>0</th>\n",
              "      <td>CA_1</td>\n",
              "      <td>HOBBIES_1_001</td>\n",
              "      <td>11325</td>\n",
              "      <td>9.58</td>\n",
              "    </tr>\n",
              "    <tr>\n",
              "      <th>1</th>\n",
              "      <td>CA_1</td>\n",
              "      <td>HOBBIES_1_001</td>\n",
              "      <td>11326</td>\n",
              "      <td>9.58</td>\n",
              "    </tr>\n",
              "    <tr>\n",
              "      <th>2</th>\n",
              "      <td>CA_1</td>\n",
              "      <td>HOBBIES_1_001</td>\n",
              "      <td>11327</td>\n",
              "      <td>8.26</td>\n",
              "    </tr>\n",
              "    <tr>\n",
              "      <th>3</th>\n",
              "      <td>CA_1</td>\n",
              "      <td>HOBBIES_1_001</td>\n",
              "      <td>11328</td>\n",
              "      <td>8.26</td>\n",
              "    </tr>\n",
              "    <tr>\n",
              "      <th>4</th>\n",
              "      <td>CA_1</td>\n",
              "      <td>HOBBIES_1_001</td>\n",
              "      <td>11329</td>\n",
              "      <td>8.26</td>\n",
              "    </tr>\n",
              "  </tbody>\n",
              "</table>\n",
              "</div>"
            ],
            "text/plain": [
              "  store_id        item_id  wm_yr_wk  sell_price\n",
              "0     CA_1  HOBBIES_1_001     11325        9.58\n",
              "1     CA_1  HOBBIES_1_001     11326        9.58\n",
              "2     CA_1  HOBBIES_1_001     11327        8.26\n",
              "3     CA_1  HOBBIES_1_001     11328        8.26\n",
              "4     CA_1  HOBBIES_1_001     11329        8.26"
            ]
          },
          "metadata": {
            "tags": []
          },
          "execution_count": 9
        }
      ]
    },
    {
      "cell_type": "code",
      "metadata": {
        "id": "HG5eiWmYX6q9",
        "colab_type": "code",
        "colab": {
          "base_uri": "https://localhost:8080/",
          "height": 228
        },
        "outputId": "e151296b-9711-4b37-f178-7961fe74b8c9"
      },
      "source": [
        "print(sell_prices['wm_yr_wk'].value_counts())"
      ],
      "execution_count": 10,
      "outputs": [
        {
          "output_type": "stream",
          "text": [
            "11618    30490\n",
            "11614    30490\n",
            "11619    30490\n",
            "11605    30490\n",
            "11604    30490\n",
            "         ...  \n",
            "11105    13033\n",
            "11104    12799\n",
            "11103    12519\n",
            "11102    11975\n",
            "11101    10932\n",
            "Name: wm_yr_wk, Length: 282, dtype: int64\n"
          ],
          "name": "stdout"
        }
      ]
    },
    {
      "cell_type": "markdown",
      "metadata": {
        "id": "NyMuJt_CYxQ_",
        "colab_type": "text"
      },
      "source": [
        "sell_prices의 'wm_yr_wk' 변수의 개수가 다른 것으로 보아 각각의 주(week)마다 총 판매되는 상품의 개수가 다른 것으로 확인 됨."
      ]
    },
    {
      "cell_type": "code",
      "metadata": {
        "id": "bKezu77GdLVW",
        "colab_type": "code",
        "colab": {}
      },
      "source": [
        "sell_prices['id' ]= sell_prices['item_id']+'_'+sell_prices['store_id']\n",
        "sell_prices.drop(['store_id','item_id'],axis=1,inplace=True)"
      ],
      "execution_count": 0,
      "outputs": []
    },
    {
      "cell_type": "markdown",
      "metadata": {
        "id": "C6O964facsbf",
        "colab_type": "text"
      },
      "source": [
        "---"
      ]
    },
    {
      "cell_type": "markdown",
      "metadata": {
        "id": "O2YTza_Bc9wG",
        "colab_type": "text"
      },
      "source": [
        "## sales_train_val\n",
        "- 최종적으로 이 데이터로 시계열 프레임을 만든 다음에 예측을 해야함."
      ]
    },
    {
      "cell_type": "code",
      "metadata": {
        "id": "dQHPWW99dA6g",
        "colab_type": "code",
        "colab": {
          "base_uri": "https://localhost:8080/",
          "height": 244
        },
        "outputId": "6945e3ab-c278-4c13-99b4-9e5520629542"
      },
      "source": [
        "sales_train_val.head()"
      ],
      "execution_count": 12,
      "outputs": [
        {
          "output_type": "execute_result",
          "data": {
            "text/html": [
              "<div>\n",
              "<style scoped>\n",
              "    .dataframe tbody tr th:only-of-type {\n",
              "        vertical-align: middle;\n",
              "    }\n",
              "\n",
              "    .dataframe tbody tr th {\n",
              "        vertical-align: top;\n",
              "    }\n",
              "\n",
              "    .dataframe thead th {\n",
              "        text-align: right;\n",
              "    }\n",
              "</style>\n",
              "<table border=\"1\" class=\"dataframe\">\n",
              "  <thead>\n",
              "    <tr style=\"text-align: right;\">\n",
              "      <th></th>\n",
              "      <th>id</th>\n",
              "      <th>item_id</th>\n",
              "      <th>dept_id</th>\n",
              "      <th>cat_id</th>\n",
              "      <th>store_id</th>\n",
              "      <th>state_id</th>\n",
              "      <th>d_1</th>\n",
              "      <th>d_2</th>\n",
              "      <th>d_3</th>\n",
              "      <th>d_4</th>\n",
              "      <th>d_5</th>\n",
              "      <th>d_6</th>\n",
              "      <th>d_7</th>\n",
              "      <th>d_8</th>\n",
              "      <th>d_9</th>\n",
              "      <th>d_10</th>\n",
              "      <th>d_11</th>\n",
              "      <th>d_12</th>\n",
              "      <th>d_13</th>\n",
              "      <th>d_14</th>\n",
              "      <th>d_15</th>\n",
              "      <th>d_16</th>\n",
              "      <th>d_17</th>\n",
              "      <th>d_18</th>\n",
              "      <th>d_19</th>\n",
              "      <th>d_20</th>\n",
              "      <th>d_21</th>\n",
              "      <th>d_22</th>\n",
              "      <th>d_23</th>\n",
              "      <th>d_24</th>\n",
              "      <th>d_25</th>\n",
              "      <th>d_26</th>\n",
              "      <th>d_27</th>\n",
              "      <th>d_28</th>\n",
              "      <th>d_29</th>\n",
              "      <th>d_30</th>\n",
              "      <th>d_31</th>\n",
              "      <th>d_32</th>\n",
              "      <th>d_33</th>\n",
              "      <th>d_34</th>\n",
              "      <th>...</th>\n",
              "      <th>d_1874</th>\n",
              "      <th>d_1875</th>\n",
              "      <th>d_1876</th>\n",
              "      <th>d_1877</th>\n",
              "      <th>d_1878</th>\n",
              "      <th>d_1879</th>\n",
              "      <th>d_1880</th>\n",
              "      <th>d_1881</th>\n",
              "      <th>d_1882</th>\n",
              "      <th>d_1883</th>\n",
              "      <th>d_1884</th>\n",
              "      <th>d_1885</th>\n",
              "      <th>d_1886</th>\n",
              "      <th>d_1887</th>\n",
              "      <th>d_1888</th>\n",
              "      <th>d_1889</th>\n",
              "      <th>d_1890</th>\n",
              "      <th>d_1891</th>\n",
              "      <th>d_1892</th>\n",
              "      <th>d_1893</th>\n",
              "      <th>d_1894</th>\n",
              "      <th>d_1895</th>\n",
              "      <th>d_1896</th>\n",
              "      <th>d_1897</th>\n",
              "      <th>d_1898</th>\n",
              "      <th>d_1899</th>\n",
              "      <th>d_1900</th>\n",
              "      <th>d_1901</th>\n",
              "      <th>d_1902</th>\n",
              "      <th>d_1903</th>\n",
              "      <th>d_1904</th>\n",
              "      <th>d_1905</th>\n",
              "      <th>d_1906</th>\n",
              "      <th>d_1907</th>\n",
              "      <th>d_1908</th>\n",
              "      <th>d_1909</th>\n",
              "      <th>d_1910</th>\n",
              "      <th>d_1911</th>\n",
              "      <th>d_1912</th>\n",
              "      <th>d_1913</th>\n",
              "    </tr>\n",
              "  </thead>\n",
              "  <tbody>\n",
              "    <tr>\n",
              "      <th>0</th>\n",
              "      <td>HOBBIES_1_001_CA_1_validation</td>\n",
              "      <td>HOBBIES_1_001</td>\n",
              "      <td>HOBBIES_1</td>\n",
              "      <td>HOBBIES</td>\n",
              "      <td>CA_1</td>\n",
              "      <td>CA</td>\n",
              "      <td>0</td>\n",
              "      <td>0</td>\n",
              "      <td>0</td>\n",
              "      <td>0</td>\n",
              "      <td>0</td>\n",
              "      <td>0</td>\n",
              "      <td>0</td>\n",
              "      <td>0</td>\n",
              "      <td>0</td>\n",
              "      <td>0</td>\n",
              "      <td>0</td>\n",
              "      <td>0</td>\n",
              "      <td>0</td>\n",
              "      <td>0</td>\n",
              "      <td>0</td>\n",
              "      <td>0</td>\n",
              "      <td>0</td>\n",
              "      <td>0</td>\n",
              "      <td>0</td>\n",
              "      <td>0</td>\n",
              "      <td>0</td>\n",
              "      <td>0</td>\n",
              "      <td>0</td>\n",
              "      <td>0</td>\n",
              "      <td>0</td>\n",
              "      <td>0</td>\n",
              "      <td>0</td>\n",
              "      <td>0</td>\n",
              "      <td>0</td>\n",
              "      <td>0</td>\n",
              "      <td>0</td>\n",
              "      <td>0</td>\n",
              "      <td>0</td>\n",
              "      <td>0</td>\n",
              "      <td>...</td>\n",
              "      <td>1</td>\n",
              "      <td>1</td>\n",
              "      <td>3</td>\n",
              "      <td>1</td>\n",
              "      <td>3</td>\n",
              "      <td>1</td>\n",
              "      <td>2</td>\n",
              "      <td>2</td>\n",
              "      <td>0</td>\n",
              "      <td>1</td>\n",
              "      <td>1</td>\n",
              "      <td>1</td>\n",
              "      <td>1</td>\n",
              "      <td>0</td>\n",
              "      <td>0</td>\n",
              "      <td>0</td>\n",
              "      <td>0</td>\n",
              "      <td>0</td>\n",
              "      <td>1</td>\n",
              "      <td>0</td>\n",
              "      <td>4</td>\n",
              "      <td>2</td>\n",
              "      <td>3</td>\n",
              "      <td>0</td>\n",
              "      <td>1</td>\n",
              "      <td>2</td>\n",
              "      <td>0</td>\n",
              "      <td>0</td>\n",
              "      <td>0</td>\n",
              "      <td>1</td>\n",
              "      <td>1</td>\n",
              "      <td>3</td>\n",
              "      <td>0</td>\n",
              "      <td>1</td>\n",
              "      <td>1</td>\n",
              "      <td>1</td>\n",
              "      <td>3</td>\n",
              "      <td>0</td>\n",
              "      <td>1</td>\n",
              "      <td>1</td>\n",
              "    </tr>\n",
              "    <tr>\n",
              "      <th>1</th>\n",
              "      <td>HOBBIES_1_002_CA_1_validation</td>\n",
              "      <td>HOBBIES_1_002</td>\n",
              "      <td>HOBBIES_1</td>\n",
              "      <td>HOBBIES</td>\n",
              "      <td>CA_1</td>\n",
              "      <td>CA</td>\n",
              "      <td>0</td>\n",
              "      <td>0</td>\n",
              "      <td>0</td>\n",
              "      <td>0</td>\n",
              "      <td>0</td>\n",
              "      <td>0</td>\n",
              "      <td>0</td>\n",
              "      <td>0</td>\n",
              "      <td>0</td>\n",
              "      <td>0</td>\n",
              "      <td>0</td>\n",
              "      <td>0</td>\n",
              "      <td>0</td>\n",
              "      <td>0</td>\n",
              "      <td>0</td>\n",
              "      <td>0</td>\n",
              "      <td>0</td>\n",
              "      <td>0</td>\n",
              "      <td>0</td>\n",
              "      <td>0</td>\n",
              "      <td>0</td>\n",
              "      <td>0</td>\n",
              "      <td>0</td>\n",
              "      <td>0</td>\n",
              "      <td>0</td>\n",
              "      <td>0</td>\n",
              "      <td>0</td>\n",
              "      <td>0</td>\n",
              "      <td>0</td>\n",
              "      <td>0</td>\n",
              "      <td>0</td>\n",
              "      <td>0</td>\n",
              "      <td>0</td>\n",
              "      <td>0</td>\n",
              "      <td>...</td>\n",
              "      <td>0</td>\n",
              "      <td>0</td>\n",
              "      <td>0</td>\n",
              "      <td>0</td>\n",
              "      <td>0</td>\n",
              "      <td>0</td>\n",
              "      <td>0</td>\n",
              "      <td>0</td>\n",
              "      <td>1</td>\n",
              "      <td>1</td>\n",
              "      <td>1</td>\n",
              "      <td>1</td>\n",
              "      <td>1</td>\n",
              "      <td>0</td>\n",
              "      <td>0</td>\n",
              "      <td>0</td>\n",
              "      <td>0</td>\n",
              "      <td>0</td>\n",
              "      <td>0</td>\n",
              "      <td>0</td>\n",
              "      <td>0</td>\n",
              "      <td>0</td>\n",
              "      <td>0</td>\n",
              "      <td>0</td>\n",
              "      <td>0</td>\n",
              "      <td>0</td>\n",
              "      <td>0</td>\n",
              "      <td>0</td>\n",
              "      <td>0</td>\n",
              "      <td>0</td>\n",
              "      <td>0</td>\n",
              "      <td>0</td>\n",
              "      <td>0</td>\n",
              "      <td>0</td>\n",
              "      <td>0</td>\n",
              "      <td>1</td>\n",
              "      <td>0</td>\n",
              "      <td>0</td>\n",
              "      <td>0</td>\n",
              "      <td>0</td>\n",
              "    </tr>\n",
              "    <tr>\n",
              "      <th>2</th>\n",
              "      <td>HOBBIES_1_003_CA_1_validation</td>\n",
              "      <td>HOBBIES_1_003</td>\n",
              "      <td>HOBBIES_1</td>\n",
              "      <td>HOBBIES</td>\n",
              "      <td>CA_1</td>\n",
              "      <td>CA</td>\n",
              "      <td>0</td>\n",
              "      <td>0</td>\n",
              "      <td>0</td>\n",
              "      <td>0</td>\n",
              "      <td>0</td>\n",
              "      <td>0</td>\n",
              "      <td>0</td>\n",
              "      <td>0</td>\n",
              "      <td>0</td>\n",
              "      <td>0</td>\n",
              "      <td>0</td>\n",
              "      <td>0</td>\n",
              "      <td>0</td>\n",
              "      <td>0</td>\n",
              "      <td>0</td>\n",
              "      <td>0</td>\n",
              "      <td>0</td>\n",
              "      <td>0</td>\n",
              "      <td>0</td>\n",
              "      <td>0</td>\n",
              "      <td>0</td>\n",
              "      <td>0</td>\n",
              "      <td>0</td>\n",
              "      <td>0</td>\n",
              "      <td>0</td>\n",
              "      <td>0</td>\n",
              "      <td>0</td>\n",
              "      <td>0</td>\n",
              "      <td>0</td>\n",
              "      <td>0</td>\n",
              "      <td>0</td>\n",
              "      <td>0</td>\n",
              "      <td>0</td>\n",
              "      <td>0</td>\n",
              "      <td>...</td>\n",
              "      <td>0</td>\n",
              "      <td>0</td>\n",
              "      <td>1</td>\n",
              "      <td>0</td>\n",
              "      <td>0</td>\n",
              "      <td>0</td>\n",
              "      <td>0</td>\n",
              "      <td>0</td>\n",
              "      <td>0</td>\n",
              "      <td>1</td>\n",
              "      <td>1</td>\n",
              "      <td>0</td>\n",
              "      <td>0</td>\n",
              "      <td>0</td>\n",
              "      <td>0</td>\n",
              "      <td>0</td>\n",
              "      <td>0</td>\n",
              "      <td>0</td>\n",
              "      <td>1</td>\n",
              "      <td>0</td>\n",
              "      <td>0</td>\n",
              "      <td>0</td>\n",
              "      <td>1</td>\n",
              "      <td>0</td>\n",
              "      <td>0</td>\n",
              "      <td>0</td>\n",
              "      <td>0</td>\n",
              "      <td>0</td>\n",
              "      <td>1</td>\n",
              "      <td>2</td>\n",
              "      <td>2</td>\n",
              "      <td>1</td>\n",
              "      <td>2</td>\n",
              "      <td>1</td>\n",
              "      <td>1</td>\n",
              "      <td>1</td>\n",
              "      <td>0</td>\n",
              "      <td>1</td>\n",
              "      <td>1</td>\n",
              "      <td>1</td>\n",
              "    </tr>\n",
              "    <tr>\n",
              "      <th>3</th>\n",
              "      <td>HOBBIES_1_004_CA_1_validation</td>\n",
              "      <td>HOBBIES_1_004</td>\n",
              "      <td>HOBBIES_1</td>\n",
              "      <td>HOBBIES</td>\n",
              "      <td>CA_1</td>\n",
              "      <td>CA</td>\n",
              "      <td>0</td>\n",
              "      <td>0</td>\n",
              "      <td>0</td>\n",
              "      <td>0</td>\n",
              "      <td>0</td>\n",
              "      <td>0</td>\n",
              "      <td>0</td>\n",
              "      <td>0</td>\n",
              "      <td>0</td>\n",
              "      <td>0</td>\n",
              "      <td>0</td>\n",
              "      <td>0</td>\n",
              "      <td>0</td>\n",
              "      <td>0</td>\n",
              "      <td>0</td>\n",
              "      <td>0</td>\n",
              "      <td>0</td>\n",
              "      <td>0</td>\n",
              "      <td>0</td>\n",
              "      <td>0</td>\n",
              "      <td>0</td>\n",
              "      <td>0</td>\n",
              "      <td>0</td>\n",
              "      <td>0</td>\n",
              "      <td>0</td>\n",
              "      <td>0</td>\n",
              "      <td>0</td>\n",
              "      <td>0</td>\n",
              "      <td>0</td>\n",
              "      <td>0</td>\n",
              "      <td>0</td>\n",
              "      <td>0</td>\n",
              "      <td>0</td>\n",
              "      <td>0</td>\n",
              "      <td>...</td>\n",
              "      <td>1</td>\n",
              "      <td>3</td>\n",
              "      <td>4</td>\n",
              "      <td>2</td>\n",
              "      <td>1</td>\n",
              "      <td>4</td>\n",
              "      <td>1</td>\n",
              "      <td>3</td>\n",
              "      <td>5</td>\n",
              "      <td>0</td>\n",
              "      <td>6</td>\n",
              "      <td>6</td>\n",
              "      <td>0</td>\n",
              "      <td>0</td>\n",
              "      <td>0</td>\n",
              "      <td>0</td>\n",
              "      <td>3</td>\n",
              "      <td>1</td>\n",
              "      <td>2</td>\n",
              "      <td>1</td>\n",
              "      <td>3</td>\n",
              "      <td>1</td>\n",
              "      <td>0</td>\n",
              "      <td>2</td>\n",
              "      <td>5</td>\n",
              "      <td>4</td>\n",
              "      <td>2</td>\n",
              "      <td>0</td>\n",
              "      <td>3</td>\n",
              "      <td>0</td>\n",
              "      <td>1</td>\n",
              "      <td>0</td>\n",
              "      <td>5</td>\n",
              "      <td>4</td>\n",
              "      <td>1</td>\n",
              "      <td>0</td>\n",
              "      <td>1</td>\n",
              "      <td>3</td>\n",
              "      <td>7</td>\n",
              "      <td>2</td>\n",
              "    </tr>\n",
              "    <tr>\n",
              "      <th>4</th>\n",
              "      <td>HOBBIES_1_005_CA_1_validation</td>\n",
              "      <td>HOBBIES_1_005</td>\n",
              "      <td>HOBBIES_1</td>\n",
              "      <td>HOBBIES</td>\n",
              "      <td>CA_1</td>\n",
              "      <td>CA</td>\n",
              "      <td>0</td>\n",
              "      <td>0</td>\n",
              "      <td>0</td>\n",
              "      <td>0</td>\n",
              "      <td>0</td>\n",
              "      <td>0</td>\n",
              "      <td>0</td>\n",
              "      <td>0</td>\n",
              "      <td>0</td>\n",
              "      <td>0</td>\n",
              "      <td>0</td>\n",
              "      <td>0</td>\n",
              "      <td>0</td>\n",
              "      <td>0</td>\n",
              "      <td>0</td>\n",
              "      <td>0</td>\n",
              "      <td>0</td>\n",
              "      <td>0</td>\n",
              "      <td>0</td>\n",
              "      <td>0</td>\n",
              "      <td>0</td>\n",
              "      <td>0</td>\n",
              "      <td>0</td>\n",
              "      <td>0</td>\n",
              "      <td>0</td>\n",
              "      <td>0</td>\n",
              "      <td>0</td>\n",
              "      <td>0</td>\n",
              "      <td>0</td>\n",
              "      <td>0</td>\n",
              "      <td>0</td>\n",
              "      <td>0</td>\n",
              "      <td>0</td>\n",
              "      <td>0</td>\n",
              "      <td>...</td>\n",
              "      <td>1</td>\n",
              "      <td>0</td>\n",
              "      <td>3</td>\n",
              "      <td>2</td>\n",
              "      <td>2</td>\n",
              "      <td>2</td>\n",
              "      <td>3</td>\n",
              "      <td>1</td>\n",
              "      <td>0</td>\n",
              "      <td>0</td>\n",
              "      <td>0</td>\n",
              "      <td>0</td>\n",
              "      <td>1</td>\n",
              "      <td>0</td>\n",
              "      <td>4</td>\n",
              "      <td>4</td>\n",
              "      <td>0</td>\n",
              "      <td>1</td>\n",
              "      <td>4</td>\n",
              "      <td>0</td>\n",
              "      <td>1</td>\n",
              "      <td>0</td>\n",
              "      <td>1</td>\n",
              "      <td>0</td>\n",
              "      <td>1</td>\n",
              "      <td>1</td>\n",
              "      <td>2</td>\n",
              "      <td>0</td>\n",
              "      <td>1</td>\n",
              "      <td>1</td>\n",
              "      <td>2</td>\n",
              "      <td>1</td>\n",
              "      <td>1</td>\n",
              "      <td>0</td>\n",
              "      <td>1</td>\n",
              "      <td>1</td>\n",
              "      <td>2</td>\n",
              "      <td>2</td>\n",
              "      <td>2</td>\n",
              "      <td>4</td>\n",
              "    </tr>\n",
              "  </tbody>\n",
              "</table>\n",
              "<p>5 rows × 1919 columns</p>\n",
              "</div>"
            ],
            "text/plain": [
              "                              id        item_id  ... d_1912 d_1913\n",
              "0  HOBBIES_1_001_CA_1_validation  HOBBIES_1_001  ...      1      1\n",
              "1  HOBBIES_1_002_CA_1_validation  HOBBIES_1_002  ...      0      0\n",
              "2  HOBBIES_1_003_CA_1_validation  HOBBIES_1_003  ...      1      1\n",
              "3  HOBBIES_1_004_CA_1_validation  HOBBIES_1_004  ...      7      2\n",
              "4  HOBBIES_1_005_CA_1_validation  HOBBIES_1_005  ...      2      4\n",
              "\n",
              "[5 rows x 1919 columns]"
            ]
          },
          "metadata": {
            "tags": []
          },
          "execution_count": 12
        }
      ]
    },
    {
      "cell_type": "code",
      "metadata": {
        "id": "UmKmzaUt2chT",
        "colab_type": "code",
        "colab": {
          "base_uri": "https://localhost:8080/",
          "height": 52
        },
        "outputId": "faf6c917-37ea-4dbd-846f-a373c82d3871"
      },
      "source": [
        "sales_train_val['store_id'].unique()"
      ],
      "execution_count": 13,
      "outputs": [
        {
          "output_type": "execute_result",
          "data": {
            "text/plain": [
              "array(['CA_1', 'CA_2', 'CA_3', 'CA_4', 'TX_1', 'TX_2', 'TX_3', 'WI_1',\n",
              "       'WI_2', 'WI_3'], dtype=object)"
            ]
          },
          "metadata": {
            "tags": []
          },
          "execution_count": 13
        }
      ]
    },
    {
      "cell_type": "code",
      "metadata": {
        "id": "WdMdyS872e7W",
        "colab_type": "code",
        "colab": {
          "base_uri": "https://localhost:8080/",
          "height": 34
        },
        "outputId": "eb0776c3-1024-4abf-ed79-5e7d4aa3937e"
      },
      "source": [
        "sales_train_val['item_id'].unique().shape"
      ],
      "execution_count": 14,
      "outputs": [
        {
          "output_type": "execute_result",
          "data": {
            "text/plain": [
              "(3049,)"
            ]
          },
          "metadata": {
            "tags": []
          },
          "execution_count": 14
        }
      ]
    },
    {
      "cell_type": "markdown",
      "metadata": {
        "id": "MZ5wi4a82l6k",
        "colab_type": "text"
      },
      "source": [
        "3049개의 품목 10개의 상점\n",
        "- 3049 X 10 = 30490"
      ]
    },
    {
      "cell_type": "code",
      "metadata": {
        "id": "UsqBlYh42zU8",
        "colab_type": "code",
        "colab": {
          "base_uri": "https://localhost:8080/",
          "height": 52
        },
        "outputId": "b4e24eb8-5446-4ef5-8791-844fc60d12b3"
      },
      "source": [
        "sales_train_val['dept_id'].unique()"
      ],
      "execution_count": 15,
      "outputs": [
        {
          "output_type": "execute_result",
          "data": {
            "text/plain": [
              "array(['HOBBIES_1', 'HOBBIES_2', 'HOUSEHOLD_1', 'HOUSEHOLD_2', 'FOODS_1',\n",
              "       'FOODS_2', 'FOODS_3'], dtype=object)"
            ]
          },
          "metadata": {
            "tags": []
          },
          "execution_count": 15
        }
      ]
    },
    {
      "cell_type": "markdown",
      "metadata": {
        "id": "a4XvrRGrjBwn",
        "colab_type": "text"
      },
      "source": [
        "# EDA"
      ]
    },
    {
      "cell_type": "markdown",
      "metadata": {
        "id": "f6Tehhf_hvwR",
        "colab_type": "text"
      },
      "source": [
        "## calendar, sell_prcies merge\n",
        "- Ram 과부화로 안하는 것이 좋을 것 같음."
      ]
    },
    {
      "cell_type": "code",
      "metadata": {
        "id": "-WujCCTShzMl",
        "colab_type": "code",
        "colab": {}
      },
      "source": [
        "# merge_1=sell_prices.merge(calendar,on='wm_yr_wk')\n",
        "# merge_1.head()"
      ],
      "execution_count": 0,
      "outputs": []
    },
    {
      "cell_type": "code",
      "metadata": {
        "id": "kCq2bUlpjI10",
        "colab_type": "code",
        "colab": {}
      },
      "source": [
        "# merge_1.shape"
      ],
      "execution_count": 0,
      "outputs": []
    },
    {
      "cell_type": "code",
      "metadata": {
        "id": "mB-fBy2drnHB",
        "colab_type": "code",
        "colab": {}
      },
      "source": [
        "# merge_1['days']=merge_1['d'].apply(lambda x: int(x[2:]))"
      ],
      "execution_count": 0,
      "outputs": []
    },
    {
      "cell_type": "code",
      "metadata": {
        "id": "G6h-VC5jsheq",
        "colab_type": "code",
        "colab": {}
      },
      "source": [
        "# merge_1.sort_values('days',inplace=True)"
      ],
      "execution_count": 0,
      "outputs": []
    },
    {
      "cell_type": "code",
      "metadata": {
        "id": "fADcttQYn6fU",
        "colab_type": "code",
        "colab": {}
      },
      "source": [
        "# merge_1['id'] = merge_1['item_id']+ '_' + merge_1['store_id']\n",
        "# merge_1.drop(['store_id','item_id'],axis=1,inplace=True)\n",
        "# merge_1.head()"
      ],
      "execution_count": 0,
      "outputs": []
    },
    {
      "cell_type": "code",
      "metadata": {
        "id": "_KPFWaSHo5cf",
        "colab_type": "code",
        "colab": {}
      },
      "source": [
        "# del sell_prices\n",
        "# del calendar\n",
        "# gc.collect()"
      ],
      "execution_count": 0,
      "outputs": []
    },
    {
      "cell_type": "code",
      "metadata": {
        "id": "RBwBqiknwevf",
        "colab_type": "code",
        "colab": {}
      },
      "source": [
        "# merge_1.shape[0]"
      ],
      "execution_count": 0,
      "outputs": []
    },
    {
      "cell_type": "code",
      "metadata": {
        "id": "V0nDJAxUudYv",
        "colab_type": "code",
        "colab": {}
      },
      "source": [
        "# print(sales_train_val.drop(['id','item_id','dept_id','cat_id','store_id','state_id'],axis=1).shape)\n",
        "# 30490*1913"
      ],
      "execution_count": 0,
      "outputs": []
    },
    {
      "cell_type": "markdown",
      "metadata": {
        "id": "dmiW3oBPu7Yg",
        "colab_type": "text"
      },
      "source": [
        "sales_train_val 데이터와 merge_1 데이터와 개수가 맞지 않다. 특정날짜(특정 주 week)에 아예 존재하지 않는 sale_prices가 있는 것 같다.\n",
        "- train 데이터를 변형시켜서 결합시켜야 할 것 같음.\n",
        "- 하지만 merge데이터를 변형된 train에 붙일 수는 있을 것 같음."
      ]
    },
    {
      "cell_type": "markdown",
      "metadata": {
        "id": "nyONXGrr3ciR",
        "colab_type": "text"
      },
      "source": [
        "---"
      ]
    },
    {
      "cell_type": "markdown",
      "metadata": {
        "id": "QOu7QmBOx1Lk",
        "colab_type": "text"
      },
      "source": [
        "## To  change sales_train_val for modeling"
      ]
    },
    {
      "cell_type": "code",
      "metadata": {
        "id": "Xk5ZtfW-e3Rj",
        "colab_type": "code",
        "colab": {
          "base_uri": "https://localhost:8080/",
          "height": 195
        },
        "outputId": "071bee2f-a021-4ad1-ebdb-7b1ea9c06a62"
      },
      "source": [
        "sales_data=sales_train_val.iloc[:,6:]\n",
        "sales_data['id'] = sales_train_val['id']\n",
        "\n",
        "del sales_train_val\n",
        "gc.collect()\n",
        "\n",
        "sales_data = sales_data.melt(id_vars='id')\n",
        "sales_data.id.replace(regex='_validation',value='',inplace=True)\n",
        "sales_data.rename({'variable':'d'},axis=1,inplace=True)\n",
        "\n",
        "sales_data['d'].replace(regex ='d_',value='',inplace=True)\n",
        "sales_data['d'] = sales_data['d'].astype('int16')\n",
        "calendar['d'].replace(regex ='d_',value='',inplace=True)\n",
        "calendar['d'] = calendar['d'].astype('int16')\n",
        "\n",
        "sales_data = sales_data.merge(calendar[['d','wm_yr_wk']],on='d')\n",
        "\n",
        "sales_data = sales_data.merge(sell_prices[['id','wm_yr_wk','sell_price']],on=['id','wm_yr_wk'],how='left')\n",
        "\n",
        "# sales_data['state'] = sales_data.id.apply(lambda x: x[-4:-2])\n",
        "# sales_data['market'] = sales_data.id.apply(lambda x: x[-4:])\n",
        "\n",
        "sales_data.head()"
      ],
      "execution_count": 24,
      "outputs": [
        {
          "output_type": "execute_result",
          "data": {
            "text/html": [
              "<div>\n",
              "<style scoped>\n",
              "    .dataframe tbody tr th:only-of-type {\n",
              "        vertical-align: middle;\n",
              "    }\n",
              "\n",
              "    .dataframe tbody tr th {\n",
              "        vertical-align: top;\n",
              "    }\n",
              "\n",
              "    .dataframe thead th {\n",
              "        text-align: right;\n",
              "    }\n",
              "</style>\n",
              "<table border=\"1\" class=\"dataframe\">\n",
              "  <thead>\n",
              "    <tr style=\"text-align: right;\">\n",
              "      <th></th>\n",
              "      <th>id</th>\n",
              "      <th>d</th>\n",
              "      <th>value</th>\n",
              "      <th>wm_yr_wk</th>\n",
              "      <th>sell_price</th>\n",
              "    </tr>\n",
              "  </thead>\n",
              "  <tbody>\n",
              "    <tr>\n",
              "      <th>0</th>\n",
              "      <td>HOBBIES_1_001_CA_1</td>\n",
              "      <td>1</td>\n",
              "      <td>0</td>\n",
              "      <td>11101</td>\n",
              "      <td>NaN</td>\n",
              "    </tr>\n",
              "    <tr>\n",
              "      <th>1</th>\n",
              "      <td>HOBBIES_1_002_CA_1</td>\n",
              "      <td>1</td>\n",
              "      <td>0</td>\n",
              "      <td>11101</td>\n",
              "      <td>NaN</td>\n",
              "    </tr>\n",
              "    <tr>\n",
              "      <th>2</th>\n",
              "      <td>HOBBIES_1_003_CA_1</td>\n",
              "      <td>1</td>\n",
              "      <td>0</td>\n",
              "      <td>11101</td>\n",
              "      <td>NaN</td>\n",
              "    </tr>\n",
              "    <tr>\n",
              "      <th>3</th>\n",
              "      <td>HOBBIES_1_004_CA_1</td>\n",
              "      <td>1</td>\n",
              "      <td>0</td>\n",
              "      <td>11101</td>\n",
              "      <td>NaN</td>\n",
              "    </tr>\n",
              "    <tr>\n",
              "      <th>4</th>\n",
              "      <td>HOBBIES_1_005_CA_1</td>\n",
              "      <td>1</td>\n",
              "      <td>0</td>\n",
              "      <td>11101</td>\n",
              "      <td>NaN</td>\n",
              "    </tr>\n",
              "  </tbody>\n",
              "</table>\n",
              "</div>"
            ],
            "text/plain": [
              "                   id  d  value  wm_yr_wk  sell_price\n",
              "0  HOBBIES_1_001_CA_1  1      0     11101         NaN\n",
              "1  HOBBIES_1_002_CA_1  1      0     11101         NaN\n",
              "2  HOBBIES_1_003_CA_1  1      0     11101         NaN\n",
              "3  HOBBIES_1_004_CA_1  1      0     11101         NaN\n",
              "4  HOBBIES_1_005_CA_1  1      0     11101         NaN"
            ]
          },
          "metadata": {
            "tags": []
          },
          "execution_count": 24
        }
      ]
    },
    {
      "cell_type": "markdown",
      "metadata": {
        "id": "rvnBoJRIJkxw",
        "colab_type": "text"
      },
      "source": [
        "calendar 데이터의 evenet_name과 event_type 데이터를 원핫 인코딩 형식으로 sales_data에 삽입해보자."
      ]
    },
    {
      "cell_type": "code",
      "metadata": {
        "id": "B98Uc1xwV-B8",
        "colab_type": "code",
        "colab": {}
      },
      "source": [
        "def make_onehot_type_col(col):\n",
        "  sales_data[col] = 0\n",
        "  for day in calendar.loc[(calendar['event_type_1'] == col)|(calendar['event_type_2'] == col),'d'].values:\n",
        "    sales_data.loc[sales_data['d']==day, col] +=1\n",
        "\n",
        "def make_onehot_name_col(col):\n",
        "  sales_data[col] = 0\n",
        "  for day in calendar.loc[(calendar['event_name_1'] == col)|(calendar['event_name_2'] == col),'d'].values:\n",
        "    sales_data.loc[sales_data['d']==day, col] +=1"
      ],
      "execution_count": 0,
      "outputs": []
    },
    {
      "cell_type": "code",
      "metadata": {
        "id": "OsxSBTUtWe7q",
        "colab_type": "code",
        "colab": {}
      },
      "source": [
        "for col in event_type_list:\n",
        "  make_onehot_type_col(col)"
      ],
      "execution_count": 0,
      "outputs": []
    },
    {
      "cell_type": "code",
      "metadata": {
        "id": "gxxCBjzVhFwz",
        "colab_type": "code",
        "colab": {}
      },
      "source": [
        "sales_data.to_csv('/content/drive/My Drive/Colab Notebooks/data/Kaggle_data/m5-forecasting-accuracy/sales_data.csv')"
      ],
      "execution_count": 0,
      "outputs": []
    },
    {
      "cell_type": "code",
      "metadata": {
        "id": "2RZWMoL2lyo8",
        "colab_type": "code",
        "colab": {
          "base_uri": "https://localhost:8080/",
          "height": 195
        },
        "outputId": "150f64b9-88bf-40c1-af1d-c49418de3082"
      },
      "source": [
        "sales_data.head()"
      ],
      "execution_count": 29,
      "outputs": [
        {
          "output_type": "execute_result",
          "data": {
            "text/html": [
              "<div>\n",
              "<style scoped>\n",
              "    .dataframe tbody tr th:only-of-type {\n",
              "        vertical-align: middle;\n",
              "    }\n",
              "\n",
              "    .dataframe tbody tr th {\n",
              "        vertical-align: top;\n",
              "    }\n",
              "\n",
              "    .dataframe thead th {\n",
              "        text-align: right;\n",
              "    }\n",
              "</style>\n",
              "<table border=\"1\" class=\"dataframe\">\n",
              "  <thead>\n",
              "    <tr style=\"text-align: right;\">\n",
              "      <th></th>\n",
              "      <th>id</th>\n",
              "      <th>d</th>\n",
              "      <th>value</th>\n",
              "      <th>wm_yr_wk</th>\n",
              "      <th>sell_price</th>\n",
              "      <th>National</th>\n",
              "      <th>Cultural</th>\n",
              "      <th>Sporting</th>\n",
              "      <th>Religious</th>\n",
              "    </tr>\n",
              "  </thead>\n",
              "  <tbody>\n",
              "    <tr>\n",
              "      <th>0</th>\n",
              "      <td>HOBBIES_1_001_CA_1</td>\n",
              "      <td>1</td>\n",
              "      <td>0</td>\n",
              "      <td>11101</td>\n",
              "      <td>NaN</td>\n",
              "      <td>0</td>\n",
              "      <td>0</td>\n",
              "      <td>0</td>\n",
              "      <td>0</td>\n",
              "    </tr>\n",
              "    <tr>\n",
              "      <th>1</th>\n",
              "      <td>HOBBIES_1_002_CA_1</td>\n",
              "      <td>1</td>\n",
              "      <td>0</td>\n",
              "      <td>11101</td>\n",
              "      <td>NaN</td>\n",
              "      <td>0</td>\n",
              "      <td>0</td>\n",
              "      <td>0</td>\n",
              "      <td>0</td>\n",
              "    </tr>\n",
              "    <tr>\n",
              "      <th>2</th>\n",
              "      <td>HOBBIES_1_003_CA_1</td>\n",
              "      <td>1</td>\n",
              "      <td>0</td>\n",
              "      <td>11101</td>\n",
              "      <td>NaN</td>\n",
              "      <td>0</td>\n",
              "      <td>0</td>\n",
              "      <td>0</td>\n",
              "      <td>0</td>\n",
              "    </tr>\n",
              "    <tr>\n",
              "      <th>3</th>\n",
              "      <td>HOBBIES_1_004_CA_1</td>\n",
              "      <td>1</td>\n",
              "      <td>0</td>\n",
              "      <td>11101</td>\n",
              "      <td>NaN</td>\n",
              "      <td>0</td>\n",
              "      <td>0</td>\n",
              "      <td>0</td>\n",
              "      <td>0</td>\n",
              "    </tr>\n",
              "    <tr>\n",
              "      <th>4</th>\n",
              "      <td>HOBBIES_1_005_CA_1</td>\n",
              "      <td>1</td>\n",
              "      <td>0</td>\n",
              "      <td>11101</td>\n",
              "      <td>NaN</td>\n",
              "      <td>0</td>\n",
              "      <td>0</td>\n",
              "      <td>0</td>\n",
              "      <td>0</td>\n",
              "    </tr>\n",
              "  </tbody>\n",
              "</table>\n",
              "</div>"
            ],
            "text/plain": [
              "                   id  d  value  ...  Cultural  Sporting  Religious\n",
              "0  HOBBIES_1_001_CA_1  1      0  ...         0         0          0\n",
              "1  HOBBIES_1_002_CA_1  1      0  ...         0         0          0\n",
              "2  HOBBIES_1_003_CA_1  1      0  ...         0         0          0\n",
              "3  HOBBIES_1_004_CA_1  1      0  ...         0         0          0\n",
              "4  HOBBIES_1_005_CA_1  1      0  ...         0         0          0\n",
              "\n",
              "[5 rows x 9 columns]"
            ]
          },
          "metadata": {
            "tags": []
          },
          "execution_count": 29
        }
      ]
    },
    {
      "cell_type": "code",
      "metadata": {
        "id": "TAR3Wo0Trn1E",
        "colab_type": "code",
        "colab": {}
      },
      "source": [
        "for col in event_name_list:\n",
        "  make_onehot_name_col(col)"
      ],
      "execution_count": 0,
      "outputs": []
    },
    {
      "cell_type": "markdown",
      "metadata": {
        "id": "4yixi7bxZn-a",
        "colab_type": "text"
      },
      "source": [
        "event_name을 더미화시키는데 RAM 과부화가 발생한다. 지역별로 쪼개서 csv를 다뤄야 할 것 같음."
      ]
    }
  ]
}